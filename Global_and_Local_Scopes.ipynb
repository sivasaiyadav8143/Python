{
  "nbformat": 4,
  "nbformat_minor": 0,
  "metadata": {
    "kernelspec": {
      "display_name": "Python 3",
      "language": "python",
      "name": "python3"
    },
    "language_info": {
      "codemirror_mode": {
        "name": "ipython",
        "version": 3
      },
      "file_extension": ".py",
      "mimetype": "text/x-python",
      "name": "python",
      "nbconvert_exporter": "python",
      "pygments_lexer": "ipython3",
      "version": "3.6.2"
    },
    "colab": {
      "name": "Global and Local Scopes.ipynb",
      "provenance": [],
      "include_colab_link": true
    }
  },
  "cells": [
    {
      "cell_type": "markdown",
      "metadata": {
        "id": "view-in-github",
        "colab_type": "text"
      },
      "source": [
        "<a href=\"https://colab.research.google.com/github/sivasaiyadav8143/Python/blob/master/Global_and_Local_Scopes.ipynb\" target=\"_parent\"><img src=\"https://colab.research.google.com/assets/colab-badge.svg\" alt=\"Open In Colab\"/></a>"
      ]
    },
    {
      "cell_type": "markdown",
      "metadata": {
        "id": "bpbYqRNOHOur",
        "colab_type": "text"
      },
      "source": [
        "### Global and Local Scopes"
      ]
    },
    {
      "cell_type": "markdown",
      "metadata": {
        "id": "hKPNRB7dHOuv",
        "colab_type": "text"
      },
      "source": [
        "In Python the **global** scope refers to the **module** scope.\n",
        "\n",
        "The scope of a variable is normally defined by **where** it is (lexically) defined in the code."
      ]
    },
    {
      "cell_type": "code",
      "metadata": {
        "id": "tcqsUpP-HOuw",
        "colab_type": "code",
        "colab": {}
      },
      "source": [
        "a = 10"
      ],
      "execution_count": null,
      "outputs": []
    },
    {
      "cell_type": "markdown",
      "metadata": {
        "id": "-GQoCj_zHOu6",
        "colab_type": "text"
      },
      "source": [
        "In this case, **a** is defined inside the main module, so it is a global variable."
      ]
    },
    {
      "cell_type": "code",
      "metadata": {
        "id": "QqIivsoOHOu9",
        "colab_type": "code",
        "colab": {}
      },
      "source": [
        "def my_func(n):\n",
        "    c = n ** 2\n",
        "    return c"
      ],
      "execution_count": null,
      "outputs": []
    },
    {
      "cell_type": "markdown",
      "metadata": {
        "id": "YK2D37LqHOvD",
        "colab_type": "text"
      },
      "source": [
        "In this case, **c** was defined inside the function **my_func**, so it is **local** to the function **my_func**. In this example, **n** is also **local** to **my_func**"
      ]
    },
    {
      "cell_type": "markdown",
      "metadata": {
        "id": "_4UyZ7EwHOvE",
        "colab_type": "text"
      },
      "source": [
        "Global variables can be accessed from any inner scope in the module, for example:"
      ]
    },
    {
      "cell_type": "code",
      "metadata": {
        "id": "hU_mLHfDHOvF",
        "colab_type": "code",
        "colab": {}
      },
      "source": [
        "def my_func(n):\n",
        "    print('global:', a)\n",
        "    c = a ** n\n",
        "    return c"
      ],
      "execution_count": null,
      "outputs": []
    },
    {
      "cell_type": "code",
      "metadata": {
        "id": "SKjM4f0NHOvL",
        "colab_type": "code",
        "colab": {},
        "outputId": "b92d19ad-1b5e-447e-9bc4-d62bab83e46b"
      },
      "source": [
        "my_func(2)"
      ],
      "execution_count": null,
      "outputs": [
        {
          "output_type": "stream",
          "text": [
            "global: 10\n"
          ],
          "name": "stdout"
        },
        {
          "output_type": "execute_result",
          "data": {
            "text/plain": [
              "100"
            ]
          },
          "metadata": {
            "tags": []
          },
          "execution_count": 4
        }
      ]
    },
    {
      "cell_type": "markdown",
      "metadata": {
        "id": "zb2DBJ6DHOvS",
        "colab_type": "text"
      },
      "source": [
        "As you can see, **my_func** was able to reference the global variable **a**."
      ]
    },
    {
      "cell_type": "markdown",
      "metadata": {
        "id": "5N9D4eQ2HOvT",
        "colab_type": "text"
      },
      "source": [
        "But remember that the scope of a variable is determined by where it is assigned. In particular, any variable defined (i.e. assigned a value) inside a function is local to that function, even if the variable name happens to be global too!"
      ]
    },
    {
      "cell_type": "code",
      "metadata": {
        "id": "-0nWv9dvHOvU",
        "colab_type": "code",
        "colab": {}
      },
      "source": [
        "def my_func(n):\n",
        "    a = 2\n",
        "    c = a ** 2\n",
        "    return c"
      ],
      "execution_count": null,
      "outputs": []
    },
    {
      "cell_type": "code",
      "metadata": {
        "id": "3sPLOyjZHOvb",
        "colab_type": "code",
        "colab": {},
        "outputId": "c2e65788-a135-450c-ee61-9f25b0b13c15"
      },
      "source": [
        "print(a)\n",
        "print(my_func(3))\n",
        "print(a)"
      ],
      "execution_count": null,
      "outputs": [
        {
          "output_type": "stream",
          "text": [
            "10\n",
            "4\n",
            "10\n"
          ],
          "name": "stdout"
        }
      ]
    },
    {
      "cell_type": "markdown",
      "metadata": {
        "id": "XmcdubR_HOvj",
        "colab_type": "text"
      },
      "source": [
        "In order to change the value of a global variable within an inner scope, we can use the **global** keyword as follows:"
      ]
    },
    {
      "cell_type": "code",
      "metadata": {
        "id": "JIg8qa8PHOvk",
        "colab_type": "code",
        "colab": {}
      },
      "source": [
        "def my_func(n):\n",
        "    global a\n",
        "    a = 2\n",
        "    c = a ** 2\n",
        "    return c"
      ],
      "execution_count": null,
      "outputs": []
    },
    {
      "cell_type": "code",
      "metadata": {
        "id": "yQ-7Fc1ZHOvp",
        "colab_type": "code",
        "colab": {},
        "outputId": "0ab4ea92-9579-49e2-9b0c-1ad6b7c43734"
      },
      "source": [
        "print(a)\n",
        "print(my_func(3))\n",
        "print(a)"
      ],
      "execution_count": null,
      "outputs": [
        {
          "output_type": "stream",
          "text": [
            "10\n",
            "4\n",
            "2\n"
          ],
          "name": "stdout"
        }
      ]
    },
    {
      "cell_type": "markdown",
      "metadata": {
        "id": "P1eH2RQrHOvy",
        "colab_type": "text"
      },
      "source": [
        "As you can see, the value of the global variable **a** was changed from within **my_func**."
      ]
    },
    {
      "cell_type": "markdown",
      "metadata": {
        "id": "5FyZI1wkHOvz",
        "colab_type": "text"
      },
      "source": [
        "In fact, we can **create** global variables from within an inner function - Python will simply create the variable and place it in the **global** scope instead of the **local scope**:"
      ]
    },
    {
      "cell_type": "code",
      "metadata": {
        "id": "3jfgIAdYHOv0",
        "colab_type": "code",
        "colab": {}
      },
      "source": [
        "def my_func(n):\n",
        "    global var\n",
        "    var = 'hello world'\n",
        "    return n ** 2"
      ],
      "execution_count": null,
      "outputs": []
    },
    {
      "cell_type": "markdown",
      "metadata": {
        "id": "igHHmxz0HOv5",
        "colab_type": "text"
      },
      "source": [
        "Now, **var** does not exist yet, since the function has not run:"
      ]
    },
    {
      "cell_type": "code",
      "metadata": {
        "id": "u4mEuRZMHOv6",
        "colab_type": "code",
        "colab": {},
        "outputId": "4a2e9196-0a30-4862-b1a0-f89e9f17281f"
      },
      "source": [
        "print(var)"
      ],
      "execution_count": null,
      "outputs": [
        {
          "output_type": "error",
          "ename": "NameError",
          "evalue": "name 'var' is not defined",
          "traceback": [
            "\u001b[1;31m---------------------------------------------------------------------------\u001b[0m",
            "\u001b[1;31mNameError\u001b[0m                                 Traceback (most recent call last)",
            "\u001b[1;32m<ipython-input-10-571cba235a7f>\u001b[0m in \u001b[0;36m<module>\u001b[1;34m()\u001b[0m\n\u001b[1;32m----> 1\u001b[1;33m \u001b[0mprint\u001b[0m\u001b[1;33m(\u001b[0m\u001b[0mvar\u001b[0m\u001b[1;33m)\u001b[0m\u001b[1;33m\u001b[0m\u001b[0m\n\u001b[0m",
            "\u001b[1;31mNameError\u001b[0m: name 'var' is not defined"
          ]
        }
      ]
    },
    {
      "cell_type": "markdown",
      "metadata": {
        "id": "dwmwJAN1HOwC",
        "colab_type": "text"
      },
      "source": [
        "Once we call the function though, it will create that global **var**:"
      ]
    },
    {
      "cell_type": "code",
      "metadata": {
        "id": "mhqNhoPjHOwD",
        "colab_type": "code",
        "colab": {},
        "outputId": "d3e28c5e-297a-4806-f39f-28d476696908"
      },
      "source": [
        "my_func(2)"
      ],
      "execution_count": null,
      "outputs": [
        {
          "output_type": "execute_result",
          "data": {
            "text/plain": [
              "4"
            ]
          },
          "metadata": {
            "tags": []
          },
          "execution_count": 11
        }
      ]
    },
    {
      "cell_type": "code",
      "metadata": {
        "id": "KXtshF-gHOwJ",
        "colab_type": "code",
        "colab": {},
        "outputId": "7785772c-92c6-428e-bfef-e56d4ed8ba38"
      },
      "source": [
        "print(var)"
      ],
      "execution_count": null,
      "outputs": [
        {
          "output_type": "stream",
          "text": [
            "hello world\n"
          ],
          "name": "stdout"
        }
      ]
    },
    {
      "cell_type": "markdown",
      "metadata": {
        "collapsed": true,
        "id": "eVnFljJLHOwQ",
        "colab_type": "text"
      },
      "source": [
        "#### Beware!!"
      ]
    },
    {
      "cell_type": "markdown",
      "metadata": {
        "id": "jL_gsQlGHOwR",
        "colab_type": "text"
      },
      "source": [
        "Remember that whenever you assign a value to a variable without having specified the variable as **global**, it is **local** in the current scope. **Moreover**, it does not matter **where** the assignment in the code takes place, the variable is considered local in the **entire** scope - Python determines the scope of objects at compile-time, not at run-time."
      ]
    },
    {
      "cell_type": "markdown",
      "metadata": {
        "id": "LKiAZOqbHOwT",
        "colab_type": "text"
      },
      "source": [
        "Let's see an example of this:"
      ]
    },
    {
      "cell_type": "code",
      "metadata": {
        "id": "Uhdu35HZHOwT",
        "colab_type": "code",
        "colab": {}
      },
      "source": [
        "a = 10\n",
        "b = 100"
      ],
      "execution_count": null,
      "outputs": []
    },
    {
      "cell_type": "code",
      "metadata": {
        "id": "oJGkMJuoHOwY",
        "colab_type": "code",
        "colab": {}
      },
      "source": [
        "def my_func():\n",
        "    print(a)\n",
        "    print(b)\n",
        "    "
      ],
      "execution_count": null,
      "outputs": []
    },
    {
      "cell_type": "code",
      "metadata": {
        "id": "KaaOboCFHOwe",
        "colab_type": "code",
        "colab": {},
        "outputId": "b363fda4-be41-45ca-ce32-a8109ac8b0c4"
      },
      "source": [
        "my_func()"
      ],
      "execution_count": null,
      "outputs": [
        {
          "output_type": "stream",
          "text": [
            "10\n",
            "100\n"
          ],
          "name": "stdout"
        }
      ]
    },
    {
      "cell_type": "markdown",
      "metadata": {
        "id": "idTgZa4WHOwj",
        "colab_type": "text"
      },
      "source": [
        "So, this works as expected - **a** and **b** are taken from the global scope since they are referenced **before** being assigned a value in the local scope.\n",
        "\n",
        "But now consider the following example:"
      ]
    },
    {
      "cell_type": "code",
      "metadata": {
        "id": "NGLSPfDBHOwk",
        "colab_type": "code",
        "colab": {}
      },
      "source": [
        "a = 10\n",
        "b = 100\n",
        "\n",
        "def my_func():\n",
        "    print(a)\n",
        "    print(b)\n",
        "    b = 1000"
      ],
      "execution_count": null,
      "outputs": []
    },
    {
      "cell_type": "code",
      "metadata": {
        "id": "hKw5nFBPHOwo",
        "colab_type": "code",
        "colab": {},
        "outputId": "b37df4ac-bb71-4d3b-ff28-00cde37da9de"
      },
      "source": [
        "my_func()"
      ],
      "execution_count": null,
      "outputs": [
        {
          "output_type": "stream",
          "text": [
            "10\n"
          ],
          "name": "stdout"
        },
        {
          "output_type": "error",
          "ename": "UnboundLocalError",
          "evalue": "local variable 'b' referenced before assignment",
          "traceback": [
            "\u001b[1;31m---------------------------------------------------------------------------\u001b[0m",
            "\u001b[1;31mUnboundLocalError\u001b[0m                         Traceback (most recent call last)",
            "\u001b[1;32m<ipython-input-17-d82eda95de40>\u001b[0m in \u001b[0;36m<module>\u001b[1;34m()\u001b[0m\n\u001b[1;32m----> 1\u001b[1;33m \u001b[0mmy_func\u001b[0m\u001b[1;33m(\u001b[0m\u001b[1;33m)\u001b[0m\u001b[1;33m\u001b[0m\u001b[0m\n\u001b[0m",
            "\u001b[1;32m<ipython-input-16-a2b60f95cac1>\u001b[0m in \u001b[0;36mmy_func\u001b[1;34m()\u001b[0m\n\u001b[0;32m      4\u001b[0m \u001b[1;32mdef\u001b[0m \u001b[0mmy_func\u001b[0m\u001b[1;33m(\u001b[0m\u001b[1;33m)\u001b[0m\u001b[1;33m:\u001b[0m\u001b[1;33m\u001b[0m\u001b[0m\n\u001b[0;32m      5\u001b[0m     \u001b[0mprint\u001b[0m\u001b[1;33m(\u001b[0m\u001b[0ma\u001b[0m\u001b[1;33m)\u001b[0m\u001b[1;33m\u001b[0m\u001b[0m\n\u001b[1;32m----> 6\u001b[1;33m     \u001b[0mprint\u001b[0m\u001b[1;33m(\u001b[0m\u001b[0mb\u001b[0m\u001b[1;33m)\u001b[0m\u001b[1;33m\u001b[0m\u001b[0m\n\u001b[0m\u001b[0;32m      7\u001b[0m     \u001b[0mb\u001b[0m \u001b[1;33m=\u001b[0m \u001b[1;36m1000\u001b[0m\u001b[1;33m\u001b[0m\u001b[0m\n",
            "\u001b[1;31mUnboundLocalError\u001b[0m: local variable 'b' referenced before assignment"
          ]
        }
      ]
    },
    {
      "cell_type": "markdown",
      "metadata": {
        "id": "HAMR6Mt2HOws",
        "colab_type": "text"
      },
      "source": [
        "As you can see, **b** in the line ``print(b)`` is considered a **local** variable - that's because the **next** line **assigns** a value to **b** - hence **b** is scoped as local by Python for the **entire** function."
      ]
    },
    {
      "cell_type": "markdown",
      "metadata": {
        "id": "X3l4Y8ulHOwu",
        "colab_type": "text"
      },
      "source": [
        "Of course, functions are also objects, and scoping applies equally to function objects too. For example, we can \"mask\" the built-in `print` Python function:"
      ]
    },
    {
      "cell_type": "code",
      "metadata": {
        "scrolled": false,
        "id": "5c8ys0QuHOww",
        "colab_type": "code",
        "colab": {},
        "outputId": "3f60463f-109c-4f36-d07b-ab85d2cbd857"
      },
      "source": [
        "print = lambda x: 'hello {0}!'.format(x)\n",
        "\n",
        "def my_func(name):\n",
        "\treturn print(name)\n",
        "\n",
        "my_func('world')\n"
      ],
      "execution_count": null,
      "outputs": [
        {
          "output_type": "execute_result",
          "data": {
            "text/plain": [
              "'hello world!'"
            ]
          },
          "metadata": {
            "tags": []
          },
          "execution_count": 18
        }
      ]
    },
    {
      "cell_type": "markdown",
      "metadata": {
        "id": "NWKh0SThHOw1",
        "colab_type": "text"
      },
      "source": [
        "You may be wondering how we get our **real** ``print`` function back!"
      ]
    },
    {
      "cell_type": "code",
      "metadata": {
        "id": "_KG_UZ7lHOw2",
        "colab_type": "code",
        "colab": {}
      },
      "source": [
        "del print"
      ],
      "execution_count": null,
      "outputs": []
    },
    {
      "cell_type": "code",
      "metadata": {
        "id": "DZEdtueVHOw6",
        "colab_type": "code",
        "colab": {},
        "outputId": "26090240-5f22-4185-b6b8-450d971e3e4c"
      },
      "source": [
        "print('hello')"
      ],
      "execution_count": null,
      "outputs": [
        {
          "output_type": "stream",
          "text": [
            "hello\n"
          ],
          "name": "stdout"
        }
      ]
    },
    {
      "cell_type": "markdown",
      "metadata": {
        "collapsed": true,
        "id": "Dxv4aeh8HOxC",
        "colab_type": "text"
      },
      "source": [
        "If you have experience in some other programming languages you may be wondering if loops and other code \"blocks\" have their own local scope too. For example in Java, the following would not work:"
      ]
    },
    {
      "cell_type": "markdown",
      "metadata": {
        "id": "C_jB4XBLHOxD",
        "colab_type": "text"
      },
      "source": [
        "``for (int i=0; i<10; i++) {\n",
        "    int x = 2 * i;\n",
        "}\n",
        "system.out.println(x);\n",
        "``"
      ]
    },
    {
      "cell_type": "markdown",
      "metadata": {
        "id": "iaIZd1x3HOxE",
        "colab_type": "text"
      },
      "source": [
        "But in Python it works perfectly fine:"
      ]
    },
    {
      "cell_type": "code",
      "metadata": {
        "id": "qYspHxyAHOxF",
        "colab_type": "code",
        "colab": {},
        "outputId": "091e6184-b772-4160-babc-7f9079c4af85"
      },
      "source": [
        "for i in range(10):\n",
        "    x = 2 * i\n",
        "print(x)"
      ],
      "execution_count": null,
      "outputs": [
        {
          "output_type": "stream",
          "text": [
            "18\n"
          ],
          "name": "stdout"
        }
      ]
    },
    {
      "cell_type": "markdown",
      "metadata": {
        "id": "NYrPMTJ4HOxL",
        "colab_type": "text"
      },
      "source": [
        "In this case, when we assigned a value to `x`, Python put it in the global (module) scope, so we can reference it after the `for` loop has finished running."
      ]
    }
  ]
}