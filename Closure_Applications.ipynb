{
  "nbformat": 4,
  "nbformat_minor": 0,
  "metadata": {
    "kernelspec": {
      "display_name": "Python 3",
      "language": "python",
      "name": "python3"
    },
    "language_info": {
      "codemirror_mode": {
        "name": "ipython",
        "version": 3
      },
      "file_extension": ".py",
      "mimetype": "text/x-python",
      "name": "python",
      "nbconvert_exporter": "python",
      "pygments_lexer": "ipython3",
      "version": "3.6.2"
    },
    "colab": {
      "name": "Closure Applications 1.ipynb",
      "provenance": [],
      "include_colab_link": true
    }
  },
  "cells": [
    {
      "cell_type": "markdown",
      "metadata": {
        "id": "view-in-github",
        "colab_type": "text"
      },
      "source": [
        "<a href=\"https://colab.research.google.com/github/sivasaiyadav8143/Python/blob/master/Closure_Applications.ipynb\" target=\"_parent\"><img src=\"https://colab.research.google.com/assets/colab-badge.svg\" alt=\"Open In Colab\"/></a>"
      ]
    },
    {
      "cell_type": "markdown",
      "metadata": {
        "id": "4e_Khy0FqmE-"
      },
      "source": [
        "### Closure Applications"
      ]
    },
    {
      "cell_type": "markdown",
      "metadata": {
        "id": "m7H_FUw-qmFB"
      },
      "source": [
        "In this example we are going to build an averager function that can average multiple values.\n",
        "\n",
        "We want to simply be able to feed numbers to that function and get a running average over time, not average a list which requires performing the same calculations (sum and count) over and over again."
      ]
    },
    {
      "cell_type": "code",
      "metadata": {
        "id": "Mh4d1D78qmFE"
      },
      "source": [
        "class Averager:\n",
        "    def __init__(self):\n",
        "        self.numbers = []\n",
        "    \n",
        "    def add(self, number):\n",
        "        self.numbers.append(number)\n",
        "        total = sum(self.numbers)\n",
        "        count = len(self.numbers)\n",
        "        return total / count"
      ],
      "execution_count": null,
      "outputs": []
    },
    {
      "cell_type": "code",
      "metadata": {
        "id": "Qq_yF-eeqmFL"
      },
      "source": [
        "a = Averager()"
      ],
      "execution_count": null,
      "outputs": []
    },
    {
      "cell_type": "code",
      "metadata": {
        "id": "UeZVOobGqmFP",
        "outputId": "878a4305-4716-431b-a620-bda51ea7703f"
      },
      "source": [
        "a.add(10)"
      ],
      "execution_count": null,
      "outputs": [
        {
          "output_type": "execute_result",
          "data": {
            "text/plain": [
              "10.0"
            ]
          },
          "metadata": {
            "tags": []
          },
          "execution_count": 3
        }
      ]
    },
    {
      "cell_type": "code",
      "metadata": {
        "id": "CEuonIXgqmFV",
        "outputId": "48072fc1-22cf-4b8b-d5ff-f7e8d2b4056c"
      },
      "source": [
        "a.add(20)"
      ],
      "execution_count": null,
      "outputs": [
        {
          "output_type": "execute_result",
          "data": {
            "text/plain": [
              "15.0"
            ]
          },
          "metadata": {
            "tags": []
          },
          "execution_count": 4
        }
      ]
    },
    {
      "cell_type": "code",
      "metadata": {
        "id": "OjaccgZNqmFY",
        "outputId": "411763c8-1bf1-4844-ccdc-7e993bc1592e"
      },
      "source": [
        "a.add(30)"
      ],
      "execution_count": null,
      "outputs": [
        {
          "output_type": "execute_result",
          "data": {
            "text/plain": [
              "20.0"
            ]
          },
          "metadata": {
            "tags": []
          },
          "execution_count": 5
        }
      ]
    },
    {
      "cell_type": "markdown",
      "metadata": {
        "id": "mhPooStqqmFa"
      },
      "source": [
        "We can do this using a closure as follows:"
      ]
    },
    {
      "cell_type": "code",
      "metadata": {
        "id": "hpm_DuZgqmFb"
      },
      "source": [
        "def averager():\n",
        "    numbers = []\n",
        "    def add(number):\n",
        "        numbers.append(number)\n",
        "        total = sum(numbers)\n",
        "        count = len(numbers)\n",
        "        return total / count\n",
        "    return add"
      ],
      "execution_count": null,
      "outputs": []
    },
    {
      "cell_type": "code",
      "metadata": {
        "id": "o6LAxggUqmFe"
      },
      "source": [
        "a = averager()"
      ],
      "execution_count": null,
      "outputs": []
    },
    {
      "cell_type": "code",
      "metadata": {
        "id": "0A2r_nZaqmFi",
        "outputId": "cfe2c8c9-0184-4565-839d-7909a8db2809",
        "colab": {
          "base_uri": "https://localhost:8080/",
          "height": 34
        }
      },
      "source": [
        "a(10)"
      ],
      "execution_count": null,
      "outputs": [
        {
          "output_type": "execute_result",
          "data": {
            "text/plain": [
              "10.0"
            ]
          },
          "metadata": {
            "tags": []
          },
          "execution_count": 7
        }
      ]
    },
    {
      "cell_type": "code",
      "metadata": {
        "id": "TT5bySwwqmFl",
        "outputId": "0d03f2a3-d23f-496f-fea3-3cb0541bc4d7",
        "colab": {
          "base_uri": "https://localhost:8080/",
          "height": 34
        }
      },
      "source": [
        "a(20)"
      ],
      "execution_count": null,
      "outputs": [
        {
          "output_type": "execute_result",
          "data": {
            "text/plain": [
              "15.0"
            ]
          },
          "metadata": {
            "tags": []
          },
          "execution_count": 8
        }
      ]
    },
    {
      "cell_type": "code",
      "metadata": {
        "id": "_xfQ3smjqmFo",
        "outputId": "82eb1a0f-93af-4496-c63f-d60ea58e94f5",
        "colab": {
          "base_uri": "https://localhost:8080/",
          "height": 34
        }
      },
      "source": [
        "a(30)"
      ],
      "execution_count": null,
      "outputs": [
        {
          "output_type": "execute_result",
          "data": {
            "text/plain": [
              "20.0"
            ]
          },
          "metadata": {
            "tags": []
          },
          "execution_count": 9
        }
      ]
    },
    {
      "cell_type": "code",
      "metadata": {
        "id": "kNCZJL6MsIij"
      },
      "source": [
        "b = averager()"
      ],
      "execution_count": null,
      "outputs": []
    },
    {
      "cell_type": "code",
      "metadata": {
        "id": "78FNRiFIsI8-",
        "outputId": "f294fb20-e76b-4ecd-f3ba-fc3243e132bc",
        "colab": {
          "base_uri": "https://localhost:8080/",
          "height": 34
        }
      },
      "source": [
        "b(10)"
      ],
      "execution_count": null,
      "outputs": [
        {
          "output_type": "execute_result",
          "data": {
            "text/plain": [
              "10.0"
            ]
          },
          "metadata": {
            "tags": []
          },
          "execution_count": 11
        }
      ]
    },
    {
      "cell_type": "code",
      "metadata": {
        "id": "1JJ3zfnBsITE",
        "outputId": "851b5686-0587-45c3-e8e9-8287dcb718c0",
        "colab": {
          "base_uri": "https://localhost:8080/",
          "height": 34
        }
      },
      "source": [
        "b(30)"
      ],
      "execution_count": null,
      "outputs": [
        {
          "output_type": "execute_result",
          "data": {
            "text/plain": [
              "20.0"
            ]
          },
          "metadata": {
            "tags": []
          },
          "execution_count": 12
        }
      ]
    },
    {
      "cell_type": "code",
      "metadata": {
        "id": "GR1VD_ggsggt",
        "outputId": "47f151fa-f123-4ccd-94c2-0b4ec9803778",
        "colab": {
          "base_uri": "https://localhost:8080/",
          "height": 51
        }
      },
      "source": [
        "a.__closure__ , b.__closure__"
      ],
      "execution_count": null,
      "outputs": [
        {
          "output_type": "execute_result",
          "data": {
            "text/plain": [
              "((<cell at 0x7f1fba8374c8: list object at 0x7f1fba894f48>,),\n",
              " (<cell at 0x7f1fba837948: list object at 0x7f1fb9ff1588>,))"
            ]
          },
          "metadata": {
            "tags": []
          },
          "execution_count": 13
        }
      ]
    },
    {
      "cell_type": "markdown",
      "metadata": {
        "id": "IO9tyY-JqmFq"
      },
      "source": [
        "Now, instead of storing a list and reclaculating `total` and `count` every time to get the new average, we are going to store the running total and count and update each value each time a new value is added to the running average, and then return `total / count`.\n",
        "\n",
        "Let's start with a class approach first, where we will use instance variables to store the running total and count and provide an instance method to add a new number and return the current average."
      ]
    },
    {
      "cell_type": "code",
      "metadata": {
        "id": "EFapKCoPqmFr"
      },
      "source": [
        "class Averager:\n",
        "    def __init__(self):\n",
        "        self._count = 0\n",
        "        self._total = 0\n",
        "    \n",
        "    def add(self, value):\n",
        "        self._total += value\n",
        "        self._count += 1\n",
        "        return self._total / self._count"
      ],
      "execution_count": null,
      "outputs": []
    },
    {
      "cell_type": "code",
      "metadata": {
        "id": "8z9DSOj9qmFv"
      },
      "source": [
        "a = Averager()"
      ],
      "execution_count": null,
      "outputs": []
    },
    {
      "cell_type": "code",
      "metadata": {
        "id": "3Wc9LZWpqmFy",
        "outputId": "8006c0bb-f6a5-46bf-e5af-4e5635de5660"
      },
      "source": [
        "a.add(10)"
      ],
      "execution_count": null,
      "outputs": [
        {
          "output_type": "execute_result",
          "data": {
            "text/plain": [
              "10.0"
            ]
          },
          "metadata": {
            "tags": []
          },
          "execution_count": 13
        }
      ]
    },
    {
      "cell_type": "code",
      "metadata": {
        "id": "w9do1iydqmF6",
        "outputId": "d4dd4efd-dabd-43b3-8c50-555653f9178e"
      },
      "source": [
        "a.add(20)"
      ],
      "execution_count": null,
      "outputs": [
        {
          "output_type": "execute_result",
          "data": {
            "text/plain": [
              "15.0"
            ]
          },
          "metadata": {
            "tags": []
          },
          "execution_count": 14
        }
      ]
    },
    {
      "cell_type": "code",
      "metadata": {
        "id": "p-eFup-SqmF9",
        "outputId": "5a3a102d-3d79-4a4d-a56c-49d643de0d42"
      },
      "source": [
        "a.add(30)"
      ],
      "execution_count": null,
      "outputs": [
        {
          "output_type": "execute_result",
          "data": {
            "text/plain": [
              "20.0"
            ]
          },
          "metadata": {
            "tags": []
          },
          "execution_count": 15
        }
      ]
    },
    {
      "cell_type": "markdown",
      "metadata": {
        "id": "uGCWDLOGqmGA"
      },
      "source": [
        "Now, let's see how we might use a closure to achieve the same thing."
      ]
    },
    {
      "cell_type": "code",
      "metadata": {
        "id": "d6C16S_zqmGB"
      },
      "source": [
        "def averager():\n",
        "    total = 0\n",
        "    count = 0\n",
        "    \n",
        "    def add(value):\n",
        "        total += value\n",
        "        count += 1\n",
        "        return 0 if count == 0 else total / count\n",
        "    \n",
        "    return add\n",
        "        "
      ],
      "execution_count": null,
      "outputs": []
    },
    {
      "cell_type": "code",
      "metadata": {
        "id": "EROn5i9VqmGE"
      },
      "source": [
        "a = averager()"
      ],
      "execution_count": null,
      "outputs": []
    },
    {
      "cell_type": "code",
      "metadata": {
        "id": "Je84uHqhwNbJ",
        "outputId": "dd4e0ddc-8d01-4aef-cf84-c59597a4c2e4",
        "colab": {
          "base_uri": "https://localhost:8080/",
          "height": 34
        }
      },
      "source": [
        "a.__code__.co_freevars"
      ],
      "execution_count": null,
      "outputs": [
        {
          "output_type": "execute_result",
          "data": {
            "text/plain": [
              "()"
            ]
          },
          "metadata": {
            "tags": []
          },
          "execution_count": 16
        }
      ]
    },
    {
      "cell_type": "markdown",
      "metadata": {
        "id": "e1wuifCSwRby"
      },
      "source": [
        "The output showed zero free variables, but closure has two (total and count), zero coz the nested func has two assignments for total and count,now they are local variables to add(), not free variables anymore, inorder to fix this we should use nonlocal keyword to make them freevariables."
      ]
    },
    {
      "cell_type": "code",
      "metadata": {
        "id": "-U4PkenTwIlS"
      },
      "source": [
        "def averager():\n",
        "    total = 0\n",
        "    count = 0\n",
        "    \n",
        "    def add(value):\n",
        "        nonlocal total, count\n",
        "        total += value\n",
        "        count += 1\n",
        "        return 0 if count == 0 else total / count\n",
        "    \n",
        "    return add"
      ],
      "execution_count": null,
      "outputs": []
    },
    {
      "cell_type": "code",
      "metadata": {
        "id": "isc866khwIBp"
      },
      "source": [
        "a = averager()"
      ],
      "execution_count": null,
      "outputs": []
    },
    {
      "cell_type": "code",
      "metadata": {
        "id": "VBy7-FTyxDq9",
        "outputId": "9d893e55-a62a-470b-f7c6-77aa76578ccf",
        "colab": {
          "base_uri": "https://localhost:8080/",
          "height": 34
        }
      },
      "source": [
        "a.__code__.co_freevars"
      ],
      "execution_count": null,
      "outputs": [
        {
          "output_type": "execute_result",
          "data": {
            "text/plain": [
              "('count', 'total')"
            ]
          },
          "metadata": {
            "tags": []
          },
          "execution_count": 19
        }
      ]
    },
    {
      "cell_type": "code",
      "metadata": {
        "id": "TwX8udD8xGx9",
        "outputId": "e908351a-37ad-4522-9678-a8dd5a85d656",
        "colab": {
          "base_uri": "https://localhost:8080/",
          "height": 51
        }
      },
      "source": [
        "a.__closure__"
      ],
      "execution_count": null,
      "outputs": [
        {
          "output_type": "execute_result",
          "data": {
            "text/plain": [
              "(<cell at 0x7f1fb2329f18: int object at 0xa68aa0>,\n",
              " <cell at 0x7f1fb2329c18: int object at 0xa68aa0>)"
            ]
          },
          "metadata": {
            "tags": []
          },
          "execution_count": 20
        }
      ]
    },
    {
      "cell_type": "code",
      "metadata": {
        "id": "0VxuH1k1qmGI",
        "outputId": "3e1cecba-5760-48ea-d0cf-745d9dbbcd0c"
      },
      "source": [
        "a(10)"
      ],
      "execution_count": null,
      "outputs": [
        {
          "output_type": "execute_result",
          "data": {
            "text/plain": [
              "10.0"
            ]
          },
          "metadata": {
            "tags": []
          },
          "execution_count": 18
        }
      ]
    },
    {
      "cell_type": "code",
      "metadata": {
        "id": "CMFSzaQNqmGK",
        "outputId": "c41f6070-0b5e-4459-a6cc-34baa5feac02"
      },
      "source": [
        "a(20)"
      ],
      "execution_count": null,
      "outputs": [
        {
          "output_type": "execute_result",
          "data": {
            "text/plain": [
              "15.0"
            ]
          },
          "metadata": {
            "tags": []
          },
          "execution_count": 19
        }
      ]
    },
    {
      "cell_type": "code",
      "metadata": {
        "id": "UDWPlNYEqmGM",
        "outputId": "7828fbdb-6ea7-44fd-bb17-3af4a0692ed8"
      },
      "source": [
        "a(30)"
      ],
      "execution_count": null,
      "outputs": [
        {
          "output_type": "execute_result",
          "data": {
            "text/plain": [
              "20.0"
            ]
          },
          "metadata": {
            "tags": []
          },
          "execution_count": 20
        }
      ]
    },
    {
      "cell_type": "markdown",
      "metadata": {
        "id": "Bs5ZEC8WqmGO"
      },
      "source": [
        "#### Generalizing this example"
      ]
    },
    {
      "cell_type": "markdown",
      "metadata": {
        "id": "OwUuIXKvqmGP"
      },
      "source": [
        "We saw that we were essentially able to convert a class to an equivalent functionality using closures. This is actually true in a much more general sense - very often, classes that define a single method (other than initializers) can be implemented using a closure instead.\n",
        "\n",
        "Let's look at another example of this."
      ]
    },
    {
      "cell_type": "markdown",
      "metadata": {
        "id": "HavaqJcTqmGP"
      },
      "source": [
        "Suppose we want something that can keep track of the running elapsed time in seconds."
      ]
    },
    {
      "cell_type": "code",
      "metadata": {
        "id": "p4sXKLgmqmGQ"
      },
      "source": [
        "from time import perf_counter"
      ],
      "execution_count": null,
      "outputs": []
    },
    {
      "cell_type": "code",
      "metadata": {
        "id": "y6ebngHiqmGS"
      },
      "source": [
        "class Timer:\n",
        "    def __init__(self):\n",
        "        self._start = perf_counter()\n",
        "    \n",
        "    def __call__(self):\n",
        "        return (perf_counter() - self._start)"
      ],
      "execution_count": null,
      "outputs": []
    },
    {
      "cell_type": "code",
      "metadata": {
        "id": "2dkPfN7vqmGV"
      },
      "source": [
        "a = Timer()"
      ],
      "execution_count": null,
      "outputs": []
    },
    {
      "cell_type": "markdown",
      "metadata": {
        "id": "4IiPKBi3qmGZ"
      },
      "source": [
        "Now wait a bit before running the next line of code:"
      ]
    },
    {
      "cell_type": "code",
      "metadata": {
        "id": "mJMB0YeoqmGa",
        "outputId": "d0d3206e-c453-4680-b609-472899356d11"
      },
      "source": [
        "a()"
      ],
      "execution_count": null,
      "outputs": [
        {
          "output_type": "execute_result",
          "data": {
            "text/plain": [
              "0.011695334544051804"
            ]
          },
          "metadata": {
            "tags": []
          },
          "execution_count": 24
        }
      ]
    },
    {
      "cell_type": "markdown",
      "metadata": {
        "id": "4VCfn0uOqmGd"
      },
      "source": [
        "Let's start another \"timer\":"
      ]
    },
    {
      "cell_type": "code",
      "metadata": {
        "id": "sYvpvRPcqmGd"
      },
      "source": [
        "b = Timer()"
      ],
      "execution_count": null,
      "outputs": []
    },
    {
      "cell_type": "code",
      "metadata": {
        "id": "4Hac8YawqmGf",
        "outputId": "b77f6e7d-faba-4853-eec2-daef97a93e03"
      },
      "source": [
        "print(a())\n",
        "print(b())"
      ],
      "execution_count": null,
      "outputs": [
        {
          "output_type": "stream",
          "text": [
            "0.03528294403966765\n",
            "0.011656054820407689\n"
          ],
          "name": "stdout"
        }
      ]
    },
    {
      "cell_type": "markdown",
      "metadata": {
        "id": "epErlwDmqmGh"
      },
      "source": [
        "Now let's rewrite this using a closure instead:"
      ]
    },
    {
      "cell_type": "code",
      "metadata": {
        "id": "K5iU8rYOqmGi"
      },
      "source": [
        "def timer():\n",
        "    start = perf_counter()\n",
        "    \n",
        "    def elapsed():\n",
        "        # we don't even need to make start nonlocal \n",
        "        # since we are only reading it\n",
        "        return perf_counter() - start\n",
        "    \n",
        "    return elapsed"
      ],
      "execution_count": null,
      "outputs": []
    },
    {
      "cell_type": "code",
      "metadata": {
        "id": "R1tBYweAqmGk"
      },
      "source": [
        "x = timer()"
      ],
      "execution_count": null,
      "outputs": []
    },
    {
      "cell_type": "code",
      "metadata": {
        "id": "cm-05jugqmGo",
        "outputId": "d0491d04-2ec5-4924-dcdd-df83fd842c82"
      },
      "source": [
        "x()"
      ],
      "execution_count": null,
      "outputs": [
        {
          "output_type": "execute_result",
          "data": {
            "text/plain": [
              "0.011068213438975016"
            ]
          },
          "metadata": {
            "tags": []
          },
          "execution_count": 29
        }
      ]
    },
    {
      "cell_type": "code",
      "metadata": {
        "id": "vNf18F5EqmGq"
      },
      "source": [
        "y = timer()"
      ],
      "execution_count": null,
      "outputs": []
    },
    {
      "cell_type": "code",
      "metadata": {
        "id": "ZE-ZMKYgqmGs",
        "outputId": "addd4252-1dd0-4c6b-a02d-846d241b527d"
      },
      "source": [
        "print(x())\n",
        "print(y())"
      ],
      "execution_count": null,
      "outputs": [
        {
          "output_type": "stream",
          "text": [
            "0.03419096772236116\n",
            "0.01164738619174141\n"
          ],
          "name": "stdout"
        }
      ]
    },
    {
      "cell_type": "code",
      "metadata": {
        "id": "SPyHWnbnqmGu",
        "outputId": "a275cb95-fa02-4f3a-8c91-b49266a774ef"
      },
      "source": [
        "print(a())\n",
        "print(b())\n",
        "print(x())\n",
        "print(y())"
      ],
      "execution_count": null,
      "outputs": [
        {
          "output_type": "stream",
          "text": [
            "0.10822159832175349\n",
            "0.08475345336494494\n",
            "0.0462381944113351\n",
            "0.023573252079387305\n"
          ],
          "name": "stdout"
        }
      ]
    },
    {
      "cell_type": "code",
      "metadata": {
        "id": "48qvOiFU63Kl"
      },
      "source": [
        ""
      ],
      "execution_count": null,
      "outputs": []
    },
    {
      "cell_type": "markdown",
      "metadata": {
        "id": "-IL--8oJ61DO"
      },
      "source": [
        "Let's write a small function that can increment a counter for us - we don't have an incrementor in Python (the ++ operator in Java or C++ for example):"
      ]
    },
    {
      "cell_type": "code",
      "metadata": {
        "id": "4VJ7UX9WqmGw"
      },
      "source": [
        "def counter(initial_value):\n",
        "    # initial_value is a local variable here\n",
        "    \n",
        "    def inc(increment=1):\n",
        "        nonlocal initial_value\n",
        "        # initial_value is a nonlocal (captured) variable here\n",
        "        initial_value += increment\n",
        "        return initial_value\n",
        "    \n",
        "    return inc"
      ],
      "execution_count": null,
      "outputs": []
    },
    {
      "cell_type": "code",
      "metadata": {
        "id": "t2ttpRNY66-x"
      },
      "source": [
        "counter1 = counter(0)"
      ],
      "execution_count": null,
      "outputs": []
    },
    {
      "cell_type": "code",
      "metadata": {
        "id": "wBl-ojo-6816",
        "outputId": "8468ccf3-39cc-4446-eff0-c6fda4de8c48",
        "colab": {
          "base_uri": "https://localhost:8080/",
          "height": 34
        }
      },
      "source": [
        "print(counter1(0))"
      ],
      "execution_count": null,
      "outputs": [
        {
          "output_type": "stream",
          "text": [
            "0\n"
          ],
          "name": "stdout"
        }
      ]
    },
    {
      "cell_type": "code",
      "metadata": {
        "id": "USagh2re6-pE",
        "outputId": "12b1f988-0a0d-49eb-9c81-bbe349745895",
        "colab": {
          "base_uri": "https://localhost:8080/",
          "height": 34
        }
      },
      "source": [
        "print(counter1())"
      ],
      "execution_count": null,
      "outputs": [
        {
          "output_type": "stream",
          "text": [
            "1\n"
          ],
          "name": "stdout"
        }
      ]
    },
    {
      "cell_type": "code",
      "metadata": {
        "id": "AZuLFvPD7CtS",
        "outputId": "36fc5963-1bb2-4987-c6e4-e3a960cd49a1",
        "colab": {
          "base_uri": "https://localhost:8080/",
          "height": 34
        }
      },
      "source": [
        "print(counter1(10))"
      ],
      "execution_count": null,
      "outputs": [
        {
          "output_type": "stream",
          "text": [
            "11\n"
          ],
          "name": "stdout"
        }
      ]
    },
    {
      "cell_type": "code",
      "metadata": {
        "id": "oxEkLBQk9jNU"
      },
      "source": [
        "counter2 = counter(1000)"
      ],
      "execution_count": null,
      "outputs": []
    },
    {
      "cell_type": "code",
      "metadata": {
        "id": "apAeehK49jdf",
        "outputId": "b54603d6-c121-4005-c190-9aa1543aaf99",
        "colab": {
          "base_uri": "https://localhost:8080/",
          "height": 34
        }
      },
      "source": [
        "print(counter2(0))"
      ],
      "execution_count": null,
      "outputs": [
        {
          "output_type": "stream",
          "text": [
            "1000\n"
          ],
          "name": "stdout"
        }
      ]
    },
    {
      "cell_type": "code",
      "metadata": {
        "id": "Hzl7pf0M9i-p",
        "outputId": "08ba4c3f-8601-40b0-b6f8-ac3e0ebbfb9e",
        "colab": {
          "base_uri": "https://localhost:8080/",
          "height": 34
        }
      },
      "source": [
        "print(counter2(1))"
      ],
      "execution_count": null,
      "outputs": [
        {
          "output_type": "stream",
          "text": [
            "1001\n"
          ],
          "name": "stdout"
        }
      ]
    },
    {
      "cell_type": "markdown",
      "metadata": {
        "id": "elbSDENH9eg_"
      },
      "source": [
        "As you can see, each closure maintains a reference to the initial_value variable that was created when the counter function was called - each time that function was called, a new local variable initial_value was created (with a value assigned from the argument), and it became a nonlocal (captured) variable in the inner scope."
      ]
    },
    {
      "cell_type": "markdown",
      "metadata": {
        "id": "1Ozz2LZT93GD"
      },
      "source": [
        "Let's write a function something that can run, and maintain a count of how many times we have run some function."
      ]
    },
    {
      "cell_type": "code",
      "metadata": {
        "id": "tcJsVGD27HfL"
      },
      "source": [
        "def counter(fn):\n",
        "    cnt = 0  # initially fn has been run zero times\n",
        "    \n",
        "    def inner(*args, **kwargs):\n",
        "        nonlocal cnt\n",
        "        cnt = cnt + 1\n",
        "        print('{0} has been called {1} times'.format(fn.__name__, cnt))\n",
        "        return fn(*args, **kwargs)\n",
        "    \n",
        "    return inner"
      ],
      "execution_count": 31,
      "outputs": []
    },
    {
      "cell_type": "code",
      "metadata": {
        "id": "nMapOzCvC2kE"
      },
      "source": [
        "def add(a, b):\n",
        "    return a + b"
      ],
      "execution_count": 32,
      "outputs": []
    },
    {
      "cell_type": "code",
      "metadata": {
        "id": "msnDXAZ7C4DQ"
      },
      "source": [
        "counted_add = counter(add)"
      ],
      "execution_count": 33,
      "outputs": []
    },
    {
      "cell_type": "code",
      "metadata": {
        "id": "GFbtRugmC5jg",
        "outputId": "b1e03e59-8d3d-45de-c7a1-70042e5a0b77",
        "colab": {
          "base_uri": "https://localhost:8080/",
          "height": 34
        }
      },
      "source": [
        "#  the free variables are:\n",
        "counted_add.__code__.co_freevars "
      ],
      "execution_count": 34,
      "outputs": [
        {
          "output_type": "execute_result",
          "data": {
            "text/plain": [
              "('cnt', 'fn')"
            ]
          },
          "metadata": {
            "tags": []
          },
          "execution_count": 34
        }
      ]
    },
    {
      "cell_type": "code",
      "metadata": {
        "id": "AzQ56ySdC-vh",
        "outputId": "116e2ffd-890d-41d0-8a6f-b5e0e6111f52",
        "colab": {
          "base_uri": "https://localhost:8080/",
          "height": 51
        }
      },
      "source": [
        "counted_add(1, 2)"
      ],
      "execution_count": 35,
      "outputs": [
        {
          "output_type": "stream",
          "text": [
            "add has been called 1 times\n"
          ],
          "name": "stdout"
        },
        {
          "output_type": "execute_result",
          "data": {
            "text/plain": [
              "3"
            ]
          },
          "metadata": {
            "tags": []
          },
          "execution_count": 35
        }
      ]
    },
    {
      "cell_type": "code",
      "metadata": {
        "id": "6PVz-NkODQi6",
        "outputId": "13d91c03-9327-4955-fe9a-344e1929ae52",
        "colab": {
          "base_uri": "https://localhost:8080/",
          "height": 51
        }
      },
      "source": [
        "counted_add(2, 3)"
      ],
      "execution_count": 36,
      "outputs": [
        {
          "output_type": "stream",
          "text": [
            "add has been called 2 times\n"
          ],
          "name": "stdout"
        },
        {
          "output_type": "execute_result",
          "data": {
            "text/plain": [
              "5"
            ]
          },
          "metadata": {
            "tags": []
          },
          "execution_count": 36
        }
      ]
    },
    {
      "cell_type": "code",
      "metadata": {
        "id": "wdORo_LzDSsZ"
      },
      "source": [
        "def mult(a, b, c):\n",
        "    return a * b * c"
      ],
      "execution_count": 37,
      "outputs": []
    },
    {
      "cell_type": "code",
      "metadata": {
        "id": "QUMyh9gKDUgu"
      },
      "source": [
        "counted_mult = counter(mult)"
      ],
      "execution_count": 38,
      "outputs": []
    },
    {
      "cell_type": "code",
      "metadata": {
        "id": "qoUHIwiBDao4",
        "outputId": "e558a471-e57e-4cd6-b938-be11058d3c51",
        "colab": {
          "base_uri": "https://localhost:8080/",
          "height": 34
        }
      },
      "source": [
        "counted_mult.__code__.co_freevars "
      ],
      "execution_count": 40,
      "outputs": [
        {
          "output_type": "execute_result",
          "data": {
            "text/plain": [
              "('cnt', 'fn')"
            ]
          },
          "metadata": {
            "tags": []
          },
          "execution_count": 40
        }
      ]
    },
    {
      "cell_type": "code",
      "metadata": {
        "id": "n_vc0-Y5Dio6",
        "outputId": "a36a57c3-9524-4f96-e33a-ad519eb9f3a4",
        "colab": {
          "base_uri": "https://localhost:8080/",
          "height": 51
        }
      },
      "source": [
        "counted_mult.__closure__"
      ],
      "execution_count": 41,
      "outputs": [
        {
          "output_type": "execute_result",
          "data": {
            "text/plain": [
              "(<cell at 0x7f1fb2300318: int object at 0xa68ac0>,\n",
              " <cell at 0x7f1fb23002e8: function object at 0x7f1fb2304ae8>)"
            ]
          },
          "metadata": {
            "tags": []
          },
          "execution_count": 41
        }
      ]
    },
    {
      "cell_type": "code",
      "metadata": {
        "id": "Pvt6-gJYDWac",
        "outputId": "d226d2d6-abe7-467a-fc0f-a1befb601128",
        "colab": {
          "base_uri": "https://localhost:8080/",
          "height": 51
        }
      },
      "source": [
        "counted_mult(1, 2, 3)"
      ],
      "execution_count": 39,
      "outputs": [
        {
          "output_type": "stream",
          "text": [
            "mult has been called 1 times\n"
          ],
          "name": "stdout"
        },
        {
          "output_type": "execute_result",
          "data": {
            "text/plain": [
              "6"
            ]
          },
          "metadata": {
            "tags": []
          },
          "execution_count": 39
        }
      ]
    },
    {
      "cell_type": "markdown",
      "metadata": {
        "id": "T-c0EhS4GHHF"
      },
      "source": [
        "Let's write a function that actually store the function name and the number of calls in a global dictionary instead of just printing it out all the time."
      ]
    },
    {
      "cell_type": "code",
      "metadata": {
        "id": "9VncZ8xxDYTk"
      },
      "source": [
        "counters = dict()\n",
        "\n",
        "def counter(fn):\n",
        "    cnt = 0  # initially fn has been run zero times\n",
        "    \n",
        "    def inner(*args, **kwargs):\n",
        "        nonlocal cnt\n",
        "        cnt = cnt + 1\n",
        "        global counter\n",
        "        counters[fn.__name__] = cnt  # counters is global\n",
        "        return fn(*args, **kwargs)\n",
        "    \n",
        "    return inner"
      ],
      "execution_count": 44,
      "outputs": []
    },
    {
      "cell_type": "code",
      "metadata": {
        "id": "UrH1xsnqGOen"
      },
      "source": [
        "counted_add = counter(add)\n",
        "counted_mult = counter(mult)"
      ],
      "execution_count": 45,
      "outputs": []
    },
    {
      "cell_type": "markdown",
      "metadata": {
        "id": "C-YsVhsaGZmE"
      },
      "source": [
        "counters is a global variable, and therefore not a free variable:"
      ]
    },
    {
      "cell_type": "code",
      "metadata": {
        "id": "GXXfk2vMGQGH",
        "outputId": "256c7bac-049f-4dda-9429-7fc24a42f0f4",
        "colab": {
          "base_uri": "https://localhost:8080/",
          "height": 34
        }
      },
      "source": [
        "counted_add.__code__.co_freevars, counted_mult.__code__.co_freevars"
      ],
      "execution_count": 47,
      "outputs": [
        {
          "output_type": "execute_result",
          "data": {
            "text/plain": [
              "(('cnt', 'fn'), ('cnt', 'fn'))"
            ]
          },
          "metadata": {
            "tags": []
          },
          "execution_count": 47
        }
      ]
    },
    {
      "cell_type": "code",
      "metadata": {
        "id": "UQMYbvplGecW",
        "outputId": "2f4e6ddd-7c11-41b0-bd52-2c733d89cc70",
        "colab": {
          "base_uri": "https://localhost:8080/",
          "height": 34
        }
      },
      "source": [
        "counted_add(1, 2)"
      ],
      "execution_count": 48,
      "outputs": [
        {
          "output_type": "execute_result",
          "data": {
            "text/plain": [
              "3"
            ]
          },
          "metadata": {
            "tags": []
          },
          "execution_count": 48
        }
      ]
    },
    {
      "cell_type": "code",
      "metadata": {
        "id": "KD0LGqHOGqOH",
        "outputId": "b247a92c-1e8e-4b71-bc15-dc697a095240",
        "colab": {
          "base_uri": "https://localhost:8080/",
          "height": 34
        }
      },
      "source": [
        "counted_add(2, 50)"
      ],
      "execution_count": 49,
      "outputs": [
        {
          "output_type": "execute_result",
          "data": {
            "text/plain": [
              "52"
            ]
          },
          "metadata": {
            "tags": []
          },
          "execution_count": 49
        }
      ]
    },
    {
      "cell_type": "code",
      "metadata": {
        "id": "d2Mi8xVCGsVA",
        "outputId": "f606310f-1d81-4af1-b1a1-bffed07a66f3",
        "colab": {
          "base_uri": "https://localhost:8080/",
          "height": 35
        }
      },
      "source": [
        "counted_mult(1, 2, 'python')"
      ],
      "execution_count": 52,
      "outputs": [
        {
          "output_type": "execute_result",
          "data": {
            "application/vnd.google.colaboratory.intrinsic+json": {
              "type": "string"
            },
            "text/plain": [
              "'pythonpython'"
            ]
          },
          "metadata": {
            "tags": []
          },
          "execution_count": 52
        }
      ]
    },
    {
      "cell_type": "code",
      "metadata": {
        "id": "FDabrsTkGwAa",
        "outputId": "b28cf765-0b60-4081-c4b0-31ffeefed560",
        "colab": {
          "base_uri": "https://localhost:8080/",
          "height": 35
        }
      },
      "source": [
        "counted_mult(2, 3, 'b')"
      ],
      "execution_count": 51,
      "outputs": [
        {
          "output_type": "execute_result",
          "data": {
            "application/vnd.google.colaboratory.intrinsic+json": {
              "type": "string"
            },
            "text/plain": [
              "'bbbbbb'"
            ]
          },
          "metadata": {
            "tags": []
          },
          "execution_count": 51
        }
      ]
    },
    {
      "cell_type": "code",
      "metadata": {
        "id": "e1bHovDAG5--",
        "outputId": "2ac621fc-2988-428e-c8cc-da9bd220fe9e",
        "colab": {
          "base_uri": "https://localhost:8080/",
          "height": 34
        }
      },
      "source": [
        "print(counters)"
      ],
      "execution_count": 53,
      "outputs": [
        {
          "output_type": "stream",
          "text": [
            "{'add': 2, 'mult': 3}\n"
          ],
          "name": "stdout"
        }
      ]
    },
    {
      "cell_type": "markdown",
      "metadata": {
        "id": "yFvVRK5mI5zY"
      },
      "source": [
        "Instead of creating the counters global variable first and making sure we are naming it that way, so instead, we're going to pass it as an argument to the counter function:"
      ]
    },
    {
      "cell_type": "code",
      "metadata": {
        "id": "SgexSpFnHAza"
      },
      "source": [
        "def counter(fn, counters):\n",
        "    cnt = 0  # initially fn has been run zero times\n",
        "    \n",
        "    def inner(*args, **kwargs):\n",
        "        nonlocal cnt\n",
        "        cnt = cnt + 1\n",
        "        counters[fn.__name__] = cnt  # counters is nonlocal\n",
        "        return fn(*args, **kwargs)\n",
        "    \n",
        "    return inner"
      ],
      "execution_count": 54,
      "outputs": []
    },
    {
      "cell_type": "code",
      "metadata": {
        "id": "PfPwJUMaJAzq"
      },
      "source": [
        "func_counters = dict()\n",
        "counted_add = counter(add, func_counters)\n",
        "counted_mult = counter(mult, func_counters)"
      ],
      "execution_count": 55,
      "outputs": []
    },
    {
      "cell_type": "code",
      "metadata": {
        "id": "NXUawQtmJCK0",
        "outputId": "997e8964-5299-4597-eb5d-cfffc8c3d52e",
        "colab": {
          "base_uri": "https://localhost:8080/",
          "height": 34
        }
      },
      "source": [
        "counted_add.__code__.co_freevars"
      ],
      "execution_count": 56,
      "outputs": [
        {
          "output_type": "execute_result",
          "data": {
            "text/plain": [
              "('cnt', 'counters', 'fn')"
            ]
          },
          "metadata": {
            "tags": []
          },
          "execution_count": 56
        }
      ]
    },
    {
      "cell_type": "markdown",
      "metadata": {
        "id": "XwNrtvfGJUkz"
      },
      "source": [
        "counters is now a free variable."
      ]
    },
    {
      "cell_type": "code",
      "metadata": {
        "id": "12FHjh0CJDip"
      },
      "source": [
        ""
      ],
      "execution_count": null,
      "outputs": []
    },
    {
      "cell_type": "markdown",
      "metadata": {
        "id": "tLHnWKNXKMkj"
      },
      "source": [
        "Lets write a small factorial function."
      ]
    },
    {
      "cell_type": "code",
      "metadata": {
        "id": "y0-oY7iPKQ2j"
      },
      "source": [
        "def fact(n):\n",
        "    product = 1\n",
        "    for i in range(2, n+1):\n",
        "        product *= i\n",
        "    return product"
      ],
      "execution_count": 57,
      "outputs": []
    },
    {
      "cell_type": "code",
      "metadata": {
        "id": "oR8tSTvnKTNf",
        "outputId": "8145cfae-c15e-4ed5-9884-6b55dfe1c2cd",
        "colab": {
          "base_uri": "https://localhost:8080/",
          "height": 34
        }
      },
      "source": [
        "fact(5)"
      ],
      "execution_count": 58,
      "outputs": [
        {
          "output_type": "execute_result",
          "data": {
            "text/plain": [
              "120"
            ]
          },
          "metadata": {
            "tags": []
          },
          "execution_count": 58
        }
      ]
    },
    {
      "cell_type": "code",
      "metadata": {
        "id": "nccMV0mNKUDb",
        "outputId": "6f72c1c0-11db-42ad-8ae9-140242ecb7e1",
        "colab": {
          "base_uri": "https://localhost:8080/",
          "height": 34
        }
      },
      "source": [
        "fact(4)"
      ],
      "execution_count": 59,
      "outputs": [
        {
          "output_type": "execute_result",
          "data": {
            "text/plain": [
              "24"
            ]
          },
          "metadata": {
            "tags": []
          },
          "execution_count": 59
        }
      ]
    },
    {
      "cell_type": "code",
      "metadata": {
        "id": "kZQONY13KVKj"
      },
      "source": [
        "fact = counter(fact, func_counters)"
      ],
      "execution_count": 60,
      "outputs": []
    },
    {
      "cell_type": "code",
      "metadata": {
        "id": "l2S4mM5sK7m4",
        "outputId": "d2c4a469-836b-41d9-9742-da9d1c2f3249",
        "colab": {
          "base_uri": "https://localhost:8080/",
          "height": 34
        }
      },
      "source": [
        "fact.__code__.co_freevars"
      ],
      "execution_count": 63,
      "outputs": [
        {
          "output_type": "execute_result",
          "data": {
            "text/plain": [
              "('cnt', 'counters', 'fn')"
            ]
          },
          "metadata": {
            "tags": []
          },
          "execution_count": 63
        }
      ]
    },
    {
      "cell_type": "code",
      "metadata": {
        "id": "tuwwrRQlLA4o",
        "outputId": "e2b895d3-9ac4-4974-9fb4-4f794feaa9fc",
        "colab": {
          "base_uri": "https://localhost:8080/",
          "height": 68
        }
      },
      "source": [
        "fact.__closure__"
      ],
      "execution_count": 64,
      "outputs": [
        {
          "output_type": "execute_result",
          "data": {
            "text/plain": [
              "(<cell at 0x7f1fb2300228: int object at 0xa68ae0>,\n",
              " <cell at 0x7f1fb23007f8: dict object at 0x7f1fb2305fc0>,\n",
              " <cell at 0x7f1fb2300b28: function object at 0x7f1fb22ffd90>)"
            ]
          },
          "metadata": {
            "tags": []
          },
          "execution_count": 64
        }
      ]
    },
    {
      "cell_type": "code",
      "metadata": {
        "id": "40TZKwDXKw1b",
        "outputId": "79bc3804-7c8a-40ca-ad51-a4c58528cfde",
        "colab": {
          "base_uri": "https://localhost:8080/",
          "height": 34
        }
      },
      "source": [
        "fact(5)"
      ],
      "execution_count": 61,
      "outputs": [
        {
          "output_type": "execute_result",
          "data": {
            "text/plain": [
              "120"
            ]
          },
          "metadata": {
            "tags": []
          },
          "execution_count": 61
        }
      ]
    },
    {
      "cell_type": "code",
      "metadata": {
        "id": "Hw_utqXrK0HB",
        "outputId": "42084869-f440-4387-cec7-36f01d242a67",
        "colab": {
          "base_uri": "https://localhost:8080/",
          "height": 34
        }
      },
      "source": [
        "fact(4)"
      ],
      "execution_count": 62,
      "outputs": [
        {
          "output_type": "execute_result",
          "data": {
            "text/plain": [
              "24"
            ]
          },
          "metadata": {
            "tags": []
          },
          "execution_count": 62
        }
      ]
    },
    {
      "cell_type": "code",
      "metadata": {
        "id": "66VH7LE6K2-N",
        "outputId": "9b92fb8c-86a1-49e7-ccb2-14b171ab077e",
        "colab": {
          "base_uri": "https://localhost:8080/",
          "height": 34
        }
      },
      "source": [
        "print(func_counters)"
      ],
      "execution_count": 65,
      "outputs": [
        {
          "output_type": "stream",
          "text": [
            "{'fact': 2}\n"
          ],
          "name": "stdout"
        }
      ]
    },
    {
      "cell_type": "markdown",
      "metadata": {
        "id": "M6696eYYLPgz"
      },
      "source": [
        "we have essentially added some functionality to our fact function, without modifying what the fact function actually returns."
      ]
    },
    {
      "cell_type": "code",
      "metadata": {
        "id": "4EHr7lxNLIm0"
      },
      "source": [
        ""
      ],
      "execution_count": null,
      "outputs": []
    }
  ]
}