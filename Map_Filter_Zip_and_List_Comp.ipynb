{
  "nbformat": 4,
  "nbformat_minor": 0,
  "metadata": {
    "kernelspec": {
      "display_name": "Python 3",
      "language": "python",
      "name": "python3"
    },
    "language_info": {
      "codemirror_mode": {
        "name": "ipython",
        "version": 3
      },
      "file_extension": ".py",
      "mimetype": "text/x-python",
      "name": "python",
      "nbconvert_exporter": "python",
      "pygments_lexer": "ipython3",
      "version": "3.6.2"
    },
    "colab": {
      "name": "Map, Filter, Zip and List Comp.ipynb",
      "provenance": [],
      "include_colab_link": true
    }
  },
  "cells": [
    {
      "cell_type": "markdown",
      "metadata": {
        "id": "view-in-github",
        "colab_type": "text"
      },
      "source": [
        "<a href=\"https://colab.research.google.com/github/sivasaiyadav8143/Python/blob/master/Map_Filter_Zip_and_List_Comp.ipynb\" target=\"_parent\"><img src=\"https://colab.research.google.com/assets/colab-badge.svg\" alt=\"Open In Colab\"/></a>"
      ]
    },
    {
      "cell_type": "markdown",
      "metadata": {
        "id": "ShjYEfCmavnp",
        "colab_type": "text"
      },
      "source": [
        "### Higher-Order Functions: Map and Filter"
      ]
    },
    {
      "cell_type": "markdown",
      "metadata": {
        "id": "K_oGHlwpavnq",
        "colab_type": "text"
      },
      "source": [
        "**Definition**: A function that takes another function as an argument, and/or returns a function as its return value"
      ]
    },
    {
      "cell_type": "markdown",
      "metadata": {
        "id": "ylgxNbm1avnr",
        "colab_type": "text"
      },
      "source": [
        "For example, the **sorted** function is a higher-order function as it takes a function as a parameter."
      ]
    },
    {
      "cell_type": "markdown",
      "metadata": {
        "id": "8l97hVbDavns",
        "colab_type": "text"
      },
      "source": [
        "#### Map"
      ]
    },
    {
      "cell_type": "markdown",
      "metadata": {
        "id": "akWxSqozavns",
        "colab_type": "text"
      },
      "source": [
        "The **map** built-in function is a higher-order function that applies a function to an iterable type object:"
      ]
    },
    {
      "cell_type": "code",
      "metadata": {
        "id": "_bg7CCOGavnt",
        "colab_type": "code",
        "colab": {},
        "outputId": "13253558-77cb-42ae-bb47-bac19302aaf0"
      },
      "source": [
        "help(map)"
      ],
      "execution_count": null,
      "outputs": [
        {
          "output_type": "stream",
          "text": [
            "Help on class map in module builtins:\n",
            "\n",
            "class map(object)\n",
            " |  map(func, *iterables) --> map object\n",
            " |  \n",
            " |  Make an iterator that computes the function using arguments from\n",
            " |  each of the iterables.  Stops when the shortest iterable is exhausted.\n",
            " |  \n",
            " |  Methods defined here:\n",
            " |  \n",
            " |  __getattribute__(self, name, /)\n",
            " |      Return getattr(self, name).\n",
            " |  \n",
            " |  __iter__(self, /)\n",
            " |      Implement iter(self).\n",
            " |  \n",
            " |  __new__(*args, **kwargs) from builtins.type\n",
            " |      Create and return a new object.  See help(type) for accurate signature.\n",
            " |  \n",
            " |  __next__(self, /)\n",
            " |      Implement next(self).\n",
            " |  \n",
            " |  __reduce__(...)\n",
            " |      Return state information for pickling.\n",
            "\n"
          ],
          "name": "stdout"
        }
      ]
    },
    {
      "cell_type": "code",
      "metadata": {
        "id": "6TPwXoVUavnx",
        "colab_type": "code",
        "colab": {}
      },
      "source": [
        "def fact(n):\n",
        "    return 1 if n < 2 else n * fact(n-1)"
      ],
      "execution_count": null,
      "outputs": []
    },
    {
      "cell_type": "code",
      "metadata": {
        "id": "sbo0hCamavn0",
        "colab_type": "code",
        "colab": {},
        "outputId": "fb734f04-d338-4cff-e281-48241f6ebb76"
      },
      "source": [
        "fact(3)"
      ],
      "execution_count": null,
      "outputs": [
        {
          "output_type": "execute_result",
          "data": {
            "text/plain": [
              "6"
            ]
          },
          "metadata": {
            "tags": []
          },
          "execution_count": 3
        }
      ]
    },
    {
      "cell_type": "code",
      "metadata": {
        "id": "IeC4BMawavn3",
        "colab_type": "code",
        "colab": {},
        "outputId": "46498b08-be88-45e7-a1e9-fceb362f1354"
      },
      "source": [
        "fact(4)"
      ],
      "execution_count": null,
      "outputs": [
        {
          "output_type": "execute_result",
          "data": {
            "text/plain": [
              "24"
            ]
          },
          "metadata": {
            "tags": []
          },
          "execution_count": 4
        }
      ]
    },
    {
      "cell_type": "code",
      "metadata": {
        "id": "0m9lsIpjavn6",
        "colab_type": "code",
        "colab": {},
        "outputId": "795260ef-3cf0-4235-bade-bb03a8ec551d"
      },
      "source": [
        "map(fact, [1, 2, 3, 4, 5])"
      ],
      "execution_count": null,
      "outputs": [
        {
          "output_type": "execute_result",
          "data": {
            "text/plain": [
              "<map at 0x23b123a3978>"
            ]
          },
          "metadata": {
            "tags": []
          },
          "execution_count": 5
        }
      ]
    },
    {
      "cell_type": "markdown",
      "metadata": {
        "id": "hb_ApcDgavn9",
        "colab_type": "text"
      },
      "source": [
        "The **map** function returns a **map** object, which is an **iterable** - we can either convert that to a list or enumerate it:"
      ]
    },
    {
      "cell_type": "code",
      "metadata": {
        "id": "7CbBMYmFavn9",
        "colab_type": "code",
        "colab": {},
        "outputId": "54e07828-18c7-49a5-a725-4347e4a703f5"
      },
      "source": [
        "l = list(map(fact, [1, 2, 3, 4, 5]))\n",
        "print(l)"
      ],
      "execution_count": null,
      "outputs": [
        {
          "output_type": "stream",
          "text": [
            "[1, 2, 6, 24, 120]\n"
          ],
          "name": "stdout"
        }
      ]
    },
    {
      "cell_type": "markdown",
      "metadata": {
        "id": "buZ2CZidavoA",
        "colab_type": "text"
      },
      "source": [
        "We can also use it this way:"
      ]
    },
    {
      "cell_type": "code",
      "metadata": {
        "id": "z6m8ufpEavoB",
        "colab_type": "code",
        "colab": {},
        "outputId": "43d121a9-5f37-4694-ea05-13bcb4aeb494"
      },
      "source": [
        "l1 = [1, 2, 3, 4, 5]\n",
        "l2 = [10, 20, 30, 40, 50]\n",
        "\n",
        "f = lambda x, y: x+y\n",
        "\n",
        "m = map(f, l1, l2)\n",
        "list(m)"
      ],
      "execution_count": null,
      "outputs": [
        {
          "output_type": "execute_result",
          "data": {
            "text/plain": [
              "[11, 22, 33, 44, 55]"
            ]
          },
          "metadata": {
            "tags": []
          },
          "execution_count": 7
        }
      ]
    },
    {
      "cell_type": "markdown",
      "metadata": {
        "id": "C2BDvbvIavoD",
        "colab_type": "text"
      },
      "source": [
        "#### Filter"
      ]
    },
    {
      "cell_type": "code",
      "metadata": {
        "id": "JSaNjCYWavoE",
        "colab_type": "code",
        "colab": {},
        "outputId": "9efa89b0-eb68-4a13-9110-9dc4cf52d8af"
      },
      "source": [
        "help(filter)"
      ],
      "execution_count": null,
      "outputs": [
        {
          "output_type": "stream",
          "text": [
            "Help on class filter in module builtins:\n",
            "\n",
            "class filter(object)\n",
            " |  filter(function or None, iterable) --> filter object\n",
            " |  \n",
            " |  Return an iterator yielding those items of iterable for which function(item)\n",
            " |  is true. If function is None, return the items that are true.\n",
            " |  \n",
            " |  Methods defined here:\n",
            " |  \n",
            " |  __getattribute__(self, name, /)\n",
            " |      Return getattr(self, name).\n",
            " |  \n",
            " |  __iter__(self, /)\n",
            " |      Implement iter(self).\n",
            " |  \n",
            " |  __new__(*args, **kwargs) from builtins.type\n",
            " |      Create and return a new object.  See help(type) for accurate signature.\n",
            " |  \n",
            " |  __next__(self, /)\n",
            " |      Implement next(self).\n",
            " |  \n",
            " |  __reduce__(...)\n",
            " |      Return state information for pickling.\n",
            "\n"
          ],
          "name": "stdout"
        }
      ]
    },
    {
      "cell_type": "markdown",
      "metadata": {
        "id": "M_oRtaKkavoK",
        "colab_type": "text"
      },
      "source": [
        "The **filter** function is a function that filters an iterable based on the truthyness of the elements, or the truthyness of the elements after applying a function to them. Like the **map** function, the **filter** function returns an iterable that we can view by generating a list from it, or simply enumerating in a for loop."
      ]
    },
    {
      "cell_type": "code",
      "metadata": {
        "id": "yQyoH7IIavoK",
        "colab_type": "code",
        "colab": {},
        "outputId": "d0d2816f-2051-4312-e4da-db25c0817010"
      },
      "source": [
        "l = [0, 1, 2, 3, 4, 5, 6]\n",
        "for e in filter(None, l):\n",
        "    print(e)"
      ],
      "execution_count": null,
      "outputs": [
        {
          "output_type": "stream",
          "text": [
            "1\n",
            "2\n",
            "3\n",
            "4\n",
            "5\n",
            "6\n"
          ],
          "name": "stdout"
        }
      ]
    },
    {
      "cell_type": "markdown",
      "metadata": {
        "id": "-79Q9L2ZavoN",
        "colab_type": "text"
      },
      "source": [
        "Notice how **0** was eliminated from the list, since **0** is **falsy**."
      ]
    },
    {
      "cell_type": "markdown",
      "metadata": {
        "id": "8hCJSclSavoN",
        "colab_type": "text"
      },
      "source": [
        "We can use a function for this filtering.\n",
        "\n",
        "Suppose we want to filter out all odd values, only retaining even values:"
      ]
    },
    {
      "cell_type": "markdown",
      "metadata": {
        "id": "8SB04yQGavoO",
        "colab_type": "text"
      },
      "source": [
        "We could first define a function to return True if the value is even, and False otherwise:"
      ]
    },
    {
      "cell_type": "code",
      "metadata": {
        "id": "hof1cfnCavoP",
        "colab_type": "code",
        "colab": {}
      },
      "source": [
        "def is_even(n):\n",
        "    return n % 2 == 0"
      ],
      "execution_count": null,
      "outputs": []
    },
    {
      "cell_type": "code",
      "metadata": {
        "id": "r_6mn2LyavoS",
        "colab_type": "code",
        "colab": {},
        "outputId": "bbfc8d36-079a-4649-b772-c4e5c07058ea"
      },
      "source": [
        "l = [1, 2, 3, 4, 5, 6, 7, 8, 9]\n",
        "result = filter(is_even, l)\n",
        "print(list(result))"
      ],
      "execution_count": null,
      "outputs": [
        {
          "output_type": "stream",
          "text": [
            "[2, 4, 6, 8]\n"
          ],
          "name": "stdout"
        }
      ]
    },
    {
      "cell_type": "markdown",
      "metadata": {
        "id": "qScgSip7avoU",
        "colab_type": "text"
      },
      "source": [
        "Of course, we could just use a lambda expression instead:"
      ]
    },
    {
      "cell_type": "code",
      "metadata": {
        "id": "dyP4ntdWavoV",
        "colab_type": "code",
        "colab": {},
        "outputId": "22fb73d4-7711-40bc-bcd2-e8bed1256c80"
      },
      "source": [
        "l = [1, 2, 3, 4, 5, 6, 7, 8, 9]\n",
        "result = filter(lambda x: x % 2 == 0, l)\n",
        "print(list(result))"
      ],
      "execution_count": null,
      "outputs": [
        {
          "output_type": "stream",
          "text": [
            "[2, 4, 6, 8]\n"
          ],
          "name": "stdout"
        }
      ]
    },
    {
      "cell_type": "markdown",
      "metadata": {
        "id": "woAqZ5X8avoX",
        "colab_type": "text"
      },
      "source": [
        "#### Alternatives to **map** and **filter** using Comprehensions"
      ]
    },
    {
      "cell_type": "markdown",
      "metadata": {
        "id": "94GM_8gWavoY",
        "colab_type": "text"
      },
      "source": [
        "We can use comprehensions instead of the **map** and **filter** functions - you decide which one you find more readable and enjoyable to write."
      ]
    },
    {
      "cell_type": "markdown",
      "metadata": {
        "id": "7yd6nqkgavoZ",
        "colab_type": "text"
      },
      "source": [
        "##### Map using a list comprehension:"
      ]
    },
    {
      "cell_type": "markdown",
      "metadata": {
        "id": "0wb9ZS0iavoZ",
        "colab_type": "text"
      },
      "source": [
        "* factorial example"
      ]
    },
    {
      "cell_type": "code",
      "metadata": {
        "id": "LOY4t0aYavoa",
        "colab_type": "code",
        "colab": {},
        "outputId": "ba7a476f-73f7-494b-bfa5-4245e69c0d0c"
      },
      "source": [
        "l = [1, 2, 3, 4, 5]\n",
        "result = [fact(i) for i in l]\n",
        "print(result)"
      ],
      "execution_count": null,
      "outputs": [
        {
          "output_type": "stream",
          "text": [
            "[1, 2, 6, 24, 120]\n"
          ],
          "name": "stdout"
        }
      ]
    },
    {
      "cell_type": "markdown",
      "metadata": {
        "id": "Mg7io_Kqavoc",
        "colab_type": "text"
      },
      "source": [
        "* two iterables example"
      ]
    },
    {
      "cell_type": "markdown",
      "metadata": {
        "id": "qUpNCgw9avoc",
        "colab_type": "text"
      },
      "source": [
        "Before we do this example we need to know about the **zip** function.\n",
        "\n",
        "The **zip** built-in function will take one or more iterables, and generate an iterable of tuples where each tuple contains one element from each iterable:"
      ]
    },
    {
      "cell_type": "code",
      "metadata": {
        "id": "2fzi_WG4avod",
        "colab_type": "code",
        "colab": {},
        "outputId": "d621280a-662b-4192-cb63-f6aeb9231c01"
      },
      "source": [
        "l1 = 1, 2, 3\n",
        "l2 = 'a', 'b', 'c'\n",
        "list(zip(l1, l2))"
      ],
      "execution_count": null,
      "outputs": [
        {
          "output_type": "execute_result",
          "data": {
            "text/plain": [
              "[(1, 'a'), (2, 'b'), (3, 'c')]"
            ]
          },
          "metadata": {
            "tags": []
          },
          "execution_count": 14
        }
      ]
    },
    {
      "cell_type": "code",
      "metadata": {
        "id": "5y6331QYavog",
        "colab_type": "code",
        "colab": {},
        "outputId": "ea5508bb-8866-4b51-ffda-8c1907003002"
      },
      "source": [
        "l1 = 1, 2, 3\n",
        "l2 = [10, 20, 30]\n",
        "l3 = ('a', 'b', 'c')\n",
        "list(zip(l1, l2, l3))"
      ],
      "execution_count": null,
      "outputs": [
        {
          "output_type": "execute_result",
          "data": {
            "text/plain": [
              "[(1, 10, 'a'), (2, 20, 'b'), (3, 30, 'c')]"
            ]
          },
          "metadata": {
            "tags": []
          },
          "execution_count": 15
        }
      ]
    },
    {
      "cell_type": "code",
      "metadata": {
        "id": "setR_8Qfavoi",
        "colab_type": "code",
        "colab": {},
        "outputId": "62f67e2a-7e01-4c8e-c2db-9caa23cec0d5"
      },
      "source": [
        "l1 = [1, 2, 3]\n",
        "l2 = (10, 20, 30)\n",
        "l3 = 'abc'\n",
        "list(zip(l1, l2, l3))"
      ],
      "execution_count": null,
      "outputs": [
        {
          "output_type": "execute_result",
          "data": {
            "text/plain": [
              "[(1, 10, 'a'), (2, 20, 'b'), (3, 30, 'c')]"
            ]
          },
          "metadata": {
            "tags": []
          },
          "execution_count": 5
        }
      ]
    },
    {
      "cell_type": "code",
      "metadata": {
        "id": "RqJlqAJkavok",
        "colab_type": "code",
        "colab": {},
        "outputId": "8957a5c4-f8fe-4a14-af8f-99555281771b"
      },
      "source": [
        "l1 = range(100)\n",
        "l2 = 'python'\n",
        "list(zip(l1, l2))"
      ],
      "execution_count": null,
      "outputs": [
        {
          "output_type": "execute_result",
          "data": {
            "text/plain": [
              "[(0, 'p'), (1, 'y'), (2, 't'), (3, 'h'), (4, 'o'), (5, 'n')]"
            ]
          },
          "metadata": {
            "tags": []
          },
          "execution_count": 7
        }
      ]
    },
    {
      "cell_type": "markdown",
      "metadata": {
        "id": "yd9G9UoPavom",
        "colab_type": "text"
      },
      "source": [
        "Using the **zip** function we can now add our two lists element by element as follows:"
      ]
    },
    {
      "cell_type": "code",
      "metadata": {
        "id": "qROLa6ZWavom",
        "colab_type": "code",
        "colab": {},
        "outputId": "f589e177-fc3b-4db2-9202-ce32d9cc569e"
      },
      "source": [
        "l1 = [1, 2, 3, 4, 5]\n",
        "l2 = [10, 20, 30, 40, 50]\n",
        "result = [i + j for i,j in zip(l1,l2)]\n",
        "print(result)"
      ],
      "execution_count": null,
      "outputs": [
        {
          "output_type": "stream",
          "text": [
            "[11, 22, 33, 44, 55]\n"
          ],
          "name": "stdout"
        }
      ]
    },
    {
      "cell_type": "markdown",
      "metadata": {
        "id": "mhVWcVDlavoo",
        "colab_type": "text"
      },
      "source": [
        "##### Filtering using a comprehension"
      ]
    },
    {
      "cell_type": "markdown",
      "metadata": {
        "id": "HygloJB6avop",
        "colab_type": "text"
      },
      "source": [
        "We can very easily filter an iterable using a comprehension as follows:"
      ]
    },
    {
      "cell_type": "code",
      "metadata": {
        "id": "1XbJ0tEFavop",
        "colab_type": "code",
        "colab": {},
        "outputId": "4a6a4532-a844-4bee-fc81-3a09a9363657"
      },
      "source": [
        "l = [1, 2, 3, 4, 5, 6, 7, 8, 9]\n",
        "\n",
        "result = [i for i in l if i % 2 == 0]\n",
        "print(result)"
      ],
      "execution_count": null,
      "outputs": [
        {
          "output_type": "stream",
          "text": [
            "[2, 4, 6, 8]\n"
          ],
          "name": "stdout"
        }
      ]
    },
    {
      "cell_type": "markdown",
      "metadata": {
        "id": "2l72yaXEavor",
        "colab_type": "text"
      },
      "source": [
        "As you can see, we did not even need a lambda expression!"
      ]
    },
    {
      "cell_type": "markdown",
      "metadata": {
        "id": "rcS7QkGuavos",
        "colab_type": "text"
      },
      "source": [
        "#### Combining **map** and **filter**"
      ]
    },
    {
      "cell_type": "code",
      "metadata": {
        "id": "6tSoASVravos",
        "colab_type": "code",
        "colab": {},
        "outputId": "20eaf275-45db-41dd-ef11-39fa18380c9b"
      },
      "source": [
        "list(filter(lambda y: y < 25, map(lambda x: x**2, range(10))))"
      ],
      "execution_count": null,
      "outputs": [
        {
          "output_type": "execute_result",
          "data": {
            "text/plain": [
              "[0, 1, 4, 9, 16]"
            ]
          },
          "metadata": {
            "tags": []
          },
          "execution_count": 1
        }
      ]
    },
    {
      "cell_type": "markdown",
      "metadata": {
        "id": "LkdnZzZzavov",
        "colab_type": "text"
      },
      "source": [
        "Alternatively, we can use a list comprehension to do the same thing:"
      ]
    },
    {
      "cell_type": "code",
      "metadata": {
        "id": "h0Z5X2XOavov",
        "colab_type": "code",
        "colab": {},
        "outputId": "8ba648fd-190a-4f8b-a222-92fd13f365b1"
      },
      "source": [
        "[x**2 for x in range(10) if x**2 < 25]"
      ],
      "execution_count": null,
      "outputs": [
        {
          "output_type": "execute_result",
          "data": {
            "text/plain": [
              "[0, 1, 4, 9, 16]"
            ]
          },
          "metadata": {
            "tags": []
          },
          "execution_count": 2
        }
      ]
    }
  ]
}