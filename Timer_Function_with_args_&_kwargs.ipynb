{
  "nbformat": 4,
  "nbformat_minor": 0,
  "metadata": {
    "kernelspec": {
      "display_name": "Python 3",
      "language": "python",
      "name": "python3"
    },
    "language_info": {
      "codemirror_mode": {
        "name": "ipython",
        "version": 3
      },
      "file_extension": ".py",
      "mimetype": "text/x-python",
      "name": "python",
      "nbconvert_exporter": "python",
      "pygments_lexer": "ipython3",
      "version": "3.6.1"
    },
    "colab": {
      "name": "Timer Function with *args & **kwargs.ipynb",
      "provenance": [],
      "include_colab_link": true
    }
  },
  "cells": [
    {
      "cell_type": "markdown",
      "metadata": {
        "id": "view-in-github",
        "colab_type": "text"
      },
      "source": [
        "<a href=\"https://colab.research.google.com/github/sivasaiyadav8143/Python/blob/master/Timer_Function_with_args_%26_kwargs.ipynb\" target=\"_parent\"><img src=\"https://colab.research.google.com/assets/colab-badge.svg\" alt=\"Open In Colab\"/></a>"
      ]
    },
    {
      "cell_type": "markdown",
      "metadata": {
        "id": "qfYgixF6anbN",
        "colab_type": "text"
      },
      "source": [
        "### A Simple Function Timer"
      ]
    },
    {
      "cell_type": "markdown",
      "metadata": {
        "id": "16MQnOaVanbQ",
        "colab_type": "text"
      },
      "source": [
        "We want to create a simple function that can time how fast a function runs.\n",
        "\n",
        "We want this function to be generic in the sense that it can be used to time any function (along with it's positional and keyword arguments), as well as specifying the number of the times the function should be timed, and the returns the average of the timings."
      ]
    },
    {
      "cell_type": "markdown",
      "metadata": {
        "id": "XGC5ClYDanbR",
        "colab_type": "text"
      },
      "source": [
        "We'll call our function **time_it**, and it will need to have the following parameters:\n",
        "\n",
        "* the function we want to time\n",
        "* the positional arguments of the function we want to time (if any)\n",
        "* the keyword-only arguments of the function we want to time (if any)\n",
        "* the number of times we want to run this function"
      ]
    },
    {
      "cell_type": "code",
      "metadata": {
        "id": "I203m56AanbT",
        "colab_type": "code",
        "colab": {}
      },
      "source": [
        "import time"
      ],
      "execution_count": null,
      "outputs": []
    },
    {
      "cell_type": "code",
      "metadata": {
        "id": "BnWqDqVEanbc",
        "colab_type": "code",
        "colab": {}
      },
      "source": [
        "def time_it(fn, *args, rep=5, **kwargs):\n",
        "    print(args, rep, kwargs)"
      ],
      "execution_count": null,
      "outputs": []
    },
    {
      "cell_type": "markdown",
      "metadata": {
        "id": "1ObjUa_lanbk",
        "colab_type": "text"
      },
      "source": [
        "Now we could the function this way:"
      ]
    },
    {
      "cell_type": "code",
      "metadata": {
        "id": "cVkiBVE8anbl",
        "colab_type": "code",
        "colab": {},
        "outputId": "9c7127ba-6ea6-4118-cf69-093445ec91a5"
      },
      "source": [
        "time_it(print, 1, 2, 3, sep='-')"
      ],
      "execution_count": null,
      "outputs": [
        {
          "output_type": "stream",
          "text": [
            "(1, 2, 3) 5 {'sep': '-'}\n"
          ],
          "name": "stdout"
        }
      ]
    },
    {
      "cell_type": "markdown",
      "metadata": {
        "id": "3anrh7Uianbx",
        "colab_type": "text"
      },
      "source": [
        "Let's modify our function to actually run the print function with any positional and keyword args (except for rep) passed to it:"
      ]
    },
    {
      "cell_type": "code",
      "metadata": {
        "id": "qfxVIV8danby",
        "colab_type": "code",
        "colab": {}
      },
      "source": [
        "def time_it(fn, *args, rep=5, **kwargs):\n",
        "    for i in range(rep):\n",
        "        fn(*args, **kwargs)"
      ],
      "execution_count": null,
      "outputs": []
    },
    {
      "cell_type": "code",
      "metadata": {
        "id": "3pgRKnv7anb2",
        "colab_type": "code",
        "colab": {},
        "outputId": "f57feb8e-5fc5-4d52-a92c-a4aa3a1af5f8"
      },
      "source": [
        "time_it(print, 1, 2, 3, sep='-')"
      ],
      "execution_count": null,
      "outputs": [
        {
          "output_type": "stream",
          "text": [
            "1-2-3\n",
            "1-2-3\n",
            "1-2-3\n",
            "1-2-3\n",
            "1-2-3\n"
          ],
          "name": "stdout"
        }
      ]
    },
    {
      "cell_type": "markdown",
      "metadata": {
        "id": "08wdaZ45anb7",
        "colab_type": "text"
      },
      "source": [
        "As you can see **1, 2, 3** was passed to the **print** function's positional parameters, and the keyword_only arg **sep** was also passed to it. \n",
        "\n",
        "We can even add more arguments:"
      ]
    },
    {
      "cell_type": "code",
      "metadata": {
        "id": "ro8vTmT3anb8",
        "colab_type": "code",
        "colab": {},
        "outputId": "d5ac6e68-085e-4876-9069-173adb80721b"
      },
      "source": [
        "time_it(print, 1, 2, 3, sep='-', end=' *** ', rep=3)"
      ],
      "execution_count": null,
      "outputs": [
        {
          "output_type": "stream",
          "text": [
            "1-2-3 *** 1-2-3 *** 1-2-3 *** "
          ],
          "name": "stdout"
        }
      ]
    },
    {
      "cell_type": "markdown",
      "metadata": {
        "id": "NNJtZlx9ancB",
        "colab_type": "text"
      },
      "source": [
        "Now all that's really left for us to do is to time the function and return the average time:"
      ]
    },
    {
      "cell_type": "code",
      "metadata": {
        "id": "CXgkIjJUancB",
        "colab_type": "code",
        "colab": {}
      },
      "source": [
        "def time_it(fn, *args, rep=5, **kwargs):\n",
        "    start = time.perf_counter()\n",
        "    for i in range(rep):\n",
        "        fn(*args, **kwargs)\n",
        "    end = time.perf_counter()\n",
        "    return (end - start) / rep"
      ],
      "execution_count": null,
      "outputs": []
    },
    {
      "cell_type": "markdown",
      "metadata": {
        "id": "L4qcKRkbancE",
        "colab_type": "text"
      },
      "source": [
        "Let's write a few functions we might want to time:"
      ]
    },
    {
      "cell_type": "markdown",
      "metadata": {
        "id": "ABYGLznzancF",
        "colab_type": "text"
      },
      "source": [
        "We'll create three functions that all do the same thing: calculate powers of n**k for k in some range of integer values"
      ]
    },
    {
      "cell_type": "code",
      "metadata": {
        "id": "FCAviMpGancF",
        "colab_type": "code",
        "colab": {}
      },
      "source": [
        "def compute_powers_1(n, *, start=1, end):\n",
        "    # using a for loop\n",
        "    results = []\n",
        "    for i in range(start, end):\n",
        "        results.append(n**i)\n",
        "    return results"
      ],
      "execution_count": null,
      "outputs": []
    },
    {
      "cell_type": "code",
      "metadata": {
        "id": "1q1bG5hvancI",
        "colab_type": "code",
        "colab": {}
      },
      "source": [
        "def compute_powers_2(n, *, start=1, end):\n",
        "    # using a list comprehension\n",
        "    return [n**i for i in range(start, end)]"
      ],
      "execution_count": null,
      "outputs": []
    },
    {
      "cell_type": "code",
      "metadata": {
        "id": "hmiqrJJRancL",
        "colab_type": "code",
        "colab": {}
      },
      "source": [
        "def compute_powers_3(n, *, start=1, end):\n",
        "    # using a generator expression\n",
        "    return (n**i for i in range(start, end))"
      ],
      "execution_count": null,
      "outputs": []
    },
    {
      "cell_type": "markdown",
      "metadata": {
        "id": "zZwo6RVYancN",
        "colab_type": "text"
      },
      "source": [
        "Let's run these functions and see the results:"
      ]
    },
    {
      "cell_type": "code",
      "metadata": {
        "id": "MMcH8fa0ancO",
        "colab_type": "code",
        "colab": {},
        "outputId": "45facd51-e8ad-4f7f-d524-065d2d7bc3d2"
      },
      "source": [
        "compute_powers_1(2, end=5)"
      ],
      "execution_count": null,
      "outputs": [
        {
          "output_type": "execute_result",
          "data": {
            "text/plain": [
              "[2, 4, 8, 16]"
            ]
          },
          "metadata": {
            "tags": []
          },
          "execution_count": 24
        }
      ]
    },
    {
      "cell_type": "code",
      "metadata": {
        "id": "cY9v1IPXancQ",
        "colab_type": "code",
        "colab": {},
        "outputId": "5b20d0ab-871b-42fc-9e12-7a1041f6674a"
      },
      "source": [
        "compute_powers_2(2, end=5)"
      ],
      "execution_count": null,
      "outputs": [
        {
          "output_type": "execute_result",
          "data": {
            "text/plain": [
              "[2, 4, 8, 16]"
            ]
          },
          "metadata": {
            "tags": []
          },
          "execution_count": 25
        }
      ]
    },
    {
      "cell_type": "code",
      "metadata": {
        "id": "9M1Ps5KGancU",
        "colab_type": "code",
        "colab": {},
        "outputId": "3ba182f6-4714-42c1-99ef-1c3d6f057e63"
      },
      "source": [
        "list(compute_powers_3(2, end=5))"
      ],
      "execution_count": null,
      "outputs": [
        {
          "output_type": "execute_result",
          "data": {
            "text/plain": [
              "[2, 4, 8, 16]"
            ]
          },
          "metadata": {
            "tags": []
          },
          "execution_count": 26
        }
      ]
    },
    {
      "cell_type": "markdown",
      "metadata": {
        "id": "EArTc9G8ancX",
        "colab_type": "text"
      },
      "source": [
        "Finally let's run these functions through our **time_it** function and see the results:"
      ]
    },
    {
      "cell_type": "code",
      "metadata": {
        "id": "tfwphmYhancX",
        "colab_type": "code",
        "colab": {},
        "outputId": "87e1bda0-e32c-45d0-9158-e9e778d7cb96"
      },
      "source": [
        "time_it(compute_powers_1, n=2, end=20000, rep=4)"
      ],
      "execution_count": null,
      "outputs": [
        {
          "output_type": "execute_result",
          "data": {
            "text/plain": [
              "2.5798198230283234"
            ]
          },
          "metadata": {
            "tags": []
          },
          "execution_count": 36
        }
      ]
    },
    {
      "cell_type": "code",
      "metadata": {
        "id": "qQpapZnUanca",
        "colab_type": "code",
        "colab": {},
        "outputId": "c570db35-eb6b-433d-9787-dd9884c5c2b6"
      },
      "source": [
        "time_it(compute_powers_2, 2, end=20000, rep=4)"
      ],
      "execution_count": null,
      "outputs": [
        {
          "output_type": "execute_result",
          "data": {
            "text/plain": [
              "2.3151767636341347"
            ]
          },
          "metadata": {
            "tags": []
          },
          "execution_count": 37
        }
      ]
    },
    {
      "cell_type": "code",
      "metadata": {
        "id": "vJ60o0U5ancc",
        "colab_type": "code",
        "colab": {},
        "outputId": "fa8586da-5356-447b-88e3-ada40589bc42"
      },
      "source": [
        "time_it(compute_powers_3, 2, end=20000, rep=4)"
      ],
      "execution_count": null,
      "outputs": [
        {
          "output_type": "execute_result",
          "data": {
            "text/plain": [
              "3.0854032573301993e-06"
            ]
          },
          "metadata": {
            "tags": []
          },
          "execution_count": 39
        }
      ]
    },
    {
      "cell_type": "markdown",
      "metadata": {
        "id": "nQrddklrancf",
        "colab_type": "text"
      },
      "source": [
        "Although the **compute_powers_3** function appears to be **much** faster than the other two, it doesn't quite do the same thing! \n"
      ]
    },
    {
      "cell_type": "code",
      "metadata": {
        "id": "rJ1v5N5bancf",
        "colab_type": "code",
        "colab": {}
      },
      "source": [
        ""
      ],
      "execution_count": null,
      "outputs": []
    }
  ]
}