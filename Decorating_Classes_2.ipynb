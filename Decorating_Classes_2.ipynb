{
  "nbformat": 4,
  "nbformat_minor": 0,
  "metadata": {
    "kernelspec": {
      "display_name": "Python 3",
      "language": "python",
      "name": "python3"
    },
    "language_info": {
      "codemirror_mode": {
        "name": "ipython",
        "version": 3
      },
      "file_extension": ".py",
      "mimetype": "text/x-python",
      "name": "python",
      "nbconvert_exporter": "python",
      "pygments_lexer": "ipython3",
      "version": "3.6.2"
    },
    "colab": {
      "name": "Decorating Classes 2.ipynb",
      "provenance": [],
      "include_colab_link": true
    }
  },
  "cells": [
    {
      "cell_type": "markdown",
      "metadata": {
        "id": "view-in-github",
        "colab_type": "text"
      },
      "source": [
        "<a href=\"https://colab.research.google.com/github/sivasaiyadav8143/Python/blob/master/Decorating_Classes_2.ipynb\" target=\"_parent\"><img src=\"https://colab.research.google.com/assets/colab-badge.svg\" alt=\"Open In Colab\"/></a>"
      ]
    },
    {
      "cell_type": "markdown",
      "metadata": {
        "id": "_1o7KJjV6jPB"
      },
      "source": [
        "### Decorator Application: Decorating Classes"
      ]
    },
    {
      "cell_type": "markdown",
      "metadata": {
        "id": "OKqYSkt_6jPC"
      },
      "source": [
        "We have so far worked with decorating functions. This means we can decorate functions defined with a `def` statement (we can use the `@` syntax, or the long form). Since class methods are functions, they can be decorated too. Lambda expressions can also be decorated (using the long form)."
      ]
    },
    {
      "cell_type": "markdown",
      "metadata": {
        "id": "NvRBKkkl6jPD"
      },
      "source": [
        "But if you think about how our decorators work, they take a single parameter, a function, and return some other function - usually a closure that uses the original function that was passed as an argument."
      ]
    },
    {
      "cell_type": "markdown",
      "metadata": {
        "id": "5eCEQerE6jPE"
      },
      "source": [
        "We could use the same concept to accept, not a function, but a class instead. We could reference that class inside our decorator, modify it, and then return that modified class."
      ]
    },
    {
      "cell_type": "markdown",
      "metadata": {
        "id": "vLk2Vjbw6jPF"
      },
      "source": [
        "First we look at something called **monkey patching**. It boils down to modifying or extending our code at **run time**.\n",
        "\n",
        "For example we can modify or add attributes to classes at run time. Modules too.\n",
        "\n",
        "In Python, many of the classes we use can be modified at run time \n",
        "(built-ins like strings, lists, and so on, cannot).\n",
        "\n",
        "But classes written in Python, such as the ones we write, and even library classes, as long as they are written in Python, not C, can. For example `Fraction` in the `fractions` module can be monkey patched.\n",
        "\n",
        "Just because we can do something however, does not mean we should! Monkey patching can be extremely useful, but don't do it just because you can - as always there should be a real reason to do it, as we'll see in a bit.\n",
        "\n",
        "Also, in general it is a bad idea to monkey patch the special methods `__???__` (such as `__len__`) as this will often not work due to how these methods are searched for by Python."
      ]
    },
    {
      "cell_type": "code",
      "metadata": {
        "id": "u6hkM3w46jPF"
      },
      "source": [
        "from fractions import Fraction"
      ],
      "execution_count": null,
      "outputs": []
    },
    {
      "cell_type": "code",
      "metadata": {
        "id": "E9fYP_6W6jPJ"
      },
      "source": [
        "Fraction.speak = lambda self: 'This is a late parrot.'"
      ],
      "execution_count": null,
      "outputs": []
    },
    {
      "cell_type": "code",
      "metadata": {
        "id": "5Phxxsz06jPM"
      },
      "source": [
        "f = Fraction(2, 3)"
      ],
      "execution_count": null,
      "outputs": []
    },
    {
      "cell_type": "code",
      "metadata": {
        "id": "MpeSvpBp6jPP",
        "outputId": "9b86eb23-dcc9-4da6-a032-6af05bc227b7"
      },
      "source": [
        "f"
      ],
      "execution_count": null,
      "outputs": [
        {
          "output_type": "execute_result",
          "data": {
            "text/plain": [
              "Fraction(2, 3)"
            ]
          },
          "metadata": {
            "tags": []
          },
          "execution_count": 4
        }
      ]
    },
    {
      "cell_type": "code",
      "metadata": {
        "id": "svYRHFT46jPU",
        "outputId": "bb6bafe6-8b93-44fe-a56d-2e04149d8ea1"
      },
      "source": [
        "f.speak()"
      ],
      "execution_count": null,
      "outputs": [
        {
          "output_type": "execute_result",
          "data": {
            "text/plain": [
              "'This is a late parrot.'"
            ]
          },
          "metadata": {
            "tags": []
          },
          "execution_count": 5
        }
      ]
    },
    {
      "cell_type": "markdown",
      "metadata": {
        "id": "6D7nDqJ46jPY"
      },
      "source": [
        "Yes, this is obviously nonsense, but you get the idea that you can add attributes to classes even if you do not have direct control over the class, or after your class has been defined."
      ]
    },
    {
      "cell_type": "markdown",
      "metadata": {
        "id": "Vla-D5aM6jPZ"
      },
      "source": [
        "If you want a more useful method, how about one that tells us if the Fraction is an integral number? (i.e. denominator is `1`)"
      ]
    },
    {
      "cell_type": "code",
      "metadata": {
        "id": "Fa03Vtpo6jPZ"
      },
      "source": [
        "Fraction.is_integral = lambda self: self.denominator == 1"
      ],
      "execution_count": null,
      "outputs": []
    },
    {
      "cell_type": "code",
      "metadata": {
        "id": "dEPwWR0h6jPd"
      },
      "source": [
        "f1 = Fraction(1, 2)\n",
        "f2 = Fraction(10, 5)"
      ],
      "execution_count": null,
      "outputs": []
    },
    {
      "cell_type": "code",
      "metadata": {
        "id": "JfHkEhci6jPh",
        "outputId": "7ace4657-3055-48db-b943-94d604d90586"
      },
      "source": [
        "f1.is_integral()"
      ],
      "execution_count": null,
      "outputs": [
        {
          "output_type": "execute_result",
          "data": {
            "text/plain": [
              "False"
            ]
          },
          "metadata": {
            "tags": []
          },
          "execution_count": 8
        }
      ]
    },
    {
      "cell_type": "code",
      "metadata": {
        "id": "v_Do3ym76jPk",
        "outputId": "af004e4f-f98d-4d86-abcd-2642e184465d"
      },
      "source": [
        "f2.is_integral()"
      ],
      "execution_count": null,
      "outputs": [
        {
          "output_type": "execute_result",
          "data": {
            "text/plain": [
              "True"
            ]
          },
          "metadata": {
            "tags": []
          },
          "execution_count": 9
        }
      ]
    },
    {
      "cell_type": "markdown",
      "metadata": {
        "id": "Y8cbm0pe6jPn"
      },
      "source": [
        "Now, we can make this change to the class by calling a function to do it instead:"
      ]
    },
    {
      "cell_type": "code",
      "metadata": {
        "id": "mpiqxE9K6jPn"
      },
      "source": [
        "def dec_speak(cls):\n",
        "    cls.speak = lambda self: 'This is a very late parrot.'\n",
        "    return cls"
      ],
      "execution_count": null,
      "outputs": []
    },
    {
      "cell_type": "code",
      "metadata": {
        "id": "Xn1mM72q6jPq"
      },
      "source": [
        "Fraction = dec_speak(Fraction)"
      ],
      "execution_count": null,
      "outputs": []
    },
    {
      "cell_type": "markdown",
      "metadata": {
        "id": "kuobTlRM6jPt"
      },
      "source": [
        "_(Hopefully the above code reminds you of decorators.)_"
      ]
    },
    {
      "cell_type": "code",
      "metadata": {
        "id": "fPQwiiAm6jPu"
      },
      "source": [
        "f = Fraction(10, 2)"
      ],
      "execution_count": null,
      "outputs": []
    },
    {
      "cell_type": "code",
      "metadata": {
        "id": "AbPi2FkZ6jPz",
        "outputId": "966cb401-fa09-4c42-c78b-8dd5e707011f"
      },
      "source": [
        "f.speak()"
      ],
      "execution_count": null,
      "outputs": [
        {
          "output_type": "execute_result",
          "data": {
            "text/plain": [
              "'This is a very late parrot.'"
            ]
          },
          "metadata": {
            "tags": []
          },
          "execution_count": 13
        }
      ]
    },
    {
      "cell_type": "markdown",
      "metadata": {
        "id": "CIdyuBot6jP2"
      },
      "source": [
        "We can use that function to decorate our custom classes too, using the short **@** syntax too."
      ]
    },
    {
      "cell_type": "code",
      "metadata": {
        "id": "JWC99qn-6jP2"
      },
      "source": [
        "@dec_speak\n",
        "class Parrot:\n",
        "    def __init__(self):\n",
        "        self.state = 'late'"
      ],
      "execution_count": null,
      "outputs": []
    },
    {
      "cell_type": "code",
      "metadata": {
        "id": "UdREGoSP6jP5"
      },
      "source": [
        "polly = Parrot()"
      ],
      "execution_count": null,
      "outputs": []
    },
    {
      "cell_type": "code",
      "metadata": {
        "id": "pD7KIy2t6jP7",
        "outputId": "0ef7b4ed-b36c-4fc2-e2ea-093f81bcb877"
      },
      "source": [
        "polly.speak()"
      ],
      "execution_count": null,
      "outputs": [
        {
          "output_type": "execute_result",
          "data": {
            "text/plain": [
              "'This is a very late parrot.'"
            ]
          },
          "metadata": {
            "tags": []
          },
          "execution_count": 16
        }
      ]
    },
    {
      "cell_type": "markdown",
      "metadata": {
        "id": "XLh5bzdF6jP-"
      },
      "source": [
        "Using this technique we could for example add a useful *reciprocal* attribute to the Fraction class, but of course since it would probably be a one time kind of thing (how many Fraction classes are there that you will want to add a reciprocal to after all), there's no need for decorators. Decorators  are useful when they are able to be reused in more general ways."
      ]
    },
    {
      "cell_type": "code",
      "metadata": {
        "id": "vZx5vQdu6jP-"
      },
      "source": [
        "Fraction.recip = lambda self: Fraction(self.denominator, self.numerator)"
      ],
      "execution_count": null,
      "outputs": []
    },
    {
      "cell_type": "code",
      "metadata": {
        "id": "_lMoC3Lw6jQC"
      },
      "source": [
        "f = Fraction(2,3)"
      ],
      "execution_count": null,
      "outputs": []
    },
    {
      "cell_type": "code",
      "metadata": {
        "id": "bGDkPwzw6jQF",
        "outputId": "b7f5317e-77db-4687-b9b0-dfb5a54b94d3"
      },
      "source": [
        "f"
      ],
      "execution_count": null,
      "outputs": [
        {
          "output_type": "execute_result",
          "data": {
            "text/plain": [
              "Fraction(2, 3)"
            ]
          },
          "metadata": {
            "tags": []
          },
          "execution_count": 19
        }
      ]
    },
    {
      "cell_type": "code",
      "metadata": {
        "id": "0-1b5LhG6jQH",
        "outputId": "66d09b4e-4036-4976-e89d-5bc7930842cb"
      },
      "source": [
        "f.recip()"
      ],
      "execution_count": null,
      "outputs": [
        {
          "output_type": "execute_result",
          "data": {
            "text/plain": [
              "Fraction(3, 2)"
            ]
          },
          "metadata": {
            "tags": []
          },
          "execution_count": 20
        }
      ]
    },
    {
      "cell_type": "markdown",
      "metadata": {
        "id": "RZT0yq_06jQK"
      },
      "source": [
        "These example are quite trivial, and not very useful. \n",
        "\n",
        "So why bring this up? \n",
        "\n",
        "Because this same technique can be used for more interesting things."
      ]
    },
    {
      "cell_type": "markdown",
      "metadata": {
        "id": "roOBPZUe6jQK"
      },
      "source": [
        "As a first example, let's say you typically like to inspect various properties of an object for debugging purposes, maybe the memory address, it's current state (property values), and the time at which the debug info was generated."
      ]
    },
    {
      "cell_type": "code",
      "metadata": {
        "id": "RorEYW_n6jQL"
      },
      "source": [
        "from datetime import datetime, timezone"
      ],
      "execution_count": null,
      "outputs": []
    },
    {
      "cell_type": "code",
      "metadata": {
        "id": "I8ozH3PM6jQO"
      },
      "source": [
        "def debug_info(cls):\n",
        "    def info(self):\n",
        "        results = []\n",
        "        results.append('time: {0}'.format(datetime.now(timezone.utc)))\n",
        "        results.append('class: {0}'.format(self.__class__.__name__))\n",
        "        results.append('id: {0}'.format(hex(id(self))))\n",
        "        \n",
        "        if vars(self):\n",
        "            for k, v in vars(self).items():\n",
        "                results.append('{0}: {1}'.format(k, v))\n",
        "        \n",
        "        # we have not covered lists, the extend method and generators,\n",
        "        # but note that a more Pythonic way to do this would be:\n",
        "        #if vars(self):\n",
        "        #    results.extend('{0}: {1}'.format(k, v) \n",
        "        #                   for k, v in vars(self).items())\n",
        "        \n",
        "        return results\n",
        "    \n",
        "    cls.debug = info\n",
        "    \n",
        "    return cls"
      ],
      "execution_count": null,
      "outputs": []
    },
    {
      "cell_type": "code",
      "metadata": {
        "id": "3MSs6_WH6jQU"
      },
      "source": [
        "@debug_info\n",
        "class Person:\n",
        "    def __init__(self, name, birth_year):\n",
        "        self.name = name\n",
        "        self.birth_year = birth_year\n",
        "        \n",
        "    def say_hi():\n",
        "        return 'Hello there!'"
      ],
      "execution_count": null,
      "outputs": []
    },
    {
      "cell_type": "code",
      "metadata": {
        "id": "HR2yruAh6jQZ"
      },
      "source": [
        "p1 = Person('John', 1939)"
      ],
      "execution_count": null,
      "outputs": []
    },
    {
      "cell_type": "code",
      "metadata": {
        "id": "htiI72cp6jQh",
        "outputId": "b2483aec-ea9d-492a-d38c-6314c0e44ebb"
      },
      "source": [
        "p1.debug()"
      ],
      "execution_count": null,
      "outputs": [
        {
          "output_type": "execute_result",
          "data": {
            "text/plain": [
              "['time: 2018-02-09 04:44:02.893951+00:00',\n",
              " 'class: Person',\n",
              " 'id: 0x2dfe29a4630',\n",
              " 'name: John',\n",
              " 'birth_year: 1939']"
            ]
          },
          "metadata": {
            "tags": []
          },
          "execution_count": 25
        }
      ]
    },
    {
      "cell_type": "markdown",
      "metadata": {
        "id": "qE7rHI126jQk"
      },
      "source": [
        "And of course we can decorate other classes this way too, not just a single class:"
      ]
    },
    {
      "cell_type": "code",
      "metadata": {
        "id": "JtgIUwyU6jQl"
      },
      "source": [
        "@debug_info\n",
        "class Automobile:\n",
        "    def __init__(self, make, model, year, top_speed_mph):\n",
        "        self.make = make\n",
        "        self.model = model\n",
        "        self.year = year\n",
        "        self.top_speed_mph = top_speed_mph\n",
        "        self.current_speed = 0\n",
        "    \n",
        "    @property\n",
        "    def speed(self):\n",
        "        return self.current_speed\n",
        "    \n",
        "    @speed.setter\n",
        "    def speed(self, new_speed):\n",
        "        self.current_speed = new_speed"
      ],
      "execution_count": null,
      "outputs": []
    },
    {
      "cell_type": "code",
      "metadata": {
        "id": "3rFEvpGp6jQn"
      },
      "source": [
        "s = Automobile('Ford', 'Model T', 1908, 45)"
      ],
      "execution_count": null,
      "outputs": []
    },
    {
      "cell_type": "code",
      "metadata": {
        "id": "Ridk2EU06jQr",
        "outputId": "d4974609-e075-4ce7-c335-16a76470f426"
      },
      "source": [
        "s.debug()"
      ],
      "execution_count": null,
      "outputs": [
        {
          "output_type": "execute_result",
          "data": {
            "text/plain": [
              "['time: 2018-02-09 04:44:03.562898+00:00',\n",
              " 'class: Automobile',\n",
              " 'id: 0x2dfe29b3a58',\n",
              " 'make: Ford',\n",
              " 'model: Model T',\n",
              " 'year: 1908',\n",
              " 'top_speed_mph: 45',\n",
              " 'current_speed: 0']"
            ]
          },
          "metadata": {
            "tags": []
          },
          "execution_count": 28
        }
      ]
    },
    {
      "cell_type": "code",
      "metadata": {
        "id": "NPC5rzld6jQt"
      },
      "source": [
        "s.speed = 20"
      ],
      "execution_count": null,
      "outputs": []
    },
    {
      "cell_type": "code",
      "metadata": {
        "id": "g_9zdANr6jQv",
        "outputId": "6b6053d9-d741-4e30-8353-162073902ec7"
      },
      "source": [
        "s.debug()"
      ],
      "execution_count": null,
      "outputs": [
        {
          "output_type": "execute_result",
          "data": {
            "text/plain": [
              "['time: 2018-02-09 04:44:03.898085+00:00',\n",
              " 'class: Automobile',\n",
              " 'id: 0x2dfe29b3a58',\n",
              " 'make: Ford',\n",
              " 'model: Model T',\n",
              " 'year: 1908',\n",
              " 'top_speed_mph: 45',\n",
              " 'current_speed: 20']"
            ]
          },
          "metadata": {
            "tags": []
          },
          "execution_count": 30
        }
      ]
    },
    {
      "cell_type": "markdown",
      "metadata": {
        "id": "nE3aXHJE6jQx"
      },
      "source": [
        "Let's look at another example where decorating an entire class could be useful."
      ]
    },
    {
      "cell_type": "code",
      "metadata": {
        "id": "UtPbhF886jQy"
      },
      "source": [
        "from math import sqrt"
      ],
      "execution_count": null,
      "outputs": []
    },
    {
      "cell_type": "code",
      "metadata": {
        "id": "Rz_IvUpa6jQ1"
      },
      "source": [
        "class Point:\n",
        "    def __init__(self, x, y):\n",
        "        self.x = x\n",
        "        self.y = y\n",
        "        \n",
        "    def __abs__(self):\n",
        "        return sqrt(self.x**2 + self.y**2)\n",
        "    \n",
        "    def __repr__(self):\n",
        "        return 'Point({0},{1})'.format(self.x, self.y)"
      ],
      "execution_count": null,
      "outputs": []
    },
    {
      "cell_type": "code",
      "metadata": {
        "id": "7j1O45Hd6jQ3"
      },
      "source": [
        "p1, p2, p3 = Point(2, 3), Point(2, 3), Point(0,0)"
      ],
      "execution_count": null,
      "outputs": []
    },
    {
      "cell_type": "code",
      "metadata": {
        "id": "DFsyevcg6jQ5",
        "outputId": "6216edef-6d6f-4ce0-c526-c6edebd50b34"
      },
      "source": [
        "abs(p1)"
      ],
      "execution_count": null,
      "outputs": [
        {
          "output_type": "execute_result",
          "data": {
            "text/plain": [
              "3.605551275463989"
            ]
          },
          "metadata": {
            "tags": []
          },
          "execution_count": 34
        }
      ]
    },
    {
      "cell_type": "code",
      "metadata": {
        "id": "qYYBLe8h6jQ8",
        "outputId": "fd8fe274-59de-4be1-b16c-17e7f07db047"
      },
      "source": [
        "p1, p2"
      ],
      "execution_count": null,
      "outputs": [
        {
          "output_type": "execute_result",
          "data": {
            "text/plain": [
              "(Point(2,3), Point(2,3))"
            ]
          },
          "metadata": {
            "tags": []
          },
          "execution_count": 35
        }
      ]
    },
    {
      "cell_type": "code",
      "metadata": {
        "id": "fF_1rKzU6jQ-",
        "outputId": "de937226-5413-4345-bcc2-bec3d1a98e27"
      },
      "source": [
        "p1 == p2"
      ],
      "execution_count": null,
      "outputs": [
        {
          "output_type": "execute_result",
          "data": {
            "text/plain": [
              "False"
            ]
          },
          "metadata": {
            "tags": []
          },
          "execution_count": 36
        }
      ]
    },
    {
      "cell_type": "markdown",
      "metadata": {
        "id": "1f1RbuzI6jRA"
      },
      "source": [
        "Hmm, we probably would have expected `p1` to be equal to `p2` since it has the same coordinates. But by default Python will compare memory addresses, since our class does not implement the `__eq__` method used for `==` comparisons."
      ]
    },
    {
      "cell_type": "code",
      "metadata": {
        "id": "75KMX5SA6jRB",
        "outputId": "51de48c9-0abe-4aec-963c-795d6cc5beec"
      },
      "source": [
        "p2, p3"
      ],
      "execution_count": null,
      "outputs": [
        {
          "output_type": "execute_result",
          "data": {
            "text/plain": [
              "(Point(2,3), Point(0,0))"
            ]
          },
          "metadata": {
            "tags": []
          },
          "execution_count": 37
        }
      ]
    },
    {
      "cell_type": "code",
      "metadata": {
        "id": "VMbGbq7M6jRJ",
        "outputId": "43833733-c9bb-49de-93a1-d382f4108af7"
      },
      "source": [
        "p2 > p3"
      ],
      "execution_count": null,
      "outputs": [
        {
          "output_type": "error",
          "ename": "TypeError",
          "evalue": "'>' not supported between instances of 'Point' and 'Point'",
          "traceback": [
            "\u001b[1;31m---------------------------------------------------------------------------\u001b[0m",
            "\u001b[1;31mTypeError\u001b[0m                                 Traceback (most recent call last)",
            "\u001b[1;32m<ipython-input-38-b46639986960>\u001b[0m in \u001b[0;36m<module>\u001b[1;34m()\u001b[0m\n\u001b[1;32m----> 1\u001b[1;33m \u001b[0mp2\u001b[0m \u001b[1;33m>\u001b[0m \u001b[0mp3\u001b[0m\u001b[1;33m\u001b[0m\u001b[0m\n\u001b[0m",
            "\u001b[1;31mTypeError\u001b[0m: '>' not supported between instances of 'Point' and 'Point'"
          ]
        }
      ]
    },
    {
      "cell_type": "markdown",
      "metadata": {
        "id": "0uQypLs46jRL"
      },
      "source": [
        "So, that class does not support the comparison operators such as `<`, `<=`, etc. \n",
        "\n",
        "Even `==` does not work as expected - it will use the memory address instead of using a comparison of the `x` and `y` coordinates as we might probably expect."
      ]
    },
    {
      "cell_type": "markdown",
      "metadata": {
        "id": "74g2e3Cr6jRM"
      },
      "source": [
        "For the `<` operator, we need our class to implement the `__lt__` method, and for `==` we need the `__eq__` method.\n",
        "\n",
        "Other comparison operators are supported by implementing a variety of functions such as `__le__` (`<=`), `__gt__` (`>`), `__ge__` (`>=`).\n",
        "\n",
        "We are going to add the `__lt__` and `__eq__` methods to our Point class.\n",
        "\n",
        "We will consider a Point object to be smaller than another one if it is closer to the origin (i.e. smaller magnitude)."
      ]
    },
    {
      "cell_type": "code",
      "metadata": {
        "id": "U6JM25nS6jRM"
      },
      "source": [
        "del Point\n",
        "\n",
        "class Point:\n",
        "    def __init__(self, x, y):\n",
        "        self.x = x\n",
        "        self.y = y\n",
        "        \n",
        "    def __abs__(self):\n",
        "        return sqrt(self.x**2 + self.y**2)\n",
        "    \n",
        "    def __eq__(self, other):\n",
        "        if isinstance(other, Point):\n",
        "            return self.x == other.x and self.y == other.y\n",
        "        else:\n",
        "            return NotImplemented\n",
        "            \n",
        "    def __lt__(self, other):\n",
        "        if isinstance(other, Point):\n",
        "            return abs(self) < abs(other)\n",
        "        else:\n",
        "            return NotImplemented\n",
        "        \n",
        "    def __repr__(self):\n",
        "        return '{0}({1},{2})'.format(self.__class__.__name__, self.x, self.y)"
      ],
      "execution_count": null,
      "outputs": []
    },
    {
      "cell_type": "code",
      "metadata": {
        "id": "YEFdD68y6jRP"
      },
      "source": [
        "p1, p2, p3 = Point(2, 3), Point(2, 3), Point(0,0)"
      ],
      "execution_count": null,
      "outputs": []
    },
    {
      "cell_type": "code",
      "metadata": {
        "id": "eCCTl1hm6jRV",
        "outputId": "261c25d4-5a66-43e1-929f-b17f8e62af43"
      },
      "source": [
        "p1, p2, p1==p2"
      ],
      "execution_count": null,
      "outputs": [
        {
          "output_type": "execute_result",
          "data": {
            "text/plain": [
              "(Point(2,3), Point(2,3), True)"
            ]
          },
          "metadata": {
            "tags": []
          },
          "execution_count": 41
        }
      ]
    },
    {
      "cell_type": "code",
      "metadata": {
        "id": "LsZV5hlx6jRa",
        "outputId": "c062c8d3-95a1-4d77-efb3-193e54031892"
      },
      "source": [
        "p2, p3, p2==p3"
      ],
      "execution_count": null,
      "outputs": [
        {
          "output_type": "execute_result",
          "data": {
            "text/plain": [
              "(Point(2,3), Point(0,0), False)"
            ]
          },
          "metadata": {
            "tags": []
          },
          "execution_count": 42
        }
      ]
    },
    {
      "cell_type": "markdown",
      "metadata": {
        "id": "aTMyOEgs6jRc"
      },
      "source": [
        "As we can see, `==` now works as expected"
      ]
    },
    {
      "cell_type": "code",
      "metadata": {
        "id": "sdKamhiW6jRd"
      },
      "source": [
        "p4 = Point(1, 2)"
      ],
      "execution_count": null,
      "outputs": []
    },
    {
      "cell_type": "code",
      "metadata": {
        "id": "tRvFXv676jRf",
        "outputId": "4838d3de-a620-4218-a521-1d0973b3e9bc"
      },
      "source": [
        "abs(p1), abs(p4), p1 < p4"
      ],
      "execution_count": null,
      "outputs": [
        {
          "output_type": "execute_result",
          "data": {
            "text/plain": [
              "(3.605551275463989, 2.23606797749979, False)"
            ]
          },
          "metadata": {
            "tags": []
          },
          "execution_count": 44
        }
      ]
    },
    {
      "cell_type": "markdown",
      "metadata": {
        "id": "QjD065Wv6jRk"
      },
      "source": [
        "Great, so now we have `<` and `==` implemented. What about the rest of the operators: `<=`, `>`, `>=`?"
      ]
    },
    {
      "cell_type": "code",
      "metadata": {
        "id": "K-Pz9f5y6jRk",
        "outputId": "7e580a42-ec4d-4494-c4f8-3838ebec5642"
      },
      "source": [
        "p1 > p4"
      ],
      "execution_count": null,
      "outputs": [
        {
          "output_type": "execute_result",
          "data": {
            "text/plain": [
              "True"
            ]
          },
          "metadata": {
            "tags": []
          },
          "execution_count": 45
        }
      ]
    },
    {
      "cell_type": "markdown",
      "metadata": {
        "id": "e75l5p5L6jRo"
      },
      "source": [
        "Ooh, since we have implemented `<` and `==`, does this mean Python magically implemented a `>` operator (i.e. not < and not ==)?"
      ]
    },
    {
      "cell_type": "markdown",
      "metadata": {
        "id": "l4l-PC2V6jRo"
      },
      "source": [
        "Not exactly! What happened is that since `p1` and `p4` are both points, running the comparison `p1 > p4` is really the same as evaluating `p4 < p1` - and Python did do that automatically for us.\n",
        "\n",
        "But it has not implemented any of the others, such as `>=` and `<=`:"
      ]
    },
    {
      "cell_type": "code",
      "metadata": {
        "id": "wot5Q4Tw6jRo",
        "outputId": "10e55f1e-075e-4c15-e06d-4be43163d23a"
      },
      "source": [
        "p1 <= p4"
      ],
      "execution_count": null,
      "outputs": [
        {
          "output_type": "error",
          "ename": "TypeError",
          "evalue": "'<=' not supported between instances of 'Point' and 'Point'",
          "traceback": [
            "\u001b[1;31m---------------------------------------------------------------------------\u001b[0m",
            "\u001b[1;31mTypeError\u001b[0m                                 Traceback (most recent call last)",
            "\u001b[1;32m<ipython-input-46-80f9ea228203>\u001b[0m in \u001b[0;36m<module>\u001b[1;34m()\u001b[0m\n\u001b[1;32m----> 1\u001b[1;33m \u001b[0mp1\u001b[0m \u001b[1;33m<=\u001b[0m \u001b[0mp4\u001b[0m\u001b[1;33m\u001b[0m\u001b[0m\n\u001b[0m",
            "\u001b[1;31mTypeError\u001b[0m: '<=' not supported between instances of 'Point' and 'Point'"
          ]
        }
      ]
    },
    {
      "cell_type": "markdown",
      "metadata": {
        "id": "so-_xUBK6jRr"
      },
      "source": [
        "Now, although we could proceed in a similar way and define `>=`, `<=` and `>` using the same technique, observe that if `<` and `==` is defined then:\n",
        "\n",
        "* `a <= b` iff `a < b or a == b`\n",
        "* `a > b` iff `not(a<b) and a != b`\n",
        "* `a >= b` iff `not(a<b)`"
      ]
    },
    {
      "cell_type": "markdown",
      "metadata": {
        "id": "qskiM68r6jRs"
      },
      "source": [
        "So, to be quite generic we could create a decorator that will implement these last three operators as long as `==` and `<` are defined. We could then decorate **any** class that implements just those two operators."
      ]
    },
    {
      "cell_type": "code",
      "metadata": {
        "id": "53k8Gv8L6jRs"
      },
      "source": [
        "def complete_ordering(cls):\n",
        "    if '__eq__' in dir(cls) and '__lt__' in dir(cls):\n",
        "        cls.__le__ = lambda self, other: self < other or self == other\n",
        "        cls.__gt__ = lambda self, other: not(self < other) and not (self == other)\n",
        "        cls.__ge__ = lambda self, other: not (self < other)\n",
        "    return cls"
      ],
      "execution_count": null,
      "outputs": []
    },
    {
      "cell_type": "markdown",
      "metadata": {
        "id": "A1vjoB0Y6jRv"
      },
      "source": [
        "In reality, the code above is **NOT** a good implementation at all. We are not checking that the types are compatible and returning a `NotImplemented` result if appropriate. I am also using inline operators (`<` and `==`) instead of the dunder functions (`__lt__` and `__eq__`). I just kept it simple because we'll use a better alternative in a bit."
      ]
    },
    {
      "cell_type": "markdown",
      "metadata": {
        "id": "6tbEIEsa6jRw"
      },
      "source": [
        "For example, a better way to implement `__ge__` would be as follows:"
      ]
    },
    {
      "cell_type": "code",
      "metadata": {
        "id": "Hql-e90c6jRw"
      },
      "source": [
        "def ge_from_lt(self, other):\n",
        "    # self >= other iff not(other < self)\n",
        "    result = self.__lt__(other)\n",
        "    if result is NotImplemented:\n",
        "        return NotImplemented\n",
        "    else:\n",
        "        return not result"
      ],
      "execution_count": null,
      "outputs": []
    },
    {
      "cell_type": "markdown",
      "metadata": {
        "id": "DEInVkpA6jR1"
      },
      "source": [
        "You may be wondering why I used `__lt__` instead of just using the `<` operator. This is because I want to actually look at the result of the operation without raising an exception if the operation is not implemented. The way I have the total ordering decorator implemented could cause an infinite loop because when I evaluate `self < other`, if an exception is raised, Python will reflect the evaluation to `other > self`, and if that raises an error as well, Python will try to reflect that operation too, and we get into an infinite loop (which eventually terminates in a stack overflow). This was actually a bug in Python's standard library implementation of a `complete_ordering` decorator (called `total_ordering`) that was resolved in 3.4."
      ]
    },
    {
      "cell_type": "code",
      "metadata": {
        "id": "U_ps7iN86jR1"
      },
      "source": [
        "class Point:\n",
        "    def __init__(self, x, y):\n",
        "        self.x = x\n",
        "        self.y = y\n",
        "        \n",
        "    def __abs__(self):\n",
        "        return sqrt(self.x**2 + self.y**2)\n",
        "    \n",
        "    def __eq__(self, other):\n",
        "        if isinstance(other, Point):\n",
        "            return self.x == other.x and self.y == other.y\n",
        "        else:\n",
        "            return NotImplemented\n",
        "            \n",
        "    def __lt__(self, other):\n",
        "        if isinstance(other, Point):\n",
        "            return abs(self) < abs(other)\n",
        "        else:\n",
        "            return NotImplemented\n",
        "        \n",
        "    def __repr__(self):\n",
        "        return '{0}({1},{2})'.format(self.__class__, self.x, self.y)"
      ],
      "execution_count": null,
      "outputs": []
    },
    {
      "cell_type": "code",
      "metadata": {
        "id": "H5ljev7B6jR6"
      },
      "source": [
        "Point = complete_ordering(Point)        "
      ],
      "execution_count": null,
      "outputs": []
    },
    {
      "cell_type": "code",
      "metadata": {
        "id": "43K_Wh2M6jR8"
      },
      "source": [
        "p1, p2, p3 = Point(1, 1), Point(3, 4), Point(3, 4)"
      ],
      "execution_count": null,
      "outputs": []
    },
    {
      "cell_type": "code",
      "metadata": {
        "id": "CJrO5lrT6jR_",
        "outputId": "38cbee20-0ac2-4019-d12d-7caf918a385c"
      },
      "source": [
        "abs(p1), abs(p2), abs(p3)"
      ],
      "execution_count": null,
      "outputs": [
        {
          "output_type": "execute_result",
          "data": {
            "text/plain": [
              "(1.4142135623730951, 5.0, 5.0)"
            ]
          },
          "metadata": {
            "tags": []
          },
          "execution_count": 52
        }
      ]
    },
    {
      "cell_type": "code",
      "metadata": {
        "id": "q7t5qQ3n6jSB",
        "outputId": "46746a48-80b5-43fb-af9f-6aebbdcc3fbe"
      },
      "source": [
        "p1 < p2, p1 <= p2, p1 > p2, p1 >= p2, p2 > p2, p2 >= p3"
      ],
      "execution_count": null,
      "outputs": [
        {
          "output_type": "execute_result",
          "data": {
            "text/plain": [
              "(True, True, False, False, False, True)"
            ]
          },
          "metadata": {
            "tags": []
          },
          "execution_count": 53
        }
      ]
    },
    {
      "cell_type": "markdown",
      "metadata": {
        "id": "njfermmc6jSD"
      },
      "source": [
        "Now the `complete_ordering` decorator can also be directly applied to any class that defines `__eq__` and `__lt__`."
      ]
    },
    {
      "cell_type": "code",
      "metadata": {
        "id": "VUtIYRC66jSE"
      },
      "source": [
        "@complete_ordering\n",
        "class Grade:\n",
        "    def __init__(self, score, max_score):\n",
        "        self.score = score\n",
        "        self.max_score = max_score\n",
        "        self.score_percent = round(score / max_score * 100)\n",
        "     \n",
        "    def __repr__(self):\n",
        "        return 'Grade({0}, {1})'.format(self.score, self.max_score)\n",
        "    \n",
        "    def __eq__(self, other):\n",
        "        if isinstance(other, Grade):\n",
        "            return self.score_percent == other.score_percent\n",
        "        else:\n",
        "            return NotImplemented\n",
        "    \n",
        "    def __lt__(self, other):\n",
        "        if isinstance(other, Grade):\n",
        "            return self.score_percent < other.score_percent\n",
        "        else:\n",
        "            return NotImplemented\n",
        "        "
      ],
      "execution_count": null,
      "outputs": []
    },
    {
      "cell_type": "code",
      "metadata": {
        "id": "I3aKbohR6jSH"
      },
      "source": [
        "g1 = Grade(10, 100)\n",
        "g2 = Grade(20, 30)\n",
        "g3 = Grade(5, 50)"
      ],
      "execution_count": null,
      "outputs": []
    },
    {
      "cell_type": "code",
      "metadata": {
        "id": "4yiyw2NJ6jSL",
        "outputId": "6d2723f1-4b3b-4ad1-c731-412814602d00"
      },
      "source": [
        "g1 <= g2, g1 == g3, g2 > g3"
      ],
      "execution_count": null,
      "outputs": [
        {
          "output_type": "execute_result",
          "data": {
            "text/plain": [
              "(True, True, True)"
            ]
          },
          "metadata": {
            "tags": []
          },
          "execution_count": 56
        }
      ]
    },
    {
      "cell_type": "markdown",
      "metadata": {
        "id": "MIwt2bi96jSO"
      },
      "source": [
        "Often, given the `==` operator and just **one** of the other comparison operators (`<`, `<=`, `>`, `>=`), then all the rest can be derived.\n",
        "\n",
        "Our decorator insisted on `==` and `<`. but we could make it better by insisting on `==` and any one of the other operators. This will of course make our decorator more complicated, and in fact, Python has this precise functionality built in to the, you guessed it, `functools` module!\n",
        "\n",
        "It is a decorator called `total_ordering`. \n",
        "\n",
        "Let's see it in action:"
      ]
    },
    {
      "cell_type": "code",
      "metadata": {
        "id": "aAhda8L36jSO"
      },
      "source": [
        "from functools import total_ordering"
      ],
      "execution_count": null,
      "outputs": []
    },
    {
      "cell_type": "code",
      "metadata": {
        "id": "zYLvauGq6jSR"
      },
      "source": [
        "@total_ordering\n",
        "class Grade:\n",
        "    def __init__(self, score, max_score):\n",
        "        self.score = score\n",
        "        self.max_score = max_score\n",
        "        self.score_percent = round(score / max_score * 100)\n",
        "     \n",
        "    def __repr__(self):\n",
        "        return 'Grade({0}, {1})'.format(self.score, self.max_score)\n",
        "    \n",
        "    def __eq__(self, other):\n",
        "        if isinstance(other, Grade):\n",
        "            return self.score_percent == other.score_percent\n",
        "        else:\n",
        "            return NotImplemented\n",
        "    \n",
        "    def __lt__(self, other):\n",
        "        if isinstance(other, Grade):\n",
        "            return self.score_percent < other.score_percent\n",
        "        else:\n",
        "            return NotImplemented"
      ],
      "execution_count": null,
      "outputs": []
    },
    {
      "cell_type": "code",
      "metadata": {
        "id": "Pi5kOuJs6jSS"
      },
      "source": [
        "g1, g2 = Grade(80, 100), Grade(60, 100)"
      ],
      "execution_count": null,
      "outputs": []
    },
    {
      "cell_type": "code",
      "metadata": {
        "id": "aPnBTWrH6jSV",
        "outputId": "8cc08b29-cb88-43a3-8e4b-bcb2dcf7741d"
      },
      "source": [
        "g1 >= g2, g1 > g2"
      ],
      "execution_count": null,
      "outputs": [
        {
          "output_type": "execute_result",
          "data": {
            "text/plain": [
              "(True, True)"
            ]
          },
          "metadata": {
            "tags": []
          },
          "execution_count": 60
        }
      ]
    },
    {
      "cell_type": "markdown",
      "metadata": {
        "id": "4qh8PcGa6jSW"
      },
      "source": [
        "Or we could also do it this way:"
      ]
    },
    {
      "cell_type": "code",
      "metadata": {
        "id": "HjMdYlzm6jSX"
      },
      "source": [
        "@total_ordering\n",
        "class Grade:\n",
        "    def __init__(self, score, max_score):\n",
        "        self.score = score\n",
        "        self.max_score = max_score\n",
        "        self.score_percent = round(score / max_score * 100)\n",
        "     \n",
        "    def __repr__(self):\n",
        "        return 'Grade({0}, {1})'.format(self.score, self.max_score)\n",
        "    \n",
        "    def __eq__(self, other):\n",
        "        if isinstance(other, Grade):\n",
        "            return self.score_percent == other.score_percent\n",
        "        else:\n",
        "            return NotImplemented\n",
        "    \n",
        "    def __gt__(self, other):\n",
        "        if isinstance(other, Grade):\n",
        "            return self.score_percent > other.score_percent\n",
        "        else:\n",
        "            return NotImplemented"
      ],
      "execution_count": null,
      "outputs": []
    },
    {
      "cell_type": "code",
      "metadata": {
        "id": "ErI9xDdv6jSa"
      },
      "source": [
        "g1, g2 = Grade(80, 100), Grade(60, 100)"
      ],
      "execution_count": null,
      "outputs": []
    },
    {
      "cell_type": "code",
      "metadata": {
        "id": "N_N3QEZ_6jSb",
        "outputId": "42be3d3c-2060-4a26-d589-67afa116da93"
      },
      "source": [
        "g1 >= g2, g1 > g2, g1 <= g2, g1 < g2"
      ],
      "execution_count": null,
      "outputs": [
        {
          "output_type": "execute_result",
          "data": {
            "text/plain": [
              "(True, True, False, False)"
            ]
          },
          "metadata": {
            "tags": []
          },
          "execution_count": 63
        }
      ]
    }
  ]
}