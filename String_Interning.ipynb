{
  "nbformat": 4,
  "nbformat_minor": 0,
  "metadata": {
    "kernelspec": {
      "display_name": "Python 3",
      "language": "python",
      "name": "python3"
    },
    "language_info": {
      "codemirror_mode": {
        "name": "ipython",
        "version": 3
      },
      "file_extension": ".py",
      "mimetype": "text/x-python",
      "name": "python",
      "nbconvert_exporter": "python",
      "pygments_lexer": "ipython3",
      "version": "3.6.1"
    },
    "colab": {
      "name": "String Interning.ipynb",
      "provenance": [],
      "include_colab_link": true
    }
  },
  "cells": [
    {
      "cell_type": "markdown",
      "metadata": {
        "id": "view-in-github",
        "colab_type": "text"
      },
      "source": [
        "<a href=\"https://colab.research.google.com/github/sivasaiyadav8143/Python/blob/master/String_Interning.ipynb\" target=\"_parent\"><img src=\"https://colab.research.google.com/assets/colab-badge.svg\" alt=\"Open In Colab\"/></a>"
      ]
    },
    {
      "cell_type": "markdown",
      "metadata": {
        "id": "0i4-iFlI50hV",
        "colab_type": "text"
      },
      "source": [
        "## Python Optimizations: String Interning"
      ]
    },
    {
      "cell_type": "markdown",
      "metadata": {
        "id": "r9xppkz_50hX",
        "colab_type": "text"
      },
      "source": [
        "Python will automatically intern *certain* strings.\n",
        "\n",
        "In particular all the identifiers (variable names, function names, class names, etc) are interned (singleton objects created).\n",
        "\n",
        "Python will also intern string literals that look like identifiers.\n",
        "\n",
        "For example:"
      ]
    },
    {
      "cell_type": "code",
      "metadata": {
        "id": "B6AtoCQM50hY",
        "colab_type": "code",
        "colab": {},
        "outputId": "99063780-49a7-4ca2-9440-66f040bc0e4a"
      },
      "source": [
        "a = 'hello'\n",
        "b = 'hello'\n",
        "print(id(a))\n",
        "print(id(b))"
      ],
      "execution_count": null,
      "outputs": [
        {
          "output_type": "stream",
          "text": [
            "1342722069536\n",
            "1342722069536\n"
          ],
          "name": "stdout"
        }
      ]
    },
    {
      "cell_type": "markdown",
      "metadata": {
        "id": "VshRNwkv50hc",
        "colab_type": "text"
      },
      "source": [
        "But not the following:"
      ]
    },
    {
      "cell_type": "code",
      "metadata": {
        "id": "bOjO1KR250hd",
        "colab_type": "code",
        "colab": {},
        "outputId": "46982036-2dd3-4f58-8eb8-d635cca03d2c"
      },
      "source": [
        "a = 'hello, world!'\n",
        "b = 'hello, world!'\n",
        "print(id(a))\n",
        "print(id(b))"
      ],
      "execution_count": null,
      "outputs": [
        {
          "output_type": "stream",
          "text": [
            "1342722047024\n",
            "1342722170928\n"
          ],
          "name": "stdout"
        }
      ]
    },
    {
      "cell_type": "markdown",
      "metadata": {
        "id": "wIFcdaGc50hg",
        "colab_type": "text"
      },
      "source": [
        "However, because the following literals resemble identifiers, even though they are quite long, Python will still automatically intern them:"
      ]
    },
    {
      "cell_type": "code",
      "metadata": {
        "id": "Wj7pi8NT50hg",
        "colab_type": "code",
        "colab": {},
        "outputId": "f328acdd-9b56-47ed-bd30-d8fb5db8bdc1"
      },
      "source": [
        "a = 'hello_world'\n",
        "b = 'hello_world'\n",
        "print(id(a))\n",
        "print(id(b))"
      ],
      "execution_count": null,
      "outputs": [
        {
          "output_type": "stream",
          "text": [
            "1342722047856\n",
            "1342722047856\n"
          ],
          "name": "stdout"
        }
      ]
    },
    {
      "cell_type": "markdown",
      "metadata": {
        "id": "u31mmwtF50hk",
        "colab_type": "text"
      },
      "source": [
        "And even longer:"
      ]
    },
    {
      "cell_type": "code",
      "metadata": {
        "id": "9YKEY8UX50hm",
        "colab_type": "code",
        "colab": {},
        "outputId": "0f9c8a6a-d0df-40f7-824d-9f4240d953e7"
      },
      "source": [
        "a = '_this_is_a_long_string_that_could_be_used_as_an_identifier'\n",
        "b = '_this_is_a_long_string_that_could_be_used_as_an_identifier'\n",
        "print(id(a))\n",
        "print(id(b))"
      ],
      "execution_count": null,
      "outputs": [
        {
          "output_type": "stream",
          "text": [
            "1342721886784\n",
            "1342721886784\n"
          ],
          "name": "stdout"
        }
      ]
    },
    {
      "cell_type": "markdown",
      "metadata": {
        "id": "-pBisVOp50hp",
        "colab_type": "text"
      },
      "source": [
        "Even if the string starts with a digit:"
      ]
    },
    {
      "cell_type": "code",
      "metadata": {
        "id": "Z_3KzM2l50hp",
        "colab_type": "code",
        "colab": {},
        "outputId": "69af941c-a9ee-424d-914e-3500979a1f6e"
      },
      "source": [
        "a = '1_hello_world'\n",
        "b = '1_hello_world'\n",
        "print(id(a))\n",
        "print(id(b))"
      ],
      "execution_count": null,
      "outputs": [
        {
          "output_type": "stream",
          "text": [
            "1342722046256\n",
            "1342722046256\n"
          ],
          "name": "stdout"
        }
      ]
    },
    {
      "cell_type": "markdown",
      "metadata": {
        "id": "6dD1rK2v50hs",
        "colab_type": "text"
      },
      "source": [
        "That was interned (pointer is the same), but look at this one:"
      ]
    },
    {
      "cell_type": "code",
      "metadata": {
        "id": "B5wU1Xly50hs",
        "colab_type": "code",
        "colab": {},
        "outputId": "c057d7ba-cf4e-46ad-918d-a1fbab2c82e0"
      },
      "source": [
        "a = '1 hello world'\n",
        "b = '1 hello world'\n",
        "print(id(a))\n",
        "print(id(b))"
      ],
      "execution_count": null,
      "outputs": [
        {
          "output_type": "stream",
          "text": [
            "1342722046832\n",
            "1342722172592\n"
          ],
          "name": "stdout"
        }
      ]
    },
    {
      "cell_type": "markdown",
      "metadata": {
        "id": "V8TVEsBU50hv",
        "colab_type": "text"
      },
      "source": [
        "Interning strings (making them singleton objects) means that testing for string equality can be done faster by comparing the memory address:"
      ]
    },
    {
      "cell_type": "code",
      "metadata": {
        "id": "uBhfK6VX50hw",
        "colab_type": "code",
        "colab": {},
        "outputId": "135fd6e8-1b24-49f4-9520-72603f66d76f"
      },
      "source": [
        "a = 'this_is_a_long_string'\n",
        "b = 'this_is_a_long_string'\n",
        "print('a==b:', a == b)\n",
        "print('a is b:', a is b)"
      ],
      "execution_count": null,
      "outputs": [
        {
          "output_type": "stream",
          "text": [
            "a==b: True\n",
            "a is b: True\n"
          ],
          "name": "stdout"
        }
      ]
    },
    {
      "cell_type": "markdown",
      "metadata": {
        "id": "91r8noD850h0",
        "colab_type": "text"
      },
      "source": [
        "#### <font color=\"orange\">Note: Remember, using `is` ONLY works if the strings were interned!</font>\n",
        "\n",
        "Here's where this technique fails:"
      ]
    },
    {
      "cell_type": "code",
      "metadata": {
        "id": "BIiJhVYa50h3",
        "colab_type": "code",
        "colab": {},
        "outputId": "f6fc2cac-5dc0-4d25-f9d7-44b4fc6ecfc4"
      },
      "source": [
        "a = 'hello world'\n",
        "b = 'hello world'\n",
        "print('a==b:', a==b)\n",
        "print('a is b:', a is b)"
      ],
      "execution_count": null,
      "outputs": [
        {
          "output_type": "stream",
          "text": [
            "a==b: True\n",
            "a is b: False\n"
          ],
          "name": "stdout"
        }
      ]
    },
    {
      "cell_type": "markdown",
      "metadata": {
        "id": "AIAl1mZZ50h6",
        "colab_type": "text"
      },
      "source": [
        "You *can* force strings to be interned (but only use it if you have a valid performance optimization need):"
      ]
    },
    {
      "cell_type": "code",
      "metadata": {
        "id": "xr-jcrEe50h7",
        "colab_type": "code",
        "colab": {}
      },
      "source": [
        "import sys"
      ],
      "execution_count": null,
      "outputs": []
    },
    {
      "cell_type": "code",
      "metadata": {
        "id": "IDHBr3T850h-",
        "colab_type": "code",
        "colab": {},
        "outputId": "13ef1aee-07b9-422d-c6ca-80c61328c7db"
      },
      "source": [
        "a = sys.intern('hello world')\n",
        "b = sys.intern('hello world')\n",
        "c = 'hello world'\n",
        "print(id(a))\n",
        "print(id(b))\n",
        "print(id(c))"
      ],
      "execution_count": null,
      "outputs": [
        {
          "output_type": "stream",
          "text": [
            "1342722172080\n",
            "1342722172080\n",
            "1342722174896\n"
          ],
          "name": "stdout"
        }
      ]
    },
    {
      "cell_type": "markdown",
      "metadata": {
        "id": "xQcYkpDh50iB",
        "colab_type": "text"
      },
      "source": [
        "Notice how `a` and `b` are pointing to the same object, but `c` is **NOT**.\n",
        "\n",
        "So, since both `a` and `b` were interned we can use `is` to test for equality of the two strings:"
      ]
    },
    {
      "cell_type": "code",
      "metadata": {
        "id": "jOizRh7n50iC",
        "colab_type": "code",
        "colab": {},
        "outputId": "1a333b73-552a-45f4-816b-b1a663965d6d"
      },
      "source": [
        "print('a==b:', a==b)\n",
        "print('a is b:', a is b)"
      ],
      "execution_count": null,
      "outputs": [
        {
          "output_type": "stream",
          "text": [
            "a==b: True\n",
            "a is b: True\n"
          ],
          "name": "stdout"
        }
      ]
    },
    {
      "cell_type": "markdown",
      "metadata": {
        "id": "V3vEGTX550iF",
        "colab_type": "text"
      },
      "source": [
        "So, does interning really make a big speed difference?\n",
        "\n",
        "Yes, but only if you are performing a *lot* of comparisons."
      ]
    },
    {
      "cell_type": "markdown",
      "metadata": {
        "id": "mmRzdeXv50iF",
        "colab_type": "text"
      },
      "source": [
        "Let's run some quick and dirty benchmarks:"
      ]
    },
    {
      "cell_type": "code",
      "metadata": {
        "id": "lRVUlx0650iH",
        "colab_type": "code",
        "colab": {}
      },
      "source": [
        "def compare_using_equals(n):\n",
        "    a = 'a long string that is not interned' * 200\n",
        "    b = 'a long string that is not interned' * 200\n",
        "    for i in range(n):\n",
        "        if a == b:\n",
        "            pass"
      ],
      "execution_count": null,
      "outputs": []
    },
    {
      "cell_type": "code",
      "metadata": {
        "id": "iQL3Nzf-50iJ",
        "colab_type": "code",
        "colab": {}
      },
      "source": [
        "def compare_using_interning(n):\n",
        "    a = sys.intern('a long string that is not interned' * 200)\n",
        "    b = sys.intern('a long string that is not interned' * 200)\n",
        "    for i in range(n):\n",
        "        if a is b:\n",
        "            pass"
      ],
      "execution_count": null,
      "outputs": []
    },
    {
      "cell_type": "code",
      "metadata": {
        "id": "iRTzodV850iN",
        "colab_type": "code",
        "colab": {},
        "outputId": "8269206e-26b0-4186-ad1c-71a5ff934216"
      },
      "source": [
        "import time\n",
        "\n",
        "start = time.perf_counter()\n",
        "compare_using_equals(10000000)\n",
        "end = time.perf_counter()\n",
        "\n",
        "print('equality: ', end-start)\n"
      ],
      "execution_count": null,
      "outputs": [
        {
          "output_type": "stream",
          "text": [
            "equality:  2.965451618090112\n"
          ],
          "name": "stdout"
        }
      ]
    },
    {
      "cell_type": "code",
      "metadata": {
        "id": "WsB-ABOn50iP",
        "colab_type": "code",
        "colab": {},
        "outputId": "9c0d5b7a-ca99-4606-9801-2761ce5cf4f5"
      },
      "source": [
        "start = time.perf_counter()\n",
        "compare_using_interning(10000000)\n",
        "end = time.perf_counter()\n",
        "\n",
        "print('identity: ', end-start)"
      ],
      "execution_count": null,
      "outputs": [
        {
          "output_type": "stream",
          "text": [
            "identity:  0.28690104431129626\n"
          ],
          "name": "stdout"
        }
      ]
    },
    {
      "cell_type": "markdown",
      "metadata": {
        "id": "vmAZzW0C50iS",
        "colab_type": "text"
      },
      "source": [
        "As you can see, the performance difference, especially for long strings, and for many comparisons, can be quite radical!"
      ]
    }
  ]
}