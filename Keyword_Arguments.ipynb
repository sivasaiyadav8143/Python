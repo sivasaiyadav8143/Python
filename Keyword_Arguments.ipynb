{
  "nbformat": 4,
  "nbformat_minor": 0,
  "metadata": {
    "kernelspec": {
      "display_name": "Python 3",
      "language": "python",
      "name": "python3"
    },
    "language_info": {
      "codemirror_mode": {
        "name": "ipython",
        "version": 3
      },
      "file_extension": ".py",
      "mimetype": "text/x-python",
      "name": "python",
      "nbconvert_exporter": "python",
      "pygments_lexer": "ipython3",
      "version": "3.6.1"
    },
    "colab": {
      "name": "Keyword Arguments.ipynb",
      "provenance": [],
      "include_colab_link": true
    }
  },
  "cells": [
    {
      "cell_type": "markdown",
      "metadata": {
        "id": "view-in-github",
        "colab_type": "text"
      },
      "source": [
        "<a href=\"https://colab.research.google.com/github/sivasaiyadav8143/Python/blob/master/Keyword_Arguments.ipynb\" target=\"_parent\"><img src=\"https://colab.research.google.com/assets/colab-badge.svg\" alt=\"Open In Colab\"/></a>"
      ]
    },
    {
      "cell_type": "markdown",
      "metadata": {
        "id": "TuK6xP81iO-y",
        "colab_type": "text"
      },
      "source": [
        "### Keyword Arguments"
      ]
    },
    {
      "cell_type": "markdown",
      "metadata": {
        "id": "K1t7ZbloiO-z",
        "colab_type": "text"
      },
      "source": [
        "positional parameters defined in functions can also be passed as named (keyword) arguments."
      ]
    },
    {
      "cell_type": "code",
      "metadata": {
        "id": "SAnCiAqziO-0",
        "colab_type": "code",
        "colab": {}
      },
      "source": [
        "def func1(a, b, c):\n",
        "    print(a, b, c)"
      ],
      "execution_count": null,
      "outputs": []
    },
    {
      "cell_type": "code",
      "metadata": {
        "id": "KJPymjoniO-5",
        "colab_type": "code",
        "colab": {},
        "outputId": "b06fda11-06d2-4580-d49c-81ee0fbbf7ed"
      },
      "source": [
        "func1(10, 20, 30)"
      ],
      "execution_count": null,
      "outputs": [
        {
          "output_type": "stream",
          "text": [
            "10 20 30\n"
          ],
          "name": "stdout"
        }
      ]
    },
    {
      "cell_type": "code",
      "metadata": {
        "id": "sKrU3YLSiO--",
        "colab_type": "code",
        "colab": {},
        "outputId": "ef87f059-af07-412f-e0d3-fa69253c6544"
      },
      "source": [
        "func1(b=20, c=30, a=10)"
      ],
      "execution_count": null,
      "outputs": [
        {
          "output_type": "stream",
          "text": [
            "10 20 30\n"
          ],
          "name": "stdout"
        }
      ]
    },
    {
      "cell_type": "code",
      "metadata": {
        "id": "3BAENizciO_C",
        "colab_type": "code",
        "colab": {},
        "outputId": "0d911a78-d6c0-409e-a19c-5b15004474c4"
      },
      "source": [
        "func1(10, c=30, b=20)"
      ],
      "execution_count": null,
      "outputs": [
        {
          "output_type": "stream",
          "text": [
            "10 20 30\n"
          ],
          "name": "stdout"
        }
      ]
    },
    {
      "cell_type": "markdown",
      "metadata": {
        "id": "_rbazGWqiO_G",
        "colab_type": "text"
      },
      "source": [
        "Using a named argument is optional and up to the caller."
      ]
    },
    {
      "cell_type": "markdown",
      "metadata": {
        "id": "H1vgs37BiO_G",
        "colab_type": "text"
      },
      "source": [
        "What if we wanted to force calls to our function to use named arguments?"
      ]
    },
    {
      "cell_type": "markdown",
      "metadata": {
        "id": "Ld5-vf8jiO_H",
        "colab_type": "text"
      },
      "source": [
        "We can do so by **exhausting** all the positional arguments, and then adding some additional parameters in teh function definition:"
      ]
    },
    {
      "cell_type": "code",
      "metadata": {
        "id": "OLTR_2uAiO_H",
        "colab_type": "code",
        "colab": {}
      },
      "source": [
        "def func1(a, b, *args, d):\n",
        "    print(a, b, args, d)"
      ],
      "execution_count": null,
      "outputs": []
    },
    {
      "cell_type": "markdown",
      "metadata": {
        "id": "OshVrSPBiO_K",
        "colab_type": "text"
      },
      "source": [
        "Now we will need at least two positional arguments, an optional (possibly even zero) number of additional arguments, and this extra argument which is supposed to go into **d**. This argument can **only** be passed to the function using a named (keyword) argument:"
      ]
    },
    {
      "cell_type": "markdown",
      "metadata": {
        "id": "uCQMU5x1iO_L",
        "colab_type": "text"
      },
      "source": [
        "So, this will not work:"
      ]
    },
    {
      "cell_type": "code",
      "metadata": {
        "id": "IgPcvgd9iO_L",
        "colab_type": "code",
        "colab": {},
        "outputId": "df2ae7a2-047b-4ff4-c293-2d8473ea2e06"
      },
      "source": [
        "func1(10, 20, 'a', 'b', 100)"
      ],
      "execution_count": null,
      "outputs": [
        {
          "output_type": "error",
          "ename": "TypeError",
          "evalue": "func1() missing 1 required keyword-only argument: 'd'",
          "traceback": [
            "\u001b[1;31m---------------------------------------------------------------------------\u001b[0m",
            "\u001b[1;31mTypeError\u001b[0m                                 Traceback (most recent call last)",
            "\u001b[1;32m<ipython-input-6-50a3343cf093>\u001b[0m in \u001b[0;36m<module>\u001b[1;34m()\u001b[0m\n\u001b[1;32m----> 1\u001b[1;33m \u001b[0mfunc1\u001b[0m\u001b[1;33m(\u001b[0m\u001b[1;36m10\u001b[0m\u001b[1;33m,\u001b[0m \u001b[1;36m20\u001b[0m\u001b[1;33m,\u001b[0m \u001b[1;34m'a'\u001b[0m\u001b[1;33m,\u001b[0m \u001b[1;34m'b'\u001b[0m\u001b[1;33m,\u001b[0m \u001b[1;36m100\u001b[0m\u001b[1;33m)\u001b[0m\u001b[1;33m\u001b[0m\u001b[0m\n\u001b[0m",
            "\u001b[1;31mTypeError\u001b[0m: func1() missing 1 required keyword-only argument: 'd'"
          ]
        }
      ]
    },
    {
      "cell_type": "markdown",
      "metadata": {
        "id": "orOa0Nn7iO_O",
        "colab_type": "text"
      },
      "source": [
        "But this will:"
      ]
    },
    {
      "cell_type": "code",
      "metadata": {
        "id": "z_qRYCkViO_P",
        "colab_type": "code",
        "colab": {}
      },
      "source": [
        "func1(10, 20, 'a', 'b', d=100)"
      ],
      "execution_count": null,
      "outputs": []
    },
    {
      "cell_type": "markdown",
      "metadata": {
        "id": "mak08fcriO_R",
        "colab_type": "text"
      },
      "source": [
        "As you can see, **d** took the keyword argument, while the remaining arguments were handled as positional parameters."
      ]
    },
    {
      "cell_type": "markdown",
      "metadata": {
        "id": "9gFzlQfmiO_S",
        "colab_type": "text"
      },
      "source": [
        "We can even define a function that has only optional positional arguments and mandatory keyword arguments:"
      ]
    },
    {
      "cell_type": "code",
      "metadata": {
        "id": "ymCZsxjKiO_S",
        "colab_type": "code",
        "colab": {}
      },
      "source": [
        "def func1(*args, d):\n",
        "    print(args)\n",
        "    print(d)"
      ],
      "execution_count": null,
      "outputs": []
    },
    {
      "cell_type": "code",
      "metadata": {
        "id": "2yQk-8qciO_V",
        "colab_type": "code",
        "colab": {}
      },
      "source": [
        "func1(1, 2, 3, d='hello')"
      ],
      "execution_count": null,
      "outputs": []
    },
    {
      "cell_type": "markdown",
      "metadata": {
        "id": "--W7DDAfiO_X",
        "colab_type": "text"
      },
      "source": [
        "We can of course, not pass any positional arguments:"
      ]
    },
    {
      "cell_type": "code",
      "metadata": {
        "id": "XuK25CAliO_Y",
        "colab_type": "code",
        "colab": {}
      },
      "source": [
        "func1(d='hello')"
      ],
      "execution_count": null,
      "outputs": []
    },
    {
      "cell_type": "markdown",
      "metadata": {
        "id": "gYTRT2cTiO_a",
        "colab_type": "text"
      },
      "source": [
        "but the positional argument is mandatory (since no default was provided in the function definition):"
      ]
    },
    {
      "cell_type": "code",
      "metadata": {
        "id": "-ihi2cJQiO_b",
        "colab_type": "code",
        "colab": {}
      },
      "source": [
        "func1()"
      ],
      "execution_count": null,
      "outputs": []
    },
    {
      "cell_type": "markdown",
      "metadata": {
        "id": "ZOELWpOQiO_g",
        "colab_type": "text"
      },
      "source": [
        "To make the keyword argument optional, we just need to specify a default value in the function definition:"
      ]
    },
    {
      "cell_type": "code",
      "metadata": {
        "id": "cBC6blAbiO_g",
        "colab_type": "code",
        "colab": {}
      },
      "source": [
        "def func1(*args, d='n/a'):\n",
        "    print(args)\n",
        "    print(d)"
      ],
      "execution_count": null,
      "outputs": []
    },
    {
      "cell_type": "code",
      "metadata": {
        "id": "JASyz4jjiO_l",
        "colab_type": "code",
        "colab": {}
      },
      "source": [
        "func1(1, 2, 3)"
      ],
      "execution_count": null,
      "outputs": []
    },
    {
      "cell_type": "code",
      "metadata": {
        "id": "cE47Frc4iO_q",
        "colab_type": "code",
        "colab": {}
      },
      "source": [
        "func1()"
      ],
      "execution_count": null,
      "outputs": []
    },
    {
      "cell_type": "markdown",
      "metadata": {
        "id": "2e4w6-GmiO_s",
        "colab_type": "text"
      },
      "source": [
        "Sometimes we want **only** keyword arguments, in which case we still have to exhaust the positional arguments first - but we can use the following syntax if we do not want any positional parameters passed in:"
      ]
    },
    {
      "cell_type": "code",
      "metadata": {
        "id": "mG-4XEPWiO_t",
        "colab_type": "code",
        "colab": {}
      },
      "source": [
        "def func1(*, d='hello'):\n",
        "    print(d)"
      ],
      "execution_count": null,
      "outputs": []
    },
    {
      "cell_type": "code",
      "metadata": {
        "id": "QvxgQiXJiO_w",
        "colab_type": "code",
        "colab": {}
      },
      "source": [
        "func1(10, d='bye')"
      ],
      "execution_count": null,
      "outputs": []
    },
    {
      "cell_type": "code",
      "metadata": {
        "id": "IC9HyxBLiO_z",
        "colab_type": "code",
        "colab": {}
      },
      "source": [
        "func1(d='bye')"
      ],
      "execution_count": null,
      "outputs": []
    },
    {
      "cell_type": "markdown",
      "metadata": {
        "id": "5QFhSsC7iO_2",
        "colab_type": "text"
      },
      "source": [
        "Of course, if we do not provide a default value for the keyword argument, then we effectively are forcing the caller to provide the keyword argument:"
      ]
    },
    {
      "cell_type": "code",
      "metadata": {
        "id": "siwHSNGxiO_2",
        "colab_type": "code",
        "colab": {}
      },
      "source": [
        "def func1(*, a, b):\n",
        "    print(a)\n",
        "    print(b)"
      ],
      "execution_count": null,
      "outputs": []
    },
    {
      "cell_type": "code",
      "metadata": {
        "id": "o6nRMhsciO_5",
        "colab_type": "code",
        "colab": {}
      },
      "source": [
        "func1(a=10, b=20)"
      ],
      "execution_count": null,
      "outputs": []
    },
    {
      "cell_type": "markdown",
      "metadata": {
        "id": "Qii76Lk-iO_8",
        "colab_type": "text"
      },
      "source": [
        "but, the following would not work:"
      ]
    },
    {
      "cell_type": "code",
      "metadata": {
        "id": "XnFjWoCriO_8",
        "colab_type": "code",
        "colab": {}
      },
      "source": [
        "func1(10, 20)"
      ],
      "execution_count": null,
      "outputs": []
    },
    {
      "cell_type": "markdown",
      "metadata": {
        "id": "QoR2Yf7LiO__",
        "colab_type": "text"
      },
      "source": [
        "Unlike positional parameters, keyword arguments do not have to be defined with non-defaulted and then defaulted arguments:"
      ]
    },
    {
      "cell_type": "code",
      "metadata": {
        "id": "JPkqyexoiPAA",
        "colab_type": "code",
        "colab": {}
      },
      "source": [
        "def func1(a, *, b='hello', c):\n",
        "    print(a, b, c)"
      ],
      "execution_count": null,
      "outputs": []
    },
    {
      "cell_type": "code",
      "metadata": {
        "id": "CbZHmowWiPAD",
        "colab_type": "code",
        "colab": {}
      },
      "source": [
        "func1(5, c='bye')"
      ],
      "execution_count": null,
      "outputs": []
    },
    {
      "cell_type": "markdown",
      "metadata": {
        "id": "FnHPES7OiPAF",
        "colab_type": "text"
      },
      "source": [
        "We can also include positional non-defaulted (first), positional defaulted (after positional non-defaulted) followed lastly (after exhausting positional arguments) by keyword args (defaulted or non-defaulted in any order)"
      ]
    },
    {
      "cell_type": "code",
      "metadata": {
        "id": "M80wRZ4NiPAG",
        "colab_type": "code",
        "colab": {}
      },
      "source": [
        "def func1(a, b=20, *args, d=0, e='n/a'):\n",
        "    print(a, b, args, d, e)"
      ],
      "execution_count": null,
      "outputs": []
    },
    {
      "cell_type": "code",
      "metadata": {
        "id": "RHqiSW6WiPAI",
        "colab_type": "code",
        "colab": {}
      },
      "source": [
        "func1(5, 4, 3, 2, 1, d=0, e='all engines running')"
      ],
      "execution_count": null,
      "outputs": []
    },
    {
      "cell_type": "code",
      "metadata": {
        "id": "4H77vUULiPAK",
        "colab_type": "code",
        "colab": {}
      },
      "source": [
        "func1(0, 600, d='goooood morning', e='python!')"
      ],
      "execution_count": null,
      "outputs": []
    },
    {
      "cell_type": "code",
      "metadata": {
        "id": "NDbAi1JWiPAM",
        "colab_type": "code",
        "colab": {}
      },
      "source": [
        "func1(11, 'm/s', 24, 'mph', d='unladen', e='swallow')"
      ],
      "execution_count": null,
      "outputs": []
    },
    {
      "cell_type": "markdown",
      "metadata": {
        "id": "ItrQYDmLiPAP",
        "colab_type": "text"
      },
      "source": [
        "As you can see, defining parameters and passing arguments is extremely flexible in Python! Even more so, when you account for the fact that the parameters are not statically typed!"
      ]
    }
  ]
}