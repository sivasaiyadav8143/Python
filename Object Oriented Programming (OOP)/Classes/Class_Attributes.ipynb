{
  "nbformat": 4,
  "nbformat_minor": 0,
  "metadata": {
    "kernelspec": {
      "display_name": "Python 3",
      "language": "python",
      "name": "python3"
    },
    "language_info": {
      "codemirror_mode": {
        "name": "ipython",
        "version": 3
      },
      "file_extension": ".py",
      "mimetype": "text/x-python",
      "name": "python",
      "nbconvert_exporter": "python",
      "pygments_lexer": "ipython3",
      "version": "3.6.7"
    },
    "colab": {
      "name": "Class Attributes.ipynb",
      "provenance": [],
      "collapsed_sections": []
    }
  },
  "cells": [
    {
      "cell_type": "markdown",
      "metadata": {
        "id": "b1wjSICjc2Et"
      },
      "source": [
        "### Class Attributes"
      ]
    },
    {
      "cell_type": "markdown",
      "metadata": {
        "id": "QhuY_A3rc2E3"
      },
      "source": [
        "When we create a class Python automatically builds-in properties and behaviors into our class object, like making it callable, and properties like `__name__`."
      ]
    },
    {
      "cell_type": "code",
      "metadata": {
        "id": "OWUVfeQfc2E5"
      },
      "source": [
        "class Siva:\n",
        "    pass"
      ],
      "execution_count": 1,
      "outputs": []
    },
    {
      "cell_type": "code",
      "metadata": {
        "id": "2whsOAG6c2E-",
        "outputId": "a0c7e3cd-c8b2-491c-fbd4-388d9436a1ec",
        "colab": {
          "base_uri": "https://localhost:8080/",
          "height": 35
        }
      },
      "source": [
        "Siva.__name__"
      ],
      "execution_count": 2,
      "outputs": [
        {
          "output_type": "execute_result",
          "data": {
            "application/vnd.google.colaboratory.intrinsic+json": {
              "type": "string"
            },
            "text/plain": [
              "'Siva'"
            ]
          },
          "metadata": {
            "tags": []
          },
          "execution_count": 2
        }
      ]
    },
    {
      "cell_type": "markdown",
      "metadata": {
        "id": "CMdmqNQWc2FD"
      },
      "source": [
        "`__name__` is a **class attribute**. We can add our own class attributes easily this way:"
      ]
    },
    {
      "cell_type": "code",
      "metadata": {
        "id": "S9uK9UkZc2FD"
      },
      "source": [
        "class Program:\n",
        "    language = 'Python'\n",
        "    version = '3.6'"
      ],
      "execution_count": 5,
      "outputs": []
    },
    {
      "cell_type": "code",
      "metadata": {
        "id": "_c5WvksUc2FI",
        "outputId": "afb47c88-988d-4d30-9f42-ebddadb0052b",
        "colab": {
          "base_uri": "https://localhost:8080/",
          "height": 35
        }
      },
      "source": [
        "Program.__name__"
      ],
      "execution_count": 6,
      "outputs": [
        {
          "output_type": "execute_result",
          "data": {
            "application/vnd.google.colaboratory.intrinsic+json": {
              "type": "string"
            },
            "text/plain": [
              "'Program'"
            ]
          },
          "metadata": {
            "tags": []
          },
          "execution_count": 6
        }
      ]
    },
    {
      "cell_type": "code",
      "metadata": {
        "id": "48wmlJlTc2FM",
        "outputId": "a2c7df75-47d9-4ee6-e45c-6b4530238084",
        "colab": {
          "base_uri": "https://localhost:8080/",
          "height": 35
        }
      },
      "source": [
        "Program.language"
      ],
      "execution_count": 7,
      "outputs": [
        {
          "output_type": "execute_result",
          "data": {
            "application/vnd.google.colaboratory.intrinsic+json": {
              "type": "string"
            },
            "text/plain": [
              "'Python'"
            ]
          },
          "metadata": {
            "tags": []
          },
          "execution_count": 7
        }
      ]
    },
    {
      "cell_type": "code",
      "metadata": {
        "id": "DOlgYNIxc2FT",
        "outputId": "c06a99ba-a6f8-43df-e81b-df1bff86ac86",
        "colab": {
          "base_uri": "https://localhost:8080/",
          "height": 35
        }
      },
      "source": [
        "Program.version"
      ],
      "execution_count": 8,
      "outputs": [
        {
          "output_type": "execute_result",
          "data": {
            "application/vnd.google.colaboratory.intrinsic+json": {
              "type": "string"
            },
            "text/plain": [
              "'3.6'"
            ]
          },
          "metadata": {
            "tags": []
          },
          "execution_count": 8
        }
      ]
    },
    {
      "cell_type": "markdown",
      "metadata": {
        "id": "5gtl3VLFc2Fe"
      },
      "source": [
        "Here we used \"dotted notation\" to access the class attributes. In fact we can also use dotted notation to set the class attribute:"
      ]
    },
    {
      "cell_type": "code",
      "metadata": {
        "id": "22jAP-wsc2Fg"
      },
      "source": [
        "Program.version = '3.7'"
      ],
      "execution_count": 9,
      "outputs": []
    },
    {
      "cell_type": "code",
      "metadata": {
        "id": "OLo76Osyc2Ft",
        "outputId": "ccb605a4-d331-4c3e-da63-4d3751127c7e",
        "colab": {
          "base_uri": "https://localhost:8080/",
          "height": 35
        }
      },
      "source": [
        "Program.version"
      ],
      "execution_count": 10,
      "outputs": [
        {
          "output_type": "execute_result",
          "data": {
            "application/vnd.google.colaboratory.intrinsic+json": {
              "type": "string"
            },
            "text/plain": [
              "'3.7'"
            ]
          },
          "metadata": {
            "tags": []
          },
          "execution_count": 10
        }
      ]
    },
    {
      "cell_type": "markdown",
      "metadata": {
        "id": "j5krjZhZc2F0"
      },
      "source": [
        "But we can also use the functions `getattr` and `setattr` to read and write these attributes:"
      ]
    },
    {
      "cell_type": "code",
      "metadata": {
        "id": "OxhVBQMec2F1",
        "outputId": "265258f0-f3b6-4c7e-bf1f-e29a062fa568",
        "colab": {
          "base_uri": "https://localhost:8080/",
          "height": 35
        }
      },
      "source": [
        "getattr(Program, 'version')"
      ],
      "execution_count": 11,
      "outputs": [
        {
          "output_type": "execute_result",
          "data": {
            "application/vnd.google.colaboratory.intrinsic+json": {
              "type": "string"
            },
            "text/plain": [
              "'3.7'"
            ]
          },
          "metadata": {
            "tags": []
          },
          "execution_count": 11
        }
      ]
    },
    {
      "cell_type": "code",
      "metadata": {
        "id": "kBesBOkoc2GL"
      },
      "source": [
        "setattr(Program, 'version', '3.6')"
      ],
      "execution_count": 12,
      "outputs": []
    },
    {
      "cell_type": "code",
      "metadata": {
        "id": "sf2worMHc2GS",
        "outputId": "053f926e-3db6-4e6b-f59a-379510d3ba2a",
        "colab": {
          "base_uri": "https://localhost:8080/"
        }
      },
      "source": [
        "Program.version, getattr(Program, 'version')"
      ],
      "execution_count": 13,
      "outputs": [
        {
          "output_type": "execute_result",
          "data": {
            "text/plain": [
              "('3.6', '3.6')"
            ]
          },
          "metadata": {
            "tags": []
          },
          "execution_count": 13
        }
      ]
    },
    {
      "cell_type": "code",
      "metadata": {
        "id": "OG0_ElVSe3O5",
        "outputId": "fea50308-c322-4692-fa7d-6c758b53ca15",
        "colab": {
          "base_uri": "https://localhost:8080/",
          "height": 163
        }
      },
      "source": [
        "getattr(Program,'x')"
      ],
      "execution_count": 14,
      "outputs": [
        {
          "output_type": "error",
          "ename": "AttributeError",
          "evalue": "ignored",
          "traceback": [
            "\u001b[0;31m---------------------------------------------------------------------------\u001b[0m",
            "\u001b[0;31mAttributeError\u001b[0m                            Traceback (most recent call last)",
            "\u001b[0;32m<ipython-input-14-bede973ad2bc>\u001b[0m in \u001b[0;36m<module>\u001b[0;34m()\u001b[0m\n\u001b[0;32m----> 1\u001b[0;31m \u001b[0mgetattr\u001b[0m\u001b[0;34m(\u001b[0m\u001b[0mProgram\u001b[0m\u001b[0;34m,\u001b[0m\u001b[0;34m'x'\u001b[0m\u001b[0;34m)\u001b[0m\u001b[0;34m\u001b[0m\u001b[0;34m\u001b[0m\u001b[0m\n\u001b[0m",
            "\u001b[0;31mAttributeError\u001b[0m: type object 'Program' has no attribute 'x'"
          ]
        }
      ]
    },
    {
      "cell_type": "markdown",
      "metadata": {
        "id": "0Jq0jfjbfLbK"
      },
      "source": [
        "We can set a default value like below"
      ]
    },
    {
      "cell_type": "code",
      "metadata": {
        "id": "rSa_6se-e8bZ",
        "outputId": "b8104e2a-70a6-4f77-fe89-c4688784467b",
        "colab": {
          "base_uri": "https://localhost:8080/",
          "height": 35
        }
      },
      "source": [
        "getattr(Program,'x','No Value')"
      ],
      "execution_count": 15,
      "outputs": [
        {
          "output_type": "execute_result",
          "data": {
            "application/vnd.google.colaboratory.intrinsic+json": {
              "type": "string"
            },
            "text/plain": [
              "'No Value'"
            ]
          },
          "metadata": {
            "tags": []
          },
          "execution_count": 15
        }
      ]
    },
    {
      "cell_type": "markdown",
      "metadata": {
        "id": "_r1g21Hcc2GY"
      },
      "source": [
        "Python is a dynamic language, and we can create attributes at run-time, outside of the class definition itself:"
      ]
    },
    {
      "cell_type": "code",
      "metadata": {
        "id": "w6Me8q1ac2Ga"
      },
      "source": [
        "Program.x = 100"
      ],
      "execution_count": null,
      "outputs": []
    },
    {
      "cell_type": "markdown",
      "metadata": {
        "id": "iO6NvGwyc2Gh"
      },
      "source": [
        "Using dotted notation we added an attribute `x` to the Person class:"
      ]
    },
    {
      "cell_type": "code",
      "metadata": {
        "id": "NHLCgjX8c2Gi",
        "outputId": "203c2ad1-0c67-470f-a88f-84771821f382"
      },
      "source": [
        "Program.x, getattr(Program, 'x')"
      ],
      "execution_count": null,
      "outputs": [
        {
          "output_type": "execute_result",
          "data": {
            "text/plain": [
              "(100, 100)"
            ]
          },
          "metadata": {
            "tags": []
          },
          "execution_count": 13
        }
      ]
    },
    {
      "cell_type": "markdown",
      "metadata": {
        "id": "PMWVgqg5c2Go"
      },
      "source": [
        "We could also just have used a `setattr` function call:"
      ]
    },
    {
      "cell_type": "code",
      "metadata": {
        "id": "ig_Mn7PAc2Gp"
      },
      "source": [
        "setattr(Program, 'y', 200)"
      ],
      "execution_count": null,
      "outputs": []
    },
    {
      "cell_type": "code",
      "metadata": {
        "id": "PJ6bcv-xc2Gy",
        "outputId": "4be3e517-5c18-4f35-9ee3-7e7367d06591"
      },
      "source": [
        "Program.y, getattr(Program, 'y')"
      ],
      "execution_count": null,
      "outputs": [
        {
          "output_type": "execute_result",
          "data": {
            "text/plain": [
              "(200, 200)"
            ]
          },
          "metadata": {
            "tags": []
          },
          "execution_count": 15
        }
      ]
    },
    {
      "cell_type": "markdown",
      "metadata": {
        "id": "Ac1yU66Jc2G3"
      },
      "source": [
        "So where is the state stored? Usually in a dictionary that is attached to the **class** object (often referred to as the **namespace** of the class):"
      ]
    },
    {
      "cell_type": "code",
      "metadata": {
        "id": "0c0O1oqpc2G3",
        "outputId": "ae13127c-bd4a-45bd-a392-1e814b03ef1b"
      },
      "source": [
        "Program.__dict__"
      ],
      "execution_count": null,
      "outputs": [
        {
          "output_type": "execute_result",
          "data": {
            "text/plain": [
              "mappingproxy({'__module__': '__main__',\n",
              "              'language': 'Python',\n",
              "              'version': '3.6',\n",
              "              '__dict__': <attribute '__dict__' of 'Program' objects>,\n",
              "              '__weakref__': <attribute '__weakref__' of 'Program' objects>,\n",
              "              '__doc__': None,\n",
              "              'x': 100,\n",
              "              'y': 200})"
            ]
          },
          "metadata": {
            "tags": []
          },
          "execution_count": 16
        }
      ]
    },
    {
      "cell_type": "markdown",
      "metadata": {
        "id": "13NmhODGc2G7"
      },
      "source": [
        "As you can see that dictionary contains our attributes: `language`, `version`, `x`, `y` with their corresponding current values."
      ]
    },
    {
      "cell_type": "markdown",
      "metadata": {
        "id": "rpR0pJiDc2G8"
      },
      "source": [
        "Notice also that `Program.__dict__` does not return a dictionary, but a `mappingproxy` object - this is essentially a read-only dictionary that we cannot modify directly (but we can modify it by using `setattr`, or dotted notation)."
      ]
    },
    {
      "cell_type": "markdown",
      "metadata": {
        "id": "ymlqRlMsc2G8"
      },
      "source": [
        "For example, if we change the value of an attribute:"
      ]
    },
    {
      "cell_type": "code",
      "metadata": {
        "id": "0BrKQ78lc2G-"
      },
      "source": [
        "setattr(Program, 'x', -10)"
      ],
      "execution_count": null,
      "outputs": []
    },
    {
      "cell_type": "markdown",
      "metadata": {
        "id": "U-y1rTIac2HB"
      },
      "source": [
        "We'll see this reflected in the underlying dictionary:"
      ]
    },
    {
      "cell_type": "code",
      "metadata": {
        "id": "5g4fdSnwc2HC",
        "outputId": "8d4a08af-601f-4890-8a81-e9da0e3af037"
      },
      "source": [
        "Program.__dict__"
      ],
      "execution_count": null,
      "outputs": [
        {
          "output_type": "execute_result",
          "data": {
            "text/plain": [
              "mappingproxy({'__module__': '__main__',\n",
              "              'language': 'Python',\n",
              "              'version': '3.6',\n",
              "              '__dict__': <attribute '__dict__' of 'Program' objects>,\n",
              "              '__weakref__': <attribute '__weakref__' of 'Program' objects>,\n",
              "              '__doc__': None,\n",
              "              'x': -10,\n",
              "              'y': 200})"
            ]
          },
          "metadata": {
            "tags": []
          },
          "execution_count": 18
        }
      ]
    },
    {
      "cell_type": "markdown",
      "metadata": {
        "id": "2-LCP3BSc2HE"
      },
      "source": [
        "#### Deleting Attributes"
      ]
    },
    {
      "cell_type": "markdown",
      "metadata": {
        "id": "54V52oOnc2HF"
      },
      "source": [
        "So, we can create and mutate class attributes at run-time. Can we delete attributes too?\n",
        "\n",
        "The answer of course is yes. We can either use the `del` keyword, or the `delattr` function:"
      ]
    },
    {
      "cell_type": "code",
      "metadata": {
        "id": "vJlNiP9Kc2HF"
      },
      "source": [
        "del Program.x"
      ],
      "execution_count": null,
      "outputs": []
    },
    {
      "cell_type": "code",
      "metadata": {
        "id": "38IO0iB9c2HH",
        "outputId": "65f72201-ac99-48b3-b437-7e2bca83c17f"
      },
      "source": [
        "Program.__dict__"
      ],
      "execution_count": null,
      "outputs": [
        {
          "output_type": "execute_result",
          "data": {
            "text/plain": [
              "mappingproxy({'__module__': '__main__',\n",
              "              'language': 'Python',\n",
              "              'version': '3.6',\n",
              "              '__dict__': <attribute '__dict__' of 'Program' objects>,\n",
              "              '__weakref__': <attribute '__weakref__' of 'Program' objects>,\n",
              "              '__doc__': None,\n",
              "              'y': 200})"
            ]
          },
          "metadata": {
            "tags": []
          },
          "execution_count": 20
        }
      ]
    },
    {
      "cell_type": "code",
      "metadata": {
        "id": "8A0F6s0fc2HK"
      },
      "source": [
        "delattr(Program, 'y')"
      ],
      "execution_count": null,
      "outputs": []
    },
    {
      "cell_type": "markdown",
      "metadata": {
        "id": "8h8_nAwRc2HP"
      },
      "source": [
        "#### Direct Namespace Access"
      ]
    },
    {
      "cell_type": "code",
      "metadata": {
        "id": "OEDuAYw6c2HQ",
        "outputId": "50d45e18-f893-4a3d-811c-cacb34de543d"
      },
      "source": [
        "Program.__dict__"
      ],
      "execution_count": null,
      "outputs": [
        {
          "output_type": "execute_result",
          "data": {
            "text/plain": [
              "mappingproxy({'__module__': '__main__',\n",
              "              'language': 'Python',\n",
              "              'version': '3.6',\n",
              "              '__dict__': <attribute '__dict__' of 'Program' objects>,\n",
              "              '__weakref__': <attribute '__weakref__' of 'Program' objects>,\n",
              "              '__doc__': None})"
            ]
          },
          "metadata": {
            "tags": []
          },
          "execution_count": 22
        }
      ]
    },
    {
      "cell_type": "markdown",
      "metadata": {
        "id": "r_hfOBHac2HT"
      },
      "source": [
        "Although `__dict__` returns a `mappingproxy` object, it still is a hash map and essentially behaves like a read-only dictionary:"
      ]
    },
    {
      "cell_type": "code",
      "metadata": {
        "id": "bWR9-pZOc2HT",
        "outputId": "f41071eb-276e-4b0d-909f-b7e54c5b7b62"
      },
      "source": [
        "Program.__dict__['language']"
      ],
      "execution_count": null,
      "outputs": [
        {
          "output_type": "execute_result",
          "data": {
            "text/plain": [
              "'Python'"
            ]
          },
          "metadata": {
            "tags": []
          },
          "execution_count": 23
        }
      ]
    },
    {
      "cell_type": "code",
      "metadata": {
        "id": "-QSmsly-c2HW",
        "outputId": "4002bfb9-f4c8-4edc-81a9-799f6663dc7d"
      },
      "source": [
        "list(Program.__dict__.items())"
      ],
      "execution_count": null,
      "outputs": [
        {
          "output_type": "execute_result",
          "data": {
            "text/plain": [
              "[('__module__', '__main__'),\n",
              " ('language', 'Python'),\n",
              " ('version', '3.6'),\n",
              " ('__dict__', <attribute '__dict__' of 'Program' objects>),\n",
              " ('__weakref__', <attribute '__weakref__' of 'Program' objects>),\n",
              " ('__doc__', None)]"
            ]
          },
          "metadata": {
            "tags": []
          },
          "execution_count": 24
        }
      ]
    },
    {
      "cell_type": "markdown",
      "metadata": {
        "id": "dCZX_m-5c2HZ"
      },
      "source": [
        "One word of caution: not every attribute that a class has lives in that dictionary (we'll come back to this later).\n",
        "\n",
        "For example, you'll notice that the `__name__` attribute is not there:"
      ]
    },
    {
      "cell_type": "code",
      "metadata": {
        "id": "jADDFwZ8c2Ha",
        "outputId": "31d5f80b-dc83-4f67-de1e-dfd0b684c270"
      },
      "source": [
        "Program.__name__"
      ],
      "execution_count": null,
      "outputs": [
        {
          "output_type": "execute_result",
          "data": {
            "text/plain": [
              "'Program'"
            ]
          },
          "metadata": {
            "tags": []
          },
          "execution_count": 25
        }
      ]
    },
    {
      "cell_type": "code",
      "metadata": {
        "id": "Lk1GOPTOc2Hf",
        "outputId": "207c85d7-8795-412d-d2d5-8423a2d45982"
      },
      "source": [
        "__name__ in Program.__dict__"
      ],
      "execution_count": null,
      "outputs": [
        {
          "output_type": "execute_result",
          "data": {
            "text/plain": [
              "False"
            ]
          },
          "metadata": {
            "tags": []
          },
          "execution_count": 26
        }
      ]
    }
  ]
}