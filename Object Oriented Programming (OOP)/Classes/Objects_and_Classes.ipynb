{
  "nbformat": 4,
  "nbformat_minor": 0,
  "metadata": {
    "kernelspec": {
      "display_name": "Python 3",
      "language": "python",
      "name": "python3"
    },
    "language_info": {
      "codemirror_mode": {
        "name": "ipython",
        "version": 3
      },
      "file_extension": ".py",
      "mimetype": "text/x-python",
      "name": "python",
      "nbconvert_exporter": "python",
      "pygments_lexer": "ipython3",
      "version": "3.6.7"
    },
    "colab": {
      "name": "Objects and Classes.ipynb",
      "provenance": [],
      "collapsed_sections": []
    }
  },
  "cells": [
    {
      "cell_type": "markdown",
      "metadata": {
        "id": "n883xvQ_VGzG"
      },
      "source": [
        "### Objects and Classes"
      ]
    },
    {
      "cell_type": "markdown",
      "metadata": {
        "id": "qvIGojWaVGzJ"
      },
      "source": [
        "A class is a type of object. In Python we create classes using the `class` keyword."
      ]
    },
    {
      "cell_type": "code",
      "metadata": {
        "id": "uBXMYFlcVGzL"
      },
      "source": [
        "class Person:\n",
        "    pass"
      ],
      "execution_count": null,
      "outputs": []
    },
    {
      "cell_type": "markdown",
      "metadata": {
        "id": "z2eseREOVGzX"
      },
      "source": [
        "Now this class doesn't do much, but it is an object of type `type` (which is itself an object)."
      ]
    },
    {
      "cell_type": "code",
      "metadata": {
        "id": "LsA5yrRvVGzY",
        "outputId": "45d102e9-cffd-4f6a-c0a6-a27d1fcf9626"
      },
      "source": [
        "type(Person)"
      ],
      "execution_count": null,
      "outputs": [
        {
          "output_type": "execute_result",
          "data": {
            "text/plain": [
              "type"
            ]
          },
          "metadata": {
            "tags": []
          },
          "execution_count": 2
        }
      ]
    },
    {
      "cell_type": "code",
      "metadata": {
        "id": "-qlbsHx6VGzf",
        "outputId": "19a55631-d709-4a5c-cd3c-4de8930077e7"
      },
      "source": [
        "type(type)"
      ],
      "execution_count": null,
      "outputs": [
        {
          "output_type": "execute_result",
          "data": {
            "text/plain": [
              "type"
            ]
          },
          "metadata": {
            "tags": []
          },
          "execution_count": 3
        }
      ]
    },
    {
      "cell_type": "markdown",
      "metadata": {
        "id": "08t04JoCVGzi"
      },
      "source": [
        "Classes have \"built-in\" attributes, even though we did not specifically add any to the class ourselves.\n",
        "\n",
        "For example, they have a name:"
      ]
    },
    {
      "cell_type": "code",
      "metadata": {
        "id": "P5eUphoXVGzi",
        "outputId": "fe35a773-e469-4f2b-913e-1e0fe535ef49"
      },
      "source": [
        "Person.__name__"
      ],
      "execution_count": null,
      "outputs": [
        {
          "output_type": "execute_result",
          "data": {
            "text/plain": [
              "'Person'"
            ]
          },
          "metadata": {
            "tags": []
          },
          "execution_count": 4
        }
      ]
    },
    {
      "cell_type": "markdown",
      "metadata": {
        "id": "KaOxsFdTVGzn"
      },
      "source": [
        "They are also callables, and calling a class results in the creation and return of a new **instance** of that class:"
      ]
    },
    {
      "cell_type": "code",
      "metadata": {
        "id": "fcfsJUyoVGzn"
      },
      "source": [
        "p = Person()"
      ],
      "execution_count": null,
      "outputs": []
    },
    {
      "cell_type": "markdown",
      "metadata": {
        "id": "F1A5w5-yVGzq"
      },
      "source": [
        "Now the type of the object is the class used to build that object:"
      ]
    },
    {
      "cell_type": "code",
      "metadata": {
        "id": "ke1NTUbgVGzr",
        "outputId": "e7060c73-fe4e-4f99-f210-dd07c756888a"
      },
      "source": [
        "type(p)"
      ],
      "execution_count": null,
      "outputs": [
        {
          "output_type": "execute_result",
          "data": {
            "text/plain": [
              "__main__.Person"
            ]
          },
          "metadata": {
            "tags": []
          },
          "execution_count": 6
        }
      ]
    },
    {
      "cell_type": "markdown",
      "metadata": {
        "id": "kaQpTceoVGzv"
      },
      "source": [
        "These instances also have \"built_in\" properties, which we will cover throughout this course.\n",
        "\n",
        "For example, they have a `__class__` property that tells us which class was used to create the instance:"
      ]
    },
    {
      "cell_type": "code",
      "metadata": {
        "id": "KR_dMaVAVGzw",
        "outputId": "cabb4bbe-993a-4043-bd20-deabc195abb0"
      },
      "source": [
        "p.__class__"
      ],
      "execution_count": null,
      "outputs": [
        {
          "output_type": "execute_result",
          "data": {
            "text/plain": [
              "__main__.Person"
            ]
          },
          "metadata": {
            "tags": []
          },
          "execution_count": 7
        }
      ]
    },
    {
      "cell_type": "markdown",
      "metadata": {
        "id": "p9ixhlrPVGzz"
      },
      "source": [
        "As you can see that returns the class object used to instantiate `p`.\n",
        "\n",
        "In fact:"
      ]
    },
    {
      "cell_type": "code",
      "metadata": {
        "id": "tcAkP6H6VGzz",
        "outputId": "09018a62-d444-4543-fed7-dca9e4972b44"
      },
      "source": [
        "type(p) is p.__class__"
      ],
      "execution_count": null,
      "outputs": [
        {
          "output_type": "execute_result",
          "data": {
            "text/plain": [
              "True"
            ]
          },
          "metadata": {
            "tags": []
          },
          "execution_count": 8
        }
      ]
    },
    {
      "cell_type": "markdown",
      "metadata": {
        "id": "SeeFoEYLVGz3"
      },
      "source": [
        "We can also use `isinstance` to test if an object is an instance of a particular class - now this gets a bit more complicated when we use inheritance, but right now we're not, so it's quite straightforward:"
      ]
    },
    {
      "cell_type": "code",
      "metadata": {
        "id": "_zvaMdsJVGz3",
        "outputId": "e949d919-c582-49f2-9d45-a3292f5bd8de"
      },
      "source": [
        "isinstance(p, Person)"
      ],
      "execution_count": null,
      "outputs": [
        {
          "output_type": "execute_result",
          "data": {
            "text/plain": [
              "True"
            ]
          },
          "metadata": {
            "tags": []
          },
          "execution_count": 9
        }
      ]
    },
    {
      "cell_type": "code",
      "metadata": {
        "id": "hRy5Kzm8VGz6",
        "outputId": "3689f477-8e70-4cf3-e854-3eb3c56d8584"
      },
      "source": [
        "isinstance(p, str)"
      ],
      "execution_count": null,
      "outputs": [
        {
          "output_type": "execute_result",
          "data": {
            "text/plain": [
              "False"
            ]
          },
          "metadata": {
            "tags": []
          },
          "execution_count": 10
        }
      ]
    },
    {
      "cell_type": "markdown",
      "metadata": {
        "id": "tP6yUzlYVGz9"
      },
      "source": [
        "We can even use `isinstance` with our class, since we know it's type is `type`:"
      ]
    },
    {
      "cell_type": "code",
      "metadata": {
        "id": "nXIn5Dp_VGz9",
        "outputId": "44cc7e72-b02a-4670-e90e-52bd1b29160e"
      },
      "source": [
        "isinstance(Person, type)"
      ],
      "execution_count": null,
      "outputs": [
        {
          "output_type": "execute_result",
          "data": {
            "text/plain": [
              "True"
            ]
          },
          "metadata": {
            "tags": []
          },
          "execution_count": 11
        }
      ]
    },
    {
      "cell_type": "markdown",
      "metadata": {
        "id": "9JG5PLjkVG0A"
      },
      "source": [
        "`type` is like the most generic kind of **class** object\n",
        "\n",
        "We really need inheritance to understand how this works, but every class **is** a `type` object (it inherits all the properties of `type`).\n",
        "\n",
        "For now let's just see what functionality `type` has:"
      ]
    },
    {
      "cell_type": "code",
      "metadata": {
        "id": "JdTamTTeVG0A",
        "outputId": "d75867e0-c11f-4a81-92cc-703ed07bc12f"
      },
      "source": [
        "help(type)"
      ],
      "execution_count": null,
      "outputs": [
        {
          "output_type": "stream",
          "text": [
            "Help on class type in module builtins:\n",
            "\n",
            "class type(object)\n",
            " |  type(object_or_name, bases, dict)\n",
            " |  type(object) -> the object's type\n",
            " |  type(name, bases, dict) -> a new type\n",
            " |  \n",
            " |  Methods defined here:\n",
            " |  \n",
            " |  __call__(self, /, *args, **kwargs)\n",
            " |      Call self as a function.\n",
            " |  \n",
            " |  __delattr__(self, name, /)\n",
            " |      Implement delattr(self, name).\n",
            " |  \n",
            " |  __dir__(...)\n",
            " |      __dir__() -> list\n",
            " |      specialized __dir__ implementation for types\n",
            " |  \n",
            " |  __getattribute__(self, name, /)\n",
            " |      Return getattr(self, name).\n",
            " |  \n",
            " |  __init__(self, /, *args, **kwargs)\n",
            " |      Initialize self.  See help(type(self)) for accurate signature.\n",
            " |  \n",
            " |  __instancecheck__(...)\n",
            " |      __instancecheck__() -> bool\n",
            " |      check if an object is an instance\n",
            " |  \n",
            " |  __new__(*args, **kwargs)\n",
            " |      Create and return a new object.  See help(type) for accurate signature.\n",
            " |  \n",
            " |  __prepare__(...)\n",
            " |      __prepare__() -> dict\n",
            " |      used to create the namespace for the class statement\n",
            " |  \n",
            " |  __repr__(self, /)\n",
            " |      Return repr(self).\n",
            " |  \n",
            " |  __setattr__(self, name, value, /)\n",
            " |      Implement setattr(self, name, value).\n",
            " |  \n",
            " |  __sizeof__(...)\n",
            " |      __sizeof__() -> int\n",
            " |      return memory consumption of the type object\n",
            " |  \n",
            " |  __subclasscheck__(...)\n",
            " |      __subclasscheck__() -> bool\n",
            " |      check if a class is a subclass\n",
            " |  \n",
            " |  __subclasses__(...)\n",
            " |      __subclasses__() -> list of immediate subclasses\n",
            " |  \n",
            " |  mro(...)\n",
            " |      mro() -> list\n",
            " |      return a type's method resolution order\n",
            " |  \n",
            " |  ----------------------------------------------------------------------\n",
            " |  Data descriptors defined here:\n",
            " |  \n",
            " |  __abstractmethods__\n",
            " |  \n",
            " |  __dict__\n",
            " |  \n",
            " |  __text_signature__\n",
            " |  \n",
            " |  ----------------------------------------------------------------------\n",
            " |  Data and other attributes defined here:\n",
            " |  \n",
            " |  __base__ = <class 'object'>\n",
            " |      The most base type\n",
            " |  \n",
            " |  __bases__ = (<class 'object'>,)\n",
            " |  \n",
            " |  __basicsize__ = 864\n",
            " |  \n",
            " |  __dictoffset__ = 264\n",
            " |  \n",
            " |  __flags__ = 2148291584\n",
            " |  \n",
            " |  __itemsize__ = 40\n",
            " |  \n",
            " |  __mro__ = (<class 'type'>, <class 'object'>)\n",
            " |  \n",
            " |  __weakrefoffset__ = 368\n",
            "\n"
          ],
          "name": "stdout"
        }
      ]
    },
    {
      "cell_type": "markdown",
      "metadata": {
        "id": "d-5bq1CpVG0D"
      },
      "source": [
        "As you can see it has a `__call__` method (that's how our class becomes callable), and a bunch of other attributes and methods.\n",
        "\n",
        "Our class objects also have these properties, because they inherit from the `type` object."
      ]
    },
    {
      "cell_type": "markdown",
      "metadata": {
        "id": "PkwTAIDUVG0E"
      },
      "source": [
        "And in fact, `type` is an instance of itself - that's kind of weird, and not the case for our own classes:"
      ]
    },
    {
      "cell_type": "code",
      "metadata": {
        "id": "U0RiX8LuVG0F",
        "outputId": "d257e48f-8833-41d2-e180-0da65d5425a0"
      },
      "source": [
        "isinstance(type, type)"
      ],
      "execution_count": null,
      "outputs": [
        {
          "output_type": "execute_result",
          "data": {
            "text/plain": [
              "True"
            ]
          },
          "metadata": {
            "tags": []
          },
          "execution_count": 13
        }
      ]
    },
    {
      "cell_type": "code",
      "metadata": {
        "id": "hA2FbkGcVG0N",
        "outputId": "b9b2f6ab-6dae-4cd4-cee8-b2da688d7ef2"
      },
      "source": [
        "isinstance(Person, Person)"
      ],
      "execution_count": null,
      "outputs": [
        {
          "output_type": "execute_result",
          "data": {
            "text/plain": [
              "False"
            ]
          },
          "metadata": {
            "tags": []
          },
          "execution_count": 14
        }
      ]
    }
  ]
}