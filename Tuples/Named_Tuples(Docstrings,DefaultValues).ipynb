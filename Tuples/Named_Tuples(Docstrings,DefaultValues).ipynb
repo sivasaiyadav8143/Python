{
  "nbformat": 4,
  "nbformat_minor": 0,
  "metadata": {
    "kernelspec": {
      "display_name": "Python 3",
      "language": "python",
      "name": "python3"
    },
    "language_info": {
      "codemirror_mode": {
        "name": "ipython",
        "version": 3
      },
      "file_extension": ".py",
      "mimetype": "text/x-python",
      "name": "python",
      "nbconvert_exporter": "python",
      "pygments_lexer": "ipython3",
      "version": "3.6.2"
    },
    "colab": {
      "name": "Named Tuples - Docstrings, DefaultValues.ipynb",
      "provenance": [],
      "collapsed_sections": []
    }
  },
  "cells": [
    {
      "cell_type": "markdown",
      "metadata": {
        "id": "_9lWV9UG5HyU"
      },
      "source": [
        "### Named Tuples - DocStrings and Default Values"
      ]
    },
    {
      "cell_type": "code",
      "metadata": {
        "id": "JddCfBoA5HyX"
      },
      "source": [
        "from collections import namedtuple"
      ],
      "execution_count": 1,
      "outputs": []
    },
    {
      "cell_type": "markdown",
      "metadata": {
        "id": "QClVEu6Y5Hyd"
      },
      "source": [
        "#### Adding DocStrings to Named Tuples"
      ]
    },
    {
      "cell_type": "markdown",
      "metadata": {
        "id": "Cm9yBf5g5Hye"
      },
      "source": [
        "This is easy to do, both with the generated class, as well as it's properties."
      ]
    },
    {
      "cell_type": "code",
      "metadata": {
        "id": "QUqYt_kk5Hye"
      },
      "source": [
        "Point2D = namedtuple('Point2D', 'x y')"
      ],
      "execution_count": 2,
      "outputs": []
    },
    {
      "cell_type": "code",
      "metadata": {
        "id": "3Zsm5H9f6SW7",
        "outputId": "0ca1680e-0412-44d1-908c-38d61cc91b11",
        "colab": {
          "base_uri": "https://localhost:8080/",
          "height": 35
        }
      },
      "source": [
        "Point2D.__doc__"
      ],
      "execution_count": 3,
      "outputs": [
        {
          "output_type": "execute_result",
          "data": {
            "application/vnd.google.colaboratory.intrinsic+json": {
              "type": "string"
            },
            "text/plain": [
              "'Point2D(x, y)'"
            ]
          },
          "metadata": {
            "tags": []
          },
          "execution_count": 3
        }
      ]
    },
    {
      "cell_type": "code",
      "metadata": {
        "id": "Jyr5T_6QAUd1",
        "outputId": "00421147-a2e3-45f2-9030-67ae5e9f2190",
        "colab": {
          "base_uri": "https://localhost:8080/",
          "height": 35
        }
      },
      "source": [
        "Point2D.x.__doc__"
      ],
      "execution_count": 4,
      "outputs": [
        {
          "output_type": "execute_result",
          "data": {
            "application/vnd.google.colaboratory.intrinsic+json": {
              "type": "string"
            },
            "text/plain": [
              "'Alias for field number 0'"
            ]
          },
          "metadata": {
            "tags": []
          },
          "execution_count": 4
        }
      ]
    },
    {
      "cell_type": "code",
      "metadata": {
        "id": "61XVfW6lAUKt",
        "outputId": "71b75646-be21-431b-dba0-cb52b8b6056b",
        "colab": {
          "base_uri": "https://localhost:8080/",
          "height": 35
        }
      },
      "source": [
        "Point2D.y.__doc__"
      ],
      "execution_count": 5,
      "outputs": [
        {
          "output_type": "execute_result",
          "data": {
            "application/vnd.google.colaboratory.intrinsic+json": {
              "type": "string"
            },
            "text/plain": [
              "'Alias for field number 1'"
            ]
          },
          "metadata": {
            "tags": []
          },
          "execution_count": 5
        }
      ]
    },
    {
      "cell_type": "code",
      "metadata": {
        "id": "H9biqxgt5Hyi"
      },
      "source": [
        "Point2D.__doc__ = 'Represents a 2D Cartesian coordinate'"
      ],
      "execution_count": null,
      "outputs": []
    },
    {
      "cell_type": "markdown",
      "metadata": {
        "id": "daHTVLjo5Hyl"
      },
      "source": [
        "And we can even add docstrings to the properties:"
      ]
    },
    {
      "cell_type": "code",
      "metadata": {
        "id": "f4Z4h4yq5Hym"
      },
      "source": [
        "Point2D.x.__doc__ = 'x-coordinate'\n",
        "Point2D.y.__doc__ = 'y-coordinate'"
      ],
      "execution_count": null,
      "outputs": []
    },
    {
      "cell_type": "code",
      "metadata": {
        "id": "baS6qR335Hyr",
        "outputId": "0a54180a-7338-4685-b822-80e13c7146f5"
      },
      "source": [
        "help(Point2D)"
      ],
      "execution_count": null,
      "outputs": [
        {
          "output_type": "stream",
          "text": [
            "Help on class Point2D in module __main__:\n",
            "\n",
            "class Point2D(builtins.tuple)\n",
            " |  Represents a 2D Cartesian coordinate\n",
            " |  \n",
            " |  Method resolution order:\n",
            " |      Point2D\n",
            " |      builtins.tuple\n",
            " |      builtins.object\n",
            " |  \n",
            " |  Methods defined here:\n",
            " |  \n",
            " |  __getnewargs__(self)\n",
            " |      Return self as a plain tuple.  Used by copy and pickle.\n",
            " |  \n",
            " |  __repr__(self)\n",
            " |      Return a nicely formatted representation string\n",
            " |  \n",
            " |  _asdict(self)\n",
            " |      Return a new OrderedDict which maps field names to their values.\n",
            " |  \n",
            " |  _replace(_self, **kwds)\n",
            " |      Return a new Point2D object replacing specified fields with new values\n",
            " |  \n",
            " |  ----------------------------------------------------------------------\n",
            " |  Class methods defined here:\n",
            " |  \n",
            " |  _make(iterable, new=<built-in method __new__ of type object at 0x00000000595CB160>, len=<built-in function len>) from builtins.type\n",
            " |      Make a new Point2D object from a sequence or iterable\n",
            " |  \n",
            " |  ----------------------------------------------------------------------\n",
            " |  Static methods defined here:\n",
            " |  \n",
            " |  __new__(_cls, x, y)\n",
            " |      Create new instance of Point2D(x, y)\n",
            " |  \n",
            " |  ----------------------------------------------------------------------\n",
            " |  Data descriptors defined here:\n",
            " |  \n",
            " |  x\n",
            " |      x-coordinate\n",
            " |  \n",
            " |  y\n",
            " |      y-coordinate\n",
            " |  \n",
            " |  ----------------------------------------------------------------------\n",
            " |  Data and other attributes defined here:\n",
            " |  \n",
            " |  _fields = ('x', 'y')\n",
            " |  \n",
            " |  _source = \"from builtins import property as _property, tupl..._itemget...\n",
            " |  \n",
            " |  ----------------------------------------------------------------------\n",
            " |  Methods inherited from builtins.tuple:\n",
            " |  \n",
            " |  __add__(self, value, /)\n",
            " |      Return self+value.\n",
            " |  \n",
            " |  __contains__(self, key, /)\n",
            " |      Return key in self.\n",
            " |  \n",
            " |  __eq__(self, value, /)\n",
            " |      Return self==value.\n",
            " |  \n",
            " |  __ge__(self, value, /)\n",
            " |      Return self>=value.\n",
            " |  \n",
            " |  __getattribute__(self, name, /)\n",
            " |      Return getattr(self, name).\n",
            " |  \n",
            " |  __getitem__(self, key, /)\n",
            " |      Return self[key].\n",
            " |  \n",
            " |  __gt__(self, value, /)\n",
            " |      Return self>value.\n",
            " |  \n",
            " |  __hash__(self, /)\n",
            " |      Return hash(self).\n",
            " |  \n",
            " |  __iter__(self, /)\n",
            " |      Implement iter(self).\n",
            " |  \n",
            " |  __le__(self, value, /)\n",
            " |      Return self<=value.\n",
            " |  \n",
            " |  __len__(self, /)\n",
            " |      Return len(self).\n",
            " |  \n",
            " |  __lt__(self, value, /)\n",
            " |      Return self<value.\n",
            " |  \n",
            " |  __mul__(self, value, /)\n",
            " |      Return self*value.n\n",
            " |  \n",
            " |  __ne__(self, value, /)\n",
            " |      Return self!=value.\n",
            " |  \n",
            " |  __rmul__(self, value, /)\n",
            " |      Return self*value.\n",
            " |  \n",
            " |  count(...)\n",
            " |      T.count(value) -> integer -- return number of occurrences of value\n",
            " |  \n",
            " |  index(...)\n",
            " |      T.index(value, [start, [stop]]) -> integer -- return first index of value.\n",
            " |      Raises ValueError if the value is not present.\n",
            "\n"
          ],
          "name": "stdout"
        }
      ]
    },
    {
      "cell_type": "markdown",
      "metadata": {
        "id": "CB8yx2Nj5Hyw"
      },
      "source": [
        "#### Adding Default Values to Named Tuples"
      ]
    },
    {
      "cell_type": "markdown",
      "metadata": {
        "id": "MiNccR6o5Hyw"
      },
      "source": [
        "#### Using a Prototype"
      ]
    },
    {
      "cell_type": "markdown",
      "metadata": {
        "id": "Y6YrjiTF5Hyx"
      },
      "source": [
        "This technique is in the Python docs, and uses the concept of creating a prototype object that has the default values set:"
      ]
    },
    {
      "cell_type": "code",
      "metadata": {
        "id": "3ivhKW2j5Hyx"
      },
      "source": [
        "Vector = namedtuple('Vector', 'x1 y1 x2 y2 origin_x origin_y')"
      ],
      "execution_count": null,
      "outputs": []
    },
    {
      "cell_type": "code",
      "metadata": {
        "id": "NyBkdWSN5Hy2"
      },
      "source": [
        "vector_zeroorigin = Vector(x1=None, y1=None, x2=None, y2=None, origin_x=0, origin_y=0)"
      ],
      "execution_count": null,
      "outputs": []
    },
    {
      "cell_type": "code",
      "metadata": {
        "id": "K14oZKVc5Hy7",
        "outputId": "1a4ec81d-3b7a-4c8c-e7a7-c8a05151078a"
      },
      "source": [
        "vector_zeroorigin"
      ],
      "execution_count": null,
      "outputs": [
        {
          "output_type": "execute_result",
          "data": {
            "text/plain": [
              "Vector(x1=None, y1=None, x2=None, y2=None, origin_x=0, origin_y=0)"
            ]
          },
          "metadata": {
            "tags": []
          },
          "execution_count": 8
        }
      ]
    },
    {
      "cell_type": "markdown",
      "metadata": {
        "id": "0gtig6455Hy-"
      },
      "source": [
        "The named tuple `vector_zeroorigin` is now a prototype of a vector with zero origin.\n",
        "\n",
        "To create new vectors using that origin as a default, we no longer use the `Vector` class, but instead use `_replace` as follows:"
      ]
    },
    {
      "cell_type": "code",
      "metadata": {
        "id": "mjWLsKlO5Hy_"
      },
      "source": [
        "v1 = vector_zeroorigin._replace(x1=1, y1=1, x2=10, y2=10)"
      ],
      "execution_count": null,
      "outputs": []
    },
    {
      "cell_type": "code",
      "metadata": {
        "id": "P_ySOjYq5HzD",
        "outputId": "e8dbd46f-8c1a-4170-c9aa-f1027524a2e1"
      },
      "source": [
        "v1"
      ],
      "execution_count": null,
      "outputs": [
        {
          "output_type": "execute_result",
          "data": {
            "text/plain": [
              "Vector(x1=1, y1=1, x2=10, y2=10, origin_x=0, origin_y=0)"
            ]
          },
          "metadata": {
            "tags": []
          },
          "execution_count": 10
        }
      ]
    },
    {
      "cell_type": "markdown",
      "metadata": {
        "id": "Hvisp1vp5HzG"
      },
      "source": [
        "This certainly works, and can be useful in cases where you may want more than one prototype (e.g. `vector_zeroorigin` and `vector_otherorigin`)"
      ]
    },
    {
      "cell_type": "markdown",
      "metadata": {
        "id": "RDn3gHe35HzG"
      },
      "source": [
        "#### Using `__defaults__`"
      ]
    },
    {
      "cell_type": "markdown",
      "metadata": {
        "id": "v3VN9Ibv5HzH"
      },
      "source": [
        "There is an alternative way of doing this. And, in my opinion, a much cleaner alternative."
      ]
    },
    {
      "cell_type": "markdown",
      "metadata": {
        "id": "ozBDTtgS5HzH"
      },
      "source": [
        "In Python the default values for a function's parameters are stored as a tuple in the `__defaults__` attribute.\n",
        "\n"
      ]
    },
    {
      "cell_type": "code",
      "metadata": {
        "id": "Hh-8U2as5HzI"
      },
      "source": [
        "def func(a, b=20, c=30):\n",
        "    print(a, b, c)"
      ],
      "execution_count": null,
      "outputs": []
    },
    {
      "cell_type": "code",
      "metadata": {
        "id": "ECEiGN2b5HzO",
        "outputId": "3134d173-e33b-4726-8cc1-e9c26bc23c7e"
      },
      "source": [
        "func.__defaults__"
      ],
      "execution_count": null,
      "outputs": [
        {
          "output_type": "execute_result",
          "data": {
            "text/plain": [
              "(20, 30)"
            ]
          },
          "metadata": {
            "tags": []
          },
          "execution_count": 12
        }
      ]
    },
    {
      "cell_type": "code",
      "metadata": {
        "id": "pz5si5Q-5HzR",
        "outputId": "7340619b-8ce0-40eb-c23e-af72bfdd7643"
      },
      "source": [
        "func(10)"
      ],
      "execution_count": null,
      "outputs": [
        {
          "output_type": "stream",
          "text": [
            "10 20 30\n"
          ],
          "name": "stdout"
        }
      ]
    },
    {
      "cell_type": "markdown",
      "metadata": {
        "id": "qZmncYUt5HzU"
      },
      "source": [
        "But the `__defaults__` property is writable:"
      ]
    },
    {
      "cell_type": "code",
      "metadata": {
        "id": "adWSVbah5HzU"
      },
      "source": [
        "func.__defaults__ = (200, 300)"
      ],
      "execution_count": null,
      "outputs": []
    },
    {
      "cell_type": "code",
      "metadata": {
        "id": "rnMzgEvG5HzY",
        "outputId": "973174bb-122d-4955-a4f9-4c68aecf8aa4"
      },
      "source": [
        "func(10)"
      ],
      "execution_count": null,
      "outputs": [
        {
          "output_type": "stream",
          "text": [
            "10 200 300\n"
          ],
          "name": "stdout"
        }
      ]
    },
    {
      "cell_type": "markdown",
      "metadata": {
        "id": "-LcQB9AH5Hzd"
      },
      "source": [
        "In this case, the function we are interested in specifying default values for, is the named tuple class constructor, i.e. `__new__`.\n",
        "\n",
        "So, we will simply need to set `Vector.__new__.__defaults__` to the desired tuple of default values.\n",
        "\n",
        "The only thing to note is that if you specify less default values (say `m` values) than the total number of arguments (say `n` values, where `m < n`), then the defaults will apply to the **last** `m` values. Think of it as writing out your field names and default values on two lines, and right-aligning them. (If you specify more, then the values at the beginning are effectively ignored)"
      ]
    },
    {
      "cell_type": "code",
      "metadata": {
        "id": "HYp7FVt85Hze"
      },
      "source": [
        "Vector.__new__.__defaults__ = (0, 0)"
      ],
      "execution_count": null,
      "outputs": []
    },
    {
      "cell_type": "markdown",
      "metadata": {
        "id": "ojfxup0O5Hzh"
      },
      "source": [
        "Here I am basically setting default values for the last two elements only, i.e. `origin_x` and `origin_y`."
      ]
    },
    {
      "cell_type": "code",
      "metadata": {
        "id": "QyqweHeM5Hzi"
      },
      "source": [
        "v1 = Vector(0, 0, 10, 10, -10, -10)"
      ],
      "execution_count": null,
      "outputs": []
    },
    {
      "cell_type": "code",
      "metadata": {
        "id": "jW49eaT25Hzn",
        "outputId": "b8c7f24f-a93b-47fc-8085-c8322cf6c1d6"
      },
      "source": [
        "v1"
      ],
      "execution_count": null,
      "outputs": [
        {
          "output_type": "execute_result",
          "data": {
            "text/plain": [
              "Vector(x1=0, y1=0, x2=10, y2=10, origin_x=-10, origin_y=-10)"
            ]
          },
          "metadata": {
            "tags": []
          },
          "execution_count": 18
        }
      ]
    },
    {
      "cell_type": "code",
      "metadata": {
        "id": "4bLmjOr45Hzt"
      },
      "source": [
        "v2 = Vector(5, 5, 20, 20)"
      ],
      "execution_count": null,
      "outputs": []
    },
    {
      "cell_type": "code",
      "metadata": {
        "id": "Ww3SPpeA5Hzw",
        "outputId": "0ee7ee01-5282-4d4d-9161-d7ba35a3631c"
      },
      "source": [
        "v2"
      ],
      "execution_count": null,
      "outputs": [
        {
          "output_type": "execute_result",
          "data": {
            "text/plain": [
              "Vector(x1=5, y1=5, x2=20, y2=20, origin_x=0, origin_y=0)"
            ]
          },
          "metadata": {
            "tags": []
          },
          "execution_count": 20
        }
      ]
    },
    {
      "cell_type": "code",
      "metadata": {
        "id": "njpiuiqr5Hz0"
      },
      "source": [
        "v3 = Vector(x1=1, y1=1, x2=10, y2=10)"
      ],
      "execution_count": null,
      "outputs": []
    },
    {
      "cell_type": "code",
      "metadata": {
        "id": "aX2rl0dl5Hz3",
        "outputId": "84752b62-a9f2-44ad-b258-1640d4d43168"
      },
      "source": [
        "v3"
      ],
      "execution_count": null,
      "outputs": [
        {
          "output_type": "execute_result",
          "data": {
            "text/plain": [
              "Vector(x1=1, y1=1, x2=10, y2=10, origin_x=0, origin_y=0)"
            ]
          },
          "metadata": {
            "tags": []
          },
          "execution_count": 22
        }
      ]
    },
    {
      "cell_type": "markdown",
      "metadata": {
        "id": "2pYm3ZQJ5Hz8"
      },
      "source": [
        "An even simpler way to set default values if you want **all** the defaults to be the same:"
      ]
    },
    {
      "cell_type": "code",
      "metadata": {
        "id": "xAVIXpWN5Hz9"
      },
      "source": [
        "Vector.__new__.__defaults__ = (0,) * len(Vector._fields)"
      ],
      "execution_count": null,
      "outputs": []
    },
    {
      "cell_type": "code",
      "metadata": {
        "id": "UbBog4Vp5Hz_"
      },
      "source": [
        "v5 = Vector()"
      ],
      "execution_count": null,
      "outputs": []
    },
    {
      "cell_type": "code",
      "metadata": {
        "id": "5abYq2x65H0C",
        "outputId": "5c0599ae-d953-4f0d-c3d9-d6a2406d25d7"
      },
      "source": [
        "v5"
      ],
      "execution_count": null,
      "outputs": [
        {
          "output_type": "execute_result",
          "data": {
            "text/plain": [
              "Vector(x1=0, y1=0, x2=0, y2=0, origin_x=0, origin_y=0)"
            ]
          },
          "metadata": {
            "tags": []
          },
          "execution_count": 25
        }
      ]
    },
    {
      "cell_type": "markdown",
      "metadata": {
        "id": "QRSqJXcF5H0E"
      },
      "source": [
        "Of course, the usual admonishment of not using mutable default values holds here as well."
      ]
    }
  ]
}