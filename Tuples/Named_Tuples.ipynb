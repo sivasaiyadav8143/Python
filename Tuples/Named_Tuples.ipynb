{
  "nbformat": 4,
  "nbformat_minor": 0,
  "metadata": {
    "kernelspec": {
      "display_name": "Python 3",
      "language": "python",
      "name": "python3"
    },
    "language_info": {
      "codemirror_mode": {
        "name": "ipython",
        "version": 3
      },
      "file_extension": ".py",
      "mimetype": "text/x-python",
      "name": "python",
      "nbconvert_exporter": "python",
      "pygments_lexer": "ipython3",
      "version": "3.6.2"
    },
    "colab": {
      "name": "Named Tuples.ipynb",
      "provenance": [],
      "collapsed_sections": [
        "jmFOqnqxoEYo"
      ]
    }
  },
  "cells": [
    {
      "cell_type": "markdown",
      "metadata": {
        "id": "gpUpFwQSoEWN"
      },
      "source": [
        "### Named Tuples"
      ]
    },
    {
      "cell_type": "markdown",
      "metadata": {
        "id": "cY7lkegpoNsG"
      },
      "source": [
        "Lets think of a situation,When you need to represent a list of identical objects with different values, you start with a list of tuples. It’s an efficient way to hold a collection of related data. Tuples are like structures or records in other languages, but indexed with integers, like lists. You can build a list named people, where each element is a tuple of three elements: first name, last name, and zip code. To get the zip code for the first element, you can use people[0][2].\n",
        "\n",
        "The problem comes when you want to read in a file where each line has 17 fields. It gets really hard to remember which index is for which field. At this point, many programmers create a class with read-only properties for this purpose, so they can say class.field (e.g., people[0].first_name, people[0].last_name, etc.). Such a class has no methods; it only exists to store the data.\n",
        "\n",
        "It’s overkill to use a class for this purpose. Python provides an elegant solution – named tuples. A named tuple is exactly like a normal tuple, except that the fields can also be accessed by .fieldname. **Named tuples are still immutable, you can still index elements with integers, and you can iterate over the elements. With a named tuple, you can say record.first_name, record.last_name, as with a class, but without the extra code of a class. There’s no need to write all the property definitions.**"
      ]
    },
    {
      "cell_type": "markdown",
      "metadata": {
        "id": "OB1ajgFqoEWP"
      },
      "source": [
        "The ``namedtuple`` function in ``collections`` allows us to create a tuple that also has names attached to each field (aka property). This can be handy to reference data in the tuple structure by name instead of just relying on position.\n",
        "\n",
        "The ``namedtuple`` function is basically a class factory that creates a new type of class that uses a tuple as its underlying data storage (in fact, named tuples inherit from `tuple`), but layers in field names to each position and makes a property out of the field name.\n",
        "\n",
        "The ``namedtuple`` function creates a **class**, and we then use that class to instantiate our instances of named tuples."
      ]
    },
    {
      "cell_type": "markdown",
      "metadata": {
        "id": "1UupKXoMoEWP"
      },
      "source": [
        "To use the ``namedtuple`` function we therefore need to select a class **name**, as well as indicate the **property** names, in the order in which they will be stored and accessed in the tuple.\n",
        "\n",
        "Note that a ``namedtuple``, like the regular ``tuple`` is an **immutable** data structure. (In fact, named tuples inherit from tuples)"
      ]
    },
    {
      "cell_type": "markdown",
      "metadata": {
        "id": "GZtMV04IoEWQ"
      },
      "source": [
        "If you find yourself writing code such as:"
      ]
    },
    {
      "cell_type": "code",
      "metadata": {
        "id": "38WrCkQ7oEWQ"
      },
      "source": [
        "class Point3D:\n",
        "    def __init__(self, x, y, z):\n",
        "        self.x = x\n",
        "        self.y = y\n",
        "        self.z = z"
      ],
      "execution_count": null,
      "outputs": []
    },
    {
      "cell_type": "markdown",
      "metadata": {
        "id": "aL01BSi6oEWW"
      },
      "source": [
        "Forget it! You seriously need to use named tuples! Not only can you shorten the amount of code you need to write, but you get some additional functionality for \"free\", such as `__repr__` and `__eq__` that you do not have to implement yourself!"
      ]
    },
    {
      "cell_type": "markdown",
      "metadata": {
        "id": "IvX9bcGKoEWW"
      },
      "source": [
        "#### Creating Named Tuples"
      ]
    },
    {
      "cell_type": "markdown",
      "metadata": {
        "id": "TBrlHwFHoEWX"
      },
      "source": [
        "We are going to create a ``Point`` named tuple that will contain an x-coordinate and a y-coordinate."
      ]
    },
    {
      "cell_type": "code",
      "metadata": {
        "id": "iYub7ISKoEWX"
      },
      "source": [
        "from collections import namedtuple"
      ],
      "execution_count": null,
      "outputs": []
    },
    {
      "cell_type": "code",
      "metadata": {
        "id": "DRO4Ba5ToEWa"
      },
      "source": [
        "Point2D = namedtuple('Point2D', ('x', 'y'))"
      ],
      "execution_count": null,
      "outputs": []
    },
    {
      "cell_type": "markdown",
      "metadata": {
        "id": "SBR_65UBoEWe"
      },
      "source": [
        "Note that we have two different uses of `Point2D` here. The label we are assigning the return value of the call to ``namedtuple`` and the **name** of the class generated by calling ``namedtuple``.\n",
        "\n",
        "We could also have done the following:"
      ]
    },
    {
      "cell_type": "code",
      "metadata": {
        "id": "lr-hXDz4oEWf"
      },
      "source": [
        "Pt = namedtuple('Point2D', ('x', 'y'))"
      ],
      "execution_count": null,
      "outputs": []
    },
    {
      "cell_type": "markdown",
      "metadata": {
        "id": "nYr5PhbloEWj"
      },
      "source": [
        "The ``namedtuple`` class name is `Point2D`, but the label we `Pt` simply points to that class, so we would then create instances of the `Point2D` class as follows:"
      ]
    },
    {
      "cell_type": "code",
      "metadata": {
        "id": "Rn9m1S1WoEWk"
      },
      "source": [
        "pt1 = Pt(10, 20)"
      ],
      "execution_count": null,
      "outputs": []
    },
    {
      "cell_type": "markdown",
      "metadata": {
        "id": "iMmTG1TtoEWo"
      },
      "source": [
        "And we can see what `pt1` is:"
      ]
    },
    {
      "cell_type": "code",
      "metadata": {
        "id": "s7W_BlEFoEWp",
        "outputId": "91b93e27-7105-426c-c54e-76cc5213dfb5"
      },
      "source": [
        "pt1"
      ],
      "execution_count": null,
      "outputs": [
        {
          "output_type": "execute_result",
          "data": {
            "text/plain": [
              "Point2D(x=10, y=20)"
            ]
          },
          "metadata": {
            "tags": []
          },
          "execution_count": 6
        }
      ]
    },
    {
      "cell_type": "markdown",
      "metadata": {
        "id": "fcjSJ_BFoEWt"
      },
      "source": [
        "As you can see we have an object of type `Point2D`, and it has two properties, `x` and `y` with respective values `10` and `20`.\n",
        "\n",
        "The only weird thing here is that we are using `Pt` to generate our instances of the `Point2D` class.\n",
        "\n",
        "That's why we usually always created `namedtuple` generated classes this way:"
      ]
    },
    {
      "cell_type": "code",
      "metadata": {
        "id": "hQE5d_BWoEWu"
      },
      "source": [
        "Point2D = namedtuple('Point2D', ('x', 'y'))"
      ],
      "execution_count": null,
      "outputs": []
    },
    {
      "cell_type": "markdown",
      "metadata": {
        "id": "c8jbrJqyoEWw"
      },
      "source": [
        "Then the following makes more sense:"
      ]
    },
    {
      "cell_type": "code",
      "metadata": {
        "id": "a1q46kJxoEWx"
      },
      "source": [
        "pt1 = Point2D(10, 20)"
      ],
      "execution_count": null,
      "outputs": []
    },
    {
      "cell_type": "code",
      "metadata": {
        "id": "Nwfvenh2oEWz",
        "outputId": "7d865c8c-98d6-4e2f-e400-bb319201651f"
      },
      "source": [
        "pt1"
      ],
      "execution_count": null,
      "outputs": [
        {
          "output_type": "execute_result",
          "data": {
            "text/plain": [
              "Point2D(x=10, y=20)"
            ]
          },
          "metadata": {
            "tags": []
          },
          "execution_count": 9
        }
      ]
    },
    {
      "cell_type": "markdown",
      "metadata": {
        "id": "FUDCu9L9oEW7"
      },
      "source": [
        "This is not different than doing this:"
      ]
    },
    {
      "cell_type": "code",
      "metadata": {
        "id": "IFy2Ebf-oEW8"
      },
      "source": [
        "Pt3 = Point3D  # class we defined earlier"
      ],
      "execution_count": null,
      "outputs": []
    },
    {
      "cell_type": "code",
      "metadata": {
        "id": "wXoXf6gsoEW-"
      },
      "source": [
        "pt3 = Pt3(10, 20, 30)"
      ],
      "execution_count": null,
      "outputs": []
    },
    {
      "cell_type": "code",
      "metadata": {
        "id": "rfInvhfwoEXC",
        "outputId": "3f36da89-453a-482f-c1a6-913e108ade51"
      },
      "source": [
        "pt3"
      ],
      "execution_count": null,
      "outputs": [
        {
          "output_type": "execute_result",
          "data": {
            "text/plain": [
              "<__main__.Point3D at 0x27408e1fa90>"
            ]
          },
          "metadata": {
            "tags": []
          },
          "execution_count": 12
        }
      ]
    },
    {
      "cell_type": "markdown",
      "metadata": {
        "id": "ICO9HwcZoEXG"
      },
      "source": [
        "As you can see above, we used another label `Pt3` as a label that also references the `Point3D` class. It would be weird to do it this way here, and its weird for tuples as well. Of course, you may run into circumstances where you need to do this - just not as a general rule."
      ]
    },
    {
      "cell_type": "markdown",
      "metadata": {
        "id": "pX9oX9Z9oEXG"
      },
      "source": [
        "Note that all named tuples  are honest to goodness **classes**, just as if you had used a `class` definition such as with `Point3D`. \n",
        "\n",
        "The `namedtuple` function **generates** classes for us - it is a **class factory**."
      ]
    },
    {
      "cell_type": "code",
      "metadata": {
        "id": "wr-zIQ5-oEXH",
        "outputId": "1ef1f562-64ff-4b2f-caee-509686832490"
      },
      "source": [
        "type(Point3D)"
      ],
      "execution_count": null,
      "outputs": [
        {
          "output_type": "execute_result",
          "data": {
            "text/plain": [
              "type"
            ]
          },
          "metadata": {
            "tags": []
          },
          "execution_count": 13
        }
      ]
    },
    {
      "cell_type": "code",
      "metadata": {
        "id": "nPPvDH2AoEXJ",
        "outputId": "0ba2bfb8-98e5-4678-9bd4-e8eb5e545d78"
      },
      "source": [
        "type(Point2D)"
      ],
      "execution_count": null,
      "outputs": [
        {
          "output_type": "execute_result",
          "data": {
            "text/plain": [
              "type"
            ]
          },
          "metadata": {
            "tags": []
          },
          "execution_count": 14
        }
      ]
    },
    {
      "cell_type": "markdown",
      "metadata": {
        "id": "ams0zwPyoEXM"
      },
      "source": [
        "However, `Point2D` is a subclass of `tuple`, while `Point3D` is not:"
      ]
    },
    {
      "cell_type": "code",
      "metadata": {
        "id": "btO_PvSBoEXN",
        "outputId": "c0f4eea1-8429-4656-93ba-6090a1e71a95"
      },
      "source": [
        "isinstance(pt1, tuple)"
      ],
      "execution_count": null,
      "outputs": [
        {
          "output_type": "execute_result",
          "data": {
            "text/plain": [
              "True"
            ]
          },
          "metadata": {
            "tags": []
          },
          "execution_count": 15
        }
      ]
    },
    {
      "cell_type": "code",
      "metadata": {
        "id": "_mT4EOMUoEXP",
        "outputId": "1f1a75f8-2c09-4cdb-ddd3-e86e04e6cfb8"
      },
      "source": [
        "isinstance(pt3, tuple)"
      ],
      "execution_count": null,
      "outputs": [
        {
          "output_type": "execute_result",
          "data": {
            "text/plain": [
              "False"
            ]
          },
          "metadata": {
            "tags": []
          },
          "execution_count": 16
        }
      ]
    },
    {
      "cell_type": "markdown",
      "metadata": {
        "id": "Rt9wA_GFoEXR"
      },
      "source": [
        "So, when we create an instance of a class, we are in fact calling the `__new__` method with our initial values. It's just a callable that has the **field names** we used to generate our named tuple class as its parameters. This means we can use keyword arguments when instantiating our named tuples!"
      ]
    },
    {
      "cell_type": "code",
      "metadata": {
        "id": "kv4Bak05oEXS"
      },
      "source": [
        "pt4 = Point2D(y=20, x=10)"
      ],
      "execution_count": null,
      "outputs": []
    },
    {
      "cell_type": "code",
      "metadata": {
        "id": "VdyC28hPoEXU",
        "outputId": "e3f7d5b4-c2df-4b66-8792-a6b6c7fc045d"
      },
      "source": [
        "pt4"
      ],
      "execution_count": null,
      "outputs": [
        {
          "output_type": "execute_result",
          "data": {
            "text/plain": [
              "Point2D(x=10, y=20)"
            ]
          },
          "metadata": {
            "tags": []
          },
          "execution_count": 18
        }
      ]
    },
    {
      "cell_type": "markdown",
      "metadata": {
        "id": "MfU2jpo_oEXY"
      },
      "source": [
        "#### What did we get for free using a named tuple vs our own class?"
      ]
    },
    {
      "cell_type": "markdown",
      "metadata": {
        "id": "wSS25gQQoEXY"
      },
      "source": [
        "First using a named tuple for our 2D point:"
      ]
    },
    {
      "cell_type": "code",
      "metadata": {
        "id": "R6ndyPbjoEXY"
      },
      "source": [
        "pt2d_1 = Point2D(10, 20)\n",
        "pt2d_2 = Point2D(10, 20)"
      ],
      "execution_count": null,
      "outputs": []
    },
    {
      "cell_type": "code",
      "metadata": {
        "id": "p-1p84umoEXb",
        "outputId": "3bd8cd10-854d-46e9-8a9b-aeff3877aa43"
      },
      "source": [
        "pt2d_1"
      ],
      "execution_count": null,
      "outputs": [
        {
          "output_type": "execute_result",
          "data": {
            "text/plain": [
              "Point2D(x=10, y=20)"
            ]
          },
          "metadata": {
            "tags": []
          },
          "execution_count": 20
        }
      ]
    },
    {
      "cell_type": "code",
      "metadata": {
        "id": "6cvDDgVhoEXe",
        "outputId": "864abeda-3974-46c4-880b-f5663c2c0276"
      },
      "source": [
        "pt2d_1 == pt2d_2"
      ],
      "execution_count": null,
      "outputs": [
        {
          "output_type": "execute_result",
          "data": {
            "text/plain": [
              "True"
            ]
          },
          "metadata": {
            "tags": []
          },
          "execution_count": 21
        }
      ]
    },
    {
      "cell_type": "markdown",
      "metadata": {
        "id": "23Iix6lQoEXh"
      },
      "source": [
        "Now using our 3D class:"
      ]
    },
    {
      "cell_type": "code",
      "metadata": {
        "id": "MGNC_15YoEXi"
      },
      "source": [
        "pt3d_1 = Point3D(10, 20, 30)\n",
        "pt3d_2 = Point3D(10, 20, 30)"
      ],
      "execution_count": null,
      "outputs": []
    },
    {
      "cell_type": "code",
      "metadata": {
        "id": "ECzvZzH6oEXl",
        "outputId": "d469ac3a-27a4-4789-8303-5e78b63c03fa"
      },
      "source": [
        "pt3d_1"
      ],
      "execution_count": null,
      "outputs": [
        {
          "output_type": "execute_result",
          "data": {
            "text/plain": [
              "<__main__.Point3D at 0x27408e1f9e8>"
            ]
          },
          "metadata": {
            "tags": []
          },
          "execution_count": 23
        }
      ]
    },
    {
      "cell_type": "markdown",
      "metadata": {
        "id": "P5ZFXJgzoEXo"
      },
      "source": [
        "Oh, we probably need to implement the `__repr__` method in our class"
      ]
    },
    {
      "cell_type": "code",
      "metadata": {
        "id": "NFWa1e_LoEXo",
        "outputId": "85f08d0a-fc21-46c3-c43b-31cae550d4d5"
      },
      "source": [
        "pt3d_1 == pt3d_2"
      ],
      "execution_count": null,
      "outputs": [
        {
          "output_type": "execute_result",
          "data": {
            "text/plain": [
              "False"
            ]
          },
          "metadata": {
            "tags": []
          },
          "execution_count": 24
        }
      ]
    },
    {
      "cell_type": "markdown",
      "metadata": {
        "id": "HCE80tfFoEXr"
      },
      "source": [
        "And we would also need to implement the __eq__ method!\n",
        "\n",
        "Let's do that:"
      ]
    },
    {
      "cell_type": "code",
      "metadata": {
        "id": "xLADIF4ooEXr"
      },
      "source": [
        "class Point3D:\n",
        "    def __init__(self, x, y, z):\n",
        "        self.x = x\n",
        "        self.y = y\n",
        "        self.z = z\n",
        "    \n",
        "    def __repr__(self):\n",
        "        return f\"Point3D(x={self.x}, y={self.y}, z={self.z})\"\n",
        "    \n",
        "    def __eq__(self, other):\n",
        "        if isinstance(other, Point3D):\n",
        "            return self.x == other.x and self.y == other.y and self.z == other.z\n",
        "        else:\n",
        "            return False"
      ],
      "execution_count": null,
      "outputs": []
    },
    {
      "cell_type": "code",
      "metadata": {
        "id": "CYYpX5WYoEXt"
      },
      "source": [
        "pt3d_1 = Point3D(10, 20, 30)\n",
        "pt3d_2 = Point3D(10, 20, 30)"
      ],
      "execution_count": null,
      "outputs": []
    },
    {
      "cell_type": "code",
      "metadata": {
        "id": "nW2uMJJWoEXw",
        "outputId": "d26288f7-4548-4727-d7c4-c4bcb9041644"
      },
      "source": [
        "pt3d_1"
      ],
      "execution_count": null,
      "outputs": [
        {
          "output_type": "execute_result",
          "data": {
            "text/plain": [
              "Point3D(x=10, y=20, z=30)"
            ]
          },
          "metadata": {
            "tags": []
          },
          "execution_count": 27
        }
      ]
    },
    {
      "cell_type": "code",
      "metadata": {
        "id": "q64EJ2WkoEXy",
        "outputId": "895939e7-20c5-4dc4-db99-22ad2a72a10e"
      },
      "source": [
        "pt3d_1 == pt3d_2"
      ],
      "execution_count": null,
      "outputs": [
        {
          "output_type": "execute_result",
          "data": {
            "text/plain": [
              "True"
            ]
          },
          "metadata": {
            "tags": []
          },
          "execution_count": 28
        }
      ]
    },
    {
      "cell_type": "markdown",
      "metadata": {
        "id": "psEBBVE0oEX0"
      },
      "source": [
        "How about finding the largest coordinate in the point?\n",
        "\n",
        "That's easy for `Point2D` since it is a tuple, but not the case for `Point3D`:"
      ]
    },
    {
      "cell_type": "code",
      "metadata": {
        "id": "saECoqHpoEX1",
        "outputId": "c8a05e97-3d90-4db4-f2a4-00841c1afbee"
      },
      "source": [
        "max(pt2d_1)"
      ],
      "execution_count": null,
      "outputs": [
        {
          "output_type": "execute_result",
          "data": {
            "text/plain": [
              "20"
            ]
          },
          "metadata": {
            "tags": []
          },
          "execution_count": 29
        }
      ]
    },
    {
      "cell_type": "code",
      "metadata": {
        "id": "5Ax8j44EoEX3",
        "outputId": "82cb89aa-ac40-4736-a72a-c40043816999"
      },
      "source": [
        "max(pt3d_1)"
      ],
      "execution_count": null,
      "outputs": [
        {
          "output_type": "error",
          "ename": "TypeError",
          "evalue": "'Point3D' object is not iterable",
          "traceback": [
            "\u001b[1;31m---------------------------------------------------------------------------\u001b[0m",
            "\u001b[1;31mTypeError\u001b[0m                                 Traceback (most recent call last)",
            "\u001b[1;32m<ipython-input-30-e803e2758ff1>\u001b[0m in \u001b[0;36m<module>\u001b[1;34m()\u001b[0m\n\u001b[1;32m----> 1\u001b[1;33m \u001b[0mmax\u001b[0m\u001b[1;33m(\u001b[0m\u001b[0mpt3d_1\u001b[0m\u001b[1;33m)\u001b[0m\u001b[1;33m\u001b[0m\u001b[0m\n\u001b[0m",
            "\u001b[1;31mTypeError\u001b[0m: 'Point3D' object is not iterable"
          ]
        }
      ]
    },
    {
      "cell_type": "markdown",
      "metadata": {
        "id": "tNcS5-G2oEX6"
      },
      "source": [
        "How about calculating the dot product of two points (considering them as vectors starting at the origin)?"
      ]
    },
    {
      "cell_type": "markdown",
      "metadata": {
        "id": "fjB4sh1toEX7"
      },
      "source": [
        "The formula would be:\n",
        "a.b = a.x * b.x + a.y + b.y + a.z * b.z"
      ]
    },
    {
      "cell_type": "markdown",
      "metadata": {
        "id": "ffp6PdbboEX8"
      },
      "source": [
        "For the 3D point we would need to do the following:"
      ]
    },
    {
      "cell_type": "code",
      "metadata": {
        "id": "6aaDbPG8oEX8"
      },
      "source": [
        "def dot_product_3d(a, b):\n",
        "    return a.x * b.x + a.y * b.y + a.z + b.z"
      ],
      "execution_count": null,
      "outputs": []
    },
    {
      "cell_type": "code",
      "metadata": {
        "id": "0_tijYzaoEYA",
        "outputId": "75fefab6-ebc6-4f70-cf6e-3ecad215c622"
      },
      "source": [
        "dot_product_3d(pt3d_1, pt3d_2)"
      ],
      "execution_count": null,
      "outputs": [
        {
          "output_type": "execute_result",
          "data": {
            "text/plain": [
              "560"
            ]
          },
          "metadata": {
            "tags": []
          },
          "execution_count": 32
        }
      ]
    },
    {
      "cell_type": "markdown",
      "metadata": {
        "id": "TM1SyIARoEYD"
      },
      "source": [
        "But for our 2D point, which, remember is a tuple as well, we can write a generic function that would work equally well with a 3D named tuple too:"
      ]
    },
    {
      "cell_type": "code",
      "metadata": {
        "id": "-gTlkuskoEYD"
      },
      "source": [
        "def dot_product(a, b):\n",
        "    return sum(e[0] * e[1] for e in  zip(a, b))"
      ],
      "execution_count": null,
      "outputs": []
    },
    {
      "cell_type": "markdown",
      "metadata": {
        "id": "oSOkXSanoEYF"
      },
      "source": [
        "Here's a break down of how we implemented the dot product:"
      ]
    },
    {
      "cell_type": "markdown",
      "metadata": {
        "id": "I7RPYzycoEYG"
      },
      "source": [
        "First we zip up the components of `a` and `b` to get an iterable of tuples containing the x-coordinates in the 1st element, and the y-coordinates in the second tuple. Our zip will contain as many elements as there are dimensions."
      ]
    },
    {
      "cell_type": "code",
      "metadata": {
        "id": "tBrybyIpoEYG",
        "outputId": "b54db53a-0928-4838-f633-38a66add31f2"
      },
      "source": [
        "a = Point2D(1, 2)\n",
        "b = Point2D(10, 20)\n",
        "print(a)\n",
        "print(b)\n",
        "print(tuple(a))\n",
        "print(tuple(b))\n",
        "print(list(zip(a, b)))"
      ],
      "execution_count": null,
      "outputs": [
        {
          "output_type": "stream",
          "text": [
            "Point2D(x=1, y=2)\n",
            "Point2D(x=10, y=20)\n",
            "(1, 2)\n",
            "(10, 20)\n",
            "[(1, 10), (2, 20)]\n"
          ],
          "name": "stdout"
        }
      ]
    },
    {
      "cell_type": "markdown",
      "metadata": {
        "id": "5u67Ho0ooEYK"
      },
      "source": [
        "Note that if we had more dimensions this would work equally well.\n",
        "\n",
        "Suppose we had 3 dimensions:"
      ]
    },
    {
      "cell_type": "code",
      "metadata": {
        "id": "vHsRXceRoEYL",
        "outputId": "e161b83e-ac5e-432a-aeaa-f9489804cd1c"
      },
      "source": [
        "u = (1, 2, 3)\n",
        "v = (10, 20, 30)\n",
        "list(zip(u, v))"
      ],
      "execution_count": null,
      "outputs": [
        {
          "output_type": "execute_result",
          "data": {
            "text/plain": [
              "[(1, 10), (2, 20), (3, 30)]"
            ]
          },
          "metadata": {
            "tags": []
          },
          "execution_count": 35
        }
      ]
    },
    {
      "cell_type": "markdown",
      "metadata": {
        "id": "Vmu9BE3xoEYS"
      },
      "source": [
        "Then we create a comprehension that multiplies the components together:"
      ]
    },
    {
      "cell_type": "code",
      "metadata": {
        "id": "giL3agZtoEYT",
        "outputId": "82608d95-e791-4bd7-fb42-fa1d1040bd92"
      },
      "source": [
        "[e[0] * e[1] for e in zip(a, b)]"
      ],
      "execution_count": null,
      "outputs": [
        {
          "output_type": "execute_result",
          "data": {
            "text/plain": [
              "[10, 40]"
            ]
          },
          "metadata": {
            "tags": []
          },
          "execution_count": 36
        }
      ]
    },
    {
      "cell_type": "markdown",
      "metadata": {
        "id": "zPMvisLnoEYW"
      },
      "source": [
        "Then we simply add those up:"
      ]
    },
    {
      "cell_type": "code",
      "metadata": {
        "id": "LGsm6oGKoEYX",
        "outputId": "9d583e8f-9454-411a-c5d9-d609e9e53b0a"
      },
      "source": [
        "sum([e[0] * e[1] for e in zip(a, b)])"
      ],
      "execution_count": null,
      "outputs": [
        {
          "output_type": "execute_result",
          "data": {
            "text/plain": [
              "50"
            ]
          },
          "metadata": {
            "tags": []
          },
          "execution_count": 37
        }
      ]
    },
    {
      "cell_type": "code",
      "metadata": {
        "id": "DNoY83OyoEYb",
        "outputId": "f3992ee6-c3d3-4391-e6bf-b6d8a9646a50"
      },
      "source": [
        "dot_product(a, b)"
      ],
      "execution_count": null,
      "outputs": [
        {
          "output_type": "execute_result",
          "data": {
            "text/plain": [
              "50"
            ]
          },
          "metadata": {
            "tags": []
          },
          "execution_count": 38
        }
      ]
    },
    {
      "cell_type": "markdown",
      "metadata": {
        "id": "X-RU-_U-oEYf"
      },
      "source": [
        "And if we defined a 4D point named tuple:"
      ]
    },
    {
      "cell_type": "code",
      "metadata": {
        "id": "BNd-8OovoEYf"
      },
      "source": [
        "Point4D = namedtuple('Point4D', ['i', 'j', 'k', 'l'])"
      ],
      "execution_count": null,
      "outputs": []
    },
    {
      "cell_type": "code",
      "metadata": {
        "id": "Vqh_GsproEYh"
      },
      "source": [
        "pt4d_1 = (1, 1, 1, 10)\n",
        "pt4d_2 = (2, 2, 2, 10)"
      ],
      "execution_count": null,
      "outputs": []
    },
    {
      "cell_type": "code",
      "metadata": {
        "id": "8JvzoOfnoEYk",
        "outputId": "b44ce2b6-66a5-4dd9-e7b4-b481a123a681"
      },
      "source": [
        "dot_product(pt4d_1, pt4d_2)"
      ],
      "execution_count": null,
      "outputs": [
        {
          "output_type": "execute_result",
          "data": {
            "text/plain": [
              "106"
            ]
          },
          "metadata": {
            "tags": []
          },
          "execution_count": 41
        }
      ]
    },
    {
      "cell_type": "markdown",
      "metadata": {
        "id": "LDUj99s9oEYn"
      },
      "source": [
        "As you can see we got the correct dot product. We could not have done this using our `Point3D` class!"
      ]
    },
    {
      "cell_type": "markdown",
      "metadata": {
        "id": "jmFOqnqxoEYo"
      },
      "source": [
        "#### Other Ways to Specify Field Names"
      ]
    },
    {
      "cell_type": "markdown",
      "metadata": {
        "id": "57K-fDyEoEYo"
      },
      "source": [
        "There are a number of ways we can specify the field names for the named tuple:\n",
        "\n",
        "* we can provide a sequence of strings containing each property name\n",
        "* we can provide a single string with property names separated by whitespace or a comma"
      ]
    },
    {
      "cell_type": "code",
      "metadata": {
        "collapsed": true,
        "id": "P4mUxdAUoEYq"
      },
      "source": [
        "Circle = namedtuple('Circle', ['center_x', 'center_y', 'radius'])"
      ],
      "execution_count": null,
      "outputs": []
    },
    {
      "cell_type": "code",
      "metadata": {
        "collapsed": true,
        "id": "EGKmBTg_oEYt"
      },
      "source": [
        "circle_1 = Circle(0, 0, 10)\n",
        "circle_2 = Circle(center_x=10, center_y=20, radius=100)"
      ],
      "execution_count": null,
      "outputs": []
    },
    {
      "cell_type": "code",
      "metadata": {
        "id": "KqVIXUztoEYv",
        "outputId": "f5d5cb5d-b1da-40c6-9f81-8c55f9efea73"
      },
      "source": [
        "circle_1"
      ],
      "execution_count": null,
      "outputs": [
        {
          "output_type": "execute_result",
          "data": {
            "text/plain": [
              "Circle(center_x=0, center_y=0, radius=10)"
            ]
          },
          "metadata": {
            "tags": []
          },
          "execution_count": 44
        }
      ]
    },
    {
      "cell_type": "code",
      "metadata": {
        "id": "b0PhW5DSoEYz",
        "outputId": "0d1daca0-bf6e-4a27-b328-f90b6205bd68"
      },
      "source": [
        "circle_2"
      ],
      "execution_count": null,
      "outputs": [
        {
          "output_type": "execute_result",
          "data": {
            "text/plain": [
              "Circle(center_x=10, center_y=20, radius=100)"
            ]
          },
          "metadata": {
            "tags": []
          },
          "execution_count": 45
        }
      ]
    },
    {
      "cell_type": "markdown",
      "metadata": {
        "id": "IDAuZbvYoEY2"
      },
      "source": [
        "Or we can do it this way:"
      ]
    },
    {
      "cell_type": "code",
      "metadata": {
        "collapsed": true,
        "id": "N8wxzUH5oEY3"
      },
      "source": [
        "City = namedtuple('City', 'name country population')"
      ],
      "execution_count": null,
      "outputs": []
    },
    {
      "cell_type": "code",
      "metadata": {
        "collapsed": true,
        "id": "0XCDJde6oEY9"
      },
      "source": [
        "new_york = City('New York', 'USA', 8_500_000)"
      ],
      "execution_count": null,
      "outputs": []
    },
    {
      "cell_type": "code",
      "metadata": {
        "id": "F4guj0wJoEZB",
        "outputId": "17589f20-6422-405b-a665-10ae1f7d86e2"
      },
      "source": [
        "new_york"
      ],
      "execution_count": null,
      "outputs": [
        {
          "output_type": "execute_result",
          "data": {
            "text/plain": [
              "City(name='New York', country='USA', population=8500000)"
            ]
          },
          "metadata": {
            "tags": []
          },
          "execution_count": 48
        }
      ]
    },
    {
      "cell_type": "markdown",
      "metadata": {
        "id": "VTfuByuuoEZC"
      },
      "source": [
        "This would work equally well:"
      ]
    },
    {
      "cell_type": "code",
      "metadata": {
        "collapsed": true,
        "id": "HgoMEoORoEZD"
      },
      "source": [
        "Stock = namedtuple('Stock', 'symbol, year, month, day, open, high, low, close')"
      ],
      "execution_count": null,
      "outputs": []
    },
    {
      "cell_type": "code",
      "metadata": {
        "collapsed": true,
        "id": "Y_xMUYxhoEZF"
      },
      "source": [
        "djia = Stock('DJIA', 2018, 1, 25, 26_313, 26_458, 26_260, 26_393)"
      ],
      "execution_count": null,
      "outputs": []
    },
    {
      "cell_type": "code",
      "metadata": {
        "id": "ciEtoAegoEZH",
        "outputId": "879a127c-7854-45bd-db91-1b9ae7391e77"
      },
      "source": [
        "djia"
      ],
      "execution_count": null,
      "outputs": [
        {
          "output_type": "execute_result",
          "data": {
            "text/plain": [
              "Stock(symbol='DJIA', year=2018, month=1, day=25, open=26313, high=26458, low=26260, close=26393)"
            ]
          },
          "metadata": {
            "tags": []
          },
          "execution_count": 51
        }
      ]
    },
    {
      "cell_type": "markdown",
      "metadata": {
        "id": "fYYIWi6GoEZL"
      },
      "source": [
        "In fact, since whitespace can be used we can even use a multi-line string!"
      ]
    },
    {
      "cell_type": "code",
      "metadata": {
        "collapsed": true,
        "id": "stJBFITyoEZM"
      },
      "source": [
        "Stock = namedtuple('Stock', '''symbol\n",
        "                               year month day\n",
        "                               open high low close''')"
      ],
      "execution_count": null,
      "outputs": []
    },
    {
      "cell_type": "code",
      "metadata": {
        "collapsed": true,
        "id": "aNfGfDUloEZR"
      },
      "source": [
        "djia = Stock('DJIA', 2018, 1, 25, 26_313, 26_458, 26_260, 26_393)"
      ],
      "execution_count": null,
      "outputs": []
    },
    {
      "cell_type": "code",
      "metadata": {
        "id": "NsAnYTiHoEZU",
        "outputId": "54e3a419-e996-4685-a3ba-dad7723870ea"
      },
      "source": [
        "djia"
      ],
      "execution_count": null,
      "outputs": [
        {
          "output_type": "execute_result",
          "data": {
            "text/plain": [
              "Stock(symbol='DJIA', year=2018, month=1, day=25, open=26313, high=26458, low=26260, close=26393)"
            ]
          },
          "metadata": {
            "tags": []
          },
          "execution_count": 54
        }
      ]
    },
    {
      "cell_type": "markdown",
      "metadata": {
        "id": "PSh9W_hdoEZY"
      },
      "source": [
        "#### Accessing Items in a Named Tuple"
      ]
    },
    {
      "cell_type": "markdown",
      "metadata": {
        "id": "k7UCyTyeoEZZ"
      },
      "source": [
        "The major advantage of named tuples are that, as the name suggests, we can access the properties (fields) of the tuple by name:"
      ]
    },
    {
      "cell_type": "code",
      "metadata": {
        "id": "FKvzbvr1oEZZ",
        "outputId": "8c48eac2-be66-4b4a-be24-036bfc2fd761"
      },
      "source": [
        "pt1"
      ],
      "execution_count": null,
      "outputs": [
        {
          "output_type": "execute_result",
          "data": {
            "text/plain": [
              "Point2D(x=10, y=20)"
            ]
          },
          "metadata": {
            "tags": []
          },
          "execution_count": 55
        }
      ]
    },
    {
      "cell_type": "code",
      "metadata": {
        "id": "3au9Lo-foEZb",
        "outputId": "b3ee9805-75c5-41ae-eb47-73269b5313fc"
      },
      "source": [
        "pt1.x"
      ],
      "execution_count": null,
      "outputs": [
        {
          "output_type": "execute_result",
          "data": {
            "text/plain": [
              "10"
            ]
          },
          "metadata": {
            "tags": []
          },
          "execution_count": 56
        }
      ]
    },
    {
      "cell_type": "code",
      "metadata": {
        "id": "YGBjOE4IoEZg",
        "outputId": "a0a60561-93c7-4d3e-a279-8e9fcf0bc50e"
      },
      "source": [
        "circle_1"
      ],
      "execution_count": null,
      "outputs": [
        {
          "output_type": "execute_result",
          "data": {
            "text/plain": [
              "Circle(center_x=0, center_y=0, radius=10)"
            ]
          },
          "metadata": {
            "tags": []
          },
          "execution_count": 57
        }
      ]
    },
    {
      "cell_type": "code",
      "metadata": {
        "id": "zg4ThKUvoEZi",
        "outputId": "c9d51200-e3bd-480e-ab82-9ea34fe3606e"
      },
      "source": [
        "circle_1.radius"
      ],
      "execution_count": null,
      "outputs": [
        {
          "output_type": "execute_result",
          "data": {
            "text/plain": [
              "10"
            ]
          },
          "metadata": {
            "tags": []
          },
          "execution_count": 58
        }
      ]
    },
    {
      "cell_type": "markdown",
      "metadata": {
        "id": "aeZRSCQfoEZj"
      },
      "source": [
        "Now named tuples *are* tuples, so elements can be accessed by index, unpacked, and iterated."
      ]
    },
    {
      "cell_type": "code",
      "metadata": {
        "id": "xJd8ocOyoEZj",
        "outputId": "f0ce1321-434b-4341-a738-c7b948146fa1"
      },
      "source": [
        "circle_1[2]"
      ],
      "execution_count": null,
      "outputs": [
        {
          "output_type": "execute_result",
          "data": {
            "text/plain": [
              "10"
            ]
          },
          "metadata": {
            "tags": []
          },
          "execution_count": 59
        }
      ]
    },
    {
      "cell_type": "code",
      "metadata": {
        "id": "ga3oxKsWoEZm",
        "outputId": "24a20f29-c9e4-4329-fa86-2ba9fe22e842"
      },
      "source": [
        "for item in djia:\n",
        "    print(item)"
      ],
      "execution_count": null,
      "outputs": [
        {
          "output_type": "stream",
          "text": [
            "DJIA\n",
            "2018\n",
            "1\n",
            "25\n",
            "26313\n",
            "26458\n",
            "26260\n",
            "26393\n"
          ],
          "name": "stdout"
        }
      ]
    },
    {
      "cell_type": "markdown",
      "metadata": {
        "id": "S7iDR6jsoEZn"
      },
      "source": [
        "We can also unpack named tuples just like ordinary tuples:"
      ]
    },
    {
      "cell_type": "code",
      "metadata": {
        "id": "1uJVuvv5oEZo",
        "outputId": "24fc2162-ce1b-4ae5-d646-d2763b6bcbcd"
      },
      "source": [
        "pt1"
      ],
      "execution_count": null,
      "outputs": [
        {
          "output_type": "execute_result",
          "data": {
            "text/plain": [
              "Point2D(x=10, y=20)"
            ]
          },
          "metadata": {
            "tags": []
          },
          "execution_count": 61
        }
      ]
    },
    {
      "cell_type": "code",
      "metadata": {
        "id": "dTLYhKy9oEZs"
      },
      "source": [
        "x, y = pt1"
      ],
      "execution_count": null,
      "outputs": []
    },
    {
      "cell_type": "code",
      "metadata": {
        "id": "_JJd4Dq1oEZv",
        "outputId": "7d42e7f8-9115-4255-b5d5-1288ff4d3ae2"
      },
      "source": [
        "print(x, y)"
      ],
      "execution_count": null,
      "outputs": [
        {
          "output_type": "stream",
          "text": [
            "10 20\n"
          ],
          "name": "stdout"
        }
      ]
    },
    {
      "cell_type": "markdown",
      "metadata": {
        "id": "DAksLl-9oEZx"
      },
      "source": [
        "We can also use extended unpacking:"
      ]
    },
    {
      "cell_type": "code",
      "metadata": {
        "id": "WmtF7JEjoEZx",
        "outputId": "93698eb0-4581-48ce-8cd9-ca64b02c10ea"
      },
      "source": [
        "djia"
      ],
      "execution_count": null,
      "outputs": [
        {
          "output_type": "execute_result",
          "data": {
            "text/plain": [
              "Stock(symbol='DJIA', year=2018, month=1, day=25, open=26313, high=26458, low=26260, close=26393)"
            ]
          },
          "metadata": {
            "tags": []
          },
          "execution_count": 64
        }
      ]
    },
    {
      "cell_type": "code",
      "metadata": {
        "id": "mlCP0qrYoEZ0"
      },
      "source": [
        "symbol, *_, close = djia"
      ],
      "execution_count": null,
      "outputs": []
    },
    {
      "cell_type": "code",
      "metadata": {
        "id": "ZvqTD4V5oEZ3",
        "outputId": "ef9258c9-b8c6-4c32-dad6-2f7634c21e58"
      },
      "source": [
        "print(symbol, close)"
      ],
      "execution_count": null,
      "outputs": [
        {
          "output_type": "stream",
          "text": [
            "DJIA 26393\n"
          ],
          "name": "stdout"
        }
      ]
    },
    {
      "cell_type": "markdown",
      "metadata": {
        "id": "puYpuBv1oEZ5"
      },
      "source": [
        "And remember that the `_` we use in the unpacking is just a regular variable:"
      ]
    },
    {
      "cell_type": "code",
      "metadata": {
        "id": "y_8rJJu4oEZ5",
        "outputId": "383eede9-b1f2-4a71-9acf-a7d8d2e4fdbb"
      },
      "source": [
        "print(_)"
      ],
      "execution_count": null,
      "outputs": [
        {
          "output_type": "stream",
          "text": [
            "[2018, 1, 25, 26313, 26458, 26260]\n"
          ],
          "name": "stdout"
        }
      ]
    },
    {
      "cell_type": "markdown",
      "metadata": {
        "id": "KeSKA8KEoEZ7"
      },
      "source": [
        "The field names for these named tuples can be any valid variable name **except** that they cannot start with an underscore. \n",
        "\n",
        "For example the following would not be valid:"
      ]
    },
    {
      "cell_type": "code",
      "metadata": {
        "id": "0E_LnHunoEZ7",
        "outputId": "19e5916a-affa-4476-ec37-cbddf09e8d7b"
      },
      "source": [
        "Person = namedtuple('Person', ['firstname', 'lastname', '_age', 'ssn'])"
      ],
      "execution_count": null,
      "outputs": [
        {
          "output_type": "error",
          "ename": "ValueError",
          "evalue": "Field names cannot start with an underscore: '_age'",
          "traceback": [
            "\u001b[1;31m---------------------------------------------------------------------------\u001b[0m",
            "\u001b[1;31mValueError\u001b[0m                                Traceback (most recent call last)",
            "\u001b[1;32m<ipython-input-68-cc651156ccc1>\u001b[0m in \u001b[0;36m<module>\u001b[1;34m()\u001b[0m\n\u001b[1;32m----> 1\u001b[1;33m \u001b[0mPerson\u001b[0m \u001b[1;33m=\u001b[0m \u001b[0mnamedtuple\u001b[0m\u001b[1;33m(\u001b[0m\u001b[1;34m'Person'\u001b[0m\u001b[1;33m,\u001b[0m \u001b[1;33m[\u001b[0m\u001b[1;34m'firstname'\u001b[0m\u001b[1;33m,\u001b[0m \u001b[1;34m'lastname'\u001b[0m\u001b[1;33m,\u001b[0m \u001b[1;34m'_age'\u001b[0m\u001b[1;33m,\u001b[0m \u001b[1;34m'ssn'\u001b[0m\u001b[1;33m]\u001b[0m\u001b[1;33m)\u001b[0m\u001b[1;33m\u001b[0m\u001b[0m\n\u001b[0m",
            "\u001b[1;32mD:\\Users\\fbapt\\Anaconda3\\envs\\deepdive\\lib\\collections\\__init__.py\u001b[0m in \u001b[0;36mnamedtuple\u001b[1;34m(typename, field_names, verbose, rename, module)\u001b[0m\n\u001b[0;32m    409\u001b[0m         \u001b[1;32mif\u001b[0m \u001b[0mname\u001b[0m\u001b[1;33m.\u001b[0m\u001b[0mstartswith\u001b[0m\u001b[1;33m(\u001b[0m\u001b[1;34m'_'\u001b[0m\u001b[1;33m)\u001b[0m \u001b[1;32mand\u001b[0m \u001b[1;32mnot\u001b[0m \u001b[0mrename\u001b[0m\u001b[1;33m:\u001b[0m\u001b[1;33m\u001b[0m\u001b[0m\n\u001b[0;32m    410\u001b[0m             raise ValueError('Field names cannot start with an underscore: '\n\u001b[1;32m--> 411\u001b[1;33m                              '%r' % name)\n\u001b[0m\u001b[0;32m    412\u001b[0m         \u001b[1;32mif\u001b[0m \u001b[0mname\u001b[0m \u001b[1;32min\u001b[0m \u001b[0mseen\u001b[0m\u001b[1;33m:\u001b[0m\u001b[1;33m\u001b[0m\u001b[0m\n\u001b[0;32m    413\u001b[0m             \u001b[1;32mraise\u001b[0m \u001b[0mValueError\u001b[0m\u001b[1;33m(\u001b[0m\u001b[1;34m'Encountered duplicate field name: %r'\u001b[0m \u001b[1;33m%\u001b[0m \u001b[0mname\u001b[0m\u001b[1;33m)\u001b[0m\u001b[1;33m\u001b[0m\u001b[0m\n",
            "\u001b[1;31mValueError\u001b[0m: Field names cannot start with an underscore: '_age'"
          ]
        }
      ]
    },
    {
      "cell_type": "markdown",
      "metadata": {
        "id": "AXL0KmRFoEZ-"
      },
      "source": [
        "We can also choose to let the `namedtuple` function replace invalid field names automatically for us, by using the keyword argument `rename`. When we set that argument to `True` (it is `False` by default) it will replace the invalid name using the position (index) of the field, preceded by an underscore:"
      ]
    },
    {
      "cell_type": "code",
      "metadata": {
        "id": "VtkdUYbKoEZ-"
      },
      "source": [
        "Person = namedtuple('Person', ['firstname', 'lastname', '_age', 'ssn'], rename=True)"
      ],
      "execution_count": null,
      "outputs": []
    },
    {
      "cell_type": "code",
      "metadata": {
        "id": "vzS-H3ALoEaB"
      },
      "source": [
        "eric = Person('Eric', 'Idle', 42, 'unknown')"
      ],
      "execution_count": null,
      "outputs": []
    },
    {
      "cell_type": "code",
      "metadata": {
        "id": "4I7uCXrxoEaD",
        "outputId": "0731bfb1-4b62-425b-d402-c909fc16dfef"
      },
      "source": [
        "eric"
      ],
      "execution_count": null,
      "outputs": [
        {
          "output_type": "execute_result",
          "data": {
            "text/plain": [
              "Person(firstname='Eric', lastname='Idle', _2=42, ssn='unknown')"
            ]
          },
          "metadata": {
            "tags": []
          },
          "execution_count": 71
        }
      ]
    },
    {
      "cell_type": "markdown",
      "metadata": {
        "id": "GIOZ46bdoEaG"
      },
      "source": [
        "As you can see the invalid field name `_y` was replaced by `_1` since it was the second element (i.e. index of `1`)"
      ]
    },
    {
      "cell_type": "markdown",
      "metadata": {
        "id": "lF7Zq6qBoEaH"
      },
      "source": [
        "#### Named Tuple Internals"
      ]
    },
    {
      "cell_type": "markdown",
      "metadata": {
        "id": "5UHWTA6loEaI"
      },
      "source": [
        "We can easily find out the fields in a named tuple using the `_fields` property:"
      ]
    },
    {
      "cell_type": "code",
      "metadata": {
        "id": "o9tPwGzsoEaI",
        "outputId": "fcfba4e0-6b4e-44a2-b218-90adfa74729c"
      },
      "source": [
        "Point2D._fields"
      ],
      "execution_count": null,
      "outputs": [
        {
          "output_type": "execute_result",
          "data": {
            "text/plain": [
              "('x', 'y')"
            ]
          },
          "metadata": {
            "tags": []
          },
          "execution_count": 72
        }
      ]
    },
    {
      "cell_type": "code",
      "metadata": {
        "id": "R_VWMjijoEaL",
        "outputId": "7956b342-8a5e-496c-c3c6-7be8b8c18551"
      },
      "source": [
        "Stock._fields"
      ],
      "execution_count": null,
      "outputs": [
        {
          "output_type": "execute_result",
          "data": {
            "text/plain": [
              "('symbol', 'year', 'month', 'day', 'open', 'high', 'low', 'close')"
            ]
          },
          "metadata": {
            "tags": []
          },
          "execution_count": 73
        }
      ]
    },
    {
      "cell_type": "markdown",
      "metadata": {
        "id": "1luXgfHmoEaN"
      },
      "source": [
        "There is also a property, `_source` that allows us to see exactly the class that was generated by calling `namedtuple` (remember that `namedtuple` is a class **factory**):"
      ]
    },
    {
      "cell_type": "code",
      "metadata": {
        "id": "X471VWE7oEaP",
        "outputId": "af826d16-e756-4c48-ca38-cfb5902b0b1b"
      },
      "source": [
        "print(Point2D._source)"
      ],
      "execution_count": null,
      "outputs": [
        {
          "output_type": "stream",
          "text": [
            "from builtins import property as _property, tuple as _tuple\n",
            "from operator import itemgetter as _itemgetter\n",
            "from collections import OrderedDict\n",
            "\n",
            "class Point2D(tuple):\n",
            "    'Point2D(x, y)'\n",
            "\n",
            "    __slots__ = ()\n",
            "\n",
            "    _fields = ('x', 'y')\n",
            "\n",
            "    def __new__(_cls, x, y):\n",
            "        'Create new instance of Point2D(x, y)'\n",
            "        return _tuple.__new__(_cls, (x, y))\n",
            "\n",
            "    @classmethod\n",
            "    def _make(cls, iterable, new=tuple.__new__, len=len):\n",
            "        'Make a new Point2D object from a sequence or iterable'\n",
            "        result = new(cls, iterable)\n",
            "        if len(result) != 2:\n",
            "            raise TypeError('Expected 2 arguments, got %d' % len(result))\n",
            "        return result\n",
            "\n",
            "    def _replace(_self, **kwds):\n",
            "        'Return a new Point2D object replacing specified fields with new values'\n",
            "        result = _self._make(map(kwds.pop, ('x', 'y'), _self))\n",
            "        if kwds:\n",
            "            raise ValueError('Got unexpected field names: %r' % list(kwds))\n",
            "        return result\n",
            "\n",
            "    def __repr__(self):\n",
            "        'Return a nicely formatted representation string'\n",
            "        return self.__class__.__name__ + '(x=%r, y=%r)' % self\n",
            "\n",
            "    def _asdict(self):\n",
            "        'Return a new OrderedDict which maps field names to their values.'\n",
            "        return OrderedDict(zip(self._fields, self))\n",
            "\n",
            "    def __getnewargs__(self):\n",
            "        'Return self as a plain tuple.  Used by copy and pickle.'\n",
            "        return tuple(self)\n",
            "\n",
            "    x = _property(_itemgetter(0), doc='Alias for field number 0')\n",
            "\n",
            "    y = _property(_itemgetter(1), doc='Alias for field number 1')\n",
            "\n",
            "\n"
          ],
          "name": "stdout"
        }
      ]
    },
    {
      "cell_type": "markdown",
      "metadata": {
        "id": "GavCem2VoEaR"
      },
      "source": [
        "And of course this will be slightly different for another named tuple generated class:"
      ]
    },
    {
      "cell_type": "code",
      "metadata": {
        "id": "R70PbyXSoEaS",
        "outputId": "69a253af-dd05-4333-d079-3bea42e57f8b"
      },
      "source": [
        "print(Person._source)"
      ],
      "execution_count": null,
      "outputs": [
        {
          "output_type": "stream",
          "text": [
            "from builtins import property as _property, tuple as _tuple\n",
            "from operator import itemgetter as _itemgetter\n",
            "from collections import OrderedDict\n",
            "\n",
            "class Person(tuple):\n",
            "    'Person(firstname, lastname, _2, ssn)'\n",
            "\n",
            "    __slots__ = ()\n",
            "\n",
            "    _fields = ('firstname', 'lastname', '_2', 'ssn')\n",
            "\n",
            "    def __new__(_cls, firstname, lastname, _2, ssn):\n",
            "        'Create new instance of Person(firstname, lastname, _2, ssn)'\n",
            "        return _tuple.__new__(_cls, (firstname, lastname, _2, ssn))\n",
            "\n",
            "    @classmethod\n",
            "    def _make(cls, iterable, new=tuple.__new__, len=len):\n",
            "        'Make a new Person object from a sequence or iterable'\n",
            "        result = new(cls, iterable)\n",
            "        if len(result) != 4:\n",
            "            raise TypeError('Expected 4 arguments, got %d' % len(result))\n",
            "        return result\n",
            "\n",
            "    def _replace(_self, **kwds):\n",
            "        'Return a new Person object replacing specified fields with new values'\n",
            "        result = _self._make(map(kwds.pop, ('firstname', 'lastname', '_2', 'ssn'), _self))\n",
            "        if kwds:\n",
            "            raise ValueError('Got unexpected field names: %r' % list(kwds))\n",
            "        return result\n",
            "\n",
            "    def __repr__(self):\n",
            "        'Return a nicely formatted representation string'\n",
            "        return self.__class__.__name__ + '(firstname=%r, lastname=%r, _2=%r, ssn=%r)' % self\n",
            "\n",
            "    def _asdict(self):\n",
            "        'Return a new OrderedDict which maps field names to their values.'\n",
            "        return OrderedDict(zip(self._fields, self))\n",
            "\n",
            "    def __getnewargs__(self):\n",
            "        'Return self as a plain tuple.  Used by copy and pickle.'\n",
            "        return tuple(self)\n",
            "\n",
            "    firstname = _property(_itemgetter(0), doc='Alias for field number 0')\n",
            "\n",
            "    lastname = _property(_itemgetter(1), doc='Alias for field number 1')\n",
            "\n",
            "    _2 = _property(_itemgetter(2), doc='Alias for field number 2')\n",
            "\n",
            "    ssn = _property(_itemgetter(3), doc='Alias for field number 3')\n",
            "\n",
            "\n"
          ],
          "name": "stdout"
        }
      ]
    },
    {
      "cell_type": "markdown",
      "metadata": {
        "id": "eOerp18GoEaU"
      },
      "source": [
        "#### Converting Named Tuples to Dictionaries"
      ]
    },
    {
      "cell_type": "markdown",
      "metadata": {
        "id": "2Paz8IT0oEaU"
      },
      "source": [
        "The `namedtuple` generated class also provides us an instance method, `_asdict()` that will create a dictionary from all the fields in the named tuple:"
      ]
    },
    {
      "cell_type": "code",
      "metadata": {
        "id": "3vQArWpKoEaU",
        "outputId": "1a53c897-5f6e-4ad9-f7be-b5d07bacd45b"
      },
      "source": [
        "eric._asdict()"
      ],
      "execution_count": null,
      "outputs": [
        {
          "output_type": "execute_result",
          "data": {
            "text/plain": [
              "OrderedDict([('firstname', 'Eric'),\n",
              "             ('lastname', 'Idle'),\n",
              "             ('_2', 42),\n",
              "             ('ssn', 'unknown')])"
            ]
          },
          "metadata": {
            "tags": []
          },
          "execution_count": 76
        }
      ]
    },
    {
      "cell_type": "markdown",
      "metadata": {
        "id": "KMl962hjoEaW"
      },
      "source": [
        "Technically, it is an `OrderedDict`.Basically an `OrderedDict` is a dictionary that, unlike the standard built-in `Dictionary` is **guaranteed** to preserve the order of the keys.\n",
        "\n",
        "[**Note** that as of Python 3.6, regular dictionaries **do** preserve the order of the keys, but until just recently it was not **guaranteed** and was bascially an implementation detail.\n",
        "\n",
        "**However, this has now changed!!** Guido van Rossum has now agreed that this is no longer an implementation detail, and starting in Python 3.7 dictionary order is guaranteed. Since it is actually already the case in Python 3.6, you can now safely assume this fact - as long as you are running your code under Python 3.6 or higher. Your code will break if you rely on dictionary order prior to 3.6, in that case, still use an `OrderedDict`]"
      ]
    },
    {
      "cell_type": "markdown",
      "metadata": {
        "id": "tCMGeXDJoEaW"
      },
      "source": [
        "#### Overhead of Named Tuples"
      ]
    },
    {
      "cell_type": "markdown",
      "metadata": {
        "id": "99g40srgoEaX"
      },
      "source": [
        "At this point you may be wondering whether there's more overhead to using a named tuple vs a regular tuple.\n",
        "\n",
        "There is, but it is tiny. The field names are stored in the **class**, not every instance of the named tuples.\n",
        "This means that the overhead incurred by the field names for one instance of the named tuple vs 1000 instances is the same. Otherwise, the instances are tuples, so you can access contained objects using indexing, slicing and iteration just as if it were a plain tuple. No overhead there either. Looking up values by name do have some overhead of course, but no more than if you had created a custom class."
      ]
    }
  ]
}