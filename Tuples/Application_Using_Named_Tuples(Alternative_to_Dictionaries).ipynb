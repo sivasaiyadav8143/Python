{
  "nbformat": 4,
  "nbformat_minor": 0,
  "metadata": {
    "kernelspec": {
      "display_name": "Python 3",
      "language": "python",
      "name": "python3"
    },
    "language_info": {
      "codemirror_mode": {
        "name": "ipython",
        "version": 3
      },
      "file_extension": ".py",
      "mimetype": "text/x-python",
      "name": "python",
      "nbconvert_exporter": "python",
      "pygments_lexer": "ipython3",
      "version": "3.6.2"
    },
    "colab": {
      "name": "Application_Using_Named_Tuples(Alternative_to_Dictionaries).ipynb",
      "provenance": []
    }
  },
  "cells": [
    {
      "cell_type": "markdown",
      "metadata": {
        "id": "gDJyx3UW4Q7K"
      },
      "source": [
        "### Named Tuples - Application - Alternative to Dictionaries"
      ]
    },
    {
      "cell_type": "markdown",
      "metadata": {
        "id": "3yQ02VBi4Q7M"
      },
      "source": [
        "First an important caveat: all this really only works for dictionaries with **string** keys. Dictionary keys can be other hashable data types, (including tuples, as long as they contain hashable types in turn), and these examples will not work with those types of dictionaries."
      ]
    },
    {
      "cell_type": "code",
      "metadata": {
        "id": "6HWKKiXH4Q7M"
      },
      "source": [
        "from collections import namedtuple"
      ],
      "execution_count": 14,
      "outputs": []
    },
    {
      "cell_type": "code",
      "metadata": {
        "id": "pTtYjnUa4Q7R"
      },
      "source": [
        "data_dict = dict(key1=100, key2=200, key3=300)"
      ],
      "execution_count": null,
      "outputs": []
    },
    {
      "cell_type": "code",
      "metadata": {
        "id": "M7uQ211t4Q7V"
      },
      "source": [
        "Data = namedtuple('Data', data_dict.keys())"
      ],
      "execution_count": null,
      "outputs": []
    },
    {
      "cell_type": "code",
      "metadata": {
        "id": "DtwRQGz_4Q7Y",
        "outputId": "1c7871cf-a404-45e3-f90f-28961e8b55e3"
      },
      "source": [
        "Data._fields"
      ],
      "execution_count": null,
      "outputs": [
        {
          "output_type": "execute_result",
          "data": {
            "text/plain": [
              "('key1', 'key2', 'key3')"
            ]
          },
          "metadata": {
            "tags": []
          },
          "execution_count": 13
        }
      ]
    },
    {
      "cell_type": "markdown",
      "metadata": {
        "id": "toK-luT-4Q7c"
      },
      "source": [
        "Now we can create an instance of the `Data` named tuple using the data in the `data_dict` dictionary. \n",
        "\n",
        "We could try the following (bad idea):"
      ]
    },
    {
      "cell_type": "code",
      "metadata": {
        "id": "TOxA_2vK4Q7d"
      },
      "source": [
        "d1 = Data(*data_dict.values())"
      ],
      "execution_count": null,
      "outputs": []
    },
    {
      "cell_type": "code",
      "metadata": {
        "id": "uNJW4K104Q7h",
        "outputId": "863e9c99-35c0-45a7-d039-1b8db5e8e557"
      },
      "source": [
        "d1"
      ],
      "execution_count": null,
      "outputs": [
        {
          "output_type": "execute_result",
          "data": {
            "text/plain": [
              "Data(key1=100, key2=200, key3=300)"
            ]
          },
          "metadata": {
            "tags": []
          },
          "execution_count": 16
        }
      ]
    },
    {
      "cell_type": "markdown",
      "metadata": {
        "id": "zBMu61h24Q7k"
      },
      "source": [
        "This looks like it worked. \n",
        "\n",
        "But consider this second dictionary, where we do not create the keys in the same order:"
      ]
    },
    {
      "cell_type": "code",
      "metadata": {
        "id": "Cb8SzekO4Q7l"
      },
      "source": [
        "data_dict_2 = dict(key1=100, key3=300, key2=200)"
      ],
      "execution_count": null,
      "outputs": []
    },
    {
      "cell_type": "code",
      "metadata": {
        "id": "FbgQp1414Q7o"
      },
      "source": [
        "d2 = Data(*data_dict_2.values())"
      ],
      "execution_count": null,
      "outputs": []
    },
    {
      "cell_type": "code",
      "metadata": {
        "id": "prS4yW2U4Q7s",
        "outputId": "dff10838-438d-467c-fefe-99e70dde4393"
      },
      "source": [
        "d2"
      ],
      "execution_count": null,
      "outputs": [
        {
          "output_type": "execute_result",
          "data": {
            "text/plain": [
              "Data(key1=100, key2=300, key3=200)"
            ]
          },
          "metadata": {
            "tags": []
          },
          "execution_count": 37
        }
      ]
    },
    {
      "cell_type": "markdown",
      "metadata": {
        "id": "lVs-nUp84Q7u"
      },
      "source": [
        "Obviously this went terribly wrong!\n",
        "\n",
        "We cannot guarantee that the order of `values()` will be in the same order as the keys (in our named tuple and in the dictionary).\n",
        "\n",
        "Instead, we should unpack the dictionary itself, resulting in keyword arguments that will be passed to the `Data` constructor:"
      ]
    },
    {
      "cell_type": "code",
      "metadata": {
        "id": "F4Ew4-1S4Q7v"
      },
      "source": [
        "d2 = Data(**data_dict_2)"
      ],
      "execution_count": null,
      "outputs": []
    },
    {
      "cell_type": "code",
      "metadata": {
        "id": "Z93c-6f-4Q7z",
        "outputId": "0d21020f-1808-4a45-8b3f-348493453939"
      },
      "source": [
        "d2"
      ],
      "execution_count": null,
      "outputs": [
        {
          "output_type": "execute_result",
          "data": {
            "text/plain": [
              "Data(key1=100, key2=200, key3=300)"
            ]
          },
          "metadata": {
            "tags": []
          },
          "execution_count": 39
        }
      ]
    },
    {
      "cell_type": "markdown",
      "metadata": {
        "id": "s0p75gQW4Q73"
      },
      "source": [
        "So, the pattern to create a named tuple out of a single dictionary is straightforward:\n",
        "\n",
        "For any dictionary `d` we can created a named tuple class and insert the data into it as follows:\n",
        "\n",
        "`1. Struct = namedtuple('Struct', d.keys())`\n",
        "\n",
        "`2. data = Struct(**d)`"
      ]
    },
    {
      "cell_type": "markdown",
      "metadata": {
        "id": "oVQMU0ZF4Q73"
      },
      "source": [
        "Because dictionaries now preserve key order, the order of the fields in the named tuple structure will be the same. If you want your fields to be sorted in a different way, just sort the keys when you create the named tuple class. For example, to have keys sorted alphabetically we could do:"
      ]
    },
    {
      "cell_type": "code",
      "metadata": {
        "id": "hOYqhq0W4Q74"
      },
      "source": [
        "data_dict = dict(first_name='John', last_name='Cleese', age=42, complaint='dead parrot')"
      ],
      "execution_count": null,
      "outputs": []
    },
    {
      "cell_type": "code",
      "metadata": {
        "id": "sbsEeKl04Q77",
        "outputId": "3ae6a06b-7f41-47f5-993c-3f309c4c83ab"
      },
      "source": [
        "data_dict.keys()"
      ],
      "execution_count": null,
      "outputs": [
        {
          "output_type": "execute_result",
          "data": {
            "text/plain": [
              "dict_keys(['first_name', 'last_name', 'age', 'complaint'])"
            ]
          },
          "metadata": {
            "tags": []
          },
          "execution_count": 41
        }
      ]
    },
    {
      "cell_type": "code",
      "metadata": {
        "id": "l9eeMTJv4Q7-",
        "outputId": "982e66de-3a84-4cc2-e79e-3e1bed4a0464"
      },
      "source": [
        "sorted(data_dict.keys())"
      ],
      "execution_count": null,
      "outputs": [
        {
          "output_type": "execute_result",
          "data": {
            "text/plain": [
              "['age', 'complaint', 'first_name', 'last_name']"
            ]
          },
          "metadata": {
            "tags": []
          },
          "execution_count": 44
        }
      ]
    },
    {
      "cell_type": "code",
      "metadata": {
        "id": "OKlOq7b84Q8C"
      },
      "source": [
        "Struct = namedtuple('Struct', sorted(data_dict.keys()))"
      ],
      "execution_count": null,
      "outputs": []
    },
    {
      "cell_type": "code",
      "metadata": {
        "id": "drwlvuXe4Q8E",
        "outputId": "a9e4b44c-cb28-4acf-f553-bb81147337ac"
      },
      "source": [
        "Struct._fields"
      ],
      "execution_count": null,
      "outputs": [
        {
          "output_type": "execute_result",
          "data": {
            "text/plain": [
              "('age', 'complaint', 'first_name', 'last_name')"
            ]
          },
          "metadata": {
            "tags": []
          },
          "execution_count": 46
        }
      ]
    },
    {
      "cell_type": "markdown",
      "metadata": {
        "id": "RRf56dah4Q8H"
      },
      "source": [
        "Of course we can still put in the correct values from the dictionary into the correct slots in the tuple by unpacking the dictionary instead of just the values:"
      ]
    },
    {
      "cell_type": "code",
      "metadata": {
        "id": "jrBmAn3_4Q8I"
      },
      "source": [
        "d1 = Struct(**data_dict)"
      ],
      "execution_count": null,
      "outputs": []
    },
    {
      "cell_type": "code",
      "metadata": {
        "id": "tnslpexs4Q8K",
        "outputId": "45c8ddd3-44d7-4ea3-b608-8146effd0ad3"
      },
      "source": [
        "d1"
      ],
      "execution_count": null,
      "outputs": [
        {
          "output_type": "execute_result",
          "data": {
            "text/plain": [
              "Struct(age=42, complaint='dead parrot', first_name='John', last_name='Cleese')"
            ]
          },
          "metadata": {
            "tags": []
          },
          "execution_count": 49
        }
      ]
    },
    {
      "cell_type": "markdown",
      "metadata": {
        "id": "w6EIvhRw4Q8N"
      },
      "source": [
        "And of course, since this is now a named tuple we can access the data using the field name:"
      ]
    },
    {
      "cell_type": "code",
      "metadata": {
        "id": "IY9y3yTF4Q8N",
        "outputId": "4194cb63-1464-4228-eb03-42c23f6fe8d8"
      },
      "source": [
        "d1.complaint"
      ],
      "execution_count": null,
      "outputs": [
        {
          "output_type": "execute_result",
          "data": {
            "text/plain": [
              "'dead parrot'"
            ]
          },
          "metadata": {
            "tags": []
          },
          "execution_count": 50
        }
      ]
    },
    {
      "cell_type": "markdown",
      "metadata": {
        "id": "RJ5WsegI4Q8Q"
      },
      "source": [
        "instead of how we would have done it with the dictionary:"
      ]
    },
    {
      "cell_type": "code",
      "metadata": {
        "id": "XwcwElGl4Q8Q",
        "outputId": "a7ad9e7e-78d2-42d4-be4d-d6be52da8c08"
      },
      "source": [
        "data_dict['complaint']"
      ],
      "execution_count": null,
      "outputs": [
        {
          "output_type": "execute_result",
          "data": {
            "text/plain": [
              "'dead parrot'"
            ]
          },
          "metadata": {
            "tags": []
          },
          "execution_count": 51
        }
      ]
    },
    {
      "cell_type": "markdown",
      "metadata": {
        "id": "aKF01bBr4Q8T"
      },
      "source": [
        "I also want to point out that with dictionaries we often end up with code where the key is stored in some variable and then referenced this way:"
      ]
    },
    {
      "cell_type": "code",
      "metadata": {
        "id": "JkS5QLd84Q8U",
        "outputId": "2cdd6666-aaed-46f0-c23d-318d1df56dde"
      },
      "source": [
        "key_name = 'age'\n",
        "data_dict[key_name]"
      ],
      "execution_count": null,
      "outputs": [
        {
          "output_type": "execute_result",
          "data": {
            "text/plain": [
              "42"
            ]
          },
          "metadata": {
            "tags": []
          },
          "execution_count": 53
        }
      ]
    },
    {
      "cell_type": "markdown",
      "metadata": {
        "id": "If0_p_uQ4Q8X"
      },
      "source": [
        "We cannot use this approach directly with named tuples however. For example this will not work:"
      ]
    },
    {
      "cell_type": "code",
      "metadata": {
        "id": "OCg5mZQf4Q8X",
        "outputId": "37c8e4ea-6f44-4947-8125-807dd3e3c7d1"
      },
      "source": [
        "key_name = 'age'\n",
        "d1.key_name"
      ],
      "execution_count": null,
      "outputs": [
        {
          "output_type": "error",
          "ename": "AttributeError",
          "evalue": "'Struct' object has no attribute 'key_name'",
          "traceback": [
            "\u001b[1;31m---------------------------------------------------------------------------\u001b[0m",
            "\u001b[1;31mAttributeError\u001b[0m                            Traceback (most recent call last)",
            "\u001b[1;32m<ipython-input-54-f110bbdbc0a7>\u001b[0m in \u001b[0;36m<module>\u001b[1;34m()\u001b[0m\n\u001b[0;32m      1\u001b[0m \u001b[0mkey_name\u001b[0m \u001b[1;33m=\u001b[0m \u001b[1;34m'age'\u001b[0m\u001b[1;33m\u001b[0m\u001b[0m\n\u001b[1;32m----> 2\u001b[1;33m \u001b[0md1\u001b[0m\u001b[1;33m.\u001b[0m\u001b[0mkey_name\u001b[0m\u001b[1;33m\u001b[0m\u001b[0m\n\u001b[0m",
            "\u001b[1;31mAttributeError\u001b[0m: 'Struct' object has no attribute 'key_name'"
          ]
        }
      ]
    },
    {
      "cell_type": "markdown",
      "metadata": {
        "id": "ag5Yxpw64Q8a"
      },
      "source": [
        "However, we can use the `getattr` function that we have seen before:"
      ]
    },
    {
      "cell_type": "code",
      "metadata": {
        "id": "Hil5sD_84Q8a",
        "outputId": "b276a78c-4dac-4f6a-bf5f-fdf3302de2d0"
      },
      "source": [
        "key_name = 'age'\n",
        "getattr(d1, key_name)"
      ],
      "execution_count": null,
      "outputs": [
        {
          "output_type": "execute_result",
          "data": {
            "text/plain": [
              "42"
            ]
          },
          "metadata": {
            "tags": []
          },
          "execution_count": 57
        }
      ]
    },
    {
      "cell_type": "markdown",
      "metadata": {
        "id": "go-NAnOE4Q8c"
      },
      "source": [
        "We also have the `get` method on dictionaries that can specify a default value to return if the key does not exist:"
      ]
    },
    {
      "cell_type": "code",
      "metadata": {
        "id": "4ijyNFtT4Q8d",
        "outputId": "7720b86e-0714-433c-b145-6bf6b1d7bb6c"
      },
      "source": [
        "data_dict.get('age', None), data_dict.get('invalid_key', None)"
      ],
      "execution_count": null,
      "outputs": [
        {
          "output_type": "execute_result",
          "data": {
            "text/plain": [
              "(42, None)"
            ]
          },
          "metadata": {
            "tags": []
          },
          "execution_count": 59
        }
      ]
    },
    {
      "cell_type": "markdown",
      "metadata": {
        "id": "s83r0l9T4Q8g"
      },
      "source": [
        "And we can do the same with the `getattr` function:"
      ]
    },
    {
      "cell_type": "code",
      "metadata": {
        "id": "-C9DcMV-4Q8g",
        "outputId": "8247aa22-68c6-4507-a17d-a024da3fd471"
      },
      "source": [
        "getattr(d1, 'age', None), getattr(d1, 'invalid_field', None)"
      ],
      "execution_count": null,
      "outputs": [
        {
          "output_type": "execute_result",
          "data": {
            "text/plain": [
              "(42, None)"
            ]
          },
          "metadata": {
            "tags": []
          },
          "execution_count": 60
        }
      ]
    },
    {
      "cell_type": "markdown",
      "metadata": {
        "id": "0JpQ5u7p4Q8k"
      },
      "source": [
        "Now this is not very useful if you are only working with a single instance of a dictionary that has the same set of keys. Kind of pointless really.\n",
        "\n",
        "You also do not want to create a new named tuple for every instance of a dictionary - that would just be way too much overhead.\n",
        "\n",
        "But in cases where you have a collection of dictionaries that share a common set of keys, this can be really useful, as long as you are willing to live with the fact that you now have immutable structures."
      ]
    },
    {
      "cell_type": "markdown",
      "metadata": {
        "id": "lq7XbUmY4Q8k"
      },
      "source": [
        "Let's suppose we have this data list:"
      ]
    },
    {
      "cell_type": "code",
      "metadata": {
        "id": "3qDKIufL4Q8l"
      },
      "source": [
        "data_list = [\n",
        "    {'key1': 1, 'key2': 2},\n",
        "    {'key1': 3, 'key2': 4},\n",
        "    {'key1': 5, 'key2': 6, 'key3': 7},\n",
        "    {'key2': 100}\n",
        "]"
      ],
      "execution_count": 2,
      "outputs": []
    },
    {
      "cell_type": "markdown",
      "metadata": {
        "id": "ueOW_k-Y4Q8o"
      },
      "source": [
        "The first thing to note is that we need to figure out all the possible keys that have been used in the dictionaries in this list."
      ]
    },
    {
      "cell_type": "markdown",
      "metadata": {
        "id": "jz-zqdmq4Q8o"
      },
      "source": [
        "The easiest way to do this is to extract all the keys of all the dictionaries and then make a `set` out of them, to eliminate duplicate key names:"
      ]
    },
    {
      "cell_type": "markdown",
      "metadata": {
        "id": "7BJDzlm64Q8p"
      },
      "source": [
        "We could do it this way, using a simple loop:"
      ]
    },
    {
      "cell_type": "code",
      "metadata": {
        "id": "1Qe4wWrB4Q8q"
      },
      "source": [
        "keys = set()\n",
        "for d in data_list:\n",
        "    for key in d.keys():\n",
        "        keys.add(key)"
      ],
      "execution_count": 3,
      "outputs": []
    },
    {
      "cell_type": "code",
      "metadata": {
        "id": "0y1CnPKH4Q8x",
        "outputId": "f57d6924-ee3b-4ba1-8bcc-ec6b023eb995",
        "colab": {
          "base_uri": "https://localhost:8080/",
          "height": 34
        }
      },
      "source": [
        "keys"
      ],
      "execution_count": 4,
      "outputs": [
        {
          "output_type": "execute_result",
          "data": {
            "text/plain": [
              "{'key1', 'key2', 'key3'}"
            ]
          },
          "metadata": {
            "tags": []
          },
          "execution_count": 4
        }
      ]
    },
    {
      "cell_type": "markdown",
      "metadata": {
        "id": "TqcLYA-O4Q80"
      },
      "source": [
        "But actually a more efficient way would be to use a comprehension:"
      ]
    },
    {
      "cell_type": "code",
      "metadata": {
        "id": "tbUQMcPc4Q80"
      },
      "source": [
        "# key = set(j for i in data_list for j in i.keys())\n",
        "keys = {key for dict_ in data_list for key in dict_.keys()}"
      ],
      "execution_count": 5,
      "outputs": []
    },
    {
      "cell_type": "code",
      "metadata": {
        "id": "VKrSsggT4Q83",
        "outputId": "16195128-e98b-46dc-f53d-64158371ac15",
        "colab": {
          "base_uri": "https://localhost:8080/",
          "height": 34
        }
      },
      "source": [
        "keys"
      ],
      "execution_count": 6,
      "outputs": [
        {
          "output_type": "execute_result",
          "data": {
            "text/plain": [
              "{'key1', 'key2', 'key3'}"
            ]
          },
          "metadata": {
            "tags": []
          },
          "execution_count": 6
        }
      ]
    },
    {
      "cell_type": "markdown",
      "metadata": {
        "id": "CxlHegbo4Q86"
      },
      "source": [
        "In fact, we can also use the fact that we can union multiple sets (we'll cover this in detail later) by unpacking all the keys and creating a union of them:"
      ]
    },
    {
      "cell_type": "code",
      "metadata": {
        "id": "o4Z8H0Ki4Q87"
      },
      "source": [
        "keys = set().union(*(dict_.keys() for dict_ in data_list))"
      ],
      "execution_count": 7,
      "outputs": []
    },
    {
      "cell_type": "code",
      "metadata": {
        "id": "wwJEOqmE4Q89",
        "outputId": "e05a5df3-1d26-44da-8431-84c486cb7aa8",
        "colab": {
          "base_uri": "https://localhost:8080/",
          "height": 34
        }
      },
      "source": [
        "keys"
      ],
      "execution_count": 8,
      "outputs": [
        {
          "output_type": "execute_result",
          "data": {
            "text/plain": [
              "{'key1', 'key2', 'key3'}"
            ]
          },
          "metadata": {
            "tags": []
          },
          "execution_count": 8
        }
      ]
    },
    {
      "cell_type": "markdown",
      "metadata": {
        "id": "7gyfFP8r4Q9A"
      },
      "source": [
        "However you do it, we end up with a set of all the possible keys used in our list of dictionaries."
      ]
    },
    {
      "cell_type": "markdown",
      "metadata": {
        "id": "l6_yX8yZ4Q9B"
      },
      "source": [
        "Now we can go ahead and create a named tuple with all those keys as fields:"
      ]
    },
    {
      "cell_type": "code",
      "metadata": {
        "id": "Y3AJfBui4Q9B"
      },
      "source": [
        "Struct = namedtuple('Struct', keys)"
      ],
      "execution_count": 15,
      "outputs": []
    },
    {
      "cell_type": "code",
      "metadata": {
        "id": "WO7TbGi84Q9E",
        "outputId": "c59b8de6-20ba-42d6-91f3-70f811c1e6eb",
        "colab": {
          "base_uri": "https://localhost:8080/",
          "height": 34
        }
      },
      "source": [
        "Struct._fields"
      ],
      "execution_count": 16,
      "outputs": [
        {
          "output_type": "execute_result",
          "data": {
            "text/plain": [
              "('key3', 'key2', 'key1')"
            ]
          },
          "metadata": {
            "tags": []
          },
          "execution_count": 16
        }
      ]
    },
    {
      "cell_type": "markdown",
      "metadata": {
        "id": "D1XkOUOi4Q9G"
      },
      "source": [
        "As you can see, sets do not preserve order, so in this case we'll probably sort the keys to create our named tuple:"
      ]
    },
    {
      "cell_type": "code",
      "metadata": {
        "id": "YPKUB3sW4Q9H"
      },
      "source": [
        "Struct = namedtuple('Struct', sorted(keys))"
      ],
      "execution_count": 17,
      "outputs": []
    },
    {
      "cell_type": "code",
      "metadata": {
        "id": "UxRCzO-p4Q9K",
        "outputId": "9b0281b6-8154-48ee-d6db-5ec6ba602978",
        "colab": {
          "base_uri": "https://localhost:8080/",
          "height": 34
        }
      },
      "source": [
        "Struct._fields"
      ],
      "execution_count": 18,
      "outputs": [
        {
          "output_type": "execute_result",
          "data": {
            "text/plain": [
              "('key1', 'key2', 'key3')"
            ]
          },
          "metadata": {
            "tags": []
          },
          "execution_count": 18
        }
      ]
    },
    {
      "cell_type": "markdown",
      "metadata": {
        "id": "ioObrKfV4Q9N"
      },
      "source": [
        "Now, we're also going to provide default values, since not all dictionaries have all the keys in them. In this case I'm going to set the default to `None` if the key is missing:"
      ]
    },
    {
      "cell_type": "code",
      "metadata": {
        "id": "VSYGD7FJ4Q9N"
      },
      "source": [
        "Struct.__new__.__defaults__ = (None,) * len(Struct._fields)"
      ],
      "execution_count": 19,
      "outputs": []
    },
    {
      "cell_type": "markdown",
      "metadata": {
        "id": "h_Robp4s4Q9S"
      },
      "source": [
        "Now we're ready to load up all these dictionaries into a new list of named tuples:"
      ]
    },
    {
      "cell_type": "code",
      "metadata": {
        "id": "ue_S7JI34Q9S"
      },
      "source": [
        "\"\"\"tuple_list = []\n",
        "\n",
        "for i in data_list:\n",
        "  tuple_list.append(Name(**i))\n",
        "print(tuple_list)\"\"\"\n",
        "\n",
        "tuple_list = [Struct(**dict_) for dict_ in data_list]"
      ],
      "execution_count": 20,
      "outputs": []
    },
    {
      "cell_type": "code",
      "metadata": {
        "id": "sq-WrsqK4Q9X",
        "outputId": "563c7461-b1e0-4969-8452-4adf7c14dfa2",
        "colab": {
          "base_uri": "https://localhost:8080/",
          "height": 85
        }
      },
      "source": [
        "tuple_list"
      ],
      "execution_count": 21,
      "outputs": [
        {
          "output_type": "execute_result",
          "data": {
            "text/plain": [
              "[Struct(key1=1, key2=2, key3=None),\n",
              " Struct(key1=3, key2=4, key3=None),\n",
              " Struct(key1=5, key2=6, key3=7),\n",
              " Struct(key1=None, key2=100, key3=None)]"
            ]
          },
          "metadata": {
            "tags": []
          },
          "execution_count": 21
        }
      ]
    },
    {
      "cell_type": "markdown",
      "metadata": {
        "id": "567jUxyB4Q9a"
      },
      "source": [
        "So lastly, let's just package this all up neatly into a single function that will take an iterable of dictionaries, or an arbitrary number of dictionaries as positional arguments, and return a list of named tuples:"
      ]
    },
    {
      "cell_type": "code",
      "metadata": {
        "id": "pWgHb7ZW4Q9a"
      },
      "source": [
        "def tuplify_dicts(dicts):\n",
        "    keys = {key for dict_ in dicts for key in dict_.keys()}\n",
        "    Struct = namedtuple('Struct', keys)\n",
        "    Struct.__new__.__defaults__ = (None,) * len(Struct._fields)\n",
        "    return [Struct(**dict_) for dict_ in dicts]"
      ],
      "execution_count": null,
      "outputs": []
    },
    {
      "cell_type": "code",
      "metadata": {
        "id": "H7iXuMAi4Q9d",
        "outputId": "d0d463f6-fdde-4481-b8fb-d1f0d554ce56"
      },
      "source": [
        "tuplify_dicts(data_list)"
      ],
      "execution_count": null,
      "outputs": [
        {
          "output_type": "execute_result",
          "data": {
            "text/plain": [
              "[Struct(key1=1, key2=2, key3=None),\n",
              " Struct(key1=3, key2=4, key3=None),\n",
              " Struct(key1=5, key2=6, key3=7),\n",
              " Struct(key1=None, key2=100, key3=None)]"
            ]
          },
          "metadata": {
            "tags": []
          },
          "execution_count": 6
        }
      ]
    }
  ]
}