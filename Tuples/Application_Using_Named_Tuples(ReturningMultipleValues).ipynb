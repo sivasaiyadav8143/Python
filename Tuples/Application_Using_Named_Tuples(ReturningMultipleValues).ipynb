{
  "nbformat": 4,
  "nbformat_minor": 0,
  "metadata": {
    "kernelspec": {
      "display_name": "Python 3",
      "language": "python",
      "name": "python3"
    },
    "language_info": {
      "codemirror_mode": {
        "name": "ipython",
        "version": 3
      },
      "file_extension": ".py",
      "mimetype": "text/x-python",
      "name": "python",
      "nbconvert_exporter": "python",
      "pygments_lexer": "ipython3",
      "version": "3.6.2"
    },
    "colab": {
      "name": "Application_Using_Named Tuples(ReturningMultipleValues).ipynb",
      "provenance": []
    }
  },
  "cells": [
    {
      "cell_type": "markdown",
      "metadata": {
        "id": "-3t8qTlkYjvD"
      },
      "source": [
        "### Named Tuples - Application - Returning Multiple Values"
      ]
    },
    {
      "cell_type": "markdown",
      "metadata": {
        "collapsed": true,
        "id": "9yv99RXlYjvE"
      },
      "source": [
        "We already know that we can easily return multiple values from a function by using a tuple:"
      ]
    },
    {
      "cell_type": "code",
      "metadata": {
        "id": "RNbfEtk6YjvL"
      },
      "source": [
        "from random import randint, random\n",
        "\n",
        "def random_color():\n",
        "    red = randint(0, 255)\n",
        "    green = randint(0,255)\n",
        "    blue = randint(0, 255)\n",
        "    alpha = round(random(), 2)\n",
        "    return red, green, blue, alpha"
      ],
      "execution_count": null,
      "outputs": []
    },
    {
      "cell_type": "code",
      "metadata": {
        "id": "ozUAnMDAYjvT",
        "outputId": "62c5973d-0ebe-4159-c775-70dc10eb4189"
      },
      "source": [
        "random_color()"
      ],
      "execution_count": null,
      "outputs": [
        {
          "output_type": "execute_result",
          "data": {
            "text/plain": [
              "(97, 254, 97, 0.06)"
            ]
          },
          "metadata": {
            "tags": []
          },
          "execution_count": 23
        }
      ]
    },
    {
      "cell_type": "markdown",
      "metadata": {
        "id": "9IheMFtXYjve"
      },
      "source": [
        "So of course, we could call the function this and unpack the results at the same time:"
      ]
    },
    {
      "cell_type": "code",
      "metadata": {
        "id": "RpGGBYOPYjvf"
      },
      "source": [
        "red, green, blue, alpha = random_color()"
      ],
      "execution_count": null,
      "outputs": []
    },
    {
      "cell_type": "code",
      "metadata": {
        "id": "C6Y9fAxGYjvp",
        "outputId": "2870bd4c-70d2-463a-c907-c3ef6eb3c3d2"
      },
      "source": [
        "print(f'red={red}, green={green}, blue={blue}, alpha={alpha}')"
      ],
      "execution_count": null,
      "outputs": [
        {
          "output_type": "stream",
          "text": [
            "red=42, green=178, blue=69, alpha=0.7\n"
          ],
          "name": "stdout"
        }
      ]
    },
    {
      "cell_type": "markdown",
      "metadata": {
        "id": "4W7cBMdnYjvy"
      },
      "source": [
        "But it might be nicer to use a named tuple:"
      ]
    },
    {
      "cell_type": "code",
      "metadata": {
        "id": "vVmd7dtZYjv0"
      },
      "source": [
        "from collections import namedtuple"
      ],
      "execution_count": null,
      "outputs": []
    },
    {
      "cell_type": "code",
      "metadata": {
        "id": "OhzJTcvBYjv8"
      },
      "source": [
        "Color = namedtuple('Color', 'red green blue alpha')\n",
        "\n",
        "def random_color():\n",
        "    red = randint(0, 255)\n",
        "    green = randint(0,255)\n",
        "    blue = randint(0, 255)\n",
        "    alpha = round(random(), 2)\n",
        "    return Color(red, green, blue, alpha)"
      ],
      "execution_count": null,
      "outputs": []
    },
    {
      "cell_type": "code",
      "metadata": {
        "id": "LkBoC12gYjwO"
      },
      "source": [
        "color = random_color()"
      ],
      "execution_count": null,
      "outputs": []
    },
    {
      "cell_type": "code",
      "metadata": {
        "id": "GRkopY2LYjwX",
        "outputId": "d734b946-cd0c-47b7-b39e-26a88790f056"
      },
      "source": [
        "color.red"
      ],
      "execution_count": null,
      "outputs": [
        {
          "output_type": "execute_result",
          "data": {
            "text/plain": [
              "5"
            ]
          },
          "metadata": {
            "tags": []
          },
          "execution_count": 30
        }
      ]
    },
    {
      "cell_type": "code",
      "metadata": {
        "id": "GsNibtMvYjwf",
        "outputId": "ec1ba8ee-bd19-41c1-d5a6-bca0003de21d"
      },
      "source": [
        "color"
      ],
      "execution_count": null,
      "outputs": [
        {
          "output_type": "execute_result",
          "data": {
            "text/plain": [
              "Color(red=5, green=210, blue=143, alpha=0.06)"
            ]
          },
          "metadata": {
            "tags": []
          },
          "execution_count": 31
        }
      ]
    }
  ]
}