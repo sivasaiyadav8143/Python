{
  "nbformat": 4,
  "nbformat_minor": 0,
  "metadata": {
    "kernelspec": {
      "display_name": "Python 3",
      "language": "python",
      "name": "python3"
    },
    "language_info": {
      "codemirror_mode": {
        "name": "ipython",
        "version": 3
      },
      "file_extension": ".py",
      "mimetype": "text/x-python",
      "name": "python",
      "nbconvert_exporter": "python",
      "pygments_lexer": "ipython3",
      "version": "3.6.1"
    },
    "colab": {
      "name": "Optimizations - Integer interning.ipynb",
      "provenance": [],
      "include_colab_link": true
    }
  },
  "cells": [
    {
      "cell_type": "markdown",
      "metadata": {
        "id": "view-in-github",
        "colab_type": "text"
      },
      "source": [
        "<a href=\"https://colab.research.google.com/github/sivasaiyadav8143/Python/blob/master/Optimizations_Integer_interning.ipynb\" target=\"_parent\"><img src=\"https://colab.research.google.com/assets/colab-badge.svg\" alt=\"Open In Colab\"/></a>"
      ]
    },
    {
      "cell_type": "markdown",
      "metadata": {
        "id": "JPRiGJP67iFl",
        "colab_type": "text"
      },
      "source": [
        "## **Interning** in programming means the practice of using references in place of copies of equal objects."
      ]
    },
    {
      "cell_type": "markdown",
      "metadata": {
        "id": "86fXL-tO6dXf",
        "colab_type": "text"
      },
      "source": [
        "## Python Optimizations: Interning"
      ]
    },
    {
      "cell_type": "markdown",
      "metadata": {
        "id": "yd4beEYZ6dXg",
        "colab_type": "text"
      },
      "source": [
        "Shared references being created automatically by Python:"
      ]
    },
    {
      "cell_type": "code",
      "metadata": {
        "id": "Kjgxveum6dXh",
        "colab_type": "code",
        "colab": {},
        "outputId": "c24af1e1-2aac-40d0-df3b-14a34ef9c4eb"
      },
      "source": [
        "a = 10\n",
        "b = 10\n",
        "print(id(a))\n",
        "print(id(b))"
      ],
      "execution_count": null,
      "outputs": [
        {
          "output_type": "stream",
          "text": [
            "1968827120\n",
            "1968827120\n"
          ],
          "name": "stdout"
        }
      ]
    },
    {
      "cell_type": "markdown",
      "metadata": {
        "id": "mnhM8jte6dXm",
        "colab_type": "text"
      },
      "source": [
        "Note how `a` and `b` reference the same object.\n",
        "\n",
        "But consider the following example:"
      ]
    },
    {
      "cell_type": "code",
      "metadata": {
        "id": "-NuV3CVN6dXm",
        "colab_type": "code",
        "colab": {},
        "outputId": "7da307d0-8942-46a6-e5ba-910e94497861"
      },
      "source": [
        "a = 500\n",
        "b = 500\n",
        "print(id(a))\n",
        "print(id(b))"
      ],
      "execution_count": null,
      "outputs": [
        {
          "output_type": "stream",
          "text": [
            "1935322088624\n",
            "1935322089008\n"
          ],
          "name": "stdout"
        }
      ]
    },
    {
      "cell_type": "markdown",
      "metadata": {
        "id": "73V_Q6z36dXp",
        "colab_type": "text"
      },
      "source": [
        "As you can see, the variables `a` and `b` do **not** point to the same object!\n",
        "\n",
        "This is because Python pre-caches integer objects in the range [-5, 256]"
      ]
    },
    {
      "cell_type": "markdown",
      "metadata": {
        "id": "x682DcE26dXq",
        "colab_type": "text"
      },
      "source": [
        "So for example:"
      ]
    },
    {
      "cell_type": "code",
      "metadata": {
        "id": "8II5atDu6dXq",
        "colab_type": "code",
        "colab": {},
        "outputId": "95444ba5-7106-45d0-ee2d-2b43da411fdf"
      },
      "source": [
        "a = 256\n",
        "b = 256\n",
        "print(id(a))\n",
        "print(id(b))"
      ],
      "execution_count": null,
      "outputs": [
        {
          "output_type": "stream",
          "text": [
            "1968834992\n",
            "1968834992\n"
          ],
          "name": "stdout"
        }
      ]
    },
    {
      "cell_type": "markdown",
      "metadata": {
        "id": "CUnaY-Dq6dXt",
        "colab_type": "text"
      },
      "source": [
        "and"
      ]
    },
    {
      "cell_type": "code",
      "metadata": {
        "id": "QlAme_XO6dXu",
        "colab_type": "code",
        "colab": {},
        "outputId": "ced4607e-0bc3-4b4d-abe4-fca643deddc5"
      },
      "source": [
        "a = -5\n",
        "b = -5\n",
        "print(id(a))\n",
        "print(id(b))"
      ],
      "execution_count": null,
      "outputs": [
        {
          "output_type": "stream",
          "text": [
            "1968826640\n",
            "1968826640\n"
          ],
          "name": "stdout"
        }
      ]
    },
    {
      "cell_type": "markdown",
      "metadata": {
        "id": "cJcAMtTP6dXx",
        "colab_type": "text"
      },
      "source": [
        "do have the same reference.\n",
        "\n",
        "This is called **interning**: Python **interns** the integers in the range [-5, 256]."
      ]
    },
    {
      "cell_type": "markdown",
      "metadata": {
        "id": "Nsl6Ofv-6dXy",
        "colab_type": "text"
      },
      "source": [
        "The integers in the range [-5, 256] are essentially **singleton** objects."
      ]
    },
    {
      "cell_type": "code",
      "metadata": {
        "id": "9KEsGYQD6dXy",
        "colab_type": "code",
        "colab": {}
      },
      "source": [
        "a = 10\n",
        "b = int(10)\n",
        "c = int('10')\n",
        "d = int('1010', 2)"
      ],
      "execution_count": null,
      "outputs": []
    },
    {
      "cell_type": "code",
      "metadata": {
        "id": "O33sJe1M6dX1",
        "colab_type": "code",
        "colab": {},
        "outputId": "1d316787-6d04-4ca0-8a94-439e59e48da0"
      },
      "source": [
        "print(a, b, c, d)"
      ],
      "execution_count": null,
      "outputs": [
        {
          "output_type": "stream",
          "text": [
            "10 10 10 10\n"
          ],
          "name": "stdout"
        }
      ]
    },
    {
      "cell_type": "code",
      "metadata": {
        "id": "CGfE8WfC6dX6",
        "colab_type": "code",
        "colab": {},
        "outputId": "483128ca-d5d9-4e5e-f4a1-4d636afa9535"
      },
      "source": [
        "a is b"
      ],
      "execution_count": null,
      "outputs": [
        {
          "output_type": "execute_result",
          "data": {
            "text/plain": [
              "True"
            ]
          },
          "metadata": {
            "tags": []
          },
          "execution_count": 7
        }
      ]
    },
    {
      "cell_type": "code",
      "metadata": {
        "id": "kiTEqmK86dX9",
        "colab_type": "code",
        "colab": {},
        "outputId": "eac1a30e-f2d1-4d18-b759-e9ccaa719aac"
      },
      "source": [
        "a is c"
      ],
      "execution_count": null,
      "outputs": [
        {
          "output_type": "execute_result",
          "data": {
            "text/plain": [
              "True"
            ]
          },
          "metadata": {
            "tags": []
          },
          "execution_count": 8
        }
      ]
    },
    {
      "cell_type": "code",
      "metadata": {
        "id": "yeEbm9T06dYA",
        "colab_type": "code",
        "colab": {},
        "outputId": "a56a9421-35a6-4876-918b-14d66197ede9"
      },
      "source": [
        "a is d"
      ],
      "execution_count": null,
      "outputs": [
        {
          "output_type": "execute_result",
          "data": {
            "text/plain": [
              "True"
            ]
          },
          "metadata": {
            "tags": []
          },
          "execution_count": 9
        }
      ]
    },
    {
      "cell_type": "markdown",
      "metadata": {
        "id": "p0hivc4O6dYC",
        "colab_type": "text"
      },
      "source": [
        "As you can see, all these variables were created in different ways, but since the integer object with value 10 behaves like a singleton, they all ended up pointing to the **same** object in memory."
      ]
    }
  ]
}