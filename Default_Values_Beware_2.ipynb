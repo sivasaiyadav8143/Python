{
  "nbformat": 4,
  "nbformat_minor": 0,
  "metadata": {
    "kernelspec": {
      "display_name": "Python 3",
      "language": "python",
      "name": "python3"
    },
    "language_info": {
      "codemirror_mode": {
        "name": "ipython",
        "version": 3
      },
      "file_extension": ".py",
      "mimetype": "text/x-python",
      "name": "python",
      "nbconvert_exporter": "python",
      "pygments_lexer": "ipython3",
      "version": "3.6.2"
    },
    "colab": {
      "name": "Parameter Defaults - Beware 2.ipynb",
      "provenance": [],
      "include_colab_link": true
    }
  },
  "cells": [
    {
      "cell_type": "markdown",
      "metadata": {
        "id": "view-in-github",
        "colab_type": "text"
      },
      "source": [
        "<a href=\"https://colab.research.google.com/github/sivasaiyadav8143/Python/blob/master/Parameter_Defaults_Beware_2.ipynb\" target=\"_parent\"><img src=\"https://colab.research.google.com/assets/colab-badge.svg\" alt=\"Open In Colab\"/></a>"
      ]
    },
    {
      "cell_type": "markdown",
      "metadata": {
        "id": "JOE2sK-z2hUE",
        "colab_type": "text"
      },
      "source": [
        "### Parameter Defaults - Beware 2"
      ]
    },
    {
      "cell_type": "markdown",
      "metadata": {
        "id": "FDSiv9q92hUF",
        "colab_type": "text"
      },
      "source": [
        "Another gotcha with parameter defaults comes with mutable types, and is an easy trap to fall into."
      ]
    },
    {
      "cell_type": "markdown",
      "metadata": {
        "id": "8UPMBZqc2hUG",
        "colab_type": "text"
      },
      "source": [
        "Again, you have to remember that function parameter defaults are evaluated once, when the function is defined (i.e. when the module is loaded, or in this Jupyter notebook, when we \"execute\" the function definition), and not every time the function is called."
      ]
    },
    {
      "cell_type": "markdown",
      "metadata": {
        "id": "clc1A41w2hUH",
        "colab_type": "text"
      },
      "source": [
        "Consider the following scenario.\n",
        "\n",
        "We are creating a grocery list, and we want our list to contain consistently formatted data with name, quantity and measurement unit:\n",
        "\n",
        "``\n",
        "bananas (2 units)\n",
        "grapes (1 bunch)\n",
        "milk (1 liter)\n",
        "python (1 medium-rare)\n",
        "``"
      ]
    },
    {
      "cell_type": "markdown",
      "metadata": {
        "id": "8bSJKdZ52hUI",
        "colab_type": "text"
      },
      "source": [
        "To make sure the data is consistent, we want to use a function that we can call to add the item to our list.\n",
        "\n",
        "So we'll need to provide it our current grocery list as well as the item information to be added:"
      ]
    },
    {
      "cell_type": "code",
      "metadata": {
        "id": "Xo9Zj2FH2hUI",
        "colab_type": "code",
        "colab": {}
      },
      "source": [
        "def add_item(name, quantity, unit, grocery_list):\n",
        "    item_fmt = \"{0} ({1} {2})\".format(name, quantity, unit)\n",
        "    grocery_list.append(item_fmt)\n",
        "    return grocery_list"
      ],
      "execution_count": null,
      "outputs": []
    },
    {
      "cell_type": "markdown",
      "metadata": {
        "id": "iFa99bMx2hUM",
        "colab_type": "text"
      },
      "source": [
        "We have two stores we want to visit, so we set up two grocery lists:"
      ]
    },
    {
      "cell_type": "code",
      "metadata": {
        "id": "mDewCDS92hUN",
        "colab_type": "code",
        "colab": {}
      },
      "source": [
        "store_1 = []\n",
        "store_2 = []"
      ],
      "execution_count": null,
      "outputs": []
    },
    {
      "cell_type": "code",
      "metadata": {
        "id": "t4MKsf5n2hUQ",
        "colab_type": "code",
        "colab": {},
        "outputId": "a3792c35-05bf-49ae-a19b-e96ec0aa941f"
      },
      "source": [
        "add_item('bananas', 2, 'units', store_1)\n",
        "add_item('grapes', 1, 'bunch', store_1)\n",
        "add_item('python', 1, 'medium-rare', store_2)"
      ],
      "execution_count": null,
      "outputs": [
        {
          "output_type": "execute_result",
          "data": {
            "text/plain": [
              "['python (1 medium-rare)']"
            ]
          },
          "metadata": {
            "tags": []
          },
          "execution_count": 3
        }
      ]
    },
    {
      "cell_type": "code",
      "metadata": {
        "id": "HDxV7Quz2hUT",
        "colab_type": "code",
        "colab": {},
        "outputId": "88cfa6be-3f94-4847-a8f9-a9e2b86babf8"
      },
      "source": [
        "store_1"
      ],
      "execution_count": null,
      "outputs": [
        {
          "output_type": "execute_result",
          "data": {
            "text/plain": [
              "['bananas (2 units)', 'grapes (1 bunch)']"
            ]
          },
          "metadata": {
            "tags": []
          },
          "execution_count": 4
        }
      ]
    },
    {
      "cell_type": "code",
      "metadata": {
        "id": "-qzYleK32hUW",
        "colab_type": "code",
        "colab": {},
        "outputId": "ee7d39fa-97bd-42d1-dae4-98030e632121"
      },
      "source": [
        "store_2"
      ],
      "execution_count": null,
      "outputs": [
        {
          "output_type": "execute_result",
          "data": {
            "text/plain": [
              "['python (1 medium-rare)']"
            ]
          },
          "metadata": {
            "tags": []
          },
          "execution_count": 5
        }
      ]
    },
    {
      "cell_type": "markdown",
      "metadata": {
        "id": "-SihrHP12hUa",
        "colab_type": "text"
      },
      "source": [
        "Ok, working great. But let's make the function a little easier to use - if the user does not supply an existing grocery list to append the item to, let's just go ahead and default our `grocery_list` to an empty list hence starting a new shopping list:"
      ]
    },
    {
      "cell_type": "code",
      "metadata": {
        "id": "OA6woCrw2hUa",
        "colab_type": "code",
        "colab": {}
      },
      "source": [
        "def add_item(name, quantity, unit, grocery_list=[]):\n",
        "    item_fmt = \"{0} ({1} {2})\".format(name, quantity, unit)\n",
        "    grocery_list.append(item_fmt)\n",
        "    return grocery_list"
      ],
      "execution_count": null,
      "outputs": []
    },
    {
      "cell_type": "code",
      "metadata": {
        "id": "SFvxcqmN2hUd",
        "colab_type": "code",
        "colab": {},
        "outputId": "61d66845-985e-45ab-ef3a-5745ea26dceb"
      },
      "source": [
        "store_1 = add_item('bananas', 2, 'units')\n",
        "add_item('grapes', 1, 'bunch', store_1)"
      ],
      "execution_count": null,
      "outputs": [
        {
          "output_type": "execute_result",
          "data": {
            "text/plain": [
              "['bananas (2 units)', 'grapes (1 bunch)']"
            ]
          },
          "metadata": {
            "tags": []
          },
          "execution_count": 7
        }
      ]
    },
    {
      "cell_type": "code",
      "metadata": {
        "id": "BmZ_LJfm2hUg",
        "colab_type": "code",
        "colab": {},
        "outputId": "94f06eef-3cf8-49ac-9a67-51b142502696"
      },
      "source": [
        "store_1"
      ],
      "execution_count": null,
      "outputs": [
        {
          "output_type": "execute_result",
          "data": {
            "text/plain": [
              "['bananas (2 units)', 'grapes (1 bunch)']"
            ]
          },
          "metadata": {
            "tags": []
          },
          "execution_count": 8
        }
      ]
    },
    {
      "cell_type": "markdown",
      "metadata": {
        "id": "Zv-HfqLL2hUi",
        "colab_type": "text"
      },
      "source": [
        "OK, so that seems to be working as expected.\n",
        "\n",
        "Let's start our second list:"
      ]
    },
    {
      "cell_type": "code",
      "metadata": {
        "id": "keXmCD642hUj",
        "colab_type": "code",
        "colab": {}
      },
      "source": [
        "store_2 = add_item('milk', 1, 'gallon')"
      ],
      "execution_count": null,
      "outputs": []
    },
    {
      "cell_type": "code",
      "metadata": {
        "id": "bVl1Tmcp2hUl",
        "colab_type": "code",
        "colab": {},
        "outputId": "4b17452c-52ee-433f-bfeb-9b8754bee331"
      },
      "source": [
        "print(store_2)"
      ],
      "execution_count": null,
      "outputs": [
        {
          "output_type": "stream",
          "text": [
            "['bananas (2 units)', 'grapes (1 bunch)', 'milk (1 gallon)']\n"
          ],
          "name": "stdout"
        }
      ]
    },
    {
      "cell_type": "markdown",
      "metadata": {
        "id": "MYO7wlBS2hUo",
        "colab_type": "text"
      },
      "source": [
        "??? What's going on? Our second list somehow contains the items that are in the first list."
      ]
    },
    {
      "cell_type": "markdown",
      "metadata": {
        "id": "qEFamIDl2hUo",
        "colab_type": "text"
      },
      "source": [
        "What happened is that the returned value in the first call we made was the default grocery list - but remember that the list was created once and for all when the function was **created** not called. So everytime we call the function, that is the **same** list being used as the default. \n",
        "\n",
        "When we started out first list, we were adding item to that default list.\n",
        "\n",
        "When we started our second list, we were adding items to the **same** default list (since it is the same object)."
      ]
    },
    {
      "cell_type": "markdown",
      "metadata": {
        "id": "aqNRYFHw2hUp",
        "colab_type": "text"
      },
      "source": [
        "We can avoid this problem using the same pattern as in the previous example we had with the default date time value. We use None as a default value instead, and generate a new empty list (hence starting a new list) if none was provided."
      ]
    },
    {
      "cell_type": "code",
      "metadata": {
        "id": "zoq_fNfB2hUp",
        "colab_type": "code",
        "colab": {}
      },
      "source": [
        "def add_item(name, quantity, unit, grocery_list=None):\n",
        "    if not grocery_list:\n",
        "        grocery_list = []\n",
        "    item_fmt = \"{0} ({1} {2})\".format(name, quantity, unit)\n",
        "    grocery_list.append(item_fmt)\n",
        "    return grocery_list"
      ],
      "execution_count": null,
      "outputs": []
    },
    {
      "cell_type": "code",
      "metadata": {
        "id": "T8FQEBWT2hUs",
        "colab_type": "code",
        "colab": {},
        "outputId": "75973865-6496-4adc-ad0d-29e8b6b22c5d"
      },
      "source": [
        "store_1 = add_item('bananas', 2, 'units')\n",
        "add_item('grapes', 1, 'bunch', store_1)"
      ],
      "execution_count": null,
      "outputs": [
        {
          "output_type": "execute_result",
          "data": {
            "text/plain": [
              "['bananas (2 units)', 'grapes (1 bunch)']"
            ]
          },
          "metadata": {
            "tags": []
          },
          "execution_count": 12
        }
      ]
    },
    {
      "cell_type": "code",
      "metadata": {
        "id": "NJJhcoHX2hUu",
        "colab_type": "code",
        "colab": {},
        "outputId": "4998f3c5-6e09-467d-fe16-0fad462987e2"
      },
      "source": [
        "store_2 = add_item('milk', 1, 'gallon')\n",
        "store_2"
      ],
      "execution_count": null,
      "outputs": [
        {
          "output_type": "execute_result",
          "data": {
            "text/plain": [
              "['milk (1 gallon)']"
            ]
          },
          "metadata": {
            "tags": []
          },
          "execution_count": 13
        }
      ]
    },
    {
      "cell_type": "markdown",
      "metadata": {
        "id": "HPuGr-ui2hUx",
        "colab_type": "text"
      },
      "source": [
        "Issue resolved!"
      ]
    },
    {
      "cell_type": "markdown",
      "metadata": {
        "id": "Alng1fx_2hUx",
        "colab_type": "text"
      },
      "source": [
        "However, there are legitimate use cases (well, almost legitimate, often we're better off using a different approach that we'll see when we look at closures), but here's a simple one.\n",
        "\n",
        "We want our function to cache results, so that we don't recalculate something more than once.\n",
        "\n",
        "Let's say we have a factorial function, that can be defined recursively as:\n",
        "\n",
        "`n! = n * (n-1)!`"
      ]
    },
    {
      "cell_type": "code",
      "metadata": {
        "id": "3Oea1VNQ2hUy",
        "colab_type": "code",
        "colab": {}
      },
      "source": [
        "def factorial(n):\n",
        "    if n < 1:\n",
        "        return 1\n",
        "    else:\n",
        "        print('calculating {0}!'.format(n))\n",
        "        return n * factorial(n-1)"
      ],
      "execution_count": null,
      "outputs": []
    },
    {
      "cell_type": "code",
      "metadata": {
        "id": "wuzF9FSA2hU1",
        "colab_type": "code",
        "colab": {},
        "outputId": "2bd26901-2fc3-466f-d760-b464d58dee1f"
      },
      "source": [
        "factorial(3)"
      ],
      "execution_count": null,
      "outputs": [
        {
          "output_type": "stream",
          "text": [
            "calculating 3!\n",
            "calculating 2!\n",
            "calculating 1!\n"
          ],
          "name": "stdout"
        },
        {
          "output_type": "execute_result",
          "data": {
            "text/plain": [
              "6"
            ]
          },
          "metadata": {
            "tags": []
          },
          "execution_count": 15
        }
      ]
    },
    {
      "cell_type": "code",
      "metadata": {
        "id": "f-Mfs86J2hU4",
        "colab_type": "code",
        "colab": {},
        "outputId": "8863a102-2a71-4d3c-fd4e-1a418a3b85c9"
      },
      "source": [
        "factorial(3)"
      ],
      "execution_count": null,
      "outputs": [
        {
          "output_type": "stream",
          "text": [
            "calculating 3!\n",
            "calculating 2!\n",
            "calculating 1!\n"
          ],
          "name": "stdout"
        },
        {
          "output_type": "execute_result",
          "data": {
            "text/plain": [
              "6"
            ]
          },
          "metadata": {
            "tags": []
          },
          "execution_count": 16
        }
      ]
    },
    {
      "cell_type": "markdown",
      "metadata": {
        "id": "YWfxSxmJ2hU7",
        "colab_type": "text"
      },
      "source": [
        "As you can see we had to recalculate all those factorials the second time around.\n",
        "\n",
        "Let's cache the results leveraging what we saw in the previous example:"
      ]
    },
    {
      "cell_type": "code",
      "metadata": {
        "id": "WNnm2nTi2hU7",
        "colab_type": "code",
        "colab": {}
      },
      "source": [
        "def factorial(n, cache={}):\n",
        "    if n < 1:\n",
        "        return 1\n",
        "    elif n in cache:\n",
        "        return cache[n]\n",
        "    else:\n",
        "        print('calculating {0}!'.format(n))\n",
        "        result = n * factorial(n-1)\n",
        "        cache[n] = result\n",
        "        return result"
      ],
      "execution_count": null,
      "outputs": []
    },
    {
      "cell_type": "code",
      "metadata": {
        "id": "zV7zAgAs2hU9",
        "colab_type": "code",
        "colab": {},
        "outputId": "bd1b6127-a2a6-4ae0-9f90-0f1d9af328d8"
      },
      "source": [
        "factorial(3)"
      ],
      "execution_count": null,
      "outputs": [
        {
          "output_type": "stream",
          "text": [
            "calculating 3!\n",
            "calculating 2!\n",
            "calculating 1!\n"
          ],
          "name": "stdout"
        },
        {
          "output_type": "execute_result",
          "data": {
            "text/plain": [
              "6"
            ]
          },
          "metadata": {
            "tags": []
          },
          "execution_count": 18
        }
      ]
    },
    {
      "cell_type": "code",
      "metadata": {
        "id": "p7yJbkJ22hVA",
        "colab_type": "code",
        "colab": {},
        "outputId": "9cdaba7b-8b47-471b-f594-82db2fc5ab48"
      },
      "source": [
        "factorial(3)"
      ],
      "execution_count": null,
      "outputs": [
        {
          "output_type": "execute_result",
          "data": {
            "text/plain": [
              "6"
            ]
          },
          "metadata": {
            "tags": []
          },
          "execution_count": 19
        }
      ]
    },
    {
      "cell_type": "markdown",
      "metadata": {
        "id": "kpMgY-KK2hVC",
        "colab_type": "text"
      },
      "source": [
        "Now as you can see, the second time around we did not have to recalculate all the factorials. In fact, to calculate higher factorials, you'll notice that we don't need to re-run *all* the recursive calls:"
      ]
    },
    {
      "cell_type": "code",
      "metadata": {
        "id": "4lERdoCH2hVD",
        "colab_type": "code",
        "colab": {},
        "outputId": "d3f5ea8f-7dd4-40d7-ae87-2abb370831cc"
      },
      "source": [
        "factorial(5)"
      ],
      "execution_count": null,
      "outputs": [
        {
          "output_type": "stream",
          "text": [
            "calculating 5!\n",
            "calculating 4!\n"
          ],
          "name": "stdout"
        },
        {
          "output_type": "execute_result",
          "data": {
            "text/plain": [
              "120"
            ]
          },
          "metadata": {
            "tags": []
          },
          "execution_count": 20
        }
      ]
    },
    {
      "cell_type": "markdown",
      "metadata": {
        "id": "8TIPexPp2hVF",
        "colab_type": "text"
      },
      "source": [
        "`5!` and `4!` was calculated since they weren't cached, but since `3!` was already cached we didn't have to recalculate it - it was a quick lookup instead."
      ]
    },
    {
      "cell_type": "markdown",
      "metadata": {
        "id": "tERaqzY22hVG",
        "colab_type": "text"
      },
      "source": [
        "This technique is something called memoization."
      ]
    },
    {
      "cell_type": "code",
      "metadata": {
        "id": "tu_tZRcy2vOE",
        "colab_type": "code",
        "colab": {}
      },
      "source": [
        ""
      ],
      "execution_count": null,
      "outputs": []
    }
  ]
}
