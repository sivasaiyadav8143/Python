{
  "nbformat": 4,
  "nbformat_minor": 0,
  "metadata": {
    "kernelspec": {
      "display_name": "Python 3",
      "language": "python",
      "name": "python3"
    },
    "language_info": {
      "codemirror_mode": {
        "name": "ipython",
        "version": 3
      },
      "file_extension": ".py",
      "mimetype": "text/x-python",
      "name": "python",
      "nbconvert_exporter": "python",
      "pygments_lexer": "ipython3",
      "version": "3.6.2"
    },
    "colab": {
      "name": "Docstrings and Annotations.ipynb",
      "provenance": [],
      "include_colab_link": true
    }
  },
  "cells": [
    {
      "cell_type": "markdown",
      "metadata": {
        "id": "view-in-github",
        "colab_type": "text"
      },
      "source": [
        "<a href=\"https://colab.research.google.com/github/sivasaiyadav8143/Python/blob/master/Docstrings_and_Annotations.ipynb\" target=\"_parent\"><img src=\"https://colab.research.google.com/assets/colab-badge.svg\" alt=\"Open In Colab\"/></a>"
      ]
    },
    {
      "cell_type": "markdown",
      "metadata": {
        "id": "qPLkrfvgNxst",
        "colab_type": "text"
      },
      "source": [
        "### Docstrings and Annotations"
      ]
    },
    {
      "cell_type": "markdown",
      "metadata": {
        "id": "-gyzhoBoNxsu",
        "colab_type": "text"
      },
      "source": [
        "#### Docstrings"
      ]
    },
    {
      "cell_type": "markdown",
      "metadata": {
        "collapsed": true,
        "id": "QPu-r3enNxsu",
        "colab_type": "text"
      },
      "source": [
        "When we call **help()** on a class, function, module, etc, Python will typically display some information:"
      ]
    },
    {
      "cell_type": "code",
      "metadata": {
        "id": "sIRkYIFONxsv",
        "colab_type": "code",
        "colab": {},
        "outputId": "ebf975bc-a9ba-45ac-91a5-ff428b9eca55"
      },
      "source": [
        "help(print)"
      ],
      "execution_count": null,
      "outputs": [
        {
          "output_type": "stream",
          "text": [
            "Help on built-in function print in module builtins:\n",
            "\n",
            "print(...)\n",
            "    print(value, ..., sep=' ', end='\\n', file=sys.stdout, flush=False)\n",
            "    \n",
            "    Prints the values to a stream, or to sys.stdout by default.\n",
            "    Optional keyword arguments:\n",
            "    file:  a file-like object (stream); defaults to the current sys.stdout.\n",
            "    sep:   string inserted between values, default a space.\n",
            "    end:   string appended after the last value, default a newline.\n",
            "    flush: whether to forcibly flush the stream.\n",
            "\n"
          ],
          "name": "stdout"
        }
      ]
    },
    {
      "cell_type": "markdown",
      "metadata": {
        "id": "DQ8RKlYQNxsz",
        "colab_type": "text"
      },
      "source": [
        "We can define such help using docstrings and annotations."
      ]
    },
    {
      "cell_type": "code",
      "metadata": {
        "id": "C2ekQ_J3Nxs0",
        "colab_type": "code",
        "colab": {}
      },
      "source": [
        "def my_func(a, b):\n",
        "    return a*b"
      ],
      "execution_count": null,
      "outputs": []
    },
    {
      "cell_type": "code",
      "metadata": {
        "id": "_P39ZOKVNxs3",
        "colab_type": "code",
        "colab": {},
        "outputId": "c335f6aa-56e8-4a63-ac8c-952d2c4d1de2"
      },
      "source": [
        "help(my_func)"
      ],
      "execution_count": null,
      "outputs": [
        {
          "output_type": "stream",
          "text": [
            "Help on function my_func in module __main__:\n",
            "\n",
            "my_func(a, b)\n",
            "\n"
          ],
          "name": "stdout"
        }
      ]
    },
    {
      "cell_type": "markdown",
      "metadata": {
        "id": "YnmCHPDrNxs6",
        "colab_type": "text"
      },
      "source": [
        "Pretty bare! So let's add some additional help:"
      ]
    },
    {
      "cell_type": "code",
      "metadata": {
        "id": "6UKXBACSNxs6",
        "colab_type": "code",
        "colab": {}
      },
      "source": [
        "def my_func(a, b):\n",
        "    'Returns the product of a and b'\n",
        "    return a*b"
      ],
      "execution_count": 1,
      "outputs": []
    },
    {
      "cell_type": "code",
      "metadata": {
        "id": "N4oDUVpDNxs9",
        "colab_type": "code",
        "colab": {
          "base_uri": "https://localhost:8080/",
          "height": 102
        },
        "outputId": "3c96e15d-39a6-447d-824f-13651e505a69"
      },
      "source": [
        "help(my_func)"
      ],
      "execution_count": 2,
      "outputs": [
        {
          "output_type": "stream",
          "text": [
            "Help on function my_func in module __main__:\n",
            "\n",
            "my_func(a, b)\n",
            "    Returns the product of a and b\n",
            "\n"
          ],
          "name": "stdout"
        }
      ]
    },
    {
      "cell_type": "code",
      "metadata": {
        "id": "Xmbbcp0JQaDB",
        "colab_type": "code",
        "colab": {
          "base_uri": "https://localhost:8080/",
          "height": 35
        },
        "outputId": "7a1d53ef-4e61-47df-9ac0-9c03913c318f"
      },
      "source": [
        "my_func.__doc__"
      ],
      "execution_count": 3,
      "outputs": [
        {
          "output_type": "execute_result",
          "data": {
            "application/vnd.google.colaboratory.intrinsic+json": {
              "type": "string"
            },
            "text/plain": [
              "'Returns the product of a and b'"
            ]
          },
          "metadata": {
            "tags": []
          },
          "execution_count": 3
        }
      ]
    },
    {
      "cell_type": "markdown",
      "metadata": {
        "id": "WquZfMlONxtA",
        "colab_type": "text"
      },
      "source": [
        "Docstrings can span multiple lines using a multi-line string literal:"
      ]
    },
    {
      "cell_type": "code",
      "metadata": {
        "id": "AXXhf6-6NxtA",
        "colab_type": "code",
        "colab": {}
      },
      "source": [
        "def fact(n):\n",
        "    '''Calculates n! (factorial function)\n",
        "    \n",
        "    Inputs:\n",
        "        n: non-negative integer\n",
        "    Returns:\n",
        "        the factorial of n\n",
        "    '''\n",
        "    \n",
        "    if n < 0:\n",
        "        '''Note that this is not part of the docstring!'''\n",
        "        return 1\n",
        "    else:\n",
        "        return n * fact(n-1)\n",
        "    \n",
        "    "
      ],
      "execution_count": null,
      "outputs": []
    },
    {
      "cell_type": "code",
      "metadata": {
        "id": "ZvgXVp3qNxtE",
        "colab_type": "code",
        "colab": {},
        "outputId": "08c3abe3-cacf-4d33-d9f3-51f6c250d0de"
      },
      "source": [
        "help(fact)"
      ],
      "execution_count": null,
      "outputs": [
        {
          "output_type": "stream",
          "text": [
            "Help on function fact in module __main__:\n",
            "\n",
            "fact(n)\n",
            "    Calculates n! (factorial function)\n",
            "    \n",
            "    Inputs:\n",
            "        n: non-negative integer\n",
            "    Returns:\n",
            "        the factorial of n\n",
            "\n"
          ],
          "name": "stdout"
        }
      ]
    },
    {
      "cell_type": "markdown",
      "metadata": {
        "id": "T8KlpROJNxtG",
        "colab_type": "text"
      },
      "source": [
        "Docstrings, when found, are simply attached to the function in the `__doc__` property:"
      ]
    },
    {
      "cell_type": "code",
      "metadata": {
        "id": "aoit-hXVNxtH",
        "colab_type": "code",
        "colab": {},
        "outputId": "acaf2d18-f7f6-4271-8ad2-0e43fe5cea90"
      },
      "source": [
        "fact.__doc__"
      ],
      "execution_count": null,
      "outputs": [
        {
          "output_type": "execute_result",
          "data": {
            "text/plain": [
              "'Calculates n! (factorial function)\\n    \\n    Inputs:\\n        n: non-negative integer\\n    Returns:\\n        the factorial of n\\n    '"
            ]
          },
          "metadata": {
            "tags": []
          },
          "execution_count": 8
        }
      ]
    },
    {
      "cell_type": "markdown",
      "metadata": {
        "id": "Hd_R-RPHNxtJ",
        "colab_type": "text"
      },
      "source": [
        "And the Python **help()** function simply returns the contents of `__doc__`"
      ]
    },
    {
      "cell_type": "markdown",
      "metadata": {
        "id": "5D9DRprQNxtK",
        "colab_type": "text"
      },
      "source": [
        "#### Annotations"
      ]
    },
    {
      "cell_type": "markdown",
      "metadata": {
        "id": "6Rgc4J-_NxtK",
        "colab_type": "text"
      },
      "source": [
        "We can also add metadata annotations to a function's parameters and return. These metadata annotations can be any **expression** (string, type, function call, etc)"
      ]
    },
    {
      "cell_type": "code",
      "metadata": {
        "id": "XlwuvAIuNxtL",
        "colab_type": "code",
        "colab": {}
      },
      "source": [
        "def my_func(a:'annotation for a', \n",
        "            b:'annotation for b')->'annotation for return':\n",
        "    \n",
        "    return a*b"
      ],
      "execution_count": null,
      "outputs": []
    },
    {
      "cell_type": "code",
      "metadata": {
        "id": "a4YQ_ed1NxtN",
        "colab_type": "code",
        "colab": {},
        "outputId": "451e040a-6c43-4b9d-adaa-7354cfd2cdac"
      },
      "source": [
        "help(my_func)"
      ],
      "execution_count": null,
      "outputs": [
        {
          "output_type": "stream",
          "text": [
            "Help on function my_func in module __main__:\n",
            "\n",
            "my_func(a:'annotation for a', b:'annotation for b') -> 'annotation for return'\n",
            "\n"
          ],
          "name": "stdout"
        }
      ]
    },
    {
      "cell_type": "markdown",
      "metadata": {
        "id": "wioIT7NLNxtS",
        "colab_type": "text"
      },
      "source": [
        "The annotations can be any expression, not just strings:"
      ]
    },
    {
      "cell_type": "code",
      "metadata": {
        "id": "layvvaY7NxtT",
        "colab_type": "code",
        "colab": {}
      },
      "source": [
        "x = 3\n",
        "y = 5\n",
        "def my_func(a: str) -> 'a repeated ' + str(max(3, 5)) + ' times':\n",
        "\treturn a*max(x, y)"
      ],
      "execution_count": null,
      "outputs": []
    },
    {
      "cell_type": "code",
      "metadata": {
        "id": "zSgifeJVNxtW",
        "colab_type": "code",
        "colab": {},
        "outputId": "8aa4f700-8487-40fd-a630-142f8789c267"
      },
      "source": [
        "help(my_func)"
      ],
      "execution_count": null,
      "outputs": [
        {
          "output_type": "stream",
          "text": [
            "Help on function my_func in module __main__:\n",
            "\n",
            "my_func(a:str) -> 'a repeated 5 times'\n",
            "\n"
          ],
          "name": "stdout"
        }
      ]
    },
    {
      "cell_type": "markdown",
      "metadata": {
        "id": "3-mzQlhzNxtY",
        "colab_type": "text"
      },
      "source": [
        "Note that these annotations do **not** force a type on the parameters or the return value - they are simply there for documentation purposes within Python and **may** be used by external applications and modules, such as IDE's."
      ]
    },
    {
      "cell_type": "markdown",
      "metadata": {
        "id": "eRpshVO1NxtY",
        "colab_type": "text"
      },
      "source": [
        "Just like docstrings are stored in the `__doc__` property, annotations are stored in the `__annotations__` property - a dictionary whose keys are the parameter names, and values are the annotation."
      ]
    },
    {
      "cell_type": "code",
      "metadata": {
        "id": "GOlqh4LyNxtZ",
        "colab_type": "code",
        "colab": {},
        "outputId": "7d9628bd-ffbb-4114-cfb4-5f991b0a913f"
      },
      "source": [
        "my_func.__annotations__"
      ],
      "execution_count": null,
      "outputs": [
        {
          "output_type": "execute_result",
          "data": {
            "text/plain": [
              "{'a': str, 'return': 'a repeated 5 times'}"
            ]
          },
          "metadata": {
            "tags": []
          },
          "execution_count": 13
        }
      ]
    },
    {
      "cell_type": "markdown",
      "metadata": {
        "id": "7Vs_-VisNxtc",
        "colab_type": "text"
      },
      "source": [
        "Of course we can combine both docstrings and annotations:"
      ]
    },
    {
      "cell_type": "code",
      "metadata": {
        "id": "NEC5j5CGNxtc",
        "colab_type": "code",
        "colab": {}
      },
      "source": [
        "def fact(n: 'int >= 0')->int:\n",
        "    '''Calculates n! (factorial function)\n",
        "    \n",
        "    Inputs:\n",
        "        n: non-negative integer\n",
        "    Returns:\n",
        "        the factorial of n\n",
        "    '''\n",
        "    \n",
        "    if n < 0:\n",
        "        '''Note that this is not part of the docstring!'''\n",
        "        return 1\n",
        "    else:\n",
        "        return n * fact(n-1)"
      ],
      "execution_count": null,
      "outputs": []
    },
    {
      "cell_type": "code",
      "metadata": {
        "id": "jg-s9rZFNxte",
        "colab_type": "code",
        "colab": {},
        "outputId": "fddd45d7-b6da-44a6-de06-ed6c949dc3ac"
      },
      "source": [
        "help(fact)"
      ],
      "execution_count": null,
      "outputs": [
        {
          "output_type": "stream",
          "text": [
            "Help on function fact in module __main__:\n",
            "\n",
            "fact(n:'int >= 0') -> int\n",
            "    Calculates n! (factorial function)\n",
            "    \n",
            "    Inputs:\n",
            "        n: non-negative integer\n",
            "    Returns:\n",
            "        the factorial of n\n",
            "\n"
          ],
          "name": "stdout"
        }
      ]
    },
    {
      "cell_type": "markdown",
      "metadata": {
        "id": "G9WHV8g4Nxti",
        "colab_type": "text"
      },
      "source": [
        "Annotations will work with default parameters too: just specify the default **after** the annotation:"
      ]
    },
    {
      "cell_type": "code",
      "metadata": {
        "id": "-h7sSainNxti",
        "colab_type": "code",
        "colab": {}
      },
      "source": [
        "def my_func(a:str='a', b:int=1)->str:\n",
        "    return a*b"
      ],
      "execution_count": null,
      "outputs": []
    },
    {
      "cell_type": "code",
      "metadata": {
        "id": "RjyXejGSNxtk",
        "colab_type": "code",
        "colab": {},
        "outputId": "62433408-c2a0-444c-fec1-1e4dfaf2a546"
      },
      "source": [
        "help(my_func)"
      ],
      "execution_count": null,
      "outputs": [
        {
          "output_type": "stream",
          "text": [
            "Help on function my_func in module __main__:\n",
            "\n",
            "my_func(a:str='a', b:int=1) -> str\n",
            "\n"
          ],
          "name": "stdout"
        }
      ]
    },
    {
      "cell_type": "code",
      "metadata": {
        "id": "4RXVR1C5Nxtn",
        "colab_type": "code",
        "colab": {},
        "outputId": "253a8524-495c-40bc-b9a7-4d145138c012"
      },
      "source": [
        "my_func()"
      ],
      "execution_count": null,
      "outputs": [
        {
          "output_type": "execute_result",
          "data": {
            "text/plain": [
              "'a'"
            ]
          },
          "metadata": {
            "tags": []
          },
          "execution_count": 18
        }
      ]
    },
    {
      "cell_type": "code",
      "metadata": {
        "id": "_NH8x6tHNxtp",
        "colab_type": "code",
        "colab": {},
        "outputId": "2e63480e-40df-4d97-d814-8b4208abdda5"
      },
      "source": [
        "my_func('abc', 3)"
      ],
      "execution_count": null,
      "outputs": [
        {
          "output_type": "execute_result",
          "data": {
            "text/plain": [
              "'abcabcabc'"
            ]
          },
          "metadata": {
            "tags": []
          },
          "execution_count": 19
        }
      ]
    },
    {
      "cell_type": "code",
      "metadata": {
        "id": "-_rqn6N9Nxtr",
        "colab_type": "code",
        "colab": {}
      },
      "source": [
        "def my_func(a:int=0, *args:'additional args'):\n",
        "    print(a, args)"
      ],
      "execution_count": null,
      "outputs": []
    },
    {
      "cell_type": "code",
      "metadata": {
        "id": "A1x-XFNDNxtu",
        "colab_type": "code",
        "colab": {},
        "outputId": "428008a2-99ed-49e5-8b63-277edee48390"
      },
      "source": [
        "my_func.__annotations__"
      ],
      "execution_count": null,
      "outputs": [
        {
          "output_type": "execute_result",
          "data": {
            "text/plain": [
              "{'a': int, 'args': 'additional args'}"
            ]
          },
          "metadata": {
            "tags": []
          },
          "execution_count": 21
        }
      ]
    },
    {
      "cell_type": "code",
      "metadata": {
        "id": "IaPgtmAINxtw",
        "colab_type": "code",
        "colab": {},
        "outputId": "78085f10-8ae9-4af3-a142-6f21643340a3"
      },
      "source": [
        "help(my_func)"
      ],
      "execution_count": null,
      "outputs": [
        {
          "output_type": "stream",
          "text": [
            "Help on function my_func in module __main__:\n",
            "\n",
            "my_func(a:int=0, *args:'additional args')\n",
            "\n"
          ],
          "name": "stdout"
        }
      ]
    }
  ]
}