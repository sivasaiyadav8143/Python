{
  "nbformat": 4,
  "nbformat_minor": 0,
  "metadata": {
    "kernelspec": {
      "display_name": "Python 3",
      "language": "python",
      "name": "python3"
    },
    "language_info": {
      "codemirror_mode": {
        "name": "ipython",
        "version": 3
      },
      "file_extension": ".py",
      "mimetype": "text/x-python",
      "name": "python",
      "nbconvert_exporter": "python",
      "pygments_lexer": "ipython3",
      "version": "3.6.1"
    },
    "colab": {
      "name": "Default Values - Beware.ipynb",
      "provenance": [],
      "include_colab_link": true
    }
  },
  "cells": [
    {
      "cell_type": "markdown",
      "metadata": {
        "id": "view-in-github",
        "colab_type": "text"
      },
      "source": [
        "<a href=\"https://colab.research.google.com/github/sivasaiyadav8143/Python/blob/master/Default_Values_Beware.ipynb\" target=\"_parent\"><img src=\"https://colab.research.google.com/assets/colab-badge.svg\" alt=\"Open In Colab\"/></a>"
      ]
    },
    {
      "cell_type": "markdown",
      "metadata": {
        "id": "FoaQ7glFwvFX",
        "colab_type": "text"
      },
      "source": [
        "### Default Values - Beware!"
      ]
    },
    {
      "cell_type": "code",
      "metadata": {
        "id": "Ac9w5EX7wvFa",
        "colab_type": "code",
        "colab": {}
      },
      "source": [
        "from datetime import datetime"
      ],
      "execution_count": null,
      "outputs": []
    },
    {
      "cell_type": "code",
      "metadata": {
        "id": "2xn1bZtewvFj",
        "colab_type": "code",
        "colab": {},
        "outputId": "4b7b5f3f-add3-4985-97da-01a11e2a2a3e"
      },
      "source": [
        "print(datetime.utcnow())"
      ],
      "execution_count": null,
      "outputs": [
        {
          "output_type": "stream",
          "text": [
            "2017-08-22 04:04:17.700303\n"
          ],
          "name": "stdout"
        }
      ]
    },
    {
      "cell_type": "code",
      "metadata": {
        "id": "QSvh4E-FwvFq",
        "colab_type": "code",
        "colab": {}
      },
      "source": [
        "def log(msg, *, dt=datetime.utcnow()):\n",
        "    print('{0}: {1}'.format(dt, msg))"
      ],
      "execution_count": null,
      "outputs": []
    },
    {
      "cell_type": "code",
      "metadata": {
        "id": "Edn1TgGjwvFu",
        "colab_type": "code",
        "colab": {},
        "outputId": "0d944b56-6e0e-4724-9327-4f805e0542b5"
      },
      "source": [
        "log('message 1')"
      ],
      "execution_count": null,
      "outputs": [
        {
          "output_type": "stream",
          "text": [
            "2017-08-22 04:04:18.406943: message 1\n"
          ],
          "name": "stdout"
        }
      ]
    },
    {
      "cell_type": "code",
      "metadata": {
        "id": "foofRdBQwvFz",
        "colab_type": "code",
        "colab": {},
        "outputId": "16b9c751-cb71-4840-80cc-6cd12267fa79"
      },
      "source": [
        "log('message 2', dt='2001-01-01 00:00:00')"
      ],
      "execution_count": null,
      "outputs": [
        {
          "output_type": "stream",
          "text": [
            "2001-01-01 00:00:00: message 2\n"
          ],
          "name": "stdout"
        }
      ]
    },
    {
      "cell_type": "code",
      "metadata": {
        "id": "QI_DdvAawvF3",
        "colab_type": "code",
        "colab": {},
        "outputId": "73eb3c0e-a7b6-4cd0-df44-fe20d0559837"
      },
      "source": [
        "log('message 3')"
      ],
      "execution_count": null,
      "outputs": [
        {
          "output_type": "stream",
          "text": [
            "2017-08-22 04:04:18.406943: message 3\n"
          ],
          "name": "stdout"
        }
      ]
    },
    {
      "cell_type": "code",
      "metadata": {
        "id": "5vG7RJYswvF7",
        "colab_type": "code",
        "colab": {},
        "outputId": "6b469ffb-9105-4d26-c0f3-5479c22d5da8"
      },
      "source": [
        "log('message 4')"
      ],
      "execution_count": null,
      "outputs": [
        {
          "output_type": "stream",
          "text": [
            "2017-08-22 04:04:18.406943: message 4\n"
          ],
          "name": "stdout"
        }
      ]
    },
    {
      "cell_type": "markdown",
      "metadata": {
        "id": "Ujg2CimEwvGA",
        "colab_type": "text"
      },
      "source": [
        "As you can see, the default for **dt** is calculated when the function is **defined** and is **NOT** re-evaluated when the function is called."
      ]
    },
    {
      "cell_type": "markdown",
      "metadata": {
        "id": "kdMmxi1ewvGB",
        "colab_type": "text"
      },
      "source": [
        "#### Solution Pattern"
      ]
    },
    {
      "cell_type": "markdown",
      "metadata": {
        "id": "XWJUi9TpwvGC",
        "colab_type": "text"
      },
      "source": [
        "Here is one pattern we can use to achieve the desired result:\n",
        "\n",
        "We actually set the default to None - this makes the argument optional, and we can then test for None **inside** the function and default to the current time if it is None."
      ]
    },
    {
      "cell_type": "code",
      "metadata": {
        "id": "a74MGlhswvGC",
        "colab_type": "code",
        "colab": {}
      },
      "source": [
        "def log(msg, *, dt=None):\n",
        "    dt = dt or datetime.utcnow()\n",
        "    # above is equivalent to:\n",
        "    #if not dt:\n",
        "    #    dt = datetime.utcnow()\n",
        "    print('{0}: {1}'.format(dt, msg))    "
      ],
      "execution_count": null,
      "outputs": []
    },
    {
      "cell_type": "code",
      "metadata": {
        "id": "72lacaS7wvGG",
        "colab_type": "code",
        "colab": {},
        "outputId": "7194bfac-9c47-4aa5-adae-5405ea2b548d"
      },
      "source": [
        "log('message 1')"
      ],
      "execution_count": null,
      "outputs": [
        {
          "output_type": "stream",
          "text": [
            "2017-08-22 04:15:11.797640: message 1\n"
          ],
          "name": "stdout"
        }
      ]
    },
    {
      "cell_type": "code",
      "metadata": {
        "id": "KJ2-IupLwvGK",
        "colab_type": "code",
        "colab": {},
        "outputId": "16827225-0579-4dc5-b3c2-73e7430a6a1e"
      },
      "source": [
        "log('message 2')"
      ],
      "execution_count": null,
      "outputs": [
        {
          "output_type": "stream",
          "text": [
            "2017-08-22 04:15:14.529496: message 2\n"
          ],
          "name": "stdout"
        }
      ]
    },
    {
      "cell_type": "code",
      "metadata": {
        "id": "tRyLTzwkwvGO",
        "colab_type": "code",
        "colab": {},
        "outputId": "66e73ded-4285-476b-c7d8-182d7743c502"
      },
      "source": [
        "log('message 3', dt='2001-01-01 00:00:00')"
      ],
      "execution_count": null,
      "outputs": [
        {
          "output_type": "stream",
          "text": [
            "2001-01-01 00:00:00: message 3\n"
          ],
          "name": "stdout"
        }
      ]
    },
    {
      "cell_type": "code",
      "metadata": {
        "id": "mCE9YFlwwvGS",
        "colab_type": "code",
        "colab": {},
        "outputId": "13b627af-7415-47e0-d1e3-a194d77ccbc5"
      },
      "source": [
        "log('message 4')"
      ],
      "execution_count": null,
      "outputs": [
        {
          "output_type": "stream",
          "text": [
            "2017-08-22 04:15:18.045607: message 4\n"
          ],
          "name": "stdout"
        }
      ]
    }
  ]
}