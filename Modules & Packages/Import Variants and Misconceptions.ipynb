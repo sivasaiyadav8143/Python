{
  "nbformat": 4,
  "nbformat_minor": 0,
  "metadata": {
    "kernelspec": {
      "display_name": "Python 3",
      "language": "python",
      "name": "python3"
    },
    "language_info": {
      "codemirror_mode": {
        "name": "ipython",
        "version": 3
      },
      "file_extension": ".py",
      "mimetype": "text/x-python",
      "name": "python",
      "nbconvert_exporter": "python",
      "pygments_lexer": "ipython3",
      "version": "3.6.1"
    },
    "colab": {
      "name": "Import Variants and Misconceptions.ipynb",
      "provenance": []
    }
  },
  "cells": [
    {
      "cell_type": "markdown",
      "metadata": {
        "id": "cJq3IT_k_8sR"
      },
      "source": [
        "#### Import Variants and Misconceptions"
      ]
    },
    {
      "cell_type": "markdown",
      "metadata": {
        "id": "eMtJ2kx5_8sS"
      },
      "source": [
        "Lets briefly discuss the various import variants such as:\n",
        "\n",
        "* `import math`\n",
        "* `from math import sqrt, abs`\n",
        "* `from math import *`\n",
        "* `import math as r_math`\n",
        "* `from math import sqrt as r_sqrt`"
      ]
    },
    {
      "cell_type": "markdown",
      "metadata": {
        "id": "GaWwKw9K_8sT"
      },
      "source": [
        "##### import math"
      ]
    },
    {
      "cell_type": "markdown",
      "metadata": {
        "id": "ceRBMg8e_8sV"
      },
      "source": [
        "* loads the entire module (`math`) in memory if it's not already there\n",
        "* adds a reference to it in `sys.modules` with a key of `math`\n",
        "* adds a symbol of the same name (`math`) in our current namespace referencing the `math` object"
      ]
    },
    {
      "cell_type": "markdown",
      "metadata": {
        "id": "ibZDqlFp_8sW"
      },
      "source": [
        "##### import math as r_math"
      ]
    },
    {
      "cell_type": "markdown",
      "metadata": {
        "id": "1b0Lg-Hd_8sW"
      },
      "source": [
        "* loads the entire module (`math`) in memory if it's not already there\n",
        "* adds a reference to it in `sys.modules` with a key of `math`\n",
        "* adds the symbol `r_math` to our current namespace referencing the `math` object"
      ]
    },
    {
      "cell_type": "markdown",
      "metadata": {
        "id": "RxNPE21T_8sX"
      },
      "source": [
        "##### from math import sqrt"
      ]
    },
    {
      "cell_type": "markdown",
      "metadata": {
        "id": "jpxj0IP0_8sZ"
      },
      "source": [
        "* loads the entire module (`math`) in memory if it's not already there\n",
        "* adds a reference to it in `sys.modules` with a key of `math`\n",
        "* adds the symbol `sqrt` to our current namespace referencing the `math.sqrt` function\n",
        "* it **does not** add the symbol `math` to our current namespace"
      ]
    },
    {
      "cell_type": "markdown",
      "metadata": {
        "id": "Q8dFBukb_8sa"
      },
      "source": [
        "##### from math import sqrt as r_sqrt"
      ]
    },
    {
      "cell_type": "markdown",
      "metadata": {
        "id": "XBkqYvKZ_8sb"
      },
      "source": [
        "* loads the entire module (`math`) in memory if it's not already there\n",
        "* adds a reference to it in `sys.modules` with a key of `math`\n",
        "* adds the symbol `r_sqrt` to our current namespace referencing the `math.sqrt` function\n",
        "* it **does not** add the symbol `math` to our current namespace"
      ]
    },
    {
      "cell_type": "markdown",
      "metadata": {
        "id": "fhHH1KYz_8sb"
      },
      "source": [
        "##### from math import *"
      ]
    },
    {
      "cell_type": "markdown",
      "metadata": {
        "id": "stiEwGvY_8sc"
      },
      "source": [
        "* loads the entire module (`math`) in memory if it's not already there\n",
        "* adds a reference to it in `sys.modules` with a key of `math`\n",
        "* adds symbols for all exported symbols in the `math` module directly to our name space (we'll see how what is exported from a module/package can be controlled using underscores or `__all__` later)\n",
        "* it **does not** add the symbol `math` to our current namespace"
      ]
    },
    {
      "cell_type": "markdown",
      "metadata": {
        "id": "Cm_iGePw_8sc"
      },
      "source": [
        "As you can see, in **every** instance, the module is imported and a reference to it is added to `sys.modules`. The variants really have to do with what is injected into our current **namespace**: the module name, an alias to it, just the specified symbols from the module, or all the exported symbols from the module."
      ]
    },
    {
      "cell_type": "markdown",
      "metadata": {
        "id": "96SUQ596_8sd"
      },
      "source": [
        "#### Misconceptions"
      ]
    },
    {
      "cell_type": "markdown",
      "metadata": {
        "id": "ZQxnCXnq_8se"
      },
      "source": [
        "This leads to the first misconception:"
      ]
    },
    {
      "cell_type": "markdown",
      "metadata": {
        "id": "BUQVlZP0_8se"
      },
      "source": [
        "\"You should use\n",
        "\n",
        "`from math import sqrt, abs`\n",
        "\n",
        "rather than \n",
        "\n",
        "`import math`\n",
        "\n",
        "because that way you only import what you need and you're not having Python load the entire module?\""
      ]
    },
    {
      "cell_type": "markdown",
      "metadata": {
        "id": "ocGVl90H_8sf"
      },
      "source": [
        "For `math` that's just not true. In fact for any *simple* module.\n",
        "\n",
        "For *packages* that have subpackages, that may or may not be true - we'll see that later."
      ]
    },
    {
      "cell_type": "markdown",
      "metadata": {
        "id": "G6rb0zpH_8sf"
      },
      "source": [
        "Let's actually test this out.\n",
        "\n",
        "We have to be a little careful, because Jupyter imports a ton of modules and packages:"
      ]
    },
    {
      "cell_type": "code",
      "metadata": {
        "id": "Lxl9FSY7_8sg",
        "outputId": "c0393335-8d3d-4c0a-9434-954590eafe07"
      },
      "source": [
        "import sys\n",
        "for key in sorted(sys.modules.keys()):\n",
        "    print(key)"
      ],
      "execution_count": null,
      "outputs": [
        {
          "output_type": "stream",
          "text": [
            "IPython\n",
            "IPython.core\n",
            "IPython.core.alias\n",
            "IPython.core.application\n",
            "IPython.core.autocall\n",
            "IPython.core.builtin_trap\n",
            "IPython.core.compilerop\n",
            "IPython.core.completer\n",
            "IPython.core.completerlib\n",
            "IPython.core.crashhandler\n",
            "IPython.core.debugger\n",
            "IPython.core.display\n",
            "IPython.core.display_trap\n",
            "IPython.core.displayhook\n",
            "IPython.core.displaypub\n",
            "IPython.core.error\n",
            "IPython.core.events\n",
            "IPython.core.excolors\n",
            "IPython.core.extensions\n",
            "IPython.core.formatters\n",
            "IPython.core.getipython\n",
            "IPython.core.history\n",
            "IPython.core.hooks\n",
            "IPython.core.inputsplitter\n",
            "IPython.core.inputtransformer\n",
            "IPython.core.interactiveshell\n",
            "IPython.core.latex_symbols\n",
            "IPython.core.logger\n",
            "IPython.core.macro\n",
            "IPython.core.magic\n",
            "IPython.core.magic_arguments\n",
            "IPython.core.magics\n",
            "IPython.core.magics.auto\n",
            "IPython.core.magics.basic\n",
            "IPython.core.magics.code\n",
            "IPython.core.magics.config\n",
            "IPython.core.magics.display\n",
            "IPython.core.magics.execution\n",
            "IPython.core.magics.extension\n",
            "IPython.core.magics.history\n",
            "IPython.core.magics.logging\n",
            "IPython.core.magics.namespace\n",
            "IPython.core.magics.osm\n",
            "IPython.core.magics.pylab\n",
            "IPython.core.magics.script\n",
            "IPython.core.oinspect\n",
            "IPython.core.page\n",
            "IPython.core.payload\n",
            "IPython.core.payloadpage\n",
            "IPython.core.prefilter\n",
            "IPython.core.profiledir\n",
            "IPython.core.pylabtools\n",
            "IPython.core.release\n",
            "IPython.core.shadowns\n",
            "IPython.core.shellapp\n",
            "IPython.core.splitinput\n",
            "IPython.core.ultratb\n",
            "IPython.core.usage\n",
            "IPython.display\n",
            "IPython.extensions\n",
            "IPython.extensions.storemagic\n",
            "IPython.lib\n",
            "IPython.lib.backgroundjobs\n",
            "IPython.lib.clipboard\n",
            "IPython.lib.deepreload\n",
            "IPython.lib.display\n",
            "IPython.lib.pretty\n",
            "IPython.lib.security\n",
            "IPython.paths\n",
            "IPython.terminal\n",
            "IPython.terminal.debugger\n",
            "IPython.terminal.embed\n",
            "IPython.terminal.interactiveshell\n",
            "IPython.terminal.ipapp\n",
            "IPython.terminal.magics\n",
            "IPython.terminal.prompts\n",
            "IPython.terminal.pt_inputhooks\n",
            "IPython.terminal.ptutils\n",
            "IPython.terminal.shortcuts\n",
            "IPython.testing\n",
            "IPython.testing.skipdoctest\n",
            "IPython.utils\n",
            "IPython.utils.PyColorize\n",
            "IPython.utils._process_common\n",
            "IPython.utils._process_win32\n",
            "IPython.utils._sysinfo\n",
            "IPython.utils._tokenize_py3\n",
            "IPython.utils.capture\n",
            "IPython.utils.colorable\n",
            "IPython.utils.coloransi\n",
            "IPython.utils.contexts\n",
            "IPython.utils.data\n",
            "IPython.utils.decorators\n",
            "IPython.utils.dir2\n",
            "IPython.utils.encoding\n",
            "IPython.utils.frame\n",
            "IPython.utils.generics\n",
            "IPython.utils.importstring\n",
            "IPython.utils.io\n",
            "IPython.utils.ipstruct\n",
            "IPython.utils.module_paths\n",
            "IPython.utils.openpy\n",
            "IPython.utils.path\n",
            "IPython.utils.process\n",
            "IPython.utils.py3compat\n",
            "IPython.utils.sentinel\n",
            "IPython.utils.signatures\n",
            "IPython.utils.strdispatch\n",
            "IPython.utils.sysinfo\n",
            "IPython.utils.syspathcontext\n",
            "IPython.utils.tempdir\n",
            "IPython.utils.terminal\n",
            "IPython.utils.text\n",
            "IPython.utils.timing\n",
            "IPython.utils.tokenize2\n",
            "IPython.utils.tokenutil\n",
            "IPython.utils.ulinecache\n",
            "IPython.utils.wildcard\n",
            "__future__\n",
            "__main__\n",
            "__mp_main__\n",
            "_ast\n",
            "_bisect\n",
            "_blake2\n",
            "_bootlocale\n",
            "_bz2\n",
            "_codecs\n",
            "_collections\n",
            "_collections_abc\n",
            "_compat_pickle\n",
            "_compression\n",
            "_ctypes\n",
            "_cython_0_25_1\n",
            "_datetime\n",
            "_frozen_importlib\n",
            "_frozen_importlib_external\n",
            "_functools\n",
            "_hashlib\n",
            "_heapq\n",
            "_imp\n",
            "_io\n",
            "_json\n",
            "_locale\n",
            "_lsprof\n",
            "_lzma\n",
            "_multiprocessing\n",
            "_opcode\n",
            "_operator\n",
            "_pickle\n",
            "_random\n",
            "_sha3\n",
            "_signal\n",
            "_sitebuiltins\n",
            "_socket\n",
            "_sqlite3\n",
            "_sre\n",
            "_stat\n",
            "_string\n",
            "_strptime\n",
            "_struct\n",
            "_thread\n",
            "_warnings\n",
            "_weakref\n",
            "_weakrefset\n",
            "_win32sysloader\n",
            "_winapi\n",
            "abc\n",
            "argparse\n",
            "array\n",
            "ast\n",
            "atexit\n",
            "base64\n",
            "bdb\n",
            "binascii\n",
            "bisect\n",
            "builtins\n",
            "bz2\n",
            "cProfile\n",
            "calendar\n",
            "cmd\n",
            "code\n",
            "codecs\n",
            "codeop\n",
            "collections\n",
            "collections.abc\n",
            "colorama\n",
            "colorama.ansi\n",
            "colorama.ansitowin32\n",
            "colorama.initialise\n",
            "colorama.win32\n",
            "colorama.winterm\n",
            "concurrent\n",
            "concurrent.futures\n",
            "concurrent.futures._base\n",
            "concurrent.futures.process\n",
            "concurrent.futures.thread\n",
            "contextlib\n",
            "copy\n",
            "copyreg\n",
            "ctypes\n",
            "ctypes._endian\n",
            "ctypes.util\n",
            "ctypes.wintypes\n",
            "datetime\n",
            "dateutil\n",
            "dateutil._common\n",
            "dateutil.parser\n",
            "dateutil.relativedelta\n",
            "dateutil.tz\n",
            "dateutil.tz._common\n",
            "dateutil.tz.tz\n",
            "dateutil.tz.win\n",
            "decorator\n",
            "dis\n",
            "email\n",
            "email._parseaddr\n",
            "email._policybase\n",
            "email.base64mime\n",
            "email.charset\n",
            "email.encoders\n",
            "email.errors\n",
            "email.feedparser\n",
            "email.header\n",
            "email.parser\n",
            "email.quoprimime\n",
            "email.utils\n",
            "encodings\n",
            "encodings.aliases\n",
            "encodings.cp1252\n",
            "encodings.cp437\n",
            "encodings.latin_1\n",
            "encodings.utf_8\n",
            "enum\n",
            "errno\n",
            "faulthandler\n",
            "fnmatch\n",
            "functools\n",
            "gc\n",
            "genericpath\n",
            "getopt\n",
            "getpass\n",
            "gettext\n",
            "glob\n",
            "hashlib\n",
            "heapq\n",
            "hmac\n",
            "html\n",
            "html.entities\n",
            "imp\n",
            "importlib\n",
            "importlib._bootstrap\n",
            "importlib._bootstrap_external\n",
            "importlib.abc\n",
            "importlib.machinery\n",
            "importlib.util\n",
            "inspect\n",
            "io\n",
            "ipykernel\n",
            "ipykernel._version\n",
            "ipykernel.codeutil\n",
            "ipykernel.comm\n",
            "ipykernel.comm.comm\n",
            "ipykernel.comm.manager\n",
            "ipykernel.connect\n",
            "ipykernel.datapub\n",
            "ipykernel.displayhook\n",
            "ipykernel.heartbeat\n",
            "ipykernel.iostream\n",
            "ipykernel.ipkernel\n",
            "ipykernel.jsonutil\n",
            "ipykernel.kernelapp\n",
            "ipykernel.kernelbase\n",
            "ipykernel.parentpoller\n",
            "ipykernel.pickleutil\n",
            "ipykernel.serialize\n",
            "ipykernel.zmqshell\n",
            "ipython_genutils\n",
            "ipython_genutils._version\n",
            "ipython_genutils.encoding\n",
            "ipython_genutils.importstring\n",
            "ipython_genutils.path\n",
            "ipython_genutils.py3compat\n",
            "ipython_genutils.text\n",
            "ipywidgets\n",
            "ipywidgets._version\n",
            "ipywidgets.widgets\n",
            "ipywidgets.widgets.domwidget\n",
            "ipywidgets.widgets.interaction\n",
            "ipywidgets.widgets.trait_types\n",
            "ipywidgets.widgets.valuewidget\n",
            "ipywidgets.widgets.widget\n",
            "ipywidgets.widgets.widget_bool\n",
            "ipywidgets.widgets.widget_box\n",
            "ipywidgets.widgets.widget_button\n",
            "ipywidgets.widgets.widget_color\n",
            "ipywidgets.widgets.widget_controller\n",
            "ipywidgets.widgets.widget_core\n",
            "ipywidgets.widgets.widget_date\n",
            "ipywidgets.widgets.widget_float\n",
            "ipywidgets.widgets.widget_image\n",
            "ipywidgets.widgets.widget_int\n",
            "ipywidgets.widgets.widget_layout\n",
            "ipywidgets.widgets.widget_link\n",
            "ipywidgets.widgets.widget_output\n",
            "ipywidgets.widgets.widget_selection\n",
            "ipywidgets.widgets.widget_selectioncontainer\n",
            "ipywidgets.widgets.widget_string\n",
            "ipywidgets.widgets.widget_style\n",
            "itertools\n",
            "json\n",
            "json.decoder\n",
            "json.encoder\n",
            "json.scanner\n",
            "jupyter_client\n",
            "jupyter_client._version\n",
            "jupyter_client.adapter\n",
            "jupyter_client.blocking\n",
            "jupyter_client.blocking.channels\n",
            "jupyter_client.blocking.client\n",
            "jupyter_client.channels\n",
            "jupyter_client.channelsabc\n",
            "jupyter_client.client\n",
            "jupyter_client.clientabc\n",
            "jupyter_client.connect\n",
            "jupyter_client.jsonutil\n",
            "jupyter_client.kernelspec\n",
            "jupyter_client.launcher\n",
            "jupyter_client.localinterfaces\n",
            "jupyter_client.manager\n",
            "jupyter_client.managerabc\n",
            "jupyter_client.multikernelmanager\n",
            "jupyter_client.session\n",
            "jupyter_core\n",
            "jupyter_core.paths\n",
            "jupyter_core.version\n",
            "keyword\n",
            "linecache\n",
            "locale\n",
            "logging\n",
            "logging.handlers\n",
            "lzma\n",
            "marshal\n",
            "math\n",
            "mimetypes\n",
            "msvcrt\n",
            "multiprocessing\n",
            "multiprocessing.connection\n",
            "multiprocessing.context\n",
            "multiprocessing.process\n",
            "multiprocessing.reduction\n",
            "multiprocessing.util\n",
            "nt\n",
            "ntpath\n",
            "numbers\n",
            "opcode\n",
            "operator\n",
            "optparse\n",
            "os\n",
            "os.path\n",
            "pathlib\n",
            "pdb\n",
            "pickle\n",
            "pickleshare\n",
            "pkg_resources\n",
            "pkg_resources._vendor\n",
            "pkg_resources._vendor.packaging.__about__\n",
            "pkg_resources._vendor.six\n",
            "pkg_resources._vendor.six.moves\n",
            "pkg_resources.extern\n",
            "pkg_resources.extern.appdirs\n",
            "pkg_resources.extern.packaging\n",
            "pkg_resources.extern.packaging._compat\n",
            "pkg_resources.extern.packaging._structures\n",
            "pkg_resources.extern.packaging.markers\n",
            "pkg_resources.extern.packaging.requirements\n",
            "pkg_resources.extern.packaging.specifiers\n",
            "pkg_resources.extern.packaging.version\n",
            "pkg_resources.extern.pyparsing\n",
            "pkg_resources.extern.six\n",
            "pkg_resources.extern.six.moves\n",
            "pkg_resources.extern.six.moves.urllib\n",
            "pkgutil\n",
            "platform\n",
            "plistlib\n",
            "posixpath\n",
            "pprint\n",
            "profile\n",
            "prompt_toolkit\n",
            "prompt_toolkit.application\n",
            "prompt_toolkit.auto_suggest\n",
            "prompt_toolkit.buffer\n",
            "prompt_toolkit.buffer_mapping\n",
            "prompt_toolkit.cache\n",
            "prompt_toolkit.clipboard\n",
            "prompt_toolkit.clipboard.base\n",
            "prompt_toolkit.clipboard.in_memory\n",
            "prompt_toolkit.completion\n",
            "prompt_toolkit.document\n",
            "prompt_toolkit.enums\n",
            "prompt_toolkit.eventloop\n",
            "prompt_toolkit.eventloop.base\n",
            "prompt_toolkit.eventloop.callbacks\n",
            "prompt_toolkit.filters\n",
            "prompt_toolkit.filters.base\n",
            "prompt_toolkit.filters.cli\n",
            "prompt_toolkit.filters.types\n",
            "prompt_toolkit.filters.utils\n",
            "prompt_toolkit.history\n",
            "prompt_toolkit.input\n",
            "prompt_toolkit.interface\n",
            "prompt_toolkit.key_binding\n",
            "prompt_toolkit.key_binding.bindings\n",
            "prompt_toolkit.key_binding.bindings.basic\n",
            "prompt_toolkit.key_binding.bindings.completion\n",
            "prompt_toolkit.key_binding.bindings.emacs\n",
            "prompt_toolkit.key_binding.bindings.named_commands\n",
            "prompt_toolkit.key_binding.bindings.scroll\n",
            "prompt_toolkit.key_binding.bindings.vi\n",
            "prompt_toolkit.key_binding.defaults\n",
            "prompt_toolkit.key_binding.digraphs\n",
            "prompt_toolkit.key_binding.input_processor\n",
            "prompt_toolkit.key_binding.manager\n",
            "prompt_toolkit.key_binding.registry\n",
            "prompt_toolkit.key_binding.vi_state\n",
            "prompt_toolkit.keys\n",
            "prompt_toolkit.layout\n",
            "prompt_toolkit.layout.containers\n",
            "prompt_toolkit.layout.controls\n",
            "prompt_toolkit.layout.dimension\n",
            "prompt_toolkit.layout.lexers\n",
            "prompt_toolkit.layout.margins\n",
            "prompt_toolkit.layout.menus\n",
            "prompt_toolkit.layout.mouse_handlers\n",
            "prompt_toolkit.layout.processors\n",
            "prompt_toolkit.layout.prompt\n",
            "prompt_toolkit.layout.screen\n",
            "prompt_toolkit.layout.toolbars\n",
            "prompt_toolkit.layout.utils\n",
            "prompt_toolkit.mouse_events\n",
            "prompt_toolkit.output\n",
            "prompt_toolkit.reactive\n",
            "prompt_toolkit.renderer\n",
            "prompt_toolkit.search_state\n",
            "prompt_toolkit.selection\n",
            "prompt_toolkit.shortcuts\n",
            "prompt_toolkit.styles\n",
            "prompt_toolkit.styles.base\n",
            "prompt_toolkit.styles.defaults\n",
            "prompt_toolkit.styles.from_dict\n",
            "prompt_toolkit.styles.from_pygments\n",
            "prompt_toolkit.styles.utils\n",
            "prompt_toolkit.terminal\n",
            "prompt_toolkit.terminal.conemu_output\n",
            "prompt_toolkit.terminal.vt100_output\n",
            "prompt_toolkit.terminal.win32_input\n",
            "prompt_toolkit.terminal.win32_output\n",
            "prompt_toolkit.token\n",
            "prompt_toolkit.utils\n",
            "prompt_toolkit.validation\n",
            "prompt_toolkit.win32_types\n",
            "pstats\n",
            "pydoc\n",
            "pyexpat\n",
            "pyexpat.errors\n",
            "pyexpat.model\n",
            "pygments\n",
            "pygments.filter\n",
            "pygments.filters\n",
            "pygments.formatter\n",
            "pygments.formatters\n",
            "pygments.formatters._mapping\n",
            "pygments.formatters.html\n",
            "pygments.lexer\n",
            "pygments.lexers\n",
            "pygments.lexers._mapping\n",
            "pygments.lexers.python\n",
            "pygments.modeline\n",
            "pygments.plugin\n",
            "pygments.regexopt\n",
            "pygments.style\n",
            "pygments.styles\n",
            "pygments.styles.default\n",
            "pygments.token\n",
            "pygments.unistring\n",
            "pygments.util\n",
            "pythoncom\n",
            "pywintypes\n",
            "queue\n",
            "quopri\n",
            "random\n",
            "re\n",
            "reprlib\n",
            "runpy\n",
            "select\n",
            "selectors\n",
            "shlex\n",
            "shutil\n",
            "signal\n",
            "simplegeneric\n",
            "site\n",
            "six\n",
            "six.moves\n",
            "socket\n",
            "sqlite3\n",
            "sqlite3.dbapi2\n",
            "sre_compile\n",
            "sre_constants\n",
            "sre_parse\n",
            "stat\n",
            "storemagic\n",
            "string\n",
            "struct\n",
            "subprocess\n",
            "sys\n",
            "sysconfig\n",
            "tempfile\n",
            "textwrap\n",
            "threading\n",
            "time\n",
            "timeit\n",
            "token\n",
            "tokenize\n",
            "tornado\n",
            "tornado.concurrent\n",
            "tornado.escape\n",
            "tornado.ioloop\n",
            "tornado.log\n",
            "tornado.platform\n",
            "tornado.platform.auto\n",
            "tornado.platform.common\n",
            "tornado.platform.interface\n",
            "tornado.platform.windows\n",
            "tornado.speedups\n",
            "tornado.stack_context\n",
            "tornado.util\n",
            "traceback\n",
            "traitlets\n",
            "traitlets._version\n",
            "traitlets.config\n",
            "traitlets.config.application\n",
            "traitlets.config.configurable\n",
            "traitlets.config.loader\n",
            "traitlets.log\n",
            "traitlets.traitlets\n",
            "traitlets.utils\n",
            "traitlets.utils.bunch\n",
            "traitlets.utils.getargspec\n",
            "traitlets.utils.importstring\n",
            "traitlets.utils.sentinel\n",
            "types\n",
            "typing\n",
            "typing.io\n",
            "typing.re\n",
            "unicodedata\n",
            "urllib\n",
            "urllib.parse\n",
            "uuid\n",
            "warnings\n",
            "wcwidth\n",
            "wcwidth.table_wide\n",
            "wcwidth.table_zero\n",
            "wcwidth.wcwidth\n",
            "weakref\n",
            "win32api\n",
            "win32com\n",
            "win32com.gen_py\n",
            "win32com.shell\n",
            "winreg\n",
            "xml\n",
            "xml.parsers\n",
            "xml.parsers.expat\n",
            "xml.parsers.expat.errors\n",
            "xml.parsers.expat.model\n",
            "zipfile\n",
            "zipimport\n",
            "zlib\n",
            "zmq\n",
            "zmq.backend\n",
            "zmq.backend.cython\n",
            "zmq.backend.cython._device\n",
            "zmq.backend.cython._poll\n",
            "zmq.backend.cython._version\n",
            "zmq.backend.cython.constants\n",
            "zmq.backend.cython.context\n",
            "zmq.backend.cython.error\n",
            "zmq.backend.cython.message\n",
            "zmq.backend.cython.socket\n",
            "zmq.backend.cython.utils\n",
            "zmq.backend.select\n",
            "zmq.error\n",
            "zmq.eventloop\n",
            "zmq.eventloop.ioloop\n",
            "zmq.eventloop.zmqstream\n",
            "zmq.libzmq\n",
            "zmq.sugar\n",
            "zmq.sugar.attrsettr\n",
            "zmq.sugar.constants\n",
            "zmq.sugar.context\n",
            "zmq.sugar.frame\n",
            "zmq.sugar.poll\n",
            "zmq.sugar.socket\n",
            "zmq.sugar.stopwatch\n",
            "zmq.sugar.tracker\n",
            "zmq.sugar.version\n",
            "zmq.utils\n",
            "zmq.utils.constant_names\n",
            "zmq.utils.jsonapi\n",
            "zmq.utils.strtypes\n"
          ],
          "name": "stdout"
        }
      ]
    },
    {
      "cell_type": "markdown",
      "metadata": {
        "id": "jNwg7_S3_8sm"
      },
      "source": [
        "so they're already loaded and in the `sys.modules` dictionary.\n",
        "\n",
        "\n",
        "Fortunately `cmath` is not one of them, so we'll use that one."
      ]
    },
    {
      "cell_type": "code",
      "metadata": {
        "id": "A5Ordcvp_8sn",
        "outputId": "4c0d577c-605a-41bd-95e2-80aa9613101e"
      },
      "source": [
        "'cmath' in sys.modules"
      ],
      "execution_count": null,
      "outputs": [
        {
          "output_type": "execute_result",
          "data": {
            "text/plain": [
              "False"
            ]
          },
          "metadata": {
            "tags": []
          },
          "execution_count": 2
        }
      ]
    },
    {
      "cell_type": "markdown",
      "metadata": {
        "id": "q-XIjqNp_8sr"
      },
      "source": [
        "Let's go ahead and just import a single symbol from `cmath`, the `exp` function:"
      ]
    },
    {
      "cell_type": "code",
      "metadata": {
        "id": "PwNA5h-X_8ss"
      },
      "source": [
        "from cmath import exp"
      ],
      "execution_count": 1,
      "outputs": []
    },
    {
      "cell_type": "markdown",
      "metadata": {
        "id": "qeohpw12_8s0"
      },
      "source": [
        "Now let's see if `cmath` and `exp` are in our module (global) namespace:"
      ]
    },
    {
      "cell_type": "code",
      "metadata": {
        "id": "zjc8jQQD_8s2",
        "outputId": "9c03da21-de03-470e-a51d-369abbe320f0"
      },
      "source": [
        "'cmath' in globals()"
      ],
      "execution_count": null,
      "outputs": [
        {
          "output_type": "execute_result",
          "data": {
            "text/plain": [
              "False"
            ]
          },
          "metadata": {
            "tags": []
          },
          "execution_count": 4
        }
      ]
    },
    {
      "cell_type": "code",
      "metadata": {
        "id": "FT765EhS_8s6",
        "outputId": "f85a490f-5cd3-4e68-9a0d-a1fc5938ff52"
      },
      "source": [
        "'exp' in globals()"
      ],
      "execution_count": null,
      "outputs": [
        {
          "output_type": "execute_result",
          "data": {
            "text/plain": [
              "True"
            ]
          },
          "metadata": {
            "tags": []
          },
          "execution_count": 5
        }
      ]
    },
    {
      "cell_type": "markdown",
      "metadata": {
        "id": "t0o80jhy_8s-"
      },
      "source": [
        "OK, so basically what that import did was create a symbol for `exp` in our namespace, but not for `cmath`.\n",
        "\n",
        "Does this mean that `cmath` was only \"partially\" loaded?"
      ]
    },
    {
      "cell_type": "markdown",
      "metadata": {
        "id": "-niEgECy_8s-"
      },
      "source": [
        "How can Python \"partially\" load a (simple) module? How would it even know what to load up? Sure, maybe it could do some fancy kind of introspection and determine all the dependencies the symbols we are importing require. But it does not.\n",
        "\n",
        "It simply imports the entire module.\n",
        "\n",
        "If we really want to partially load something, we would use a package, which, while still a `module` type, can be composed of several sub-packages. More on that later."
      ]
    },
    {
      "cell_type": "markdown",
      "metadata": {
        "id": "EKMb-CjT_8s_"
      },
      "source": [
        "In, fact let's look at it in `sys.modules`:"
      ]
    },
    {
      "cell_type": "code",
      "metadata": {
        "id": "YtM5RV0y_8s_",
        "outputId": "494a0b03-a542-4c38-9b5e-f3d9387414a8"
      },
      "source": [
        "sys.modules['cmath']"
      ],
      "execution_count": null,
      "outputs": [
        {
          "output_type": "execute_result",
          "data": {
            "text/plain": [
              "<module 'cmath' (built-in)>"
            ]
          },
          "metadata": {
            "tags": []
          },
          "execution_count": 6
        }
      ]
    },
    {
      "cell_type": "code",
      "metadata": {
        "id": "nGAkpxzWE_eB",
        "outputId": "a4af5fff-9f06-4ab0-81a7-586517706f5b",
        "colab": {
          "base_uri": "https://localhost:8080/",
          "height": 163
        }
      },
      "source": [
        "cmat.exp(2+3j)"
      ],
      "execution_count": 4,
      "outputs": [
        {
          "output_type": "error",
          "ename": "NameError",
          "evalue": "ignored",
          "traceback": [
            "\u001b[0;31m---------------------------------------------------------------------------\u001b[0m",
            "\u001b[0;31mNameError\u001b[0m                                 Traceback (most recent call last)",
            "\u001b[0;32m<ipython-input-4-b6cef67e73e2>\u001b[0m in \u001b[0;36m<module>\u001b[0;34m()\u001b[0m\n\u001b[0;32m----> 1\u001b[0;31m \u001b[0mcmat\u001b[0m\u001b[0;34m.\u001b[0m\u001b[0mexp\u001b[0m\u001b[0;34m(\u001b[0m\u001b[0;36m2\u001b[0m\u001b[0;34m+\u001b[0m\u001b[0;36m3j\u001b[0m\u001b[0;34m)\u001b[0m\u001b[0;34m\u001b[0m\u001b[0;34m\u001b[0m\u001b[0m\n\u001b[0m",
            "\u001b[0;31mNameError\u001b[0m: name 'cmat' is not defined"
          ]
        }
      ]
    },
    {
      "cell_type": "markdown",
      "metadata": {
        "id": "NnUOnfjhFaMw"
      },
      "source": [
        "This is because pythn only added the function exp to our namespace."
      ]
    },
    {
      "cell_type": "code",
      "metadata": {
        "id": "n16zpDC9Fo3L",
        "outputId": "d7746a72-a73f-4db7-afe5-3df9e66c1da3",
        "colab": {
          "base_uri": "https://localhost:8080/",
          "height": 34
        }
      },
      "source": [
        "'cmath' in globals()"
      ],
      "execution_count": 8,
      "outputs": [
        {
          "output_type": "execute_result",
          "data": {
            "text/plain": [
              "False"
            ]
          },
          "metadata": {
            "tags": []
          },
          "execution_count": 8
        }
      ]
    },
    {
      "cell_type": "code",
      "metadata": {
        "id": "f-6qnhtjGv7A",
        "outputId": "825a13d6-017f-49a2-cbf1-90a1cbfcfc2e",
        "colab": {
          "base_uri": "https://localhost:8080/",
          "height": 34
        }
      },
      "source": [
        "'exp' in globals()"
      ],
      "execution_count": 9,
      "outputs": [
        {
          "output_type": "execute_result",
          "data": {
            "text/plain": [
              "True"
            ]
          },
          "metadata": {
            "tags": []
          },
          "execution_count": 9
        }
      ]
    },
    {
      "cell_type": "code",
      "metadata": {
        "id": "t8JKS7VjFJ-o",
        "outputId": "520f0a74-d7e9-468c-871c-6f013e41dec7",
        "colab": {
          "base_uri": "https://localhost:8080/",
          "height": 34
        }
      },
      "source": [
        "exp(2+3j)"
      ],
      "execution_count": 6,
      "outputs": [
        {
          "output_type": "execute_result",
          "data": {
            "text/plain": [
              "(-7.315110094901103+1.0427436562359045j)"
            ]
          },
          "metadata": {
            "tags": []
          },
          "execution_count": 6
        }
      ]
    },
    {
      "cell_type": "markdown",
      "metadata": {
        "id": "-gajNdXE_8tC"
      },
      "source": [
        "Yep, it's there...\n",
        "\n",
        "We can even get a handle to the `cmath` module:"
      ]
    },
    {
      "cell_type": "code",
      "metadata": {
        "id": "cz9NcGj1_8tC"
      },
      "source": [
        "cmath = sys.modules['cmath']"
      ],
      "execution_count": null,
      "outputs": []
    },
    {
      "cell_type": "code",
      "metadata": {
        "id": "dsf-f74v_8tF",
        "outputId": "a18b8e6f-a47f-4de5-cb8e-da875c645eb3"
      },
      "source": [
        "cmath"
      ],
      "execution_count": null,
      "outputs": [
        {
          "output_type": "execute_result",
          "data": {
            "text/plain": [
              "<module 'cmath' (built-in)>"
            ]
          },
          "metadata": {
            "tags": []
          },
          "execution_count": 8
        }
      ]
    },
    {
      "cell_type": "markdown",
      "metadata": {
        "id": "YjXTP2Lu_8tI"
      },
      "source": [
        "And now we can use `cmath` just as if we had done \n",
        "\n",
        "`import cmath`\n",
        "\n",
        "But you'll note that in this case we did not import the module, we did `from cmath import exp` only."
      ]
    },
    {
      "cell_type": "markdown",
      "metadata": {
        "id": "Xuw29b_b_8tJ"
      },
      "source": [
        "So we can use `exp` directly because of how we imported that specific symbol:"
      ]
    },
    {
      "cell_type": "code",
      "metadata": {
        "id": "aAAenbEy_8tK",
        "outputId": "be5d7528-0e84-4f05-b603-748232454f1c"
      },
      "source": [
        "exp(2+3j)"
      ],
      "execution_count": null,
      "outputs": [
        {
          "output_type": "execute_result",
          "data": {
            "text/plain": [
              "(-7.315110094901103+1.0427436562359045j)"
            ]
          },
          "metadata": {
            "tags": []
          },
          "execution_count": 9
        }
      ]
    },
    {
      "cell_type": "markdown",
      "metadata": {
        "id": "PPkq12dX_8tO"
      },
      "source": [
        "But we can also use the `cmath` module directly now that we retrieved it from `sys.modules`:"
      ]
    },
    {
      "cell_type": "code",
      "metadata": {
        "id": "NCKAx_z3_8tP",
        "outputId": "6685cc77-8038-4cde-938a-39f00b43f911"
      },
      "source": [
        "cmath.sqrt(1+1j)"
      ],
      "execution_count": null,
      "outputs": [
        {
          "output_type": "execute_result",
          "data": {
            "text/plain": [
              "(1.09868411346781+0.45508986056222733j)"
            ]
          },
          "metadata": {
            "tags": []
          },
          "execution_count": 10
        }
      ]
    },
    {
      "cell_type": "markdown",
      "metadata": {
        "id": "_jYYDq0Z_8tS"
      },
      "source": [
        "So, the **entire** `cmath` module was loaded when we ran `from cmath import exp`, not just a portion of it!"
      ]
    },
    {
      "cell_type": "markdown",
      "metadata": {
        "id": "4p69ImGt_8tS"
      },
      "source": [
        "The only thing that happened is that Python put `cmath` in `sys.modules`, but **did not** add a `cmath` symbol to our module namespace, and **only added** the function `exp` to our namespace."
      ]
    },
    {
      "cell_type": "markdown",
      "metadata": {
        "id": "x8NQUjPD_8tT"
      },
      "source": [
        "What about doing something like this:\n",
        "\n",
        "`from cmath import *`"
      ]
    },
    {
      "cell_type": "markdown",
      "metadata": {
        "id": "DU2W3lVn_8tT"
      },
      "source": [
        "This is often frowned upon, and sometimes for good reason - but this is not a universal truth either.\n",
        "\n",
        "Let's see why, in our current context, it's maybe not such a good thing.\n",
        "\n",
        "First let's see what our global namespace looks like:"
      ]
    },
    {
      "cell_type": "code",
      "metadata": {
        "id": "rFUmjoCg_8tU",
        "outputId": "8f743efc-52e2-4e47-a91a-d853ce90551f"
      },
      "source": [
        "globals()"
      ],
      "execution_count": null,
      "outputs": [
        {
          "output_type": "execute_result",
          "data": {
            "text/plain": [
              "{'In': ['',\n",
              "  'import sys\\nfor key in sorted(sys.modules.keys()):\\n    print(key)',\n",
              "  \"'cmath' in sys.modules\",\n",
              "  'from cmath import exp',\n",
              "  \"'cmath' in globals()\",\n",
              "  \"'exp' in globals()\",\n",
              "  \"sys.modules['cmath']\",\n",
              "  \"cmath = sys.modules['cmath']\",\n",
              "  'cmath',\n",
              "  'exp(2+3j)',\n",
              "  'cmath.sqrt(1+1j)',\n",
              "  'globals()'],\n",
              " 'Out': {2: False,\n",
              "  4: False,\n",
              "  5: True,\n",
              "  6: <module 'cmath' (built-in)>,\n",
              "  8: <module 'cmath' (built-in)>,\n",
              "  9: (-7.315110094901103+1.0427436562359045j),\n",
              "  10: (1.09868411346781+0.45508986056222733j)},\n",
              " '_': (1.09868411346781+0.45508986056222733j),\n",
              " '_10': (1.09868411346781+0.45508986056222733j),\n",
              " '_2': False,\n",
              " '_4': False,\n",
              " '_5': True,\n",
              " '_6': <module 'cmath' (built-in)>,\n",
              " '_8': <module 'cmath' (built-in)>,\n",
              " '_9': (-7.315110094901103+1.0427436562359045j),\n",
              " '__': (-7.315110094901103+1.0427436562359045j),\n",
              " '___': <module 'cmath' (built-in)>,\n",
              " '__builtin__': <module 'builtins' (built-in)>,\n",
              " '__builtins__': <module 'builtins' (built-in)>,\n",
              " '__doc__': 'Automatically created module for IPython interactive environment',\n",
              " '__loader__': None,\n",
              " '__name__': '__main__',\n",
              " '__package__': None,\n",
              " '__spec__': None,\n",
              " '_dh': ['d:\\\\fbapt\\\\Dropbox\\\\Python Deep Dive\\\\Section 09 - Modules, Packages and Namespaces\\\\05 - Import Variants and Misconceptions'],\n",
              " '_i': 'cmath.sqrt(1+1j)',\n",
              " '_i1': 'import sys\\nfor key in sorted(sys.modules.keys()):\\n    print(key)',\n",
              " '_i10': 'cmath.sqrt(1+1j)',\n",
              " '_i11': 'globals()',\n",
              " '_i2': \"'cmath' in sys.modules\",\n",
              " '_i3': 'from cmath import exp',\n",
              " '_i4': \"'cmath' in globals()\",\n",
              " '_i5': \"'exp' in globals()\",\n",
              " '_i6': \"sys.modules['cmath']\",\n",
              " '_i7': \"cmath = sys.modules['cmath']\",\n",
              " '_i8': 'cmath',\n",
              " '_i9': 'exp(2+3j)',\n",
              " '_ih': ['',\n",
              "  'import sys\\nfor key in sorted(sys.modules.keys()):\\n    print(key)',\n",
              "  \"'cmath' in sys.modules\",\n",
              "  'from cmath import exp',\n",
              "  \"'cmath' in globals()\",\n",
              "  \"'exp' in globals()\",\n",
              "  \"sys.modules['cmath']\",\n",
              "  \"cmath = sys.modules['cmath']\",\n",
              "  'cmath',\n",
              "  'exp(2+3j)',\n",
              "  'cmath.sqrt(1+1j)',\n",
              "  'globals()'],\n",
              " '_ii': 'exp(2+3j)',\n",
              " '_iii': 'cmath',\n",
              " '_oh': {2: False,\n",
              "  4: False,\n",
              "  5: True,\n",
              "  6: <module 'cmath' (built-in)>,\n",
              "  8: <module 'cmath' (built-in)>,\n",
              "  9: (-7.315110094901103+1.0427436562359045j),\n",
              "  10: (1.09868411346781+0.45508986056222733j)},\n",
              " '_sh': <module 'IPython.core.shadowns' from 'D:\\\\Users\\\\fbapt\\\\Anaconda3\\\\lib\\\\site-packages\\\\IPython\\\\core\\\\shadowns.py'>,\n",
              " 'cmath': <module 'cmath' (built-in)>,\n",
              " 'exit': <IPython.core.autocall.ZMQExitAutocall at 0x1b7b61ecb00>,\n",
              " 'exp': <function cmath.exp>,\n",
              " 'get_ipython': <bound method InteractiveShell.get_ipython of <ipykernel.zmqshell.ZMQInteractiveShell object at 0x000001B7B61A84A8>>,\n",
              " 'key': 'zmq.utils.strtypes',\n",
              " 'quit': <IPython.core.autocall.ZMQExitAutocall at 0x1b7b61ecb00>,\n",
              " 'sys': <module 'sys' (built-in)>}"
            ]
          },
          "metadata": {
            "tags": []
          },
          "execution_count": 11
        }
      ]
    },
    {
      "cell_type": "markdown",
      "metadata": {
        "id": "KMmBeHwm_8tX"
      },
      "source": [
        "Now let's do that import:"
      ]
    },
    {
      "cell_type": "code",
      "metadata": {
        "id": "5abT9va3_8tY"
      },
      "source": [
        "from cmath import *"
      ],
      "execution_count": null,
      "outputs": []
    },
    {
      "cell_type": "markdown",
      "metadata": {
        "id": "6jFGx-0a_8td"
      },
      "source": [
        "And let's see our namespace now:"
      ]
    },
    {
      "cell_type": "code",
      "metadata": {
        "id": "iD0SbZTC_8td",
        "outputId": "23e2b1bd-074c-44a2-9a34-caba2e16ffe8"
      },
      "source": [
        "globals()"
      ],
      "execution_count": null,
      "outputs": [
        {
          "output_type": "execute_result",
          "data": {
            "text/plain": [
              "{'In': ['',\n",
              "  'import sys\\nfor key in sorted(sys.modules.keys()):\\n    print(key)',\n",
              "  \"'cmath' in sys.modules\",\n",
              "  'from cmath import exp',\n",
              "  \"'cmath' in globals()\",\n",
              "  \"'exp' in globals()\",\n",
              "  \"sys.modules['cmath']\",\n",
              "  \"cmath = sys.modules['cmath']\",\n",
              "  'cmath',\n",
              "  'exp(2+3j)',\n",
              "  'cmath.sqrt(1+1j)',\n",
              "  'globals()',\n",
              "  'from cmath import *',\n",
              "  'globals()'],\n",
              " 'Out': {2: False,\n",
              "  4: False,\n",
              "  5: True,\n",
              "  6: <module 'cmath' (built-in)>,\n",
              "  8: <module 'cmath' (built-in)>,\n",
              "  9: (-7.315110094901103+1.0427436562359045j),\n",
              "  10: (1.09868411346781+0.45508986056222733j),\n",
              "  11: {...}},\n",
              " '_': {...},\n",
              " '_10': (1.09868411346781+0.45508986056222733j),\n",
              " '_11': {...},\n",
              " '_2': False,\n",
              " '_4': False,\n",
              " '_5': True,\n",
              " '_6': <module 'cmath' (built-in)>,\n",
              " '_8': <module 'cmath' (built-in)>,\n",
              " '_9': (-7.315110094901103+1.0427436562359045j),\n",
              " '__': (1.09868411346781+0.45508986056222733j),\n",
              " '___': (-7.315110094901103+1.0427436562359045j),\n",
              " '__builtin__': <module 'builtins' (built-in)>,\n",
              " '__builtins__': <module 'builtins' (built-in)>,\n",
              " '__doc__': 'Automatically created module for IPython interactive environment',\n",
              " '__loader__': None,\n",
              " '__name__': '__main__',\n",
              " '__package__': None,\n",
              " '__spec__': None,\n",
              " '_dh': ['d:\\\\fbapt\\\\Dropbox\\\\Python Deep Dive\\\\Section 09 - Modules, Packages and Namespaces\\\\05 - Import Variants and Misconceptions'],\n",
              " '_i': 'from cmath import *',\n",
              " '_i1': 'import sys\\nfor key in sorted(sys.modules.keys()):\\n    print(key)',\n",
              " '_i10': 'cmath.sqrt(1+1j)',\n",
              " '_i11': 'globals()',\n",
              " '_i12': 'from cmath import *',\n",
              " '_i13': 'globals()',\n",
              " '_i2': \"'cmath' in sys.modules\",\n",
              " '_i3': 'from cmath import exp',\n",
              " '_i4': \"'cmath' in globals()\",\n",
              " '_i5': \"'exp' in globals()\",\n",
              " '_i6': \"sys.modules['cmath']\",\n",
              " '_i7': \"cmath = sys.modules['cmath']\",\n",
              " '_i8': 'cmath',\n",
              " '_i9': 'exp(2+3j)',\n",
              " '_ih': ['',\n",
              "  'import sys\\nfor key in sorted(sys.modules.keys()):\\n    print(key)',\n",
              "  \"'cmath' in sys.modules\",\n",
              "  'from cmath import exp',\n",
              "  \"'cmath' in globals()\",\n",
              "  \"'exp' in globals()\",\n",
              "  \"sys.modules['cmath']\",\n",
              "  \"cmath = sys.modules['cmath']\",\n",
              "  'cmath',\n",
              "  'exp(2+3j)',\n",
              "  'cmath.sqrt(1+1j)',\n",
              "  'globals()',\n",
              "  'from cmath import *',\n",
              "  'globals()'],\n",
              " '_ii': 'globals()',\n",
              " '_iii': 'cmath.sqrt(1+1j)',\n",
              " '_oh': {2: False,\n",
              "  4: False,\n",
              "  5: True,\n",
              "  6: <module 'cmath' (built-in)>,\n",
              "  8: <module 'cmath' (built-in)>,\n",
              "  9: (-7.315110094901103+1.0427436562359045j),\n",
              "  10: (1.09868411346781+0.45508986056222733j),\n",
              "  11: {...}},\n",
              " '_sh': <module 'IPython.core.shadowns' from 'D:\\\\Users\\\\fbapt\\\\Anaconda3\\\\lib\\\\site-packages\\\\IPython\\\\core\\\\shadowns.py'>,\n",
              " 'acos': <function cmath.acos>,\n",
              " 'acosh': <function cmath.acosh>,\n",
              " 'asin': <function cmath.asin>,\n",
              " 'asinh': <function cmath.asinh>,\n",
              " 'atan': <function cmath.atan>,\n",
              " 'atanh': <function cmath.atanh>,\n",
              " 'cmath': <module 'cmath' (built-in)>,\n",
              " 'cos': <function cmath.cos>,\n",
              " 'cosh': <function cmath.cosh>,\n",
              " 'e': 2.718281828459045,\n",
              " 'exit': <IPython.core.autocall.ZMQExitAutocall at 0x1b7b61ecb00>,\n",
              " 'exp': <function cmath.exp>,\n",
              " 'get_ipython': <bound method InteractiveShell.get_ipython of <ipykernel.zmqshell.ZMQInteractiveShell object at 0x000001B7B61A84A8>>,\n",
              " 'inf': inf,\n",
              " 'infj': infj,\n",
              " 'isclose': <function cmath.isclose>,\n",
              " 'isfinite': <function cmath.isfinite>,\n",
              " 'isinf': <function cmath.isinf>,\n",
              " 'isnan': <function cmath.isnan>,\n",
              " 'key': 'zmq.utils.strtypes',\n",
              " 'log': <function cmath.log>,\n",
              " 'log10': <function cmath.log10>,\n",
              " 'nan': nan,\n",
              " 'nanj': nanj,\n",
              " 'phase': <function cmath.phase>,\n",
              " 'pi': 3.141592653589793,\n",
              " 'polar': <function cmath.polar>,\n",
              " 'quit': <IPython.core.autocall.ZMQExitAutocall at 0x1b7b61ecb00>,\n",
              " 'rect': <function cmath.rect>,\n",
              " 'sin': <function cmath.sin>,\n",
              " 'sinh': <function cmath.sinh>,\n",
              " 'sqrt': <function cmath.sqrt>,\n",
              " 'sys': <module 'sys' (built-in)>,\n",
              " 'tan': <function cmath.tan>,\n",
              " 'tanh': <function cmath.tanh>,\n",
              " 'tau': 6.283185307179586}"
            ]
          },
          "metadata": {
            "tags": []
          },
          "execution_count": 13
        }
      ]
    },
    {
      "cell_type": "markdown",
      "metadata": {
        "id": "PdgUyTJf_8tg"
      },
      "source": [
        "Some people say the namespace was \"polluted\". In a way I guess that's true, but it does mean I can now access **all** attributes in `cmath` without prefixing them with `cmath` all the time: "
      ]
    },
    {
      "cell_type": "code",
      "metadata": {
        "id": "XeioONDt_8tg",
        "outputId": "23ea8a4f-b09a-45a5-d412-1c02cdebf60e"
      },
      "source": [
        "sqrt(2+2j)"
      ],
      "execution_count": null,
      "outputs": [
        {
          "output_type": "execute_result",
          "data": {
            "text/plain": [
              "(1.5537739740300374+0.6435942529055826j)"
            ]
          },
          "metadata": {
            "tags": []
          },
          "execution_count": 14
        }
      ]
    },
    {
      "cell_type": "code",
      "metadata": {
        "id": "6pLGQHCt_8tj",
        "outputId": "0dc5a3d0-ba97-4b32-c76d-907042bfe26b"
      },
      "source": [
        "pi"
      ],
      "execution_count": null,
      "outputs": [
        {
          "output_type": "execute_result",
          "data": {
            "text/plain": [
              "3.141592653589793"
            ]
          },
          "metadata": {
            "tags": []
          },
          "execution_count": 15
        }
      ]
    },
    {
      "cell_type": "code",
      "metadata": {
        "id": "tceSTuXe_8tm",
        "outputId": "4e07eebb-cd73-4d28-c4bf-03c00ab71ac9"
      },
      "source": [
        "sin(2-3j)"
      ],
      "execution_count": null,
      "outputs": [
        {
          "output_type": "execute_result",
          "data": {
            "text/plain": [
              "(9.15449914691143+4.168906959966565j)"
            ]
          },
          "metadata": {
            "tags": []
          },
          "execution_count": 16
        }
      ]
    },
    {
      "cell_type": "markdown",
      "metadata": {
        "id": "hRtUPBgO_8tp"
      },
      "source": [
        "In and of itself, there's nothing wrong with that...\n",
        "\n",
        "But a couple of issues:"
      ]
    },
    {
      "cell_type": "markdown",
      "metadata": {
        "id": "iZU7oeFG_8tq"
      },
      "source": [
        "The first one is that when I call `sin` just like that, someone reading my code does not immediately know where that function came from. Was it a function I implemented in my module? some other custom module? the `cmath` module? the `math` module?"
      ]
    },
    {
      "cell_type": "markdown",
      "metadata": {
        "id": "4gNH6O-6_8tq"
      },
      "source": [
        "The second one is that you can run into serious problems if you also need to import the `math` module:"
      ]
    },
    {
      "cell_type": "markdown",
      "metadata": {
        "id": "YQTKUoX3_8tr"
      },
      "source": [
        "Currently the `sqrt` symbol is the `cmath.sqrt` function:"
      ]
    },
    {
      "cell_type": "code",
      "metadata": {
        "id": "7toYeaeO_8ts",
        "outputId": "c687f084-ef25-48b4-df6e-5e7c980d4615"
      },
      "source": [
        "sqrt"
      ],
      "execution_count": null,
      "outputs": [
        {
          "output_type": "execute_result",
          "data": {
            "text/plain": [
              "<function cmath.sqrt>"
            ]
          },
          "metadata": {
            "tags": []
          },
          "execution_count": 17
        }
      ]
    },
    {
      "cell_type": "code",
      "metadata": {
        "id": "4LWyE3ux_8tv"
      },
      "source": [
        "from math import *"
      ],
      "execution_count": null,
      "outputs": []
    },
    {
      "cell_type": "markdown",
      "metadata": {
        "id": "6EeBIis-_8ty"
      },
      "source": [
        "What just happened to the `sqrt` function that was in our namespace?"
      ]
    },
    {
      "cell_type": "code",
      "metadata": {
        "id": "8-Kzg2J8_8tz",
        "outputId": "41e849d6-7a3e-404e-c383-3faf354c8a17"
      },
      "source": [
        "sqrt"
      ],
      "execution_count": null,
      "outputs": [
        {
          "output_type": "execute_result",
          "data": {
            "text/plain": [
              "<function math.sqrt>"
            ]
          },
          "metadata": {
            "tags": []
          },
          "execution_count": 19
        }
      ]
    },
    {
      "cell_type": "markdown",
      "metadata": {
        "id": "RrLmsJqv_8t1"
      },
      "source": [
        "As you can see, the symbol `sqrt` in our namespace no longer refers to the `sqrt` function in `cmath` but rather to the one in `math`.\n",
        "\n",
        "It just got replaced by the `sqrt` function in the `math` module because it has the same name (`sqrt`)."
      ]
    },
    {
      "cell_type": "markdown",
      "metadata": {
        "id": "JIR7lTu6_8t1"
      },
      "source": [
        "This is one of the reasons why `from ... import *` is sometimes frowned upon.\n",
        "\n",
        "But the same problem can happen if you use a `from` import this way:"
      ]
    },
    {
      "cell_type": "code",
      "metadata": {
        "id": "VaXjodFj_8t2"
      },
      "source": [
        "from cmath import sqrt\n",
        "from math import sqrt"
      ],
      "execution_count": null,
      "outputs": []
    },
    {
      "cell_type": "markdown",
      "metadata": {
        "id": "o7CHG-D6_8t4"
      },
      "source": [
        "Same thing happened here, the `math.sqrt` function just clobbered the `cmath.sqrt` function.\n",
        "\n",
        "One option here is to use:"
      ]
    },
    {
      "cell_type": "code",
      "metadata": {
        "id": "1mHfwzfy_8t5"
      },
      "source": [
        "import cmath\n",
        "import math"
      ],
      "execution_count": null,
      "outputs": []
    },
    {
      "cell_type": "code",
      "metadata": {
        "id": "36FVHGzK_8t7",
        "outputId": "76bad420-cb33-46be-e287-0b29646c73f2"
      },
      "source": [
        "math.sqrt(2)"
      ],
      "execution_count": null,
      "outputs": [
        {
          "output_type": "execute_result",
          "data": {
            "text/plain": [
              "1.4142135623730951"
            ]
          },
          "metadata": {
            "tags": []
          },
          "execution_count": 22
        }
      ]
    },
    {
      "cell_type": "code",
      "metadata": {
        "id": "t4AkcFKW_8uA",
        "outputId": "97793770-6e7b-4d89-e127-5a5231353e65"
      },
      "source": [
        "cmath.sqrt(2+2j)"
      ],
      "execution_count": null,
      "outputs": [
        {
          "output_type": "execute_result",
          "data": {
            "text/plain": [
              "(1.5537739740300374+0.6435942529055826j)"
            ]
          },
          "metadata": {
            "tags": []
          },
          "execution_count": 23
        }
      ]
    },
    {
      "cell_type": "markdown",
      "metadata": {
        "id": "8AWoLGzZ_8uD"
      },
      "source": [
        "But Python also allows us to alias our imports using the `as` keyword.\n",
        "\n",
        "We can alias either the entire module, or just the symbols being imported from the module:"
      ]
    },
    {
      "cell_type": "code",
      "metadata": {
        "id": "fkBr7uXb_8uD"
      },
      "source": [
        "import math as r_math\n",
        "import cmath as c_math"
      ],
      "execution_count": null,
      "outputs": []
    },
    {
      "cell_type": "code",
      "metadata": {
        "id": "Lokv6Iv0_8uF",
        "outputId": "3f6cc031-d7a9-4fa1-9653-459163e801bc"
      },
      "source": [
        "r_math"
      ],
      "execution_count": null,
      "outputs": [
        {
          "output_type": "execute_result",
          "data": {
            "text/plain": [
              "<module 'math' (built-in)>"
            ]
          },
          "metadata": {
            "tags": []
          },
          "execution_count": 25
        }
      ]
    },
    {
      "cell_type": "code",
      "metadata": {
        "id": "yVVfSw2T_8uI",
        "outputId": "0f6ac2a5-36f4-446f-d2df-5acd170351ef"
      },
      "source": [
        "c_math"
      ],
      "execution_count": null,
      "outputs": [
        {
          "output_type": "execute_result",
          "data": {
            "text/plain": [
              "<module 'cmath' (built-in)>"
            ]
          },
          "metadata": {
            "tags": []
          },
          "execution_count": 26
        }
      ]
    },
    {
      "cell_type": "code",
      "metadata": {
        "id": "-S6ZKOrP_8uL",
        "outputId": "cad50a41-2663-41db-dcba-21dac5f8101a"
      },
      "source": [
        "r_math.sqrt(2)"
      ],
      "execution_count": null,
      "outputs": [
        {
          "output_type": "execute_result",
          "data": {
            "text/plain": [
              "1.4142135623730951"
            ]
          },
          "metadata": {
            "tags": []
          },
          "execution_count": 27
        }
      ]
    },
    {
      "cell_type": "code",
      "metadata": {
        "id": "KiZ_YWlB_8uP",
        "outputId": "9b277c19-040b-4dec-ba21-1d51ee5ee503"
      },
      "source": [
        "c_math.sqrt(2)"
      ],
      "execution_count": null,
      "outputs": [
        {
          "output_type": "execute_result",
          "data": {
            "text/plain": [
              "(1.4142135623730951+0j)"
            ]
          },
          "metadata": {
            "tags": []
          },
          "execution_count": 28
        }
      ]
    },
    {
      "cell_type": "markdown",
      "metadata": {
        "id": "mm95mSC4_8uT"
      },
      "source": [
        "By the way, this is the **exact** same result as doing:"
      ]
    },
    {
      "cell_type": "code",
      "metadata": {
        "id": "6Awuhd8n_8uT"
      },
      "source": [
        "import importlib"
      ],
      "execution_count": null,
      "outputs": []
    },
    {
      "cell_type": "code",
      "metadata": {
        "id": "CRsfVtoD_8uV"
      },
      "source": [
        "r_math = importlib.import_module('math')\n",
        "c_math = importlib.import_module('cmath')"
      ],
      "execution_count": null,
      "outputs": []
    },
    {
      "cell_type": "code",
      "metadata": {
        "id": "aGjHnYom_8uY",
        "outputId": "ebeef2d8-4fd6-40a0-f29b-02cb32b11a16"
      },
      "source": [
        "r_math"
      ],
      "execution_count": null,
      "outputs": [
        {
          "output_type": "execute_result",
          "data": {
            "text/plain": [
              "<module 'math' (built-in)>"
            ]
          },
          "metadata": {
            "tags": []
          },
          "execution_count": 31
        }
      ]
    },
    {
      "cell_type": "code",
      "metadata": {
        "id": "k2wKCjBK_8ub",
        "outputId": "26b75643-69c1-4cca-d81a-6b9270de3b41"
      },
      "source": [
        "c_math"
      ],
      "execution_count": null,
      "outputs": [
        {
          "output_type": "execute_result",
          "data": {
            "text/plain": [
              "<module 'cmath' (built-in)>"
            ]
          },
          "metadata": {
            "tags": []
          },
          "execution_count": 32
        }
      ]
    },
    {
      "cell_type": "markdown",
      "metadata": {
        "id": "PMipm2YG_8uh"
      },
      "source": [
        "We can also alias symbols from the imported module:"
      ]
    },
    {
      "cell_type": "code",
      "metadata": {
        "id": "v_Tfdw6t_8uh"
      },
      "source": [
        "from math import sqrt as r_sqrt\n",
        "from cmath import sqrt as c_sqrt"
      ],
      "execution_count": null,
      "outputs": []
    },
    {
      "cell_type": "code",
      "metadata": {
        "id": "yNtkCEMJ_8ul",
        "outputId": "209b2e12-6e1e-4294-fb85-1d692091ec3a"
      },
      "source": [
        "r_sqrt"
      ],
      "execution_count": null,
      "outputs": [
        {
          "output_type": "execute_result",
          "data": {
            "text/plain": [
              "<function math.sqrt>"
            ]
          },
          "metadata": {
            "tags": []
          },
          "execution_count": 34
        }
      ]
    },
    {
      "cell_type": "code",
      "metadata": {
        "id": "T5a5lbse_8uo",
        "outputId": "fa3f1512-160c-4571-fc8e-bb92932097d9"
      },
      "source": [
        "c_sqrt"
      ],
      "execution_count": null,
      "outputs": [
        {
          "output_type": "execute_result",
          "data": {
            "text/plain": [
              "<function cmath.sqrt>"
            ]
          },
          "metadata": {
            "tags": []
          },
          "execution_count": 35
        }
      ]
    },
    {
      "cell_type": "markdown",
      "metadata": {
        "id": "ssXGRJyX_8us"
      },
      "source": [
        "Again, we can reproduce this using the following:"
      ]
    },
    {
      "cell_type": "code",
      "metadata": {
        "id": "hKyviKtK_8ut"
      },
      "source": [
        "r_sqrt = importlib.import_module('math').sqrt\n",
        "c_sqrt = importlib.import_module('cmath').sqrt"
      ],
      "execution_count": null,
      "outputs": []
    },
    {
      "cell_type": "code",
      "metadata": {
        "id": "VVEjxQiH_8ux",
        "outputId": "76937127-1eaf-4b77-e79c-c5d584effc0f"
      },
      "source": [
        "r_sqrt"
      ],
      "execution_count": null,
      "outputs": [
        {
          "output_type": "execute_result",
          "data": {
            "text/plain": [
              "<function math.sqrt>"
            ]
          },
          "metadata": {
            "tags": []
          },
          "execution_count": 37
        }
      ]
    },
    {
      "cell_type": "code",
      "metadata": {
        "id": "AgB2TOZI_8uz",
        "outputId": "33a76203-344f-45bb-e037-dacfd865f50d"
      },
      "source": [
        "c_sqrt"
      ],
      "execution_count": null,
      "outputs": [
        {
          "output_type": "execute_result",
          "data": {
            "text/plain": [
              "<function cmath.sqrt>"
            ]
          },
          "metadata": {
            "tags": []
          },
          "execution_count": 38
        }
      ]
    },
    {
      "cell_type": "markdown",
      "metadata": {
        "id": "9IM1CADl_8u1"
      },
      "source": [
        "At the end of the day, the module is always loaded and cached (`sys.modules`), these different variants of the `import` statement merely determine what symbols are added to our module (global) namespace. That's it.\n",
        "\n",
        "It's a little different for packages as we'll see later."
      ]
    },
    {
      "cell_type": "markdown",
      "metadata": {
        "id": "DsexfJKB_8u1"
      },
      "source": [
        "#### Efficiency"
      ]
    },
    {
      "cell_type": "markdown",
      "metadata": {
        "id": "MYs8dyGa_8u2"
      },
      "source": [
        "The final thing we need to look at is often mentioned in various blog posts and online discussions.\n",
        "\n",
        "`import variant #1` is more \"efficient\" than `import variant #2`\n",
        "\n",
        "Maybe so, but realistically by how much?\n",
        "\n",
        "Or even how the following is terribly wrong because it re-imports the `math` module **every** time `my_func` is called:"
      ]
    },
    {
      "cell_type": "code",
      "metadata": {
        "id": "kv4ou_tZ_8u3"
      },
      "source": [
        "def my_func(a):\n",
        "    import math\n",
        "    return math.sqrt(a)"
      ],
      "execution_count": null,
      "outputs": []
    },
    {
      "cell_type": "markdown",
      "metadata": {
        "id": "PS9jUG99_8u5"
      },
      "source": [
        "From a readability standpoint, yes, that is **not** a good idea. Much better to put all your imports at the top of the module once in a location where any reader can easily see all your module dependencies.\n",
        "\n",
        "But as far as reloading the module, you should now understand that's absolutely not true. Instead, it has to do a dictionary lookup in the `sys.modules` dictionary, not reload the entire module after the first load has occurred!\n",
        "\n",
        "Dictionary lookups are blazingly fast in Python - so, yes, there is some overhead, but not as much as you may think."
      ]
    },
    {
      "cell_type": "markdown",
      "metadata": {
        "id": "igdXXUF3_8u6"
      },
      "source": [
        "So, let's write some timing code to test these things and see how they compare.\n",
        "\n",
        "We shoudl consider both relative speed differences as well as absilute speed differences.\n",
        "\n",
        "If you try to optimize your code and end up reducing that code's speed by 50% that sounds good. But what if the original code ran in `1`s. Now it runs in `0.5`s. How long does the total program run? Down from `30`s to `29.5`s? Things are relative..."
      ]
    },
    {
      "cell_type": "code",
      "metadata": {
        "id": "6Up8vP78_8u7"
      },
      "source": [
        "from time import perf_counter"
      ],
      "execution_count": null,
      "outputs": []
    },
    {
      "cell_type": "markdown",
      "metadata": {
        "id": "kvmDHWRZ_8vC"
      },
      "source": [
        "Yes, I'm using a `from` import - for readability and typing reasons. How many other modules are out there where I run the risk of clobbering `perf_counter`? I can't think of one. Certainly not in any imports I'm going to be using here. It's such a unique name, I feel pretty safe!"
      ]
    },
    {
      "cell_type": "markdown",
      "metadata": {
        "id": "NKs-YlGI_8vC"
      },
      "source": [
        "I'm also going to write a small utility function that compares two timings to each other:"
      ]
    },
    {
      "cell_type": "code",
      "metadata": {
        "id": "rx87_6Q-_8vD"
      },
      "source": [
        "from collections import namedtuple\n",
        "\n",
        "Timings = namedtuple('Timings', 'timing_1 timing_2 abs_diff rel_diff_perc')\n",
        "def compare_timings(timing1, timing2):\n",
        "    rel_diff = (timing2 - timing1)/timing1 * 100\n",
        "    \n",
        "    timings = Timings(round(timing1, 1),\n",
        "                     round(timing2, 1),\n",
        "                     round(timing2 - timing1, 2),\n",
        "                     round(rel_diff, 2))\n",
        "    return timings"
      ],
      "execution_count": null,
      "outputs": []
    },
    {
      "cell_type": "markdown",
      "metadata": {
        "id": "pCFhYLt-_8vH"
      },
      "source": [
        "##### Timing using fully qualified `module.symbol` "
      ]
    },
    {
      "cell_type": "code",
      "metadata": {
        "id": "PnRnI6n1_8vI"
      },
      "source": [
        "test_repeats = 10_000_000"
      ],
      "execution_count": null,
      "outputs": []
    },
    {
      "cell_type": "code",
      "metadata": {
        "id": "a8PW0uw0_8vL",
        "outputId": "22089b49-f7e4-466d-f1e1-9a1e87def472"
      },
      "source": [
        "import math\n",
        "\n",
        "start = perf_counter()\n",
        "for _ in range(test_repeats):\n",
        "    math.sqrt(2)\n",
        "end = perf_counter()\n",
        "elapsed_fully_qualified = end - start\n",
        "print(f'Elapsed: {elapsed_fully_qualified}')"
      ],
      "execution_count": null,
      "outputs": [
        {
          "output_type": "stream",
          "text": [
            "Elapsed: 2.057656398357829\n"
          ],
          "name": "stdout"
        }
      ]
    },
    {
      "cell_type": "markdown",
      "metadata": {
        "id": "QSehYUA-_8vP"
      },
      "source": [
        "##### Timing using a directly imported symbol name:"
      ]
    },
    {
      "cell_type": "code",
      "metadata": {
        "id": "QMS42w0H_8vQ",
        "outputId": "058c4c14-ac8e-4569-8cd3-58c7537437e3"
      },
      "source": [
        "from math import sqrt\n",
        "\n",
        "start = perf_counter()\n",
        "for _ in range(test_repeats):\n",
        "    sqrt(2)\n",
        "end = perf_counter()\n",
        "elapsed_direct_symbol = end - start\n",
        "print(f'Elapsed: {elapsed_direct_symbol}')"
      ],
      "execution_count": null,
      "outputs": [
        {
          "output_type": "stream",
          "text": [
            "Elapsed: 1.603430354697538\n"
          ],
          "name": "stdout"
        }
      ]
    },
    {
      "cell_type": "markdown",
      "metadata": {
        "id": "jJ5vXMUU_8vU"
      },
      "source": [
        "Let's see the relative and absolute time differences:"
      ]
    },
    {
      "cell_type": "code",
      "metadata": {
        "id": "WfyCsAIE_8vU",
        "outputId": "bb3bfd1f-b36b-46e7-8c19-4705f74e54b4"
      },
      "source": [
        "compare_timings(elapsed_fully_qualified, elapsed_direct_symbol)"
      ],
      "execution_count": null,
      "outputs": [
        {
          "output_type": "execute_result",
          "data": {
            "text/plain": [
              "Timings(timing_1=2.1, timing_2=1.6, abs_diff=-0.45, rel_diff_perc=-22.07)"
            ]
          },
          "metadata": {
            "tags": []
          },
          "execution_count": 45
        }
      ]
    },
    {
      "cell_type": "markdown",
      "metadata": {
        "id": "Gw5B0ARc_8vW"
      },
      "source": [
        "Definitely faster - but in absolute terms I really did not save a whole lot - over `10,000,000` iterations!"
      ]
    },
    {
      "cell_type": "markdown",
      "metadata": {
        "id": "k9vTHl0d_8vX"
      },
      "source": [
        "##### Timing using a function (fully qualified symbol)"
      ]
    },
    {
      "cell_type": "code",
      "metadata": {
        "id": "ohz4TVow_8vX",
        "outputId": "f2e2be2f-79ac-4121-ffa0-70ac599045de"
      },
      "source": [
        "import math\n",
        "\n",
        "def func():\n",
        "    math.sqrt(2)\n",
        "    \n",
        "start = perf_counter()\n",
        "for _ in range(test_repeats):\n",
        "    func()\n",
        "end = perf_counter()\n",
        "elapsed_func_fully_qualified = end - start\n",
        "print(f'Elapsed: {elapsed_func_fully_qualified}') "
      ],
      "execution_count": null,
      "outputs": [
        {
          "output_type": "stream",
          "text": [
            "Elapsed: 3.2668947610088703\n"
          ],
          "name": "stdout"
        }
      ]
    },
    {
      "cell_type": "code",
      "metadata": {
        "id": "A4U-enmg_8va",
        "outputId": "205f846a-7250-4725-9ec3-c04cc5390082"
      },
      "source": [
        "compare_timings(elapsed_fully_qualified, elapsed_func_fully_qualified)"
      ],
      "execution_count": null,
      "outputs": [
        {
          "output_type": "execute_result",
          "data": {
            "text/plain": [
              "Timings(timing_1=2.1, timing_2=3.3, abs_diff=1.21, rel_diff_perc=58.77)"
            ]
          },
          "metadata": {
            "tags": []
          },
          "execution_count": 47
        }
      ]
    },
    {
      "cell_type": "markdown",
      "metadata": {
        "id": "sXcIgeoT_8vc"
      },
      "source": [
        "That was slower because of the function call overhead, but not by much in absolute terms considering I called `func()` `10,000,000` times!"
      ]
    },
    {
      "cell_type": "markdown",
      "metadata": {
        "id": "_m0woJl3_8vc"
      },
      "source": [
        "##### Timing using a function (direct symbol)"
      ]
    },
    {
      "cell_type": "code",
      "metadata": {
        "scrolled": true,
        "id": "egvU_2Gt_8vd",
        "outputId": "9a7ec3b5-a716-4302-f59a-fea9c697e064"
      },
      "source": [
        "from math import sqrt\n",
        "\n",
        "def func():\n",
        "    sqrt(2)\n",
        "    \n",
        "start = perf_counter()\n",
        "for _ in range(test_repeats):\n",
        "    func()\n",
        "end = perf_counter()\n",
        "elapsed_func_direct_symbol = end - start\n",
        "print(f'Elapsed: {elapsed_func_direct_symbol}')"
      ],
      "execution_count": null,
      "outputs": [
        {
          "output_type": "stream",
          "text": [
            "Elapsed: 2.80123663975316\n"
          ],
          "name": "stdout"
        }
      ]
    },
    {
      "cell_type": "code",
      "metadata": {
        "id": "lRA5Msln_8vf",
        "outputId": "653ee2bf-3492-4196-8043-4421e248b9cd"
      },
      "source": [
        "compare_timings(elapsed_func_fully_qualified, elapsed_func_direct_symbol)"
      ],
      "execution_count": null,
      "outputs": [
        {
          "output_type": "execute_result",
          "data": {
            "text/plain": [
              "Timings(timing_1=3.3, timing_2=2.8, abs_diff=-0.47, rel_diff_perc=-14.25)"
            ]
          },
          "metadata": {
            "tags": []
          },
          "execution_count": 49
        }
      ]
    },
    {
      "cell_type": "markdown",
      "metadata": {
        "id": "puagPBGC_8vj"
      },
      "source": [
        "Slower, but again not by much in absolute terms considering this was for `10,000,000` iterations."
      ]
    },
    {
      "cell_type": "markdown",
      "metadata": {
        "id": "JfoVXZ-J_8vk"
      },
      "source": [
        "##### Timing using a nested import (fully qualified symbol)"
      ]
    },
    {
      "cell_type": "code",
      "metadata": {
        "id": "nYMTB7-3_8vk",
        "outputId": "fe3e2f1f-3b8b-4493-9f8c-1e236a5b426a"
      },
      "source": [
        "def func():\n",
        "    import math\n",
        "    math.sqrt(2)\n",
        "    \n",
        "start = perf_counter()\n",
        "for _ in range(test_repeats):\n",
        "    func()\n",
        "end = perf_counter()\n",
        "elapsed_nested_fully_qualified = end - start\n",
        "print(f'Elapsed: {elapsed_nested_fully_qualified}')"
      ],
      "execution_count": null,
      "outputs": [
        {
          "output_type": "stream",
          "text": [
            "Elapsed: 5.041648347331877\n"
          ],
          "name": "stdout"
        }
      ]
    },
    {
      "cell_type": "code",
      "metadata": {
        "id": "A3WUrvWV_8vn",
        "outputId": "8a006258-0b78-47fe-ce23-622d7bb4111f"
      },
      "source": [
        "compare_timings(elapsed_func_fully_qualified, elapsed_nested_fully_qualified)"
      ],
      "execution_count": null,
      "outputs": [
        {
          "output_type": "execute_result",
          "data": {
            "text/plain": [
              "Timings(timing_1=3.3, timing_2=5.0, abs_diff=1.77, rel_diff_perc=54.33)"
            ]
          },
          "metadata": {
            "tags": []
          },
          "execution_count": 51
        }
      ]
    },
    {
      "cell_type": "markdown",
      "metadata": {
        "id": "1xfA_U-l_8vr"
      },
      "source": [
        "So definitely slower. But in absolute terms, for `10,000,000` iterations?"
      ]
    },
    {
      "cell_type": "markdown",
      "metadata": {
        "id": "y3vwFz_r_8vs"
      },
      "source": [
        "##### Timing using a nested import (direct symbol)"
      ]
    },
    {
      "cell_type": "code",
      "metadata": {
        "id": "z-zkf2O1_8vt",
        "outputId": "d1fea439-807b-4854-8800-c92062075177"
      },
      "source": [
        "def func():\n",
        "    from math import sqrt\n",
        "    sqrt(2)\n",
        "    \n",
        "start = perf_counter()\n",
        "for _ in range(test_repeats):\n",
        "    func()\n",
        "end = perf_counter()\n",
        "elapsed_nested_direct_symbol = end - start\n",
        "print(f'Elapsed: {elapsed_nested_direct_symbol}')"
      ],
      "execution_count": null,
      "outputs": [
        {
          "output_type": "stream",
          "text": [
            "Elapsed: 14.60262281403945\n"
          ],
          "name": "stdout"
        }
      ]
    },
    {
      "cell_type": "code",
      "metadata": {
        "id": "O-g0uyhr_8vv",
        "outputId": "d533967a-9631-48f2-b5a9-5a881e7451bb"
      },
      "source": [
        "compare_timings(elapsed_nested_fully_qualified, elapsed_nested_direct_symbol)"
      ],
      "execution_count": null,
      "outputs": [
        {
          "output_type": "execute_result",
          "data": {
            "text/plain": [
              "Timings(timing_1=5.0, timing_2=14.6, abs_diff=9.56, rel_diff_perc=189.64)"
            ]
          },
          "metadata": {
            "tags": []
          },
          "execution_count": 53
        }
      ]
    },
    {
      "cell_type": "markdown",
      "metadata": {
        "id": "8U-LhiIe_8vy"
      },
      "source": [
        "That was significantly slower! Even in absolute terms this is starting to get sloooow."
      ]
    },
    {
      "cell_type": "markdown",
      "metadata": {
        "id": "LXE4eT5n_8vz"
      },
      "source": [
        "So does this mean you should put imports inside functions?\n",
        "\n",
        "No, of course not - follow the convention, it makes code far more readable, and of course optimize your code only once you have identified the bottlenecks. \n",
        "\n",
        "Does this mean you shouldn't care at all about the performance of your code based on the import variants?\n",
        "\n",
        "Again, of course not - you absolutely should.\n",
        "\n",
        "But, there is absolutely no reason to re-write your code from \n",
        "\n",
        "`import math\n",
        "math.sqrt(2)`\n",
        "\n",
        "to \n",
        "\n",
        "`from math import sqrt\n",
        "sqrt(2)\n",
        "`\n",
        "\n",
        "for **speed** reasons if during the entire lifetime of your application you only call that function `100` times... or `10,000,000` times.\n",
        "\n",
        "Really depends on your circumstance - be aware of it, but don't try to optimize code until you know **where** you **need** to optimize!\n",
        "\n",
        "People refactor parts of their code for sub-second improvements, when, in fact, the largest bottleneck was that they were opening and closing database connections at every read and write instead of pooling connections or something like that]*"
      ]
    },
    {
      "cell_type": "markdown",
      "metadata": {
        "id": "9LlASgja_8vz"
      },
      "source": [
        "And\n",
        "\n",
        "`from module import *`\n",
        "\n",
        "has its uses.It's not evil, just not very safe - again depends on your circumstance."
      ]
    },
    {
      "cell_type": "code",
      "metadata": {
        "id": "crg2HWnPUVcj"
      },
      "source": [
        ""
      ],
      "execution_count": null,
      "outputs": []
    }
  ]
}