{
  "nbformat": 4,
  "nbformat_minor": 0,
  "metadata": {
    "kernelspec": {
      "display_name": "Python 3",
      "language": "python",
      "name": "python3"
    },
    "language_info": {
      "codemirror_mode": {
        "name": "ipython",
        "version": 3
      },
      "file_extension": ".py",
      "mimetype": "text/x-python",
      "name": "python",
      "nbconvert_exporter": "python",
      "pygments_lexer": "ipython3",
      "version": "3.6.2"
    },
    "colab": {
      "name": "Reloading Modules.ipynb",
      "provenance": []
    }
  },
  "cells": [
    {
      "cell_type": "markdown",
      "metadata": {
        "id": "8Y3pAo63En9-"
      },
      "source": [
        "### Reloading Modules"
      ]
    },
    {
      "cell_type": "markdown",
      "metadata": {
        "id": "c6ewz2miEn9_"
      },
      "source": [
        "Reloading modules is something you may find yourself wanting to do if you modify the code for a module while your program is running."
      ]
    },
    {
      "cell_type": "markdown",
      "metadata": {
        "id": "QLGsjjaZEn-A"
      },
      "source": [
        "Although you technically can do so, and I'll show you two ways of doing it, it's not recommended. Let me show you how to do it first, and then the pitfalls with both methods.\n",
        "\n",
        "The safest is just to make your code changes, and restart your app.\n",
        "\n",
        "Even if you are trying to monkey patch (change at run-time) a code module and you want everyone who uses that module to \"see\" the change, they very well may not, depending on how they are accessing your module."
      ]
    },
    {
      "cell_type": "markdown",
      "metadata": {
        "id": "CAPV7BcxEn-B"
      },
      "source": [
        "As usual, working with external modules in Jupyter is not the easiest thing in the world, so I'm just going to create simple modules right from inside the notebook. You can just create files in the same folder as your notebook/main app instead."
      ]
    },
    {
      "cell_type": "code",
      "metadata": {
        "id": "A5Bet4toEn-B"
      },
      "source": [
        "import os\n",
        "\n",
        "def create_module_file(module_name, **kwargs):\n",
        "    '''Create a module file named <module_name>.py.\n",
        "    Module has a single function (print_values) that will print\n",
        "    out the supplied (stringified) kwargs.\n",
        "    '''\n",
        "    \n",
        "    module_file_name = f'{module_name}.py'\n",
        "    module_rel_file_path = module_file_name\n",
        "    module_abs_file_path = os.path.abspath(module_rel_file_path)\n",
        "    \n",
        "    with open(module_abs_file_path, 'w') as f:\n",
        "        f.write(f'# {module_name}.py\\n\\n')\n",
        "        f.write(f\"print('running {module_file_name}...')\\n\\n\")\n",
        "        f.write(f'def print_values():\\n')\n",
        "        for key, value in kwargs.items():\n",
        "            f.write(f\"\\tprint('{str(key)}', '{str(value)}')\\n\")    "
      ],
      "execution_count": null,
      "outputs": []
    },
    {
      "cell_type": "code",
      "metadata": {
        "id": "0gpdgKjOEn-F"
      },
      "source": [
        "create_module_file('test', k1=10, k2='python')"
      ],
      "execution_count": null,
      "outputs": []
    },
    {
      "cell_type": "markdown",
      "metadata": {
        "id": "RFP4yaDKEn-J"
      },
      "source": [
        "This should have resulted in the creation of a file named `test.py` in your notebook/project directory that should look like this:\n",
        "\n",
        "`# test.py`\n",
        "\n",
        "`print('running test.py...')`\n",
        "\n",
        "``def print_values():\n",
        "\tprint('k1', '10')\n",
        "\tprint('k2', 'python')\n",
        "``"
      ]
    },
    {
      "cell_type": "markdown",
      "metadata": {
        "id": "YZ7v-YyTEn-K"
      },
      "source": [
        "Now let's go ahead and import it using a plain `import`:"
      ]
    },
    {
      "cell_type": "code",
      "metadata": {
        "id": "4y1HCa9lEn-L",
        "outputId": "80844a46-6c6b-449c-961a-7d9003ffd6c8"
      },
      "source": [
        "import test"
      ],
      "execution_count": null,
      "outputs": [
        {
          "output_type": "stream",
          "text": [
            "running test.py...\n"
          ],
          "name": "stdout"
        }
      ]
    },
    {
      "cell_type": "code",
      "metadata": {
        "id": "hih2QaOIEn-P",
        "outputId": "811613f4-0ee2-48ad-d91f-2b94d67ca671"
      },
      "source": [
        "test"
      ],
      "execution_count": null,
      "outputs": [
        {
          "output_type": "execute_result",
          "data": {
            "text/plain": [
              "<module 'test' from '/Users/fbaptiste/Desktop/Notebooks/test.py'>"
            ]
          },
          "metadata": {
            "tags": []
          },
          "execution_count": 4
        }
      ]
    },
    {
      "cell_type": "markdown",
      "metadata": {
        "id": "W-msxIgEEn-S"
      },
      "source": [
        "And we can now call the `print_values` function:"
      ]
    },
    {
      "cell_type": "code",
      "metadata": {
        "id": "2J3B4c8WEn-T",
        "outputId": "a5ba4b61-e0a1-4aab-f24a-20f098a89291"
      },
      "source": [
        "test.print_values()"
      ],
      "execution_count": null,
      "outputs": [
        {
          "output_type": "stream",
          "text": [
            "k1 10\n",
            "k2 python\n"
          ],
          "name": "stdout"
        }
      ]
    },
    {
      "cell_type": "markdown",
      "metadata": {
        "id": "cNA7ccppEn-W"
      },
      "source": [
        "Now suppose, we modify the module by adding an extra key:"
      ]
    },
    {
      "cell_type": "code",
      "metadata": {
        "id": "fKZoiPTeEn-X"
      },
      "source": [
        "create_module_file('test', k1=10, k2='python', k3='cheese')"
      ],
      "execution_count": null,
      "outputs": []
    },
    {
      "cell_type": "code",
      "metadata": {
        "id": "pHEe-wSuEn-a",
        "outputId": "c2a3d020-fde4-4d25-a75c-24a1923081c6"
      },
      "source": [
        "test.print_values()"
      ],
      "execution_count": null,
      "outputs": [
        {
          "output_type": "stream",
          "text": [
            "k1 10\n",
            "k2 python\n"
          ],
          "name": "stdout"
        }
      ]
    },
    {
      "cell_type": "markdown",
      "metadata": {
        "id": "bDkOaumLEn-d"
      },
      "source": [
        "Nope, nothing changed..."
      ]
    },
    {
      "cell_type": "markdown",
      "metadata": {
        "id": "1nw8g0zaEn-d"
      },
      "source": [
        "Maybe we can just re-import it?? You shoudl know the answer to that one..."
      ]
    },
    {
      "cell_type": "code",
      "metadata": {
        "id": "8jZJN4wXEn-e"
      },
      "source": [
        "import test"
      ],
      "execution_count": null,
      "outputs": []
    },
    {
      "cell_type": "code",
      "metadata": {
        "id": "UlzY07V4En-g",
        "outputId": "c0765313-0d62-4114-b5d5-3d7d1e07acd6"
      },
      "source": [
        "test.print_values()"
      ],
      "execution_count": null,
      "outputs": [
        {
          "output_type": "stream",
          "text": [
            "k1 10\n",
            "k2 python\n"
          ],
          "name": "stdout"
        }
      ]
    },
    {
      "cell_type": "code",
      "metadata": {
        "id": "2-eXXBP2En-j",
        "outputId": "43b96369-ad29-47b7-9870-6ea88dc05281"
      },
      "source": [
        "id(test)"
      ],
      "execution_count": null,
      "outputs": [
        {
          "output_type": "execute_result",
          "data": {
            "text/plain": [
              "4532635512"
            ]
          },
          "metadata": {
            "tags": []
          },
          "execution_count": 10
        }
      ]
    },
    {
      "cell_type": "markdown",
      "metadata": {
        "id": "cbw4hQxrEn-m"
      },
      "source": [
        "The module object is the same one we initially loaded - our namespace and `sys.modules` still points to that old one. Somehow we have to force Python to *reload* the module."
      ]
    },
    {
      "cell_type": "markdown",
      "metadata": {
        "id": "xARc5bL9En-m"
      },
      "source": [
        "At this point, I hope you're thinking \"let's just remove it from `sys.modules`, this way Python will not see it in the cache and rerun the import.\n",
        "\n",
        "That's a good idea - let's try that."
      ]
    },
    {
      "cell_type": "code",
      "metadata": {
        "id": "x6himXmIEn-n"
      },
      "source": [
        "import sys\n",
        "del sys.modules['test']"
      ],
      "execution_count": null,
      "outputs": []
    },
    {
      "cell_type": "code",
      "metadata": {
        "id": "uF0P1b9FEn-q",
        "outputId": "3c0bb9ed-9d04-4c85-85e1-e3bc352c2ed2"
      },
      "source": [
        "import test"
      ],
      "execution_count": null,
      "outputs": [
        {
          "output_type": "stream",
          "text": [
            "running test.py...\n"
          ],
          "name": "stdout"
        }
      ]
    },
    {
      "cell_type": "code",
      "metadata": {
        "id": "bC1DCWMmEn-t",
        "outputId": "3e8dcd1b-08d4-459d-a50d-df930e9ea382"
      },
      "source": [
        "test.print_values()"
      ],
      "execution_count": null,
      "outputs": [
        {
          "output_type": "stream",
          "text": [
            "k1 10\n",
            "k2 python\n",
            "k3 cheese\n"
          ],
          "name": "stdout"
        }
      ]
    },
    {
      "cell_type": "markdown",
      "metadata": {
        "id": "a_mkBjF5En-w"
      },
      "source": [
        "and, in fact, the `id` has also changed:"
      ]
    },
    {
      "cell_type": "code",
      "metadata": {
        "id": "kvFBiLj4En-x",
        "outputId": "4cb5d9b9-d5e1-48cc-9deb-d114298f18ab"
      },
      "source": [
        "id(test)"
      ],
      "execution_count": null,
      "outputs": [
        {
          "output_type": "execute_result",
          "data": {
            "text/plain": [
              "4532720568"
            ]
          },
          "metadata": {
            "tags": []
          },
          "execution_count": 14
        }
      ]
    },
    {
      "cell_type": "markdown",
      "metadata": {
        "id": "R6xUPC3DEn-0"
      },
      "source": [
        "That worked!"
      ]
    },
    {
      "cell_type": "markdown",
      "metadata": {
        "id": "mpu0FLOxEn-0"
      },
      "source": [
        "But here's the problem with that approach.\n",
        "\n",
        "Suppose some other module in your program has already loaded that module using \n",
        "\n",
        "`import test`.\n",
        "\n",
        "What is in their namespace? A variable (symbol) called `test` that points to which object? The one that was first loaded, not the second one we just put back into the `sys.modules` dict.\n",
        "\n",
        "In other words, they have no idea the module changed and they'll just keep using the old object at the original memory address."
      ]
    },
    {
      "cell_type": "markdown",
      "metadata": {
        "id": "Tj0opzSMEn-1"
      },
      "source": [
        "Fortunately, `importlib` has a way to reload the contents of the module object without affecting the memory address.\n",
        "\n",
        "That is already much better.\n",
        "\n",
        "Let's try it:"
      ]
    },
    {
      "cell_type": "code",
      "metadata": {
        "id": "_vDNBDc1En-2",
        "outputId": "99caf09f-7279-4d8f-dcc6-59261e9f8182"
      },
      "source": [
        "id(test)"
      ],
      "execution_count": null,
      "outputs": [
        {
          "output_type": "execute_result",
          "data": {
            "text/plain": [
              "4532720568"
            ]
          },
          "metadata": {
            "tags": []
          },
          "execution_count": 15
        }
      ]
    },
    {
      "cell_type": "code",
      "metadata": {
        "id": "LM0jG_0tEn-5",
        "outputId": "34fa6488-f991-4c1f-e0e8-da9d9e909fba"
      },
      "source": [
        "test.print_values()"
      ],
      "execution_count": null,
      "outputs": [
        {
          "output_type": "stream",
          "text": [
            "k1 10\n",
            "k2 python\n",
            "k3 cheese\n"
          ],
          "name": "stdout"
        }
      ]
    },
    {
      "cell_type": "code",
      "metadata": {
        "id": "iUKyT84tEn-8"
      },
      "source": [
        "create_module_file('test', k1=10, k2='python', \n",
        "                   k3='cheese', k4='parrots')"
      ],
      "execution_count": null,
      "outputs": []
    },
    {
      "cell_type": "code",
      "metadata": {
        "id": "cm8k111pEn-_",
        "outputId": "b602e7be-b0dc-4fe6-f243-6de154cd2c61"
      },
      "source": [
        "import importlib\n",
        "\n",
        "importlib.reload(test)"
      ],
      "execution_count": null,
      "outputs": [
        {
          "output_type": "stream",
          "text": [
            "running test.py...\n"
          ],
          "name": "stdout"
        },
        {
          "output_type": "execute_result",
          "data": {
            "text/plain": [
              "<module 'test' from '/Users/fbaptiste/Desktop/Notebooks/test.py'>"
            ]
          },
          "metadata": {
            "tags": []
          },
          "execution_count": 18
        }
      ]
    },
    {
      "cell_type": "markdown",
      "metadata": {
        "id": "RgeTEJs5En_B"
      },
      "source": [
        "As we can see the module was executed..."
      ]
    },
    {
      "cell_type": "markdown",
      "metadata": {
        "id": "oFsIF9aLEn_C"
      },
      "source": [
        "what about the `id`?"
      ]
    },
    {
      "cell_type": "code",
      "metadata": {
        "id": "g04EIOZQEn_C",
        "outputId": "4528a85d-bc64-476c-fa41-d75d68a2547f"
      },
      "source": [
        "id(test)"
      ],
      "execution_count": null,
      "outputs": [
        {
          "output_type": "execute_result",
          "data": {
            "text/plain": [
              "4532720568"
            ]
          },
          "metadata": {
            "tags": []
          },
          "execution_count": 19
        }
      ]
    },
    {
      "cell_type": "markdown",
      "metadata": {
        "id": "2uE00eZwEn_E"
      },
      "source": [
        "Stayed the same..."
      ]
    },
    {
      "cell_type": "markdown",
      "metadata": {
        "id": "OiaFucXZEn_F"
      },
      "source": [
        "So now, let's call that function:"
      ]
    },
    {
      "cell_type": "code",
      "metadata": {
        "id": "EC-_ptcdEn_F",
        "outputId": "06a592ce-0686-407e-a840-0f0207585562"
      },
      "source": [
        "test.print_values()"
      ],
      "execution_count": null,
      "outputs": [
        {
          "output_type": "stream",
          "text": [
            "k1 10\n",
            "k2 python\n",
            "k3 cheese\n",
            "k4 parrots\n"
          ],
          "name": "stdout"
        }
      ]
    },
    {
      "cell_type": "markdown",
      "metadata": {
        "id": "ItHre_48En_I"
      },
      "source": [
        "As you can see, we have the correct output. And we did not have to reimport the module, which means any other module that had imported the old object, now is going to automatically be using the new \"version\" of the same object (same memory address)"
      ]
    },
    {
      "cell_type": "markdown",
      "metadata": {
        "id": "zc8Fraa0En_I"
      },
      "source": [
        "So, all's well that ends well...\n",
        "\n",
        "Not quite. :-)"
      ]
    },
    {
      "cell_type": "markdown",
      "metadata": {
        "id": "phVZofBuEn_J"
      },
      "source": [
        "Consider this example instead, were we use a `from` style import:"
      ]
    },
    {
      "cell_type": "code",
      "metadata": {
        "id": "nvuoiQenEn_K"
      },
      "source": [
        "create_module_file('test2', k1='python')"
      ],
      "execution_count": null,
      "outputs": []
    },
    {
      "cell_type": "code",
      "metadata": {
        "id": "WocqkmubEn_P",
        "outputId": "81603f12-8b63-47d7-c391-38986ec1840e"
      },
      "source": [
        "from test2 import print_values"
      ],
      "execution_count": null,
      "outputs": [
        {
          "output_type": "stream",
          "text": [
            "running test2.py...\n"
          ],
          "name": "stdout"
        }
      ]
    },
    {
      "cell_type": "code",
      "metadata": {
        "id": "8TsAeFhTEn_Z",
        "outputId": "ea43e359-8fcd-411a-d232-b2130c0deab8"
      },
      "source": [
        "print_values()"
      ],
      "execution_count": null,
      "outputs": [
        {
          "output_type": "stream",
          "text": [
            "k1 python\n"
          ],
          "name": "stdout"
        }
      ]
    },
    {
      "cell_type": "markdown",
      "metadata": {
        "id": "sFzpzBA3En_c"
      },
      "source": [
        "Works great.\n",
        "\n",
        "What's the `id` of `print_values`?"
      ]
    },
    {
      "cell_type": "code",
      "metadata": {
        "id": "gKaJPF3YEn_d",
        "outputId": "8bac472e-c145-4852-8a8b-9844f96db2ff"
      },
      "source": [
        "id(print_values)"
      ],
      "execution_count": null,
      "outputs": [
        {
          "output_type": "execute_result",
          "data": {
            "text/plain": [
              "4532625752"
            ]
          },
          "metadata": {
            "tags": []
          },
          "execution_count": 24
        }
      ]
    },
    {
      "cell_type": "markdown",
      "metadata": {
        "id": "1YRWzXJLEn_f"
      },
      "source": [
        "Now let's modify `test2.py`:"
      ]
    },
    {
      "cell_type": "code",
      "metadata": {
        "id": "Xcd0ub2KEn_f"
      },
      "source": [
        "create_module_file('test2', k1='python', k2='cheese')"
      ],
      "execution_count": null,
      "outputs": []
    },
    {
      "cell_type": "markdown",
      "metadata": {
        "id": "nXr8aSoJEn_h"
      },
      "source": [
        "And reload it using `importlib.reload`:"
      ]
    },
    {
      "cell_type": "code",
      "metadata": {
        "id": "mn6Y16ClEn_i",
        "outputId": "ba1b482b-f9e5-43e3-8ddb-80fb81ff3cd3"
      },
      "source": [
        "importlib.reload(test2)"
      ],
      "execution_count": null,
      "outputs": [
        {
          "output_type": "error",
          "ename": "NameError",
          "evalue": "name 'test2' is not defined",
          "traceback": [
            "\u001b[0;31m---------------------------------------------------------------------------\u001b[0m",
            "\u001b[0;31mNameError\u001b[0m                                 Traceback (most recent call last)",
            "\u001b[0;32m<ipython-input-26-7b4c6fe87427>\u001b[0m in \u001b[0;36m<module>\u001b[0;34m()\u001b[0m\n\u001b[0;32m----> 1\u001b[0;31m \u001b[0mimportlib\u001b[0m\u001b[0;34m.\u001b[0m\u001b[0mreload\u001b[0m\u001b[0;34m(\u001b[0m\u001b[0mtest2\u001b[0m\u001b[0;34m)\u001b[0m\u001b[0;34m\u001b[0m\u001b[0m\n\u001b[0m",
            "\u001b[0;31mNameError\u001b[0m: name 'test2' is not defined"
          ]
        }
      ]
    },
    {
      "cell_type": "markdown",
      "metadata": {
        "id": "EvbBv3_8En_l"
      },
      "source": [
        "Ok, so we don't have `test2` in our namespace... Easy enough, let's import it directly (or get it out of `sys.modules`):"
      ]
    },
    {
      "cell_type": "code",
      "metadata": {
        "id": "pSGHxEhMEn_l"
      },
      "source": [
        "import test2"
      ],
      "execution_count": null,
      "outputs": []
    },
    {
      "cell_type": "code",
      "metadata": {
        "id": "UKa356gDEn_p",
        "outputId": "5b222a52-3476-40df-edb0-bd15294adfd8"
      },
      "source": [
        "test2.print_values()"
      ],
      "execution_count": null,
      "outputs": [
        {
          "output_type": "stream",
          "text": [
            "k1 python\n"
          ],
          "name": "stdout"
        }
      ]
    },
    {
      "cell_type": "code",
      "metadata": {
        "id": "MaphHXteEn_s",
        "outputId": "1365dfb7-d115-4813-8264-a004c59dd072"
      },
      "source": [
        "id(test2.print_values)"
      ],
      "execution_count": null,
      "outputs": [
        {
          "output_type": "execute_result",
          "data": {
            "text/plain": [
              "4532625752"
            ]
          },
          "metadata": {
            "tags": []
          },
          "execution_count": 29
        }
      ]
    },
    {
      "cell_type": "code",
      "metadata": {
        "id": "03CNX3R1En_u",
        "outputId": "c77d4f78-bf21-456d-8a75-0e7518fc2b28"
      },
      "source": [
        "id(print_values)"
      ],
      "execution_count": null,
      "outputs": [
        {
          "output_type": "execute_result",
          "data": {
            "text/plain": [
              "4532625752"
            ]
          },
          "metadata": {
            "tags": []
          },
          "execution_count": 30
        }
      ]
    },
    {
      "cell_type": "markdown",
      "metadata": {
        "id": "0PUaMN9yEn_x"
      },
      "source": [
        "Now let's try the reload:"
      ]
    },
    {
      "cell_type": "code",
      "metadata": {
        "id": "cDBsORTFEn_y",
        "outputId": "2d188945-0a17-49a3-d23d-c67cdbe0a247"
      },
      "source": [
        "importlib.reload(test2)"
      ],
      "execution_count": null,
      "outputs": [
        {
          "output_type": "stream",
          "text": [
            "running test2.py...\n"
          ],
          "name": "stdout"
        },
        {
          "output_type": "execute_result",
          "data": {
            "text/plain": [
              "<module 'test2' from '/Users/fbaptiste/Desktop/Notebooks/test2.py'>"
            ]
          },
          "metadata": {
            "tags": []
          },
          "execution_count": 31
        }
      ]
    },
    {
      "cell_type": "markdown",
      "metadata": {
        "id": "qObPwLA2En_0"
      },
      "source": [
        "OK, the module was re-imported..."
      ]
    },
    {
      "cell_type": "markdown",
      "metadata": {
        "id": "V-an5cX1En_1"
      },
      "source": [
        "Now let's run the `print_values` function:"
      ]
    },
    {
      "cell_type": "code",
      "metadata": {
        "id": "SDM2QquqEn_1",
        "outputId": "08b18106-a987-4384-db8e-5448c52d569c"
      },
      "source": [
        "test2.print_values()"
      ],
      "execution_count": null,
      "outputs": [
        {
          "output_type": "stream",
          "text": [
            "k1 python\n",
            "k2 cheese\n"
          ],
          "name": "stdout"
        }
      ]
    },
    {
      "cell_type": "markdown",
      "metadata": {
        "id": "C31G3vSOEn_3"
      },
      "source": [
        "But remember how we actually imported `print_values` from `test2`?"
      ]
    },
    {
      "cell_type": "code",
      "metadata": {
        "id": "TCHpFQoHEn_4",
        "outputId": "b2e6260f-050a-4e2b-e965-f1518f7f00f2"
      },
      "source": [
        "print_values()"
      ],
      "execution_count": null,
      "outputs": [
        {
          "output_type": "stream",
          "text": [
            "k1 python\n"
          ],
          "name": "stdout"
        }
      ]
    },
    {
      "cell_type": "markdown",
      "metadata": {
        "id": "xMhbLyn9En_6"
      },
      "source": [
        "Ouch - that's not right!"
      ]
    },
    {
      "cell_type": "markdown",
      "metadata": {
        "id": "vXz-upO0En_6"
      },
      "source": [
        "Let's look at the `id`s of those two functions, and compare them to what we had before we ran the reload:"
      ]
    },
    {
      "cell_type": "code",
      "metadata": {
        "id": "rSee82lwEn_7",
        "outputId": "1b07913d-518d-4968-e9cb-604c574856f8"
      },
      "source": [
        "id(test2.print_values)"
      ],
      "execution_count": null,
      "outputs": [
        {
          "output_type": "execute_result",
          "data": {
            "text/plain": [
              "4533545976"
            ]
          },
          "metadata": {
            "tags": []
          },
          "execution_count": 34
        }
      ]
    },
    {
      "cell_type": "code",
      "metadata": {
        "id": "XeU8NGhAEn_-",
        "outputId": "234e30b9-0315-4f6c-ca1b-d376586f21ec"
      },
      "source": [
        "id(print_values)"
      ],
      "execution_count": null,
      "outputs": [
        {
          "output_type": "execute_result",
          "data": {
            "text/plain": [
              "4532625752"
            ]
          },
          "metadata": {
            "tags": []
          },
          "execution_count": 35
        }
      ]
    },
    {
      "cell_type": "markdown",
      "metadata": {
        "id": "djnAIGwIEoAD"
      },
      "source": [
        "As you can see the `test2.print_values` function is a new object, but `print_values` **still** points to the old function that exists in the first \"version\" of `test2`."
      ]
    },
    {
      "cell_type": "markdown",
      "metadata": {
        "id": "z5gGu8xKEoAE"
      },
      "source": [
        "And that is why reloading is just not safe.\n",
        "\n",
        "If someone using your module binds directly to an attribute in your module, either via how they import:\n",
        "\n",
        "`from test2 import print_values`\n",
        "\n",
        "or even by doing something like this:\n",
        "\n",
        "`pv = test2.print_values`\n",
        "\n",
        "their binding is now set to a specific memory address.\n",
        "\n",
        "When you reload the module, the object `test2` has ben mutated, and the `print_values` function is now a new object, but any bindings to the \"old\" version of the function remain."
      ]
    },
    {
      "cell_type": "markdown",
      "metadata": {
        "id": "bb5jfpvVEoAE"
      },
      "source": [
        "So, in general, stay away from reloading modules dynamically."
      ]
    }
  ]
}