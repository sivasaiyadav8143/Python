{
  "nbformat": 4,
  "nbformat_minor": 0,
  "metadata": {
    "kernelspec": {
      "display_name": "Python 3",
      "language": "python",
      "name": "python3"
    },
    "language_info": {
      "codemirror_mode": {
        "name": "ipython",
        "version": 3
      },
      "file_extension": ".py",
      "mimetype": "text/x-python",
      "name": "python",
      "nbconvert_exporter": "python",
      "pygments_lexer": "ipython3",
      "version": "3.6.1"
    },
    "colab": {
      "name": "Imports and importlib.ipynb",
      "provenance": []
    }
  },
  "cells": [
    {
      "cell_type": "markdown",
      "metadata": {
        "id": "yKvHnseaXf1s"
      },
      "source": [
        "### Imports and `importlib`"
      ]
    },
    {
      "cell_type": "markdown",
      "metadata": {
        "id": "m3wqJUSoXf1u"
      },
      "source": [
        "We can mimic Python's import, which Python itself provides that functionality, both as a built-in function (`import`) and in the standard library module `importlib`.\n",
        "\n",
        "In fact, if you want to see how imports are done in pure Python code you can always look at the source code for that library (you should now know where to find that on your local machine - you have to first identify a Pythyon environment (`sys.exec_prefix`) and then look in the `lib` folder:"
      ]
    },
    {
      "cell_type": "code",
      "metadata": {
        "id": "JpljDkitXf1v"
      },
      "source": [
        "import sys"
      ],
      "execution_count": 15,
      "outputs": []
    },
    {
      "cell_type": "code",
      "metadata": {
        "id": "yiEvQC_cXf11",
        "outputId": "f8e4885d-01a7-4711-f7ce-ca7e37df88d6",
        "colab": {
          "base_uri": "https://localhost:8080/",
          "height": 35
        }
      },
      "source": [
        "sys.exec_prefix"
      ],
      "execution_count": 16,
      "outputs": [
        {
          "output_type": "execute_result",
          "data": {
            "application/vnd.google.colaboratory.intrinsic+json": {
              "type": "string"
            },
            "text/plain": [
              "'/usr'"
            ]
          },
          "metadata": {
            "tags": []
          },
          "execution_count": 16
        }
      ]
    },
    {
      "cell_type": "markdown",
      "metadata": {
        "id": "fs8RgYwKXf14"
      },
      "source": [
        "Or you can import `importlib` and look at the `__file__` property to get an exact location:"
      ]
    },
    {
      "cell_type": "code",
      "metadata": {
        "id": "rRQzEhKbXf14"
      },
      "source": [
        "import importlib"
      ],
      "execution_count": 1,
      "outputs": []
    },
    {
      "cell_type": "code",
      "metadata": {
        "id": "dwxmUbZ4Xf19",
        "outputId": "ef07b3ef-7071-4b63-ed1e-8e148de524cd",
        "colab": {
          "base_uri": "https://localhost:8080/",
          "height": 35
        }
      },
      "source": [
        "importlib.__file__"
      ],
      "execution_count": 2,
      "outputs": [
        {
          "output_type": "execute_result",
          "data": {
            "application/vnd.google.colaboratory.intrinsic+json": {
              "type": "string"
            },
            "text/plain": [
              "'/usr/lib/python3.6/importlib/__init__.py'"
            ]
          },
          "metadata": {
            "tags": []
          },
          "execution_count": 2
        }
      ]
    },
    {
      "cell_type": "markdown",
      "metadata": {
        "id": "AMfGqSCQXf2B"
      },
      "source": [
        "or just see the string representation of the `importlib` object:"
      ]
    },
    {
      "cell_type": "code",
      "metadata": {
        "id": "HA1c4gvKXf2B",
        "outputId": "a9f95736-6e3c-416c-e9df-658f8218a835",
        "colab": {
          "base_uri": "https://localhost:8080/",
          "height": 34
        }
      },
      "source": [
        "importlib"
      ],
      "execution_count": 3,
      "outputs": [
        {
          "output_type": "execute_result",
          "data": {
            "text/plain": [
              "<module 'importlib' from '/usr/lib/python3.6/importlib/__init__.py'>"
            ]
          },
          "metadata": {
            "tags": []
          },
          "execution_count": 3
        }
      ]
    },
    {
      "cell_type": "markdown",
      "metadata": {
        "id": "rbShWbkMXf2L"
      },
      "source": [
        "You'll find something a little different - `importlib` is not actually a pure module (it's still a module type object) - it's actually a package - more on that later."
      ]
    },
    {
      "cell_type": "markdown",
      "metadata": {
        "id": "52cYsTGZXf2L"
      },
      "source": [
        "You should then use the `import_module` function to load a module."
      ]
    },
    {
      "cell_type": "markdown",
      "metadata": {
        "id": "g0rL4jhnXf2M"
      },
      "source": [
        "For example, we can load the `fractions` module as follows:"
      ]
    },
    {
      "cell_type": "code",
      "metadata": {
        "id": "63zr7VwRXf2N",
        "outputId": "ea7a6a95-7025-45e5-ed71-d408ecf8fd1d",
        "colab": {
          "base_uri": "https://localhost:8080/",
          "height": 34
        }
      },
      "source": [
        "importlib.import_module('fractions')"
      ],
      "execution_count": 4,
      "outputs": [
        {
          "output_type": "execute_result",
          "data": {
            "text/plain": [
              "<module 'fractions' from '/usr/lib/python3.6/fractions.py'>"
            ]
          },
          "metadata": {
            "tags": []
          },
          "execution_count": 4
        }
      ]
    },
    {
      "cell_type": "markdown",
      "metadata": {
        "id": "AYxLqVJ9Xf2S"
      },
      "source": [
        "The problem doing it this way is that **our** module namespace does not have a symbol for `fractions` (but it **is** in `sys.modules`):"
      ]
    },
    {
      "cell_type": "code",
      "metadata": {
        "id": "D_HlRLjkXf2T",
        "outputId": "aa5f4700-9dbe-4769-93ab-7c100c0fc631",
        "colab": {
          "base_uri": "https://localhost:8080/",
          "height": 163
        }
      },
      "source": [
        "f = fractions.Fraction(2, 3)"
      ],
      "execution_count": 5,
      "outputs": [
        {
          "output_type": "error",
          "ename": "NameError",
          "evalue": "ignored",
          "traceback": [
            "\u001b[0;31m---------------------------------------------------------------------------\u001b[0m",
            "\u001b[0;31mNameError\u001b[0m                                 Traceback (most recent call last)",
            "\u001b[0;32m<ipython-input-5-7cffbe0b297e>\u001b[0m in \u001b[0;36m<module>\u001b[0;34m()\u001b[0m\n\u001b[0;32m----> 1\u001b[0;31m \u001b[0mf\u001b[0m \u001b[0;34m=\u001b[0m \u001b[0mfractions\u001b[0m\u001b[0;34m.\u001b[0m\u001b[0mFraction\u001b[0m\u001b[0;34m(\u001b[0m\u001b[0;36m2\u001b[0m\u001b[0;34m,\u001b[0m \u001b[0;36m3\u001b[0m\u001b[0;34m)\u001b[0m\u001b[0;34m\u001b[0m\u001b[0;34m\u001b[0m\u001b[0m\n\u001b[0m",
            "\u001b[0;31mNameError\u001b[0m: name 'fractions' is not defined"
          ]
        }
      ]
    },
    {
      "cell_type": "code",
      "metadata": {
        "id": "QM76SyE4aczg",
        "outputId": "9cd2f8fb-a51a-4a03-eef9-557a6884cf93",
        "colab": {
          "base_uri": "https://localhost:8080/",
          "height": 163
        }
      },
      "source": [
        "globals()['fractions']"
      ],
      "execution_count": 6,
      "outputs": [
        {
          "output_type": "error",
          "ename": "KeyError",
          "evalue": "ignored",
          "traceback": [
            "\u001b[0;31m---------------------------------------------------------------------------\u001b[0m",
            "\u001b[0;31mKeyError\u001b[0m                                  Traceback (most recent call last)",
            "\u001b[0;32m<ipython-input-6-edc38a7abc25>\u001b[0m in \u001b[0;36m<module>\u001b[0;34m()\u001b[0m\n\u001b[0;32m----> 1\u001b[0;31m \u001b[0mglobals\u001b[0m\u001b[0;34m(\u001b[0m\u001b[0;34m)\u001b[0m\u001b[0;34m[\u001b[0m\u001b[0;34m'fractions'\u001b[0m\u001b[0;34m]\u001b[0m\u001b[0;34m\u001b[0m\u001b[0;34m\u001b[0m\u001b[0m\n\u001b[0m",
            "\u001b[0;31mKeyError\u001b[0m: 'fractions'"
          ]
        }
      ]
    },
    {
      "cell_type": "markdown",
      "metadata": {
        "id": "qTzunw0nXf2W"
      },
      "source": [
        "So instead we would have to do it the same way we did it with our own custom importer:"
      ]
    },
    {
      "cell_type": "code",
      "metadata": {
        "id": "9iDTl7CaXf2W"
      },
      "source": [
        "fractions = importlib.import_module('fractions')"
      ],
      "execution_count": 7,
      "outputs": []
    },
    {
      "cell_type": "markdown",
      "metadata": {
        "id": "Su9bYoxvXf2Z"
      },
      "source": [
        "And now we have a symbol for the `fractions` object."
      ]
    },
    {
      "cell_type": "code",
      "metadata": {
        "id": "n4TvHUFyXf2a"
      },
      "source": [
        "f = fractions.Fraction(2, 3)"
      ],
      "execution_count": 8,
      "outputs": []
    },
    {
      "cell_type": "code",
      "metadata": {
        "id": "kc0Mw7AGXf2d",
        "outputId": "97082ed5-d5ca-4b11-b3d1-3c3271a62782",
        "colab": {
          "base_uri": "https://localhost:8080/",
          "height": 34
        }
      },
      "source": [
        "f"
      ],
      "execution_count": 9,
      "outputs": [
        {
          "output_type": "execute_result",
          "data": {
            "text/plain": [
              "Fraction(2, 3)"
            ]
          },
          "metadata": {
            "tags": []
          },
          "execution_count": 9
        }
      ]
    },
    {
      "cell_type": "markdown",
      "metadata": {
        "id": "oHak-eMIXf2i"
      },
      "source": [
        "One thing I briefly alluded to earlier, we can import from a variety of \"sources\".\n",
        "\n",
        "Often it is from file, such as with `fractions`:"
      ]
    },
    {
      "cell_type": "code",
      "metadata": {
        "id": "-3UZcPolXf2j",
        "outputId": "55b236cd-4bf2-4811-b383-720781dfca61",
        "colab": {
          "base_uri": "https://localhost:8080/",
          "height": 34
        }
      },
      "source": [
        "fractions"
      ],
      "execution_count": 10,
      "outputs": [
        {
          "output_type": "execute_result",
          "data": {
            "text/plain": [
              "<module 'fractions' from '/usr/lib/python3.6/fractions.py'>"
            ]
          },
          "metadata": {
            "tags": []
          },
          "execution_count": 10
        }
      ]
    },
    {
      "cell_type": "markdown",
      "metadata": {
        "id": "ymKsKOvXXf2n"
      },
      "source": [
        "Sometimes it is built in to Python directly:"
      ]
    },
    {
      "cell_type": "code",
      "metadata": {
        "id": "ub_UU4rLXf2o"
      },
      "source": [
        "import math"
      ],
      "execution_count": 11,
      "outputs": []
    },
    {
      "cell_type": "code",
      "metadata": {
        "id": "xQIYuCc-Xf2r",
        "outputId": "f24214d7-c5ea-486e-88fe-68a379c3e425",
        "colab": {
          "base_uri": "https://localhost:8080/",
          "height": 34
        }
      },
      "source": [
        "math"
      ],
      "execution_count": 12,
      "outputs": [
        {
          "output_type": "execute_result",
          "data": {
            "text/plain": [
              "<module 'math' (built-in)>"
            ]
          },
          "metadata": {
            "tags": []
          },
          "execution_count": 12
        }
      ]
    },
    {
      "cell_type": "markdown",
      "metadata": {
        "id": "SxU4smC8Xf2v"
      },
      "source": [
        "In Python there are a number of files that are \"code\" files, such as\n",
        "\n",
        "* `.py`: basic text file containing Python code\n",
        "* `.pyc`: compiled Python code (bytecode)\n",
        "* `.so`, `.pyd`: think DLL's (Linux / Windows)\n",
        "\n",
        "amongst others. Furthermore, Python can reach inside `zip` archives for code (as well as other packaged distribution files such as those used by Egg or Wheel)."
      ]
    },
    {
      "cell_type": "markdown",
      "metadata": {
        "id": "_tqtTBJSXf2v"
      },
      "source": [
        "In very broad terms the import system, once the \"source\" code has been located works.\n",
        "\n",
        "A lot of the complexity comes from locating a module when we try to import it."
      ]
    },
    {
      "cell_type": "markdown",
      "metadata": {
        "id": "O3_DRf_SXf2w"
      },
      "source": [
        "Conceptually Python divides the work between **finders** and **loaders**.\n",
        "\n",
        "The **finders** are responsible for finding the module/package and returning the module spec, while the **loaders**, are responsible for \"loading\" the source code that is then used in the final steps to compile, execute and cache the module object. An object that implements both is called an **importer** - but they are still two separate concepts."
      ]
    },
    {
      "cell_type": "markdown",
      "metadata": {
        "id": "6t2-jIK1Xf2x"
      },
      "source": [
        "Python provides a number of standard finders and importers, such as:\n",
        "\n",
        "* built-in modules\n",
        "* frozen modules\n",
        "* import path finder (finds source code files on the import path - for example the `sys.path` entries we have seen before)\n",
        "\n",
        "What's interesting about the import path finder and loader is that they can search (and load from) zip archives.\n",
        "\n",
        "In fact it can even be extended to search other resources, including url's, databases, etc. You could theoretically store code in a Mongo or Redis database and import directly from there!"
      ]
    },
    {
      "cell_type": "markdown",
      "metadata": {
        "id": "ME3pzsxrXf2x"
      },
      "source": [
        "Let's look at the module spec for `fractions`:"
      ]
    },
    {
      "cell_type": "code",
      "metadata": {
        "id": "vN7WYRcEXf2y",
        "outputId": "f0e066ca-0951-4ea6-9248-74abb493812b",
        "colab": {
          "base_uri": "https://localhost:8080/",
          "height": 34
        }
      },
      "source": [
        "fractions.__spec__"
      ],
      "execution_count": 13,
      "outputs": [
        {
          "output_type": "execute_result",
          "data": {
            "text/plain": [
              "ModuleSpec(name='fractions', loader=<_frozen_importlib_external.SourceFileLoader object at 0x7fb6fc2bb630>, origin='/usr/lib/python3.6/fractions.py')"
            ]
          },
          "metadata": {
            "tags": []
          },
          "execution_count": 13
        }
      ]
    },
    {
      "cell_type": "markdown",
      "metadata": {
        "id": "xSMzsCAOXf21"
      },
      "source": [
        "As you can see the finder determined where the source code was located, and also indicated that the loader to be used is the SourceFileLoader.\n",
        "\n",
        "How does Python know which finder to use in the first place?\n",
        "\n",
        "It doesn't really - it will go through a bunch of finders, one by one, until one returns a module spec - if it exhausts all the registered finders and finds nothing, then we get the module not found exception:"
      ]
    },
    {
      "cell_type": "code",
      "metadata": {
        "id": "08oXZyILXf22",
        "outputId": "69efdfa0-d921-4091-fd30-6104a7686b0f"
      },
      "source": [
        "import foo"
      ],
      "execution_count": null,
      "outputs": [
        {
          "output_type": "error",
          "ename": "ModuleNotFoundError",
          "evalue": "No module named 'foo'",
          "traceback": [
            "\u001b[1;31m---------------------------------------------------------------------------\u001b[0m",
            "\u001b[1;31mModuleNotFoundError\u001b[0m                       Traceback (most recent call last)",
            "\u001b[1;32m<ipython-input-15-34d390fb3acc>\u001b[0m in \u001b[0;36m<module>\u001b[1;34m()\u001b[0m\n\u001b[1;32m----> 1\u001b[1;33m \u001b[1;32mimport\u001b[0m \u001b[0mfoo\u001b[0m\u001b[1;33m\u001b[0m\u001b[0m\n\u001b[0m",
            "\u001b[1;31mModuleNotFoundError\u001b[0m: No module named 'foo'"
          ]
        }
      ]
    },
    {
      "cell_type": "markdown",
      "metadata": {
        "id": "0ogGyYA5Xf26"
      },
      "source": [
        "Here are the finders currently registered on my system:"
      ]
    },
    {
      "cell_type": "code",
      "metadata": {
        "id": "kZKQA_99Xf26",
        "outputId": "b6f69ed9-2ee6-498a-e49b-eee37dc8ec5b",
        "colab": {
          "base_uri": "https://localhost:8080/",
          "height": 170
        }
      },
      "source": [
        "sys.meta_path"
      ],
      "execution_count": 17,
      "outputs": [
        {
          "output_type": "execute_result",
          "data": {
            "text/plain": [
              "[<google.colab._import_hooks._cv2._OpenCVImportHook at 0x7fb6fcbd79b0>,\n",
              " <google.colab._import_hooks._bokeh._BokehImportHook at 0x7fb6fcbd72e8>,\n",
              " <google.colab._import_hooks._altair._AltairImportHook at 0x7fb6fcbd72b0>,\n",
              " _frozen_importlib.BuiltinImporter,\n",
              " _frozen_importlib.FrozenImporter,\n",
              " _frozen_importlib_external.PathFinder,\n",
              " <six._SixMetaPathImporter at 0x7fb715ce7cf8>,\n",
              " <pkg_resources.extern.VendorImporter at 0x7fb714510128>,\n",
              " <urllib3.packages.six._SixMetaPathImporter at 0x7fb6f654a390>]"
            ]
          },
          "metadata": {
            "tags": []
          },
          "execution_count": 17
        }
      ]
    },
    {
      "cell_type": "markdown",
      "metadata": {
        "id": "xVfmuUDhXf28"
      },
      "source": [
        "When we import our custom file-based modules, the `PathFinder` will be used to find the file."
      ]
    },
    {
      "cell_type": "markdown",
      "metadata": {
        "id": "hUYx7PPgXf29"
      },
      "source": [
        "We can also use `importlib` to find the spec for a particular module:"
      ]
    },
    {
      "cell_type": "code",
      "metadata": {
        "id": "rCRlKVgtXf29",
        "outputId": "464cf737-39fd-429e-abed-4c1922734017",
        "colab": {
          "base_uri": "https://localhost:8080/",
          "height": 34
        }
      },
      "source": [
        "importlib.util.find_spec('math')"
      ],
      "execution_count": 18,
      "outputs": [
        {
          "output_type": "execute_result",
          "data": {
            "text/plain": [
              "ModuleSpec(name='math', loader=<class '_frozen_importlib.BuiltinImporter'>, origin='built-in')"
            ]
          },
          "metadata": {
            "tags": []
          },
          "execution_count": 18
        }
      ]
    },
    {
      "cell_type": "code",
      "metadata": {
        "id": "ZhQTx03eXf3A",
        "outputId": "05c1bbf6-12bf-4167-a12d-88719c2c0dc0",
        "colab": {
          "base_uri": "https://localhost:8080/",
          "height": 34
        }
      },
      "source": [
        "importlib.util.find_spec('fractions')"
      ],
      "execution_count": 19,
      "outputs": [
        {
          "output_type": "execute_result",
          "data": {
            "text/plain": [
              "ModuleSpec(name='fractions', loader=<_frozen_importlib_external.SourceFileLoader object at 0x7fb6fc2bb630>, origin='/usr/lib/python3.6/fractions.py')"
            ]
          },
          "metadata": {
            "tags": []
          },
          "execution_count": 19
        }
      ]
    },
    {
      "cell_type": "markdown",
      "metadata": {
        "id": "qmxFdAbrXf3E"
      },
      "source": [
        "Let's write out a small source file to disk, called module1.py:"
      ]
    },
    {
      "cell_type": "code",
      "metadata": {
        "id": "wnay9CB3Xf3F"
      },
      "source": [
        "with open('module1.py', 'w') as code_file:\n",
        "    code_file.write(\"print('running module1.py...')\\n\")\n",
        "    code_file.write('a = 100\\n')"
      ],
      "execution_count": null,
      "outputs": []
    },
    {
      "cell_type": "markdown",
      "metadata": {
        "id": "dnv0Ir8EXf3H"
      },
      "source": [
        "Now that we have the module on disk, we can ask `importlib` for the module spec:"
      ]
    },
    {
      "cell_type": "code",
      "metadata": {
        "id": "GcXPFKetXf3I",
        "outputId": "9d296545-0b8f-4703-e76f-8640921800b5"
      },
      "source": [
        "importlib.util.find_spec('module1')"
      ],
      "execution_count": null,
      "outputs": [
        {
          "output_type": "execute_result",
          "data": {
            "text/plain": [
              "ModuleSpec(name='module1', loader=<_frozen_importlib_external.SourceFileLoader object at 0x00000154B8435390>, origin='d:\\\\fbapt\\\\Dropbox\\\\Python Deep Dive\\\\Section 09 - Modules, Packages and Namespaces\\\\04 - Imports and importlib\\\\module1.py')"
            ]
          },
          "metadata": {
            "tags": []
          },
          "execution_count": 20
        }
      ]
    },
    {
      "cell_type": "markdown",
      "metadata": {
        "id": "wEGVYgMCXf3L"
      },
      "source": [
        "As you can see, it found the file and indicated it would be imported using the SourceFileLoader."
      ]
    },
    {
      "cell_type": "markdown",
      "metadata": {
        "id": "8fvOP9z4Xf3M"
      },
      "source": [
        "Now let's go ahead and actually import it:"
      ]
    },
    {
      "cell_type": "code",
      "metadata": {
        "id": "XZyAaSWtXf3N",
        "outputId": "e4334f78-c6e2-4fa4-c0b3-ee8c267f4efc"
      },
      "source": [
        "import module1"
      ],
      "execution_count": null,
      "outputs": [
        {
          "output_type": "stream",
          "text": [
            "running module1.py...\n"
          ],
          "name": "stdout"
        }
      ]
    },
    {
      "cell_type": "code",
      "metadata": {
        "id": "JXUVsrcNXf3Q",
        "outputId": "03abf716-a1df-4a0d-e798-369b1cdc9f2c"
      },
      "source": [
        "module1.a"
      ],
      "execution_count": null,
      "outputs": [
        {
          "output_type": "execute_result",
          "data": {
            "text/plain": [
              "100"
            ]
          },
          "metadata": {
            "tags": []
          },
          "execution_count": 22
        }
      ]
    },
    {
      "cell_type": "markdown",
      "metadata": {
        "id": "u3vz92KlXf3V"
      },
      "source": [
        "Now let's go ahead and write a file somewhere other than our source folder - you'll have to change this code to specify your path where you want that module file to be created:"
      ]
    },
    {
      "cell_type": "code",
      "metadata": {
        "id": "o7fxW-L7Xf3W"
      },
      "source": [
        "import os\n",
        "\n",
        "# you can use this for Mac/Linux:\n",
        "# ext_module_path = os.environ['HOME']\n",
        "\n",
        "# you can use this in Windows 10\n",
        "#ext_module_path = os.environ['HOMEPATH']\n",
        "\n",
        "# or you can just hard code some path\n",
        "# ext_module_path = 'c:\\\\temp' \n",
        "\n",
        "ext_module_path = os.environ.get('HOME', os.environ['HOMEPATH'])"
      ],
      "execution_count": null,
      "outputs": []
    },
    {
      "cell_type": "code",
      "metadata": {
        "id": "VB4mbnC5Xf3Y",
        "outputId": "d5f88a5e-575c-4a2b-d412-c86cf0b2da79"
      },
      "source": [
        "ext_module_path"
      ],
      "execution_count": null,
      "outputs": [
        {
          "output_type": "execute_result",
          "data": {
            "text/plain": [
              "'\\\\Users\\\\fbapt'"
            ]
          },
          "metadata": {
            "tags": []
          },
          "execution_count": 24
        }
      ]
    },
    {
      "cell_type": "code",
      "metadata": {
        "id": "rlA1ySVsXf3b"
      },
      "source": [
        "file_abs_path = os.path.join(ext_module_path, 'module2.py')\n",
        "with open(file_abs_path, 'w') as code_file:\n",
        "    code_file.write(\"print('running module2.py...')\\n\")\n",
        "    code_file.write(\"x = 'python'\\n\")"
      ],
      "execution_count": null,
      "outputs": []
    },
    {
      "cell_type": "markdown",
      "metadata": {
        "id": "24ZWJMVfXf3f"
      },
      "source": [
        "Let's see if Python can figure the module spec:"
      ]
    },
    {
      "cell_type": "code",
      "metadata": {
        "id": "QHJGYRLaXf3h"
      },
      "source": [
        "importlib.util.find_spec('module2')"
      ],
      "execution_count": null,
      "outputs": []
    },
    {
      "cell_type": "markdown",
      "metadata": {
        "id": "9UDOU9uSXf3k"
      },
      "source": [
        "Nothing came back - it was not able to locate that module anywhere..."
      ]
    },
    {
      "cell_type": "code",
      "metadata": {
        "id": "fTfW-xcaXf3k",
        "outputId": "66fc1070-a35f-41af-cb3e-c4702d220e3b"
      },
      "source": [
        "import module2"
      ],
      "execution_count": null,
      "outputs": [
        {
          "output_type": "error",
          "ename": "ModuleNotFoundError",
          "evalue": "No module named 'module2'",
          "traceback": [
            "\u001b[1;31m---------------------------------------------------------------------------\u001b[0m",
            "\u001b[1;31mModuleNotFoundError\u001b[0m                       Traceback (most recent call last)",
            "\u001b[1;32m<ipython-input-27-4fbab195dd19>\u001b[0m in \u001b[0;36m<module>\u001b[1;34m()\u001b[0m\n\u001b[1;32m----> 1\u001b[1;33m \u001b[1;32mimport\u001b[0m \u001b[0mmodule2\u001b[0m\u001b[1;33m\u001b[0m\u001b[0m\n\u001b[0m",
            "\u001b[1;31mModuleNotFoundError\u001b[0m: No module named 'module2'"
          ]
        }
      ]
    },
    {
      "cell_type": "markdown",
      "metadata": {
        "id": "6O2rHF1nXf3o"
      },
      "source": [
        "As expected, the import failed."
      ]
    },
    {
      "cell_type": "markdown",
      "metadata": {
        "id": "XkOsO2r2Xf3o"
      },
      "source": [
        "By the way, you can use `try...except` for your imports!"
      ]
    },
    {
      "cell_type": "code",
      "metadata": {
        "id": "KzvV1_CrXf3p",
        "outputId": "a3159bcf-4899-4900-8ab2-6038844c367c"
      },
      "source": [
        "try:\n",
        "    import module2\n",
        "except ModuleNotFoundError:\n",
        "    # could not find module\n",
        "    # maybe import an alternative module instead??\n",
        "    # e.g. import module1 as module2\n",
        "    # but please do not just silence the exception!\n",
        "    # if you're importing the module most likely you are\n",
        "    # using it somewhere in your code - so raise an \n",
        "    # exception at the precise location where the root cause\n",
        "    # occurred!\n",
        "    # so the following is BAD!!\n",
        "    print('Module was not found.')"
      ],
      "execution_count": null,
      "outputs": [
        {
          "output_type": "stream",
          "text": [
            "Module was not found.\n"
          ],
          "name": "stdout"
        }
      ]
    },
    {
      "cell_type": "markdown",
      "metadata": {
        "id": "s6nlAMqqXf3t"
      },
      "source": [
        "The module was not found because `sys.path` knows nothing about `ext_module_path`."
      ]
    },
    {
      "cell_type": "code",
      "metadata": {
        "id": "pbviCKThXf3t",
        "outputId": "6a121298-763e-402d-a4bc-a0c56701ccc7"
      },
      "source": [
        "ext_module_path in sys.path"
      ],
      "execution_count": null,
      "outputs": [
        {
          "output_type": "execute_result",
          "data": {
            "text/plain": [
              "False"
            ]
          },
          "metadata": {
            "tags": []
          },
          "execution_count": 29
        }
      ]
    },
    {
      "cell_type": "markdown",
      "metadata": {
        "id": "Zy_P-qG9Xf3x"
      },
      "source": [
        "So, let's add it!"
      ]
    },
    {
      "cell_type": "code",
      "metadata": {
        "id": "lTajdn_0Xf3x"
      },
      "source": [
        "sys.path.append(ext_module_path)"
      ],
      "execution_count": null,
      "outputs": []
    },
    {
      "cell_type": "markdown",
      "metadata": {
        "id": "YZ2cBWWpXf35"
      },
      "source": [
        "Now let's try finding the module spec again:"
      ]
    },
    {
      "cell_type": "code",
      "metadata": {
        "id": "2pET4O1qXf35",
        "outputId": "ebd9c1aa-83f1-41b8-b746-ef411297d275"
      },
      "source": [
        "importlib.util.find_spec('module2')"
      ],
      "execution_count": null,
      "outputs": [
        {
          "output_type": "execute_result",
          "data": {
            "text/plain": [
              "ModuleSpec(name='module2', loader=<_frozen_importlib_external.SourceFileLoader object at 0x00000154B84356A0>, origin='\\\\Users\\\\fbapt\\\\module2.py')"
            ]
          },
          "metadata": {
            "tags": []
          },
          "execution_count": 31
        }
      ]
    },
    {
      "cell_type": "markdown",
      "metadata": {
        "id": "-a_VQ3evXf38"
      },
      "source": [
        "Hurray! Our import should now work..."
      ]
    },
    {
      "cell_type": "code",
      "metadata": {
        "id": "uDlhXnlKXf39",
        "outputId": "bcb29303-6026-4fbe-9c73-5da125e09dbd"
      },
      "source": [
        "import module2"
      ],
      "execution_count": null,
      "outputs": [
        {
          "output_type": "stream",
          "text": [
            "running module2.py...\n"
          ],
          "name": "stdout"
        }
      ]
    },
    {
      "cell_type": "code",
      "metadata": {
        "id": "JChXA6FXXf4A",
        "outputId": "9673c340-ef79-413f-a20c-75f5dbabfb6a"
      },
      "source": [
        "module2.x"
      ],
      "execution_count": null,
      "outputs": [
        {
          "output_type": "execute_result",
          "data": {
            "text/plain": [
              "'python'"
            ]
          },
          "metadata": {
            "tags": []
          },
          "execution_count": 33
        }
      ]
    },
    {
      "cell_type": "markdown",
      "metadata": {
        "id": "goruyg-QXf4F"
      },
      "source": [
        "We can \"hack\" the `sys.path` list by adding our own entries directly - but this means we would have to hard code these paths in our code, or potentially read them from a configuration file.\n",
        "\n",
        "It's perfectly fine to do that, but you may prefer using `.pth` files for that.\n",
        "\n",
        "The Python docs are located here:\n",
        "\n",
        "https://docs.python.org/3/library/site.html"
      ]
    },
    {
      "cell_type": "code",
      "metadata": {
        "id": "e2NhqZd_1eJc"
      },
      "source": [
        ""
      ],
      "execution_count": null,
      "outputs": []
    }
  ]
}