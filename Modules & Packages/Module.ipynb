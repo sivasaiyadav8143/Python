{
  "nbformat": 4,
  "nbformat_minor": 0,
  "metadata": {
    "kernelspec": {
      "display_name": "Python 3",
      "language": "python",
      "name": "python3"
    },
    "language_info": {
      "codemirror_mode": {
        "name": "ipython",
        "version": 3
      },
      "file_extension": ".py",
      "mimetype": "text/x-python",
      "name": "python",
      "nbconvert_exporter": "python",
      "pygments_lexer": "ipython3",
      "version": "3.6.2"
    },
    "colab": {
      "name": "Module.ipynb",
      "provenance": [],
      "collapsed_sections": []
    }
  },
  "cells": [
    {
      "cell_type": "markdown",
      "metadata": {
        "id": "-6GomtGA8ikF"
      },
      "source": [
        "### What is a Module?"
      ]
    },
    {
      "cell_type": "markdown",
      "metadata": {
        "id": "7cCGf5J68ikI"
      },
      "source": [
        "A module is simply another data type. And the modules we use are instances of that data type."
      ]
    },
    {
      "cell_type": "code",
      "metadata": {
        "id": "uwJ4J6Eu8ikK"
      },
      "source": [
        "import math"
      ],
      "execution_count": 8,
      "outputs": []
    },
    {
      "cell_type": "markdown",
      "metadata": {
        "id": "gfdM_vHY8ikU"
      },
      "source": [
        "That word `math` is simply a label (think variable name) in our (global) namespace that points to some object in memory that is the `math` module."
      ]
    },
    {
      "cell_type": "markdown",
      "metadata": {
        "id": "YbGsDOz58ikV"
      },
      "source": [
        "Let's see what is in our global namespace:"
      ]
    },
    {
      "cell_type": "code",
      "metadata": {
        "id": "W7TfK6LM8ikW",
        "outputId": "c4eac5ee-f11f-46c4-a243-6a4ed619d953",
        "colab": {
          "base_uri": "https://localhost:8080/",
          "height": 901
        }
      },
      "source": [
        "globals()"
      ],
      "execution_count": 9,
      "outputs": [
        {
          "output_type": "execute_result",
          "data": {
            "text/plain": [
              "{'In': ['',\n",
              "  'def add()\\n  a,b = 10,20\\n  print(locals())',\n",
              "  'add()',\n",
              "  'def add()\\n  a,b = 10,20\\n  print(locals())',\n",
              "  'add()',\n",
              "  'def add():\\n  a,b = 10,20\\n  print(locals())',\n",
              "  'add()',\n",
              "  'locals is globals',\n",
              "  'import math',\n",
              "  'globals()'],\n",
              " 'Out': {7: False},\n",
              " '_': False,\n",
              " '_7': False,\n",
              " '__': '',\n",
              " '___': '',\n",
              " '__builtin__': <module 'builtins' (built-in)>,\n",
              " '__builtins__': <module 'builtins' (built-in)>,\n",
              " '__doc__': 'Automatically created module for IPython interactive environment',\n",
              " '__loader__': None,\n",
              " '__name__': '__main__',\n",
              " '__package__': None,\n",
              " '__spec__': None,\n",
              " '_dh': ['/content'],\n",
              " '_i': 'import math',\n",
              " '_i1': 'def add()\\n  a,b = 10,20\\n  print(locals())',\n",
              " '_i2': 'add()',\n",
              " '_i3': 'def add()\\n  a,b = 10,20\\n  print(locals())',\n",
              " '_i4': 'add()',\n",
              " '_i5': 'def add():\\n  a,b = 10,20\\n  print(locals())',\n",
              " '_i6': 'add()',\n",
              " '_i7': 'locals is globals',\n",
              " '_i8': 'import math',\n",
              " '_i9': 'globals()',\n",
              " '_ih': ['',\n",
              "  'def add()\\n  a,b = 10,20\\n  print(locals())',\n",
              "  'add()',\n",
              "  'def add()\\n  a,b = 10,20\\n  print(locals())',\n",
              "  'add()',\n",
              "  'def add():\\n  a,b = 10,20\\n  print(locals())',\n",
              "  'add()',\n",
              "  'locals is globals',\n",
              "  'import math',\n",
              "  'globals()'],\n",
              " '_ii': 'locals is globals',\n",
              " '_iii': 'add()',\n",
              " '_oh': {7: False},\n",
              " '_sh': <module 'IPython.core.shadowns' from '/usr/local/lib/python3.6/dist-packages/IPython/core/shadowns.py'>,\n",
              " 'add': <function __main__.add>,\n",
              " 'exit': <IPython.core.autocall.ZMQExitAutocall at 0x7f63480666a0>,\n",
              " 'get_ipython': <bound method InteractiveShell.get_ipython of <google.colab._shell.Shell object at 0x7f6356adce10>>,\n",
              " 'math': <module 'math' (built-in)>,\n",
              " 'quit': <IPython.core.autocall.ZMQExitAutocall at 0x7f63480666a0>}"
            ]
          },
          "metadata": {
            "tags": []
          },
          "execution_count": 9
        }
      ]
    },
    {
      "cell_type": "code",
      "metadata": {
        "id": "BDGh48xx8ikd",
        "outputId": "0d6f26d3-1d61-47bd-bc79-e30954365961",
        "colab": {
          "base_uri": "https://localhost:8080/",
          "height": 34
        }
      },
      "source": [
        "globals()['math']"
      ],
      "execution_count": 10,
      "outputs": [
        {
          "output_type": "execute_result",
          "data": {
            "text/plain": [
              "<module 'math' (built-in)>"
            ]
          },
          "metadata": {
            "tags": []
          },
          "execution_count": 10
        }
      ]
    },
    {
      "cell_type": "code",
      "metadata": {
        "id": "1I85EuOi8ikh",
        "outputId": "e64a6ff6-71d7-4549-c272-635ee4262d6e",
        "colab": {
          "base_uri": "https://localhost:8080/",
          "height": 34
        }
      },
      "source": [
        "type(math)"
      ],
      "execution_count": 11,
      "outputs": [
        {
          "output_type": "execute_result",
          "data": {
            "text/plain": [
              "module"
            ]
          },
          "metadata": {
            "tags": []
          },
          "execution_count": 11
        }
      ]
    },
    {
      "cell_type": "code",
      "metadata": {
        "id": "YUwKDvoz8ikl",
        "outputId": "4a53c0a2-307b-4c9a-b891-4c10fac6e71f",
        "colab": {
          "base_uri": "https://localhost:8080/",
          "height": 34
        }
      },
      "source": [
        "math"
      ],
      "execution_count": 12,
      "outputs": [
        {
          "output_type": "execute_result",
          "data": {
            "text/plain": [
              "<module 'math' (built-in)>"
            ]
          },
          "metadata": {
            "tags": []
          },
          "execution_count": 12
        }
      ]
    },
    {
      "cell_type": "markdown",
      "metadata": {
        "id": "nuwCVe-v_mDo"
      },
      "source": [
        "When you call local outside of a function, local is same as global"
      ]
    },
    {
      "cell_type": "code",
      "metadata": {
        "id": "81j_qO-8_lQW",
        "outputId": "2c2929ad-89a8-48dd-b01f-336f9b33a638",
        "colab": {
          "base_uri": "https://localhost:8080/",
          "height": 34
        }
      },
      "source": [
        "locals() is globals()"
      ],
      "execution_count": 14,
      "outputs": [
        {
          "output_type": "execute_result",
          "data": {
            "text/plain": [
              "True"
            ]
          },
          "metadata": {
            "tags": []
          },
          "execution_count": 14
        }
      ]
    },
    {
      "cell_type": "code",
      "metadata": {
        "id": "obm69Aua_NiG"
      },
      "source": [
        "def add():\n",
        "  a,b = 10,20\n",
        "  print(locals())"
      ],
      "execution_count": 5,
      "outputs": []
    },
    {
      "cell_type": "code",
      "metadata": {
        "id": "JLhky5aG_Vhe",
        "outputId": "5993c298-13f4-4006-99fb-74b2c9fc4294",
        "colab": {
          "base_uri": "https://localhost:8080/",
          "height": 34
        }
      },
      "source": [
        "add()"
      ],
      "execution_count": 6,
      "outputs": [
        {
          "output_type": "stream",
          "text": [
            "{'b': 20, 'a': 10}\n"
          ],
          "name": "stdout"
        }
      ]
    },
    {
      "cell_type": "markdown",
      "metadata": {
        "id": "OLMe-4Ie8ikr"
      },
      "source": [
        "It's just an object of type `module`, and it even has a memory address:"
      ]
    },
    {
      "cell_type": "code",
      "metadata": {
        "id": "XYW4DKri8iks",
        "outputId": "fc05e6c3-9a11-4c10-a270-94670e67500d"
      },
      "source": [
        "id(math)"
      ],
      "execution_count": null,
      "outputs": [
        {
          "output_type": "execute_result",
          "data": {
            "text/plain": [
              "1847086390312"
            ]
          },
          "metadata": {
            "tags": []
          },
          "execution_count": 6
        }
      ]
    },
    {
      "cell_type": "markdown",
      "metadata": {
        "id": "8jZnysIs8ikx"
      },
      "source": [
        "Take note of this memory address, we'll want to refer to it later!\n",
        "\n",
        "Let me show you what happens if I set the `math` **label** to `None` (I could even use `del globals()['math']`:"
      ]
    },
    {
      "cell_type": "code",
      "metadata": {
        "id": "KCOC1Vgh8iky"
      },
      "source": [
        "math = None"
      ],
      "execution_count": null,
      "outputs": []
    },
    {
      "cell_type": "code",
      "metadata": {
        "id": "YhuUS7Wt8ik3",
        "outputId": "f63a6bb7-d5b3-4080-fc5a-d9d2c1f4a520"
      },
      "source": [
        "type(math)"
      ],
      "execution_count": null,
      "outputs": [
        {
          "output_type": "execute_result",
          "data": {
            "text/plain": [
              "NoneType"
            ]
          },
          "metadata": {
            "tags": []
          },
          "execution_count": 15
        }
      ]
    },
    {
      "cell_type": "code",
      "metadata": {
        "id": "rswIE1Ze8ik8",
        "outputId": "6720aac2-57bc-41db-a6eb-948cc500fa60"
      },
      "source": [
        "id(math)"
      ],
      "execution_count": null,
      "outputs": [
        {
          "output_type": "execute_result",
          "data": {
            "text/plain": [
              "1800367120"
            ]
          },
          "metadata": {
            "tags": []
          },
          "execution_count": 16
        }
      ]
    },
    {
      "cell_type": "markdown",
      "metadata": {
        "id": "dEdHKHMg8ik_"
      },
      "source": [
        "As you can see the label `math` now points to something else.\n",
        "\n",
        "Let me re-import it:"
      ]
    },
    {
      "cell_type": "code",
      "metadata": {
        "id": "vWkKHpNF8ilA"
      },
      "source": [
        "import math"
      ],
      "execution_count": null,
      "outputs": []
    },
    {
      "cell_type": "markdown",
      "metadata": {
        "id": "rPaBOSE48ilE"
      },
      "source": [
        "And now we can see:"
      ]
    },
    {
      "cell_type": "code",
      "metadata": {
        "id": "GoEWaioq8ilG",
        "outputId": "8f19ae40-7258-4a6f-fad6-87dfea694a54"
      },
      "source": [
        "math"
      ],
      "execution_count": null,
      "outputs": [
        {
          "output_type": "execute_result",
          "data": {
            "text/plain": [
              "<module 'math' (built-in)>"
            ]
          },
          "metadata": {
            "tags": []
          },
          "execution_count": 18
        }
      ]
    },
    {
      "cell_type": "code",
      "metadata": {
        "id": "ESarDK1L8ilL",
        "outputId": "c9e7bfba-0805-4bb7-8bd2-594e4b9a5a9e"
      },
      "source": [
        "id(math)"
      ],
      "execution_count": null,
      "outputs": [
        {
          "output_type": "execute_result",
          "data": {
            "text/plain": [
              "1847086390312"
            ]
          },
          "metadata": {
            "tags": []
          },
          "execution_count": 19
        }
      ]
    },
    {
      "cell_type": "markdown",
      "metadata": {
        "id": "HFhk--iK8ilT"
      },
      "source": [
        "You'll notice that the label `math` now is the **same** memory address as the first time we ran the import."
      ]
    },
    {
      "cell_type": "markdown",
      "metadata": {
        "id": "Cvb2mcxZ8ilT"
      },
      "source": [
        "**NOTE**: Please do not do this in your code. You never what side effects you may encounter - I just showed you this to make a point - when I ran the import the second time, I obtained a label that pointed to the **same** object."
      ]
    },
    {
      "cell_type": "markdown",
      "metadata": {
        "id": "z5FxAf3g8ilT"
      },
      "source": [
        "What happens is that when you import a module, it is not actually loaded into the module's namespace only. Instead, the module is loaded into an overarching global system dictionary that contains the module name and the reference to the module object. The name we see here is \"copied\" into our namespace from that system namespace."
      ]
    },
    {
      "cell_type": "markdown",
      "metadata": {
        "id": "Xk-5h5VL8ilU"
      },
      "source": [
        "If we had a project with multiple modules that each imported `math`, Python will load the `math` module the first time it is requested and put it into memory.\n",
        "\n",
        "The next time the `math` module is imported (in some different module), Python always looks at the system modules first - if it is there it simply copies that reference into our module's namespace and sets the label accordingly."
      ]
    },
    {
      "cell_type": "markdown",
      "metadata": {
        "id": "i3tN2pTq8ilU"
      },
      "source": [
        "Let's take a look at the system modules:"
      ]
    },
    {
      "cell_type": "code",
      "metadata": {
        "id": "IksiqX1l8ilV"
      },
      "source": [
        "import sys"
      ],
      "execution_count": null,
      "outputs": []
    },
    {
      "cell_type": "code",
      "metadata": {
        "id": "70lxJqJ08ilZ",
        "outputId": "8a4b3b06-c883-4a73-f9a7-ee2dd67ddc2c"
      },
      "source": [
        "type(sys.modules)"
      ],
      "execution_count": null,
      "outputs": [
        {
          "output_type": "execute_result",
          "data": {
            "text/plain": [
              "dict"
            ]
          },
          "metadata": {
            "tags": []
          },
          "execution_count": 24
        }
      ]
    },
    {
      "cell_type": "markdown",
      "metadata": {
        "id": "NtKiGQSN8ilc"
      },
      "source": [
        "The `sys.modules` currently contains a **lot** of entries, so I'm just going to look at the one we're interested in - the `math` module:"
      ]
    },
    {
      "cell_type": "code",
      "metadata": {
        "id": "fghWzCAa8ilc",
        "outputId": "915ebe45-6668-4fac-aaa2-100f33db645a"
      },
      "source": [
        "sys.modules['math']"
      ],
      "execution_count": null,
      "outputs": [
        {
          "output_type": "execute_result",
          "data": {
            "text/plain": [
              "<module 'math' (built-in)>"
            ]
          },
          "metadata": {
            "tags": []
          },
          "execution_count": 27
        }
      ]
    },
    {
      "cell_type": "markdown",
      "metadata": {
        "id": "5_H8OLhA8ilf"
      },
      "source": [
        "Aha! The `sys.modules` dictionary contains a key for `math` and as you saw it is the `math` module. In fact we can look at the memory address once more:"
      ]
    },
    {
      "cell_type": "code",
      "metadata": {
        "id": "guILPuaA8ilf",
        "outputId": "4cc9d62a-d941-4521-b647-52789b2a7faf"
      },
      "source": [
        "id(sys.modules['math'])"
      ],
      "execution_count": null,
      "outputs": [
        {
          "output_type": "execute_result",
          "data": {
            "text/plain": [
              "1847086390312"
            ]
          },
          "metadata": {
            "tags": []
          },
          "execution_count": 28
        }
      ]
    },
    {
      "cell_type": "markdown",
      "metadata": {
        "id": "kUSOD3Aa8ili"
      },
      "source": [
        "Compare that to the `id` of the `math` module in our own (main) module - the same!"
      ]
    },
    {
      "cell_type": "markdown",
      "metadata": {
        "id": "ZvNu6PmS8ili"
      },
      "source": [
        "Now that we have established that a module is just an instance of the `module` type, and where it lives (in memory) with references to it maintained in the `sys.modules` dictionary as well as in any module namespace that imported it, let's see how we could create a module dynamically!"
      ]
    },
    {
      "cell_type": "markdown",
      "metadata": {
        "id": "rB3otV-_8ilj"
      },
      "source": [
        "If it's an object, let's inspect it..."
      ]
    },
    {
      "cell_type": "code",
      "metadata": {
        "id": "WRmUYvWN8ilj",
        "outputId": "43300113-ea68-4d71-cd15-6bfaa112537c"
      },
      "source": [
        "math.__name__"
      ],
      "execution_count": null,
      "outputs": [
        {
          "output_type": "execute_result",
          "data": {
            "text/plain": [
              "'math'"
            ]
          },
          "metadata": {
            "tags": []
          },
          "execution_count": 34
        }
      ]
    },
    {
      "cell_type": "code",
      "metadata": {
        "id": "bpD7_DEp8ilm",
        "outputId": "38623728-c1e9-4820-8886-b54801765468"
      },
      "source": [
        "math.__dict__"
      ],
      "execution_count": null,
      "outputs": [
        {
          "output_type": "execute_result",
          "data": {
            "text/plain": [
              "{'__doc__': 'This module is always available.  It provides access to the\\nmathematical functions defined by the C standard.',\n",
              " '__loader__': _frozen_importlib.BuiltinImporter,\n",
              " '__name__': 'math',\n",
              " '__package__': '',\n",
              " '__spec__': ModuleSpec(name='math', loader=<class '_frozen_importlib.BuiltinImporter'>, origin='built-in'),\n",
              " 'acos': <function math.acos>,\n",
              " 'acosh': <function math.acosh>,\n",
              " 'asin': <function math.asin>,\n",
              " 'asinh': <function math.asinh>,\n",
              " 'atan': <function math.atan>,\n",
              " 'atan2': <function math.atan2>,\n",
              " 'atanh': <function math.atanh>,\n",
              " 'ceil': <function math.ceil>,\n",
              " 'copysign': <function math.copysign>,\n",
              " 'cos': <function math.cos>,\n",
              " 'cosh': <function math.cosh>,\n",
              " 'degrees': <function math.degrees>,\n",
              " 'e': 2.718281828459045,\n",
              " 'erf': <function math.erf>,\n",
              " 'erfc': <function math.erfc>,\n",
              " 'exp': <function math.exp>,\n",
              " 'expm1': <function math.expm1>,\n",
              " 'fabs': <function math.fabs>,\n",
              " 'factorial': <function math.factorial>,\n",
              " 'floor': <function math.floor>,\n",
              " 'fmod': <function math.fmod>,\n",
              " 'frexp': <function math.frexp>,\n",
              " 'fsum': <function math.fsum>,\n",
              " 'gamma': <function math.gamma>,\n",
              " 'gcd': <function math.gcd>,\n",
              " 'hypot': <function math.hypot>,\n",
              " 'inf': inf,\n",
              " 'isclose': <function math.isclose>,\n",
              " 'isfinite': <function math.isfinite>,\n",
              " 'isinf': <function math.isinf>,\n",
              " 'isnan': <function math.isnan>,\n",
              " 'ldexp': <function math.ldexp>,\n",
              " 'lgamma': <function math.lgamma>,\n",
              " 'log': <function math.log>,\n",
              " 'log10': <function math.log10>,\n",
              " 'log1p': <function math.log1p>,\n",
              " 'log2': <function math.log2>,\n",
              " 'modf': <function math.modf>,\n",
              " 'nan': nan,\n",
              " 'pi': 3.141592653589793,\n",
              " 'pow': <function math.pow>,\n",
              " 'radians': <function math.radians>,\n",
              " 'sin': <function math.sin>,\n",
              " 'sinh': <function math.sinh>,\n",
              " 'sqrt': <function math.sqrt>,\n",
              " 'tan': <function math.tan>,\n",
              " 'tanh': <function math.tanh>,\n",
              " 'tau': 6.283185307179586,\n",
              " 'trunc': <function math.trunc>}"
            ]
          },
          "metadata": {
            "tags": []
          },
          "execution_count": 37
        }
      ]
    },
    {
      "cell_type": "markdown",
      "metadata": {
        "id": "4wQITGt78ilo"
      },
      "source": [
        "Notice how all the methods and \"constants\" (such as pi) are just members of a dictionary with values being functions or values:"
      ]
    },
    {
      "cell_type": "code",
      "metadata": {
        "id": "thKjZl158ilp",
        "outputId": "9502bcad-d0cf-4165-e6b7-65ab7be69a47"
      },
      "source": [
        "math.sqrt is math.__dict__['sqrt']"
      ],
      "execution_count": null,
      "outputs": [
        {
          "output_type": "execute_result",
          "data": {
            "text/plain": [
              "True"
            ]
          },
          "metadata": {
            "tags": []
          },
          "execution_count": 40
        }
      ]
    },
    {
      "cell_type": "markdown",
      "metadata": {
        "id": "twUJOZra8ils"
      },
      "source": [
        "So, when we write `math.sqrt` we are basically just retrieving the function stored in the `math.__dict__` dictionary at that key (`sqrt`)."
      ]
    },
    {
      "cell_type": "markdown",
      "metadata": {
        "id": "yvFsVxI08ilt"
      },
      "source": [
        "Now the `math` module is a little special - it is written in C and actually a built-in.\n",
        "\n",
        "Let's look at another module from the standard library:"
      ]
    },
    {
      "cell_type": "code",
      "metadata": {
        "id": "-4A0lcjI8ilt"
      },
      "source": [
        "import fractions"
      ],
      "execution_count": null,
      "outputs": []
    },
    {
      "cell_type": "code",
      "metadata": {
        "id": "pDErCT6D8ilw",
        "outputId": "7b0c19d9-b927-4a52-c806-058c8dafe378"
      },
      "source": [
        "fractions.__dict__"
      ],
      "execution_count": null,
      "outputs": [
        {
          "output_type": "execute_result",
          "data": {
            "text/plain": [
              "{'Decimal': decimal.Decimal,\n",
              " 'Fraction': fractions.Fraction,\n",
              " '_PyHASH_INF': 314159,\n",
              " '_PyHASH_MODULUS': 2305843009213693951,\n",
              " '_RATIONAL_FORMAT': re.compile(r'\\n    \\A\\s*                      # optional whitespace at the start, then\\n    (?P<sign>[-+]?)            # an optional sign, then\\n    (?=\\d|\\.\\d)                # lookahead for digit or .digit\\n    (?P<num>\\d*)               # numerator (possibly empty)\\n    (?:                        # followed by\\n       (?:/(?P<denom>\\d+))?    # an optional denominator\\n    |                          # or\\n       (?:\\.(?P<decimal>\\d*))? # an optional fractional part\\n       (?:E(?P<exp>[-+]?\\d+))? # and optional exponent\\n    )\\n    \\s*\\Z                      # and optional whitespace to finish\\n',\n",
              " re.IGNORECASE|re.UNICODE|re.VERBOSE),\n",
              " '__all__': ['Fraction', 'gcd'],\n",
              " '__builtins__': {'ArithmeticError': ArithmeticError,\n",
              "  'AssertionError': AssertionError,\n",
              "  'AttributeError': AttributeError,\n",
              "  'BaseException': BaseException,\n",
              "  'BlockingIOError': BlockingIOError,\n",
              "  'BrokenPipeError': BrokenPipeError,\n",
              "  'BufferError': BufferError,\n",
              "  'BytesWarning': BytesWarning,\n",
              "  'ChildProcessError': ChildProcessError,\n",
              "  'ConnectionAbortedError': ConnectionAbortedError,\n",
              "  'ConnectionError': ConnectionError,\n",
              "  'ConnectionRefusedError': ConnectionRefusedError,\n",
              "  'ConnectionResetError': ConnectionResetError,\n",
              "  'DeprecationWarning': DeprecationWarning,\n",
              "  'EOFError': EOFError,\n",
              "  'Ellipsis': Ellipsis,\n",
              "  'EnvironmentError': OSError,\n",
              "  'Exception': Exception,\n",
              "  'False': False,\n",
              "  'FileExistsError': FileExistsError,\n",
              "  'FileNotFoundError': FileNotFoundError,\n",
              "  'FloatingPointError': FloatingPointError,\n",
              "  'FutureWarning': FutureWarning,\n",
              "  'GeneratorExit': GeneratorExit,\n",
              "  'IOError': OSError,\n",
              "  'ImportError': ImportError,\n",
              "  'ImportWarning': ImportWarning,\n",
              "  'IndentationError': IndentationError,\n",
              "  'IndexError': IndexError,\n",
              "  'InterruptedError': InterruptedError,\n",
              "  'IsADirectoryError': IsADirectoryError,\n",
              "  'KeyError': KeyError,\n",
              "  'KeyboardInterrupt': KeyboardInterrupt,\n",
              "  'LookupError': LookupError,\n",
              "  'MemoryError': MemoryError,\n",
              "  'ModuleNotFoundError': ModuleNotFoundError,\n",
              "  'NameError': NameError,\n",
              "  'None': None,\n",
              "  'NotADirectoryError': NotADirectoryError,\n",
              "  'NotImplemented': NotImplemented,\n",
              "  'NotImplementedError': NotImplementedError,\n",
              "  'OSError': OSError,\n",
              "  'OverflowError': OverflowError,\n",
              "  'PendingDeprecationWarning': PendingDeprecationWarning,\n",
              "  'PermissionError': PermissionError,\n",
              "  'ProcessLookupError': ProcessLookupError,\n",
              "  'RecursionError': RecursionError,\n",
              "  'ReferenceError': ReferenceError,\n",
              "  'ResourceWarning': ResourceWarning,\n",
              "  'RuntimeError': RuntimeError,\n",
              "  'RuntimeWarning': RuntimeWarning,\n",
              "  'StopAsyncIteration': StopAsyncIteration,\n",
              "  'StopIteration': StopIteration,\n",
              "  'SyntaxError': SyntaxError,\n",
              "  'SyntaxWarning': SyntaxWarning,\n",
              "  'SystemError': SystemError,\n",
              "  'SystemExit': SystemExit,\n",
              "  'TabError': TabError,\n",
              "  'TimeoutError': TimeoutError,\n",
              "  'True': True,\n",
              "  'TypeError': TypeError,\n",
              "  'UnboundLocalError': UnboundLocalError,\n",
              "  'UnicodeDecodeError': UnicodeDecodeError,\n",
              "  'UnicodeEncodeError': UnicodeEncodeError,\n",
              "  'UnicodeError': UnicodeError,\n",
              "  'UnicodeTranslateError': UnicodeTranslateError,\n",
              "  'UnicodeWarning': UnicodeWarning,\n",
              "  'UserWarning': UserWarning,\n",
              "  'ValueError': ValueError,\n",
              "  'Warning': Warning,\n",
              "  'WindowsError': OSError,\n",
              "  'ZeroDivisionError': ZeroDivisionError,\n",
              "  '__IPYTHON__': True,\n",
              "  '__build_class__': <function __build_class__>,\n",
              "  '__debug__': True,\n",
              "  '__doc__': \"Built-in functions, exceptions, and other objects.\\n\\nNoteworthy: None is the `nil' object; Ellipsis represents `...' in slices.\",\n",
              "  '__import__': <function __import__>,\n",
              "  '__loader__': _frozen_importlib.BuiltinImporter,\n",
              "  '__name__': 'builtins',\n",
              "  '__package__': '',\n",
              "  '__spec__': ModuleSpec(name='builtins', loader=<class '_frozen_importlib.BuiltinImporter'>),\n",
              "  'abs': <function abs>,\n",
              "  'all': <function all>,\n",
              "  'any': <function any>,\n",
              "  'ascii': <function ascii>,\n",
              "  'bin': <function bin>,\n",
              "  'bool': bool,\n",
              "  'bytearray': bytearray,\n",
              "  'bytes': bytes,\n",
              "  'callable': <function callable>,\n",
              "  'chr': <function chr>,\n",
              "  'classmethod': classmethod,\n",
              "  'compile': <function compile>,\n",
              "  'complex': complex,\n",
              "  'copyright': Copyright (c) 2001-2017 Python Software Foundation.\n",
              "  All Rights Reserved.\n",
              "  \n",
              "  Copyright (c) 2000 BeOpen.com.\n",
              "  All Rights Reserved.\n",
              "  \n",
              "  Copyright (c) 1995-2001 Corporation for National Research Initiatives.\n",
              "  All Rights Reserved.\n",
              "  \n",
              "  Copyright (c) 1991-1995 Stichting Mathematisch Centrum, Amsterdam.\n",
              "  All Rights Reserved.,\n",
              "  'credits':     Thanks to CWI, CNRI, BeOpen.com, Zope Corporation and a cast of thousands\n",
              "      for supporting Python development.  See www.python.org for more information.,\n",
              "  'delattr': <function delattr>,\n",
              "  'dict': dict,\n",
              "  'dir': <function dir>,\n",
              "  'display': <function IPython.core.display.display>,\n",
              "  'divmod': <function divmod>,\n",
              "  'enumerate': enumerate,\n",
              "  'eval': <function eval>,\n",
              "  'exec': <function exec>,\n",
              "  'filter': filter,\n",
              "  'float': float,\n",
              "  'format': <function format>,\n",
              "  'frozenset': frozenset,\n",
              "  'get_ipython': <bound method InteractiveShell.get_ipython of <ipykernel.zmqshell.ZMQInteractiveShell object at 0x000001AE10373208>>,\n",
              "  'getattr': <function getattr>,\n",
              "  'globals': <function globals>,\n",
              "  'hasattr': <function hasattr>,\n",
              "  'hash': <function hash>,\n",
              "  'help': Type help() for interactive help, or help(object) for help about object.,\n",
              "  'hex': <function hex>,\n",
              "  'id': <function id>,\n",
              "  'input': <bound method Kernel.raw_input of <ipykernel.ipkernel.IPythonKernel object at 0x000001AE10352EB8>>,\n",
              "  'int': int,\n",
              "  'isinstance': <function isinstance>,\n",
              "  'issubclass': <function issubclass>,\n",
              "  'iter': <function iter>,\n",
              "  'len': <function len>,\n",
              "  'license': See https://www.python.org/psf/license/,\n",
              "  'list': list,\n",
              "  'locals': <function locals>,\n",
              "  'map': map,\n",
              "  'max': <function max>,\n",
              "  'memoryview': memoryview,\n",
              "  'min': <function min>,\n",
              "  'next': <function next>,\n",
              "  'object': object,\n",
              "  'oct': <function oct>,\n",
              "  'open': <function io.open>,\n",
              "  'ord': <function ord>,\n",
              "  'pow': <function pow>,\n",
              "  'print': <function print>,\n",
              "  'property': property,\n",
              "  'range': range,\n",
              "  'repr': <function repr>,\n",
              "  'reversed': reversed,\n",
              "  'round': <function round>,\n",
              "  'set': set,\n",
              "  'setattr': <function setattr>,\n",
              "  'slice': slice,\n",
              "  'sorted': <function sorted>,\n",
              "  'staticmethod': staticmethod,\n",
              "  'str': str,\n",
              "  'sum': <function sum>,\n",
              "  'super': super,\n",
              "  'tuple': tuple,\n",
              "  'type': type,\n",
              "  'vars': <function vars>,\n",
              "  'zip': zip},\n",
              " '__cached__': 'D:\\\\Users\\\\fbapt\\\\Anaconda3\\\\envs\\\\deepdive\\\\lib\\\\__pycache__\\\\fractions.cpython-36.pyc',\n",
              " '__doc__': 'Fraction, infinite-precision, real numbers.',\n",
              " '__file__': 'D:\\\\Users\\\\fbapt\\\\Anaconda3\\\\envs\\\\deepdive\\\\lib\\\\fractions.py',\n",
              " '__loader__': <_frozen_importlib_external.SourceFileLoader at 0x1ae10e4cf98>,\n",
              " '__name__': 'fractions',\n",
              " '__package__': '',\n",
              " '__spec__': ModuleSpec(name='fractions', loader=<_frozen_importlib_external.SourceFileLoader object at 0x000001AE10E4CF98>, origin='D:\\\\Users\\\\fbapt\\\\Anaconda3\\\\envs\\\\deepdive\\\\lib\\\\fractions.py'),\n",
              " '_gcd': <function fractions._gcd>,\n",
              " 'gcd': <function fractions.gcd>,\n",
              " 'math': <module 'math' (built-in)>,\n",
              " 'numbers': <module 'numbers' from 'D:\\\\Users\\\\fbapt\\\\Anaconda3\\\\envs\\\\deepdive\\\\lib\\\\numbers.py'>,\n",
              " 'operator': <module 'operator' from 'D:\\\\Users\\\\fbapt\\\\Anaconda3\\\\envs\\\\deepdive\\\\lib\\\\operator.py'>,\n",
              " 're': <module 're' from 'D:\\\\Users\\\\fbapt\\\\Anaconda3\\\\envs\\\\deepdive\\\\lib\\\\re.py'>,\n",
              " 'sys': <module 'sys' (built-in)>}"
            ]
          },
          "metadata": {
            "tags": []
          },
          "execution_count": 49
        }
      ]
    },
    {
      "cell_type": "markdown",
      "metadata": {
        "id": "sZ8x-U7w8il0"
      },
      "source": [
        "Notice a few properties here that look interesting:"
      ]
    },
    {
      "cell_type": "code",
      "metadata": {
        "id": "_HnAawf28il1",
        "outputId": "e3368a44-66f8-4b33-93d7-33d72323cc2c"
      },
      "source": [
        "fractions.__file__"
      ],
      "execution_count": null,
      "outputs": [
        {
          "output_type": "execute_result",
          "data": {
            "text/plain": [
              "'D:\\\\Users\\\\fbapt\\\\Anaconda3\\\\envs\\\\deepdive\\\\lib\\\\fractions.py'"
            ]
          },
          "metadata": {
            "tags": []
          },
          "execution_count": 52
        }
      ]
    },
    {
      "cell_type": "code",
      "metadata": {
        "id": "FnMkuFGYF7PE",
        "outputId": "1390aa3e-b0e4-420d-ab7b-b199c8bb55f2",
        "colab": {
          "base_uri": "https://localhost:8080/",
          "height": 35
        }
      },
      "source": [
        "import numpy\n",
        "numpy.__file__"
      ],
      "execution_count": 16,
      "outputs": [
        {
          "output_type": "execute_result",
          "data": {
            "application/vnd.google.colaboratory.intrinsic+json": {
              "type": "string"
            },
            "text/plain": [
              "'/usr/local/lib/python3.6/dist-packages/numpy/__init__.py'"
            ]
          },
          "metadata": {
            "tags": []
          },
          "execution_count": 16
        }
      ]
    },
    {
      "cell_type": "code",
      "metadata": {
        "id": "-2J-U3TrGQym",
        "outputId": "40e8a2ab-71cb-474b-bc83-471476266a79",
        "colab": {
          "base_uri": "https://localhost:8080/",
          "height": 34
        }
      },
      "source": [
        "numpy"
      ],
      "execution_count": 20,
      "outputs": [
        {
          "output_type": "execute_result",
          "data": {
            "text/plain": [
              "<module 'numpy' from '/usr/local/lib/python3.6/dist-packages/numpy/__init__.py'>"
            ]
          },
          "metadata": {
            "tags": []
          },
          "execution_count": 20
        }
      ]
    },
    {
      "cell_type": "code",
      "metadata": {
        "id": "6ltTXdLUF8JU",
        "outputId": "b30a534c-7486-499c-c93c-59b14eb4734f",
        "colab": {
          "base_uri": "https://localhost:8080/",
          "height": 34
        }
      },
      "source": [
        "%cd /usr/local/lib/python3.6/dist-packages"
      ],
      "execution_count": 18,
      "outputs": [
        {
          "output_type": "stream",
          "text": [
            "/usr/local/lib/python3.6/dist-packages\n"
          ],
          "name": "stdout"
        }
      ]
    },
    {
      "cell_type": "code",
      "metadata": {
        "id": "vjQfkIx1F-tr",
        "outputId": "c84254db-383a-46b7-c0e5-35559a1dbb73",
        "colab": {
          "base_uri": "https://localhost:8080/",
          "height": 1000
        }
      },
      "source": [
        "%ls"
      ],
      "execution_count": 19,
      "outputs": [
        {
          "output_type": "stream",
          "text": [
            "\u001b[0m\u001b[01;34mabsl\u001b[0m/\n",
            "\u001b[01;34mabsl_py-0.10.0.dist-info\u001b[0m/\n",
            "\u001b[01;34malabaster\u001b[0m/\n",
            "\u001b[01;34malabaster-0.7.12.dist-info\u001b[0m/\n",
            "\u001b[01;34malbumentations\u001b[0m/\n",
            "\u001b[01;34malbumentations-0.1.12.dist-info\u001b[0m/\n",
            "\u001b[01;34maltair\u001b[0m/\n",
            "\u001b[01;34maltair-4.1.0.dist-info\u001b[0m/\n",
            "\u001b[01;34mapiclient\u001b[0m/\n",
            "\u001b[01;34margon2\u001b[0m/\n",
            "\u001b[01;34margon2_cffi-20.1.0.dist-info\u001b[0m/\n",
            "\u001b[01;34masgiref\u001b[0m/\n",
            "\u001b[01;34masgiref-3.2.10.dist-info\u001b[0m/\n",
            "\u001b[01;34mastor\u001b[0m/\n",
            "\u001b[01;34mastor-0.8.1.dist-info\u001b[0m/\n",
            "\u001b[01;34mastropy\u001b[0m/\n",
            "\u001b[01;34mastropy-4.0.1.post1.dist-info\u001b[0m/\n",
            "\u001b[01;34mastunparse\u001b[0m/\n",
            "\u001b[01;34mastunparse-1.6.3.dist-info\u001b[0m/\n",
            "\u001b[01;34masync_generator\u001b[0m/\n",
            "\u001b[01;34masync_generator-1.10.dist-info\u001b[0m/\n",
            "\u001b[01;34matari_py\u001b[0m/\n",
            "\u001b[01;34matari_py-0.2.6.dist-info\u001b[0m/\n",
            "\u001b[01;34matomicwrites\u001b[0m/\n",
            "\u001b[01;34matomicwrites-1.4.0.dist-info\u001b[0m/\n",
            "\u001b[01;34mattr\u001b[0m/\n",
            "\u001b[01;34mattrs-20.2.0.dist-info\u001b[0m/\n",
            "\u001b[01;34maudioread\u001b[0m/\n",
            "\u001b[01;34maudioread-2.1.8.dist-info\u001b[0m/\n",
            "\u001b[01;34mautograd\u001b[0m/\n",
            "\u001b[01;34mautograd-1.3.dist-info\u001b[0m/\n",
            "\u001b[01;34mbabel\u001b[0m/\n",
            "\u001b[01;34mBabel-2.8.0.dist-info\u001b[0m/\n",
            "\u001b[01;34mbackcall\u001b[0m/\n",
            "\u001b[01;34mbackcall-0.2.0.dist-info\u001b[0m/\n",
            "\u001b[01;34mbeautifulsoup4-4.6.3.dist-info\u001b[0m/\n",
            "\u001b[01;34mbin\u001b[0m/\n",
            "\u001b[01;34mbleach\u001b[0m/\n",
            "\u001b[01;34mbleach-3.2.1.dist-info\u001b[0m/\n",
            "\u001b[01;34mblis\u001b[0m/\n",
            "\u001b[01;34mblis-0.4.1.dist-info\u001b[0m/\n",
            "\u001b[01;34mbokeh\u001b[0m/\n",
            "\u001b[01;34mbokeh-2.1.1.dist-info\u001b[0m/\n",
            "\u001b[01;34mbottleneck\u001b[0m/\n",
            "\u001b[01;34mBottleneck-1.3.2.dist-info\u001b[0m/\n",
            "\u001b[01;34mbranca\u001b[0m/\n",
            "\u001b[01;34mbranca-0.4.1.dist-info\u001b[0m/\n",
            "\u001b[01;34mbs4\u001b[0m/\n",
            "\u001b[01;34mbs4-0.0.1.dist-info\u001b[0m/\n",
            "\u001b[01;34mbson\u001b[0m/\n",
            "\u001b[01;34mcachecontrol\u001b[0m/\n",
            "\u001b[01;34mCacheControl-0.12.6.dist-info\u001b[0m/\n",
            "\u001b[01;34mcachetools\u001b[0m/\n",
            "\u001b[01;34mcachetools-4.1.1.dist-info\u001b[0m/\n",
            "\u001b[01;34mcaffe2\u001b[0m/\n",
            "\u001b[01;34mcatalogue-1.0.0.dist-info\u001b[0m/\n",
            "catalogue.py\n",
            "\u001b[01;34mcertifi\u001b[0m/\n",
            "\u001b[01;34mcertifi-2020.6.20.dist-info\u001b[0m/\n",
            "\u001b[01;34mcffi\u001b[0m/\n",
            "\u001b[01;34mcffi-1.14.3.dist-info\u001b[0m/\n",
            "\u001b[01;32m_cffi_backend.cpython-36m-x86_64-linux-gnu.so\u001b[0m*\n",
            "\u001b[01;34mcffi.libs\u001b[0m/\n",
            "\u001b[01;34mchainer\u001b[0m/\n",
            "\u001b[01;34mchainer-7.4.0.dist-info\u001b[0m/\n",
            "\u001b[01;34mchainermn\u001b[0m/\n",
            "\u001b[01;34mchainerx\u001b[0m/\n",
            "\u001b[01;34mchardet\u001b[0m/\n",
            "\u001b[01;34mchardet-3.0.4.dist-info\u001b[0m/\n",
            "\u001b[01;34mchess\u001b[0m/\n",
            "\u001b[01;34mclick\u001b[0m/\n",
            "\u001b[01;34mclick-7.1.2.dist-info\u001b[0m/\n",
            "\u001b[01;34mclient\u001b[0m/\n",
            "\u001b[01;34mcloudpickle\u001b[0m/\n",
            "\u001b[01;34mcloudpickle-1.3.0.dist-info\u001b[0m/\n",
            "\u001b[01;34mcmake\u001b[0m/\n",
            "\u001b[01;34mcmake-3.12.0.dist-info\u001b[0m/\n",
            "\u001b[01;34mcmdstanpy\u001b[0m/\n",
            "\u001b[01;34mcmdstanpy-0.9.5.dist-info\u001b[0m/\n",
            "\u001b[01;34mcolab\u001b[0m/\n",
            "\u001b[01;34mcolorlover\u001b[0m/\n",
            "\u001b[01;34mcolorlover-0.3.0.dist-info\u001b[0m/\n",
            "\u001b[01;34mcommunity\u001b[0m/\n",
            "\u001b[01;34mcommunity-1.0.0b1.dist-info\u001b[0m/\n",
            "\u001b[01;34mcontextlib2-0.5.5.dist-info\u001b[0m/\n",
            "contextlib2.py\n",
            "\u001b[01;34mconvertdate\u001b[0m/\n",
            "\u001b[01;34mconvertdate-2.2.2.dist-info\u001b[0m/\n",
            "\u001b[01;34mcoverage\u001b[0m/\n",
            "\u001b[01;34mcoverage-3.7.1.dist-info\u001b[0m/\n",
            "\u001b[01;34mcoveralls\u001b[0m/\n",
            "\u001b[01;34mcoveralls-0.5.dist-info\u001b[0m/\n",
            "\u001b[01;34mcrcmod\u001b[0m/\n",
            "\u001b[01;34mcrcmod-1.7.dist-info\u001b[0m/\n",
            "\u001b[01;34mcufflinks\u001b[0m/\n",
            "\u001b[01;34mcufflinks-0.17.3.dist-info\u001b[0m/\n",
            "\u001b[01;34mcv2\u001b[0m/\n",
            "\u001b[01;32m_cvxcore.cpython-36m-x86_64-linux-gnu.so\u001b[0m*\n",
            "\u001b[01;34mcvxopt\u001b[0m/\n",
            "\u001b[01;34mcvxopt-1.2.5.dist-info\u001b[0m/\n",
            "\u001b[01;34mcvxopt.libs\u001b[0m/\n",
            "\u001b[01;34mcvxpy\u001b[0m/\n",
            "\u001b[01;34mcvxpy-1.0.31.dist-info\u001b[0m/\n",
            "\u001b[01;34mcycler-0.10.0.dist-info\u001b[0m/\n",
            "cycler.py\n",
            "\u001b[01;34mcymem\u001b[0m/\n",
            "\u001b[01;34mcymem-2.0.3.dist-info\u001b[0m/\n",
            "\u001b[01;34mCython\u001b[0m/\n",
            "\u001b[01;34mCython-0.29.21.dist-info\u001b[0m/\n",
            "cython.py\n",
            "\u001b[01;34mdaft-0.0.4.dist-info\u001b[0m/\n",
            "daft.py\n",
            "\u001b[01;34mdask\u001b[0m/\n",
            "\u001b[01;34mdask-2.12.0.dist-info\u001b[0m/\n",
            "\u001b[01;34mdataclasses-0.7.dist-info\u001b[0m/\n",
            "dataclasses.py\n",
            "\u001b[01;34mdatascience\u001b[0m/\n",
            "\u001b[01;34mdatascience-0.10.6.dist-info\u001b[0m/\n",
            "\u001b[01;34mdateutil\u001b[0m/\n",
            "\u001b[01;34mdebugpy\u001b[0m/\n",
            "\u001b[01;34mdebugpy-1.0.0rc2.dist-info\u001b[0m/\n",
            "\u001b[01;34mdecorator-4.4.2.dist-info\u001b[0m/\n",
            "decorator.py\n",
            "\u001b[01;34mdefusedxml\u001b[0m/\n",
            "\u001b[01;34mdefusedxml-0.6.0.dist-info\u001b[0m/\n",
            "\u001b[01;34mdescartes\u001b[0m/\n",
            "\u001b[01;34mdescartes-1.1.0.dist-info\u001b[0m/\n",
            "\u001b[01;34mdill\u001b[0m/\n",
            "\u001b[01;34mdill-0.3.2.dist-info\u001b[0m/\n",
            "\u001b[01;34mdistributed\u001b[0m/\n",
            "\u001b[01;34mdistributed-1.25.3.dist-info\u001b[0m/\n",
            "\u001b[01;34m_distutils_hack\u001b[0m/\n",
            "distutils-precedence.pth\n",
            "\u001b[01;34mdjango\u001b[0m/\n",
            "\u001b[01;34mDjango-3.1.1.dist-info\u001b[0m/\n",
            "\u001b[01;34mdlib-19.18.0.dist-info\u001b[0m/\n",
            "\u001b[01;32mdlib.cpython-36m-x86_64-linux-gnu.so\u001b[0m*\n",
            "\u001b[01;34mdm_tree-0.1.5.dist-info\u001b[0m/\n",
            "\u001b[01;34mdocopt-0.6.2.dist-info\u001b[0m/\n",
            "docopt.py\n",
            "\u001b[01;34mdocs\u001b[0m/\n",
            "\u001b[01;34mdocutils\u001b[0m/\n",
            "\u001b[01;34mdocutils-0.16.dist-info\u001b[0m/\n",
            "\u001b[01;34mdopamine\u001b[0m/\n",
            "\u001b[01;34mdopamine_rl-1.0.5.dist-info\u001b[0m/\n",
            "dot_parser.py\n",
            "\u001b[01;34mearthengine_api-0.1.236.dist-info\u001b[0m/\n",
            "\u001b[01;34measydict\u001b[0m/\n",
            "\u001b[01;34measydict-1.9.dist-info\u001b[0m/\n",
            "easy_install.py\n",
            "\u001b[01;34mecos\u001b[0m/\n",
            "\u001b[01;34mecos-2.0.7.post1.dist-info\u001b[0m/\n",
            "\u001b[01;32m_ecos.cpython-36m-x86_64-linux-gnu.so\u001b[0m*\n",
            "\u001b[01;34meditdistance\u001b[0m/\n",
            "\u001b[01;34meditdistance-0.5.3.dist-info\u001b[0m/\n",
            "\u001b[01;34mee\u001b[0m/\n",
            "\u001b[01;34men_core_web_sm\u001b[0m/\n",
            "\u001b[01;34men_core_web_sm-2.2.5.dist-info\u001b[0m/\n",
            "\u001b[01;34mentrypoints-0.3.dist-info\u001b[0m/\n",
            "entrypoints.py\n",
            "\u001b[01;34mephem\u001b[0m/\n",
            "\u001b[01;34mephem-3.7.7.1.dist-info\u001b[0m/\n",
            "\u001b[01;34met_xmlfile\u001b[0m/\n",
            "\u001b[01;34met_xmlfile-1.0.1.dist-info\u001b[0m/\n",
            "\u001b[01;34mexamples\u001b[0m/\n",
            "\u001b[01;34mfa2\u001b[0m/\n",
            "\u001b[01;34mfa2-0.3.5.dist-info\u001b[0m/\n",
            "\u001b[01;34mfancyimpute\u001b[0m/\n",
            "\u001b[01;34mfancyimpute-0.4.3.dist-info\u001b[0m/\n",
            "\u001b[01;34mfastai\u001b[0m/\n",
            "\u001b[01;34mfastai-1.0.61.dist-info\u001b[0m/\n",
            "\u001b[01;34mfastdtw\u001b[0m/\n",
            "\u001b[01;34mfastdtw-0.3.4.dist-info\u001b[0m/\n",
            "\u001b[01;34mfastprogress\u001b[0m/\n",
            "\u001b[01;34mfastprogress-1.0.0.dist-info\u001b[0m/\n",
            "\u001b[01;34mfastrlock\u001b[0m/\n",
            "\u001b[01;34mfastrlock-0.5.dist-info\u001b[0m/\n",
            "\u001b[01;34mfbprophet\u001b[0m/\n",
            "\u001b[01;34mfbprophet-0.7.1-py3.6.egg-info\u001b[0m/\n",
            "\u001b[01;34mfeather\u001b[0m/\n",
            "\u001b[01;34mfeather_format-0.4.1.dist-info\u001b[0m/\n",
            "\u001b[01;34mfilelock-3.0.12.dist-info\u001b[0m/\n",
            "filelock.py\n",
            "\u001b[01;34mfirebase_admin\u001b[0m/\n",
            "\u001b[01;34mfirebase_admin-4.4.0.dist-info\u001b[0m/\n",
            "\u001b[01;34mfix_yahoo_finance\u001b[0m/\n",
            "\u001b[01;34mfix_yahoo_finance-0.0.22.dist-info\u001b[0m/\n",
            "\u001b[01;34mflask\u001b[0m/\n",
            "\u001b[01;34mFlask-1.1.2.dist-info\u001b[0m/\n",
            "\u001b[01;34mfolium\u001b[0m/\n",
            "\u001b[01;34mfolium-0.8.3.dist-info\u001b[0m/\n",
            "\u001b[01;32m_foo.cpython-36m-x86_64-linux-gnu.so\u001b[0m*\n",
            "\u001b[01;34mfuture\u001b[0m/\n",
            "\u001b[01;34mfuture-0.16.0.dist-info\u001b[0m/\n",
            "\u001b[01;34mgast\u001b[0m/\n",
            "\u001b[01;34mgast-0.3.3.dist-info\u001b[0m/\n",
            "\u001b[01;34mgdown\u001b[0m/\n",
            "\u001b[01;34mgdown-3.6.4.dist-info\u001b[0m/\n",
            "\u001b[01;34mgensim\u001b[0m/\n",
            "\u001b[01;34mgensim-3.6.0.dist-info\u001b[0m/\n",
            "\u001b[01;34mgeographiclib\u001b[0m/\n",
            "\u001b[01;34mgeographiclib-1.50.dist-info\u001b[0m/\n",
            "\u001b[01;34mgeopy\u001b[0m/\n",
            "\u001b[01;34mgeopy-1.17.0.dist-info\u001b[0m/\n",
            "\u001b[01;34mgin\u001b[0m/\n",
            "\u001b[01;34mgin_config-0.3.0.dist-info\u001b[0m/\n",
            "\u001b[01;34mgithub2pypi\u001b[0m/\n",
            "\u001b[01;34mglob2\u001b[0m/\n",
            "\u001b[01;34mglob2-0.7.dist-info\u001b[0m/\n",
            "\u001b[01;34mgoogle\u001b[0m/\n",
            "\u001b[01;34mgoogle-2.0.3.dist-info\u001b[0m/\n",
            "\u001b[01;34mgoogleapiclient\u001b[0m/\n",
            "\u001b[01;34mgoogle_api_core-1.16.0.dist-info\u001b[0m/\n",
            "google_api_core-1.16.0-py3.8-nspkg.pth\n",
            "\u001b[01;34mgoogle_api_python_client-1.7.12.dist-info\u001b[0m/\n",
            "\u001b[01;34mgoogleapis_common_protos-1.52.0.dist-info\u001b[0m/\n",
            "googleapis_common_protos-1.52.0-py3.8-nspkg.pth\n",
            "\u001b[01;34mgoogle_auth-1.17.2.dist-info\u001b[0m/\n",
            "google_auth-1.17.2-py3.8-nspkg.pth\n",
            "\u001b[01;34mgoogle_auth_httplib2-0.0.4.dist-info\u001b[0m/\n",
            "google_auth_httplib2.py\n",
            "\u001b[01;34mgoogle_auth_oauthlib\u001b[0m/\n",
            "\u001b[01;34mgoogle_auth_oauthlib-0.4.1.dist-info\u001b[0m/\n",
            "\u001b[01;34mgoogle_cloud_bigquery-1.21.0.dist-info\u001b[0m/\n",
            "google_cloud_bigquery-1.21.0-py3.6-nspkg.pth\n",
            "\u001b[01;34mgoogle_cloud_core-1.0.3.dist-info\u001b[0m/\n",
            "google_cloud_core-1.0.3-py3.6-nspkg.pth\n",
            "\u001b[01;34mgoogle_cloud_datastore-1.8.0.dist-info\u001b[0m/\n",
            "google_cloud_datastore-1.8.0-py3.6-nspkg.pth\n",
            "\u001b[01;34mgoogle_cloud_firestore-1.7.0.dist-info\u001b[0m/\n",
            "google_cloud_firestore-1.7.0-py3.8-nspkg.pth\n",
            "\u001b[01;34mgoogle_cloud_language-1.2.0.dist-info\u001b[0m/\n",
            "google_cloud_language-1.2.0-py3.6-nspkg.pth\n",
            "\u001b[01;34mgoogle_cloud_storage-1.18.1.dist-info\u001b[0m/\n",
            "google_cloud_storage-1.18.1-py3.7-nspkg.pth\n",
            "\u001b[01;34mgoogle_cloud_translate-1.5.0.dist-info\u001b[0m/\n",
            "google_cloud_translate-1.5.0-py3.6-nspkg.pth\n",
            "\u001b[01;34mgoogle_colab-1.0.0.dist-info\u001b[0m/\n",
            "google_colab-1.0.0-py3.6-nspkg.pth\n",
            "\u001b[01;34mgoogle_drive_downloader\u001b[0m/\n",
            "\u001b[01;34mgoogledrivedownloader-0.4.dist-info\u001b[0m/\n",
            "\u001b[01;34mgoogle_pasta-0.2.0.dist-info\u001b[0m/\n",
            "\u001b[01;34mgoogle_resumable_media-0.4.1.dist-info\u001b[0m/\n",
            "google_resumable_media-0.4.1-py3.6-nspkg.pth\n",
            "\u001b[01;34mgooglesearch\u001b[0m/\n",
            "\u001b[01;34mgraphviz\u001b[0m/\n",
            "\u001b[01;34mgraphviz-0.10.1.dist-info\u001b[0m/\n",
            "\u001b[01;34mgridfs\u001b[0m/\n",
            "\u001b[01;34mgrpc\u001b[0m/\n",
            "\u001b[01;34mgrpcio-1.32.0.dist-info\u001b[0m/\n",
            "\u001b[01;34mgspread\u001b[0m/\n",
            "\u001b[01;34mgspread-3.0.1.dist-info\u001b[0m/\n",
            "\u001b[01;34mgspread_dataframe-3.0.8.dist-info\u001b[0m/\n",
            "gspread_dataframe.py\n",
            "\u001b[01;34mgym\u001b[0m/\n",
            "\u001b[01;34mgym-0.17.2.dist-info\u001b[0m/\n",
            "\u001b[01;34mh5py\u001b[0m/\n",
            "\u001b[01;34mh5py-2.10.0.dist-info\u001b[0m/\n",
            "\u001b[01;34mHeapDict-1.0.1.dist-info\u001b[0m/\n",
            "heapdict.py\n",
            "\u001b[01;34mhelper\u001b[0m/\n",
            "\u001b[01;34mholidays\u001b[0m/\n",
            "\u001b[01;34mholidays-0.10.3.dist-info\u001b[0m/\n",
            "\u001b[01;34mholoviews\u001b[0m/\n",
            "\u001b[01;34mholoviews-1.13.4.dist-info\u001b[0m/\n",
            "\u001b[01;34mhtml5lib\u001b[0m/\n",
            "\u001b[01;34mhtml5lib-1.0.1.dist-info\u001b[0m/\n",
            "\u001b[01;34mhttpimport-0.5.18.dist-info\u001b[0m/\n",
            "httpimport.py\n",
            "\u001b[01;34mhttplib2\u001b[0m/\n",
            "\u001b[01;34mhttplib2-0.17.4.dist-info\u001b[0m/\n",
            "\u001b[01;34mhttplib2shim\u001b[0m/\n",
            "\u001b[01;34mhttplib2shim-0.0.3.dist-info\u001b[0m/\n",
            "\u001b[01;34mhumanize\u001b[0m/\n",
            "\u001b[01;34mhumanize-0.5.1.dist-info\u001b[0m/\n",
            "\u001b[01;34mhyperopt\u001b[0m/\n",
            "\u001b[01;34mhyperopt-0.1.2.dist-info\u001b[0m/\n",
            "\u001b[01;34mideep4py\u001b[0m/\n",
            "\u001b[01;34mideep4py-2.0.0.post3.dist-info\u001b[0m/\n",
            "\u001b[01;34midna\u001b[0m/\n",
            "\u001b[01;34midna-2.10.dist-info\u001b[0m/\n",
            "\u001b[01;34mimage\u001b[0m/\n",
            "\u001b[01;34mimage-1.5.32.dist-info\u001b[0m/\n",
            "\u001b[01;34mimageio\u001b[0m/\n",
            "\u001b[01;34mimageio-2.4.1.dist-info\u001b[0m/\n",
            "\u001b[01;34mimagesize-1.2.0.dist-info\u001b[0m/\n",
            "imagesize.py\n",
            "\u001b[01;34mimbalanced_learn-0.4.3.dist-info\u001b[0m/\n",
            "\u001b[01;34mimblearn\u001b[0m/\n",
            "\u001b[01;34mimblearn-0.0.dist-info\u001b[0m/\n",
            "\u001b[01;34mimgaug\u001b[0m/\n",
            "\u001b[01;34mimgaug-0.2.9.dist-info\u001b[0m/\n",
            "\u001b[01;34mimportlib_metadata\u001b[0m/\n",
            "\u001b[01;34mimportlib_metadata-2.0.0.dist-info\u001b[0m/\n",
            "\u001b[01;34mimutils\u001b[0m/\n",
            "\u001b[01;34mimutils-0.5.3.dist-info\u001b[0m/\n",
            "\u001b[01;34minflect-2.1.0.dist-info\u001b[0m/\n",
            "inflect.py\n",
            "\u001b[01;34miniconfig\u001b[0m/\n",
            "\u001b[01;34miniconfig-1.1.1.dist-info\u001b[0m/\n",
            "\u001b[01;34mintel_openmp-2020.0.133.dist-info\u001b[0m/\n",
            "\u001b[01;34mintervaltree\u001b[0m/\n",
            "\u001b[01;34mintervaltree-2.1.0.dist-info\u001b[0m/\n",
            "\u001b[01;34mipykernel\u001b[0m/\n",
            "\u001b[01;34mipykernel-4.10.1.dist-info\u001b[0m/\n",
            "ipykernel_launcher.py\n",
            "\u001b[01;34mIPython\u001b[0m/\n",
            "\u001b[01;34mipython-5.5.0.dist-info\u001b[0m/\n",
            "\u001b[01;34mipython_genutils\u001b[0m/\n",
            "\u001b[01;34mipython_genutils-0.2.0.dist-info\u001b[0m/\n",
            "\u001b[01;34mipython_sql-0.3.9.dist-info\u001b[0m/\n",
            "\u001b[01;34mipywidgets\u001b[0m/\n",
            "\u001b[01;34mipywidgets-7.5.1.dist-info\u001b[0m/\n",
            "\u001b[01;34mitsdangerous\u001b[0m/\n",
            "\u001b[01;34mitsdangerous-1.1.0.dist-info\u001b[0m/\n",
            "\u001b[01;34mjax\u001b[0m/\n",
            "\u001b[01;34mjax-0.2.0.dist-info\u001b[0m/\n",
            "\u001b[01;34mjaxlib\u001b[0m/\n",
            "\u001b[01;34mjaxlib-0.1.55.dist-info\u001b[0m/\n",
            "\u001b[01;34mjdcal-1.4.1.dist-info\u001b[0m/\n",
            "jdcal.py\n",
            "\u001b[01;34mjedi\u001b[0m/\n",
            "\u001b[01;34mjedi-0.17.2.dist-info\u001b[0m/\n",
            "\u001b[01;34mjieba\u001b[0m/\n",
            "\u001b[01;34mjieba-0.42.1.dist-info\u001b[0m/\n",
            "\u001b[01;34mjinja2\u001b[0m/\n",
            "\u001b[01;34mJinja2-2.11.2.dist-info\u001b[0m/\n",
            "\u001b[01;34mjoblib\u001b[0m/\n",
            "\u001b[01;34mjoblib-0.16.0.dist-info\u001b[0m/\n",
            "\u001b[01;34mjpeg4py\u001b[0m/\n",
            "\u001b[01;34mjpeg4py-0.1.4.dist-info\u001b[0m/\n",
            "\u001b[01;34mjsonschema\u001b[0m/\n",
            "\u001b[01;34mjsonschema-2.6.0.dist-info\u001b[0m/\n",
            "\u001b[01;34mjupyter-1.0.0.dist-info\u001b[0m/\n",
            "\u001b[01;34mjupyter_client\u001b[0m/\n",
            "\u001b[01;34mjupyter_client-5.3.5.dist-info\u001b[0m/\n",
            "\u001b[01;34mjupyter_console\u001b[0m/\n",
            "\u001b[01;34mjupyter_console-5.2.0.dist-info\u001b[0m/\n",
            "\u001b[01;34mjupyter_core\u001b[0m/\n",
            "\u001b[01;34mjupyter_core-4.6.3.dist-info\u001b[0m/\n",
            "\u001b[01;34mjupyterlab_pygments\u001b[0m/\n",
            "\u001b[01;34mjupyterlab_pygments-0.1.2.dist-info\u001b[0m/\n",
            "jupyter.py\n",
            "\u001b[01;34mkaggle\u001b[0m/\n",
            "\u001b[01;34mkaggle-1.5.8.dist-info\u001b[0m/\n",
            "\u001b[01;34mkapre\u001b[0m/\n",
            "\u001b[01;34mkapre-0.1.3.1.dist-info\u001b[0m/\n",
            "\u001b[01;34mkeras\u001b[0m/\n",
            "\u001b[01;34mKeras-2.4.3.dist-info\u001b[0m/\n",
            "\u001b[01;34mkeras_preprocessing\u001b[0m/\n",
            "\u001b[01;34mKeras_Preprocessing-1.1.2.dist-info\u001b[0m/\n",
            "\u001b[01;34mkeras_vis-0.4.1.dist-info\u001b[0m/\n",
            "\u001b[01;34mkiwisolver-1.2.0.dist-info\u001b[0m/\n",
            "\u001b[01;32mkiwisolver.cpython-36m-x86_64-linux-gnu.so\u001b[0m*\n",
            "\u001b[01;34mknnimpute\u001b[0m/\n",
            "\u001b[01;34mknnimpute-0.1.0.dist-info\u001b[0m/\n",
            "\u001b[01;34mkorean_lunar_calendar\u001b[0m/\n",
            "\u001b[01;34mkorean_lunar_calendar-0.2.1.dist-info\u001b[0m/\n",
            "\u001b[01;34mlibfuturize\u001b[0m/\n",
            "\u001b[01;34mlibpasteurize\u001b[0m/\n",
            "\u001b[01;34mlibrosa\u001b[0m/\n",
            "\u001b[01;34mlibrosa-0.6.3.dist-info\u001b[0m/\n",
            "\u001b[01;34mlightgbm\u001b[0m/\n",
            "\u001b[01;34mlightgbm-2.2.3.dist-info\u001b[0m/\n",
            "\u001b[01;34mllvmlite\u001b[0m/\n",
            "\u001b[01;34mllvmlite-0.31.0.dist-info\u001b[0m/\n",
            "\u001b[01;34mlmdb\u001b[0m/\n",
            "\u001b[01;34mlmdb-0.99.dist-info\u001b[0m/\n",
            "\u001b[01;34mlucid\u001b[0m/\n",
            "\u001b[01;34mlucid-0.3.8.dist-info\u001b[0m/\n",
            "\u001b[01;34mlunarcalendar\u001b[0m/\n",
            "\u001b[01;34mLunarCalendar-0.0.9.dist-info\u001b[0m/\n",
            "\u001b[01;34mlxml\u001b[0m/\n",
            "\u001b[01;34mlxml-4.2.6.dist-info\u001b[0m/\n",
            "\u001b[01;34mmarkdown\u001b[0m/\n",
            "\u001b[01;34mMarkdown-3.2.2.dist-info\u001b[0m/\n",
            "\u001b[01;34mmarkupsafe\u001b[0m/\n",
            "\u001b[01;34mMarkupSafe-1.1.1.dist-info\u001b[0m/\n",
            "\u001b[01;34mmatplotlib\u001b[0m/\n",
            "\u001b[01;34mmatplotlib-3.2.2.dist-info\u001b[0m/\n",
            "matplotlib-3.2.2-py3.6-nspkg.pth\n",
            "\u001b[01;34mmatplotlib.libs\u001b[0m/\n",
            "\u001b[01;34mmatplotlib_venn\u001b[0m/\n",
            "\u001b[01;34mmatplotlib_venn-0.11.5.dist-info\u001b[0m/\n",
            "\u001b[01;34mmissingno\u001b[0m/\n",
            "\u001b[01;34mmissingno-0.4.2.dist-info\u001b[0m/\n",
            "\u001b[01;34mmistune-0.8.4.dist-info\u001b[0m/\n",
            "mistune.py\n",
            "\u001b[01;34mmizani\u001b[0m/\n",
            "\u001b[01;34mmizani-0.6.0.dist-info\u001b[0m/\n",
            "\u001b[01;34mmkl-2019.0.dist-info\u001b[0m/\n",
            "\u001b[01;34mmlxtend\u001b[0m/\n",
            "\u001b[01;34mmlxtend-0.14.0.dist-info\u001b[0m/\n",
            "\u001b[01;34mmore_itertools\u001b[0m/\n",
            "\u001b[01;34mmore_itertools-8.5.0.dist-info\u001b[0m/\n",
            "\u001b[01;34mmoviepy\u001b[0m/\n",
            "\u001b[01;34mmoviepy-0.2.3.5.dist-info\u001b[0m/\n",
            "\u001b[01;34mmpl_toolkits\u001b[0m/\n",
            "\u001b[01;34mmpmath\u001b[0m/\n",
            "\u001b[01;34mmpmath-1.1.0.dist-info\u001b[0m/\n",
            "\u001b[01;34mmsgpack\u001b[0m/\n",
            "\u001b[01;34mmsgpack-1.0.0.dist-info\u001b[0m/\n",
            "\u001b[01;34mmultiprocess\u001b[0m/\n",
            "\u001b[01;34mmultiprocess-0.70.10.dist-info\u001b[0m/\n",
            "\u001b[01;34mmultitasking\u001b[0m/\n",
            "\u001b[01;34mmultitasking-0.0.9.dist-info\u001b[0m/\n",
            "\u001b[01;34mmurmurhash\u001b[0m/\n",
            "\u001b[01;34mmurmurhash-1.0.2.dist-info\u001b[0m/\n",
            "\u001b[01;34mmusic21\u001b[0m/\n",
            "\u001b[01;34mmusic21-5.5.0.dist-info\u001b[0m/\n",
            "\u001b[01;34mnatsort\u001b[0m/\n",
            "\u001b[01;34mnatsort-5.5.0.dist-info\u001b[0m/\n",
            "\u001b[01;34mnbclient\u001b[0m/\n",
            "\u001b[01;34mnbclient-0.5.0.dist-info\u001b[0m/\n",
            "\u001b[01;34mnbconvert\u001b[0m/\n",
            "\u001b[01;34mnbconvert-5.6.1.dist-info\u001b[0m/\n",
            "\u001b[01;34mnbformat\u001b[0m/\n",
            "\u001b[01;34mnbformat-5.0.7.dist-info\u001b[0m/\n",
            "\u001b[01;34mnest_asyncio-1.4.1.dist-info\u001b[0m/\n",
            "nest_asyncio.py\n",
            "\u001b[01;34mnetworkx\u001b[0m/\n",
            "\u001b[01;34mnetworkx-2.5.dist-info\u001b[0m/\n",
            "\u001b[01;34mnibabel\u001b[0m/\n",
            "\u001b[01;34mnibabel-3.0.2.dist-info\u001b[0m/\n",
            "\u001b[01;34mnisext\u001b[0m/\n",
            "\u001b[01;34mnltk\u001b[0m/\n",
            "\u001b[01;34mnltk-3.2.5.dist-info\u001b[0m/\n",
            "\u001b[01;34mnotebook\u001b[0m/\n",
            "\u001b[01;34mnotebook-5.3.1.dist-info\u001b[0m/\n",
            "\u001b[01;34mnp_utils\u001b[0m/\n",
            "\u001b[01;34mnp_utils-0.5.12.1.dist-info\u001b[0m/\n",
            "\u001b[01;34mnumba\u001b[0m/\n",
            "\u001b[01;34mnumba-0.48.0.dist-info\u001b[0m/\n",
            "\u001b[01;34mnumbergen\u001b[0m/\n",
            "\u001b[01;34mnumexpr\u001b[0m/\n",
            "\u001b[01;34mnumexpr-2.7.1.dist-info\u001b[0m/\n",
            "\u001b[01;34mnumpy\u001b[0m/\n",
            "\u001b[01;34mnumpy-1.18.5.dist-info\u001b[0m/\n",
            "\u001b[01;34mnumpy.libs\u001b[0m/\n",
            "\u001b[01;34mnvidia_ml_py3-7.352.0.dist-info\u001b[0m/\n",
            "nvidia_smi.py\n",
            "\u001b[01;34moauth2client\u001b[0m/\n",
            "\u001b[01;34moauth2client-4.1.3.dist-info\u001b[0m/\n",
            "\u001b[01;34moauthlib\u001b[0m/\n",
            "\u001b[01;34moauthlib-3.1.0.dist-info\u001b[0m/\n",
            "\u001b[01;34mokgrade\u001b[0m/\n",
            "\u001b[01;34mokgrade-0.4.3.dist-info\u001b[0m/\n",
            "\u001b[01;34monnx_chainer\u001b[0m/\n",
            "\u001b[01;34mopencv_contrib_python-4.1.2.30.dist-info\u001b[0m/\n",
            "\u001b[01;34mopencv_python-4.1.2.30.dist-info\u001b[0m/\n",
            "\u001b[01;34mOpenGL\u001b[0m/\n",
            "\u001b[01;34mopenpyxl\u001b[0m/\n",
            "\u001b[01;34mopenpyxl-2.5.9.dist-info\u001b[0m/\n",
            "\u001b[01;34mopt_einsum\u001b[0m/\n",
            "\u001b[01;34mopt_einsum-3.3.0.dist-info\u001b[0m/\n",
            "\u001b[01;34mosqp\u001b[0m/\n",
            "\u001b[01;34mosqp-0.6.1.dist-info\u001b[0m/\n",
            "\u001b[01;34mosqppurepy\u001b[0m/\n",
            "\u001b[01;34mpackaging\u001b[0m/\n",
            "\u001b[01;34mpackaging-20.4.dist-info\u001b[0m/\n",
            "\u001b[01;34mpalettable\u001b[0m/\n",
            "\u001b[01;34mpalettable-3.3.0.dist-info\u001b[0m/\n",
            "\u001b[01;34mpandas\u001b[0m/\n",
            "\u001b[01;34mpandas-1.1.2.dist-info\u001b[0m/\n",
            "\u001b[01;34mpandas_datareader\u001b[0m/\n",
            "\u001b[01;34mpandas_datareader-0.9.0.dist-info\u001b[0m/\n",
            "\u001b[01;34mpandas_gbq\u001b[0m/\n",
            "\u001b[01;34mpandas_gbq-0.13.2.dist-info\u001b[0m/\n",
            "\u001b[01;34mpandas_profiling\u001b[0m/\n",
            "\u001b[01;34mpandas_profiling-1.4.1.dist-info\u001b[0m/\n",
            "\u001b[01;34mpandocfilters-1.4.2.dist-info\u001b[0m/\n",
            "pandocfilters.py\n",
            "\u001b[01;34mpanel\u001b[0m/\n",
            "\u001b[01;34mpanel-0.9.7.dist-info\u001b[0m/\n",
            "\u001b[01;34mparam\u001b[0m/\n",
            "\u001b[01;34mparam-1.9.3.dist-info\u001b[0m/\n",
            "\u001b[01;34mparso\u001b[0m/\n",
            "\u001b[01;34mparso-0.7.1.dist-info\u001b[0m/\n",
            "\u001b[01;34mpast\u001b[0m/\n",
            "\u001b[01;34mpasta\u001b[0m/\n",
            "\u001b[01;34mpathlib-1.0.1.dist-info\u001b[0m/\n",
            "pathlib.py\n",
            "\u001b[01;34mpatsy\u001b[0m/\n",
            "\u001b[01;34mpatsy-0.5.1.dist-info\u001b[0m/\n",
            "\u001b[01;34mpexpect\u001b[0m/\n",
            "\u001b[01;34mpexpect-4.8.0.dist-info\u001b[0m/\n",
            "\u001b[01;34mpickleshare-0.7.5.dist-info\u001b[0m/\n",
            "pickleshare.py\n",
            "\u001b[01;34mPIL\u001b[0m/\n",
            "\u001b[01;34mPillow-7.0.0.dist-info\u001b[0m/\n",
            "\u001b[01;34mpip\u001b[0m/\n",
            "\u001b[01;34mpip-19.3.1.dist-info\u001b[0m/\n",
            "\u001b[01;34mpiptools\u001b[0m/\n",
            "\u001b[01;34mpip_tools-4.5.1.dist-info\u001b[0m/\n",
            "\u001b[01;34mpkg_resources\u001b[0m/\n",
            "\u001b[01;34mplac-1.1.3.dist-info\u001b[0m/\n",
            "plac_core.py\n",
            "plac_ext.py\n",
            "plac.py\n",
            "plac_tk.py\n",
            "\u001b[01;34mplotly\u001b[0m/\n",
            "\u001b[01;34mplotly-4.4.1.dist-info\u001b[0m/\n",
            "\u001b[01;34m_plotly_future_\u001b[0m/\n",
            "\u001b[01;34m_plotly_utils\u001b[0m/\n",
            "\u001b[01;34mplotlywidget\u001b[0m/\n",
            "\u001b[01;34mplotnine\u001b[0m/\n",
            "\u001b[01;34mplotnine-0.6.0.dist-info\u001b[0m/\n",
            "\u001b[01;34mpluggy\u001b[0m/\n",
            "\u001b[01;34mpluggy-0.7.1.dist-info\u001b[0m/\n",
            "\u001b[01;34mportpicker-1.3.1.dist-info\u001b[0m/\n",
            "portpicker.py\n",
            "\u001b[01;34mprefetch_generator\u001b[0m/\n",
            "\u001b[01;34mprefetch_generator-1.0.1.dist-info\u001b[0m/\n",
            "\u001b[01;34mpreshed\u001b[0m/\n",
            "\u001b[01;34mpreshed-3.0.2.dist-info\u001b[0m/\n",
            "\u001b[01;34mprettytable-0.7.2.dist-info\u001b[0m/\n",
            "prettytable.py\n",
            "\u001b[01;34mprogressbar\u001b[0m/\n",
            "\u001b[01;34mprogressbar2-3.38.0.dist-info\u001b[0m/\n",
            "\u001b[01;34mprometheus_client\u001b[0m/\n",
            "\u001b[01;34mprometheus_client-0.8.0.dist-info\u001b[0m/\n",
            "\u001b[01;34mpromise\u001b[0m/\n",
            "\u001b[01;34mpromise-2.3.dist-info\u001b[0m/\n",
            "\u001b[01;34mprompt_toolkit\u001b[0m/\n",
            "\u001b[01;34mprompt_toolkit-1.0.18.dist-info\u001b[0m/\n",
            "\u001b[01;34mprotobuf-3.12.4.dist-info\u001b[0m/\n",
            "protobuf-3.12.4-py3.6-nspkg.pth\n",
            "\u001b[01;34mpsutil\u001b[0m/\n",
            "\u001b[01;34mpsutil-5.4.8.dist-info\u001b[0m/\n",
            "\u001b[01;34mpsycopg2\u001b[0m/\n",
            "\u001b[01;34mpsycopg2-2.7.6.1.dist-info\u001b[0m/\n",
            "\u001b[01;34mptyprocess\u001b[0m/\n",
            "\u001b[01;34mptyprocess-0.6.0.dist-info\u001b[0m/\n",
            "\u001b[01;32mpvectorc.cpython-36m-x86_64-linux-gnu.so\u001b[0m*\n",
            "\u001b[01;34mpy\u001b[0m/\n",
            "\u001b[01;34mpy-1.9.0.dist-info\u001b[0m/\n",
            "\u001b[01;34mpyarrow\u001b[0m/\n",
            "\u001b[01;34mpyarrow-0.14.1.dist-info\u001b[0m/\n",
            "\u001b[01;34mpyasn1\u001b[0m/\n",
            "\u001b[01;34mpyasn1-0.4.8.dist-info\u001b[0m/\n",
            "\u001b[01;34mpyasn1_modules\u001b[0m/\n",
            "\u001b[01;34mpyasn1_modules-0.2.8.dist-info\u001b[0m/\n",
            "\u001b[01;34m__pycache__\u001b[0m/\n",
            "\u001b[01;34mpycocotools\u001b[0m/\n",
            "\u001b[01;34mpycocotools-2.0.2.dist-info\u001b[0m/\n",
            "\u001b[01;34mpycparser\u001b[0m/\n",
            "\u001b[01;34mpycparser-2.20.dist-info\u001b[0m/\n",
            "\u001b[01;34mpyct\u001b[0m/\n",
            "\u001b[01;34mpyct-0.4.8.dist-info\u001b[0m/\n",
            "\u001b[01;34mpydata_google_auth\u001b[0m/\n",
            "\u001b[01;34mpydata_google_auth-1.1.0.dist-info\u001b[0m/\n",
            "\u001b[01;34mpydot-1.3.0.dist-info\u001b[0m/\n",
            "\u001b[01;34mpydot_ng\u001b[0m/\n",
            "\u001b[01;34mpydot_ng-2.0.0.dist-info\u001b[0m/\n",
            "\u001b[01;34mpydotplus\u001b[0m/\n",
            "\u001b[01;34mpydotplus-2.0.2.dist-info\u001b[0m/\n",
            "pydot.py\n",
            "\u001b[01;34mpydrive\u001b[0m/\n",
            "\u001b[01;34mPyDrive-1.3.1.dist-info\u001b[0m/\n",
            "\u001b[01;34mpyemd\u001b[0m/\n",
            "\u001b[01;34mpyemd-0.5.1.dist-info\u001b[0m/\n",
            "\u001b[01;34mpyglet\u001b[0m/\n",
            "\u001b[01;34mpyglet-1.5.0.dist-info\u001b[0m/\n",
            "\u001b[01;34mpygments\u001b[0m/\n",
            "\u001b[01;34mPygments-2.6.1.dist-info\u001b[0m/\n",
            "pylab.py\n",
            "\u001b[01;34mpymc3\u001b[0m/\n",
            "\u001b[01;34mpymc3-3.7.dist-info\u001b[0m/\n",
            "\u001b[01;34mpymeeus\u001b[0m/\n",
            "\u001b[01;34mPyMeeus-0.3.7.dist-info\u001b[0m/\n",
            "\u001b[01;34mpymongo\u001b[0m/\n",
            "\u001b[01;34mpymongo-3.11.0.dist-info\u001b[0m/\n",
            "\u001b[01;34mpymystem3\u001b[0m/\n",
            "\u001b[01;34mpymystem3-0.2.0.dist-info\u001b[0m/\n",
            "pynvml.py\n",
            "\u001b[01;34mPyOpenGL-3.1.5.dist-info\u001b[0m/\n",
            "\u001b[01;34mpyparsing-2.4.7.dist-info\u001b[0m/\n",
            "pyparsing.py\n",
            "\u001b[01;34mpyrsistent\u001b[0m/\n",
            "\u001b[01;34mpyrsistent-0.17.3.dist-info\u001b[0m/\n",
            "_pyrsistent_version.py\n",
            "\u001b[01;34mpysndfile\u001b[0m/\n",
            "\u001b[01;34mpysndfile-1.3.8.dist-info\u001b[0m/\n",
            "\u001b[01;34mPySocks-1.7.1.dist-info\u001b[0m/\n",
            "\u001b[01;34mpystan\u001b[0m/\n",
            "\u001b[01;34mpystan-2.19.1.1.dist-info\u001b[0m/\n",
            "\u001b[01;34m_pytest\u001b[0m/\n",
            "\u001b[01;34mpytest-3.6.4.dist-info\u001b[0m/\n",
            "pytest.py\n",
            "\u001b[01;34mpython_chess-0.23.11.dist-info\u001b[0m/\n",
            "\u001b[01;34mpython_dateutil-2.8.1.dist-info\u001b[0m/\n",
            "\u001b[01;34mpython_louvain-0.14.dist-info\u001b[0m/\n",
            "\u001b[01;34mpython_slugify-4.0.1.dist-info\u001b[0m/\n",
            "\u001b[01;34mpython_utils\u001b[0m/\n",
            "\u001b[01;34mpython_utils-2.4.0.dist-info\u001b[0m/\n",
            "\u001b[01;34mpytz\u001b[0m/\n",
            "\u001b[01;34mpytz-2018.9.dist-info\u001b[0m/\n",
            "\u001b[01;34mpyviz_comms\u001b[0m/\n",
            "\u001b[01;34mpyviz_comms-0.7.6.dist-info\u001b[0m/\n",
            "\u001b[01;34mPyWavelets-1.1.1.dist-info\u001b[0m/\n",
            "\u001b[01;34mpywt\u001b[0m/\n",
            "\u001b[01;34mpyximport\u001b[0m/\n",
            "\u001b[01;34mPyYAML-3.13.dist-info\u001b[0m/\n",
            "\u001b[01;34mpyzmq-19.0.2.dist-info\u001b[0m/\n",
            "\u001b[01;34mpyzmq.libs\u001b[0m/\n",
            "\u001b[01;34mqtconsole\u001b[0m/\n",
            "\u001b[01;34mqtconsole-4.7.7.dist-info\u001b[0m/\n",
            "\u001b[01;34mqtpy\u001b[0m/\n",
            "\u001b[01;34mQtPy-1.9.0.dist-info\u001b[0m/\n",
            "\u001b[01;34mregex\u001b[0m/\n",
            "\u001b[01;34mregex-2019.12.20.dist-info\u001b[0m/\n",
            "\u001b[01;34mrequests\u001b[0m/\n",
            "\u001b[01;34mrequests-2.23.0.dist-info\u001b[0m/\n",
            "\u001b[01;34mrequests_oauthlib\u001b[0m/\n",
            "\u001b[01;34mrequests_oauthlib-1.3.0.dist-info\u001b[0m/\n",
            "\u001b[01;34mresampy\u001b[0m/\n",
            "\u001b[01;34mresampy-0.2.2.dist-info\u001b[0m/\n",
            "\u001b[01;34mretrying-1.3.3.dist-info\u001b[0m/\n",
            "retrying.py\n",
            "_rinterface_cffi_abi.py\n",
            "\u001b[01;32m_rinterface_cffi_api.abi3.so\u001b[0m*\n",
            "\u001b[01;34mrpy2\u001b[0m/\n",
            "\u001b[01;34mrpy2-3.2.7.dist-info\u001b[0m/\n",
            "\u001b[01;34mrsa\u001b[0m/\n",
            "\u001b[01;34mrsa-4.6.dist-info\u001b[0m/\n",
            "\u001b[01;34msamples\u001b[0m/\n",
            "\u001b[01;34mscikit_image-0.16.2.dist-info\u001b[0m/\n",
            "\u001b[01;34mscikit_learn-0.22.2.post1.dist-info\u001b[0m/\n",
            "\u001b[01;34mscipy\u001b[0m/\n",
            "\u001b[01;34mscipy-1.4.1.dist-info\u001b[0m/\n",
            "\u001b[01;34mscs\u001b[0m/\n",
            "\u001b[01;34mscs-2.1.2.dist-info\u001b[0m/\n",
            "\u001b[01;32m_scs_direct.cpython-36m-x86_64-linux-gnu.so\u001b[0m*\n",
            "\u001b[01;32m_scs_indirect.cpython-36m-x86_64-linux-gnu.so\u001b[0m*\n",
            "\u001b[01;32m_scs_python.cpython-36m-x86_64-linux-gnu.so\u001b[0m*\n",
            "\u001b[01;34mseaborn\u001b[0m/\n",
            "\u001b[01;34mseaborn-0.11.0.dist-info\u001b[0m/\n",
            "\u001b[01;34msend2trash\u001b[0m/\n",
            "\u001b[01;34mSend2Trash-1.5.0.dist-info\u001b[0m/\n",
            "\u001b[01;34msetuptools\u001b[0m/\n",
            "\u001b[01;34msetuptools-50.3.0.dist-info\u001b[0m/\n",
            "\u001b[01;34msetuptools_git\u001b[0m/\n",
            "\u001b[01;34msetuptools_git-1.2.dist-info\u001b[0m/\n",
            "\u001b[01;34mshapely\u001b[0m/\n",
            "\u001b[01;34mShapely-1.7.1.dist-info\u001b[0m/\n",
            "\u001b[01;34msimplegeneric-0.8.1.dist-info\u001b[0m/\n",
            "simplegeneric.py\n",
            "\u001b[01;34msix-1.15.0.dist-info\u001b[0m/\n",
            "six.py\n",
            "\u001b[01;34mskimage\u001b[0m/\n",
            "\u001b[01;34msklearn\u001b[0m/\n",
            "\u001b[01;34msklearn-0.0.dist-info\u001b[0m/\n",
            "\u001b[01;34msklearn_pandas\u001b[0m/\n",
            "\u001b[01;34msklearn_pandas-1.8.0.dist-info\u001b[0m/\n",
            "\u001b[01;34mslugify\u001b[0m/\n",
            "\u001b[01;34mslugify-0.0.1.dist-info\u001b[0m/\n",
            "slugify.py\n",
            "\u001b[01;34msmart_open\u001b[0m/\n",
            "\u001b[01;34msmart_open-2.2.0.dist-info\u001b[0m/\n",
            "\u001b[01;34msnowballstemmer\u001b[0m/\n",
            "\u001b[01;34msnowballstemmer-2.0.0.dist-info\u001b[0m/\n",
            "sockshandler.py\n",
            "socks.py\n",
            "\u001b[01;34msortedcontainers\u001b[0m/\n",
            "\u001b[01;34msortedcontainers-2.2.2.dist-info\u001b[0m/\n",
            "\u001b[01;34mspacy\u001b[0m/\n",
            "\u001b[01;34mspacy-2.2.4.dist-info\u001b[0m/\n",
            "\u001b[01;34msphinx\u001b[0m/\n",
            "\u001b[01;34mSphinx-1.8.5.dist-info\u001b[0m/\n",
            "\u001b[01;34msphinxcontrib\u001b[0m/\n",
            "\u001b[01;34msphinxcontrib_serializinghtml-1.1.4.dist-info\u001b[0m/\n",
            "sphinxcontrib_serializinghtml-1.1.4-py3.8-nspkg.pth\n",
            "\u001b[01;34msphinxcontrib_websupport-1.2.4.dist-info\u001b[0m/\n",
            "sphinxcontrib_websupport-1.2.4-py3.8-nspkg.pth\n",
            "\u001b[01;34msql\u001b[0m/\n",
            "\u001b[01;34msqlalchemy\u001b[0m/\n",
            "\u001b[01;34mSQLAlchemy-1.3.19.dist-info\u001b[0m/\n",
            "\u001b[01;34msqlparse\u001b[0m/\n",
            "\u001b[01;34msqlparse-0.3.1.dist-info\u001b[0m/\n",
            "\u001b[01;34msrsly\u001b[0m/\n",
            "\u001b[01;34msrsly-1.0.2.dist-info\u001b[0m/\n",
            "\u001b[01;34mstatsmodels\u001b[0m/\n",
            "\u001b[01;34mstatsmodels-0.10.2.dist-info\u001b[0m/\n",
            "\u001b[01;34msympy\u001b[0m/\n",
            "\u001b[01;34msympy-1.1.1.dist-info\u001b[0m/\n",
            "\u001b[01;34mtables\u001b[0m/\n",
            "\u001b[01;34mtables-3.4.4.dist-info\u001b[0m/\n",
            "\u001b[01;34mtabulate-0.8.7.dist-info\u001b[0m/\n",
            "tabulate.py\n",
            "\u001b[01;34mtblib\u001b[0m/\n",
            "\u001b[01;34mtblib-1.7.0.dist-info\u001b[0m/\n",
            "\u001b[01;34mtensorboard\u001b[0m/\n",
            "\u001b[01;34mtensorboard-2.3.0.dist-info\u001b[0m/\n",
            "\u001b[01;34mtensorboardcolab\u001b[0m/\n",
            "\u001b[01;34mtensorboardcolab-0.0.22.dist-info\u001b[0m/\n",
            "\u001b[01;34mtensorboard_plugin_wit\u001b[0m/\n",
            "\u001b[01;34mtensorboard_plugin_wit-1.7.0.dist-info\u001b[0m/\n",
            "\u001b[01;34mtensorflow\u001b[0m/\n",
            "\u001b[01;34mtensorflow-2.3.0.dist-info\u001b[0m/\n",
            "\u001b[01;34mtensorflow_addons\u001b[0m/\n",
            "\u001b[01;34mtensorflow_addons-0.8.3.dist-info\u001b[0m/\n",
            "\u001b[01;34mtensorflow_datasets\u001b[0m/\n",
            "\u001b[01;34mtensorflow_datasets-2.1.0.dist-info\u001b[0m/\n",
            "\u001b[01;34mtensorflow_estimator\u001b[0m/\n",
            "\u001b[01;34mtensorflow_estimator-2.3.0.dist-info\u001b[0m/\n",
            "\u001b[01;34mtensorflow_gcs_config\u001b[0m/\n",
            "\u001b[01;34mtensorflow_gcs_config-2.3.0.dist-info\u001b[0m/\n",
            "\u001b[01;34mtensorflow_hub\u001b[0m/\n",
            "\u001b[01;34mtensorflow_hub-0.9.0.dist-info\u001b[0m/\n",
            "\u001b[01;34mtensorflow_metadata\u001b[0m/\n",
            "\u001b[01;34mtensorflow_metadata-0.24.0.dist-info\u001b[0m/\n",
            "\u001b[01;34mtensorflow_privacy\u001b[0m/\n",
            "\u001b[01;34mtensorflow_privacy-0.2.2.dist-info\u001b[0m/\n",
            "\u001b[01;34mtensorflow_probability\u001b[0m/\n",
            "\u001b[01;34mtensorflow_probability-0.11.0.dist-info\u001b[0m/\n",
            "\u001b[01;34mtermcolor-1.1.0.dist-info\u001b[0m/\n",
            "termcolor.py\n",
            "\u001b[01;34mterminado\u001b[0m/\n",
            "\u001b[01;34mterminado-0.9.1.dist-info\u001b[0m/\n",
            "\u001b[01;34mtest\u001b[0m/\n",
            "\u001b[01;34mtestpath\u001b[0m/\n",
            "\u001b[01;34mtestpath-0.4.4.dist-info\u001b[0m/\n",
            "\u001b[01;34mtests\u001b[0m/\n",
            "\u001b[01;34mtextblob\u001b[0m/\n",
            "\u001b[01;34mtextblob-0.15.3.dist-info\u001b[0m/\n",
            "\u001b[01;34mtextgenrnn\u001b[0m/\n",
            "\u001b[01;34mtextgenrnn-1.4.1.dist-info\u001b[0m/\n",
            "\u001b[01;34mtext_unidecode\u001b[0m/\n",
            "\u001b[01;34mtext_unidecode-1.3.dist-info\u001b[0m/\n",
            "\u001b[01;34mtheano\u001b[0m/\n",
            "\u001b[01;34mTheano-1.0.5.dist-info\u001b[0m/\n",
            "\u001b[01;34mthinc\u001b[0m/\n",
            "\u001b[01;34mthinc-7.4.0.dist-info\u001b[0m/\n",
            "\u001b[01;34mtifffile\u001b[0m/\n",
            "\u001b[01;34mtifffile-2020.9.3.dist-info\u001b[0m/\n",
            "\u001b[01;34mtlz\u001b[0m/\n",
            "\u001b[01;34mtoml\u001b[0m/\n",
            "\u001b[01;34mtoml-0.10.1.dist-info\u001b[0m/\n",
            "\u001b[01;34mtoolz\u001b[0m/\n",
            "\u001b[01;34mtoolz-0.11.1.dist-info\u001b[0m/\n",
            "\u001b[01;34mtorch\u001b[0m/\n",
            "\u001b[01;34mtorch-1.6.0+cu101.dist-info\u001b[0m/\n",
            "\u001b[01;34mtorchsummary\u001b[0m/\n",
            "\u001b[01;34mtorchsummary-1.5.1.dist-info\u001b[0m/\n",
            "\u001b[01;34mtorchtext\u001b[0m/\n",
            "\u001b[01;34mtorchtext-0.3.1.dist-info\u001b[0m/\n",
            "\u001b[01;34mtorchvision\u001b[0m/\n",
            "\u001b[01;34mtorchvision-0.7.0+cu101.dist-info\u001b[0m/\n",
            "\u001b[01;34mtornado\u001b[0m/\n",
            "\u001b[01;34mtornado-5.1.1.dist-info\u001b[0m/\n",
            "\u001b[01;34mtqdm\u001b[0m/\n",
            "\u001b[01;34mtqdm-4.41.1.dist-info\u001b[0m/\n",
            "\u001b[01;34mtraitlets\u001b[0m/\n",
            "\u001b[01;34mtraitlets-4.3.3.dist-info\u001b[0m/\n",
            "\u001b[01;34mtree\u001b[0m/\n",
            "\u001b[01;34mtweepy\u001b[0m/\n",
            "\u001b[01;34mtweepy-3.6.0.dist-info\u001b[0m/\n",
            "\u001b[01;34mtypeguard\u001b[0m/\n",
            "\u001b[01;34mtypeguard-2.7.1.dist-info\u001b[0m/\n",
            "\u001b[01;34mtyping_extensions-3.7.4.3.dist-info\u001b[0m/\n",
            "typing_extensions.py\n",
            "\u001b[01;34mtzlocal\u001b[0m/\n",
            "\u001b[01;34mtzlocal-1.5.1.dist-info\u001b[0m/\n",
            "\u001b[01;34mumap\u001b[0m/\n",
            "\u001b[01;34mumap_learn-0.4.6.dist-info\u001b[0m/\n",
            "\u001b[01;34muritemplate\u001b[0m/\n",
            "\u001b[01;34muritemplate-3.0.1.dist-info\u001b[0m/\n",
            "\u001b[01;34murllib3\u001b[0m/\n",
            "\u001b[01;34murllib3-1.24.3.dist-info\u001b[0m/\n",
            "\u001b[01;34mvega_datasets\u001b[0m/\n",
            "\u001b[01;34mvega_datasets-0.8.0.dist-info\u001b[0m/\n",
            "\u001b[01;34mvis\u001b[0m/\n",
            "\u001b[01;34mwasabi\u001b[0m/\n",
            "\u001b[01;34mwasabi-0.8.0.dist-info\u001b[0m/\n",
            "\u001b[01;34mwcwidth\u001b[0m/\n",
            "\u001b[01;34mwcwidth-0.2.5.dist-info\u001b[0m/\n",
            "\u001b[01;34mwebencodings\u001b[0m/\n",
            "\u001b[01;34mwebencodings-0.5.1.dist-info\u001b[0m/\n",
            "\u001b[01;34mwerkzeug\u001b[0m/\n",
            "\u001b[01;34mWerkzeug-1.0.1.dist-info\u001b[0m/\n",
            "\u001b[01;34mwheel\u001b[0m/\n",
            "\u001b[01;34mwheel-0.35.1.dist-info\u001b[0m/\n",
            "\u001b[01;34mwidgetsnbextension\u001b[0m/\n",
            "\u001b[01;34mwidgetsnbextension-3.5.1.dist-info\u001b[0m/\n",
            "\u001b[01;34mwordcloud\u001b[0m/\n",
            "\u001b[01;34mwordcloud-1.5.0.dist-info\u001b[0m/\n",
            "\u001b[01;34mwrapt\u001b[0m/\n",
            "\u001b[01;34mwrapt-1.12.1.dist-info\u001b[0m/\n",
            "\u001b[01;34mxarray\u001b[0m/\n",
            "\u001b[01;34mxarray-0.15.1.dist-info\u001b[0m/\n",
            "\u001b[01;34mxgboost\u001b[0m/\n",
            "\u001b[01;34mxgboost-0.90.dist-info\u001b[0m/\n",
            "\u001b[01;34mxlrd\u001b[0m/\n",
            "\u001b[01;34mxlrd-1.1.0.dist-info\u001b[0m/\n",
            "\u001b[01;34mxlwt\u001b[0m/\n",
            "\u001b[01;34mxlwt-1.3.0.dist-info\u001b[0m/\n",
            "\u001b[01;34myaml\u001b[0m/\n",
            "\u001b[01;34myellowbrick\u001b[0m/\n",
            "\u001b[01;34myellowbrick-0.9.1.dist-info\u001b[0m/\n",
            "\u001b[01;34mzict\u001b[0m/\n",
            "\u001b[01;34mzict-2.0.0.dist-info\u001b[0m/\n",
            "\u001b[01;34mzipp-3.2.0.dist-info\u001b[0m/\n",
            "zipp.py\n",
            "\u001b[01;34mzmq\u001b[0m/\n"
          ],
          "name": "stdout"
        }
      ]
    },
    {
      "cell_type": "markdown",
      "metadata": {
        "id": "-6HY0H-Y8il4"
      },
      "source": [
        "That's where the `fractions` module source code resides. I am using a virtual environment (conda), and the module `fractions.py` resides in that directory."
      ]
    },
    {
      "cell_type": "markdown",
      "metadata": {
        "id": "xdx1RtHV8il5"
      },
      "source": [
        "So a module is an object that is:\n",
        "- loaded from file (maybe! we'll see that in a second)\n",
        "- has a namespace\n",
        "- is a container of global variables (that `__dict__` we saw)\n",
        "- is an execution environment (we'll see that in an upcoming video)"
      ]
    },
    {
      "cell_type": "markdown",
      "metadata": {
        "id": "T3yEoQXT8il5"
      },
      "source": [
        "Of course, modules are just specific data types, and like any other data type in Python (think classes, functions, etc) we can create them dynamically - they do not have to be loaded from file (though that is how we do it most of the time)."
      ]
    },
    {
      "cell_type": "code",
      "metadata": {
        "id": "1KLoVs9K8il6"
      },
      "source": [
        "import types"
      ],
      "execution_count": null,
      "outputs": []
    },
    {
      "cell_type": "code",
      "metadata": {
        "id": "HiEznO_N8il9",
        "outputId": "407852f1-e470-4234-9066-892f792a91c5"
      },
      "source": [
        "isinstance(fractions, types.ModuleType)"
      ],
      "execution_count": null,
      "outputs": [
        {
          "output_type": "execute_result",
          "data": {
            "text/plain": [
              "True"
            ]
          },
          "metadata": {
            "tags": []
          },
          "execution_count": 72
        }
      ]
    },
    {
      "cell_type": "markdown",
      "metadata": {
        "id": "UBGcVAxt8imA"
      },
      "source": [
        "So, modules are instances of the `ModuleType` class."
      ]
    },
    {
      "cell_type": "code",
      "metadata": {
        "id": "mJq3QvoU8imA",
        "outputId": "db489633-446d-402d-8969-804303df58bb"
      },
      "source": [
        "help(ModuleType)"
      ],
      "execution_count": null,
      "outputs": [
        {
          "output_type": "stream",
          "text": [
            "Help on class module in module builtins:\n",
            "\n",
            "class module(object)\n",
            " |  module(name[, doc])\n",
            " |  \n",
            " |  Create a module object.\n",
            " |  The name must be a string; the optional doc argument can have any type.\n",
            " |  \n",
            " |  Methods defined here:\n",
            " |  \n",
            " |  __delattr__(self, name, /)\n",
            " |      Implement delattr(self, name).\n",
            " |  \n",
            " |  __dir__(...)\n",
            " |      __dir__() -> list\n",
            " |      specialized dir() implementation\n",
            " |  \n",
            " |  __getattribute__(self, name, /)\n",
            " |      Return getattr(self, name).\n",
            " |  \n",
            " |  __init__(self, /, *args, **kwargs)\n",
            " |      Initialize self.  See help(type(self)) for accurate signature.\n",
            " |  \n",
            " |  __new__(*args, **kwargs) from builtins.type\n",
            " |      Create and return a new object.  See help(type) for accurate signature.\n",
            " |  \n",
            " |  __repr__(self, /)\n",
            " |      Return repr(self).\n",
            " |  \n",
            " |  __setattr__(self, name, value, /)\n",
            " |      Implement setattr(self, name, value).\n",
            " |  \n",
            " |  ----------------------------------------------------------------------\n",
            " |  Data descriptors defined here:\n",
            " |  \n",
            " |  __dict__\n",
            "\n"
          ],
          "name": "stdout"
        }
      ]
    },
    {
      "cell_type": "markdown",
      "metadata": {
        "id": "ISurQYZc8imD"
      },
      "source": [
        "Let's go ahead and create a new module:"
      ]
    },
    {
      "cell_type": "code",
      "metadata": {
        "id": "Koe5MdJ08imD"
      },
      "source": [
        "mod = types.ModuleType('point', 'A module for handling points.')"
      ],
      "execution_count": null,
      "outputs": []
    },
    {
      "cell_type": "code",
      "metadata": {
        "id": "HE5EO1am8imG",
        "outputId": "20197f58-68b8-4691-d510-556eca24e260"
      },
      "source": [
        "mod"
      ],
      "execution_count": null,
      "outputs": [
        {
          "output_type": "execute_result",
          "data": {
            "text/plain": [
              "<module 'point'>"
            ]
          },
          "metadata": {
            "tags": []
          },
          "execution_count": 60
        }
      ]
    },
    {
      "cell_type": "code",
      "metadata": {
        "id": "yjEKVaM98imJ",
        "outputId": "fc0a426e-ee0b-48f1-ebef-f80c2a155ad6"
      },
      "source": [
        "help(mod)"
      ],
      "execution_count": null,
      "outputs": [
        {
          "output_type": "stream",
          "text": [
            "Help on module point:\n",
            "\n",
            "NAME\n",
            "    point - A module for handling points.\n",
            "\n",
            "FILE\n",
            "    (built-in)\n",
            "\n",
            "\n"
          ],
          "name": "stdout"
        }
      ]
    },
    {
      "cell_type": "markdown",
      "metadata": {
        "id": "i4bRMe2z8imM"
      },
      "source": [
        "OK, so now let's add some functionality to it by simply setting some attributes:"
      ]
    },
    {
      "cell_type": "code",
      "metadata": {
        "id": "HExQZFqJ8imN"
      },
      "source": [
        "from collections import namedtuple\n",
        "mod.Point = namedtuple('Point', 'x y')"
      ],
      "execution_count": null,
      "outputs": []
    },
    {
      "cell_type": "code",
      "metadata": {
        "id": "jXb6sCyt8imQ"
      },
      "source": [
        "def points_distance(pt1, pt2):\n",
        "    return math.sqrt((pt1.x - pt2.x) ** 2 + (pt1.y - pt2.y) ** 2)"
      ],
      "execution_count": null,
      "outputs": []
    },
    {
      "cell_type": "code",
      "metadata": {
        "id": "asFqKp_g8imV"
      },
      "source": [
        "mod.distance = points_distance"
      ],
      "execution_count": null,
      "outputs": []
    },
    {
      "cell_type": "code",
      "metadata": {
        "id": "WRb_WPsY8imY",
        "outputId": "2eb06ad5-96b8-49f3-892d-7fd2ea43392b"
      },
      "source": [
        "mod.__dict__"
      ],
      "execution_count": null,
      "outputs": [
        {
          "output_type": "execute_result",
          "data": {
            "text/plain": [
              "{'Point': __main__.Point,\n",
              " '__doc__': 'A module for handling points.',\n",
              " '__loader__': None,\n",
              " '__name__': 'point',\n",
              " '__package__': None,\n",
              " '__spec__': None,\n",
              " 'distance': <function __main__.points_distance>}"
            ]
          },
          "metadata": {
            "tags": []
          },
          "execution_count": 67
        }
      ]
    },
    {
      "cell_type": "code",
      "metadata": {
        "id": "XwTl-cP88imb"
      },
      "source": [
        "p1 = mod.Point(0, 0)\n",
        "p2 = mod.Point(1, 1)"
      ],
      "execution_count": null,
      "outputs": []
    },
    {
      "cell_type": "code",
      "metadata": {
        "id": "HnOdJTEV8imh",
        "outputId": "b28c58e4-6f46-41e1-9a35-755c2ae3f9e6"
      },
      "source": [
        "mod.distance(p1, p2)"
      ],
      "execution_count": null,
      "outputs": [
        {
          "output_type": "execute_result",
          "data": {
            "text/plain": [
              "1.4142135623730951"
            ]
          },
          "metadata": {
            "tags": []
          },
          "execution_count": 69
        }
      ]
    },
    {
      "cell_type": "markdown",
      "metadata": {
        "id": "wg9whM3y8imj"
      },
      "source": [
        "As you can see it behaves just like an ordinary module.\n",
        "\n",
        "However, one major difference here is that it is not located in the `sys.modules` dictionary - so another module in our program would not know anything about it."
      ]
    },
    {
      "cell_type": "code",
      "metadata": {
        "id": "B7TM6dQnIhMZ"
      },
      "source": [
        ""
      ],
      "execution_count": null,
      "outputs": []
    }
  ]
}