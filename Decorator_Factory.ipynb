{
  "nbformat": 4,
  "nbformat_minor": 0,
  "metadata": {
    "kernelspec": {
      "display_name": "Python 3",
      "language": "python",
      "name": "python3"
    },
    "language_info": {
      "codemirror_mode": {
        "name": "ipython",
        "version": 3
      },
      "file_extension": ".py",
      "mimetype": "text/x-python",
      "name": "python",
      "nbconvert_exporter": "python",
      "pygments_lexer": "ipython3",
      "version": "3.6.2"
    },
    "colab": {
      "name": "Decorator Factory.ipynb",
      "provenance": [],
      "include_colab_link": true
    }
  },
  "cells": [
    {
      "cell_type": "markdown",
      "metadata": {
        "id": "view-in-github",
        "colab_type": "text"
      },
      "source": [
        "<a href=\"https://colab.research.google.com/github/sivasaiyadav8143/Python/blob/master/Decorator_Factory.ipynb\" target=\"_parent\"><img src=\"https://colab.research.google.com/assets/colab-badge.svg\" alt=\"Open In Colab\"/></a>"
      ]
    },
    {
      "cell_type": "markdown",
      "metadata": {
        "id": "n06O6NxJmTHi"
      },
      "source": [
        "\n",
        "\n",
        "### Decorator Factory"
      ]
    },
    {
      "cell_type": "markdown",
      "metadata": {
        "collapsed": true,
        "id": "zEXDSaVrmTHk"
      },
      "source": [
        "We have seen how to create decorators.\n",
        "\n",
        "However we have also been using built-in decorators that can accept parameters, such as `wraps` and `lru_cache`.\n",
        "\n",
        "This can be quite useful and we can accomplish the same thing ourselves."
      ]
    },
    {
      "cell_type": "markdown",
      "metadata": {
        "id": "0d5CpFoQmTHk"
      },
      "source": [
        "First create a timer decorator that used earlier"
      ]
    },
    {
      "cell_type": "code",
      "metadata": {
        "id": "LNcjqs65mTHl"
      },
      "source": [
        "def timed(fn):\n",
        "    from time import perf_counter\n",
        "    \n",
        "    def inner(*args, **kwargs):\n",
        "        start = perf_counter()\n",
        "        result = fn(*args, **kwargs)\n",
        "        end = perf_counter()\n",
        "        elapsed = end - start\n",
        "        print('Run time: {0:.6f}s'.format(elapsed))\n",
        "        return result\n",
        "    \n",
        "    return inner"
      ],
      "execution_count": null,
      "outputs": []
    },
    {
      "cell_type": "code",
      "metadata": {
        "id": "_h9FLt_zmTHp"
      },
      "source": [
        "def calc_fib_recurse(n):\n",
        "    return 1 if n < 3 else calc_fib_recurse(n-1) + calc_fib_recurse(n-2)\n",
        "\n",
        "def fib(n):\n",
        "    return calc_fib_recurse(n)"
      ],
      "execution_count": null,
      "outputs": []
    },
    {
      "cell_type": "markdown",
      "metadata": {
        "id": "GS-CgOhMmTHs"
      },
      "source": [
        "We can decorate our Fibonacci function using the **@** syntax, or the longer syntax as follows:"
      ]
    },
    {
      "cell_type": "code",
      "metadata": {
        "id": "u1ilxwXLmTHs"
      },
      "source": [
        "fib = timed(fib)"
      ],
      "execution_count": null,
      "outputs": []
    },
    {
      "cell_type": "code",
      "metadata": {
        "id": "XZsM074_mTHv",
        "outputId": "651fa15b-370d-4a3c-c4e9-50b59b4068c1"
      },
      "source": [
        "fib(30)"
      ],
      "execution_count": null,
      "outputs": [
        {
          "output_type": "stream",
          "text": [
            "Run time: 0.255260s\n"
          ],
          "name": "stdout"
        },
        {
          "output_type": "execute_result",
          "data": {
            "text/plain": [
              "832040"
            ]
          },
          "metadata": {
            "tags": []
          },
          "execution_count": 4
        }
      ]
    },
    {
      "cell_type": "markdown",
      "metadata": {
        "id": "taJvzJXemTH0"
      },
      "source": [
        "Let's modify this so the timer runs the function multiple times and calculates the average run time:"
      ]
    },
    {
      "cell_type": "code",
      "metadata": {
        "id": "bXS_UCcpmTH0"
      },
      "source": [
        "def timed(fn):\n",
        "    from time import perf_counter\n",
        "\n",
        "    def inner(*args, **kwargs):\n",
        "        total_elapsed = 0\n",
        "        for i in range(10):\n",
        "            start = perf_counter()\n",
        "            result = fn(*args, **kwargs)\n",
        "            end = perf_counter()\n",
        "            total_elapsed += (perf_counter() - start)\n",
        "        avg_elapsed = total_elapsed / 10\n",
        "        print('Avg Run time: {0:.6f}s'.format(avg_elapsed))\n",
        "        return result\n",
        "    \n",
        "    return inner"
      ],
      "execution_count": null,
      "outputs": []
    },
    {
      "cell_type": "markdown",
      "metadata": {
        "id": "Ba9R4LvrmTH8"
      },
      "source": [
        "And again we decorate it using the long syntax:"
      ]
    },
    {
      "cell_type": "code",
      "metadata": {
        "id": "Hy2zJTLNmTH9"
      },
      "source": [
        "def fib(n):\n",
        "    return calc_fib_recurse(n)\n",
        "\n",
        "fib = timed(fib)"
      ],
      "execution_count": null,
      "outputs": []
    },
    {
      "cell_type": "code",
      "metadata": {
        "id": "k_T1I_OwmTIC",
        "outputId": "daad3ceb-412b-4488-dd82-bd10047cb9ea"
      },
      "source": [
        "fib(28)"
      ],
      "execution_count": null,
      "outputs": [
        {
          "output_type": "stream",
          "text": [
            "Avg Run time: 0.098860s\n"
          ],
          "name": "stdout"
        },
        {
          "output_type": "execute_result",
          "data": {
            "text/plain": [
              "317811"
            ]
          },
          "metadata": {
            "tags": []
          },
          "execution_count": 7
        }
      ]
    },
    {
      "cell_type": "markdown",
      "metadata": {
        "id": "o8BVlT_bmTIG"
      },
      "source": [
        "But that value of 10 has been hardcoded. Let's make it a parameter instead."
      ]
    },
    {
      "cell_type": "code",
      "metadata": {
        "id": "O11zwPuWmTIH"
      },
      "source": [
        "def timed(fn, num_reps):\n",
        "    from time import perf_counter\n",
        "    \n",
        "    def inner(*args, **kwargs):\n",
        "        total_elapsed = 0\n",
        "        for i in range(num_reps):\n",
        "            start = perf_counter()\n",
        "            result = fn(*args, **kwargs)\n",
        "            end = perf_counter()\n",
        "            total_elapsed += (perf_counter() - start)\n",
        "        avg_elapsed = total_elapsed / num_reps\n",
        "        print('Avg Run time: {0:.6f}s ({1} reps)'.format(avg_elapsed,\n",
        "                                                        num_reps))\n",
        "        return result\n",
        "    \n",
        "    return inner"
      ],
      "execution_count": null,
      "outputs": []
    },
    {
      "cell_type": "markdown",
      "metadata": {
        "id": "VHoS3ZydmTIJ"
      },
      "source": [
        "Now to decorate our Fibonacci function we **have** to use the long syntax (as we saw in the lecture, the **@** syntax will not work):"
      ]
    },
    {
      "cell_type": "code",
      "metadata": {
        "id": "s7-29W5WmTIK"
      },
      "source": [
        "def fib(n):\n",
        "    return calc_fib_recurse(n)\n",
        "\n",
        "fib = timed(fib, 5)"
      ],
      "execution_count": null,
      "outputs": []
    },
    {
      "cell_type": "code",
      "metadata": {
        "id": "NXr2ZV0LmTIM",
        "outputId": "f0f1035f-dd55-4fb2-fc32-ef5acb4d06d5"
      },
      "source": [
        "fib(28)"
      ],
      "execution_count": null,
      "outputs": [
        {
          "output_type": "stream",
          "text": [
            "Avg Run time: 0.095708s (5 reps)\n"
          ],
          "name": "stdout"
        },
        {
          "output_type": "execute_result",
          "data": {
            "text/plain": [
              "317811"
            ]
          },
          "metadata": {
            "tags": []
          },
          "execution_count": 10
        }
      ]
    },
    {
      "cell_type": "markdown",
      "metadata": {
        "id": "USsjJqzHmTIP"
      },
      "source": [
        "The problem is that we cannot use the `@` decorator syntax because when using that syntax Python passes a **single** argument to the decorator: the function we are decorating - nothing else."
      ]
    },
    {
      "cell_type": "markdown",
      "metadata": {
        "id": "EvB_9fDSmTIQ"
      },
      "source": [
        "Of course we could just use what we did above, but the decorator syntax is kind of neat, so it would be nice to retain the ability to use it."
      ]
    },
    {
      "cell_type": "markdown",
      "metadata": {
        "id": "9aXLrCzjmTIQ"
      },
      "source": [
        "We just need to change our thinking a little bit to do this:\n",
        "\n",
        "First, when we see the following syntax:\n",
        "\n",
        "`\n",
        "@dec\n",
        "def my_func():\n",
        "    pass\n",
        "`\n",
        "\n",
        "we see that `dec` must be a function that takes a single argument, the function being decorated.\n",
        "\n",
        "You'll note that `dec` is just a function, but we do not **call** `dec` when we decorate `my_func`, we simply use the label `dec`.\n",
        "\n",
        "Then Python does:\n",
        "\n",
        "`\n",
        "my_func = dec(my_func)\n",
        "`"
      ]
    },
    {
      "cell_type": "markdown",
      "metadata": {
        "id": "6N8hiwHnmTIR"
      },
      "source": [
        "Let's try a concrete example:"
      ]
    },
    {
      "cell_type": "code",
      "metadata": {
        "id": "-BAglkHomTIR"
      },
      "source": [
        "def dec(fn):\n",
        "    print (\"running dec\")\n",
        "    \n",
        "    def inner(*args, **kwargs):\n",
        "        print(\"running inner\")\n",
        "        return fn(*args, **kwargs)\n",
        "              \n",
        "    return inner"
      ],
      "execution_count": null,
      "outputs": []
    },
    {
      "cell_type": "code",
      "metadata": {
        "id": "V64R1DrrmTIV",
        "outputId": "6c9cbca4-fdb5-4e52-d61b-5dd15e1c2209"
      },
      "source": [
        "@dec\n",
        "def my_func():\n",
        "    print('running my_func')"
      ],
      "execution_count": null,
      "outputs": [
        {
          "output_type": "stream",
          "text": [
            "running dec\n"
          ],
          "name": "stdout"
        }
      ]
    },
    {
      "cell_type": "markdown",
      "metadata": {
        "id": "-UBVNBRFmTIY"
      },
      "source": [
        "As we can see, when we decorated `my_func`, the `dec` function was **called** at that time.\n",
        "\n",
        "(Because Python did this: \n",
        "\n",
        "`my_func = dec(my_func)` \n",
        "\n",
        "so `dec` was called)"
      ]
    },
    {
      "cell_type": "markdown",
      "metadata": {
        "id": "Ec_ObriOmTIZ"
      },
      "source": [
        "And when we now call `my_func`, we see that the `inner` function is called, followed by the original `my_func`"
      ]
    },
    {
      "cell_type": "code",
      "metadata": {
        "id": "0q4jm-V1mTIZ",
        "outputId": "195c8974-4f50-41ea-9d26-1afd9b278ab1"
      },
      "source": [
        "my_func()"
      ],
      "execution_count": null,
      "outputs": [
        {
          "output_type": "stream",
          "text": [
            "running inner\n",
            "running my_func\n"
          ],
          "name": "stdout"
        }
      ]
    },
    {
      "cell_type": "markdown",
      "metadata": {
        "id": "r5iiqZy1mTIc"
      },
      "source": [
        "But what if `dec` was not the decorator itself, but instead created and returned a decorator?\n",
        "\n",
        "Let's see how we might do this:"
      ]
    },
    {
      "cell_type": "code",
      "metadata": {
        "id": "TYJ3hphZmTIc"
      },
      "source": [
        "def dec_factory():\n",
        "    print('running dec_factory')\n",
        "    def dec(fn):\n",
        "        print('running dec')\n",
        "        def inner(*args, **kwargs):\n",
        "            print('running inner')\n",
        "            return fn(*args, **kwargs)\n",
        "        return inner\n",
        "    return dec"
      ],
      "execution_count": null,
      "outputs": []
    },
    {
      "cell_type": "markdown",
      "metadata": {
        "id": "FeOaowbImTIf"
      },
      "source": [
        "So as you can see, calling `dec_generator()` will return that `dec` function which is our decorator:"
      ]
    },
    {
      "cell_type": "code",
      "metadata": {
        "id": "rB7GeJuqmTIf",
        "outputId": "60e6bb76-208c-4650-f1bd-7708c3dcfb22"
      },
      "source": [
        "@dec_factory()\n",
        "def my_func(a, b):\n",
        "    print(a, b)"
      ],
      "execution_count": null,
      "outputs": [
        {
          "output_type": "stream",
          "text": [
            "running dec_factory\n",
            "running dec\n"
          ],
          "name": "stdout"
        }
      ]
    },
    {
      "cell_type": "markdown",
      "metadata": {
        "id": "6tnKAZtemTIi"
      },
      "source": [
        "You can see that both `dec_generator` and `dec` were already called."
      ]
    },
    {
      "cell_type": "code",
      "metadata": {
        "id": "4KbOR6v2mTIi",
        "outputId": "a56d32f4-647b-4331-fd87-f54a0187540c"
      },
      "source": [
        "my_func(10, 20)"
      ],
      "execution_count": null,
      "outputs": [
        {
          "output_type": "stream",
          "text": [
            "running inner\n",
            "10 20\n"
          ],
          "name": "stdout"
        }
      ]
    },
    {
      "cell_type": "markdown",
      "metadata": {
        "id": "CUxk3TxXmTIm"
      },
      "source": [
        "And there you go, all we did is basically create a decorator by calling a function (`dec_factory`) and use the return value of that call (the `dec` function) as our actual decorator."
      ]
    },
    {
      "cell_type": "markdown",
      "metadata": {
        "id": "_g6u8PF2mTIn"
      },
      "source": [
        "We could have done the decoration this way too:"
      ]
    },
    {
      "cell_type": "code",
      "metadata": {
        "id": "C-EOI8BzmTIn",
        "outputId": "928a3619-526b-46a5-f9d9-8e3ad624b11e"
      },
      "source": [
        "dec = dec_factory()"
      ],
      "execution_count": null,
      "outputs": [
        {
          "output_type": "stream",
          "text": [
            "running dec_factory\n"
          ],
          "name": "stdout"
        }
      ]
    },
    {
      "cell_type": "code",
      "metadata": {
        "id": "SlALzhbcmTIp",
        "outputId": "8edf8da1-3549-4be2-e934-309011ebc1a9"
      },
      "source": [
        "@dec\n",
        "def my_func():\n",
        "    print('running my_func')"
      ],
      "execution_count": null,
      "outputs": [
        {
          "output_type": "stream",
          "text": [
            "running dec\n"
          ],
          "name": "stdout"
        }
      ]
    },
    {
      "cell_type": "code",
      "metadata": {
        "id": "sa___gyemTIs",
        "outputId": "eb047fca-023d-4375-9689-18c9890855fa"
      },
      "source": [
        "my_func()"
      ],
      "execution_count": null,
      "outputs": [
        {
          "output_type": "stream",
          "text": [
            "running inner\n",
            "running my_func\n"
          ],
          "name": "stdout"
        }
      ]
    },
    {
      "cell_type": "markdown",
      "metadata": {
        "id": "t3FahyGSmTIu"
      },
      "source": [
        "Or even this way:"
      ]
    },
    {
      "cell_type": "code",
      "metadata": {
        "id": "WqkCsWHlmTIu",
        "outputId": "1dbe8c02-778b-4117-84bf-e36ff77161c7"
      },
      "source": [
        "dec = dec_factory()\n",
        "\n",
        "def my_func():\n",
        "    print('running my_func')\n",
        "\n",
        "my_func = dec(my_func)"
      ],
      "execution_count": null,
      "outputs": [
        {
          "output_type": "stream",
          "text": [
            "running dec_factory\n",
            "running dec\n"
          ],
          "name": "stdout"
        }
      ]
    },
    {
      "cell_type": "code",
      "metadata": {
        "id": "ZwuOoLm3mTIx",
        "outputId": "4ba4f5cd-ec05-4b36-eb6a-33ebe03a4794"
      },
      "source": [
        "my_func()"
      ],
      "execution_count": null,
      "outputs": [
        {
          "output_type": "stream",
          "text": [
            "running inner\n",
            "running my_func\n"
          ],
          "name": "stdout"
        }
      ]
    },
    {
      "cell_type": "markdown",
      "metadata": {
        "id": "T_LwFrZ2mTI0"
      },
      "source": [
        "Of course we could even decorate it this way using a single statement:"
      ]
    },
    {
      "cell_type": "code",
      "metadata": {
        "id": "KKRjc5u2mTI1",
        "outputId": "a5098d04-5355-4131-ff40-d1ceb1df9827"
      },
      "source": [
        "def my_func():\n",
        "    print('running my_func')\n",
        "\n",
        "my_func = dec_factory()(my_func)"
      ],
      "execution_count": null,
      "outputs": [
        {
          "output_type": "stream",
          "text": [
            "running dec_factory\n",
            "running dec\n"
          ],
          "name": "stdout"
        }
      ]
    },
    {
      "cell_type": "code",
      "metadata": {
        "id": "M1KT3jAymTI4",
        "outputId": "2b598c65-c979-48c6-f6ac-4928c9955ff8"
      },
      "source": [
        "my_func()"
      ],
      "execution_count": null,
      "outputs": [
        {
          "output_type": "stream",
          "text": [
            "running inner\n",
            "running my_func\n"
          ],
          "name": "stdout"
        }
      ]
    },
    {
      "cell_type": "markdown",
      "metadata": {
        "id": "stN_TS_bmTI6"
      },
      "source": [
        "OK, so now we have decorated our function using, not a decorator, but a decorator factory as follows:"
      ]
    },
    {
      "cell_type": "code",
      "metadata": {
        "id": "3yMCWlTQmTI6"
      },
      "source": [
        "def dec_factory():\n",
        "    def dec(fn):\n",
        "        def inner(*args, **kwargs):\n",
        "            print('running decorator inner')\n",
        "            return fn(*args, **kwargs)\n",
        "        return inner\n",
        "    return dec"
      ],
      "execution_count": null,
      "outputs": []
    },
    {
      "cell_type": "code",
      "metadata": {
        "id": "VuS7iAPemTI9"
      },
      "source": [
        "@dec_factory()\n",
        "def my_func(a, b):\n",
        "    return a + b"
      ],
      "execution_count": null,
      "outputs": []
    },
    {
      "cell_type": "code",
      "metadata": {
        "id": "WhgccmrBmTI_",
        "outputId": "f9bd11da-3046-45a4-d52a-bedb51279661"
      },
      "source": [
        "my_func(10, 20)"
      ],
      "execution_count": null,
      "outputs": [
        {
          "output_type": "stream",
          "text": [
            "running decorator inner\n"
          ],
          "name": "stdout"
        },
        {
          "output_type": "execute_result",
          "data": {
            "text/plain": [
              "30"
            ]
          },
          "metadata": {
            "tags": []
          },
          "execution_count": 26
        }
      ]
    },
    {
      "cell_type": "markdown",
      "metadata": {
        "id": "kBZNQjUwmTJC"
      },
      "source": [
        "You should note that in this approach, we are **calling** `dec_factory()`, [note the parentheses `()`], and **then** using the return value (a decorator) to decorate our function."
      ]
    },
    {
      "cell_type": "markdown",
      "metadata": {
        "id": "VKPRfcsBmTJD"
      },
      "source": [
        "So, we could pass arguments as we do so without affecting the final outcome. In fact we can even access them from anywhere inside `dec_factory`, including any of the nested functions! \n",
        "\n",
        "Let's try this:"
      ]
    },
    {
      "cell_type": "code",
      "metadata": {
        "id": "7fHt4BWBmTJD"
      },
      "source": [
        "def dec_factory(a, b):\n",
        "    def dec(fn):\n",
        "        def inner(*args, **kwargs):\n",
        "            print('running decorator inner')\n",
        "            print('free vars: ', a, b)  # a and b are free variables!\n",
        "            return fn(*args, **kwargs)\n",
        "        return inner\n",
        "    return dec"
      ],
      "execution_count": 4,
      "outputs": []
    },
    {
      "cell_type": "code",
      "metadata": {
        "id": "HmUxQMyS3MLW"
      },
      "source": [
        "dec = dec_factory(10, 20)"
      ],
      "execution_count": 5,
      "outputs": []
    },
    {
      "cell_type": "code",
      "metadata": {
        "id": "Yt7znu1WmTJF"
      },
      "source": [
        "@dec\n",
        "def my_func():\n",
        "    print('python rocks')"
      ],
      "execution_count": 6,
      "outputs": []
    },
    {
      "cell_type": "code",
      "metadata": {
        "id": "5tgfRQqVmTJJ",
        "outputId": "c308b5e6-f2fe-4337-cc3e-80a6336a95c5",
        "colab": {
          "base_uri": "https://localhost:8080/",
          "height": 68
        }
      },
      "source": [
        "my_func()"
      ],
      "execution_count": 7,
      "outputs": [
        {
          "output_type": "stream",
          "text": [
            "running decorator inner\n",
            "free vars:  10 20\n",
            "python rocks\n"
          ],
          "name": "stdout"
        }
      ]
    },
    {
      "cell_type": "markdown",
      "metadata": {
        "id": "Pvy9gyCw3kAp"
      },
      "source": [
        "Or We could do following way"
      ]
    },
    {
      "cell_type": "code",
      "metadata": {
        "id": "bWxxYaPy3bKj"
      },
      "source": [
        "@dec_factory(10, 20)\n",
        "def my_func():\n",
        "    print('python rocks')\n",
        "\n",
        "# my_func = dec_factory(10,20)(my_func)"
      ],
      "execution_count": 8,
      "outputs": []
    },
    {
      "cell_type": "code",
      "metadata": {
        "id": "ky7GrGk43bBx",
        "outputId": "130bf78a-8a02-4536-b4bc-e3ae092e74f6",
        "colab": {
          "base_uri": "https://localhost:8080/",
          "height": 68
        }
      },
      "source": [
        "my_func()"
      ],
      "execution_count": 9,
      "outputs": [
        {
          "output_type": "stream",
          "text": [
            "running decorator inner\n",
            "free vars:  10 20\n",
            "python rocks\n"
          ],
          "name": "stdout"
        }
      ]
    },
    {
      "cell_type": "markdown",
      "metadata": {
        "id": "S7hwB4jXmTJM"
      },
      "source": [
        "And this is how we can create decorators with parameters. We do not directly create a decorator, instead we use an outer function that returns a decorator when called, and pass arguments to that outer function, which the decorator and its inner function can of course access as nonlocal (free) variables."
      ]
    },
    {
      "cell_type": "markdown",
      "metadata": {
        "id": "sBCMTRj6mTJM"
      },
      "source": [
        "So now, let's go back to our original problem where we wanted our timing decorator to run a number of loops which could be specified as a parameter when decorating the function we want to time.\n",
        "\n",
        "Here it is again:"
      ]
    },
    {
      "cell_type": "code",
      "metadata": {
        "id": "f5ZYOD-UmTJN"
      },
      "source": [
        "def timed(fn, num_reps):\n",
        "    from time import perf_counter\n",
        "    \n",
        "    def inner(*args, **kwargs):\n",
        "        total_elapsed = 0\n",
        "        for i in range(num_reps):\n",
        "            start = perf_counter()\n",
        "            result = fn(*args, **kwargs)\n",
        "            end = perf_counter()\n",
        "            total_elapsed += (perf_counter() - start)\n",
        "        avg_elapsed = total_elapsed / num_reps\n",
        "        print('Avg Run time: {0:.6f}s ({1} reps)'.format(avg_elapsed,\n",
        "                                                        num_reps))\n",
        "        return result\n",
        "    \n",
        "    return inner"
      ],
      "execution_count": null,
      "outputs": []
    },
    {
      "cell_type": "markdown",
      "metadata": {
        "id": "ZyQUUiQ3mTJQ"
      },
      "source": [
        "So, all we need to do is create an outer function around our timed decorator, and pass the `num_reps` argument to that outer function instead:"
      ]
    },
    {
      "cell_type": "code",
      "metadata": {
        "id": "zf99f5JomTJQ"
      },
      "source": [
        "def timed_factory(num_reps=1):\n",
        "    def timed(fn):\n",
        "        from time import perf_counter\n",
        "\n",
        "        def inner(*args, **kwargs):\n",
        "            total_elapsed = 0\n",
        "            for i in range(num_reps):\n",
        "                start = perf_counter()\n",
        "                result = fn(*args, **kwargs)\n",
        "                end = perf_counter()\n",
        "                total_elapsed += (perf_counter() - start)\n",
        "            avg_elapsed = total_elapsed / num_reps\n",
        "            print('Avg Run time: {0:.6f}s ({1} reps)'.format(avg_elapsed,\n",
        "                                                            num_reps))\n",
        "            return result\n",
        "        return inner\n",
        "    return timed    "
      ],
      "execution_count": null,
      "outputs": []
    },
    {
      "cell_type": "code",
      "metadata": {
        "id": "6UzMS8SwmTJU"
      },
      "source": [
        "@timed_factory(5)\n",
        "def fib(n):\n",
        "    return calc_fib_recurse(n)"
      ],
      "execution_count": null,
      "outputs": []
    },
    {
      "cell_type": "code",
      "metadata": {
        "id": "Bh4Rr0KGmTJX",
        "outputId": "2f299c43-8734-4df8-e4a1-e23db6693c1e"
      },
      "source": [
        "fib(30)"
      ],
      "execution_count": null,
      "outputs": [
        {
          "output_type": "stream",
          "text": [
            "Avg Run time: 0.249934s (5 reps)\n"
          ],
          "name": "stdout"
        },
        {
          "output_type": "execute_result",
          "data": {
            "text/plain": [
              "832040"
            ]
          },
          "metadata": {
            "tags": []
          },
          "execution_count": 33
        }
      ]
    },
    {
      "cell_type": "markdown",
      "metadata": {
        "id": "9kh56blumTJa"
      },
      "source": [
        "Just to put the finishing touch on this, we probably don't want to have our outer function named the way it is (`timed_factory`). Instead we probably just want to call it `timed`. So lets just do this final part:"
      ]
    },
    {
      "cell_type": "code",
      "metadata": {
        "id": "wb__0vlrmTJa"
      },
      "source": [
        "from functools import wraps\n",
        "\n",
        "def timed(num_reps=1):\n",
        "    def decorator(fn):\n",
        "        from time import perf_counter\n",
        "\n",
        "        @wraps(fn)\n",
        "        def inner(*args, **kwargs):\n",
        "            total_elapsed = 0\n",
        "            for i in range(num_reps):\n",
        "                start = perf_counter()\n",
        "                result = fn(*args, **kwargs)\n",
        "                end = perf_counter()\n",
        "                total_elapsed += (perf_counter() - start)\n",
        "            avg_elapsed = total_elapsed / num_reps\n",
        "            print('Avg Run time: {0:.6f}s ({1} reps)'.format(avg_elapsed,\n",
        "                                                            num_reps))\n",
        "            return result\n",
        "        return inner\n",
        "    return decorator  "
      ],
      "execution_count": null,
      "outputs": []
    },
    {
      "cell_type": "code",
      "metadata": {
        "id": "2y6dJUxvmTJd"
      },
      "source": [
        "@timed(5)\n",
        "def fib(n):\n",
        "    return calc_fib_recurse(n)"
      ],
      "execution_count": null,
      "outputs": []
    },
    {
      "cell_type": "code",
      "metadata": {
        "id": "jPAa5jZEmTJi",
        "outputId": "064f9326-309b-4835-8523-52bbb5e0b65e"
      },
      "source": [
        "fib(30)"
      ],
      "execution_count": null,
      "outputs": [
        {
          "output_type": "stream",
          "text": [
            "Avg Run time: 0.253744s (5 reps)\n"
          ],
          "name": "stdout"
        },
        {
          "output_type": "execute_result",
          "data": {
            "text/plain": [
              "832040"
            ]
          },
          "metadata": {
            "tags": []
          },
          "execution_count": 36
        }
      ]
    }
  ]
}