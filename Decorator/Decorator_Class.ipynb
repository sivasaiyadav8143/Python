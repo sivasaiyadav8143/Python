{
  "nbformat": 4,
  "nbformat_minor": 0,
  "metadata": {
    "kernelspec": {
      "display_name": "Python 3",
      "language": "python",
      "name": "python3"
    },
    "language_info": {
      "codemirror_mode": {
        "name": "ipython",
        "version": 3
      },
      "file_extension": ".py",
      "mimetype": "text/x-python",
      "name": "python",
      "nbconvert_exporter": "python",
      "pygments_lexer": "ipython3",
      "version": "3.6.2"
    },
    "colab": {
      "name": "Decorator Class.ipynb",
      "provenance": []
    }
  },
  "cells": [
    {
      "cell_type": "markdown",
      "metadata": {
        "id": "3UN4dhJEqeSm"
      },
      "source": [
        "If you recalls how we wrote a parameterized decorator, we had to write a decorator factory that took in the arguments for our decorator and then returned the decorator (which could reference the arguments as free variables).\n",
        "\n",
        "Very simply:"
      ]
    },
    {
      "cell_type": "code",
      "metadata": {
        "id": "z3kn7igoqeSn"
      },
      "source": [
        "def my_dec(a, b):\n",
        "    def dec(fn):\n",
        "        def inner(*args, **kwargs):\n",
        "            print('decorated function called: a={0}, b={1}'.format(a, b))\n",
        "            return fn(*args, **kwargs)\n",
        "        return inner\n",
        "    return dec"
      ],
      "execution_count": null,
      "outputs": []
    },
    {
      "cell_type": "code",
      "metadata": {
        "id": "AKCgFPPNqeSq"
      },
      "source": [
        "@my_dec(10, 20)\n",
        "def my_func(s):\n",
        "    print('hello {0}'.format(s))"
      ],
      "execution_count": null,
      "outputs": []
    },
    {
      "cell_type": "code",
      "metadata": {
        "id": "kdG3Diz_qeSu",
        "outputId": "03eef7e8-07f6-4559-d3c3-0e3e79d0998a"
      },
      "source": [
        "my_func('world')"
      ],
      "execution_count": null,
      "outputs": [
        {
          "output_type": "stream",
          "text": [
            "decorated function called: a=10, b=20\n",
            "hello world\n"
          ],
          "name": "stdout"
        }
      ]
    },
    {
      "cell_type": "markdown",
      "metadata": {
        "id": "HtXJAjTYqeSz"
      },
      "source": [
        "So, our decorator factory was passed some arguments, and returned a callable which took one single parameter, the function being decorated, but also had access to the arguments passed to the factory."
      ]
    },
    {
      "cell_type": "markdown",
      "metadata": {
        "id": "PUCHgIhfqeS0"
      },
      "source": [
        "Now, recall that we can make our class instances callable, simply by implementing the `__call__` method.\n",
        "\n",
        "Here's a simple example:"
      ]
    },
    {
      "cell_type": "code",
      "metadata": {
        "id": "lPbP_zkmqeS0"
      },
      "source": [
        "class MyClass:\n",
        "    def __init__(self, a, b):\n",
        "        self.a = a\n",
        "        self.b = b\n",
        "        \n",
        "    def __call__(self):\n",
        "        print('MyClass instance called: a={0}, b={1}'.format(self.a, self.b))"
      ],
      "execution_count": null,
      "outputs": []
    },
    {
      "cell_type": "code",
      "metadata": {
        "id": "zqHr8VjyqeS3"
      },
      "source": [
        "my_class = MyClass(10, 20)"
      ],
      "execution_count": null,
      "outputs": []
    },
    {
      "cell_type": "code",
      "metadata": {
        "id": "-L5vlBoZqeS6",
        "outputId": "7003d0fb-7657-4a4d-bbaf-42794498f51e",
        "colab": {
          "base_uri": "https://localhost:8080/",
          "height": 34
        }
      },
      "source": [
        "my_class()"
      ],
      "execution_count": null,
      "outputs": [
        {
          "output_type": "stream",
          "text": [
            "MyClass instance called: a=10, b=20\n"
          ],
          "name": "stdout"
        }
      ]
    },
    {
      "cell_type": "code",
      "metadata": {
        "id": "igZyxFwJtvx5",
        "outputId": "6955e64c-da8c-4843-85e1-913a62cc016b",
        "colab": {
          "base_uri": "https://localhost:8080/",
          "height": 34
        }
      },
      "source": [
        "my_class.__call__()"
      ],
      "execution_count": null,
      "outputs": [
        {
          "output_type": "stream",
          "text": [
            "MyClass instance called: a=10, b=20\n"
          ],
          "name": "stdout"
        }
      ]
    },
    {
      "cell_type": "markdown",
      "metadata": {
        "id": "UABq8uNoqeS-"
      },
      "source": [
        "So let's modify this just a bit, and have the `__call__` method be our decorator!"
      ]
    },
    {
      "cell_type": "code",
      "metadata": {
        "id": "OQM3vYjeqeS-"
      },
      "source": [
        "class MyClass: #this is decorator factory\n",
        "    def __init__(self, a, b):\n",
        "        self.a = a\n",
        "        self.b = b\n",
        "        \n",
        "    def __call__(self, fn): #this is decorator now\n",
        "        def inner(*args, **kwargs):\n",
        "            print('MyClass instance called: a={0}, b={1}'.format(self.a, self.b))\n",
        "            return fn(*args, **kwargs)\n",
        "        return inner"
      ],
      "execution_count": null,
      "outputs": []
    },
    {
      "cell_type": "markdown",
      "metadata": {
        "id": "28kYBADLqeTC"
      },
      "source": [
        "So, we can decorate our functions this way:"
      ]
    },
    {
      "cell_type": "code",
      "metadata": {
        "id": "qOBz9apOqeTD"
      },
      "source": [
        "@MyClass(10, 20)\n",
        "def my_func(s):\n",
        "    print('Hello {0}!'.format(s))"
      ],
      "execution_count": null,
      "outputs": []
    },
    {
      "cell_type": "markdown",
      "metadata": {
        "id": "xS3-fQL8qeTG"
      },
      "source": [
        "Remember that `@MyClass(10, 20)` returned an object of type `MyClass`. But  that object is itself callable, so we could do something like:\n",
        "\n",
        "``\n",
        "my_func = MyClass(10, 20)(my_func)\n",
        "``\n",
        "\n",
        "or, more simply\n",
        "\n",
        "``\n",
        "@MyClass(10, 20)\n",
        "def my_func(s):\n",
        "    print(s)\n",
        "``"
      ]
    },
    {
      "cell_type": "code",
      "metadata": {
        "id": "4PjtCsp4qeTG",
        "outputId": "01bb2c6a-1dec-4c16-d2f4-49dbd96f5e19"
      },
      "source": [
        "my_func('Python')"
      ],
      "execution_count": null,
      "outputs": [
        {
          "output_type": "stream",
          "text": [
            "MyClass instance called: a=10, b=20\n",
            "Hello Python!\n"
          ],
          "name": "stdout"
        }
      ]
    },
    {
      "cell_type": "markdown",
      "metadata": {
        "id": "jJ9P6G4yqeTJ"
      },
      "source": [
        "So as you can see, we can also use callable classes to decorate functions!"
      ]
    },
    {
      "cell_type": "code",
      "metadata": {
        "id": "wRi9J1PkqeTJ"
      },
      "source": [
        ""
      ],
      "execution_count": null,
      "outputs": []
    }
  ]
}