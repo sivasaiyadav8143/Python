{
 "cells": [
  {
   "cell_type": "code",
   "execution_count": 11,
   "id": "wanted-permission",
   "metadata": {
    "ExecuteTime": {
     "end_time": "2021-03-12T04:55:20.970092Z",
     "start_time": "2021-03-12T04:55:20.957091Z"
    }
   },
   "outputs": [],
   "source": [
    "import re"
   ]
  },
  {
   "cell_type": "code",
   "execution_count": 12,
   "id": "optimum-occurrence",
   "metadata": {
    "ExecuteTime": {
     "end_time": "2021-03-12T04:55:39.428786Z",
     "start_time": "2021-03-12T04:55:21.921122Z"
    }
   },
   "outputs": [
    {
     "name": "stdout",
     "output_type": "stream",
     "text": [
      "\n",
      "Please enter your First Name: sIVSAI\n",
      "Wrong format! Please try again.\n",
      "\n",
      "Please enter your First Name: Sivasai\n"
     ]
    }
   ],
   "source": [
    "# First Name:\n",
    "# -----------\n",
    "# Does not contain any other characters besides letters.\n",
    "\n",
    "# It starts with a capital letter and all the other letters are lowercase.\n",
    "\n",
    "# Is at least 2 characters long.\n",
    "\n",
    "\n",
    "#Asking the user for the first name and checking the format\n",
    "while True:\n",
    "    fname = input(\"\\nPlease enter your First Name: \")\n",
    "\n",
    "    check = re.fullmatch(r\"[A-Z][a-z]+\", fname)\n",
    "\n",
    "    if check == None:\n",
    "        print(\"Wrong format! Please try again.\")\n",
    "        continue\n",
    "    else:\n",
    "        break\n",
    "\n"
   ]
  },
  {
   "cell_type": "code",
   "execution_count": 13,
   "id": "confused-fisher",
   "metadata": {
    "ExecuteTime": {
     "end_time": "2021-03-12T04:55:45.378069Z",
     "start_time": "2021-03-12T04:55:41.454828Z"
    }
   },
   "outputs": [
    {
     "name": "stdout",
     "output_type": "stream",
     "text": [
      "\n",
      "Please enter your Last Name: Yadav\n"
     ]
    }
   ],
   "source": [
    "# Last Name:\n",
    "# ----------\n",
    "# Does not contain any other characters besides letters.\n",
    "\n",
    "# It starts with a capital letter and all the other letters are lowercase.\n",
    "\n",
    "# Is at least 2 characters long.\n",
    "\n",
    "\n",
    "#Asking the user for the last name and checking the format\n",
    "while True:\n",
    "    lname = input(\"\\nPlease enter your Last Name: \")\n",
    "    \n",
    "    check = re.fullmatch(r\"[A-Z][a-z]+\", lname)\n",
    "\n",
    "    if check == None:\n",
    "        print(\"Wrong format! Please try again.\")\n",
    "        continue\n",
    "    else:\n",
    "        break\n",
    "        "
   ]
  },
  {
   "cell_type": "code",
   "execution_count": 18,
   "id": "english-washington",
   "metadata": {
    "ExecuteTime": {
     "end_time": "2021-03-12T04:58:37.211852Z",
     "start_time": "2021-03-12T04:57:20.835666Z"
    }
   },
   "outputs": [
    {
     "name": "stdout",
     "output_type": "stream",
     "text": [
      "\n",
      "Please enter your Date of Birth (mm/dd/yyyy): 01/01/2003\n",
      "Wrong format! Please try again.\n",
      "\n",
      "Please enter your Date of Birth (mm/dd/yyyy): 12/12/12\n",
      "Wrong format! Please try again.\n",
      "\n",
      "Please enter your Date of Birth (mm/dd/yyyy): 10/10/95\n",
      "Wrong format! Please try again.\n",
      "\n",
      "Please enter your Date of Birth (mm/dd/yyyy): \n",
      "Wrong format! Please try again.\n",
      "\n",
      "Please enter your Date of Birth (mm/dd/yyyy): 01/01/95\n",
      "Wrong format! Please try again.\n",
      "\n",
      "Please enter your Date of Birth (mm/dd/yyyy): 01/01/1995\n"
     ]
    }
   ],
   "source": [
    "# Date of birth:\n",
    "# --------------\n",
    "# The person was born before January 1st 2002.\n",
    "\n",
    "# Contains only digits and forward slashes.\n",
    "\n",
    "# Follows the format MM/DD/YYYY\n",
    "\n",
    "\n",
    "#Asking the user for the date of birth and checking the format\n",
    "while True:\n",
    "    date = input(\"\\nPlease enter your Date of Birth (mm/dd/yyyy): \")\n",
    "    \n",
    "    check = re.fullmatch(r\"(0[1-9]|1[0-2])/(0[1-9]|[12][0-9]|3[01])/(19[0-9][0-9]|200[01])\", date)\n",
    "\n",
    "    if check == None:\n",
    "        print(\"Wrong format! Please try again.\")\n",
    "        continue\n",
    "    else:\n",
    "        break\n"
   ]
  },
  {
   "cell_type": "code",
   "execution_count": 20,
   "id": "micro-cruise",
   "metadata": {
    "ExecuteTime": {
     "end_time": "2021-03-12T04:58:57.900621Z",
     "start_time": "2021-03-12T04:58:55.918013Z"
    }
   },
   "outputs": [
    {
     "name": "stdout",
     "output_type": "stream",
     "text": [
      "\n",
      "Please enter your Email Address: sivasai.yadav@gmail.com\n"
     ]
    }
   ],
   "source": [
    "# Email address:\n",
    "# --------------\n",
    "# Follows the correct format: username@domain.extension\n",
    "\n",
    "# The username may contain only letters, digits, dots or the underscore character.\n",
    "\n",
    "# The domain may contain only lowercase letters.\n",
    "\n",
    "# The extension may contain only 2, 3 or 4 lowercase letters.\n",
    "\n",
    "\n",
    "\n",
    "#Asking the user for the email address and checking the format\n",
    "while True:\n",
    "    email = input(\"\\nPlease enter your Email Address: \")\n",
    "    \n",
    "    check = re.fullmatch(r\"[A-za-z0-9_.]+@[a-z]+\\.[a-z]{2,4}\", email)\n",
    "#     check = re.fullmatch(r\"(\\w|\\.)+@[a-z]+\\.[a-z]{2,4}\", email)\n",
    "\n",
    "    if check == None:\n",
    "        print(\"Wrong format! Please try again.\")\n",
    "        continue\n",
    "    else:\n",
    "        break\n",
    "\n"
   ]
  },
  {
   "cell_type": "code",
   "execution_count": 22,
   "id": "unexpected-wheat",
   "metadata": {
    "ExecuteTime": {
     "end_time": "2021-03-12T04:59:18.700834Z",
     "start_time": "2021-03-12T04:59:13.177791Z"
    }
   },
   "outputs": [
    {
     "name": "stdout",
     "output_type": "stream",
     "text": [
      "\n",
      "Please enter your Username: sivasai\n"
     ]
    }
   ],
   "source": [
    "# Username:\n",
    "# ---------\n",
    "# Does not contain any other characters besides letters, digits or the underscore character.\n",
    "\n",
    "# Has a minimum of 6 characters and a maximum of 12 characters.\n",
    "\n",
    "\n",
    "#Asking the user for the username and checking the format\n",
    "while True:\n",
    "    user = input(\"\\nPlease enter your Username: \")\n",
    "    \n",
    "    check = re.fullmatch(r\"\\w{6,12}\", user)\n",
    "\n",
    "    if check == None:\n",
    "        print(\"Wrong format! Please try again.\")\n",
    "        continue\n",
    "    else:\n",
    "        break\n",
    "\n"
   ]
  },
  {
   "cell_type": "code",
   "execution_count": 10,
   "id": "mobile-establishment",
   "metadata": {
    "ExecuteTime": {
     "end_time": "2021-03-12T04:55:13.728134Z",
     "start_time": "2021-03-12T04:54:57.377865Z"
    }
   },
   "outputs": [
    {
     "name": "stdout",
     "output_type": "stream",
     "text": [
      "\n",
      "Please enter your Password: sivasai!1\n",
      "Wrong format! Please try again.\n",
      "\n",
      "Please enter your Password: sA1!\n",
      "Wrong format! Please try again.\n",
      "\n",
      "Please enter your Password: sAivasai!1\n"
     ]
    }
   ],
   "source": [
    "# Password:\n",
    "# ---------\n",
    "# Is at least 8 characters long.\n",
    "\n",
    "# Starts with a lowercase letter.\n",
    "\n",
    "# Should contain at least one lowercase letter, one uppercase letter, one digit and \n",
    "# one of the following characters: $, &, ?, ! or %.\n",
    "\n",
    "\n",
    "#Asking the user for the password and checking the format\n",
    "while True:\n",
    "    passw = input(\"\\nPlease enter your Password: \")\n",
    "    \n",
    "    check = re.fullmatch(r\"^[a-z](?=.{7,})(?=.*[A-Z])(?=.*\\d)(?=.*[$&?!%])[a-zA-Z0-9$&?!%]+\", passw)\n",
    "#     check = re.fullmatch(r\"^[a-z](?=.{7,})(?=.*[A-Z])(?=.*\\d)(?=.*[$&?!%])[a-zA-Z0-9$&?!%]+$\", passw)\n",
    "    \n",
    "    if check == None:\n",
    "        print(\"Wrong format! Please try again.\")\n",
    "        continue\n",
    "    else:\n",
    "        break\n",
    "\n"
   ]
  },
  {
   "cell_type": "code",
   "execution_count": 14,
   "id": "disturbed-people",
   "metadata": {
    "ExecuteTime": {
     "end_time": "2021-03-12T04:56:17.391657Z",
     "start_time": "2021-03-12T04:55:59.362962Z"
    }
   },
   "outputs": [
    {
     "name": "stdout",
     "output_type": "stream",
     "text": [
      "\n",
      "Please enter your Credit Card Number (no spaces): 6000000000000000\n",
      "Wrong format! Please try again.\n",
      "\n",
      "Please enter your Credit Card Number (no spaces): 4123456789123456\n"
     ]
    }
   ],
   "source": [
    "# Credit card number:\n",
    "# ------------------\n",
    "# The card should be issued by Visa or Mastercard only (starting with a 4 or a 5).\n",
    "\n",
    "# It is exactly 16 digits long and contains no other characters besides digits.\n",
    "\n",
    "\n",
    "#Asking the user for the credit card number and checking the format\n",
    "while True:\n",
    "    ccnum = input(\"\\nPlease enter your Credit Card Number (no spaces): \")\n",
    "    \n",
    "    check = re.fullmatch(r\"[45]\\d{15}\", ccnum)\n",
    "#     check = re.fullmatch(r\"^(4|5)\\d{15}\", ccnum)\n",
    "    \n",
    "    if check == None:\n",
    "        print(\"Wrong format! Please try again.\")\n",
    "        continue\n",
    "    else:\n",
    "        break\n",
    "\n"
   ]
  },
  {
   "cell_type": "code",
   "execution_count": 15,
   "id": "dying-detector",
   "metadata": {
    "ExecuteTime": {
     "end_time": "2021-03-12T04:56:42.166960Z",
     "start_time": "2021-03-12T04:56:19.770916Z"
    }
   },
   "outputs": [
    {
     "name": "stdout",
     "output_type": "stream",
     "text": [
      "\n",
      "Please enter your Credit Card Expiration Date (mm/yy): 12/2020\n",
      "Wrong format! Please try again.\n",
      "\n",
      "Please enter your Credit Card Expiration Date (mm/yy): 10/20\n",
      "Wrong format! Please try again.\n",
      "\n",
      "Please enter your Credit Card Expiration Date (mm/yy): 01/25\n"
     ]
    }
   ],
   "source": [
    "# Credit card expiration date:\n",
    "# ----------------------------\n",
    "# Is not sooner than May 2024 inclusively.\n",
    "\n",
    "# Contains only digits and forward slashes.\n",
    "\n",
    "# Follows the format MM/YY\n",
    "\n",
    "\n",
    "#Asking the user for the credit card expiration date and checking the format\n",
    "while True:\n",
    "    ccdat = input(\"\\nPlease enter your Credit Card Expiration Date (mm/yy): \")\n",
    "    \n",
    "    check = re.fullmatch(r\"((0[5-9]|1[0-2])/24|(0[1-9]|1[0-2])/(2[5-9]|[3-9][0-9]))\", ccdat)\n",
    "    \n",
    "    if check == None:\n",
    "        print(\"Wrong format! Please try again.\")\n",
    "        continue\n",
    "    else:\n",
    "        break\n",
    "\n"
   ]
  },
  {
   "cell_type": "code",
   "execution_count": 16,
   "id": "useful-center",
   "metadata": {
    "ExecuteTime": {
     "end_time": "2021-03-12T04:56:55.839620Z",
     "start_time": "2021-03-12T04:56:45.032622Z"
    }
   },
   "outputs": [
    {
     "name": "stdout",
     "output_type": "stream",
     "text": [
      "\n",
      "Please enter your Credit Card Verification Code: 1234\n",
      "Wrong format! Please try again.\n",
      "\n",
      "Please enter your Credit Card Verification Code: 00A\n",
      "Wrong format! Please try again.\n",
      "\n",
      "Please enter your Credit Card Verification Code: 000\n"
     ]
    }
   ],
   "source": [
    "# Credit card verification code / verification value (CVC / CVV):\n",
    "# -------------------------------------------------------------\n",
    "# Is a 3 digit number, does not contain any other characters.\n",
    "\n",
    "\n",
    "#Asking the user for the credit card verification code and checking the format\n",
    "while True:\n",
    "    cccvc = input(\"\\nPlease enter your Credit Card Verification Code: \")\n",
    "    \n",
    "    check = re.fullmatch(r\"\\d{3}\", cccvc)\n",
    "    \n",
    "    if check == None:\n",
    "        print(\"Wrong format! Please try again.\")\n",
    "        continue\n",
    "    else:\n",
    "        break\n",
    "\n"
   ]
  },
  {
   "cell_type": "code",
   "execution_count": 23,
   "id": "union-ribbon",
   "metadata": {
    "ExecuteTime": {
     "end_time": "2021-03-12T04:59:22.179105Z",
     "start_time": "2021-03-12T04:59:22.169131Z"
    }
   },
   "outputs": [
    {
     "name": "stdout",
     "output_type": "stream",
     "text": [
      "This is your user account information: \n",
      "\n",
      "First Name: Sivasai\n",
      "Last Name: Yadav\n",
      "Date of birth: 01/01/1995\n",
      "Email address: sivasai.yadav@gmail.com\n",
      "Username: sivasai\n",
      "Password: sAivasai!1\n",
      "Card number: 4123456789123456\n",
      "Expiration date: 01/25\n",
      "CVC: 000\n"
     ]
    }
   ],
   "source": [
    "userinfo = [\"First Name: \" + fname, \n",
    "            \"Last Name: \" + lname, \n",
    "            \"Date of birth: \" + date, \n",
    "            \"Email address: \" + email, \n",
    "            \"Username: \" + user, \n",
    "            \"Password: \" + passw, \n",
    "            \"Card number: \" + ccnum, \n",
    "            \"Expiration date: \" + ccdat, \n",
    "            \"CVC: \" + cccvc]\n",
    "\n",
    "string = \"\\n\".join(userinfo)\n",
    "\n",
    "print(\"This is your user account information: \\n\\n\" + string)"
   ]
  },
  {
   "cell_type": "code",
   "execution_count": null,
   "id": "early-stocks",
   "metadata": {},
   "outputs": [],
   "source": []
  }
 ],
 "metadata": {
  "kernelspec": {
   "display_name": "Python 3",
   "language": "python",
   "name": "python3"
  },
  "language_info": {
   "codemirror_mode": {
    "name": "ipython",
    "version": 3
   },
   "file_extension": ".py",
   "mimetype": "text/x-python",
   "name": "python",
   "nbconvert_exporter": "python",
   "pygments_lexer": "ipython3",
   "version": "3.6.10"
  },
  "toc": {
   "base_numbering": 1,
   "nav_menu": {},
   "number_sections": true,
   "sideBar": true,
   "skip_h1_title": false,
   "title_cell": "Table of Contents",
   "title_sidebar": "Contents",
   "toc_cell": false,
   "toc_position": {},
   "toc_section_display": true,
   "toc_window_display": false
  }
 },
 "nbformat": 4,
 "nbformat_minor": 5
}
