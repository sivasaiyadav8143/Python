{
 "cells": [
  {
   "cell_type": "code",
   "execution_count": 1,
   "id": "peaceful-nurse",
   "metadata": {
    "ExecuteTime": {
     "end_time": "2021-03-17T03:55:13.053926Z",
     "start_time": "2021-03-17T03:55:04.184422Z"
    }
   },
   "outputs": [],
   "source": [
    "import openpyxl"
   ]
  },
  {
   "cell_type": "code",
   "execution_count": 2,
   "id": "structural-relations",
   "metadata": {
    "ExecuteTime": {
     "end_time": "2021-03-17T03:55:13.415358Z",
     "start_time": "2021-03-17T03:55:13.064370Z"
    }
   },
   "outputs": [],
   "source": [
    "workbook = openpyxl.load_workbook('Employees.xlsx')"
   ]
  },
  {
   "cell_type": "code",
   "execution_count": 3,
   "id": "ancient-possibility",
   "metadata": {
    "ExecuteTime": {
     "end_time": "2021-03-17T03:55:13.444340Z",
     "start_time": "2021-03-17T03:55:13.422652Z"
    }
   },
   "outputs": [
    {
     "data": {
      "text/plain": [
       "['EmployeeData', 'Skills']"
      ]
     },
     "execution_count": 3,
     "metadata": {},
     "output_type": "execute_result"
    }
   ],
   "source": [
    "workbook.sheetnames"
   ]
  },
  {
   "cell_type": "code",
   "execution_count": 4,
   "id": "unlike-causing",
   "metadata": {
    "ExecuteTime": {
     "end_time": "2021-03-17T03:55:13.584240Z",
     "start_time": "2021-03-17T03:55:13.450517Z"
    }
   },
   "outputs": [],
   "source": [
    "sheet1 = workbook['EmployeeData']"
   ]
  },
  {
   "cell_type": "code",
   "execution_count": 5,
   "id": "alert-hometown",
   "metadata": {
    "ExecuteTime": {
     "end_time": "2021-03-17T03:55:13.726492Z",
     "start_time": "2021-03-17T03:55:13.597599Z"
    }
   },
   "outputs": [
    {
     "data": {
      "text/plain": [
       "'A1:G21'"
      ]
     },
     "execution_count": 5,
     "metadata": {},
     "output_type": "execute_result"
    }
   ],
   "source": [
    "sheet1.dimensions"
   ]
  },
  {
   "cell_type": "code",
   "execution_count": 6,
   "id": "smooth-fleet",
   "metadata": {
    "ExecuteTime": {
     "end_time": "2021-03-17T03:55:13.879905Z",
     "start_time": "2021-03-17T03:55:13.744849Z"
    }
   },
   "outputs": [
    {
     "name": "stdout",
     "output_type": "stream",
     "text": [
      "('ID', 'FirstName', 'LastName', 'Department', 'Phone', 'Address', 'Salary')\n",
      "(1, 'Luke', 'Phillip', 'Sales', 5564567890, '1st Address, Miami', 25000)\n",
      "(2, 'Jack', 'Darren', 'IT', 3444567891, '2nd Address, Chicago', 33600)\n",
      "(3, 'Ken', 'Wood', 'IT', 5524567892, '3rd Address, LA', 41150)\n",
      "(4, 'John', 'Wilson', 'Marketing', 1124567893, '4th Address, Chicago', 50000)\n",
      "(5, 'Emily', 'Larson', 'Marketing', 1234567894, '5th Address, Miami', 48700)\n",
      "(6, 'Anna', 'Sullivan', 'Sales', 3324567895, '6th Address, Miami', 29000)\n",
      "(7, 'Richard', 'Smith', 'Logistics', 6894567896, '7th Address, New York', 66000)\n",
      "(8, 'Ronnie', 'Moore', 'Sales', 8974567897, '8th Address, New York', 87000)\n",
      "(9, 'Andrew', 'Drake', 'IT', 6654567898, '9th Address, Las Vegas', 66900)\n",
      "(10, 'Wayne', 'Barker', 'Logistics', 9884567899, '10th Address, Las Vegas', 89000)\n",
      "(11, 'Gina', 'Baker', 'Logistics', 1154567900, '11th Address, Chicago', 31800)\n",
      "(12, 'Andy', 'Williams', 'HR', 1094567901, '12th Address, Chicago', 65500)\n",
      "(13, 'Jack', 'Wood', 'Logistics', 2044567902, '13th Address, New York', 90300)\n",
      "(14, 'Jane', 'Phills', 'HR', 1664567903, '14th Address, New York', 77700)\n",
      "(15, 'Ron', 'Johnson', 'Sales', 1664567904, '15th Address, New York', 26250)\n",
      "(16, 'Jackie', 'Stanley', 'Sales', 6894567905, '16th Address, Las Vegas', 38400)\n",
      "(17, 'Charles', 'Meyer', 'Marketing', 1154567906, '17th Address, Las Vegas', 47000)\n",
      "(18, 'Charlie', 'Smith', 'Marketing', 9884567907, '18th Address, Las Vegas', 49000)\n",
      "(19, 'Wayne', 'Andrews', 'Sales', 3324567908, '19th Address, LA', 52000)\n",
      "(20, 'Adrian', 'Harrison', 'IT', 1234567909, '20th Address, LA', 21160)\n"
     ]
    }
   ],
   "source": [
    "for i in sheet1.values:\n",
    "    print(i)"
   ]
  },
  {
   "cell_type": "code",
   "execution_count": 7,
   "id": "ethical-armstrong",
   "metadata": {
    "ExecuteTime": {
     "end_time": "2021-03-17T03:55:14.120875Z",
     "start_time": "2021-03-17T03:55:13.886730Z"
    }
   },
   "outputs": [],
   "source": [
    "data = []\n",
    "for row in sheet1.values:\n",
    "    a,b,c,d,e,f,g = row\n",
    "    data.append('{};{};{};{};{};{};{}'.format(a,b,c,d,e,f,g))"
   ]
  },
  {
   "cell_type": "code",
   "execution_count": 8,
   "id": "greenhouse-preserve",
   "metadata": {
    "ExecuteTime": {
     "end_time": "2021-03-17T03:55:14.316976Z",
     "start_time": "2021-03-17T03:55:14.123867Z"
    }
   },
   "outputs": [
    {
     "data": {
      "text/plain": [
       "['ID;FirstName;LastName;Department;Phone;Address;Salary',\n",
       " '1;Luke;Phillip;Sales;5564567890;1st Address, Miami;25000',\n",
       " '2;Jack;Darren;IT;3444567891;2nd Address, Chicago;33600',\n",
       " '3;Ken;Wood;IT;5524567892;3rd Address, LA;41150',\n",
       " '4;John;Wilson;Marketing;1124567893;4th Address, Chicago;50000',\n",
       " '5;Emily;Larson;Marketing;1234567894;5th Address, Miami;48700',\n",
       " '6;Anna;Sullivan;Sales;3324567895;6th Address, Miami;29000',\n",
       " '7;Richard;Smith;Logistics;6894567896;7th Address, New York;66000',\n",
       " '8;Ronnie;Moore;Sales;8974567897;8th Address, New York;87000',\n",
       " '9;Andrew;Drake;IT;6654567898;9th Address, Las Vegas;66900',\n",
       " '10;Wayne;Barker;Logistics;9884567899;10th Address, Las Vegas;89000',\n",
       " '11;Gina;Baker;Logistics;1154567900;11th Address, Chicago;31800',\n",
       " '12;Andy;Williams;HR;1094567901;12th Address, Chicago;65500',\n",
       " '13;Jack;Wood;Logistics;2044567902;13th Address, New York;90300',\n",
       " '14;Jane;Phills;HR;1664567903;14th Address, New York;77700',\n",
       " '15;Ron;Johnson;Sales;1664567904;15th Address, New York;26250',\n",
       " '16;Jackie;Stanley;Sales;6894567905;16th Address, Las Vegas;38400',\n",
       " '17;Charles;Meyer;Marketing;1154567906;17th Address, Las Vegas;47000',\n",
       " '18;Charlie;Smith;Marketing;9884567907;18th Address, Las Vegas;49000',\n",
       " '19;Wayne;Andrews;Sales;3324567908;19th Address, LA;52000',\n",
       " '20;Adrian;Harrison;IT;1234567909;20th Address, LA;21160']"
      ]
     },
     "execution_count": 8,
     "metadata": {},
     "output_type": "execute_result"
    }
   ],
   "source": [
    "data"
   ]
  },
  {
   "cell_type": "code",
   "execution_count": 9,
   "id": "built-consequence",
   "metadata": {
    "ExecuteTime": {
     "end_time": "2021-03-17T03:55:14.557587Z",
     "start_time": "2021-03-17T03:55:14.326060Z"
    }
   },
   "outputs": [],
   "source": [
    "emp = '\\n'.join(data)"
   ]
  },
  {
   "cell_type": "code",
   "execution_count": 26,
   "id": "separate-validity",
   "metadata": {
    "ExecuteTime": {
     "end_time": "2021-03-17T04:31:44.500345Z",
     "start_time": "2021-03-17T04:31:44.494230Z"
    }
   },
   "outputs": [
    {
     "name": "stdout",
     "output_type": "stream",
     "text": [
      "ID;FirstName;LastName;Department;Phone;Address;Salary\n",
      "1;Luke;Phillip;Sales;5564567890;1st Address, Miami;25000\n",
      "2;Jack;Darren;IT;3444567891;2nd Address, Chicago;33600\n",
      "3;Ken;Wood;IT;5524567892;3rd Address, LA;41150\n",
      "4;John;Wilson;Marketing;1124567893;4th Address, Chicago;50000\n",
      "5;Emily;Larson;Marketing;1234567894;5th Address, Miami;48700\n",
      "6;Anna;Sullivan;Sales;3324567895;6th Address, Miami;29000\n",
      "7;Richard;Smith;Logistics;6894567896;7th Address, New York;66000\n",
      "8;Ronnie;Moore;Sales;8974567897;8th Address, New York;87000\n",
      "9;Andrew;Drake;IT;6654567898;9th Address, Las Vegas;66900\n",
      "10;Wayne;Barker;Logistics;9884567899;10th Address, Las Vegas;89000\n",
      "11;Gina;Baker;Logistics;1154567900;11th Address, Chicago;31800\n",
      "12;Andy;Williams;HR;1094567901;12th Address, Chicago;65500\n",
      "13;Jack;Wood;Logistics;2044567902;13th Address, New York;90300\n",
      "14;Jane;Phills;HR;1664567903;14th Address, New York;77700\n",
      "15;Ron;Johnson;Sales;1664567904;15th Address, New York;26250\n",
      "16;Jackie;Stanley;Sales;6894567905;16th Address, Las Vegas;38400\n",
      "17;Charles;Meyer;Marketing;1154567906;17th Address, Las Vegas;47000\n",
      "18;Charlie;Smith;Marketing;9884567907;18th Address, Las Vegas;49000\n",
      "19;Wayne;Andrews;Sales;3324567908;19th Address, LA;52000\n",
      "20;Adrian;Harrison;IT;1234567909;20th Address, LA;21160\n"
     ]
    }
   ],
   "source": [
    "print(emp)"
   ]
  },
  {
   "cell_type": "code",
   "execution_count": 11,
   "id": "artificial-syndicate",
   "metadata": {
    "ExecuteTime": {
     "end_time": "2021-03-17T03:55:14.933335Z",
     "start_time": "2021-03-17T03:55:14.751839Z"
    }
   },
   "outputs": [],
   "source": [
    "import re"
   ]
  },
  {
   "cell_type": "code",
   "execution_count": 12,
   "id": "light-fever",
   "metadata": {
    "ExecuteTime": {
     "end_time": "2021-03-17T03:55:15.211974Z",
     "start_time": "2021-03-17T03:55:14.938796Z"
    }
   },
   "outputs": [
    {
     "data": {
      "text/plain": [
       "['Phillip', 'Sullivan', 'Johnson']"
      ]
     },
     "execution_count": 12,
     "metadata": {},
     "output_type": "execute_result"
    }
   ],
   "source": [
    "re.findall(r'\\d{1,};\\w+;(\\w+);\\w+;\\d+;.+;2[4-9]\\d{3}',emp)"
   ]
  },
  {
   "cell_type": "code",
   "execution_count": 15,
   "id": "interesting-address",
   "metadata": {
    "ExecuteTime": {
     "end_time": "2021-03-17T03:56:21.464650Z",
     "start_time": "2021-03-17T03:56:21.447716Z"
    }
   },
   "outputs": [
    {
     "data": {
      "text/plain": [
       "['Wood', 'Drake', 'Meyer', 'Smith']"
      ]
     },
     "execution_count": 15,
     "metadata": {},
     "output_type": "execute_result"
    }
   ],
   "source": [
    "re.findall(r'\\d{1,};.+;(\\w{1,5});(?:IT|Marketing);.+',emp)\n",
    "# re.findall(r'\\d{1};.+;(.{1,5});(IT|Marketing);.+',emp)"
   ]
  },
  {
   "cell_type": "code",
   "execution_count": 16,
   "id": "retained-minnesota",
   "metadata": {
    "ExecuteTime": {
     "end_time": "2021-03-17T03:57:40.830653Z",
     "start_time": "2021-03-17T03:57:40.820940Z"
    }
   },
   "outputs": [
    {
     "data": {
      "text/plain": [
       "['Ronnie']"
      ]
     },
     "execution_count": 16,
     "metadata": {},
     "output_type": "execute_result"
    }
   ],
   "source": [
    "re.findall(r'\\d{1,};([P-Z]\\w+);\\w+;\\w+;[2468]\\d+[13579];.+',emp)"
   ]
  },
  {
   "cell_type": "code",
   "execution_count": 21,
   "id": "olive-natural",
   "metadata": {
    "ExecuteTime": {
     "end_time": "2021-03-17T04:09:47.547651Z",
     "start_time": "2021-03-17T04:09:47.540572Z"
    }
   },
   "outputs": [
    {
     "data": {
      "text/plain": [
       "[('Ronnie', 'Moore', '8974567897'), ('Ron', 'Johnson', '1664567904')]"
      ]
     },
     "execution_count": 21,
     "metadata": {},
     "output_type": "execute_result"
    }
   ],
   "source": [
    "re.findall(r'\\d{1,};(\\w+);(\\w+);Sales;(\\d+);.+,\\sNew York;\\d+',emp)\n",
    "# re.findall(r'\\d{1,};(\\w+);(\\w+);Sales;(\\d+);.+New York;\\d+',emp)"
   ]
  },
  {
   "cell_type": "code",
   "execution_count": 31,
   "id": "streaming-comment",
   "metadata": {
    "ExecuteTime": {
     "end_time": "2021-03-17T04:34:01.007949Z",
     "start_time": "2021-03-17T04:34:00.989971Z"
    }
   },
   "outputs": [],
   "source": [
    "res = re.findall(r'\\d{1,};\\w+;(\\w+);\\w+;\\d+;.+, (?!Miami)',emp)"
   ]
  },
  {
   "cell_type": "code",
   "execution_count": 32,
   "id": "steady-julian",
   "metadata": {
    "ExecuteTime": {
     "end_time": "2021-03-17T04:34:04.663112Z",
     "start_time": "2021-03-17T04:34:04.644817Z"
    }
   },
   "outputs": [
    {
     "data": {
      "text/plain": [
       "17"
      ]
     },
     "execution_count": 32,
     "metadata": {},
     "output_type": "execute_result"
    }
   ],
   "source": [
    "len(res)"
   ]
  },
  {
   "cell_type": "code",
   "execution_count": 33,
   "id": "monetary-overhead",
   "metadata": {
    "ExecuteTime": {
     "end_time": "2021-03-17T07:44:30.152009Z",
     "start_time": "2021-03-17T07:44:06.644954Z"
    }
   },
   "outputs": [],
   "source": [
    "import pandas as pd\n",
    "\n",
    "path = 'https://en.wikipedia.org/wiki/Python_(programming_language)'"
   ]
  },
  {
   "cell_type": "code",
   "execution_count": 34,
   "id": "suspended-sixth",
   "metadata": {
    "ExecuteTime": {
     "end_time": "2021-03-17T07:44:52.283162Z",
     "start_time": "2021-03-17T07:44:44.175165Z"
    }
   },
   "outputs": [],
   "source": [
    "tab = pd.read_html(path)"
   ]
  },
  {
   "cell_type": "code",
   "execution_count": 36,
   "id": "relative-washer",
   "metadata": {
    "ExecuteTime": {
     "end_time": "2021-03-17T07:45:09.024755Z",
     "start_time": "2021-03-17T07:45:09.003263Z"
    }
   },
   "outputs": [
    {
     "data": {
      "text/plain": [
       "14"
      ]
     },
     "execution_count": 36,
     "metadata": {},
     "output_type": "execute_result"
    }
   ],
   "source": [
    "len(tab)"
   ]
  },
  {
   "cell_type": "code",
   "execution_count": 45,
   "id": "painted-minutes",
   "metadata": {
    "ExecuteTime": {
     "end_time": "2021-03-17T07:55:38.400931Z",
     "start_time": "2021-03-17T07:55:38.371076Z"
    }
   },
   "outputs": [
    {
     "data": {
      "text/html": [
       "<div>\n",
       "<style scoped>\n",
       "    .dataframe tbody tr th:only-of-type {\n",
       "        vertical-align: middle;\n",
       "    }\n",
       "\n",
       "    .dataframe tbody tr th {\n",
       "        vertical-align: top;\n",
       "    }\n",
       "\n",
       "    .dataframe thead th {\n",
       "        text-align: right;\n",
       "    }\n",
       "</style>\n",
       "<table border=\"1\" class=\"dataframe\">\n",
       "  <thead>\n",
       "    <tr style=\"text-align: right;\">\n",
       "      <th></th>\n",
       "      <th>Type</th>\n",
       "      <th>Mutability</th>\n",
       "      <th>Description</th>\n",
       "      <th>Syntax examples</th>\n",
       "    </tr>\n",
       "  </thead>\n",
       "  <tbody>\n",
       "    <tr>\n",
       "      <th>0</th>\n",
       "      <td>bool</td>\n",
       "      <td>immutable</td>\n",
       "      <td>Boolean value</td>\n",
       "      <td>TrueFalse</td>\n",
       "    </tr>\n",
       "    <tr>\n",
       "      <th>1</th>\n",
       "      <td>bytearray</td>\n",
       "      <td>mutable</td>\n",
       "      <td>Sequence of bytes</td>\n",
       "      <td>bytearray(b'Some ASCII')bytearray(b\"Some ASCII...</td>\n",
       "    </tr>\n",
       "    <tr>\n",
       "      <th>2</th>\n",
       "      <td>bytes</td>\n",
       "      <td>immutable</td>\n",
       "      <td>Sequence of bytes</td>\n",
       "      <td>b'Some ASCII'b\"Some ASCII\"bytes([119, 105, 107...</td>\n",
       "    </tr>\n",
       "    <tr>\n",
       "      <th>3</th>\n",
       "      <td>complex</td>\n",
       "      <td>immutable</td>\n",
       "      <td>Complex number with real and imaginary parts</td>\n",
       "      <td>3+2.7j3 + 2.7j</td>\n",
       "    </tr>\n",
       "    <tr>\n",
       "      <th>4</th>\n",
       "      <td>dict</td>\n",
       "      <td>mutable</td>\n",
       "      <td>Associative array (or dictionary) of key and v...</td>\n",
       "      <td>{'key1': 1.0, 3: False}{}</td>\n",
       "    </tr>\n",
       "    <tr>\n",
       "      <th>5</th>\n",
       "      <td>ellipsisa</td>\n",
       "      <td>immutable</td>\n",
       "      <td>An ellipsis placeholder to be used as an index...</td>\n",
       "      <td>...Ellipsis</td>\n",
       "    </tr>\n",
       "    <tr>\n",
       "      <th>6</th>\n",
       "      <td>float</td>\n",
       "      <td>immutable</td>\n",
       "      <td>Double-precision floating-point number. The pr...</td>\n",
       "      <td>1.414</td>\n",
       "    </tr>\n",
       "    <tr>\n",
       "      <th>7</th>\n",
       "      <td>frozenset</td>\n",
       "      <td>immutable</td>\n",
       "      <td>Unordered set, contains no duplicates; can con...</td>\n",
       "      <td>frozenset([4.0, 'string', True])</td>\n",
       "    </tr>\n",
       "    <tr>\n",
       "      <th>8</th>\n",
       "      <td>int</td>\n",
       "      <td>immutable</td>\n",
       "      <td>Integer of unlimited magnitude[100]</td>\n",
       "      <td>42</td>\n",
       "    </tr>\n",
       "    <tr>\n",
       "      <th>9</th>\n",
       "      <td>list</td>\n",
       "      <td>mutable</td>\n",
       "      <td>List, can contain mixed types</td>\n",
       "      <td>[4.0, 'string', True][]</td>\n",
       "    </tr>\n",
       "    <tr>\n",
       "      <th>10</th>\n",
       "      <td>NoneTypea</td>\n",
       "      <td>immutable</td>\n",
       "      <td>An object representing the absence of a value,...</td>\n",
       "      <td>None</td>\n",
       "    </tr>\n",
       "    <tr>\n",
       "      <th>11</th>\n",
       "      <td>NotImplementedTypea</td>\n",
       "      <td>immutable</td>\n",
       "      <td>A placeholder that can be returned from overlo...</td>\n",
       "      <td>NotImplemented</td>\n",
       "    </tr>\n",
       "    <tr>\n",
       "      <th>12</th>\n",
       "      <td>range</td>\n",
       "      <td>immutable</td>\n",
       "      <td>A Sequence of numbers commonly used for loopin...</td>\n",
       "      <td>range(1, 10)range(10, -5, -2)</td>\n",
       "    </tr>\n",
       "    <tr>\n",
       "      <th>13</th>\n",
       "      <td>set</td>\n",
       "      <td>mutable</td>\n",
       "      <td>Unordered set, contains no duplicates; can con...</td>\n",
       "      <td>{4.0, 'string', True}set()</td>\n",
       "    </tr>\n",
       "    <tr>\n",
       "      <th>14</th>\n",
       "      <td>str</td>\n",
       "      <td>immutable</td>\n",
       "      <td>A character string: sequence of Unicode codepo...</td>\n",
       "      <td>'Wikipedia'\"Wikipedia\"\"\"\"Spanning multiple lin...</td>\n",
       "    </tr>\n",
       "    <tr>\n",
       "      <th>15</th>\n",
       "      <td>tuple</td>\n",
       "      <td>immutable</td>\n",
       "      <td>Can contain mixed types</td>\n",
       "      <td>(4.0, 'string', True)('single element',)()</td>\n",
       "    </tr>\n",
       "  </tbody>\n",
       "</table>\n",
       "</div>"
      ],
      "text/plain": [
       "                   Type Mutability  \\\n",
       "0                  bool  immutable   \n",
       "1             bytearray    mutable   \n",
       "2                 bytes  immutable   \n",
       "3               complex  immutable   \n",
       "4                  dict    mutable   \n",
       "5             ellipsisa  immutable   \n",
       "6                 float  immutable   \n",
       "7             frozenset  immutable   \n",
       "8                   int  immutable   \n",
       "9                  list    mutable   \n",
       "10            NoneTypea  immutable   \n",
       "11  NotImplementedTypea  immutable   \n",
       "12                range  immutable   \n",
       "13                  set    mutable   \n",
       "14                  str  immutable   \n",
       "15                tuple  immutable   \n",
       "\n",
       "                                          Description  \\\n",
       "0                                       Boolean value   \n",
       "1                                   Sequence of bytes   \n",
       "2                                   Sequence of bytes   \n",
       "3        Complex number with real and imaginary parts   \n",
       "4   Associative array (or dictionary) of key and v...   \n",
       "5   An ellipsis placeholder to be used as an index...   \n",
       "6   Double-precision floating-point number. The pr...   \n",
       "7   Unordered set, contains no duplicates; can con...   \n",
       "8                 Integer of unlimited magnitude[100]   \n",
       "9                       List, can contain mixed types   \n",
       "10  An object representing the absence of a value,...   \n",
       "11  A placeholder that can be returned from overlo...   \n",
       "12  A Sequence of numbers commonly used for loopin...   \n",
       "13  Unordered set, contains no duplicates; can con...   \n",
       "14  A character string: sequence of Unicode codepo...   \n",
       "15                            Can contain mixed types   \n",
       "\n",
       "                                      Syntax examples  \n",
       "0                                           TrueFalse  \n",
       "1   bytearray(b'Some ASCII')bytearray(b\"Some ASCII...  \n",
       "2   b'Some ASCII'b\"Some ASCII\"bytes([119, 105, 107...  \n",
       "3                                      3+2.7j3 + 2.7j  \n",
       "4                           {'key1': 1.0, 3: False}{}  \n",
       "5                                         ...Ellipsis  \n",
       "6                                               1.414  \n",
       "7                    frozenset([4.0, 'string', True])  \n",
       "8                                                  42  \n",
       "9                             [4.0, 'string', True][]  \n",
       "10                                               None  \n",
       "11                                     NotImplemented  \n",
       "12                      range(1, 10)range(10, -5, -2)  \n",
       "13                         {4.0, 'string', True}set()  \n",
       "14  'Wikipedia'\"Wikipedia\"\"\"\"Spanning multiple lin...  \n",
       "15         (4.0, 'string', True)('single element',)()  "
      ]
     },
     "execution_count": 45,
     "metadata": {},
     "output_type": "execute_result"
    }
   ],
   "source": [
    "tab[2]"
   ]
  },
  {
   "cell_type": "code",
   "execution_count": 43,
   "id": "activated-bulgaria",
   "metadata": {
    "ExecuteTime": {
     "end_time": "2021-03-17T07:55:12.339057Z",
     "start_time": "2021-03-17T07:55:12.327902Z"
    }
   },
   "outputs": [],
   "source": [
    "df = tab[2].to_string()"
   ]
  },
  {
   "cell_type": "code",
   "execution_count": 48,
   "id": "three-mother",
   "metadata": {
    "ExecuteTime": {
     "end_time": "2021-03-17T08:01:18.154135Z",
     "start_time": "2021-03-17T08:01:18.135088Z"
    }
   },
   "outputs": [
    {
     "data": {
      "text/plain": [
       "'                   Type Mutability                                                                                                                                                                     Description                                                                  Syntax examples\\n0                  bool  immutable                                                                                                                                                                   Boolean value                                                                        TrueFalse\\n1             bytearray    mutable                                                                                                                                                               Sequence of bytes  bytearray(b\\'Some ASCII\\')bytearray(b\"Some ASCII\")bytearray([119, 105, 107, 105])\\n2                 bytes  immutable                                                                                                                                                               Sequence of bytes                            b\\'Some ASCII\\'b\"Some ASCII\"bytes([119, 105, 107, 105])\\n3               complex  immutable                                                                                                                                    Complex number with real and imaginary parts                                                                   3+2.7j3 + 2.7j\\n4                  dict    mutable                                               Associative array (or dictionary) of key and value pairs; can contain mixed types (keys and values), keys must be a hashable type                                                        {\\'key1\\': 1.0, 3: False}{}\\n5             ellipsisa  immutable                                                                                                                  An ellipsis placeholder to be used as an index in NumPy arrays                                                                      ...Ellipsis\\n6                 float  immutable  Double-precision floating-point number. The precision is machine-dependent but in practice is generally implemented as a 64-bit IEEE 754 number with 53 bits of precision.[99]                                                                            1.414\\n7             frozenset  immutable                                                                                                     Unordered set, contains no duplicates; can contain mixed types, if hashable                                                 frozenset([4.0, \\'string\\', True])\\n8                   int  immutable                                                                                                                                             Integer of unlimited magnitude[100]                                                                               42\\n9                  list    mutable                                                                                                                                                   List, can contain mixed types                                                          [4.0, \\'string\\', True][]\\n10            NoneTypea  immutable                                                                                             An object representing the absence of a value, often called null in other languages                                                                             None\\n11  NotImplementedTypea  immutable                                                                             A placeholder that can be returned from overloaded operators to indicate unsupported operand types.                                                                   NotImplemented\\n12                range  immutable                                                                                      A Sequence of numbers commonly used for looping specific number of times in for loops[101]                                                    range(1, 10)range(10, -5, -2)\\n13                  set    mutable                                                                                                     Unordered set, contains no duplicates; can contain mixed types, if hashable                                                       {4.0, \\'string\\', True}set()\\n14                  str  immutable                                                                                                                              A character string: sequence of Unicode codepoints                              \\'Wikipedia\\'\"Wikipedia\"\"\"\"Spanning multiple lines\"\"\"\\n15                tuple  immutable                                                                                                                                                         Can contain mixed types                                       (4.0, \\'string\\', True)(\\'single element\\',)()'"
      ]
     },
     "execution_count": 48,
     "metadata": {},
     "output_type": "execute_result"
    }
   ],
   "source": [
    "df"
   ]
  },
  {
   "cell_type": "code",
   "execution_count": 50,
   "id": "empirical-agenda",
   "metadata": {
    "ExecuteTime": {
     "end_time": "2021-03-17T08:03:08.641166Z",
     "start_time": "2021-03-17T08:03:08.627827Z"
    }
   },
   "outputs": [
    {
     "data": {
      "text/plain": [
       "['bytearray', 'dict', 'list', 'set']"
      ]
     },
     "execution_count": 50,
     "metadata": {},
     "output_type": "execute_result"
    }
   ],
   "source": [
    "re.findall(r'\\n\\d{1,}\\s+(\\w+)\\s+mutable.+',df)"
   ]
  },
  {
   "cell_type": "code",
   "execution_count": 53,
   "id": "strange-patch",
   "metadata": {
    "ExecuteTime": {
     "end_time": "2021-03-17T08:35:38.798995Z",
     "start_time": "2021-03-17T08:35:38.782007Z"
    }
   },
   "outputs": [
    {
     "data": {
      "text/plain": [
       "['dict', 'set']"
      ]
     },
     "execution_count": 53,
     "metadata": {},
     "output_type": "execute_result"
    }
   ],
   "source": [
    "re.findall(r'\\n\\d{1,}\\s+(\\w+)\\s+.+\\s+\\{.*\\}+',df)"
   ]
  },
  {
   "cell_type": "code",
   "execution_count": 64,
   "id": "conceptual-montana",
   "metadata": {
    "ExecuteTime": {
     "end_time": "2021-03-17T08:51:31.661199Z",
     "start_time": "2021-03-17T08:51:31.647238Z"
    }
   },
   "outputs": [
    {
     "data": {
      "text/plain": [
       "['Boolean value',\n",
       " 'Associative array (or dictionary) of key and value pairs; can contain mixed types (keys and values), keys must be a hashable type',\n",
       " 'precision.[99]',\n",
       " 'immutable',\n",
       " 'Integer of unlimited magnitude[100]',\n",
       " 'mutable',\n",
       " 'Unordered set, contains no duplicates; can contain mixed types, if hashable',\n",
       " 'A character string: sequence of Unicode codepoints']"
      ]
     },
     "execution_count": 64,
     "metadata": {},
     "output_type": "execute_result"
    }
   ],
   "source": [
    "re.findall(r'\\d{1,}\\s+\\w{1,4}\\s+\\w+\\s+(.+?)\\s{2,}',df)"
   ]
  },
  {
   "cell_type": "code",
   "execution_count": 70,
   "id": "continuous-cradle",
   "metadata": {
    "ExecuteTime": {
     "end_time": "2021-03-17T08:59:06.285690Z",
     "start_time": "2021-03-17T08:59:06.278742Z"
    }
   },
   "outputs": [
    {
     "data": {
      "text/plain": [
       "['Sequence o',\n",
       " 'Complex nu',\n",
       " 'An ellipsi',\n",
       " 'precision.',\n",
       " 'Unordered ',\n",
       " 'List, can ',\n",
       " 'A placehol',\n",
       " 'Unordered ',\n",
       " 'Can contai']"
      ]
     },
     "execution_count": 70,
     "metadata": {},
     "output_type": "execute_result"
    }
   ],
   "source": [
    "# re.findall(r'(?:[13579]|1[135])\\s+\\w+\\s+\\w+\\s+(.{10}).+',df)\n",
    "re.findall(r'\\d*[13579]\\s+\\w+\\s+\\w+\\s+(.{10}).+',df)"
   ]
  },
  {
   "cell_type": "code",
   "execution_count": 71,
   "id": "swedish-isaac",
   "metadata": {
    "ExecuteTime": {
     "end_time": "2021-03-17T09:03:11.694114Z",
     "start_time": "2021-03-17T09:03:11.678155Z"
    }
   },
   "outputs": [
    {
     "data": {
      "text/html": [
       "<div>\n",
       "<style scoped>\n",
       "    .dataframe tbody tr th:only-of-type {\n",
       "        vertical-align: middle;\n",
       "    }\n",
       "\n",
       "    .dataframe tbody tr th {\n",
       "        vertical-align: top;\n",
       "    }\n",
       "\n",
       "    .dataframe thead th {\n",
       "        text-align: right;\n",
       "    }\n",
       "</style>\n",
       "<table border=\"1\" class=\"dataframe\">\n",
       "  <thead>\n",
       "    <tr style=\"text-align: right;\">\n",
       "      <th></th>\n",
       "      <th>Type</th>\n",
       "      <th>Mutability</th>\n",
       "      <th>Description</th>\n",
       "      <th>Syntax examples</th>\n",
       "    </tr>\n",
       "  </thead>\n",
       "  <tbody>\n",
       "    <tr>\n",
       "      <th>0</th>\n",
       "      <td>bool</td>\n",
       "      <td>immutable</td>\n",
       "      <td>Boolean value</td>\n",
       "      <td>TrueFalse</td>\n",
       "    </tr>\n",
       "    <tr>\n",
       "      <th>1</th>\n",
       "      <td>bytearray</td>\n",
       "      <td>mutable</td>\n",
       "      <td>Sequence of bytes</td>\n",
       "      <td>bytearray(b'Some ASCII')bytearray(b\"Some ASCII...</td>\n",
       "    </tr>\n",
       "    <tr>\n",
       "      <th>2</th>\n",
       "      <td>bytes</td>\n",
       "      <td>immutable</td>\n",
       "      <td>Sequence of bytes</td>\n",
       "      <td>b'Some ASCII'b\"Some ASCII\"bytes([119, 105, 107...</td>\n",
       "    </tr>\n",
       "    <tr>\n",
       "      <th>3</th>\n",
       "      <td>complex</td>\n",
       "      <td>immutable</td>\n",
       "      <td>Complex number with real and imaginary parts</td>\n",
       "      <td>3+2.7j3 + 2.7j</td>\n",
       "    </tr>\n",
       "    <tr>\n",
       "      <th>4</th>\n",
       "      <td>dict</td>\n",
       "      <td>mutable</td>\n",
       "      <td>Associative array (or dictionary) of key and v...</td>\n",
       "      <td>{'key1': 1.0, 3: False}{}</td>\n",
       "    </tr>\n",
       "  </tbody>\n",
       "</table>\n",
       "</div>"
      ],
      "text/plain": [
       "        Type Mutability                                        Description  \\\n",
       "0       bool  immutable                                      Boolean value   \n",
       "1  bytearray    mutable                                  Sequence of bytes   \n",
       "2      bytes  immutable                                  Sequence of bytes   \n",
       "3    complex  immutable       Complex number with real and imaginary parts   \n",
       "4       dict    mutable  Associative array (or dictionary) of key and v...   \n",
       "\n",
       "                                     Syntax examples  \n",
       "0                                          TrueFalse  \n",
       "1  bytearray(b'Some ASCII')bytearray(b\"Some ASCII...  \n",
       "2  b'Some ASCII'b\"Some ASCII\"bytes([119, 105, 107...  \n",
       "3                                     3+2.7j3 + 2.7j  \n",
       "4                          {'key1': 1.0, 3: False}{}  "
      ]
     },
     "execution_count": 71,
     "metadata": {},
     "output_type": "execute_result"
    }
   ],
   "source": [
    "tab[2][:5]"
   ]
  },
  {
   "cell_type": "code",
   "execution_count": 81,
   "id": "underlying-rotation",
   "metadata": {
    "ExecuteTime": {
     "end_time": "2021-03-17T09:21:33.979485Z",
     "start_time": "2021-03-17T09:21:33.216343Z"
    }
   },
   "outputs": [
    {
     "data": {
      "text/plain": [
       "['complex', 'dict', 'float', 'frozenset', 'list', 'set', 'tuple']"
      ]
     },
     "execution_count": 81,
     "metadata": {},
     "output_type": "execute_result"
    }
   ],
   "source": [
    "re.findall(r'\\n\\d+\\s+(\\w+)\\s+.+\\s{2,}.+\\d+\\.\\d+.+',df)"
   ]
  },
  {
   "cell_type": "code",
   "execution_count": 80,
   "id": "wired-island",
   "metadata": {
    "ExecuteTime": {
     "end_time": "2021-03-17T09:21:21.150166Z",
     "start_time": "2021-03-17T09:21:21.142219Z"
    }
   },
   "outputs": [
    {
     "data": {
      "text/plain": [
       "['complex', 'dict', 'float', 'frozenset', 'list', 'set', 'tuple']"
      ]
     },
     "execution_count": 80,
     "metadata": {},
     "output_type": "execute_result"
    }
   ],
   "source": [
    "re.findall(r\"\\n\\d{1,}\\s{1,}(\\w+?)\\s{1,}.+\\d{1,}\\.\\d{1,}\", df)"
   ]
  },
  {
   "cell_type": "code",
   "execution_count": 85,
   "id": "portable-crawford",
   "metadata": {
    "ExecuteTime": {
     "end_time": "2021-03-17T09:33:02.958020Z",
     "start_time": "2021-03-17T09:33:02.944028Z"
    }
   },
   "outputs": [
    {
     "data": {
      "text/plain": [
       "['Integer of unlimited magnitude[100]                                                                             ',\n",
       " 'A character string: sequence of Unicode codepoints                            ']"
      ]
     },
     "execution_count": 85,
     "metadata": {},
     "output_type": "execute_result"
    }
   ],
   "source": [
    "re.findall(r\"\\n\\d+\\s+\\w{,3}\\s+immutable\\s+(.+)\\s{2,}.+\", df)"
   ]
  },
  {
   "cell_type": "code",
   "execution_count": null,
   "id": "collect-cycle",
   "metadata": {},
   "outputs": [],
   "source": []
  }
 ],
 "metadata": {
  "kernelspec": {
   "display_name": "Python 3",
   "language": "python",
   "name": "python3"
  },
  "language_info": {
   "codemirror_mode": {
    "name": "ipython",
    "version": 3
   },
   "file_extension": ".py",
   "mimetype": "text/x-python",
   "name": "python",
   "nbconvert_exporter": "python",
   "pygments_lexer": "ipython3",
   "version": "3.6.10"
  },
  "toc": {
   "base_numbering": 1,
   "nav_menu": {},
   "number_sections": true,
   "sideBar": true,
   "skip_h1_title": false,
   "title_cell": "Table of Contents",
   "title_sidebar": "Contents",
   "toc_cell": false,
   "toc_position": {},
   "toc_section_display": true,
   "toc_window_display": false
  }
 },
 "nbformat": 4,
 "nbformat_minor": 5
}
