{
  "nbformat": 4,
  "nbformat_minor": 0,
  "metadata": {
    "kernelspec": {
      "display_name": "Python 3",
      "language": "python",
      "name": "python3"
    },
    "language_info": {
      "codemirror_mode": {
        "name": "ipython",
        "version": 3
      },
      "file_extension": ".py",
      "mimetype": "text/x-python",
      "name": "python",
      "nbconvert_exporter": "python",
      "pygments_lexer": "ipython3",
      "version": "3.6.1"
    },
    "colab": {
      "name": "Practice.ipynb",
      "provenance": [],
      "include_colab_link": true
    }
  },
  "cells": [
    {
      "cell_type": "markdown",
      "metadata": {
        "id": "view-in-github",
        "colab_type": "text"
      },
      "source": [
        "<a href=\"https://colab.research.google.com/github/sivasaiyadav8143/Python/blob/master/Practice.ipynb\" target=\"_parent\"><img src=\"https://colab.research.google.com/assets/colab-badge.svg\" alt=\"Open In Colab\"/></a>"
      ]
    },
    {
      "cell_type": "markdown",
      "metadata": {
        "id": "Oej-e3Fd3wTR",
        "colab_type": "text"
      },
      "source": [
        "### Putting all Together"
      ]
    },
    {
      "cell_type": "markdown",
      "metadata": {
        "id": "KZMWvKc43wTS",
        "colab_type": "text"
      },
      "source": [
        "Positionals Only: no extra positionals, no defaults (all positionals required)"
      ]
    },
    {
      "cell_type": "code",
      "metadata": {
        "id": "7AX_j6OJ3wTT",
        "colab_type": "code",
        "colab": {}
      },
      "source": [
        "def func(a, b):\n",
        "    print(a, b)"
      ],
      "execution_count": null,
      "outputs": []
    },
    {
      "cell_type": "code",
      "metadata": {
        "id": "9eAr8Yr93wTY",
        "colab_type": "code",
        "colab": {},
        "outputId": "c36bc380-8446-4e05-c76c-468e8712d6af"
      },
      "source": [
        "func('hello', 'world')"
      ],
      "execution_count": null,
      "outputs": [
        {
          "output_type": "stream",
          "text": [
            "hello world\n"
          ],
          "name": "stdout"
        }
      ]
    },
    {
      "cell_type": "code",
      "metadata": {
        "id": "SP1yJNyX3wTd",
        "colab_type": "code",
        "colab": {},
        "outputId": "29118982-4c1a-434a-9108-1fe404f6ebd5"
      },
      "source": [
        "func(b='world', a='hello')"
      ],
      "execution_count": null,
      "outputs": [
        {
          "output_type": "stream",
          "text": [
            "hello world\n"
          ],
          "name": "stdout"
        }
      ]
    },
    {
      "cell_type": "markdown",
      "metadata": {
        "id": "iOHLSeX03wTg",
        "colab_type": "text"
      },
      "source": [
        "Positionals Only: no extra positionals, defaults (some positionals optional)"
      ]
    },
    {
      "cell_type": "code",
      "metadata": {
        "id": "pYAfr2-q3wTg",
        "colab_type": "code",
        "colab": {}
      },
      "source": [
        "def func(a, b='world', c=10):\n",
        "    print(a, b, c)"
      ],
      "execution_count": null,
      "outputs": []
    },
    {
      "cell_type": "code",
      "metadata": {
        "id": "d5fzAgXv3wTm",
        "colab_type": "code",
        "colab": {},
        "outputId": "57e5d871-8508-4fd6-ecd2-a42b36280762"
      },
      "source": [
        "func('hello')"
      ],
      "execution_count": null,
      "outputs": [
        {
          "output_type": "stream",
          "text": [
            "hello world 10\n"
          ],
          "name": "stdout"
        }
      ]
    },
    {
      "cell_type": "code",
      "metadata": {
        "id": "ZX2pUJg-3wTp",
        "colab_type": "code",
        "colab": {},
        "outputId": "291afcc9-35b0-40b5-b8ab-2a71cd4e0cb0"
      },
      "source": [
        "func('hello', c='!')"
      ],
      "execution_count": null,
      "outputs": [
        {
          "output_type": "stream",
          "text": [
            "hello world !\n"
          ],
          "name": "stdout"
        }
      ]
    },
    {
      "cell_type": "markdown",
      "metadata": {
        "id": "EgMsZ4fK3wTs",
        "colab_type": "text"
      },
      "source": [
        "Positionals Only: extra positionals, no defaults (all positionals required)"
      ]
    },
    {
      "cell_type": "code",
      "metadata": {
        "id": "rB3YaI8o3wTt",
        "colab_type": "code",
        "colab": {}
      },
      "source": [
        "def func(a, b, *args):\n",
        "    print(a, b, args)"
      ],
      "execution_count": null,
      "outputs": []
    },
    {
      "cell_type": "code",
      "metadata": {
        "id": "5NL2Tnhb3wTw",
        "colab_type": "code",
        "colab": {},
        "outputId": "d7dda3d9-894d-48e9-ffe9-9c5e972d7048"
      },
      "source": [
        "func(1, 2, 'x', 'y', 'z')"
      ],
      "execution_count": null,
      "outputs": [
        {
          "output_type": "stream",
          "text": [
            "1 2 ('x', 'y', 'z')\n"
          ],
          "name": "stdout"
        }
      ]
    },
    {
      "cell_type": "markdown",
      "metadata": {
        "id": "xBErAFa33wTz",
        "colab_type": "text"
      },
      "source": [
        "Note that we cannot call the function this way:"
      ]
    },
    {
      "cell_type": "code",
      "metadata": {
        "id": "k72dI7km3wT0",
        "colab_type": "code",
        "colab": {},
        "outputId": "7cd265de-316c-4ab5-d774-2ae571119de9"
      },
      "source": [
        "func(b=2, a=1, 'x', 'y', 'z')"
      ],
      "execution_count": null,
      "outputs": [
        {
          "output_type": "error",
          "ename": "SyntaxError",
          "evalue": "positional argument follows keyword argument (<ipython-input-9-f1b0ffb3b67d>, line 1)",
          "traceback": [
            "\u001b[1;36m  File \u001b[1;32m\"<ipython-input-9-f1b0ffb3b67d>\"\u001b[1;36m, line \u001b[1;32m1\u001b[0m\n\u001b[1;33m    func(b=2, a=1, 'x', 'y', 'z')\u001b[0m\n\u001b[1;37m                  ^\u001b[0m\n\u001b[1;31mSyntaxError\u001b[0m\u001b[1;31m:\u001b[0m positional argument follows keyword argument\n"
          ]
        }
      ]
    },
    {
      "cell_type": "markdown",
      "metadata": {
        "id": "3xExjhqY3wT3",
        "colab_type": "text"
      },
      "source": [
        "Keywords Only: no positionals, no defaults (all keyword args required)"
      ]
    },
    {
      "cell_type": "code",
      "metadata": {
        "id": "j6tjC1BJ3wT3",
        "colab_type": "code",
        "colab": {}
      },
      "source": [
        "def func(*, a, b):\n",
        "    print(a, b)"
      ],
      "execution_count": null,
      "outputs": []
    },
    {
      "cell_type": "code",
      "metadata": {
        "id": "YewnpWdK3wT7",
        "colab_type": "code",
        "colab": {},
        "outputId": "952ec2af-c504-48e2-c143-69baf80b0ac4"
      },
      "source": [
        "func(a=1, b=2)"
      ],
      "execution_count": null,
      "outputs": [
        {
          "output_type": "stream",
          "text": [
            "1 2\n"
          ],
          "name": "stdout"
        }
      ]
    },
    {
      "cell_type": "markdown",
      "metadata": {
        "id": "exD5zZa93wT9",
        "colab_type": "text"
      },
      "source": [
        "Keywords Only: no positionals, some defaults (not all keyword args required)"
      ]
    },
    {
      "cell_type": "code",
      "metadata": {
        "id": "-CQ31Ipp3wT-",
        "colab_type": "code",
        "colab": {}
      },
      "source": [
        "def func(*, a=1, b):\n",
        "    print(a, b)"
      ],
      "execution_count": null,
      "outputs": []
    },
    {
      "cell_type": "code",
      "metadata": {
        "id": "Csim9_oU3wUB",
        "colab_type": "code",
        "colab": {},
        "outputId": "52a05a4a-1c9b-42db-8867-987436d942fa"
      },
      "source": [
        "func(a=10, b=20)"
      ],
      "execution_count": null,
      "outputs": [
        {
          "output_type": "stream",
          "text": [
            "10 20\n"
          ],
          "name": "stdout"
        }
      ]
    },
    {
      "cell_type": "code",
      "metadata": {
        "id": "vbxqODh33wUE",
        "colab_type": "code",
        "colab": {},
        "outputId": "a7674c5d-cf24-49bb-8567-17d792beafec"
      },
      "source": [
        "func(b=2)"
      ],
      "execution_count": null,
      "outputs": [
        {
          "output_type": "stream",
          "text": [
            "1 2\n"
          ],
          "name": "stdout"
        }
      ]
    },
    {
      "cell_type": "markdown",
      "metadata": {
        "id": "DcPnr35V3wUL",
        "colab_type": "text"
      },
      "source": [
        "Keywords and Positionals: some positionals (no defaults), keywords (no defaults)"
      ]
    },
    {
      "cell_type": "code",
      "metadata": {
        "id": "dtbQCr-D3wUL",
        "colab_type": "code",
        "colab": {}
      },
      "source": [
        "def func(a, b, *, c, d):\n",
        "    print(a, b, c, d)"
      ],
      "execution_count": null,
      "outputs": []
    },
    {
      "cell_type": "code",
      "metadata": {
        "id": "zxd0qGri3wUO",
        "colab_type": "code",
        "colab": {},
        "outputId": "ea451142-c1f9-4ecb-9055-359ce8a6cb17"
      },
      "source": [
        "func(1, 2, c=3, d=4)"
      ],
      "execution_count": null,
      "outputs": [
        {
          "output_type": "stream",
          "text": [
            "1 2 3 4\n"
          ],
          "name": "stdout"
        }
      ]
    },
    {
      "cell_type": "code",
      "metadata": {
        "id": "lOIRg0Pv3wUR",
        "colab_type": "code",
        "colab": {},
        "outputId": "2b0281b5-899f-483a-cc2f-3869174aa733"
      },
      "source": [
        "func(1, 2, d=4, c=3)"
      ],
      "execution_count": null,
      "outputs": [
        {
          "output_type": "stream",
          "text": [
            "1 2 3 4\n"
          ],
          "name": "stdout"
        }
      ]
    },
    {
      "cell_type": "code",
      "metadata": {
        "id": "5YZVGYSS3wUU",
        "colab_type": "code",
        "colab": {},
        "outputId": "bf93de5d-0e00-4ccb-c5a4-5c89bd56615d"
      },
      "source": [
        "func(1, c=3, d=4, b=2)"
      ],
      "execution_count": null,
      "outputs": [
        {
          "output_type": "stream",
          "text": [
            "1 2 3 4\n"
          ],
          "name": "stdout"
        }
      ]
    },
    {
      "cell_type": "markdown",
      "metadata": {
        "id": "t9YVWhb-3wUZ",
        "colab_type": "text"
      },
      "source": [
        "Keywords and Positionals: some positional defaults"
      ]
    },
    {
      "cell_type": "code",
      "metadata": {
        "id": "sW9ZOOhO3wUZ",
        "colab_type": "code",
        "colab": {}
      },
      "source": [
        "def func(a, b=2, *, c, d=4):\n",
        "    print(a, b, c, d)"
      ],
      "execution_count": null,
      "outputs": []
    },
    {
      "cell_type": "code",
      "metadata": {
        "id": "uzFtOcXl3wUe",
        "colab_type": "code",
        "colab": {},
        "outputId": "280fb70e-4957-4e5e-da2f-535777870575"
      },
      "source": [
        "func(1, c=3)"
      ],
      "execution_count": null,
      "outputs": [
        {
          "output_type": "stream",
          "text": [
            "1 2 3 4\n"
          ],
          "name": "stdout"
        }
      ]
    },
    {
      "cell_type": "code",
      "metadata": {
        "id": "POJXP0613wUh",
        "colab_type": "code",
        "colab": {},
        "outputId": "d84d41dc-da4f-4400-f06d-960a1bbad0f3"
      },
      "source": [
        "func(c=3, a=1)"
      ],
      "execution_count": null,
      "outputs": [
        {
          "output_type": "stream",
          "text": [
            "1 2 3 4\n"
          ],
          "name": "stdout"
        }
      ]
    },
    {
      "cell_type": "code",
      "metadata": {
        "id": "xuEiCIW53wUj",
        "colab_type": "code",
        "colab": {},
        "outputId": "0aba0ad8-c2f0-4bd7-b38b-95c2feb4e94e"
      },
      "source": [
        "func(1, 2, c=3, d=4)"
      ],
      "execution_count": null,
      "outputs": [
        {
          "output_type": "stream",
          "text": [
            "1 2 3 4\n"
          ],
          "name": "stdout"
        }
      ]
    },
    {
      "cell_type": "code",
      "metadata": {
        "id": "yuZafb503wUm",
        "colab_type": "code",
        "colab": {},
        "outputId": "bd104008-661f-4933-bea3-f07874075c16"
      },
      "source": [
        "func(c=3, a=1, b=2, d=4)"
      ],
      "execution_count": null,
      "outputs": [
        {
          "output_type": "stream",
          "text": [
            "1 2 3 4\n"
          ],
          "name": "stdout"
        }
      ]
    },
    {
      "cell_type": "markdown",
      "metadata": {
        "id": "JwBXM3-z3wUq",
        "colab_type": "text"
      },
      "source": [
        "Keywords and Positionals: extra positionals"
      ]
    },
    {
      "cell_type": "code",
      "metadata": {
        "id": "ZSyswucz3wUq",
        "colab_type": "code",
        "colab": {}
      },
      "source": [
        "def func(a, b=2, *args, c=3, d):\n",
        "    print(a, b, args, c, d)"
      ],
      "execution_count": null,
      "outputs": []
    },
    {
      "cell_type": "code",
      "metadata": {
        "id": "cilmbVgQ3wUt",
        "colab_type": "code",
        "colab": {},
        "outputId": "c0dd8e4e-8eb4-4160-b041-1bf48deed49f"
      },
      "source": [
        "func(1, 2, 'x', 'y', 'z', c=3, d=4)"
      ],
      "execution_count": null,
      "outputs": [
        {
          "output_type": "stream",
          "text": [
            "1 2 ('x', 'y', 'z') 3 4\n"
          ],
          "name": "stdout"
        }
      ]
    },
    {
      "cell_type": "markdown",
      "metadata": {
        "id": "WwPmDC6B3wUv",
        "colab_type": "text"
      },
      "source": [
        "Note that if we are going to use the extra arguments, then we cannot actually use a default value for b:"
      ]
    },
    {
      "cell_type": "code",
      "metadata": {
        "id": "hfqXw_NL3wUw",
        "colab_type": "code",
        "colab": {},
        "outputId": "e6b011a5-f8e0-4607-a8d0-3d95640e1366"
      },
      "source": [
        "func(1, 'x', 'y', 'z', c=3, d=4)"
      ],
      "execution_count": null,
      "outputs": [
        {
          "output_type": "stream",
          "text": [
            "1 x ('y', 'z') 3 4\n"
          ],
          "name": "stdout"
        }
      ]
    },
    {
      "cell_type": "markdown",
      "metadata": {
        "id": "-h7uELL-3wUz",
        "colab_type": "text"
      },
      "source": [
        "as you can see, **b** was assigned the value **x**"
      ]
    },
    {
      "cell_type": "markdown",
      "metadata": {
        "id": "eCwnCEQw3wU0",
        "colab_type": "text"
      },
      "source": [
        "Keywords and Positionals: no extra positionals, extra keywords"
      ]
    },
    {
      "cell_type": "code",
      "metadata": {
        "id": "guumTFCF3wU1",
        "colab_type": "code",
        "colab": {}
      },
      "source": [
        "def func(a, b, *, c, d=4, **kwargs):\n",
        "    print(a, b, c, d, kwargs)"
      ],
      "execution_count": null,
      "outputs": []
    },
    {
      "cell_type": "code",
      "metadata": {
        "id": "lu3TY3f13wU3",
        "colab_type": "code",
        "colab": {},
        "outputId": "f94d38bf-3ceb-4db1-aa96-91d727a5499f"
      },
      "source": [
        "func(1, 2, c=3, x=100, y=200, z=300)"
      ],
      "execution_count": null,
      "outputs": [
        {
          "output_type": "stream",
          "text": [
            "1 2 3 4 {'x': 100, 'y': 200, 'z': 300}\n"
          ],
          "name": "stdout"
        }
      ]
    },
    {
      "cell_type": "code",
      "metadata": {
        "id": "98kjr3se3wU6",
        "colab_type": "code",
        "colab": {},
        "outputId": "40da5124-00c6-4828-b204-ce9d6bcc7cb0"
      },
      "source": [
        "func(x=100, y=200, z=300, c=3, b=2, a=1)"
      ],
      "execution_count": null,
      "outputs": [
        {
          "output_type": "stream",
          "text": [
            "1 2 3 4 {'x': 100, 'y': 200, 'z': 300}\n"
          ],
          "name": "stdout"
        }
      ]
    },
    {
      "cell_type": "markdown",
      "metadata": {
        "id": "_wUJlg6L3wU8",
        "colab_type": "text"
      },
      "source": [
        "Keywords and Positionals: extra positionals, extra keywords"
      ]
    },
    {
      "cell_type": "code",
      "metadata": {
        "id": "x7c5dqTf3wU8",
        "colab_type": "code",
        "colab": {}
      },
      "source": [
        "def func(a, b, *args, c, d=4, **kwargs):\n",
        "    print(a, b, args, c, d, kwargs)"
      ],
      "execution_count": null,
      "outputs": []
    },
    {
      "cell_type": "code",
      "metadata": {
        "id": "04QQWFaN3wU-",
        "colab_type": "code",
        "colab": {},
        "outputId": "5248626e-b147-4ef7-d72b-f72acbb421fb"
      },
      "source": [
        "func(1, 2, 'x', 'y', 'z', c=3, d=5, x=100, y=200, z=300)"
      ],
      "execution_count": null,
      "outputs": [
        {
          "output_type": "stream",
          "text": [
            "1 2 ('x', 'y', 'z') 3 5 {'x': 100, 'y': 200, 'z': 300}\n"
          ],
          "name": "stdout"
        }
      ]
    },
    {
      "cell_type": "markdown",
      "metadata": {
        "id": "vK8V3HIm3wVA",
        "colab_type": "text"
      },
      "source": [
        "Keywords and Positionals: only extra positionals and extra keywords"
      ]
    },
    {
      "cell_type": "code",
      "metadata": {
        "id": "GIcaxlCN3wVA",
        "colab_type": "code",
        "colab": {}
      },
      "source": [
        "def func(*args, **kwargs):\n",
        "    print(args, kwargs)"
      ],
      "execution_count": null,
      "outputs": []
    },
    {
      "cell_type": "code",
      "metadata": {
        "id": "zgkHEnT93wVD",
        "colab_type": "code",
        "colab": {},
        "outputId": "d4f59c5d-f980-4dc5-a8fe-bd94dbbb1181"
      },
      "source": [
        "func(1, 2, 3, x=100, y=200, z=300)"
      ],
      "execution_count": null,
      "outputs": [
        {
          "output_type": "stream",
          "text": [
            "(1, 2, 3) {'x': 100, 'y': 200, 'z': 300}\n"
          ],
          "name": "stdout"
        }
      ]
    },
    {
      "cell_type": "markdown",
      "metadata": {
        "id": "azjpQFdN3wWS",
        "colab_type": "text"
      },
      "source": [
        "#### The Print Function"
      ]
    },
    {
      "cell_type": "code",
      "metadata": {
        "id": "VsX5hwJE3wWT",
        "colab_type": "code",
        "colab": {},
        "outputId": "12cfcea3-1301-463a-e910-12aa141af828"
      },
      "source": [
        "help(print)"
      ],
      "execution_count": null,
      "outputs": [
        {
          "output_type": "stream",
          "text": [
            "Help on built-in function print in module builtins:\n",
            "\n",
            "print(...)\n",
            "    print(value, ..., sep=' ', end='\\n', file=sys.stdout, flush=False)\n",
            "    \n",
            "    Prints the values to a stream, or to sys.stdout by default.\n",
            "    Optional keyword arguments:\n",
            "    file:  a file-like object (stream); defaults to the current sys.stdout.\n",
            "    sep:   string inserted between values, default a space.\n",
            "    end:   string appended after the last value, default a newline.\n",
            "    flush: whether to forcibly flush the stream.\n",
            "\n"
          ],
          "name": "stdout"
        }
      ]
    },
    {
      "cell_type": "code",
      "metadata": {
        "id": "WvKyZ4_K3wWr",
        "colab_type": "code",
        "colab": {},
        "outputId": "b5713fe4-1fd0-4e5e-db54-c4ff67606c8d"
      },
      "source": [
        "print(1, 2, 3)"
      ],
      "execution_count": null,
      "outputs": [
        {
          "output_type": "stream",
          "text": [
            "1 2 3\n"
          ],
          "name": "stdout"
        }
      ]
    },
    {
      "cell_type": "code",
      "metadata": {
        "id": "mwZtnhMA3wWt",
        "colab_type": "code",
        "colab": {},
        "outputId": "9e4a8a08-1427-4f2a-d2cf-e64cdf3b4392"
      },
      "source": [
        "print(1, 2, 3, sep='--')"
      ],
      "execution_count": null,
      "outputs": [
        {
          "output_type": "stream",
          "text": [
            "1--2--3\n"
          ],
          "name": "stdout"
        }
      ]
    },
    {
      "cell_type": "code",
      "metadata": {
        "id": "WcUHP_Sq3wW0",
        "colab_type": "code",
        "colab": {},
        "outputId": "bfb8528c-08a9-421c-9c0e-1ac951f7355e"
      },
      "source": [
        "print(1, 2, 3, end='***\\n')"
      ],
      "execution_count": null,
      "outputs": [
        {
          "output_type": "stream",
          "text": [
            "1 2 3***\n"
          ],
          "name": "stdout"
        }
      ]
    },
    {
      "cell_type": "code",
      "metadata": {
        "scrolled": true,
        "id": "RQIhVeWl3wW8",
        "colab_type": "code",
        "colab": {},
        "outputId": "5db7c1ff-41fb-405d-ae75-cb6bafc54353"
      },
      "source": [
        "print(1, 2, 3, sep='\\t', end='\\t***\\t')\n",
        "print(4, 5, 6, sep='\\t', end='\\t***\\n')"
      ],
      "execution_count": null,
      "outputs": [
        {
          "output_type": "stream",
          "text": [
            "1\t2\t3\t***\t4\t5\t6\t***\n"
          ],
          "name": "stdout"
        }
      ]
    },
    {
      "cell_type": "markdown",
      "metadata": {
        "id": "KnuAx2xh3wXF",
        "colab_type": "text"
      },
      "source": [
        "#### Another Use Case"
      ]
    },
    {
      "cell_type": "code",
      "metadata": {
        "id": "HN0Oy5hu3wXF",
        "colab_type": "code",
        "colab": {}
      },
      "source": [
        "def calc_hi_lo_avg(*args, log_to_console=False):\n",
        "    hi = int(bool(args)) and max(args)\n",
        "    lo = int(bool(args)) and min(args)\n",
        "    avg = (hi + lo)/2\n",
        "    if log_to_console:\n",
        "        print(\"high={0}, low={1}, avg={2}\".format(hi, lo, avg))\n",
        "    return avg"
      ],
      "execution_count": null,
      "outputs": []
    },
    {
      "cell_type": "code",
      "metadata": {
        "id": "GkQzNGhn3wXK",
        "colab_type": "code",
        "colab": {},
        "outputId": "3e656721-208d-46a0-9b15-242341284cba"
      },
      "source": [
        "avg = calc_hi_lo_avg(1, 2, 3, 4, 5)\n",
        "print(avg)"
      ],
      "execution_count": null,
      "outputs": [
        {
          "output_type": "stream",
          "text": [
            "3.0\n"
          ],
          "name": "stdout"
        }
      ]
    },
    {
      "cell_type": "code",
      "metadata": {
        "id": "I-d2_hsm3wXR",
        "colab_type": "code",
        "colab": {},
        "outputId": "ad9ef8d0-18ec-4812-b22d-fe98b06f7cd0"
      },
      "source": [
        "avg = calc_hi_lo_avg(1, 2, 3, 4, 5, log_to_console=True)\n",
        "print(avg)"
      ],
      "execution_count": null,
      "outputs": [
        {
          "output_type": "stream",
          "text": [
            "high=5, low=1, avg=3.0\n",
            "3.0\n"
          ],
          "name": "stdout"
        }
      ]
    }
  ]
}