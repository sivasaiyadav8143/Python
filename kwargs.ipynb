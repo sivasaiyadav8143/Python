{
  "nbformat": 4,
  "nbformat_minor": 0,
  "metadata": {
    "kernelspec": {
      "display_name": "Python 3",
      "language": "python",
      "name": "python3"
    },
    "language_info": {
      "codemirror_mode": {
        "name": "ipython",
        "version": 3
      },
      "file_extension": ".py",
      "mimetype": "text/x-python",
      "name": "python",
      "nbconvert_exporter": "python",
      "pygments_lexer": "ipython3",
      "version": "3.6.1"
    },
    "colab": {
      "name": "kwargs.ipynb",
      "provenance": [],
      "include_colab_link": true
    }
  },
  "cells": [
    {
      "cell_type": "markdown",
      "metadata": {
        "id": "view-in-github",
        "colab_type": "text"
      },
      "source": [
        "<a href=\"https://colab.research.google.com/github/sivasaiyadav8143/Python/blob/master/kwargs.ipynb\" target=\"_parent\"><img src=\"https://colab.research.google.com/assets/colab-badge.svg\" alt=\"Open In Colab\"/></a>"
      ]
    },
    {
      "cell_type": "markdown",
      "metadata": {
        "id": "kcoHSKt-lUux",
        "colab_type": "text"
      },
      "source": [
        "### **kwargs"
      ]
    },
    {
      "cell_type": "code",
      "metadata": {
        "id": "DZ5CcfxRlUuz",
        "colab_type": "code",
        "colab": {}
      },
      "source": [
        "def func(**kwargs):\n",
        "    print(kwargs)"
      ],
      "execution_count": null,
      "outputs": []
    },
    {
      "cell_type": "code",
      "metadata": {
        "id": "Ccc9u8yAlUu4",
        "colab_type": "code",
        "colab": {},
        "outputId": "705c0af7-f0ed-442d-ed16-11af88880165"
      },
      "source": [
        "func(x=100, y=200)"
      ],
      "execution_count": null,
      "outputs": [
        {
          "output_type": "stream",
          "text": [
            "{'x': 100, 'y': 200}\n"
          ],
          "name": "stdout"
        }
      ]
    },
    {
      "cell_type": "markdown",
      "metadata": {
        "id": "oZP-9LpelUu9",
        "colab_type": "text"
      },
      "source": [
        "We can also use it in conjunction with **\\*args**: "
      ]
    },
    {
      "cell_type": "code",
      "metadata": {
        "id": "UH5PG5cHlUu-",
        "colab_type": "code",
        "colab": {}
      },
      "source": [
        "def func(*args, **kwargs):\n",
        "    print(args)\n",
        "    print(kwargs)"
      ],
      "execution_count": null,
      "outputs": []
    },
    {
      "cell_type": "code",
      "metadata": {
        "id": "tnErDdT5lUvD",
        "colab_type": "code",
        "colab": {},
        "outputId": "29372038-c104-481d-a0a4-f3989a5383c6"
      },
      "source": [
        "func(1, 2, a=100, b=200)"
      ],
      "execution_count": null,
      "outputs": [
        {
          "output_type": "stream",
          "text": [
            "(1, 2)\n",
            "{'a': 100, 'b': 200}\n"
          ],
          "name": "stdout"
        }
      ]
    },
    {
      "cell_type": "markdown",
      "metadata": {
        "id": "aqzez8VelUvH",
        "colab_type": "text"
      },
      "source": [
        "Note: You cannot do the following:"
      ]
    },
    {
      "cell_type": "code",
      "metadata": {
        "id": "NMnWvwT3lUvI",
        "colab_type": "code",
        "colab": {},
        "outputId": "488eab79-d8e7-4701-9feb-88bad2167504"
      },
      "source": [
        "def func(*, **kwargs):\n",
        "    print(kwargs)"
      ],
      "execution_count": null,
      "outputs": [
        {
          "output_type": "error",
          "ename": "SyntaxError",
          "evalue": "named arguments must follow bare * (<ipython-input-9-330c63b7f22e>, line 1)",
          "traceback": [
            "\u001b[1;36m  File \u001b[1;32m\"<ipython-input-9-330c63b7f22e>\"\u001b[1;36m, line \u001b[1;32m1\u001b[0m\n\u001b[1;33m    def func(*, **kwargs):\u001b[0m\n\u001b[1;37m               ^\u001b[0m\n\u001b[1;31mSyntaxError\u001b[0m\u001b[1;31m:\u001b[0m named arguments must follow bare *\n"
          ]
        }
      ]
    },
    {
      "cell_type": "markdown",
      "metadata": {
        "id": "wwf53NHWlUvN",
        "colab_type": "text"
      },
      "source": [
        "There is no need to even do this, since **\\*\\*kwargs** essentially indicates no more positional arguments."
      ]
    },
    {
      "cell_type": "code",
      "metadata": {
        "id": "LCu1g4MWlUvN",
        "colab_type": "code",
        "colab": {}
      },
      "source": [
        "def func(a, b, **kwargs):\n",
        "    print(a)\n",
        "    print(b)\n",
        "    print(kwargs)"
      ],
      "execution_count": null,
      "outputs": []
    },
    {
      "cell_type": "code",
      "metadata": {
        "id": "-zVPNFM3lUvY",
        "colab_type": "code",
        "colab": {},
        "outputId": "d5c2827a-8f73-43cc-93b0-405d85e0d2f3"
      },
      "source": [
        "func(1, 2, x=100, y=200)"
      ],
      "execution_count": null,
      "outputs": [
        {
          "output_type": "stream",
          "text": [
            "1\n",
            "2\n",
            "{'x': 100, 'y': 200}\n"
          ],
          "name": "stdout"
        }
      ]
    },
    {
      "cell_type": "markdown",
      "metadata": {
        "id": "xOVPPpSVlUvb",
        "colab_type": "text"
      },
      "source": [
        "Also, you cannot specify parameters **after** **\\*\\*kwargs** has been used:"
      ]
    },
    {
      "cell_type": "code",
      "metadata": {
        "id": "Y5bpV-95lUvb",
        "colab_type": "code",
        "colab": {},
        "outputId": "fe755066-8171-4355-ffb8-20e24955b5f2"
      },
      "source": [
        "def func(a, b, **kwargs, c):\n",
        "    pass"
      ],
      "execution_count": null,
      "outputs": [
        {
          "output_type": "error",
          "ename": "SyntaxError",
          "evalue": "invalid syntax (<ipython-input-12-ffdc3153243b>, line 1)",
          "traceback": [
            "\u001b[1;36m  File \u001b[1;32m\"<ipython-input-12-ffdc3153243b>\"\u001b[1;36m, line \u001b[1;32m1\u001b[0m\n\u001b[1;33m    def func(a, b, **kwargs, c):\u001b[0m\n\u001b[1;37m                             ^\u001b[0m\n\u001b[1;31mSyntaxError\u001b[0m\u001b[1;31m:\u001b[0m invalid syntax\n"
          ]
        }
      ]
    },
    {
      "cell_type": "markdown",
      "metadata": {
        "id": "cPBVBw_DlUvd",
        "colab_type": "text"
      },
      "source": [
        "If you want to specify both specific keyword-only arguments and **\\*\\*kwargs** you will need to first get to a point where you can define a keyword-only argument (i.e. exhaust the positional arguments, using either **\\*args** or just **\\***)"
      ]
    },
    {
      "cell_type": "code",
      "metadata": {
        "id": "Qu29pQQ7lUve",
        "colab_type": "code",
        "colab": {}
      },
      "source": [
        "def func(*, d, **kwargs):\n",
        "    print(d)\n",
        "    print(kwargs)"
      ],
      "execution_count": null,
      "outputs": []
    },
    {
      "cell_type": "code",
      "metadata": {
        "id": "Q2oi073KlUvg",
        "colab_type": "code",
        "colab": {},
        "outputId": "7b77e7af-6be8-4fdb-f056-de5f50a65cca"
      },
      "source": [
        "func(d=1, x=100, y=200)"
      ],
      "execution_count": null,
      "outputs": [
        {
          "output_type": "stream",
          "text": [
            "1\n",
            "{'x': 100, 'y': 200}\n"
          ],
          "name": "stdout"
        }
      ]
    }
  ]
}