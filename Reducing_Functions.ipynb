{
  "nbformat": 4,
  "nbformat_minor": 0,
  "metadata": {
    "kernelspec": {
      "display_name": "Python 3",
      "language": "python",
      "name": "python3"
    },
    "language_info": {
      "codemirror_mode": {
        "name": "ipython",
        "version": 3
      },
      "file_extension": ".py",
      "mimetype": "text/x-python",
      "name": "python",
      "nbconvert_exporter": "python",
      "pygments_lexer": "ipython3",
      "version": "3.6.2"
    },
    "colab": {
      "name": "Reducing Functions.ipynb",
      "provenance": [],
      "include_colab_link": true
    }
  },
  "cells": [
    {
      "cell_type": "markdown",
      "metadata": {
        "id": "view-in-github",
        "colab_type": "text"
      },
      "source": [
        "<a href=\"https://colab.research.google.com/github/sivasaiyadav8143/Python/blob/master/Reducing_Functions.ipynb\" target=\"_parent\"><img src=\"https://colab.research.google.com/assets/colab-badge.svg\" alt=\"Open In Colab\"/></a>"
      ]
    },
    {
      "cell_type": "markdown",
      "metadata": {
        "id": "Rs1VrLniF0KH",
        "colab_type": "text"
      },
      "source": [
        "### Reducing Functions in Python"
      ]
    },
    {
      "cell_type": "markdown",
      "metadata": {
        "id": "U7YXjxpjF0KI",
        "colab_type": "text"
      },
      "source": [
        "#### Maximum and Minimum"
      ]
    },
    {
      "cell_type": "markdown",
      "metadata": {
        "id": "U8Y3OZ0zF0KJ",
        "colab_type": "text"
      },
      "source": [
        "Suppose we want to find the maximum value in a list:"
      ]
    },
    {
      "cell_type": "code",
      "metadata": {
        "id": "yA_F40CKF0KK",
        "colab_type": "code",
        "colab": {}
      },
      "source": [
        "l = [5, 8, 6, 10, 9]"
      ],
      "execution_count": 1,
      "outputs": []
    },
    {
      "cell_type": "markdown",
      "metadata": {
        "id": "qMsGhMNBF0KO",
        "colab_type": "text"
      },
      "source": [
        "We can solve this problem using a **for** loop."
      ]
    },
    {
      "cell_type": "markdown",
      "metadata": {
        "id": "4kwLTI0TF0KO",
        "colab_type": "text"
      },
      "source": [
        "First we define a function that returns the maximum of two arguments:"
      ]
    },
    {
      "cell_type": "code",
      "metadata": {
        "id": "cFlLeJuOF0KP",
        "colab_type": "code",
        "colab": {}
      },
      "source": [
        "_max = lambda a, b: a if a > b else b"
      ],
      "execution_count": 2,
      "outputs": []
    },
    {
      "cell_type": "code",
      "metadata": {
        "id": "KYECjRm_GCcw",
        "colab_type": "code",
        "colab": {
          "base_uri": "https://localhost:8080/",
          "height": 34
        },
        "outputId": "f99de213-d7f4-4f35-bcfc-b25d41b30204"
      },
      "source": [
        "# _max(10,1)"
      ],
      "execution_count": 3,
      "outputs": [
        {
          "output_type": "execute_result",
          "data": {
            "text/plain": [
              "10"
            ]
          },
          "metadata": {
            "tags": []
          },
          "execution_count": 3
        }
      ]
    },
    {
      "cell_type": "code",
      "metadata": {
        "id": "fAERr8ACGGc9",
        "colab_type": "code",
        "colab": {
          "base_uri": "https://localhost:8080/",
          "height": 34
        },
        "outputId": "0fd1970e-c80a-4ffc-cf78-57b61b4f5c64"
      },
      "source": [
        "# _max(7,6)"
      ],
      "execution_count": 6,
      "outputs": [
        {
          "output_type": "execute_result",
          "data": {
            "text/plain": [
              "7"
            ]
          },
          "metadata": {
            "tags": []
          },
          "execution_count": 6
        }
      ]
    },
    {
      "cell_type": "code",
      "metadata": {
        "id": "vhDrsyxrF0KR",
        "colab_type": "code",
        "colab": {}
      },
      "source": [
        "def max_sequence(sequence):\n",
        "    result = sequence[0]\n",
        "    for x in sequence[1:]:\n",
        "        result = _max(result, x)\n",
        "    return result"
      ],
      "execution_count": 7,
      "outputs": []
    },
    {
      "cell_type": "code",
      "metadata": {
        "id": "XGLYTL4YF0KU",
        "colab_type": "code",
        "colab": {
          "base_uri": "https://localhost:8080/",
          "height": 34
        },
        "outputId": "15c10786-4055-47aa-a406-22e041b9de0e"
      },
      "source": [
        "max_sequence(l)"
      ],
      "execution_count": 8,
      "outputs": [
        {
          "output_type": "execute_result",
          "data": {
            "text/plain": [
              "10"
            ]
          },
          "metadata": {
            "tags": []
          },
          "execution_count": 8
        }
      ]
    },
    {
      "cell_type": "markdown",
      "metadata": {
        "id": "h99_pwIcF0KY",
        "colab_type": "text"
      },
      "source": [
        "To calculate the minimum, all we need to do is to change the function that is repeatedly applied:"
      ]
    },
    {
      "cell_type": "code",
      "metadata": {
        "id": "HUxdPgS4F0KY",
        "colab_type": "code",
        "colab": {}
      },
      "source": [
        "_min = lambda a, b: a if a < b else b"
      ],
      "execution_count": 9,
      "outputs": []
    },
    {
      "cell_type": "code",
      "metadata": {
        "id": "MgwE_BXyGlTc",
        "colab_type": "code",
        "colab": {
          "base_uri": "https://localhost:8080/",
          "height": 34
        },
        "outputId": "3feb61c5-15c6-4b3a-fe02-c16c839ec5b5"
      },
      "source": [
        "# _min(1,0.5)"
      ],
      "execution_count": 12,
      "outputs": [
        {
          "output_type": "execute_result",
          "data": {
            "text/plain": [
              "0.5"
            ]
          },
          "metadata": {
            "tags": []
          },
          "execution_count": 12
        }
      ]
    },
    {
      "cell_type": "code",
      "metadata": {
        "id": "ArHPCsSeF0Kb",
        "colab_type": "code",
        "colab": {}
      },
      "source": [
        "def min_sequence(sequence):\n",
        "    result = sequence[0]\n",
        "    for x in sequence[1:]:\n",
        "        result = _min(result, x)\n",
        "    return result"
      ],
      "execution_count": 13,
      "outputs": []
    },
    {
      "cell_type": "code",
      "metadata": {
        "id": "As4iYb_ZF0Ke",
        "colab_type": "code",
        "colab": {
          "base_uri": "https://localhost:8080/",
          "height": 51
        },
        "outputId": "7005ebbb-0e56-4593-d980-340d7951d62c"
      },
      "source": [
        "print(l)\n",
        "print(min_sequence(l))"
      ],
      "execution_count": 14,
      "outputs": [
        {
          "output_type": "stream",
          "text": [
            "[5, 8, 6, 10, 9]\n",
            "5\n"
          ],
          "name": "stdout"
        }
      ]
    },
    {
      "cell_type": "markdown",
      "metadata": {
        "id": "R_TdKajlHB1S",
        "colab_type": "text"
      },
      "source": [
        "We can also Add them up"
      ]
    },
    {
      "cell_type": "code",
      "metadata": {
        "id": "DCkjuYXFHIfU",
        "colab_type": "code",
        "colab": {}
      },
      "source": [
        "_add = lambda x,y : x + y"
      ],
      "execution_count": 16,
      "outputs": []
    },
    {
      "cell_type": "code",
      "metadata": {
        "id": "VEURd3NnHNxl",
        "colab_type": "code",
        "colab": {
          "base_uri": "https://localhost:8080/",
          "height": 34
        },
        "outputId": "56504ce2-1837-46db-ac05-b9b77e65a774"
      },
      "source": [
        "_add(10,20)"
      ],
      "execution_count": 17,
      "outputs": [
        {
          "output_type": "execute_result",
          "data": {
            "text/plain": [
              "30"
            ]
          },
          "metadata": {
            "tags": []
          },
          "execution_count": 17
        }
      ]
    },
    {
      "cell_type": "code",
      "metadata": {
        "id": "6DM3XHChHUSE",
        "colab_type": "code",
        "colab": {}
      },
      "source": [
        "def add_sequence(sequence):\n",
        "    result = sequence[0]\n",
        "    for x in sequence[1:]:\n",
        "        result = _add(result, x)\n",
        "    return result"
      ],
      "execution_count": 22,
      "outputs": []
    },
    {
      "cell_type": "code",
      "metadata": {
        "id": "E8oJliGgHT9l",
        "colab_type": "code",
        "colab": {
          "base_uri": "https://localhost:8080/",
          "height": 51
        },
        "outputId": "39f6bcbe-1da4-4070-ffbd-4ed4a2c95bbf"
      },
      "source": [
        "print(l)\n",
        "add_sequence(l)"
      ],
      "execution_count": 23,
      "outputs": [
        {
          "output_type": "stream",
          "text": [
            "[5, 8, 6, 10, 9]\n"
          ],
          "name": "stdout"
        },
        {
          "output_type": "execute_result",
          "data": {
            "text/plain": [
              "38"
            ]
          },
          "metadata": {
            "tags": []
          },
          "execution_count": 23
        }
      ]
    },
    {
      "cell_type": "markdown",
      "metadata": {
        "id": "mGZB4q7EF0Kh",
        "colab_type": "text"
      },
      "source": [
        "In general we could write it like this:"
      ]
    },
    {
      "cell_type": "code",
      "metadata": {
        "id": "qa-PscLvF0Ki",
        "colab_type": "code",
        "colab": {}
      },
      "source": [
        "def _reduce(fn, sequence):\n",
        "    result = sequence[0]\n",
        "    for x in sequence[1:]:\n",
        "        result = fn(result, x)\n",
        "    return result"
      ],
      "execution_count": null,
      "outputs": []
    },
    {
      "cell_type": "code",
      "metadata": {
        "id": "jMBLcLe6F0Ko",
        "colab_type": "code",
        "colab": {},
        "outputId": "849cf263-8615-4ea3-d344-f13ab6d54aec"
      },
      "source": [
        "_reduce(_max, l)"
      ],
      "execution_count": null,
      "outputs": [
        {
          "output_type": "execute_result",
          "data": {
            "text/plain": [
              "10"
            ]
          },
          "metadata": {
            "tags": []
          },
          "execution_count": 9
        }
      ]
    },
    {
      "cell_type": "code",
      "metadata": {
        "id": "1tLVDmHaF0Kq",
        "colab_type": "code",
        "colab": {},
        "outputId": "82b47eb9-225b-4318-8032-1c5314ce1257"
      },
      "source": [
        "_reduce(_min, l)"
      ],
      "execution_count": null,
      "outputs": [
        {
          "output_type": "execute_result",
          "data": {
            "text/plain": [
              "5"
            ]
          },
          "metadata": {
            "tags": []
          },
          "execution_count": 10
        }
      ]
    },
    {
      "cell_type": "markdown",
      "metadata": {
        "id": "lJv6pW5OIDwt",
        "colab_type": "text"
      },
      "source": [
        "It does not support sets coz there is no concept of indexing in sets and dictionarys"
      ]
    },
    {
      "cell_type": "code",
      "metadata": {
        "id": "lfmNSr-zIC1P",
        "colab_type": "code",
        "colab": {
          "base_uri": "https://localhost:8080/",
          "height": 163
        },
        "outputId": "e3312bde-4407-4f8c-a037-3d1047905c46"
      },
      "source": [
        "_reduce(_min, {1,2,3})"
      ],
      "execution_count": 24,
      "outputs": [
        {
          "output_type": "error",
          "ename": "NameError",
          "evalue": "ignored",
          "traceback": [
            "\u001b[0;31m---------------------------------------------------------------------------\u001b[0m",
            "\u001b[0;31mNameError\u001b[0m                                 Traceback (most recent call last)",
            "\u001b[0;32m<ipython-input-24-084120032b54>\u001b[0m in \u001b[0;36m<module>\u001b[0;34m()\u001b[0m\n\u001b[0;32m----> 1\u001b[0;31m \u001b[0m_reduce\u001b[0m\u001b[0;34m(\u001b[0m\u001b[0m_min\u001b[0m\u001b[0;34m,\u001b[0m \u001b[0;34m{\u001b[0m\u001b[0;36m1\u001b[0m\u001b[0;34m,\u001b[0m\u001b[0;36m2\u001b[0m\u001b[0;34m,\u001b[0m\u001b[0;36m3\u001b[0m\u001b[0;34m}\u001b[0m\u001b[0;34m)\u001b[0m\u001b[0;34m\u001b[0m\u001b[0;34m\u001b[0m\u001b[0m\n\u001b[0m",
            "\u001b[0;31mNameError\u001b[0m: name '_reduce' is not defined"
          ]
        }
      ]
    },
    {
      "cell_type": "markdown",
      "metadata": {
        "id": "hgaodNzWF0Kt",
        "colab_type": "text"
      },
      "source": [
        "We could even just use a lambda directly in the call to **\\_reduce**:"
      ]
    },
    {
      "cell_type": "code",
      "metadata": {
        "id": "4lGTix1dF0Ku",
        "colab_type": "code",
        "colab": {},
        "outputId": "17ed088c-745a-4577-fb99-3f6ca25f7d8c"
      },
      "source": [
        "_reduce(lambda a, b: a if a > b else b, l)"
      ],
      "execution_count": null,
      "outputs": [
        {
          "output_type": "execute_result",
          "data": {
            "text/plain": [
              "10"
            ]
          },
          "metadata": {
            "tags": []
          },
          "execution_count": 11
        }
      ]
    },
    {
      "cell_type": "code",
      "metadata": {
        "id": "p1DURyM5F0Kw",
        "colab_type": "code",
        "colab": {},
        "outputId": "23908fc6-05c4-4397-a65a-692f96f27d8e"
      },
      "source": [
        "_reduce(lambda a, b: a if a < b else b, l)"
      ],
      "execution_count": null,
      "outputs": [
        {
          "output_type": "execute_result",
          "data": {
            "text/plain": [
              "5"
            ]
          },
          "metadata": {
            "tags": []
          },
          "execution_count": 12
        }
      ]
    },
    {
      "cell_type": "markdown",
      "metadata": {
        "id": "8R5ltYVkF0Kz",
        "colab_type": "text"
      },
      "source": [
        "Using the same approach, we could even add all the elements of a sequence together:"
      ]
    },
    {
      "cell_type": "code",
      "metadata": {
        "id": "gOf6AmWsF0Kz",
        "colab_type": "code",
        "colab": {},
        "outputId": "227e8f87-7ae6-46c3-d2a9-cfc5006f93b8"
      },
      "source": [
        "print(l)"
      ],
      "execution_count": null,
      "outputs": [
        {
          "output_type": "stream",
          "text": [
            "[5, 8, 6, 10, 9]\n"
          ],
          "name": "stdout"
        }
      ]
    },
    {
      "cell_type": "code",
      "metadata": {
        "id": "zUr2YKlOF0K2",
        "colab_type": "code",
        "colab": {},
        "outputId": "44e026a3-f6b8-4cfe-9619-5b5f53f9b9e3"
      },
      "source": [
        "_reduce(lambda a, b: a + b, l)"
      ],
      "execution_count": null,
      "outputs": [
        {
          "output_type": "execute_result",
          "data": {
            "text/plain": [
              "38"
            ]
          },
          "metadata": {
            "tags": []
          },
          "execution_count": 14
        }
      ]
    },
    {
      "cell_type": "markdown",
      "metadata": {
        "id": "Omi_Aw2gF0K7",
        "colab_type": "text"
      },
      "source": [
        "Python actually implements a reduce function, which is found in the **functools** module. Unlike our **\\_reduce** function, it can handle any iterable, not just sequences."
      ]
    },
    {
      "cell_type": "code",
      "metadata": {
        "id": "OtiDQoJXF0K7",
        "colab_type": "code",
        "colab": {}
      },
      "source": [
        "from functools import reduce"
      ],
      "execution_count": 25,
      "outputs": []
    },
    {
      "cell_type": "code",
      "metadata": {
        "id": "og5L00UPF0K-",
        "colab_type": "code",
        "colab": {
          "base_uri": "https://localhost:8080/",
          "height": 34
        },
        "outputId": "1e4712f0-ac44-478d-d17a-df1fed23c308"
      },
      "source": [
        "l"
      ],
      "execution_count": 26,
      "outputs": [
        {
          "output_type": "execute_result",
          "data": {
            "text/plain": [
              "[5, 8, 6, 10, 9]"
            ]
          },
          "metadata": {
            "tags": []
          },
          "execution_count": 26
        }
      ]
    },
    {
      "cell_type": "code",
      "metadata": {
        "id": "DRwSyx7PF0LB",
        "colab_type": "code",
        "colab": {
          "base_uri": "https://localhost:8080/",
          "height": 34
        },
        "outputId": "0883726c-a401-4f5a-c1fa-d9d95ae78536"
      },
      "source": [
        "reduce(lambda a, b: a if a > b else b, l)"
      ],
      "execution_count": 27,
      "outputs": [
        {
          "output_type": "execute_result",
          "data": {
            "text/plain": [
              "10"
            ]
          },
          "metadata": {
            "tags": []
          },
          "execution_count": 27
        }
      ]
    },
    {
      "cell_type": "code",
      "metadata": {
        "id": "5BDnVXR1F0LD",
        "colab_type": "code",
        "colab": {
          "base_uri": "https://localhost:8080/",
          "height": 34
        },
        "outputId": "efeaffc2-7bba-4aad-c7a7-adf88ee92d9b"
      },
      "source": [
        "reduce(lambda a, b: a if a < b else b, l)"
      ],
      "execution_count": 28,
      "outputs": [
        {
          "output_type": "execute_result",
          "data": {
            "text/plain": [
              "5"
            ]
          },
          "metadata": {
            "tags": []
          },
          "execution_count": 28
        }
      ]
    },
    {
      "cell_type": "code",
      "metadata": {
        "id": "oXVbMjUNF0LG",
        "colab_type": "code",
        "colab": {
          "base_uri": "https://localhost:8080/",
          "height": 34
        },
        "outputId": "acc1d8d8-3620-4524-a84f-0a726fa4c8a4"
      },
      "source": [
        "reduce(lambda a, b: a + b, l)"
      ],
      "execution_count": 29,
      "outputs": [
        {
          "output_type": "execute_result",
          "data": {
            "text/plain": [
              "38"
            ]
          },
          "metadata": {
            "tags": []
          },
          "execution_count": 29
        }
      ]
    },
    {
      "cell_type": "markdown",
      "metadata": {
        "id": "_uWWp8AbJgzp",
        "colab_type": "text"
      },
      "source": [
        "reduce does support sets coz there is no concept of indexing in sets and dictionarys"
      ]
    },
    {
      "cell_type": "code",
      "metadata": {
        "id": "RoxZiU7mJoQs",
        "colab_type": "code",
        "colab": {
          "base_uri": "https://localhost:8080/",
          "height": 34
        },
        "outputId": "5e8a4262-59b9-4dd3-d2c0-98bac5e4b47a"
      },
      "source": [
        "reduce(_min, {1,2,3})"
      ],
      "execution_count": 30,
      "outputs": [
        {
          "output_type": "execute_result",
          "data": {
            "text/plain": [
              "1"
            ]
          },
          "metadata": {
            "tags": []
          },
          "execution_count": 30
        }
      ]
    },
    {
      "cell_type": "markdown",
      "metadata": {
        "id": "KJT699chF0LK",
        "colab_type": "text"
      },
      "source": [
        "Finding the max and min of an iterable is such a common thing that Python provides a built-in function to do just that:"
      ]
    },
    {
      "cell_type": "code",
      "metadata": {
        "scrolled": true,
        "id": "QwdVMOUjF0LL",
        "colab_type": "code",
        "colab": {},
        "outputId": "07fa6e1e-c295-4517-abc8-48c3385ee350"
      },
      "source": [
        "max(l), min(l)"
      ],
      "execution_count": null,
      "outputs": [
        {
          "output_type": "execute_result",
          "data": {
            "text/plain": [
              "(10, 5)"
            ]
          },
          "metadata": {
            "tags": []
          },
          "execution_count": 20
        }
      ]
    },
    {
      "cell_type": "code",
      "metadata": {
        "id": "pj_-juBaKEfD",
        "colab_type": "code",
        "colab": {
          "base_uri": "https://localhost:8080/",
          "height": 34
        },
        "outputId": "5bccf6e1-bf74-43b2-d0a6-af74f03887c7"
      },
      "source": [
        "max({1,2,3}), min({1,2,3})"
      ],
      "execution_count": 32,
      "outputs": [
        {
          "output_type": "execute_result",
          "data": {
            "text/plain": [
              "(3, 1)"
            ]
          },
          "metadata": {
            "tags": []
          },
          "execution_count": 32
        }
      ]
    },
    {
      "cell_type": "markdown",
      "metadata": {
        "id": "ZVqm1hz7F0LN",
        "colab_type": "text"
      },
      "source": [
        "Finding the sum of all the elements in an iterable is also common enough that Python implements the **sum** function:"
      ]
    },
    {
      "cell_type": "code",
      "metadata": {
        "id": "xe3tpFoSF0LN",
        "colab_type": "code",
        "colab": {},
        "outputId": "69a917c0-b0ff-4ce9-c559-13dca2508359"
      },
      "source": [
        "sum(l)"
      ],
      "execution_count": null,
      "outputs": [
        {
          "output_type": "execute_result",
          "data": {
            "text/plain": [
              "38"
            ]
          },
          "metadata": {
            "tags": []
          },
          "execution_count": 21
        }
      ]
    },
    {
      "cell_type": "code",
      "metadata": {
        "id": "H8kBGP2CKBNk",
        "colab_type": "code",
        "colab": {
          "base_uri": "https://localhost:8080/",
          "height": 34
        },
        "outputId": "4f621158-f449-4948-ce0c-da597d1a8a14"
      },
      "source": [
        "sum({1,2,3,4})"
      ],
      "execution_count": 31,
      "outputs": [
        {
          "output_type": "execute_result",
          "data": {
            "text/plain": [
              "10"
            ]
          },
          "metadata": {
            "tags": []
          },
          "execution_count": 31
        }
      ]
    },
    {
      "cell_type": "markdown",
      "metadata": {
        "id": "_RBub0M2F0LQ",
        "colab_type": "text"
      },
      "source": [
        "#### The **any** and **all** built-ins"
      ]
    },
    {
      "cell_type": "markdown",
      "metadata": {
        "id": "Sf_tj4-bF0LQ",
        "colab_type": "text"
      },
      "source": [
        "Python provides two additional built-in reducing functions: **any** and **all**."
      ]
    },
    {
      "cell_type": "markdown",
      "metadata": {
        "id": "8B6dBKG8F0LR",
        "colab_type": "text"
      },
      "source": [
        "The **any** function will return **True** if any element in the iterable is truthy:"
      ]
    },
    {
      "cell_type": "code",
      "metadata": {
        "id": "G-TbUJLGF0LR",
        "colab_type": "code",
        "colab": {},
        "outputId": "010cfdab-ed5f-415c-b390-5d10ad9afe77"
      },
      "source": [
        "l = [0, 1, 2]\n",
        "any(l)"
      ],
      "execution_count": null,
      "outputs": [
        {
          "output_type": "execute_result",
          "data": {
            "text/plain": [
              "True"
            ]
          },
          "metadata": {
            "tags": []
          },
          "execution_count": 22
        }
      ]
    },
    {
      "cell_type": "code",
      "metadata": {
        "id": "CM3GFAnJLGWs",
        "colab_type": "code",
        "colab": {
          "base_uri": "https://localhost:8080/",
          "height": 34
        },
        "outputId": "8d097261-c7a8-4141-c14f-48245443ca10"
      },
      "source": [
        "#any internally performs below\n",
        "bool(0) or bool(1) or bool(2)"
      ],
      "execution_count": 36,
      "outputs": [
        {
          "output_type": "execute_result",
          "data": {
            "text/plain": [
              "True"
            ]
          },
          "metadata": {
            "tags": []
          },
          "execution_count": 36
        }
      ]
    },
    {
      "cell_type": "code",
      "metadata": {
        "id": "7Lc-Ql5yF0LU",
        "colab_type": "code",
        "colab": {
          "base_uri": "https://localhost:8080/",
          "height": 34
        },
        "outputId": "20d76217-ef6d-4197-8c2f-f1048b5a1eca"
      },
      "source": [
        "l = [0, 0, 0]\n",
        "any(l)"
      ],
      "execution_count": 37,
      "outputs": [
        {
          "output_type": "execute_result",
          "data": {
            "text/plain": [
              "False"
            ]
          },
          "metadata": {
            "tags": []
          },
          "execution_count": 37
        }
      ]
    },
    {
      "cell_type": "code",
      "metadata": {
        "id": "REp5GkGQLMXt",
        "colab_type": "code",
        "colab": {
          "base_uri": "https://localhost:8080/",
          "height": 34
        },
        "outputId": "afa8eb9c-2f28-4656-c064-512390dc902e"
      },
      "source": [
        "bool(0) or bool(0) or bool(0)"
      ],
      "execution_count": 39,
      "outputs": [
        {
          "output_type": "execute_result",
          "data": {
            "text/plain": [
              "False"
            ]
          },
          "metadata": {
            "tags": []
          },
          "execution_count": 39
        }
      ]
    },
    {
      "cell_type": "markdown",
      "metadata": {
        "id": "mxRAWbArF0LX",
        "colab_type": "text"
      },
      "source": [
        "On the other hand, **all** will return True if **every** element of the iterable is truthy:"
      ]
    },
    {
      "cell_type": "code",
      "metadata": {
        "id": "kIRDFEAiF0LX",
        "colab_type": "code",
        "colab": {},
        "outputId": "91a88381-3c83-4da9-93f3-bba981dc7fee"
      },
      "source": [
        "l = [0, 1, 2]\n",
        "all(l)"
      ],
      "execution_count": null,
      "outputs": [
        {
          "output_type": "execute_result",
          "data": {
            "text/plain": [
              "False"
            ]
          },
          "metadata": {
            "tags": []
          },
          "execution_count": 24
        }
      ]
    },
    {
      "cell_type": "code",
      "metadata": {
        "id": "uy-poD0LKoxP",
        "colab_type": "code",
        "colab": {
          "base_uri": "https://localhost:8080/",
          "height": 34
        },
        "outputId": "06e53d16-32c9-4ce9-c50b-4f52050789bb"
      },
      "source": [
        "#all internally performs below\n",
        "bool(0) and bool(1) and bool(2)"
      ],
      "execution_count": 33,
      "outputs": [
        {
          "output_type": "execute_result",
          "data": {
            "text/plain": [
              "False"
            ]
          },
          "metadata": {
            "tags": []
          },
          "execution_count": 33
        }
      ]
    },
    {
      "cell_type": "code",
      "metadata": {
        "id": "-Tn0rbtpF0La",
        "colab_type": "code",
        "colab": {
          "base_uri": "https://localhost:8080/",
          "height": 34
        },
        "outputId": "da7b96b4-079b-418a-f39f-533301f8cee3"
      },
      "source": [
        "l = [1, 2, 3]\n",
        "all(l)"
      ],
      "execution_count": 34,
      "outputs": [
        {
          "output_type": "execute_result",
          "data": {
            "text/plain": [
              "True"
            ]
          },
          "metadata": {
            "tags": []
          },
          "execution_count": 34
        }
      ]
    },
    {
      "cell_type": "code",
      "metadata": {
        "id": "t76O0tzcK5ML",
        "colab_type": "code",
        "colab": {
          "base_uri": "https://localhost:8080/",
          "height": 34
        },
        "outputId": "5f4333b7-21dd-4bce-9526-1649c32aa8d8"
      },
      "source": [
        "bool(1) and bool(2) and bool(3)"
      ],
      "execution_count": 35,
      "outputs": [
        {
          "output_type": "execute_result",
          "data": {
            "text/plain": [
              "True"
            ]
          },
          "metadata": {
            "tags": []
          },
          "execution_count": 35
        }
      ]
    },
    {
      "cell_type": "markdown",
      "metadata": {
        "id": "Tm0wjWQqF0Le",
        "colab_type": "text"
      },
      "source": [
        "We can implement these functions ourselves using **reduce** if we choose to - simply use the Boolean **or** or **and** operators as the function passed to **reduce** to implement **any** and **all** respectively."
      ]
    },
    {
      "cell_type": "markdown",
      "metadata": {
        "id": "w3k_ifGWF0Lf",
        "colab_type": "text"
      },
      "source": [
        "#### any"
      ]
    },
    {
      "cell_type": "code",
      "metadata": {
        "id": "WATH-WIrF0Lg",
        "colab_type": "code",
        "colab": {},
        "outputId": "47a813b6-3812-4028-b93e-56019308f7f4"
      },
      "source": [
        "l = [0, 1, 2]\n",
        "reduce(lambda a, b: bool(a or b), l)"
      ],
      "execution_count": null,
      "outputs": [
        {
          "output_type": "execute_result",
          "data": {
            "text/plain": [
              "True"
            ]
          },
          "metadata": {
            "tags": []
          },
          "execution_count": 26
        }
      ]
    },
    {
      "cell_type": "code",
      "metadata": {
        "id": "aZMQC9UsF0Lk",
        "colab_type": "code",
        "colab": {},
        "outputId": "48943bec-a17d-4459-d65f-9f15e6bf6122"
      },
      "source": [
        "l = [0, 0, 0]\n",
        "reduce(lambda a, b: bool(a or b), l)"
      ],
      "execution_count": null,
      "outputs": [
        {
          "output_type": "execute_result",
          "data": {
            "text/plain": [
              "False"
            ]
          },
          "metadata": {
            "tags": []
          },
          "execution_count": 27
        }
      ]
    },
    {
      "cell_type": "markdown",
      "metadata": {
        "id": "1mcgzDJqF0Ln",
        "colab_type": "text"
      },
      "source": [
        "#### all"
      ]
    },
    {
      "cell_type": "code",
      "metadata": {
        "id": "oIBKNkIJF0Ln",
        "colab_type": "code",
        "colab": {},
        "outputId": "9377547a-0a50-4035-ff0a-95412ddacb8a"
      },
      "source": [
        "l = [0, 1, 2]\n",
        "reduce(lambda a, b: bool(a and b), l)"
      ],
      "execution_count": null,
      "outputs": [
        {
          "output_type": "execute_result",
          "data": {
            "text/plain": [
              "False"
            ]
          },
          "metadata": {
            "tags": []
          },
          "execution_count": 28
        }
      ]
    },
    {
      "cell_type": "code",
      "metadata": {
        "id": "-a-VbsX0F0Lq",
        "colab_type": "code",
        "colab": {},
        "outputId": "4e61f739-dcda-49b1-af12-c8b5bbccf96f"
      },
      "source": [
        "l = [1, 2, 3]\n",
        "reduce(lambda a, b: bool(a and b), l)"
      ],
      "execution_count": null,
      "outputs": [
        {
          "output_type": "execute_result",
          "data": {
            "text/plain": [
              "True"
            ]
          },
          "metadata": {
            "tags": []
          },
          "execution_count": 29
        }
      ]
    },
    {
      "cell_type": "markdown",
      "metadata": {
        "id": "w6GRalKkF0Ls",
        "colab_type": "text"
      },
      "source": [
        "#### Products"
      ]
    },
    {
      "cell_type": "markdown",
      "metadata": {
        "id": "mcGTtSkHF0Ls",
        "colab_type": "text"
      },
      "source": [
        "Sometimes we may want to find the product of every element of an iterable.\n",
        "\n",
        "Python does not provide us a built-in method to do this, so we have to either use a procedural approach, or we can use the **reduce** function."
      ]
    },
    {
      "cell_type": "markdown",
      "metadata": {
        "id": "cI7mM4OkF0Lt",
        "colab_type": "text"
      },
      "source": [
        "We start by defining a function that multiplies two arguments together:"
      ]
    },
    {
      "cell_type": "code",
      "metadata": {
        "id": "xsUqpGx7F0Lt",
        "colab_type": "code",
        "colab": {}
      },
      "source": [
        "def mult(a, b):\n",
        "    return a * b"
      ],
      "execution_count": null,
      "outputs": []
    },
    {
      "cell_type": "markdown",
      "metadata": {
        "id": "nCfbaIfZF0Lw",
        "colab_type": "text"
      },
      "source": [
        "Then we can use the **reduce** function:"
      ]
    },
    {
      "cell_type": "code",
      "metadata": {
        "id": "9CcQCW7OF0Lw",
        "colab_type": "code",
        "colab": {},
        "outputId": "2cf81e51-711b-4fed-d83c-9456e0c37aff"
      },
      "source": [
        "l = [2, 3, 4]\n",
        "reduce(mult, l)"
      ],
      "execution_count": null,
      "outputs": [
        {
          "output_type": "execute_result",
          "data": {
            "text/plain": [
              "24"
            ]
          },
          "metadata": {
            "tags": []
          },
          "execution_count": 31
        }
      ]
    },
    {
      "cell_type": "markdown",
      "metadata": {
        "id": "QJiPpdYCF0Ly",
        "colab_type": "text"
      },
      "source": [
        "Remember what this did:\n",
        "\n",
        "    step 1: result = 2\n",
        "    step 2: result = mult(result, 3) = mult(2, 3) = 6\n",
        "    step 3: result = mult(result, 4) = mult(6, 4) = 24\n",
        "    step 4: l exhausted, return result --> 24"
      ]
    },
    {
      "cell_type": "markdown",
      "metadata": {
        "id": "jA6dUZ1_F0Lz",
        "colab_type": "text"
      },
      "source": [
        "Of course, we can also just use a lambda:"
      ]
    },
    {
      "cell_type": "code",
      "metadata": {
        "id": "Y7zPsHqvF0Lz",
        "colab_type": "code",
        "colab": {},
        "outputId": "e0ae33f8-939d-4bd4-a1c3-bf956e6a5df1"
      },
      "source": [
        "reduce(lambda a, b: a * b, l)"
      ],
      "execution_count": null,
      "outputs": [
        {
          "output_type": "execute_result",
          "data": {
            "text/plain": [
              "24"
            ]
          },
          "metadata": {
            "tags": []
          },
          "execution_count": 32
        }
      ]
    },
    {
      "cell_type": "markdown",
      "metadata": {
        "id": "-k0QqqDCF0L1",
        "colab_type": "text"
      },
      "source": [
        "#### Factorials"
      ]
    },
    {
      "cell_type": "markdown",
      "metadata": {
        "id": "HZ7_opV9F0L2",
        "colab_type": "text"
      },
      "source": [
        "##### Factorials"
      ]
    },
    {
      "cell_type": "markdown",
      "metadata": {
        "id": "ugYJoumpF0L2",
        "colab_type": "text"
      },
      "source": [
        "A special case of the product we just did would be calculating the factorial of some number (**n!**):"
      ]
    },
    {
      "cell_type": "markdown",
      "metadata": {
        "id": "Oh341a6uF0L2",
        "colab_type": "text"
      },
      "source": [
        "Recall:\n",
        "\n",
        "    n! = 1 * 2 * 3 * ... * n"
      ]
    },
    {
      "cell_type": "markdown",
      "metadata": {
        "id": "q9AbwNj-F0L3",
        "colab_type": "text"
      },
      "source": [
        "In other words, we are calculating the product of a sequence containing consecutive integers from 1 to n (inclusive)"
      ]
    },
    {
      "cell_type": "markdown",
      "metadata": {
        "id": "N6o-ZiF5F0L3",
        "colab_type": "text"
      },
      "source": [
        "We can easily write this using a simple for loop:"
      ]
    },
    {
      "cell_type": "code",
      "metadata": {
        "id": "7LFagISHF0L4",
        "colab_type": "code",
        "colab": {}
      },
      "source": [
        "def fact(n):\n",
        "    if n <= 1:\n",
        "        return 1\n",
        "    else:\n",
        "        result = 1\n",
        "        for i in range(2, n+1):\n",
        "            result *= i\n",
        "        return result"
      ],
      "execution_count": null,
      "outputs": []
    },
    {
      "cell_type": "code",
      "metadata": {
        "id": "_IUCs5v8F0L6",
        "colab_type": "code",
        "colab": {},
        "outputId": "2b8fd5f8-c924-44cf-c233-65167f8d73b0"
      },
      "source": [
        "fact(1), fact(2), fact(3), fact(4), fact(5)"
      ],
      "execution_count": null,
      "outputs": [
        {
          "output_type": "execute_result",
          "data": {
            "text/plain": [
              "(1, 2, 6, 24, 120)"
            ]
          },
          "metadata": {
            "tags": []
          },
          "execution_count": 34
        }
      ]
    },
    {
      "cell_type": "markdown",
      "metadata": {
        "id": "gV_UNEhcF0L9",
        "colab_type": "text"
      },
      "source": [
        "We could also write this using a recursive function:"
      ]
    },
    {
      "cell_type": "code",
      "metadata": {
        "id": "DFCWdyybF0L-",
        "colab_type": "code",
        "colab": {}
      },
      "source": [
        "def fact(n):\n",
        "    if n <=1:\n",
        "        return 1\n",
        "    else:\n",
        "        return n * fact(n-1)"
      ],
      "execution_count": null,
      "outputs": []
    },
    {
      "cell_type": "code",
      "metadata": {
        "id": "p6_dTKxYF0MB",
        "colab_type": "code",
        "colab": {},
        "outputId": "596f2f2a-0b32-4a74-f890-f9afb95dc117"
      },
      "source": [
        "fact(1), fact(2), fact(3), fact(4), fact(5)"
      ],
      "execution_count": null,
      "outputs": [
        {
          "output_type": "execute_result",
          "data": {
            "text/plain": [
              "(1, 2, 6, 24, 120)"
            ]
          },
          "metadata": {
            "tags": []
          },
          "execution_count": 36
        }
      ]
    },
    {
      "cell_type": "markdown",
      "metadata": {
        "id": "Y-7TBTMSF0MG",
        "colab_type": "text"
      },
      "source": [
        "Finally we can also write this using **reduce** as follows:"
      ]
    },
    {
      "cell_type": "code",
      "metadata": {
        "id": "aoTxhCBwF0MH",
        "colab_type": "code",
        "colab": {},
        "outputId": "74a1eb28-22b9-4517-cbb4-b26bff5e53e1"
      },
      "source": [
        "n = 5\n",
        "reduce(lambda a, b: a * b, range(1, n+1))"
      ],
      "execution_count": null,
      "outputs": [
        {
          "output_type": "execute_result",
          "data": {
            "text/plain": [
              "120"
            ]
          },
          "metadata": {
            "tags": []
          },
          "execution_count": 37
        }
      ]
    },
    {
      "cell_type": "markdown",
      "metadata": {
        "id": "9-uvYmq4F0MK",
        "colab_type": "text"
      },
      "source": [
        "As you can see, the **reduce** approach, although concise, is sometimes more difficult to understand than the plain loop or recursive approach."
      ]
    },
    {
      "cell_type": "markdown",
      "metadata": {
        "collapsed": true,
        "id": "BhVocHXdF0MM",
        "colab_type": "text"
      },
      "source": [
        "#### **reduce** initializer"
      ]
    },
    {
      "cell_type": "markdown",
      "metadata": {
        "id": "jEMdDaA0F0MM",
        "colab_type": "text"
      },
      "source": [
        "Suppose we want to provide some sort of default when we claculate the product of the elements of an iterable if that iterable is empty:"
      ]
    },
    {
      "cell_type": "code",
      "metadata": {
        "id": "g3enPb2kF0MN",
        "colab_type": "code",
        "colab": {},
        "outputId": "4a3db6bc-cb04-4256-e328-efa247e08156"
      },
      "source": [
        "l = [1, 2, 3]\n",
        "reduce(lambda x, y: x*y, l)"
      ],
      "execution_count": null,
      "outputs": [
        {
          "output_type": "execute_result",
          "data": {
            "text/plain": [
              "6"
            ]
          },
          "metadata": {
            "tags": []
          },
          "execution_count": 38
        }
      ]
    },
    {
      "cell_type": "markdown",
      "metadata": {
        "id": "ki1a0oUvF0MR",
        "colab_type": "text"
      },
      "source": [
        "but if **l** is empty:"
      ]
    },
    {
      "cell_type": "code",
      "metadata": {
        "id": "CFYQqBzSF0MR",
        "colab_type": "code",
        "colab": {},
        "outputId": "61e6dd7b-10eb-4614-ba55-5d8d1a9fdf91"
      },
      "source": [
        "l = []\n",
        "reduce(lambda x, y: x*y, l)"
      ],
      "execution_count": null,
      "outputs": [
        {
          "output_type": "error",
          "ename": "TypeError",
          "evalue": "reduce() of empty sequence with no initial value",
          "traceback": [
            "\u001b[1;31m---------------------------------------------------------------------------\u001b[0m",
            "\u001b[1;31mTypeError\u001b[0m                                 Traceback (most recent call last)",
            "\u001b[1;32m<ipython-input-39-09fa1e2b48dc>\u001b[0m in \u001b[0;36m<module>\u001b[1;34m()\u001b[0m\n\u001b[0;32m      1\u001b[0m \u001b[0ml\u001b[0m \u001b[1;33m=\u001b[0m \u001b[1;33m[\u001b[0m\u001b[1;33m]\u001b[0m\u001b[1;33m\u001b[0m\u001b[0m\n\u001b[1;32m----> 2\u001b[1;33m \u001b[0mreduce\u001b[0m\u001b[1;33m(\u001b[0m\u001b[1;32mlambda\u001b[0m \u001b[0mx\u001b[0m\u001b[1;33m,\u001b[0m \u001b[0my\u001b[0m\u001b[1;33m:\u001b[0m \u001b[0mx\u001b[0m\u001b[1;33m*\u001b[0m\u001b[0my\u001b[0m\u001b[1;33m,\u001b[0m \u001b[0ml\u001b[0m\u001b[1;33m)\u001b[0m\u001b[1;33m\u001b[0m\u001b[0m\n\u001b[0m",
            "\u001b[1;31mTypeError\u001b[0m: reduce() of empty sequence with no initial value"
          ]
        }
      ]
    },
    {
      "cell_type": "markdown",
      "metadata": {
        "id": "MFpw0jfEF0MU",
        "colab_type": "text"
      },
      "source": [
        "To fix this, we can provide an initializer. In this case, we will use **1** since that will not affect the result of the product, and still allow us to return a value for an empty iterable."
      ]
    },
    {
      "cell_type": "code",
      "metadata": {
        "id": "UoWliLxnF0MU",
        "colab_type": "code",
        "colab": {},
        "outputId": "dbcd1881-5b19-414e-fd85-1d1467bb65d4"
      },
      "source": [
        "l = []\n",
        "reduce(lambda x, y: x*y, l, 1)"
      ],
      "execution_count": null,
      "outputs": [
        {
          "output_type": "execute_result",
          "data": {
            "text/plain": [
              "1"
            ]
          },
          "metadata": {
            "tags": []
          },
          "execution_count": 40
        }
      ]
    },
    {
      "cell_type": "code",
      "metadata": {
        "id": "lUV5EmGyF0MW",
        "colab_type": "code",
        "colab": {}
      },
      "source": [
        ""
      ],
      "execution_count": null,
      "outputs": []
    }
  ]
}