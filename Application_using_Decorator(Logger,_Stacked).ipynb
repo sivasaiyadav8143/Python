{
  "nbformat": 4,
  "nbformat_minor": 0,
  "metadata": {
    "kernelspec": {
      "display_name": "Python 3",
      "language": "python",
      "name": "python3"
    },
    "language_info": {
      "codemirror_mode": {
        "name": "ipython",
        "version": 3
      },
      "file_extension": ".py",
      "mimetype": "text/x-python",
      "name": "python",
      "nbconvert_exporter": "python",
      "pygments_lexer": "ipython3",
      "version": "3.6.2"
    },
    "colab": {
      "name": "Application_using_Decorator(Logger, Stacked).ipynb",
      "provenance": [],
      "include_colab_link": true
    }
  },
  "cells": [
    {
      "cell_type": "markdown",
      "metadata": {
        "id": "view-in-github",
        "colab_type": "text"
      },
      "source": [
        "<a href=\"https://colab.research.google.com/github/sivasaiyadav8143/Python/blob/master/Application_using_Decorator(Logger%2C_Stacked).ipynb\" target=\"_parent\"><img src=\"https://colab.research.google.com/assets/colab-badge.svg\" alt=\"Open In Colab\"/></a>"
      ]
    },
    {
      "cell_type": "markdown",
      "metadata": {
        "id": "SYC1-koJAS0b"
      },
      "source": [
        "### Decorators Application (Logger, Stacked Decorators)"
      ]
    },
    {
      "cell_type": "markdown",
      "metadata": {
        "id": "YF4SxLPFAS0e"
      },
      "source": [
        "In this example we're going to create a utility decorator that will log function calls (to the console, but in practice you would be writing your logs to a file (e.g. using Python's built-in logger), or to a database, etc."
      ]
    },
    {
      "cell_type": "code",
      "metadata": {
        "id": "T5eW70_vAS0f"
      },
      "source": [
        "def logged(fn):\n",
        "    from functools import wraps\n",
        "    from datetime import datetime, timezone\n",
        "    \n",
        "    @wraps(fn)\n",
        "    def inner(*args, **kwargs):\n",
        "        run_dt = datetime.now(timezone.utc)\n",
        "        result = fn(*args, **kwargs)\n",
        "        print('{0}: called {1}'.format(fn.__name__, run_dt))\n",
        "        return result\n",
        "        \n",
        "    return inner"
      ],
      "execution_count": null,
      "outputs": []
    },
    {
      "cell_type": "code",
      "metadata": {
        "id": "4uH10d43AS0m"
      },
      "source": [
        "@logged\n",
        "def func_1():\n",
        "    pass"
      ],
      "execution_count": null,
      "outputs": []
    },
    {
      "cell_type": "code",
      "metadata": {
        "id": "irSDzMVxAS0s"
      },
      "source": [
        "@logged\n",
        "def func_2():\n",
        "    pass"
      ],
      "execution_count": null,
      "outputs": []
    },
    {
      "cell_type": "code",
      "metadata": {
        "id": "EI_TCDuIAS0y",
        "outputId": "8a18d374-7762-41db-e6b9-e310953540c5"
      },
      "source": [
        "func_1()"
      ],
      "execution_count": null,
      "outputs": [
        {
          "output_type": "stream",
          "text": [
            "func_1: called 2017-12-10 00:09:19.443657+00:00\n"
          ],
          "name": "stdout"
        }
      ]
    },
    {
      "cell_type": "code",
      "metadata": {
        "id": "Nbv44Wj-AS08",
        "outputId": "bb06fe32-6544-420a-b266-4f0f1ce84c49"
      },
      "source": [
        "func_2()"
      ],
      "execution_count": null,
      "outputs": [
        {
          "output_type": "stream",
          "text": [
            "func_2: called 2017-12-10 00:09:19.460691+00:00\n"
          ],
          "name": "stdout"
        }
      ]
    },
    {
      "cell_type": "markdown",
      "metadata": {
        "id": "bchU8KvdAS1E"
      },
      "source": [
        "Now we may additionaly also want to time the function. We can certainly include the code to do so in our `logged` decorator, but we could also just use the `@timed` decorator."
      ]
    },
    {
      "cell_type": "code",
      "metadata": {
        "id": "C9bqlCLQAS1F"
      },
      "source": [
        "def timed(fn):\n",
        "    from functools import wraps\n",
        "    from time import perf_counter\n",
        "    \n",
        "    @wraps(fn)\n",
        "    def inner(*args, **kwargs):\n",
        "        start = perf_counter()\n",
        "        result = fn(*args, **kwargs)\n",
        "        end = perf_counter()\n",
        "        print('{0} ran for {1:.6f}s'.format(fn.__name__, end-start))\n",
        "        return result\n",
        "    \n",
        "    return inner"
      ],
      "execution_count": null,
      "outputs": []
    },
    {
      "cell_type": "code",
      "metadata": {
        "id": "JHju9agDAS1M"
      },
      "source": [
        "@timed\n",
        "@logged\n",
        "def factorial(n):\n",
        "    from operator import mul\n",
        "    from functools import reduce\n",
        "    \n",
        "    return reduce(mul, range(1, n+1))"
      ],
      "execution_count": null,
      "outputs": []
    },
    {
      "cell_type": "code",
      "metadata": {
        "id": "wQiWGFAZAS1S",
        "outputId": "95a73c76-d4ba-426a-c157-fd7d25817620"
      },
      "source": [
        "factorial(10)"
      ],
      "execution_count": null,
      "outputs": [
        {
          "output_type": "stream",
          "text": [
            "factorial: called 2017-12-10 00:09:19.496762+00:00\n",
            "factorial ran for 0.000130s\n"
          ],
          "name": "stdout"
        },
        {
          "output_type": "execute_result",
          "data": {
            "text/plain": [
              "3628800"
            ]
          },
          "metadata": {
            "tags": []
          },
          "execution_count": 8
        }
      ]
    },
    {
      "cell_type": "markdown",
      "metadata": {
        "id": "68v-Bud-AS1Z"
      },
      "source": [
        "Note that the order in which we stack the decorators can make a difference!"
      ]
    },
    {
      "cell_type": "markdown",
      "metadata": {
        "id": "0ho-wwRoAS1b"
      },
      "source": [
        "Remember that this is because our stacked decorators essentially amounted to:"
      ]
    },
    {
      "cell_type": "code",
      "metadata": {
        "id": "U6H07i08AS1e"
      },
      "source": [
        "def factorial(n):\n",
        "    from operator import mul\n",
        "    from functools import reduce\n",
        "    \n",
        "    return reduce(mul, range(1, n+1))\n",
        "\n",
        "factorial = timed(logged(factorial))"
      ],
      "execution_count": null,
      "outputs": []
    },
    {
      "cell_type": "markdown",
      "metadata": {
        "id": "yh1x8VUVAS1u"
      },
      "source": [
        "So in this case the `timed` decorator will be called first, followed by the `logged` decorator.\n",
        "\n",
        "You may wonder why the printed output seems reversed. Look at how the decorators were defined - they first ran the function passed in, and **then** printed the result.\n",
        "\n",
        "So in the above example, a simplified look at what happens in each decorator:\n",
        "\n",
        "* `timed(fn)(*args, **kwargs)`:\n",
        "    1. calls `fn(*args, **kwargs)`\n",
        "    2. prints timing\n",
        "    \n",
        "    \n",
        "* `logged(fn)(*args, **kwargs)`:\n",
        "    1. calls `fn(*args, **kwargs)`\n",
        "    2. prints log info\n",
        "\n",
        "So, calling\n",
        "`factorial = timed(logged(factorial))`\n",
        "\n",
        "is equivalent to:\n",
        "\n",
        "<pre>\n",
        "fn = logged(factorial)\n",
        "factorial = timed(fn)\n",
        "\n",
        "factorial(n) --> call timed(fn)(n)\n",
        "             --> call fn(n), then print timing\n",
        "             --> call logged(original_factorial)(n), then print timing\n",
        "             --> call original_factorial(n), then log, then print timing\n",
        "</pre>\n",
        "\n",
        "So as you can see, the `timed` decorator ran first, but it called the logged decorated function first, then printed the result - hence why the print output seems reversed."
      ]
    },
    {
      "cell_type": "code",
      "metadata": {
        "id": "-e9XtEgtAS1v",
        "outputId": "16d398a2-b361-4969-f2d4-92825993d432"
      },
      "source": [
        "factorial(10)"
      ],
      "execution_count": null,
      "outputs": [
        {
          "output_type": "stream",
          "text": [
            "factorial: called 2017-12-10 00:09:19.525820+00:00\n",
            "factorial ran for 0.000147s\n"
          ],
          "name": "stdout"
        },
        {
          "output_type": "execute_result",
          "data": {
            "text/plain": [
              "3628800"
            ]
          },
          "metadata": {
            "tags": []
          },
          "execution_count": 10
        }
      ]
    },
    {
      "cell_type": "markdown",
      "metadata": {
        "id": "b5if1hmVAS10"
      },
      "source": [
        "But in the following case, the `logged` decorator will run first, followed by the `timed` decorator:"
      ]
    },
    {
      "cell_type": "code",
      "metadata": {
        "id": "z9C6MCmzAS11"
      },
      "source": [
        "def factorial(n):\n",
        "    from operator import mul\n",
        "    from functools import reduce\n",
        "    \n",
        "    return reduce(mul, range(1, n+1))\n",
        "\n",
        "factorial = logged(timed(factorial))"
      ],
      "execution_count": null,
      "outputs": []
    },
    {
      "cell_type": "code",
      "metadata": {
        "id": "2H06x37lAS16",
        "outputId": "98ca00d4-1da3-4f3e-cc72-f4a7c55f5e47"
      },
      "source": [
        "factorial(10)"
      ],
      "execution_count": null,
      "outputs": [
        {
          "output_type": "stream",
          "text": [
            "factorial ran for 0.000015s\n",
            "factorial: called 2017-12-10 00:09:19.547866+00:00\n"
          ],
          "name": "stdout"
        },
        {
          "output_type": "execute_result",
          "data": {
            "text/plain": [
              "3628800"
            ]
          },
          "metadata": {
            "tags": []
          },
          "execution_count": 12
        }
      ]
    },
    {
      "cell_type": "markdown",
      "metadata": {
        "id": "feNht-x0AS2B"
      },
      "source": [
        "Or, using the **@** notation:"
      ]
    },
    {
      "cell_type": "code",
      "metadata": {
        "id": "3ewJM3hfAS2C"
      },
      "source": [
        "@logged\n",
        "@timed\n",
        "def factorial(n):\n",
        "    from operator import mul\n",
        "    from functools import reduce\n",
        "    \n",
        "    return reduce(mul, range(1, n+1))"
      ],
      "execution_count": null,
      "outputs": []
    },
    {
      "cell_type": "code",
      "metadata": {
        "id": "6DwHV5pNAS2J",
        "outputId": "8550a527-bfbb-45d4-97d7-5dff44f5ccdc"
      },
      "source": [
        "factorial(10)"
      ],
      "execution_count": null,
      "outputs": [
        {
          "output_type": "stream",
          "text": [
            "factorial ran for 0.000016s\n",
            "factorial: called 2017-12-10 00:09:19.572914+00:00\n"
          ],
          "name": "stdout"
        },
        {
          "output_type": "execute_result",
          "data": {
            "text/plain": [
              "3628800"
            ]
          },
          "metadata": {
            "tags": []
          },
          "execution_count": 14
        }
      ]
    },
    {
      "cell_type": "code",
      "metadata": {
        "id": "gPzzmSHpAS2O"
      },
      "source": [
        "@timed\n",
        "@logged\n",
        "def factorial(n):\n",
        "    from operator import mul\n",
        "    from functools import reduce\n",
        "    \n",
        "    return reduce(mul, range(1, n+1))"
      ],
      "execution_count": null,
      "outputs": []
    },
    {
      "cell_type": "code",
      "metadata": {
        "id": "PsgSgl4uAS2U",
        "outputId": "6e6e1bf5-3170-4a38-9a47-7266c98b53b2"
      },
      "source": [
        "factorial(10)"
      ],
      "execution_count": null,
      "outputs": [
        {
          "output_type": "stream",
          "text": [
            "factorial: called 2017-12-10 00:09:19.608237+00:00\n",
            "factorial ran for 0.000153s\n"
          ],
          "name": "stdout"
        },
        {
          "output_type": "execute_result",
          "data": {
            "text/plain": [
              "3628800"
            ]
          },
          "metadata": {
            "tags": []
          },
          "execution_count": 16
        }
      ]
    },
    {
      "cell_type": "markdown",
      "metadata": {
        "id": "tYJow9StAS2e"
      },
      "source": [
        "To make this clearer, let's write two very simple decorators as follows:"
      ]
    },
    {
      "cell_type": "code",
      "metadata": {
        "id": "Ni2urskNAS2f"
      },
      "source": [
        "def dec_1(fn):\n",
        "    def inner():\n",
        "        print('running dec_1')\n",
        "        return fn()\n",
        "    return inner"
      ],
      "execution_count": null,
      "outputs": []
    },
    {
      "cell_type": "code",
      "metadata": {
        "id": "e6fbv8qkAS2l"
      },
      "source": [
        "def dec_2(fn):\n",
        "    def inner():\n",
        "        print('running dec_2')\n",
        "        return fn()\n",
        "    return inner"
      ],
      "execution_count": null,
      "outputs": []
    },
    {
      "cell_type": "code",
      "metadata": {
        "id": "thI9kparAS2t"
      },
      "source": [
        "@dec_1\n",
        "@dec_2\n",
        "def my_func():\n",
        "    print('running my_func')"
      ],
      "execution_count": null,
      "outputs": []
    },
    {
      "cell_type": "code",
      "metadata": {
        "id": "VxoCzFAwAS22",
        "outputId": "e63d1fa1-e12a-46d1-f0c0-f6d45961775c"
      },
      "source": [
        "my_func()"
      ],
      "execution_count": null,
      "outputs": [
        {
          "output_type": "stream",
          "text": [
            "running dec_1\n",
            "running dec_2\n",
            "running my_func\n"
          ],
          "name": "stdout"
        }
      ]
    },
    {
      "cell_type": "markdown",
      "metadata": {
        "id": "jiU3YMP_AS29"
      },
      "source": [
        "But if we change the order of the decorators:"
      ]
    },
    {
      "cell_type": "code",
      "metadata": {
        "id": "icQZVdPBAS2_"
      },
      "source": [
        "@dec_2\n",
        "@dec_1\n",
        "def my_func():\n",
        "    print('running my_func')"
      ],
      "execution_count": null,
      "outputs": []
    },
    {
      "cell_type": "code",
      "metadata": {
        "id": "htU_8Xx0AS3G",
        "outputId": "9ad80e6c-725c-4408-f378-ab844cc0a726"
      },
      "source": [
        "my_func()"
      ],
      "execution_count": null,
      "outputs": [
        {
          "output_type": "stream",
          "text": [
            "running dec_2\n",
            "running dec_1\n",
            "running my_func\n"
          ],
          "name": "stdout"
        }
      ]
    },
    {
      "cell_type": "markdown",
      "metadata": {
        "id": "n4pR7TgxAS3L"
      },
      "source": [
        "You may wonder whether this really matters in practice. And yes, it can.\n",
        "\n",
        "Consider an API that contains various functions that can be called. However, endpoints are secured and can only be run by authenticated users who have some specific role(s). If they do not have the role you want to return an unauthorized error. But if they do, then you want to log that they called the endpoint.\n",
        "\n",
        "In this case you may have one decorator that is used to check authentication and permissions (and immediately return an unauthorized error from the API if applicable), and the other to log the call. \n",
        "\n",
        "If you decorated it this way:\n",
        "\n",
        "<pre>\n",
        "@log\n",
        "@authorize\n",
        "def my_endpoint():\n",
        "    pass\n",
        "</pre>\n",
        "\n",
        "then the call would always be logged.\n",
        "\n",
        "But, in this instance:\n",
        "\n",
        "<pre>\n",
        "@authorize\n",
        "@log\n",
        "def my_endpoint():\n",
        "    pass\n",
        "</pre>\n",
        "\n",
        "your endpoint would only get logged if the user passed the `authorize` test."
      ]
    }
  ]
}