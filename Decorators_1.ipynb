{
  "nbformat": 4,
  "nbformat_minor": 0,
  "metadata": {
    "kernelspec": {
      "display_name": "Python 3",
      "language": "python",
      "name": "python3"
    },
    "language_info": {
      "codemirror_mode": {
        "name": "ipython",
        "version": 3
      },
      "file_extension": ".py",
      "mimetype": "text/x-python",
      "name": "python",
      "nbconvert_exporter": "python",
      "pygments_lexer": "ipython3",
      "version": "3.6.2"
    },
    "colab": {
      "name": "Decorators 1.ipynb",
      "provenance": [],
      "include_colab_link": true
    }
  },
  "cells": [
    {
      "cell_type": "markdown",
      "metadata": {
        "id": "view-in-github",
        "colab_type": "text"
      },
      "source": [
        "<a href=\"https://colab.research.google.com/github/sivasaiyadav8143/Python/blob/master/Decorators_1.ipynb\" target=\"_parent\"><img src=\"https://colab.research.google.com/assets/colab-badge.svg\" alt=\"Open In Colab\"/></a>"
      ]
    },
    {
      "cell_type": "markdown",
      "metadata": {
        "id": "Hz2VNxQNYxyg"
      },
      "source": [
        "### Decorators (Part 1)\n",
        "\n",
        "A decorator takes in a function, adds some functionality and returns it\n",
        "\n",
        "The decorator function adds some new functionality to the original function. This is similar to packing a gift. The decorator acts as a wrapper. The nature of the object that got decorated (actual gift inside) does not alter. But now, it looks pretty (since it got decorated)."
      ]
    },
    {
      "cell_type": "markdown",
      "metadata": {
        "id": "suj9IyXlYxyh"
      },
      "source": [
        "Recall the example in the last section where we wrote a simple closure to count how many times a function had been run:"
      ]
    },
    {
      "cell_type": "code",
      "metadata": {
        "id": "Xq3kXem2Yxyi"
      },
      "source": [
        "def counter(fn):\n",
        "    count = 0\n",
        "    \n",
        "    def inner(*args, **kwargs):\n",
        "        nonlocal count\n",
        "        count += 1\n",
        "        print('Function {0} was called {1} times'.format(fn.__name__, count))\n",
        "        return fn(*args, **kwargs)\n",
        "    return inner"
      ],
      "execution_count": null,
      "outputs": []
    },
    {
      "cell_type": "code",
      "metadata": {
        "id": "tC7hU_lCYxym"
      },
      "source": [
        "def add(a, b=0):\n",
        "    \"\"\"\n",
        "    returns the sum of a and b\n",
        "    \"\"\"\n",
        "    return a + b"
      ],
      "execution_count": null,
      "outputs": []
    },
    {
      "cell_type": "code",
      "metadata": {
        "id": "QOP1s5qBYxyo",
        "outputId": "0ec703b4-524c-4f2d-eea8-3fe1c43357de"
      },
      "source": [
        "help(add)"
      ],
      "execution_count": null,
      "outputs": [
        {
          "output_type": "stream",
          "text": [
            "Help on function add in module __main__:\n",
            "\n",
            "add(a, b=0)\n",
            "    returns the sum of a and b\n",
            "\n"
          ],
          "name": "stdout"
        }
      ]
    },
    {
      "cell_type": "markdown",
      "metadata": {
        "id": "EQpvFj1JYxyt"
      },
      "source": [
        "Here's the memory address that `add` points to:"
      ]
    },
    {
      "cell_type": "code",
      "metadata": {
        "id": "_INyHwPmYxyt",
        "outputId": "41f878f0-2609-4508-833a-8980c8476e90"
      },
      "source": [
        "id(add)"
      ],
      "execution_count": null,
      "outputs": [
        {
          "output_type": "execute_result",
          "data": {
            "text/plain": [
              "2352389334696"
            ]
          },
          "metadata": {
            "tags": []
          },
          "execution_count": 4
        }
      ]
    },
    {
      "cell_type": "markdown",
      "metadata": {
        "id": "ba0EJny0Yxyx"
      },
      "source": [
        "Now we create a closure using the `add` function as an argument to the `counter` function:"
      ]
    },
    {
      "cell_type": "code",
      "metadata": {
        "id": "dWP63LwcYxyy"
      },
      "source": [
        "add = counter(add)"
      ],
      "execution_count": null,
      "outputs": []
    },
    {
      "cell_type": "markdown",
      "metadata": {
        "id": "inmgPTgxYxy1"
      },
      "source": [
        "And you'll note that `add` is no longer the same function as before. Indeed the memory address `add` points to is no longer the same:"
      ]
    },
    {
      "cell_type": "code",
      "metadata": {
        "id": "QHvdkNm5Yxy1",
        "outputId": "ed64bfa8-1cd2-4774-a5af-9e3df89cbdf9"
      },
      "source": [
        "id(add)"
      ],
      "execution_count": null,
      "outputs": [
        {
          "output_type": "execute_result",
          "data": {
            "text/plain": [
              "2352404346128"
            ]
          },
          "metadata": {
            "tags": []
          },
          "execution_count": 6
        }
      ]
    },
    {
      "cell_type": "code",
      "metadata": {
        "id": "NLQ-U6Z5Yxy4",
        "outputId": "7b55df12-6a93-4cf7-8f38-40cd081c4612"
      },
      "source": [
        "add(1, 2)"
      ],
      "execution_count": null,
      "outputs": [
        {
          "output_type": "stream",
          "text": [
            "Function add was called 1 times\n"
          ],
          "name": "stdout"
        },
        {
          "output_type": "execute_result",
          "data": {
            "text/plain": [
              "3"
            ]
          },
          "metadata": {
            "tags": []
          },
          "execution_count": 7
        }
      ]
    },
    {
      "cell_type": "code",
      "metadata": {
        "id": "IL8i6Ws6Yxy7",
        "outputId": "07b2d4c0-4dd8-4e30-a351-3bb283f2b627"
      },
      "source": [
        "add(2, 2)"
      ],
      "execution_count": null,
      "outputs": [
        {
          "output_type": "stream",
          "text": [
            "Function add was called 2 times\n"
          ],
          "name": "stdout"
        },
        {
          "output_type": "execute_result",
          "data": {
            "text/plain": [
              "4"
            ]
          },
          "metadata": {
            "tags": []
          },
          "execution_count": 8
        }
      ]
    },
    {
      "cell_type": "markdown",
      "metadata": {
        "id": "Q6LIFUNbYxy-"
      },
      "source": [
        "What happened is that we put our **add** function 'through' the **counter** function - we usually say that we **decorated** our function **add**.\n",
        "\n",
        "And we call that **counter** function a **decorator**.\n",
        "\n",
        "There is a shorthand way of decorating our function without having to type:\n",
        "\n",
        "``func = counter(func)``"
      ]
    },
    {
      "cell_type": "code",
      "metadata": {
        "id": "wwA2oiRxYxy-"
      },
      "source": [
        "@counter\n",
        "def mult(a: float, b: float=1, c: float=1) -> float:\n",
        "    \"\"\"\n",
        "    returns the product of a, b, and c\n",
        "    \"\"\"\n",
        "    return a * b * c"
      ],
      "execution_count": null,
      "outputs": []
    },
    {
      "cell_type": "code",
      "metadata": {
        "id": "sAijWAC3YxzC",
        "outputId": "c723af35-cf1d-4107-e09d-09589a1dd89e"
      },
      "source": [
        "mult(1, 2, 3)"
      ],
      "execution_count": null,
      "outputs": [
        {
          "output_type": "stream",
          "text": [
            "Function mult was called 1 times\n"
          ],
          "name": "stdout"
        },
        {
          "output_type": "execute_result",
          "data": {
            "text/plain": [
              "6"
            ]
          },
          "metadata": {
            "tags": []
          },
          "execution_count": 10
        }
      ]
    },
    {
      "cell_type": "code",
      "metadata": {
        "id": "5EOIptDNYxzG",
        "outputId": "959dc809-c74e-4dc1-c757-151ad2f205f5"
      },
      "source": [
        "mult(2, 2, 2)"
      ],
      "execution_count": null,
      "outputs": [
        {
          "output_type": "stream",
          "text": [
            "Function mult was called 2 times\n"
          ],
          "name": "stdout"
        },
        {
          "output_type": "execute_result",
          "data": {
            "text/plain": [
              "8"
            ]
          },
          "metadata": {
            "tags": []
          },
          "execution_count": 11
        }
      ]
    },
    {
      "cell_type": "markdown",
      "metadata": {
        "id": "Fr36Hq_TYxzI"
      },
      "source": [
        "Let's do a little bit of introspection on our two decorated functions:"
      ]
    },
    {
      "cell_type": "code",
      "metadata": {
        "id": "f8eK5-G8YxzJ",
        "outputId": "b44f2c72-df81-465f-c7ea-73ba1c1a2018"
      },
      "source": [
        "add.__name__"
      ],
      "execution_count": null,
      "outputs": [
        {
          "output_type": "execute_result",
          "data": {
            "text/plain": [
              "'inner'"
            ]
          },
          "metadata": {
            "tags": []
          },
          "execution_count": 12
        }
      ]
    },
    {
      "cell_type": "code",
      "metadata": {
        "id": "-xjAANu5YxzM",
        "outputId": "6498b017-11f7-4ce0-c434-547caa1b387c"
      },
      "source": [
        "mult.__name__"
      ],
      "execution_count": null,
      "outputs": [
        {
          "output_type": "execute_result",
          "data": {
            "text/plain": [
              "'inner'"
            ]
          },
          "metadata": {
            "tags": []
          },
          "execution_count": 13
        }
      ]
    },
    {
      "cell_type": "markdown",
      "metadata": {
        "id": "lR1XYuHvYxzP"
      },
      "source": [
        "As you can see, the name of the function is no longer **add** or **mult**, but instead it is the name of that **inner** function in our decorator."
      ]
    },
    {
      "cell_type": "code",
      "metadata": {
        "id": "atYAlD2XYxzR",
        "outputId": "59a8c628-1aab-498e-b5d1-72a9f22ba6b0"
      },
      "source": [
        "help(add)"
      ],
      "execution_count": null,
      "outputs": [
        {
          "output_type": "stream",
          "text": [
            "Help on function inner in module __main__:\n",
            "\n",
            "inner(*args, **kwargs)\n",
            "\n"
          ],
          "name": "stdout"
        }
      ]
    },
    {
      "cell_type": "code",
      "metadata": {
        "id": "twfWTiXNYxzT",
        "outputId": "7279265f-a2a2-4a49-ed63-d4b90d71545b"
      },
      "source": [
        "help(mult)"
      ],
      "execution_count": null,
      "outputs": [
        {
          "output_type": "stream",
          "text": [
            "Help on function inner in module __main__:\n",
            "\n",
            "inner(*args, **kwargs)\n",
            "\n"
          ],
          "name": "stdout"
        }
      ]
    },
    {
      "cell_type": "markdown",
      "metadata": {
        "id": "v8NrRCecYxzV"
      },
      "source": [
        "As you can see, we've also lost our docstring and parameter annotations!"
      ]
    },
    {
      "cell_type": "markdown",
      "metadata": {
        "id": "8BTNXXHsYxzW"
      },
      "source": [
        "What about introspecting the parameters of **add** and **mult**:"
      ]
    },
    {
      "cell_type": "code",
      "metadata": {
        "id": "PQZOLKhqYxzW"
      },
      "source": [
        "import inspect"
      ],
      "execution_count": null,
      "outputs": []
    },
    {
      "cell_type": "code",
      "metadata": {
        "id": "CmpBTHA6Yxzb",
        "outputId": "88176412-9148-4612-af1b-f1b04086ee92"
      },
      "source": [
        "inspect.getsource(add)"
      ],
      "execution_count": null,
      "outputs": [
        {
          "output_type": "execute_result",
          "data": {
            "text/plain": [
              "\"    def inner(*args, **kwargs):\\n        nonlocal count\\n        count += 1\\n        print('Function {0} was called {1} times'.format(fn.__name__, count))\\n        return fn(*args, **kwargs)\\n\""
            ]
          },
          "metadata": {
            "tags": []
          },
          "execution_count": 17
        }
      ]
    },
    {
      "cell_type": "code",
      "metadata": {
        "id": "jTVWSzmKYxzd",
        "outputId": "a84a6e72-4262-4c08-9697-4943fb4d37f6"
      },
      "source": [
        "inspect.getsource(mult)"
      ],
      "execution_count": null,
      "outputs": [
        {
          "output_type": "execute_result",
          "data": {
            "text/plain": [
              "\"    def inner(*args, **kwargs):\\n        nonlocal count\\n        count += 1\\n        print('Function {0} was called {1} times'.format(fn.__name__, count))\\n        return fn(*args, **kwargs)\\n\""
            ]
          },
          "metadata": {
            "tags": []
          },
          "execution_count": 18
        }
      ]
    },
    {
      "cell_type": "markdown",
      "metadata": {
        "id": "zDgp1757Yxzf"
      },
      "source": [
        "Even the signature is gone:"
      ]
    },
    {
      "cell_type": "code",
      "metadata": {
        "id": "dWYz3ivQYxzg",
        "outputId": "81dc9cc3-0384-4de6-f32d-9fa8e4bf4a2a"
      },
      "source": [
        "inspect.signature(add)"
      ],
      "execution_count": null,
      "outputs": [
        {
          "output_type": "execute_result",
          "data": {
            "text/plain": [
              "<Signature (*args, **kwargs)>"
            ]
          },
          "metadata": {
            "tags": []
          },
          "execution_count": 19
        }
      ]
    },
    {
      "cell_type": "code",
      "metadata": {
        "id": "tO3C92GzYxzk",
        "outputId": "300ca64e-a4ab-4ab5-d6b3-9ec5d4d780cb"
      },
      "source": [
        "inspect.signature(mult)"
      ],
      "execution_count": null,
      "outputs": [
        {
          "output_type": "execute_result",
          "data": {
            "text/plain": [
              "<Signature (*args, **kwargs)>"
            ]
          },
          "metadata": {
            "tags": []
          },
          "execution_count": 20
        }
      ]
    },
    {
      "cell_type": "markdown",
      "metadata": {
        "id": "wy5i7ii6Yxzm"
      },
      "source": [
        "Even the parameter defaults documentation is are gone:"
      ]
    },
    {
      "cell_type": "code",
      "metadata": {
        "id": "tjy7Dp_1Yxzm",
        "outputId": "95ad5185-8222-4292-e3f6-23c3022fa75f"
      },
      "source": [
        "inspect.signature(add).parameters"
      ],
      "execution_count": null,
      "outputs": [
        {
          "output_type": "execute_result",
          "data": {
            "text/plain": [
              "mappingproxy({'args': <Parameter \"*args\">, 'kwargs': <Parameter \"**kwargs\">})"
            ]
          },
          "metadata": {
            "tags": []
          },
          "execution_count": 21
        }
      ]
    },
    {
      "cell_type": "markdown",
      "metadata": {
        "id": "hVeM6ukfYxzv"
      },
      "source": [
        "In general, when we create decorated functions, we end up \"losing\" a lot of the metadata of our original function!"
      ]
    },
    {
      "cell_type": "markdown",
      "metadata": {
        "id": "OyPOzqhQYxzv"
      },
      "source": [
        "However, we **can** put that information back in - it can get quite complicated.\n",
        "\n",
        "Let's see how we might be able to do that for some simple things, like the docstring and the function name."
      ]
    },
    {
      "cell_type": "code",
      "metadata": {
        "id": "mscqgLEiYxzw"
      },
      "source": [
        "def counter(fn):\n",
        "    count = 0\n",
        "    \n",
        "    def inner(*args, **kwargs):\n",
        "        nonlocal count\n",
        "        count += 1\n",
        "        print(\"{0} was called {1} times\".format(fn.__name__, count))\n",
        "    inner.__name__ = fn.__name__\n",
        "    inner.__doc__ = fn.__doc__\n",
        "    return inner"
      ],
      "execution_count": null,
      "outputs": []
    },
    {
      "cell_type": "code",
      "metadata": {
        "id": "F1pZl6bZYxz1"
      },
      "source": [
        "@counter\n",
        "def add(a: int, b: int=10) -> int:\n",
        "    \"\"\"\n",
        "    returns sum of two integers\n",
        "    \"\"\"\n",
        "    return a + b"
      ],
      "execution_count": null,
      "outputs": []
    },
    {
      "cell_type": "code",
      "metadata": {
        "id": "0KIGBGVuYxz5",
        "outputId": "d73805eb-9172-422d-910a-b297ad5916cf"
      },
      "source": [
        "help(add)"
      ],
      "execution_count": null,
      "outputs": [
        {
          "output_type": "stream",
          "text": [
            "Help on function add in module __main__:\n",
            "\n",
            "add(*args, **kwargs)\n",
            "    returns sum of two integers\n",
            "\n"
          ],
          "name": "stdout"
        }
      ]
    },
    {
      "cell_type": "code",
      "metadata": {
        "id": "9iXT4LGLYxz7",
        "outputId": "431bc5bb-73e8-4e19-adc1-14e57a0cf5bc"
      },
      "source": [
        "add.__name__"
      ],
      "execution_count": null,
      "outputs": [
        {
          "output_type": "execute_result",
          "data": {
            "text/plain": [
              "'add'"
            ]
          },
          "metadata": {
            "tags": []
          },
          "execution_count": 25
        }
      ]
    },
    {
      "cell_type": "markdown",
      "metadata": {
        "id": "BpEI2vaEYxz9"
      },
      "source": [
        "At least we have the docstring and function name back... But what about the parameters? Our real **add** function takes two positional parameters, but because the closure used a generic way of accepting **\\*args** and **\\*\\*kwargs**, we lose this information"
      ]
    },
    {
      "cell_type": "markdown",
      "metadata": {
        "id": "1XdKI5p7Yxz9"
      },
      "source": [
        "We can use a special function in the **functools** module, called **wraps**. In fact, that function is a decorator itself!"
      ]
    },
    {
      "cell_type": "code",
      "metadata": {
        "id": "TedZ0ztQYxz-"
      },
      "source": [
        "from functools import wraps"
      ],
      "execution_count": null,
      "outputs": []
    },
    {
      "cell_type": "code",
      "metadata": {
        "id": "X-4WqUekYx0A"
      },
      "source": [
        "def counter(fn):\n",
        "    count = 0\n",
        "    \n",
        "    @wraps(fn)\n",
        "    def inner(*args, **kwargs):\n",
        "        nonlocal count\n",
        "        count += 1\n",
        "        print(\"{0} was called {1} times\".format(fn.__name__, count))\n",
        "\n",
        "    return inner"
      ],
      "execution_count": null,
      "outputs": []
    },
    {
      "cell_type": "markdown",
      "metadata": {
        "id": "JOIKHcs6p07z"
      },
      "source": [
        "We specify @wraps(fn) coz wraps does not know where to get the metadata from. SO , we should specify it (hay go to fn(), copy metadata and overwrite it on closure."
      ]
    },
    {
      "cell_type": "code",
      "metadata": {
        "id": "1uaqaDgSYx0E"
      },
      "source": [
        "@counter\n",
        "def add(a: int, b: int=10) -> int:\n",
        "    \"\"\"\n",
        "    returns sum of two integers\n",
        "    \"\"\"\n",
        "    return a + b"
      ],
      "execution_count": null,
      "outputs": []
    },
    {
      "cell_type": "code",
      "metadata": {
        "id": "_vboe4x7Yx0G",
        "outputId": "f44d045c-de50-4708-be43-cb92a8fe139c"
      },
      "source": [
        "help(add)"
      ],
      "execution_count": null,
      "outputs": [
        {
          "output_type": "stream",
          "text": [
            "Help on function add in module __main__:\n",
            "\n",
            "add(a:int, b:int=10) -> int\n",
            "    returns sum of two integers\n",
            "\n"
          ],
          "name": "stdout"
        }
      ]
    },
    {
      "cell_type": "markdown",
      "metadata": {
        "id": "-ZYxmrCzYx0I"
      },
      "source": [
        "Yay!!! Everything is back to normal."
      ]
    },
    {
      "cell_type": "code",
      "metadata": {
        "id": "1RfsaHO9Yx0I",
        "outputId": "b074c673-1de0-4154-98b7-91655a563928"
      },
      "source": [
        "inspect.getsource(add)"
      ],
      "execution_count": null,
      "outputs": [
        {
          "output_type": "execute_result",
          "data": {
            "text/plain": [
              "'@counter\\ndef add(a: int, b: int=10) -> int:\\n    \"\"\"\\n    returns sum of two integers\\n    \"\"\"\\n    return a + b\\n'"
            ]
          },
          "metadata": {
            "tags": []
          },
          "execution_count": 30
        }
      ]
    },
    {
      "cell_type": "code",
      "metadata": {
        "id": "mTSk3C6EYx0K",
        "outputId": "ff66a9a3-cb3f-47ee-eac2-f6e833a4487d"
      },
      "source": [
        "inspect.signature(add)"
      ],
      "execution_count": null,
      "outputs": [
        {
          "output_type": "execute_result",
          "data": {
            "text/plain": [
              "<Signature (a:int, b:int=10) -> int>"
            ]
          },
          "metadata": {
            "tags": []
          },
          "execution_count": 31
        }
      ]
    },
    {
      "cell_type": "code",
      "metadata": {
        "id": "xKhytsvgYx0N",
        "outputId": "3c455452-2f58-4a05-874b-6551a8a25632"
      },
      "source": [
        "inspect.signature(add).parameters"
      ],
      "execution_count": null,
      "outputs": [
        {
          "output_type": "execute_result",
          "data": {
            "text/plain": [
              "mappingproxy({'a': <Parameter \"a:int\">, 'b': <Parameter \"b:int=10\">})"
            ]
          },
          "metadata": {
            "tags": []
          },
          "execution_count": 32
        }
      ]
    }
  ]
}