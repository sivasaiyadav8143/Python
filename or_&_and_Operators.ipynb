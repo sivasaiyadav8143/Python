{
  "nbformat": 4,
  "nbformat_minor": 0,
  "metadata": {
    "kernelspec": {
      "display_name": "Python 3",
      "language": "python",
      "name": "python3"
    },
    "language_info": {
      "codemirror_mode": {
        "name": "ipython",
        "version": 3
      },
      "file_extension": ".py",
      "mimetype": "text/x-python",
      "name": "python",
      "nbconvert_exporter": "python",
      "pygments_lexer": "ipython3",
      "version": "3.6.1"
    },
    "colab": {
      "name": "or & and Operators.ipynb",
      "provenance": [],
      "include_colab_link": true
    }
  },
  "cells": [
    {
      "cell_type": "markdown",
      "metadata": {
        "id": "view-in-github",
        "colab_type": "text"
      },
      "source": [
        "<a href=\"https://colab.research.google.com/github/sivasaiyadav8143/Python_Imp_Code/blob/master/or_%26_and_Operators.ipynb\" target=\"_parent\"><img src=\"https://colab.research.google.com/assets/colab-badge.svg\" alt=\"Open In Colab\"/></a>"
      ]
    },
    {
      "cell_type": "markdown",
      "metadata": {
        "id": "nODKyKMx-LD1",
        "colab_type": "text"
      },
      "source": [
        "### Booleans: Boolean Operators"
      ]
    },
    {
      "cell_type": "markdown",
      "metadata": {
        "id": "nr8R_B3K-LD3",
        "colab_type": "text"
      },
      "source": [
        "The way the Boolean operators ``and``, ``or`` actually work is a littel different in Python:"
      ]
    },
    {
      "cell_type": "markdown",
      "metadata": {
        "id": "TdwkNyqz-LD3",
        "colab_type": "text"
      },
      "source": [
        "#### or"
      ]
    },
    {
      "cell_type": "markdown",
      "metadata": {
        "id": "cjsbPL1Z-LD4",
        "colab_type": "text"
      },
      "source": [
        "``X or Y``: If X is falsy, returns Y, otherwise evaluates and returns X"
      ]
    },
    {
      "cell_type": "code",
      "metadata": {
        "id": "w37Mpcyp-LD4",
        "colab_type": "code",
        "colab": {},
        "outputId": "d4cfe48f-b55e-474d-b1a6-f6b7d18afef2"
      },
      "source": [
        "'' or 'abc'"
      ],
      "execution_count": null,
      "outputs": [
        {
          "output_type": "execute_result",
          "data": {
            "text/plain": [
              "'abc'"
            ]
          },
          "metadata": {
            "tags": []
          },
          "execution_count": 1
        }
      ]
    },
    {
      "cell_type": "code",
      "metadata": {
        "id": "dsh5BK0s-LD9",
        "colab_type": "code",
        "colab": {},
        "outputId": "6b35ba82-25ca-42cf-b53b-94bfb1431ca2"
      },
      "source": [
        "0 or 100"
      ],
      "execution_count": null,
      "outputs": [
        {
          "output_type": "execute_result",
          "data": {
            "text/plain": [
              "100"
            ]
          },
          "metadata": {
            "tags": []
          },
          "execution_count": 3
        }
      ]
    },
    {
      "cell_type": "code",
      "metadata": {
        "id": "oX370bUk-LEA",
        "colab_type": "code",
        "colab": {},
        "outputId": "8bf60ec7-4173-46d0-81b4-784c8414df71"
      },
      "source": [
        "[] or [1, 2, 3]"
      ],
      "execution_count": null,
      "outputs": [
        {
          "output_type": "execute_result",
          "data": {
            "text/plain": [
              "[1, 2, 3]"
            ]
          },
          "metadata": {
            "tags": []
          },
          "execution_count": 4
        }
      ]
    },
    {
      "cell_type": "code",
      "metadata": {
        "id": "jzu8vJGp-LEC",
        "colab_type": "code",
        "colab": {},
        "outputId": "82d03c3d-1eec-4f6d-eacf-c1e4b387db1f"
      },
      "source": [
        "[1, 2] or [1, 2, 3]"
      ],
      "execution_count": null,
      "outputs": [
        {
          "output_type": "execute_result",
          "data": {
            "text/plain": [
              "[1, 2]"
            ]
          },
          "metadata": {
            "tags": []
          },
          "execution_count": 5
        }
      ]
    },
    {
      "cell_type": "markdown",
      "metadata": {
        "id": "DSmDAMbS-LEF",
        "colab_type": "text"
      },
      "source": [
        "You should note that the truth value of ``Y`` is never even considered when evaluating the ``or`` result!\n",
        "\n",
        "Only the left operand matters.\n",
        "\n",
        "Of course, Y will be evaluated if it is being returned - but its truth value does not affect how the ``or`` is being calculated.\n",
        "\n",
        "You probably will notice that this means ``Y`` is not evaluated if ``X`` is returned - short-circuiting!!!"
      ]
    },
    {
      "cell_type": "markdown",
      "metadata": {
        "id": "kIkgAkDB-LEF",
        "colab_type": "text"
      },
      "source": [
        "We could (almost!) write the ``or`` operator ourselves in this way:"
      ]
    },
    {
      "cell_type": "code",
      "metadata": {
        "id": "umqE3V4_-LEG",
        "colab_type": "code",
        "colab": {}
      },
      "source": [
        "def _or(x, y):\n",
        "    if x:\n",
        "        return x\n",
        "    else:\n",
        "        return y"
      ],
      "execution_count": null,
      "outputs": []
    },
    {
      "cell_type": "code",
      "metadata": {
        "id": "CbCQKfY8-LEJ",
        "colab_type": "code",
        "colab": {},
        "outputId": "e9a3308b-1d6a-4392-f004-faeac9ac7c4c"
      },
      "source": [
        "print(_or(0, 100) == (0 or 100))\n",
        "print(_or(None, 'n/a') == (None or 'n/a'))\n",
        "print(_or('abc', 'n/a') == ('abc' or 'n/a'))"
      ],
      "execution_count": null,
      "outputs": [
        {
          "output_type": "stream",
          "text": [
            "True\n",
            "True\n",
            "True\n"
          ],
          "name": "stdout"
        }
      ]
    },
    {
      "cell_type": "markdown",
      "metadata": {
        "id": "ejPzL4q7-LEN",
        "colab_type": "text"
      },
      "source": [
        "Why did I say almost?\n",
        "\n",
        "Unlike the ``or`` operator, our ``_or`` function will always evaluate x and y (they are passed as arguments) - so we do not have short-circuiting!"
      ]
    },
    {
      "cell_type": "code",
      "metadata": {
        "id": "l_ZJLHij-LEO",
        "colab_type": "code",
        "colab": {},
        "outputId": "ca66e68b-1ba6-42a7-8157-51925a5c9d61"
      },
      "source": [
        "1 or 1/0"
      ],
      "execution_count": null,
      "outputs": [
        {
          "output_type": "execute_result",
          "data": {
            "text/plain": [
              "1"
            ]
          },
          "metadata": {
            "tags": []
          },
          "execution_count": 31
        }
      ]
    },
    {
      "cell_type": "code",
      "metadata": {
        "id": "E-KCC2Ji-LEQ",
        "colab_type": "code",
        "colab": {},
        "outputId": "aac6fe19-02ee-4849-928d-b9052b21203f"
      },
      "source": [
        "_or(1, 1/0)"
      ],
      "execution_count": null,
      "outputs": [
        {
          "output_type": "error",
          "ename": "ZeroDivisionError",
          "evalue": "division by zero",
          "traceback": [
            "\u001b[1;31m---------------------------------------------------------------------------\u001b[0m",
            "\u001b[1;31mZeroDivisionError\u001b[0m                         Traceback (most recent call last)",
            "\u001b[1;32m<ipython-input-32-7b66dcdf3d9c>\u001b[0m in \u001b[0;36m<module>\u001b[1;34m()\u001b[0m\n\u001b[1;32m----> 1\u001b[1;33m \u001b[0m_or\u001b[0m\u001b[1;33m(\u001b[0m\u001b[1;36m1\u001b[0m\u001b[1;33m,\u001b[0m \u001b[1;36m1\u001b[0m\u001b[1;33m/\u001b[0m\u001b[1;36m0\u001b[0m\u001b[1;33m)\u001b[0m\u001b[1;33m\u001b[0m\u001b[0m\n\u001b[0m",
            "\u001b[1;31mZeroDivisionError\u001b[0m: division by zero"
          ]
        }
      ]
    },
    {
      "cell_type": "markdown",
      "metadata": {
        "id": "_55nh-6O-LET",
        "colab_type": "text"
      },
      "source": [
        "#### and"
      ]
    },
    {
      "cell_type": "markdown",
      "metadata": {
        "id": "8bhLpAot-LEU",
        "colab_type": "text"
      },
      "source": [
        "`X and Y`: If X is falsy, returns X, otherwise evaluates and returns Y"
      ]
    },
    {
      "cell_type": "markdown",
      "metadata": {
        "id": "YiaID_iC-LEU",
        "colab_type": "text"
      },
      "source": [
        "Once again, note that the truth value of Y is never considered when evaluating `and`, and that ``Y`` is only evaluated if it needs to be returned (short-circuiting)"
      ]
    },
    {
      "cell_type": "markdown",
      "metadata": {
        "id": "flk2GNRf-waf",
        "colab_type": "text"
      },
      "source": [
        "Lets say a variable var1, value for the variable is obtained from DB.Print out value of the variabe only when it has proper value and print out 'N/A' when it gets empty string or NUll value."
      ]
    },
    {
      "cell_type": "code",
      "metadata": {
        "id": "2lZ4p0mxAMb8",
        "colab_type": "code",
        "colab": {
          "base_uri": "https://localhost:8080/",
          "height": 34
        },
        "outputId": "efb8e7c4-f1a8-4c26-9853-fe5ded3f9ae9"
      },
      "source": [
        "# Method:1\n",
        "var1 = ''\n",
        "\n",
        "if var1 != '' and var1 != None:\n",
        "  print(var1)\n",
        "else:\n",
        "  print('N/A')"
      ],
      "execution_count": 1,
      "outputs": [
        {
          "output_type": "stream",
          "text": [
            "Hello\n"
          ],
          "name": "stdout"
        }
      ]
    },
    {
      "cell_type": "code",
      "metadata": {
        "id": "KNdZM-HSAJEu",
        "colab_type": "code",
        "colab": {
          "base_uri": "https://localhost:8080/",
          "height": 34
        },
        "outputId": "8fb3de81-a78f-4d75-d001-f7b61058dfb1"
      },
      "source": [
        "# Method:2\n",
        "var1 = ''\n",
        "\n",
        "if var1 :\n",
        "  print(var1)\n",
        "else:\n",
        "  print('N/A')"
      ],
      "execution_count": 2,
      "outputs": [
        {
          "output_type": "stream",
          "text": [
            "N/A\n"
          ],
          "name": "stdout"
        }
      ]
    },
    {
      "cell_type": "code",
      "metadata": {
        "id": "uAm5QrpbApZ2",
        "colab_type": "code",
        "colab": {
          "base_uri": "https://localhost:8080/",
          "height": 34
        },
        "outputId": "6147f110-c87a-463d-c680-7c8e07a2fbcc"
      },
      "source": [
        "# Method:3\n",
        "var1 = ''\n",
        "\n",
        "print(var1 or 'N/A')"
      ],
      "execution_count": 3,
      "outputs": [
        {
          "output_type": "stream",
          "text": [
            "N/A\n"
          ],
          "name": "stdout"
        }
      ]
    },
    {
      "cell_type": "code",
      "metadata": {
        "id": "v7UVBlNAAzAr",
        "colab_type": "code",
        "colab": {}
      },
      "source": [
        ""
      ],
      "execution_count": null,
      "outputs": []
    },
    {
      "cell_type": "code",
      "metadata": {
        "id": "WM-1Knlf-LEU",
        "colab_type": "code",
        "colab": {}
      },
      "source": [
        "s1 = None\n",
        "s2 = ''\n",
        "s3 = 'abc'"
      ],
      "execution_count": null,
      "outputs": []
    },
    {
      "cell_type": "markdown",
      "metadata": {
        "id": "bZEjss19_q6t",
        "colab_type": "text"
      },
      "source": [
        "we can do this in many wayes"
      ]
    },
    {
      "cell_type": "code",
      "metadata": {
        "id": "d7cB-93F_uvz",
        "colab_type": "code",
        "colab": {}
      },
      "source": [
        "if s1"
      ],
      "execution_count": null,
      "outputs": []
    },
    {
      "cell_type": "code",
      "metadata": {
        "id": "eDrEbo2T-LEX",
        "colab_type": "code",
        "colab": {},
        "outputId": "dfb73a80-4587-44d9-9cb6-6afe66725b5d"
      },
      "source": [
        "print(s1 and s1[0])\n",
        "print(s2 and s2[0])\n",
        "print(s3 and s3[0])"
      ],
      "execution_count": null,
      "outputs": [
        {
          "output_type": "stream",
          "text": [
            "None\n",
            "\n",
            "a\n"
          ],
          "name": "stdout"
        }
      ]
    },
    {
      "cell_type": "code",
      "metadata": {
        "id": "A7zEhw17-LEa",
        "colab_type": "code",
        "colab": {},
        "outputId": "eee0594f-2a0a-4adc-9e9a-85dce3893d85"
      },
      "source": [
        "print((s1 and s1[0]) or '')\n",
        "print((s2 and s2[0]) or '')\n",
        "print((s3 and s3[0]) or '')"
      ],
      "execution_count": null,
      "outputs": [
        {
          "output_type": "stream",
          "text": [
            "\n",
            "\n",
            "a\n"
          ],
          "name": "stdout"
        }
      ]
    },
    {
      "cell_type": "markdown",
      "metadata": {
        "id": "hFrF9MfD-LEc",
        "colab_type": "text"
      },
      "source": [
        "This technique will also work to return any default value if ``s`` is an empty string or None:"
      ]
    },
    {
      "cell_type": "code",
      "metadata": {
        "id": "80ihqfnA-LEd",
        "colab_type": "code",
        "colab": {},
        "outputId": "f72a2bd5-1566-4261-e857-19c1288bc764"
      },
      "source": [
        "print((s1 and s1[0]) or 'n/a')\n",
        "print((s2 and s2[0]) or 'n/a')\n",
        "print((s3 and s3[0]) or 'n/a')"
      ],
      "execution_count": null,
      "outputs": [
        {
          "output_type": "stream",
          "text": [
            "n/a\n",
            "n/a\n",
            "a\n"
          ],
          "name": "stdout"
        }
      ]
    },
    {
      "cell_type": "markdown",
      "metadata": {
        "collapsed": true,
        "id": "KY97L52k-LEg",
        "colab_type": "text"
      },
      "source": [
        "The ``not`` function"
      ]
    },
    {
      "cell_type": "code",
      "metadata": {
        "id": "YXX5ashx-LEg",
        "colab_type": "code",
        "colab": {},
        "outputId": "0f4cb2cd-042d-4b6d-bb01-a6d3884261f1"
      },
      "source": [
        "not 'abc'"
      ],
      "execution_count": null,
      "outputs": [
        {
          "output_type": "execute_result",
          "data": {
            "text/plain": [
              "False"
            ]
          },
          "metadata": {
            "tags": []
          },
          "execution_count": 1
        }
      ]
    },
    {
      "cell_type": "code",
      "metadata": {
        "id": "mMrHznVd-LEj",
        "colab_type": "code",
        "colab": {},
        "outputId": "5c87d6a1-c044-4b53-d95f-a559f9e17520"
      },
      "source": [
        "not []"
      ],
      "execution_count": null,
      "outputs": [
        {
          "output_type": "execute_result",
          "data": {
            "text/plain": [
              "True"
            ]
          },
          "metadata": {
            "tags": []
          },
          "execution_count": 2
        }
      ]
    },
    {
      "cell_type": "code",
      "metadata": {
        "id": "Nn2yqxTA-LEl",
        "colab_type": "code",
        "colab": {},
        "outputId": "31df0d4a-66a7-49ee-99ae-100896bb1846"
      },
      "source": [
        "bool(None)"
      ],
      "execution_count": null,
      "outputs": [
        {
          "output_type": "execute_result",
          "data": {
            "text/plain": [
              "False"
            ]
          },
          "metadata": {
            "tags": []
          },
          "execution_count": 4
        }
      ]
    },
    {
      "cell_type": "code",
      "metadata": {
        "id": "_1R5U93j-LEo",
        "colab_type": "code",
        "colab": {},
        "outputId": "4108b8bf-5504-4b37-81b7-d145f2bff6fa"
      },
      "source": [
        "not None"
      ],
      "execution_count": null,
      "outputs": [
        {
          "output_type": "execute_result",
          "data": {
            "text/plain": [
              "True"
            ]
          },
          "metadata": {
            "tags": []
          },
          "execution_count": 5
        }
      ]
    }
  ]
}