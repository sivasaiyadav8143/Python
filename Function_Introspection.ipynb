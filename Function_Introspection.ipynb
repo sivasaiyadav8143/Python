{
  "nbformat": 4,
  "nbformat_minor": 0,
  "metadata": {
    "kernelspec": {
      "display_name": "Python 3",
      "language": "python",
      "name": "python3"
    },
    "language_info": {
      "codemirror_mode": {
        "name": "ipython",
        "version": 3
      },
      "file_extension": ".py",
      "mimetype": "text/x-python",
      "name": "python",
      "nbconvert_exporter": "python",
      "pygments_lexer": "ipython3",
      "version": "3.6.2"
    },
    "colab": {
      "name": "Function Introspection.ipynb",
      "provenance": [],
      "include_colab_link": true
    }
  },
  "cells": [
    {
      "cell_type": "markdown",
      "metadata": {
        "id": "view-in-github",
        "colab_type": "text"
      },
      "source": [
        "<a href=\"https://colab.research.google.com/github/sivasaiyadav8143/Python/blob/master/Function_Introspection.ipynb\" target=\"_parent\"><img src=\"https://colab.research.google.com/assets/colab-badge.svg\" alt=\"Open In Colab\"/></a>"
      ]
    },
    {
      "cell_type": "markdown",
      "metadata": {
        "id": "okUoC4g66tl6",
        "colab_type": "text"
      },
      "source": [
        "### Function Introspection"
      ]
    },
    {
      "cell_type": "code",
      "metadata": {
        "id": "-KK6Hkio6tl7",
        "colab_type": "code",
        "colab": {}
      },
      "source": [
        "def fact(n: \"some non-negative integer\") -> \"n! or 0 if n < 0\":\n",
        "    \"\"\"Calculates the factorial of a non-negative integer n\n",
        "    \n",
        "    If n is negative, returns 0.\n",
        "    \"\"\"\n",
        "    if n < 0:\n",
        "        return 0\n",
        "    elif n <= 1:\n",
        "        return 1\n",
        "    else:\n",
        "        return n * fact(n-1)"
      ],
      "execution_count": null,
      "outputs": []
    },
    {
      "cell_type": "markdown",
      "metadata": {
        "id": "7XffQmEf6tl_",
        "colab_type": "text"
      },
      "source": [
        "Since functions are objects, we can add attributes to a function:"
      ]
    },
    {
      "cell_type": "code",
      "metadata": {
        "id": "hl-61IFw6tmA",
        "colab_type": "code",
        "colab": {}
      },
      "source": [
        "fact.short_description = \"factorial function\""
      ],
      "execution_count": null,
      "outputs": []
    },
    {
      "cell_type": "code",
      "metadata": {
        "id": "HxFwpzkY6tmD",
        "colab_type": "code",
        "colab": {},
        "outputId": "477cf209-f45a-47fe-da34-997a1fe199f1"
      },
      "source": [
        "print(fact.short_description)"
      ],
      "execution_count": null,
      "outputs": [
        {
          "output_type": "stream",
          "text": [
            "factorial function\n"
          ],
          "name": "stdout"
        }
      ]
    },
    {
      "cell_type": "markdown",
      "metadata": {
        "id": "O3UiVQTu6tmH",
        "colab_type": "text"
      },
      "source": [
        "We can see all the attributes that belong to a function using the **dir** function:"
      ]
    },
    {
      "cell_type": "code",
      "metadata": {
        "id": "qAYjB1-i6tmH",
        "colab_type": "code",
        "colab": {},
        "outputId": "3ec69d1e-7b8c-427b-a036-af6b851b2ef2"
      },
      "source": [
        "dir(fact)"
      ],
      "execution_count": null,
      "outputs": [
        {
          "output_type": "execute_result",
          "data": {
            "text/plain": [
              "['__annotations__',\n",
              " '__call__',\n",
              " '__class__',\n",
              " '__closure__',\n",
              " '__code__',\n",
              " '__defaults__',\n",
              " '__delattr__',\n",
              " '__dict__',\n",
              " '__dir__',\n",
              " '__doc__',\n",
              " '__eq__',\n",
              " '__format__',\n",
              " '__ge__',\n",
              " '__get__',\n",
              " '__getattribute__',\n",
              " '__globals__',\n",
              " '__gt__',\n",
              " '__hash__',\n",
              " '__init__',\n",
              " '__init_subclass__',\n",
              " '__kwdefaults__',\n",
              " '__le__',\n",
              " '__lt__',\n",
              " '__module__',\n",
              " '__name__',\n",
              " '__ne__',\n",
              " '__new__',\n",
              " '__qualname__',\n",
              " '__reduce__',\n",
              " '__reduce_ex__',\n",
              " '__repr__',\n",
              " '__setattr__',\n",
              " '__sizeof__',\n",
              " '__str__',\n",
              " '__subclasshook__',\n",
              " 'short_description']"
            ]
          },
          "metadata": {
            "tags": []
          },
          "execution_count": 4
        }
      ]
    },
    {
      "cell_type": "markdown",
      "metadata": {
        "id": "imqNFxpJ6tmK",
        "colab_type": "text"
      },
      "source": [
        "We can see our **short_description** attribute, as well as some attributes we have seen before: **__annotations__** and **__doc__**:"
      ]
    },
    {
      "cell_type": "code",
      "metadata": {
        "id": "CEYiFupG6tmL",
        "colab_type": "code",
        "colab": {},
        "outputId": "a4d91587-472e-4e00-e493-f29c6fd43d76"
      },
      "source": [
        "fact.__doc__"
      ],
      "execution_count": null,
      "outputs": [
        {
          "output_type": "execute_result",
          "data": {
            "text/plain": [
              "'Calculates the factorial of a non-negative integer n\\n    \\n    If n is negative, returns 0.\\n    '"
            ]
          },
          "metadata": {
            "tags": []
          },
          "execution_count": 5
        }
      ]
    },
    {
      "cell_type": "code",
      "metadata": {
        "id": "9SG-7WOm6tmN",
        "colab_type": "code",
        "colab": {},
        "outputId": "e65f70fd-4fc9-4788-886e-0688542f598e"
      },
      "source": [
        "fact.__annotations__"
      ],
      "execution_count": null,
      "outputs": [
        {
          "output_type": "execute_result",
          "data": {
            "text/plain": [
              "{'n': 'some non-negative integer', 'return': 'n! or 0 if n < 0'}"
            ]
          },
          "metadata": {
            "tags": []
          },
          "execution_count": 6
        }
      ]
    },
    {
      "cell_type": "markdown",
      "metadata": {
        "id": "SiCbZPLB6tmR",
        "colab_type": "text"
      },
      "source": [
        "We'll revisit some of these attributes later in this course, but let's take a look at a few here:"
      ]
    },
    {
      "cell_type": "code",
      "metadata": {
        "id": "LRH8Xwzm6tmV",
        "colab_type": "code",
        "colab": {}
      },
      "source": [
        "def my_func(a, b=2, c=3, *, kw1, kw2=2, **kwargs):\n",
        "    pass"
      ],
      "execution_count": null,
      "outputs": []
    },
    {
      "cell_type": "markdown",
      "metadata": {
        "id": "iQO39K_N6tma",
        "colab_type": "text"
      },
      "source": [
        "Let's assign my_func to another variable:"
      ]
    },
    {
      "cell_type": "code",
      "metadata": {
        "id": "2Ljoy9vP6tmb",
        "colab_type": "code",
        "colab": {}
      },
      "source": [
        "f = my_func"
      ],
      "execution_count": null,
      "outputs": []
    },
    {
      "cell_type": "markdown",
      "metadata": {
        "id": "AubXqgQ46tmg",
        "colab_type": "text"
      },
      "source": [
        "The **__name__** attribute holds the function's name:"
      ]
    },
    {
      "cell_type": "code",
      "metadata": {
        "id": "vcYY8ryW6tmh",
        "colab_type": "code",
        "colab": {},
        "outputId": "fe12c04b-e144-48e0-8bb8-ad040eb6a0b1"
      },
      "source": [
        "my_func.__name__"
      ],
      "execution_count": null,
      "outputs": [
        {
          "output_type": "execute_result",
          "data": {
            "text/plain": [
              "'my_func'"
            ]
          },
          "metadata": {
            "tags": []
          },
          "execution_count": 9
        }
      ]
    },
    {
      "cell_type": "code",
      "metadata": {
        "id": "Ig2grpae6tml",
        "colab_type": "code",
        "colab": {},
        "outputId": "bfcb7cf7-7db9-47bc-e826-2a86820b1d9b"
      },
      "source": [
        "f.__name__"
      ],
      "execution_count": null,
      "outputs": [
        {
          "output_type": "execute_result",
          "data": {
            "text/plain": [
              "'my_func'"
            ]
          },
          "metadata": {
            "tags": []
          },
          "execution_count": 10
        }
      ]
    },
    {
      "cell_type": "markdown",
      "metadata": {
        "id": "A1a_2AQX6tmq",
        "colab_type": "text"
      },
      "source": [
        "The **__defaults__** attribute is a tuple containing any positional parameter defaults:"
      ]
    },
    {
      "cell_type": "code",
      "metadata": {
        "id": "M2S0MPbH6tmr",
        "colab_type": "code",
        "colab": {},
        "outputId": "735ca83a-aba1-4a30-e447-5c848adf8f45"
      },
      "source": [
        "my_func.__defaults__"
      ],
      "execution_count": null,
      "outputs": [
        {
          "output_type": "execute_result",
          "data": {
            "text/plain": [
              "(2, 3)"
            ]
          },
          "metadata": {
            "tags": []
          },
          "execution_count": 11
        }
      ]
    },
    {
      "cell_type": "code",
      "metadata": {
        "id": "K1yxt3AF6tmu",
        "colab_type": "code",
        "colab": {},
        "outputId": "87e292c2-3e5a-4746-e5b1-af78db8be417"
      },
      "source": [
        "my_func.__kwdefaults__"
      ],
      "execution_count": null,
      "outputs": [
        {
          "output_type": "execute_result",
          "data": {
            "text/plain": [
              "{'kw2': 2}"
            ]
          },
          "metadata": {
            "tags": []
          },
          "execution_count": 12
        }
      ]
    },
    {
      "cell_type": "markdown",
      "metadata": {
        "id": "JsG-Z9SG6tmw",
        "colab_type": "text"
      },
      "source": [
        "Let's create a function with some local variables:"
      ]
    },
    {
      "cell_type": "code",
      "metadata": {
        "id": "4J3bEX8R6tmx",
        "colab_type": "code",
        "colab": {}
      },
      "source": [
        "def my_func(a, b=1, *args, **kwargs):\n",
        "    i = 10\n",
        "    b = min(i, b)\n",
        "    return a * b"
      ],
      "execution_count": null,
      "outputs": []
    },
    {
      "cell_type": "code",
      "metadata": {
        "id": "bf3UA6XD6tm0",
        "colab_type": "code",
        "colab": {},
        "outputId": "06c596d3-1885-406d-d5a6-ef609cfb1c04"
      },
      "source": [
        "my_func('a', 100)"
      ],
      "execution_count": null,
      "outputs": [
        {
          "output_type": "execute_result",
          "data": {
            "text/plain": [
              "'aaaaaaaaaa'"
            ]
          },
          "metadata": {
            "tags": []
          },
          "execution_count": 14
        }
      ]
    },
    {
      "cell_type": "markdown",
      "metadata": {
        "id": "enqkK_mC6tm2",
        "colab_type": "text"
      },
      "source": [
        "The **__code__** attribute contains a **code** object:"
      ]
    },
    {
      "cell_type": "code",
      "metadata": {
        "id": "5ohPAHZL6tm3",
        "colab_type": "code",
        "colab": {},
        "outputId": "645f41a6-a249-415e-c83f-67f08e9db74b"
      },
      "source": [
        "my_func.__code__"
      ],
      "execution_count": null,
      "outputs": [
        {
          "output_type": "execute_result",
          "data": {
            "text/plain": [
              "<code object my_func at 0x0000016640E71300, file \"<ipython-input-13-785cf1a800f4>\", line 1>"
            ]
          },
          "metadata": {
            "tags": []
          },
          "execution_count": 15
        }
      ]
    },
    {
      "cell_type": "markdown",
      "metadata": {
        "id": "-wHiKAH76tm6",
        "colab_type": "text"
      },
      "source": [
        "This **code** object itself has various properties:"
      ]
    },
    {
      "cell_type": "code",
      "metadata": {
        "id": "AmmaH0lQ6tm6",
        "colab_type": "code",
        "colab": {},
        "outputId": "f2e1dd8f-3602-4da8-8ded-59d0c0d9ade8"
      },
      "source": [
        "dir(my_func.__code__)"
      ],
      "execution_count": null,
      "outputs": [
        {
          "output_type": "execute_result",
          "data": {
            "text/plain": [
              "['__class__',\n",
              " '__delattr__',\n",
              " '__dir__',\n",
              " '__doc__',\n",
              " '__eq__',\n",
              " '__format__',\n",
              " '__ge__',\n",
              " '__getattribute__',\n",
              " '__gt__',\n",
              " '__hash__',\n",
              " '__init__',\n",
              " '__init_subclass__',\n",
              " '__le__',\n",
              " '__lt__',\n",
              " '__ne__',\n",
              " '__new__',\n",
              " '__reduce__',\n",
              " '__reduce_ex__',\n",
              " '__repr__',\n",
              " '__setattr__',\n",
              " '__sizeof__',\n",
              " '__str__',\n",
              " '__subclasshook__',\n",
              " 'co_argcount',\n",
              " 'co_cellvars',\n",
              " 'co_code',\n",
              " 'co_consts',\n",
              " 'co_filename',\n",
              " 'co_firstlineno',\n",
              " 'co_flags',\n",
              " 'co_freevars',\n",
              " 'co_kwonlyargcount',\n",
              " 'co_lnotab',\n",
              " 'co_name',\n",
              " 'co_names',\n",
              " 'co_nlocals',\n",
              " 'co_stacksize',\n",
              " 'co_varnames']"
            ]
          },
          "metadata": {
            "tags": []
          },
          "execution_count": 16
        }
      ]
    },
    {
      "cell_type": "markdown",
      "metadata": {
        "id": "pxn4-4FI6tm9",
        "colab_type": "text"
      },
      "source": [
        "Attribute **__co_varnames__** is a tuple containing the parameter names and local variables:"
      ]
    },
    {
      "cell_type": "code",
      "metadata": {
        "id": "L83IiR9g6tm-",
        "colab_type": "code",
        "colab": {},
        "outputId": "9dc6741c-1064-4b49-afcf-d417e8d5cb6b"
      },
      "source": [
        "my_func.__code__.co_varnames"
      ],
      "execution_count": null,
      "outputs": [
        {
          "output_type": "execute_result",
          "data": {
            "text/plain": [
              "('a', 'b', 'args', 'kwargs', 'i')"
            ]
          },
          "metadata": {
            "tags": []
          },
          "execution_count": 17
        }
      ]
    },
    {
      "cell_type": "markdown",
      "metadata": {
        "id": "k831bSIJ6tnA",
        "colab_type": "text"
      },
      "source": [
        "Attribute **co_argcount** returns the number of arguments (minus any \\* and \\*\\* args)"
      ]
    },
    {
      "cell_type": "code",
      "metadata": {
        "id": "igfDavKy6tnB",
        "colab_type": "code",
        "colab": {},
        "outputId": "9dded4b0-a68f-4e66-904b-d909a0ec157f"
      },
      "source": [
        "my_func.__code__.co_argcount"
      ],
      "execution_count": null,
      "outputs": [
        {
          "output_type": "execute_result",
          "data": {
            "text/plain": [
              "2"
            ]
          },
          "metadata": {
            "tags": []
          },
          "execution_count": 18
        }
      ]
    },
    {
      "cell_type": "markdown",
      "metadata": {
        "id": "Zf1qBa3K6tnD",
        "colab_type": "text"
      },
      "source": [
        "#### The **inspect** module"
      ]
    },
    {
      "cell_type": "markdown",
      "metadata": {
        "id": "nZIGjFaV6tnD",
        "colab_type": "text"
      },
      "source": [
        "It is much easier to use the **inspect** module!"
      ]
    },
    {
      "cell_type": "code",
      "metadata": {
        "collapsed": true,
        "id": "OGI-hNed6tnE",
        "colab_type": "code",
        "colab": {}
      },
      "source": [
        "import inspect"
      ],
      "execution_count": null,
      "outputs": []
    },
    {
      "cell_type": "code",
      "metadata": {
        "id": "KffvUsX36tnG",
        "colab_type": "code",
        "colab": {},
        "outputId": "51e4eab7-b501-4747-9246-8dddaad5d301"
      },
      "source": [
        "inspect.isfunction(my_func)"
      ],
      "execution_count": null,
      "outputs": [
        {
          "output_type": "execute_result",
          "data": {
            "text/plain": [
              "True"
            ]
          },
          "metadata": {
            "tags": []
          },
          "execution_count": 20
        }
      ]
    },
    {
      "cell_type": "markdown",
      "metadata": {
        "id": "vWcUnTBJ6tnI",
        "colab_type": "text"
      },
      "source": [
        "By the way, there is a difference between a function and a method! A method is a function that is bound to some object:"
      ]
    },
    {
      "cell_type": "code",
      "metadata": {
        "id": "7aMZVlm86tnK",
        "colab_type": "code",
        "colab": {},
        "outputId": "78ffec2b-7b55-4ff2-b699-4291ca3e379e"
      },
      "source": [
        "inspect.ismethod(my_func)"
      ],
      "execution_count": null,
      "outputs": [
        {
          "output_type": "execute_result",
          "data": {
            "text/plain": [
              "False"
            ]
          },
          "metadata": {
            "tags": []
          },
          "execution_count": 21
        }
      ]
    },
    {
      "cell_type": "code",
      "metadata": {
        "collapsed": true,
        "id": "udQhkMgQ6tnN",
        "colab_type": "code",
        "colab": {}
      },
      "source": [
        "class MyClass:\n",
        "    def f_instance(self):\n",
        "        pass\n",
        "    \n",
        "    @classmethod\n",
        "    def f_class(cls):\n",
        "        pass\n",
        "    \n",
        "    @staticmethod\n",
        "    def f_static():\n",
        "        pass"
      ],
      "execution_count": null,
      "outputs": []
    },
    {
      "cell_type": "markdown",
      "metadata": {
        "id": "iKIDyuWf6tnQ",
        "colab_type": "text"
      },
      "source": [
        "**Instance methods** are bound to the **instance** of a class (not the class itself)"
      ]
    },
    {
      "cell_type": "markdown",
      "metadata": {
        "id": "uatzY2GX6tnR",
        "colab_type": "text"
      },
      "source": [
        "**Class methods** are bound to the **class**, not instances"
      ]
    },
    {
      "cell_type": "markdown",
      "metadata": {
        "id": "WI6CwmEE6tnS",
        "colab_type": "text"
      },
      "source": [
        "**Static methods** are no bound either to the class or its instances"
      ]
    },
    {
      "cell_type": "code",
      "metadata": {
        "id": "pxA4coxO6tnT",
        "colab_type": "code",
        "colab": {},
        "outputId": "7098440c-f149-4728-e91a-6946a4d2b0a2"
      },
      "source": [
        "inspect.isfunction(MyClass.f_instance), inspect.ismethod(MyClass.f_instance)"
      ],
      "execution_count": null,
      "outputs": [
        {
          "output_type": "execute_result",
          "data": {
            "text/plain": [
              "(True, False)"
            ]
          },
          "metadata": {
            "tags": []
          },
          "execution_count": 23
        }
      ]
    },
    {
      "cell_type": "code",
      "metadata": {
        "id": "OMcXjXeX6tnY",
        "colab_type": "code",
        "colab": {},
        "outputId": "315461d4-2c19-4ffa-c181-09e53b15b33a"
      },
      "source": [
        "inspect.isfunction(MyClass.f_class), inspect.ismethod(MyClass.f_class)"
      ],
      "execution_count": null,
      "outputs": [
        {
          "output_type": "execute_result",
          "data": {
            "text/plain": [
              "(False, True)"
            ]
          },
          "metadata": {
            "tags": []
          },
          "execution_count": 24
        }
      ]
    },
    {
      "cell_type": "code",
      "metadata": {
        "id": "0GrjKgDv6tna",
        "colab_type": "code",
        "colab": {},
        "outputId": "bedbbf9d-01a2-4ccc-f094-2d68b9ce8f46"
      },
      "source": [
        "inspect.isfunction(MyClass.f_static), inspect.ismethod(MyClass.f_static)"
      ],
      "execution_count": null,
      "outputs": [
        {
          "output_type": "execute_result",
          "data": {
            "text/plain": [
              "(True, False)"
            ]
          },
          "metadata": {
            "tags": []
          },
          "execution_count": 25
        }
      ]
    },
    {
      "cell_type": "code",
      "metadata": {
        "collapsed": true,
        "id": "L0HVTHLX6tnc",
        "colab_type": "code",
        "colab": {}
      },
      "source": [
        "my_obj = MyClass()"
      ],
      "execution_count": null,
      "outputs": []
    },
    {
      "cell_type": "code",
      "metadata": {
        "id": "KYBVgM-M6tne",
        "colab_type": "code",
        "colab": {},
        "outputId": "19070a45-1351-4c94-fdc5-9393cf08ddc3"
      },
      "source": [
        "inspect.isfunction(my_obj.f_instance), inspect.ismethod(my_obj.f_instance)"
      ],
      "execution_count": null,
      "outputs": [
        {
          "output_type": "execute_result",
          "data": {
            "text/plain": [
              "(False, True)"
            ]
          },
          "metadata": {
            "tags": []
          },
          "execution_count": 27
        }
      ]
    },
    {
      "cell_type": "code",
      "metadata": {
        "id": "GLtlcVip6tnh",
        "colab_type": "code",
        "colab": {},
        "outputId": "336c9f54-6094-4745-95d7-fbb2066cffd8"
      },
      "source": [
        "inspect.isfunction(my_obj.f_class), inspect.ismethod(my_obj.f_class)"
      ],
      "execution_count": null,
      "outputs": [
        {
          "output_type": "execute_result",
          "data": {
            "text/plain": [
              "(False, True)"
            ]
          },
          "metadata": {
            "tags": []
          },
          "execution_count": 28
        }
      ]
    },
    {
      "cell_type": "code",
      "metadata": {
        "id": "PwrxZvOn6tnj",
        "colab_type": "code",
        "colab": {},
        "outputId": "9f35420a-a0d8-49c2-f313-fb7f1882ee07"
      },
      "source": [
        "inspect.isfunction(my_obj.f_static), inspect.ismethod(my_obj.f_static)"
      ],
      "execution_count": null,
      "outputs": [
        {
          "output_type": "execute_result",
          "data": {
            "text/plain": [
              "(True, False)"
            ]
          },
          "metadata": {
            "tags": []
          },
          "execution_count": 29
        }
      ]
    },
    {
      "cell_type": "markdown",
      "metadata": {
        "id": "gWgEF3uM6tnl",
        "colab_type": "text"
      },
      "source": [
        "If you just want to know if something is a function or method:"
      ]
    },
    {
      "cell_type": "code",
      "metadata": {
        "id": "lUbHDGQ16tnl",
        "colab_type": "code",
        "colab": {},
        "outputId": "c3b843d0-0238-44ab-c222-69ec649715a9"
      },
      "source": [
        "inspect.isroutine(my_func)"
      ],
      "execution_count": null,
      "outputs": [
        {
          "output_type": "execute_result",
          "data": {
            "text/plain": [
              "True"
            ]
          },
          "metadata": {
            "tags": []
          },
          "execution_count": 30
        }
      ]
    },
    {
      "cell_type": "code",
      "metadata": {
        "id": "aDGjKaOq6tno",
        "colab_type": "code",
        "colab": {},
        "outputId": "e65a0a10-3ee3-4c3d-fe1e-051c4da61082"
      },
      "source": [
        "inspect.isroutine(MyClass.f_instance)"
      ],
      "execution_count": null,
      "outputs": [
        {
          "output_type": "execute_result",
          "data": {
            "text/plain": [
              "True"
            ]
          },
          "metadata": {
            "tags": []
          },
          "execution_count": 31
        }
      ]
    },
    {
      "cell_type": "code",
      "metadata": {
        "id": "rBYMXI7W6tnq",
        "colab_type": "code",
        "colab": {},
        "outputId": "a64aaf00-e724-4fa9-8a3b-5c4cd2deffe0"
      },
      "source": [
        "inspect.isroutine(my_obj.f_class)"
      ],
      "execution_count": null,
      "outputs": [
        {
          "output_type": "execute_result",
          "data": {
            "text/plain": [
              "True"
            ]
          },
          "metadata": {
            "tags": []
          },
          "execution_count": 32
        }
      ]
    },
    {
      "cell_type": "code",
      "metadata": {
        "id": "XDeWR99y6tns",
        "colab_type": "code",
        "colab": {},
        "outputId": "c49da414-ffe1-4e22-9f48-72132864c90b"
      },
      "source": [
        "inspect.isroutine(my_obj.f_static)"
      ],
      "execution_count": null,
      "outputs": [
        {
          "output_type": "execute_result",
          "data": {
            "text/plain": [
              "True"
            ]
          },
          "metadata": {
            "tags": []
          },
          "execution_count": 33
        }
      ]
    },
    {
      "cell_type": "markdown",
      "metadata": {
        "id": "Xot_ZPQE6tnu",
        "colab_type": "text"
      },
      "source": [
        "We'll revisit this in more detail in section on OOP."
      ]
    },
    {
      "cell_type": "markdown",
      "metadata": {
        "id": "rovJRq8f6tnu",
        "colab_type": "text"
      },
      "source": [
        "#### Introspecting Callable Code"
      ]
    },
    {
      "cell_type": "markdown",
      "metadata": {
        "id": "3aHfhLPb6tnv",
        "colab_type": "text"
      },
      "source": [
        "We can get back the source code of our function using the **getsource()** method:"
      ]
    },
    {
      "cell_type": "code",
      "metadata": {
        "id": "U2K3EQEq6tnv",
        "colab_type": "code",
        "colab": {},
        "outputId": "97912b0b-24ad-42ef-a28c-8f8da0bb3a6a"
      },
      "source": [
        "inspect.getsource(fact)"
      ],
      "execution_count": null,
      "outputs": [
        {
          "output_type": "execute_result",
          "data": {
            "text/plain": [
              "'def fact(n: \"some non-negative integer\") -> \"n! or 0 if n < 0\":\\n    \"\"\"Calculates the factorial of a non-negative integer n\\n    \\n    If n is negative, returns 0.\\n    \"\"\"\\n    if n <= 1:\\n        return 1\\n    else:\\n        return n * fact(n-1)\\n'"
            ]
          },
          "metadata": {
            "tags": []
          },
          "execution_count": 34
        }
      ]
    },
    {
      "cell_type": "code",
      "metadata": {
        "id": "syE6xLQ86tnx",
        "colab_type": "code",
        "colab": {},
        "outputId": "fc3e3154-340f-44c6-a36b-e2b00199e08e"
      },
      "source": [
        "print(inspect.getsource(fact))"
      ],
      "execution_count": null,
      "outputs": [
        {
          "output_type": "stream",
          "text": [
            "def fact(n: \"some non-negative integer\") -> \"n! or 0 if n < 0\":\n",
            "    \"\"\"Calculates the factorial of a non-negative integer n\n",
            "    \n",
            "    If n is negative, returns 0.\n",
            "    \"\"\"\n",
            "    if n <= 1:\n",
            "        return 1\n",
            "    else:\n",
            "        return n * fact(n-1)\n",
            "\n"
          ],
          "name": "stdout"
        }
      ]
    },
    {
      "cell_type": "code",
      "metadata": {
        "id": "4tIXaGIn6tnz",
        "colab_type": "code",
        "colab": {},
        "outputId": "96b42ae1-4328-4a1e-e842-58076e407071"
      },
      "source": [
        "inspect.getsource(MyClass.f_instance)"
      ],
      "execution_count": null,
      "outputs": [
        {
          "output_type": "execute_result",
          "data": {
            "text/plain": [
              "'    def f_instance(self):\\n        pass\\n'"
            ]
          },
          "metadata": {
            "tags": []
          },
          "execution_count": 36
        }
      ]
    },
    {
      "cell_type": "code",
      "metadata": {
        "id": "_ZhJAMaK6tn3",
        "colab_type": "code",
        "colab": {},
        "outputId": "b6fb310d-ee59-402c-819b-d9153323e2c9"
      },
      "source": [
        "inspect.getsource(my_obj.f_instance)"
      ],
      "execution_count": null,
      "outputs": [
        {
          "output_type": "execute_result",
          "data": {
            "text/plain": [
              "'    def f_instance(self):\\n        pass\\n'"
            ]
          },
          "metadata": {
            "tags": []
          },
          "execution_count": 37
        }
      ]
    },
    {
      "cell_type": "markdown",
      "metadata": {
        "id": "hOHr3rCy6tn7",
        "colab_type": "text"
      },
      "source": [
        "We can also find out where the function was defined:"
      ]
    },
    {
      "cell_type": "code",
      "metadata": {
        "id": "gC5YZliT6tn7",
        "colab_type": "code",
        "colab": {},
        "outputId": "9fe54b10-cf70-459a-ca28-11ae0aad2a3b"
      },
      "source": [
        "inspect.getmodule(fact)"
      ],
      "execution_count": null,
      "outputs": [
        {
          "output_type": "execute_result",
          "data": {
            "text/plain": [
              "<module '__main__'>"
            ]
          },
          "metadata": {
            "tags": []
          },
          "execution_count": 38
        }
      ]
    },
    {
      "cell_type": "code",
      "metadata": {
        "id": "DNHkrNuV6tn_",
        "colab_type": "code",
        "colab": {},
        "outputId": "2732b82e-ead1-44b5-ba2a-566a35c9e796"
      },
      "source": [
        "inspect.getmodule(print)"
      ],
      "execution_count": null,
      "outputs": [
        {
          "output_type": "execute_result",
          "data": {
            "text/plain": [
              "<module 'builtins' (built-in)>"
            ]
          },
          "metadata": {
            "tags": []
          },
          "execution_count": 39
        }
      ]
    },
    {
      "cell_type": "code",
      "metadata": {
        "collapsed": true,
        "id": "e_QYIb6K6toC",
        "colab_type": "code",
        "colab": {}
      },
      "source": [
        "import math"
      ],
      "execution_count": null,
      "outputs": []
    },
    {
      "cell_type": "code",
      "metadata": {
        "id": "ILZEztwB6toG",
        "colab_type": "code",
        "colab": {},
        "outputId": "52fdd2bd-4acf-4a1a-bfb3-6a3fcfa95e7a"
      },
      "source": [
        "inspect.getmodule(math.sin)"
      ],
      "execution_count": null,
      "outputs": [
        {
          "output_type": "execute_result",
          "data": {
            "text/plain": [
              "<module 'math' (built-in)>"
            ]
          },
          "metadata": {
            "tags": []
          },
          "execution_count": 41
        }
      ]
    },
    {
      "cell_type": "code",
      "metadata": {
        "collapsed": true,
        "id": "zQsZCylz6toJ",
        "colab_type": "code",
        "colab": {}
      },
      "source": [
        "# setting up variable\n",
        "i = 10\n",
        "\n",
        "# comment line 1\n",
        "# comment line 2\n",
        "def my_func(a, b=1):\n",
        "    # comment inside my_func\n",
        "    pass"
      ],
      "execution_count": null,
      "outputs": []
    },
    {
      "cell_type": "code",
      "metadata": {
        "id": "z-K0iuGz6toL",
        "colab_type": "code",
        "colab": {},
        "outputId": "67ab0144-4540-42e0-9b74-4066af5948c4"
      },
      "source": [
        "inspect.getcomments(my_func)"
      ],
      "execution_count": null,
      "outputs": [
        {
          "output_type": "execute_result",
          "data": {
            "text/plain": [
              "'# comment line 1\\n# comment line 2\\n'"
            ]
          },
          "metadata": {
            "tags": []
          },
          "execution_count": 43
        }
      ]
    },
    {
      "cell_type": "code",
      "metadata": {
        "id": "JhBmtMr46toN",
        "colab_type": "code",
        "colab": {},
        "outputId": "da1657b9-024e-453f-a9e2-621702063411"
      },
      "source": [
        "print(inspect.getcomments(my_func))"
      ],
      "execution_count": null,
      "outputs": [
        {
          "output_type": "stream",
          "text": [
            "# comment line 1\n",
            "# comment line 2\n",
            "\n"
          ],
          "name": "stdout"
        }
      ]
    },
    {
      "cell_type": "markdown",
      "metadata": {
        "id": "O-PBQtng6toQ",
        "colab_type": "text"
      },
      "source": [
        "#### Introspecting Callable Signatures"
      ]
    },
    {
      "cell_type": "code",
      "metadata": {
        "collapsed": true,
        "id": "Yz42WkF86toQ",
        "colab_type": "code",
        "colab": {}
      },
      "source": [
        "# TODO: Provide implementation\n",
        "def my_func(a: 'a string', \n",
        "            b: int = 1, \n",
        "            *args: 'additional positional args', \n",
        "            kw1: 'first keyword-only arg', \n",
        "            kw2: 'second keyword-only arg' = 10,\n",
        "            **kwargs: 'additional keyword-only args') -> str:\n",
        "    \"\"\"does something\n",
        "       or other\"\"\"\n",
        "    pass"
      ],
      "execution_count": null,
      "outputs": []
    },
    {
      "cell_type": "code",
      "metadata": {
        "id": "UORZkmdM6toS",
        "colab_type": "code",
        "colab": {},
        "outputId": "17095c78-27bc-47a8-8a13-b72df9a4929b"
      },
      "source": [
        "inspect.signature(my_func)"
      ],
      "execution_count": null,
      "outputs": [
        {
          "output_type": "execute_result",
          "data": {
            "text/plain": [
              "<Signature (a:'a string', b:int=1, *args:'additional positional args', kw1:'first keyword-only arg', kw2:'second keyword-only arg'=10, **kwargs:'additional keyword-only args') -> str>"
            ]
          },
          "metadata": {
            "tags": []
          },
          "execution_count": 46
        }
      ]
    },
    {
      "cell_type": "code",
      "metadata": {
        "id": "CrgONRw06toU",
        "colab_type": "code",
        "colab": {},
        "outputId": "ecf29626-846c-4d0a-a895-afbcc0de5aa5"
      },
      "source": [
        "type(inspect.signature(my_func))"
      ],
      "execution_count": null,
      "outputs": [
        {
          "output_type": "execute_result",
          "data": {
            "text/plain": [
              "inspect.Signature"
            ]
          },
          "metadata": {
            "tags": []
          },
          "execution_count": 47
        }
      ]
    },
    {
      "cell_type": "code",
      "metadata": {
        "collapsed": true,
        "id": "qrFepkJ06toW",
        "colab_type": "code",
        "colab": {}
      },
      "source": [
        "sig = inspect.signature(my_func)"
      ],
      "execution_count": null,
      "outputs": []
    },
    {
      "cell_type": "code",
      "metadata": {
        "id": "vmTkt5Mo6tol",
        "colab_type": "code",
        "colab": {},
        "outputId": "37dec144-6ad0-4065-9687-2925b7302819"
      },
      "source": [
        "dir(sig)"
      ],
      "execution_count": null,
      "outputs": [
        {
          "output_type": "execute_result",
          "data": {
            "text/plain": [
              "['__class__',\n",
              " '__delattr__',\n",
              " '__dir__',\n",
              " '__doc__',\n",
              " '__eq__',\n",
              " '__format__',\n",
              " '__ge__',\n",
              " '__getattribute__',\n",
              " '__gt__',\n",
              " '__hash__',\n",
              " '__init__',\n",
              " '__init_subclass__',\n",
              " '__le__',\n",
              " '__lt__',\n",
              " '__module__',\n",
              " '__ne__',\n",
              " '__new__',\n",
              " '__reduce__',\n",
              " '__reduce_ex__',\n",
              " '__repr__',\n",
              " '__setattr__',\n",
              " '__setstate__',\n",
              " '__sizeof__',\n",
              " '__slots__',\n",
              " '__str__',\n",
              " '__subclasshook__',\n",
              " '_bind',\n",
              " '_bound_arguments_cls',\n",
              " '_hash_basis',\n",
              " '_parameter_cls',\n",
              " '_parameters',\n",
              " '_return_annotation',\n",
              " 'bind',\n",
              " 'bind_partial',\n",
              " 'empty',\n",
              " 'from_builtin',\n",
              " 'from_callable',\n",
              " 'from_function',\n",
              " 'parameters',\n",
              " 'replace',\n",
              " 'return_annotation']"
            ]
          },
          "metadata": {
            "tags": []
          },
          "execution_count": 49
        }
      ]
    },
    {
      "cell_type": "code",
      "metadata": {
        "id": "lV-ppzHc6top",
        "colab_type": "code",
        "colab": {},
        "outputId": "fbd39f95-caee-447c-ecbe-713e0b9a98fe"
      },
      "source": [
        "for param_name, param in sig.parameters.items():\n",
        "    print(param_name, param)"
      ],
      "execution_count": null,
      "outputs": [
        {
          "output_type": "stream",
          "text": [
            "a a:'a string'\n",
            "b b:int=1\n",
            "args *args:'additional positional args'\n",
            "kw1 kw1:'first keyword-only arg'\n",
            "kw2 kw2:'second keyword-only arg'=10\n",
            "kwargs **kwargs:'additional keyword-only args'\n"
          ],
          "name": "stdout"
        }
      ]
    },
    {
      "cell_type": "code",
      "metadata": {
        "collapsed": true,
        "id": "hEkq5UrU6tou",
        "colab_type": "code",
        "colab": {}
      },
      "source": [
        "def print_info(f: \"callable\") -> None:\n",
        "    print(f.__name__)\n",
        "    print('=' * len(f.__name__), end='\\n\\n')\n",
        "    \n",
        "    print('{0}\\n{1}\\n'.format(inspect.getcomments(f), \n",
        "                              inspect.cleandoc(f.__doc__)))\n",
        "    \n",
        "    print('{0}\\n{1}'.format('Inputs', '-'*len('Inputs')))\n",
        "    \n",
        "    sig = inspect.signature(f)\n",
        "    for param in sig.parameters.values():\n",
        "        print('Name:', param.name)\n",
        "        print('Default:', param.default)\n",
        "        print('Annotation:', param.annotation)\n",
        "        print('Kind:', param.kind)\n",
        "        print('--------------------------\\n')\n",
        "        \n",
        "    print('{0}\\n{1}'.format('\\n\\nOutput', '-'*len('Output')))\n",
        "    print(sig.return_annotation)"
      ],
      "execution_count": null,
      "outputs": []
    },
    {
      "cell_type": "code",
      "metadata": {
        "id": "c4Mn3PVW6toy",
        "colab_type": "code",
        "colab": {},
        "outputId": "afb49a24-7089-49ea-9f07-a5b208189ce5"
      },
      "source": [
        "print_info(my_func)"
      ],
      "execution_count": null,
      "outputs": [
        {
          "output_type": "stream",
          "text": [
            "my_func\n",
            "=======\n",
            "\n",
            "# TODO: Provide implementation\n",
            "\n",
            "does something\n",
            "or other\n",
            "\n",
            "Inputs\n",
            "------\n",
            "Name: a\n",
            "Default: <class 'inspect._empty'>\n",
            "Annotation: a string\n",
            "Kind: POSITIONAL_OR_KEYWORD\n",
            "--------------------------\n",
            "\n",
            "Name: b\n",
            "Default: 1\n",
            "Annotation: <class 'int'>\n",
            "Kind: POSITIONAL_OR_KEYWORD\n",
            "--------------------------\n",
            "\n",
            "Name: args\n",
            "Default: <class 'inspect._empty'>\n",
            "Annotation: additional positional args\n",
            "Kind: VAR_POSITIONAL\n",
            "--------------------------\n",
            "\n",
            "Name: kw1\n",
            "Default: <class 'inspect._empty'>\n",
            "Annotation: first keyword-only arg\n",
            "Kind: KEYWORD_ONLY\n",
            "--------------------------\n",
            "\n",
            "Name: kw2\n",
            "Default: 10\n",
            "Annotation: second keyword-only arg\n",
            "Kind: KEYWORD_ONLY\n",
            "--------------------------\n",
            "\n",
            "Name: kwargs\n",
            "Default: <class 'inspect._empty'>\n",
            "Annotation: additional keyword-only args\n",
            "Kind: VAR_KEYWORD\n",
            "--------------------------\n",
            "\n",
            "\n",
            "\n",
            "Output\n",
            "------\n",
            "<class 'str'>\n"
          ],
          "name": "stdout"
        }
      ]
    },
    {
      "cell_type": "markdown",
      "metadata": {
        "id": "WBWSpc3u6to1",
        "colab_type": "text"
      },
      "source": [
        "#### A Side Note on Positional Only Arguments"
      ]
    },
    {
      "cell_type": "markdown",
      "metadata": {
        "id": "f1KjKu6Z6to2",
        "colab_type": "text"
      },
      "source": [
        "Some built-in callables have arguments that are positional only (i.e. cannot be specified using a keyword).\n",
        "\n",
        "However, Python does not currently have any syntax that allows us to define callables with positional only arguments.\n",
        "\n",
        "In general, the documentation uses a **/** character to indicate that all preceding arguments are positional-only. But not always."
      ]
    },
    {
      "cell_type": "code",
      "metadata": {
        "id": "_lI1_d_u6to3",
        "colab_type": "code",
        "colab": {},
        "outputId": "b09ad85b-e8b0-4551-dabc-147758140f1e"
      },
      "source": [
        "help(divmod)"
      ],
      "execution_count": null,
      "outputs": [
        {
          "output_type": "stream",
          "text": [
            "Help on built-in function divmod in module builtins:\n",
            "\n",
            "divmod(x, y, /)\n",
            "    Return the tuple (x//y, x%y).  Invariant: div*y + mod == x.\n",
            "\n"
          ],
          "name": "stdout"
        }
      ]
    },
    {
      "cell_type": "markdown",
      "metadata": {
        "id": "E62V_WNH6to6",
        "colab_type": "text"
      },
      "source": [
        "Here we see that the **divmod** function takes two positional-only parameters:"
      ]
    },
    {
      "cell_type": "code",
      "metadata": {
        "id": "-yDQsmej6to7",
        "colab_type": "code",
        "colab": {},
        "outputId": "67f51989-edba-407b-893e-f766cfbc4a53"
      },
      "source": [
        "divmod(10, 3)"
      ],
      "execution_count": null,
      "outputs": [
        {
          "output_type": "execute_result",
          "data": {
            "text/plain": [
              "(3, 1)"
            ]
          },
          "metadata": {
            "tags": []
          },
          "execution_count": 54
        }
      ]
    },
    {
      "cell_type": "code",
      "metadata": {
        "id": "NcJHmZUn6to_",
        "colab_type": "code",
        "colab": {},
        "outputId": "bb3b5ab9-dd86-4720-fc0f-72cc4afad1f4"
      },
      "source": [
        "divmod(x=10, y=3)"
      ],
      "execution_count": null,
      "outputs": [
        {
          "output_type": "error",
          "ename": "TypeError",
          "evalue": "divmod() takes no keyword arguments",
          "traceback": [
            "\u001b[1;31m---------------------------------------------------------------------------\u001b[0m",
            "\u001b[1;31mTypeError\u001b[0m                                 Traceback (most recent call last)",
            "\u001b[1;32m<ipython-input-55-c637b01eef33>\u001b[0m in \u001b[0;36m<module>\u001b[1;34m()\u001b[0m\n\u001b[1;32m----> 1\u001b[1;33m \u001b[0mdivmod\u001b[0m\u001b[1;33m(\u001b[0m\u001b[0mx\u001b[0m\u001b[1;33m=\u001b[0m\u001b[1;36m10\u001b[0m\u001b[1;33m,\u001b[0m \u001b[0my\u001b[0m\u001b[1;33m=\u001b[0m\u001b[1;36m3\u001b[0m\u001b[1;33m)\u001b[0m\u001b[1;33m\u001b[0m\u001b[0m\n\u001b[0m",
            "\u001b[1;31mTypeError\u001b[0m: divmod() takes no keyword arguments"
          ]
        }
      ]
    },
    {
      "cell_type": "markdown",
      "metadata": {
        "id": "7nckLMp06tpC",
        "colab_type": "text"
      },
      "source": [
        "Similarly, the string **replace** function also takes positional-only arguments, however, the documentation does not indicate this!"
      ]
    },
    {
      "cell_type": "code",
      "metadata": {
        "id": "7R12Uyai6tpD",
        "colab_type": "code",
        "colab": {},
        "outputId": "12eec175-7f0c-4c58-fdb6-fb9d7c9e6d33"
      },
      "source": [
        "help(str.replace)"
      ],
      "execution_count": null,
      "outputs": [
        {
          "output_type": "stream",
          "text": [
            "Help on method_descriptor:\n",
            "\n",
            "replace(...)\n",
            "    S.replace(old, new[, count]) -> str\n",
            "    \n",
            "    Return a copy of S with all occurrences of substring\n",
            "    old replaced by new.  If the optional argument count is\n",
            "    given, only the first count occurrences are replaced.\n",
            "\n"
          ],
          "name": "stdout"
        }
      ]
    },
    {
      "cell_type": "code",
      "metadata": {
        "id": "hICm1BDr6tpG",
        "colab_type": "code",
        "colab": {},
        "outputId": "3c3c78b3-e9fe-462b-9373-6cc673a6ed70"
      },
      "source": [
        "'abcdefg'.replace('abc', 'xyz')"
      ],
      "execution_count": null,
      "outputs": [
        {
          "output_type": "execute_result",
          "data": {
            "text/plain": [
              "'xyzdefg'"
            ]
          },
          "metadata": {
            "tags": []
          },
          "execution_count": 57
        }
      ]
    },
    {
      "cell_type": "code",
      "metadata": {
        "id": "_PWVe_SH6tpK",
        "colab_type": "code",
        "colab": {},
        "outputId": "12ec0f38-cecc-4367-90a5-2d2b4576a2a9"
      },
      "source": [
        "'abcdefg'.replace(old='abc', new='xyz')"
      ],
      "execution_count": null,
      "outputs": [
        {
          "output_type": "error",
          "ename": "TypeError",
          "evalue": "replace() takes no keyword arguments",
          "traceback": [
            "\u001b[1;31m---------------------------------------------------------------------------\u001b[0m",
            "\u001b[1;31mTypeError\u001b[0m                                 Traceback (most recent call last)",
            "\u001b[1;32m<ipython-input-58-9d61ac657cae>\u001b[0m in \u001b[0;36m<module>\u001b[1;34m()\u001b[0m\n\u001b[1;32m----> 1\u001b[1;33m \u001b[1;34m'abcdefg'\u001b[0m\u001b[1;33m.\u001b[0m\u001b[0mreplace\u001b[0m\u001b[1;33m(\u001b[0m\u001b[0mold\u001b[0m\u001b[1;33m=\u001b[0m\u001b[1;34m'abc'\u001b[0m\u001b[1;33m,\u001b[0m \u001b[0mnew\u001b[0m\u001b[1;33m=\u001b[0m\u001b[1;34m'xyz'\u001b[0m\u001b[1;33m)\u001b[0m\u001b[1;33m\u001b[0m\u001b[0m\n\u001b[0m",
            "\u001b[1;31mTypeError\u001b[0m: replace() takes no keyword arguments"
          ]
        }
      ]
    }
  ]
}