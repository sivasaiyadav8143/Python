{
 "cells": [
  {
   "cell_type": "code",
   "execution_count": 4,
   "id": "77c68d20",
   "metadata": {},
   "outputs": [],
   "source": [
    "from pyspark.sql import SparkSession\n",
    "from pyspark.sql.functions import *\n",
    "from pyspark.sql.types import ArrayType, StructType, StructField, StringType\n",
    "spark = SparkSession.builder.getOrCreate()"
   ]
  },
  {
   "cell_type": "markdown",
   "id": "32c17e31",
   "metadata": {},
   "source": [
    "# Example:1"
   ]
  },
  {
   "cell_type": "code",
   "execution_count": 7,
   "id": "00a3823e",
   "metadata": {},
   "outputs": [],
   "source": [
    "data = [\n",
    "    (\"Siva,sai,Yadav\",[\"Python\",\"Java\",\"C\"],[\"Python\",\"Spark\"],\"KAR\",\"TEL\"),\n",
    "    (\"Michael,Rose,\",[\"Spark\",\"Java\",\"C++\"],[\"Java\",\"Spark\"],\"DEL\",\"MUM\"),\n",
    "    (\"Robert,,Williams\",[\"CSharp\",\"VB\"],[\"Spark\",\"Python\"],\"UT\",\"NV\")\n",
    "]\n",
    "\n",
    "schema = StructType([\n",
    "    StructField('Name',StringType(),True),\n",
    "    StructField('languagesAtSchool',ArrayType(StringType()),True),\n",
    "    StructField('languagesAtWork',ArrayType(StringType()),True),\n",
    "    StructField('currentState',StringType(),True),\n",
    "    StructField('previousState',StringType(),True)\n",
    "])\n",
    "                    \n",
    "df = spark.createDataFrame(data=data,schema=schema)"
   ]
  },
  {
   "cell_type": "code",
   "execution_count": 8,
   "id": "98ae7873",
   "metadata": {},
   "outputs": [
    {
     "name": "stdout",
     "output_type": "stream",
     "text": [
      "root\n",
      " |-- Name: string (nullable = true)\n",
      " |-- languagesAtSchool: array (nullable = true)\n",
      " |    |-- element: string (containsNull = true)\n",
      " |-- languagesAtWork: array (nullable = true)\n",
      " |    |-- element: string (containsNull = true)\n",
      " |-- currentState: string (nullable = true)\n",
      " |-- previousState: string (nullable = true)\n",
      "\n"
     ]
    }
   ],
   "source": [
    "df.printSchema()"
   ]
  },
  {
   "cell_type": "code",
   "execution_count": 9,
   "id": "013fa725",
   "metadata": {},
   "outputs": [
    {
     "name": "stdout",
     "output_type": "stream",
     "text": [
      "+----------------+------------------+---------------+------------+-------------+\n",
      "|            Name| languagesAtSchool|languagesAtWork|currentState|previousState|\n",
      "+----------------+------------------+---------------+------------+-------------+\n",
      "|  Siva,sai,Yadav| [Python, Java, C]|[Python, Spark]|         KAR|          TEL|\n",
      "|   Michael,Rose,|[Spark, Java, C++]|  [Java, Spark]|         DEL|          MUM|\n",
      "|Robert,,Williams|      [CSharp, VB]|[Spark, Python]|          UT|           NV|\n",
      "+----------------+------------------+---------------+------------+-------------+\n",
      "\n"
     ]
    }
   ],
   "source": [
    "df.show(5)"
   ]
  },
  {
   "cell_type": "markdown",
   "id": "a71d5724",
   "metadata": {},
   "source": [
    "# explode() & split()"
   ]
  },
  {
   "cell_type": "code",
   "execution_count": 16,
   "id": "3f3b55f0",
   "metadata": {},
   "outputs": [
    {
     "name": "stdout",
     "output_type": "stream",
     "text": [
      "+----------------+------+\n",
      "|            Name|   col|\n",
      "+----------------+------+\n",
      "|  Siva,sai,Yadav|Python|\n",
      "|  Siva,sai,Yadav|  Java|\n",
      "|  Siva,sai,Yadav|     C|\n",
      "|   Michael,Rose,| Spark|\n",
      "|   Michael,Rose,|  Java|\n",
      "|   Michael,Rose,|   C++|\n",
      "|Robert,,Williams|CSharp|\n",
      "|Robert,,Williams|    VB|\n",
      "+----------------+------+\n",
      "\n"
     ]
    }
   ],
   "source": [
    "df.select('Name',explode(df.languagesAtSchool)).show()"
   ]
  },
  {
   "cell_type": "code",
   "execution_count": 20,
   "id": "d0a6e859",
   "metadata": {},
   "outputs": [],
   "source": [
    "df_1 = df.select(split(df.Name,',').alias('Name'))"
   ]
  },
  {
   "cell_type": "code",
   "execution_count": 30,
   "id": "60bc71e0",
   "metadata": {},
   "outputs": [
    {
     "name": "stdout",
     "output_type": "stream",
     "text": [
      "+--------+\n",
      "|    Name|\n",
      "+--------+\n",
      "|    Siva|\n",
      "|     sai|\n",
      "|   Yadav|\n",
      "| Michael|\n",
      "|    Rose|\n",
      "|        |\n",
      "|  Robert|\n",
      "|        |\n",
      "|Williams|\n",
      "+--------+\n",
      "\n"
     ]
    }
   ],
   "source": [
    "df_1.select(explode(df_1.Name).alias('Name')).show()"
   ]
  },
  {
   "cell_type": "code",
   "execution_count": 39,
   "id": "8ccd6222",
   "metadata": {},
   "outputs": [
    {
     "name": "stdout",
     "output_type": "stream",
     "text": [
      "+--------+\n",
      "|    Name|\n",
      "+--------+\n",
      "|    Siva|\n",
      "|     sai|\n",
      "|   Yadav|\n",
      "| Michael|\n",
      "|    Rose|\n",
      "|  Robert|\n",
      "|Williams|\n",
      "+--------+\n",
      "\n"
     ]
    }
   ],
   "source": [
    "df_1.select(explode(df_1.Name).alias('Name')).filter('Name != \"\"').show()"
   ]
  },
  {
   "cell_type": "code",
   "execution_count": 44,
   "id": "1d2c5ea6",
   "metadata": {},
   "outputs": [
    {
     "name": "stdout",
     "output_type": "stream",
     "text": [
      "+--------+\n",
      "|     col|\n",
      "+--------+\n",
      "|    Siva|\n",
      "|     sai|\n",
      "|   Yadav|\n",
      "| Michael|\n",
      "|    Rose|\n",
      "|  Robert|\n",
      "|Williams|\n",
      "+--------+\n",
      "\n"
     ]
    }
   ],
   "source": [
    "df.select(explode(split(df.Name,',').alias('Name'))).filter('col != \"\"').show()"
   ]
  },
  {
   "cell_type": "code",
   "execution_count": 47,
   "id": "11dc0eca",
   "metadata": {},
   "outputs": [
    {
     "name": "stdout",
     "output_type": "stream",
     "text": [
      "+--------+\n",
      "|    Name|\n",
      "+--------+\n",
      "|    Siva|\n",
      "|     sai|\n",
      "|   Yadav|\n",
      "| Michael|\n",
      "|    Rose|\n",
      "|        |\n",
      "|  Robert|\n",
      "|        |\n",
      "|Williams|\n",
      "+--------+\n",
      "\n"
     ]
    }
   ],
   "source": [
    "new_col = df_1.select(explode(df_1.Name).alias('Name'))\n",
    "new_col.show()"
   ]
  },
  {
   "cell_type": "code",
   "execution_count": 50,
   "id": "56e8c35e",
   "metadata": {},
   "outputs": [
    {
     "name": "stdout",
     "output_type": "stream",
     "text": [
      "+----------------+------------------+---------------+------------+-------------+--------+\n",
      "|            Name| languagesAtSchool|languagesAtWork|currentState|previousState| New COl|\n",
      "+----------------+------------------+---------------+------------+-------------+--------+\n",
      "|  Siva,sai,Yadav| [Python, Java, C]|[Python, Spark]|         KAR|          TEL|    Siva|\n",
      "|  Siva,sai,Yadav| [Python, Java, C]|[Python, Spark]|         KAR|          TEL|     sai|\n",
      "|  Siva,sai,Yadav| [Python, Java, C]|[Python, Spark]|         KAR|          TEL|   Yadav|\n",
      "|   Michael,Rose,|[Spark, Java, C++]|  [Java, Spark]|         DEL|          MUM| Michael|\n",
      "|   Michael,Rose,|[Spark, Java, C++]|  [Java, Spark]|         DEL|          MUM|    Rose|\n",
      "|   Michael,Rose,|[Spark, Java, C++]|  [Java, Spark]|         DEL|          MUM|        |\n",
      "|Robert,,Williams|      [CSharp, VB]|[Spark, Python]|          UT|           NV|  Robert|\n",
      "|Robert,,Williams|      [CSharp, VB]|[Spark, Python]|          UT|           NV|        |\n",
      "|Robert,,Williams|      [CSharp, VB]|[Spark, Python]|          UT|           NV|Williams|\n",
      "+----------------+------------------+---------------+------------+-------------+--------+\n",
      "\n"
     ]
    }
   ],
   "source": [
    "df.withColumn('New COl',explode(split(df.Name,','))).show()"
   ]
  },
  {
   "cell_type": "markdown",
   "id": "1a8d7b18",
   "metadata": {},
   "source": [
    "# array()"
   ]
  },
  {
   "cell_type": "code",
   "execution_count": 55,
   "id": "2d60d21a",
   "metadata": {},
   "outputs": [
    {
     "name": "stdout",
     "output_type": "stream",
     "text": [
      "+----------------+----------+\n",
      "|            Name|       New|\n",
      "+----------------+----------+\n",
      "|  Siva,sai,Yadav|[KAR, TEL]|\n",
      "|   Michael,Rose,|[DEL, MUM]|\n",
      "|Robert,,Williams|  [UT, NV]|\n",
      "+----------------+----------+\n",
      "\n"
     ]
    }
   ],
   "source": [
    "df.select('Name',array('currentState','previousState').alias('New')).show()"
   ]
  },
  {
   "cell_type": "markdown",
   "id": "cc509d26",
   "metadata": {},
   "source": [
    "# array_contains()"
   ]
  },
  {
   "cell_type": "code",
   "execution_count": 56,
   "id": "31194168",
   "metadata": {},
   "outputs": [
    {
     "name": "stdout",
     "output_type": "stream",
     "text": [
      "+------------------+-----+\n",
      "| languagesAtSchool|Check|\n",
      "+------------------+-----+\n",
      "| [Python, Java, C]| true|\n",
      "|[Spark, Java, C++]|false|\n",
      "|      [CSharp, VB]|false|\n",
      "+------------------+-----+\n",
      "\n"
     ]
    }
   ],
   "source": [
    "df.select('languagesAtSchool',array_contains('languagesAtSchool','Python').alias('Check')).show()"
   ]
  },
  {
   "cell_type": "markdown",
   "id": "e8d52672",
   "metadata": {},
   "source": [
    "# Example:2"
   ]
  },
  {
   "cell_type": "code",
   "execution_count": 57,
   "id": "9f78ab83",
   "metadata": {},
   "outputs": [],
   "source": [
    "data1 = [\n",
    "    ('Siva',['Java','Scala'],{'hair':'black','eye':'brown'}),\n",
    "    ('Sai',['C','Python',None],{'hair':'brown','eye':None}),\n",
    "    ('Yadav',['CSharp',''],{'hair':'brown','eye':''}),\n",
    "    ('AAAA',None,None),\n",
    "    ('ZZZZ',['1','2'],{})\n",
    "        ]\n",
    "\n",
    "df1 = spark.createDataFrame(data=data1,schema=['Name','Lang','Prop'])"
   ]
  },
  {
   "cell_type": "code",
   "execution_count": 59,
   "id": "48c8cd9e",
   "metadata": {},
   "outputs": [
    {
     "name": "stdout",
     "output_type": "stream",
     "text": [
      "root\n",
      " |-- Name: string (nullable = true)\n",
      " |-- Lang: array (nullable = true)\n",
      " |    |-- element: string (containsNull = true)\n",
      " |-- Prop: map (nullable = true)\n",
      " |    |-- key: string\n",
      " |    |-- value: string (valueContainsNull = true)\n",
      "\n"
     ]
    }
   ],
   "source": [
    "df1.printSchema()"
   ]
  },
  {
   "cell_type": "code",
   "execution_count": 60,
   "id": "7c552a17",
   "metadata": {},
   "outputs": [
    {
     "name": "stdout",
     "output_type": "stream",
     "text": [
      "+-----+-----------------+-----------------------------+\n",
      "|Name |Lang             |Prop                         |\n",
      "+-----+-----------------+-----------------------------+\n",
      "|Siva |[Java, Scala]    |{eye -> brown, hair -> black}|\n",
      "|Sai  |[C, Python, null]|{eye -> null, hair -> brown} |\n",
      "|Yadav|[CSharp, ]       |{eye -> , hair -> brown}     |\n",
      "|AAAA |null             |null                         |\n",
      "|ZZZZ |[1, 2]           |{}                           |\n",
      "+-----+-----------------+-----------------------------+\n",
      "\n"
     ]
    }
   ],
   "source": [
    "df1.show(truncate=False)"
   ]
  },
  {
   "cell_type": "code",
   "execution_count": 61,
   "id": "96de65c9",
   "metadata": {},
   "outputs": [
    {
     "name": "stdout",
     "output_type": "stream",
     "text": [
      "+------+\n",
      "|   col|\n",
      "+------+\n",
      "|  Java|\n",
      "| Scala|\n",
      "|     C|\n",
      "|Python|\n",
      "|  null|\n",
      "|CSharp|\n",
      "|      |\n",
      "|     1|\n",
      "|     2|\n",
      "+------+\n",
      "\n"
     ]
    }
   ],
   "source": [
    "df1.select(explode('Lang')).show()"
   ]
  },
  {
   "cell_type": "code",
   "execution_count": 72,
   "id": "9d44287f",
   "metadata": {},
   "outputs": [
    {
     "name": "stdout",
     "output_type": "stream",
     "text": [
      "+----+-----+\n",
      "| key|value|\n",
      "+----+-----+\n",
      "| eye|brown|\n",
      "|hair|black|\n",
      "| eye| null|\n",
      "|hair|brown|\n",
      "| eye|     |\n",
      "|hair|brown|\n",
      "+----+-----+\n",
      "\n"
     ]
    }
   ],
   "source": [
    "df2 = df1.select(explode('Prop'))\n",
    "df2.show()"
   ]
  },
  {
   "cell_type": "code",
   "execution_count": 73,
   "id": "f885ac82",
   "metadata": {},
   "outputs": [
    {
     "name": "stdout",
     "output_type": "stream",
     "text": [
      "+-----+---+------+\n",
      "| Name|pos|   col|\n",
      "+-----+---+------+\n",
      "| Siva|  0|  Java|\n",
      "| Siva|  1| Scala|\n",
      "|  Sai|  0|     C|\n",
      "|  Sai|  1|Python|\n",
      "|  Sai|  2|  null|\n",
      "|Yadav|  0|CSharp|\n",
      "|Yadav|  1|      |\n",
      "| ZZZZ|  0|     1|\n",
      "| ZZZZ|  1|     2|\n",
      "+-----+---+------+\n",
      "\n"
     ]
    }
   ],
   "source": [
    "df1.select(df1.Name,posexplode(df1.Lang)).show()"
   ]
  },
  {
   "cell_type": "code",
   "execution_count": null,
   "id": "ca5d5aaa",
   "metadata": {},
   "outputs": [],
   "source": []
  }
 ],
 "metadata": {
  "kernelspec": {
   "display_name": "Python 3 (ipykernel)",
   "language": "python",
   "name": "python3"
  },
  "language_info": {
   "codemirror_mode": {
    "name": "ipython",
    "version": 3
   },
   "file_extension": ".py",
   "mimetype": "text/x-python",
   "name": "python",
   "nbconvert_exporter": "python",
   "pygments_lexer": "ipython3",
   "version": "3.9.7"
  }
 },
 "nbformat": 4,
 "nbformat_minor": 5
}
