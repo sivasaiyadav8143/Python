{
  "nbformat": 4,
  "nbformat_minor": 0,
  "metadata": {
    "kernelspec": {
      "display_name": "Python 3",
      "language": "python",
      "name": "python3"
    },
    "language_info": {
      "codemirror_mode": {
        "name": "ipython",
        "version": 3
      },
      "file_extension": ".py",
      "mimetype": "text/x-python",
      "name": "python",
      "nbconvert_exporter": "python",
      "pygments_lexer": "ipython3",
      "version": "3.6.2"
    },
    "colab": {
      "name": "Switch in Python.ipynb",
      "provenance": []
    }
  },
  "cells": [
    {
      "cell_type": "markdown",
      "metadata": {
        "id": "JBQWNRHwrSwf"
      },
      "source": [
        "### Simulating a simple Switch in Python"
      ]
    },
    {
      "cell_type": "markdown",
      "metadata": {
        "id": "TNpXL98orSwl"
      },
      "source": [
        "Python does not have a switch statement, but it is possible to have similar functionality in a variety of ways.\n",
        "\n",
        "Here I'm going to assume a simple `switch` statement where each `case` has a `break` (in other words, no fall through), and is based on a single value.\n",
        "\n",
        "You can see a PEP that discussed adding a `switch` statement to Python, proposed by Guido, but ultimately rejected (by Guido as well):\n",
        "https://www.python.org/dev/peps/pep-3103/"
      ]
    },
    {
      "cell_type": "markdown",
      "metadata": {
        "id": "yFY1IoNxrSwo"
      },
      "source": [
        "A simple Java example would be something like this:"
      ]
    },
    {
      "cell_type": "markdown",
      "metadata": {
        "id": "Usrq_NfbrSwp"
      },
      "source": [
        "```\n",
        "switch (dow) {\n",
        "    case 1: dowString = 'Monday';\n",
        "            break;\n",
        "    case 2: dowString = 'Tuesday';\n",
        "            break;\n",
        "    case 3: dowString = 'Wednesday';\n",
        "            break;\n",
        "    case 4: dowString = 'Thursday';\n",
        "            break;\n",
        "    case 5: dowString = 'Friday';\n",
        "            break;\n",
        "    case 6: dowString = 'Saturday';\n",
        "            break;\n",
        "    case 7: dowString = 'Sunday';\n",
        "            break;\n",
        "    default: dowString = 'Invalid day of week';\n",
        "}\n",
        "```"
      ]
    },
    {
      "cell_type": "markdown",
      "metadata": {
        "id": "ccoeqkgbrSwr"
      },
      "source": [
        "The simplest approach here is to simply use an `if...elif...else` structure.\n",
        "\n",
        "To make it slightly more interesting, I'm not going to set a variable for each case statement, I'm going to return a function - to keep it simple I'll just call the `print()` function, but it could be anything really."
      ]
    },
    {
      "cell_type": "code",
      "metadata": {
        "id": "vGcBG-NkrSws"
      },
      "source": [
        "def dow_switch_fn(dow):\n",
        "    if dow == 1:\n",
        "        fn = lambda: print('Monday')\n",
        "    elif dow == 2:\n",
        "        fn = lambda: print('Tuesday')\n",
        "    elif dow == 3:\n",
        "        fn = lambda: print('Wednesday')\n",
        "    elif dow == 4:\n",
        "        fn = lambda: print('Thursday')\n",
        "    elif dow == 5:\n",
        "        fn = lambda: print('Friday')\n",
        "    elif dow == 6:\n",
        "        fn = lambda: print('Saturday')\n",
        "    elif dow == 7:\n",
        "        fn = lambda: print('Sunday')\n",
        "    else:\n",
        "        fn = lambda: print('Invalid day of week')\n",
        "    \n",
        "    return fn()"
      ],
      "execution_count": null,
      "outputs": []
    },
    {
      "cell_type": "code",
      "metadata": {
        "id": "7U2UEFgFrSwx",
        "outputId": "1e7e121c-7342-40a9-8bb4-24527abb0abc"
      },
      "source": [
        "dow_switch_fn(1)"
      ],
      "execution_count": null,
      "outputs": [
        {
          "output_type": "stream",
          "text": [
            "Monday\n"
          ],
          "name": "stdout"
        }
      ]
    },
    {
      "cell_type": "code",
      "metadata": {
        "id": "_K49gMkHrSw2",
        "outputId": "2e0d2418-88ae-469e-bbd5-a404c2fc7910"
      },
      "source": [
        "dow_switch_fn(100)"
      ],
      "execution_count": null,
      "outputs": [
        {
          "output_type": "stream",
          "text": [
            "Invalid day of week\n"
          ],
          "name": "stdout"
        }
      ]
    },
    {
      "cell_type": "markdown",
      "metadata": {
        "id": "5237dzyKrSw5"
      },
      "source": [
        "Now, dictionaries could also be used quite effectively here:"
      ]
    },
    {
      "cell_type": "code",
      "metadata": {
        "id": "irRAgHyFrSw5"
      },
      "source": [
        "def dow_switch_dict(dow):\n",
        "    dow_dict = {\n",
        "        1: lambda: print('Monday'),\n",
        "        2: lambda: print('Tuesday'),\n",
        "        3: lambda: print('Wednesday'),\n",
        "        4: lambda: print('Thursday'),\n",
        "        5: lambda: print('Friday'),\n",
        "        6: lambda: print('Saturday'),\n",
        "        7: lambda: print('Sunday'),\n",
        "        'default': lambda: print('Invalid day of week')\n",
        "    }\n",
        "    \n",
        "    return dow_dict.get(dow, dow_dict['default'])()"
      ],
      "execution_count": null,
      "outputs": []
    },
    {
      "cell_type": "code",
      "metadata": {
        "id": "fcOZ6sl-rSw8",
        "outputId": "948bc23d-5fa7-4db1-e812-326b09f0ca06"
      },
      "source": [
        "dow_switch_dict(1)"
      ],
      "execution_count": null,
      "outputs": [
        {
          "output_type": "stream",
          "text": [
            "Monday\n"
          ],
          "name": "stdout"
        }
      ]
    },
    {
      "cell_type": "code",
      "metadata": {
        "id": "k-q5E69SrSxA",
        "outputId": "8a75ffff-8cd8-4b9c-90de-7cd2f539ef4a"
      },
      "source": [
        "dow_switch_dict(100)"
      ],
      "execution_count": null,
      "outputs": [
        {
          "output_type": "stream",
          "text": [
            "Invalid day of week\n"
          ],
          "name": "stdout"
        }
      ]
    },
    {
      "cell_type": "markdown",
      "metadata": {
        "id": "Bm7aJFD0rSxE"
      },
      "source": [
        "One advantage of using a dictionary (as an associative array), is that you can add and remove elements from the dictionary at run time. Of course you cannot do that with the `if...elif...else` - you need to know at compile time how many branches your \"switch\" has (just like a regular `switch` would, that is also fixed once the code has been compiled+\n",
        ").\n",
        "\n",
        "But the downside of this approach compared to `if...elif...else` is that the dictionary values are relatively simple and cannot contain nested if statements or anything else. In the case of `if...elif...else` your code blocks for each of these statement can contain as many lines of code as you want.\n",
        "\n",
        "So the choice is yours, and depends on what you are trying to accomplish.\n",
        "\n",
        "Now, there is also another way to do this, and it is based on the concepts I discuss in the decorator videos on the single dispatch generic functions.\n",
        "\n",
        "We cannot use the standard library's `@singledispatch` decorator, but we can adapt the approach I showed you to create a `switch` function where we can register each `case` of the `switch`.\n",
        "\n",
        "First, let's recall our own implementation of the `@singledispatch` decorator:"
      ]
    },
    {
      "cell_type": "code",
      "metadata": {
        "id": "nQOaYylyrSxE"
      },
      "source": [
        "def singledispatch(fn):\n",
        "    registry = dict()\n",
        "    registry[object] = fn\n",
        "    \n",
        "    def register(type_):\n",
        "        def inner(fn):\n",
        "            registry[type_] = fn\n",
        "            return fn  # we do this so we can stack register decorators!\n",
        "        return inner\n",
        "   \n",
        "    def decorator(arg):\n",
        "        fn = registry.get(type(arg), registry[object])\n",
        "        return fn(arg)\n",
        "\n",
        "    decorator.register = register\n",
        "    return decorator"
      ],
      "execution_count": null,
      "outputs": []
    },
    {
      "cell_type": "markdown",
      "metadata": {
        "id": "72-iDZMMrSxH"
      },
      "source": [
        "With this decorator, we are dispatching based on the type. But if you think of our `switch` statement, we really just want to dispatch based on a value (like the `dow` value).\n",
        "\n",
        "So let's tweak the decorator to no longer use a type, but an arbitrary value instead:"
      ]
    },
    {
      "cell_type": "code",
      "metadata": {
        "id": "jTSICrU4rSxI"
      },
      "source": [
        "def switcher(fn):\n",
        "    registry = dict()\n",
        "    registry['default'] = fn\n",
        "    \n",
        "    def register(case):\n",
        "        def inner(fn):\n",
        "            registry[case] = fn\n",
        "            return fn  # we do this so we can stack register decorators!\n",
        "        return inner\n",
        "   \n",
        "    def decorator(case):\n",
        "        fn = registry.get(case, registry['default'])\n",
        "        return fn()\n",
        "\n",
        "    decorator.register = register\n",
        "    return decorator"
      ],
      "execution_count": null,
      "outputs": []
    },
    {
      "cell_type": "markdown",
      "metadata": {
        "id": "0Sk7TwhVrSxL"
      },
      "source": [
        "And that's all we need to change!"
      ]
    },
    {
      "cell_type": "markdown",
      "metadata": {
        "id": "awDri3HRrSxL"
      },
      "source": [
        "We can now use it as follows:"
      ]
    },
    {
      "cell_type": "code",
      "metadata": {
        "id": "qhlT-fCJrSxL",
        "outputId": "4445b8d9-a580-4e90-a79b-effe2cc1b67d"
      },
      "source": [
        "@switcher\n",
        "def dow():\n",
        "    print('Invalid day of week')\n",
        "    \n",
        "@dow.register(1)\n",
        "def dow_1():\n",
        "    print('Monday')\n",
        "    \n",
        "dow.register(2)(lambda: print('Tuesday'))\n",
        "dow.register(3)(lambda: print('Wednesday'))\n",
        "dow.register(4)(lambda: print('Thursday'))\n",
        "dow.register(5)(lambda: print('Friday'))\n",
        "dow.register(6)(lambda: print('Saturday'))\n",
        "dow.register(7)(lambda: print('Sunday'))"
      ],
      "execution_count": null,
      "outputs": [
        {
          "output_type": "execute_result",
          "data": {
            "text/plain": [
              "<function __main__.<lambda>>"
            ]
          },
          "metadata": {
            "tags": []
          },
          "execution_count": 9
        }
      ]
    },
    {
      "cell_type": "markdown",
      "metadata": {
        "id": "9mry73wOrSxO"
      },
      "source": [
        "And we can now use it this way:"
      ]
    },
    {
      "cell_type": "code",
      "metadata": {
        "id": "ShrOU1IFrSxP",
        "outputId": "e949ef1d-221d-40c7-fb0b-14e8da0716db"
      },
      "source": [
        "dow(1)"
      ],
      "execution_count": null,
      "outputs": [
        {
          "output_type": "stream",
          "text": [
            "Monday\n"
          ],
          "name": "stdout"
        }
      ]
    },
    {
      "cell_type": "code",
      "metadata": {
        "id": "bFP-PghErSxR",
        "outputId": "1010d731-d794-4de2-ef14-9f09a8861c96"
      },
      "source": [
        "dow(2)"
      ],
      "execution_count": null,
      "outputs": [
        {
          "output_type": "stream",
          "text": [
            "Tuesday\n"
          ],
          "name": "stdout"
        }
      ]
    },
    {
      "cell_type": "code",
      "metadata": {
        "id": "rdOu1VxnrSxW",
        "outputId": "c81c9113-1846-441d-e29f-c36feaa86f68"
      },
      "source": [
        "dow(100)"
      ],
      "execution_count": null,
      "outputs": [
        {
          "output_type": "stream",
          "text": [
            "Invalid day of week\n"
          ],
          "name": "stdout"
        }
      ]
    },
    {
      "cell_type": "markdown",
      "metadata": {
        "id": "m9EiVKtgrSxZ"
      },
      "source": [
        "Of course you'll notice that our decorator is simply using the same dictionary / associative array approach we just looked at - except we can use decorators to do that work."
      ]
    },
    {
      "cell_type": "code",
      "metadata": {
        "id": "Ra-Jk8iLrSxZ"
      },
      "source": [
        ""
      ],
      "execution_count": null,
      "outputs": []
    }
  ]
}