{
  "nbformat": 4,
  "nbformat_minor": 0,
  "metadata": {
    "kernelspec": {
      "display_name": "Python 3",
      "language": "python",
      "name": "python3"
    },
    "language_info": {
      "codemirror_mode": {
        "name": "ipython",
        "version": 3
      },
      "file_extension": ".py",
      "mimetype": "text/x-python",
      "name": "python",
      "nbconvert_exporter": "python",
      "pygments_lexer": "ipython3",
      "version": "3.6.2"
    },
    "colab": {
      "name": "Closures.ipynb",
      "provenance": [],
      "collapsed_sections": [
        "NHQ9GuvNHa-T"
      ],
      "include_colab_link": true
    }
  },
  "cells": [
    {
      "cell_type": "markdown",
      "metadata": {
        "id": "view-in-github",
        "colab_type": "text"
      },
      "source": [
        "<a href=\"https://colab.research.google.com/github/sivasaiyadav8143/Python/blob/master/Closures.ipynb\" target=\"_parent\"><img src=\"https://colab.research.google.com/assets/colab-badge.svg\" alt=\"Open In Colab\"/></a>"
      ]
    },
    {
      "cell_type": "markdown",
      "metadata": {
        "id": "iVPoI__6Ha7l",
        "colab_type": "text"
      },
      "source": [
        "### Closures"
      ]
    },
    {
      "cell_type": "markdown",
      "metadata": {
        "id": "k1I_bb9zH9OR",
        "colab_type": "text"
      },
      "source": [
        "The technique by which some data gets attached to the code(nested function) is called closure in Python.<br>\n",
        "\n",
        "This value in the enclosing scope is remembered even when the variable goes out of scope or the function itself is removed from the current namespace.<br>\n",
        "\n",
        "To create a closure in Python we must following below points.\n",
        "\n",
        "1. We must have a nested function (function inside a function).\n",
        "2. The nested function must refer to a value defined in the enclosing function.\n",
        "3. The enclosing function must return the nested function."
      ]
    },
    {
      "cell_type": "markdown",
      "metadata": {
        "id": "xpvNjXOdHa7n",
        "colab_type": "text"
      },
      "source": [
        "Let's examine that concept of a cell to create an indirect reference for variables that are in multiple scopes."
      ]
    },
    {
      "cell_type": "code",
      "metadata": {
        "id": "XFlSOLrnHa7o",
        "colab_type": "code",
        "colab": {}
      },
      "source": [
        "def outer():\n",
        "    x = 'python'\n",
        "    def inner():\n",
        "        print(x)\n",
        "    return inner"
      ],
      "execution_count": null,
      "outputs": []
    },
    {
      "cell_type": "code",
      "metadata": {
        "id": "s9Cn5Kl1Ha7t",
        "colab_type": "code",
        "colab": {}
      },
      "source": [
        "fn = outer()"
      ],
      "execution_count": null,
      "outputs": []
    },
    {
      "cell_type": "code",
      "metadata": {
        "id": "H1e_9OY0Ha7x",
        "colab_type": "code",
        "colab": {},
        "outputId": "078aec51-face-436b-caec-d3760f1deb49"
      },
      "source": [
        "fn.__code__.co_freevars"
      ],
      "execution_count": null,
      "outputs": [
        {
          "output_type": "execute_result",
          "data": {
            "text/plain": [
              "('x',)"
            ]
          },
          "metadata": {
            "tags": []
          },
          "execution_count": 3
        }
      ]
    },
    {
      "cell_type": "markdown",
      "metadata": {
        "id": "4ACf-iqwHa71",
        "colab_type": "text"
      },
      "source": [
        "As we can see, `x` is a free variable in the closure."
      ]
    },
    {
      "cell_type": "code",
      "metadata": {
        "id": "TbEJNyxQHa72",
        "colab_type": "code",
        "colab": {},
        "outputId": "89755ad0-fe50-4a34-d023-c97935c8b759"
      },
      "source": [
        "fn.__closure__"
      ],
      "execution_count": null,
      "outputs": [
        {
          "output_type": "execute_result",
          "data": {
            "text/plain": [
              "(<cell at 0x0000015F5299B4C8: str object at 0x0000015F51092068>,)"
            ]
          },
          "metadata": {
            "tags": []
          },
          "execution_count": 4
        }
      ]
    },
    {
      "cell_type": "markdown",
      "metadata": {
        "id": "qG6SVFh9I5wq",
        "colab_type": "text"
      },
      "source": [
        "<img src=\"Screenshots/closure.PNG\">"
      ]
    },
    {
      "cell_type": "markdown",
      "metadata": {
        "id": "hEvC3QNTHa75",
        "colab_type": "text"
      },
      "source": [
        "Here we see that the free variable x is actually a reference to a cell object that is itself a reference to a string object."
      ]
    },
    {
      "cell_type": "markdown",
      "metadata": {
        "id": "_OjULLhgHa76",
        "colab_type": "text"
      },
      "source": [
        "Let's see what the memory address of `x` is in the outer function and the inner function. To be sure string interning does not play a role, I am going to use an object that we know Python will not automatically intern, like a list."
      ]
    },
    {
      "cell_type": "code",
      "metadata": {
        "id": "gLGFU9IYHa76",
        "colab_type": "code",
        "colab": {}
      },
      "source": [
        "def outer():\n",
        "    x = [1, 2, 3]\n",
        "    print('outer:', hex(id(x)))\n",
        "    def inner():\n",
        "        print('inner:', hex(id(x)))\n",
        "        print(x)\n",
        "    return inner"
      ],
      "execution_count": null,
      "outputs": []
    },
    {
      "cell_type": "code",
      "metadata": {
        "id": "5MsEA5FsHa79",
        "colab_type": "code",
        "colab": {},
        "outputId": "e7608612-e3bf-4376-afc3-5b165b4ee5a1"
      },
      "source": [
        "fn = outer()"
      ],
      "execution_count": null,
      "outputs": [
        {
          "output_type": "stream",
          "text": [
            "outer: 0x15f52907988\n"
          ],
          "name": "stdout"
        }
      ]
    },
    {
      "cell_type": "code",
      "metadata": {
        "id": "igkZgY9vHa8B",
        "colab_type": "code",
        "colab": {},
        "outputId": "77ca663a-76c7-4f8e-bfd1-9187f6471a60"
      },
      "source": [
        "fn.__closure__"
      ],
      "execution_count": null,
      "outputs": [
        {
          "output_type": "execute_result",
          "data": {
            "text/plain": [
              "(<cell at 0x0000015F5299B768: list object at 0x0000015F52907988>,)"
            ]
          },
          "metadata": {
            "tags": []
          },
          "execution_count": 7
        }
      ]
    },
    {
      "cell_type": "code",
      "metadata": {
        "id": "VMwbaMNVHa8F",
        "colab_type": "code",
        "colab": {},
        "outputId": "045917e8-9757-479b-f73a-d050e9015238"
      },
      "source": [
        "fn()"
      ],
      "execution_count": null,
      "outputs": [
        {
          "output_type": "stream",
          "text": [
            "inner: 0x15f52907988\n",
            "[1, 2, 3]\n"
          ],
          "name": "stdout"
        }
      ]
    },
    {
      "cell_type": "markdown",
      "metadata": {
        "id": "jPyypQUxHa8I",
        "colab_type": "text"
      },
      "source": [
        "As you can see, each the memory address of `x` in `outer`, `inner` and the cell all point to the same object."
      ]
    },
    {
      "cell_type": "markdown",
      "metadata": {
        "id": "GCXG1fGvHa8I",
        "colab_type": "text"
      },
      "source": [
        "#### Modifying the Free Variable"
      ]
    },
    {
      "cell_type": "markdown",
      "metadata": {
        "id": "OLnRSEFyHa8I",
        "colab_type": "text"
      },
      "source": [
        "We know we can modify nonlocal variables by using the `nonlocal` keyword. So the following will work:"
      ]
    },
    {
      "cell_type": "code",
      "metadata": {
        "id": "Ubhbs96tHa8J",
        "colab_type": "code",
        "colab": {}
      },
      "source": [
        "def counter():\n",
        "    count = 0 # local variable\n",
        "    \n",
        "    def inc():\n",
        "        nonlocal count  # this is the count variable in counter\n",
        "        count += 1\n",
        "        return count\n",
        "    return inc"
      ],
      "execution_count": null,
      "outputs": []
    },
    {
      "cell_type": "code",
      "metadata": {
        "id": "pnlOlkg2Ha8L",
        "colab_type": "code",
        "colab": {}
      },
      "source": [
        "c = counter()"
      ],
      "execution_count": null,
      "outputs": []
    },
    {
      "cell_type": "code",
      "metadata": {
        "id": "0KucgdPiKzGq",
        "colab_type": "code",
        "colab": {
          "base_uri": "https://localhost:8080/",
          "height": 34
        },
        "outputId": "b4969277-46a5-44ac-875e-dd796691fc77"
      },
      "source": [
        "c.__closure__"
      ],
      "execution_count": null,
      "outputs": [
        {
          "output_type": "execute_result",
          "data": {
            "text/plain": [
              "(<cell at 0x7f1a045474c8: int object at 0xa68aa0>,)"
            ]
          },
          "metadata": {
            "tags": []
          },
          "execution_count": 13
        }
      ]
    },
    {
      "cell_type": "code",
      "metadata": {
        "id": "VCBCy2CNKzj5",
        "colab_type": "code",
        "colab": {
          "base_uri": "https://localhost:8080/",
          "height": 35
        },
        "outputId": "39e33bfc-244a-4077-e746-0028264ab311"
      },
      "source": [
        "hex(id(0))"
      ],
      "execution_count": null,
      "outputs": [
        {
          "output_type": "execute_result",
          "data": {
            "application/vnd.google.colaboratory.intrinsic+json": {
              "type": "string"
            },
            "text/plain": [
              "'0xa68aa0'"
            ]
          },
          "metadata": {
            "tags": []
          },
          "execution_count": 14
        }
      ]
    },
    {
      "cell_type": "markdown",
      "metadata": {
        "id": "pkzhcm5EK_z2",
        "colab_type": "text"
      },
      "source": [
        "Count is pointing to cell and cell is pointing to int object with value 0, as we can see both zeros's have same address."
      ]
    },
    {
      "cell_type": "code",
      "metadata": {
        "id": "jSrLSWinHa8O",
        "colab_type": "code",
        "colab": {
          "base_uri": "https://localhost:8080/",
          "height": 34
        },
        "outputId": "8d98c3b6-396f-40ec-9b7c-a37a6a8860a8"
      },
      "source": [
        "c()"
      ],
      "execution_count": null,
      "outputs": [
        {
          "output_type": "execute_result",
          "data": {
            "text/plain": [
              "1"
            ]
          },
          "metadata": {
            "tags": []
          },
          "execution_count": 15
        }
      ]
    },
    {
      "cell_type": "code",
      "metadata": {
        "id": "2l4ARJT4LlOj",
        "colab_type": "code",
        "colab": {
          "base_uri": "https://localhost:8080/",
          "height": 34
        },
        "outputId": "674c7e03-1b59-4244-89f2-3e2089fcea50"
      },
      "source": [
        "c.__closure__"
      ],
      "execution_count": null,
      "outputs": [
        {
          "output_type": "execute_result",
          "data": {
            "text/plain": [
              "(<cell at 0x7f1a045474c8: int object at 0xa68ac0>,)"
            ]
          },
          "metadata": {
            "tags": []
          },
          "execution_count": 16
        }
      ]
    },
    {
      "cell_type": "code",
      "metadata": {
        "id": "e-6_vAsDMaCt",
        "colab_type": "code",
        "colab": {
          "base_uri": "https://localhost:8080/",
          "height": 35
        },
        "outputId": "06b35f8d-5ead-4063-e06d-d521ce414dd5"
      },
      "source": [
        "hex(id(1))"
      ],
      "execution_count": null,
      "outputs": [
        {
          "output_type": "execute_result",
          "data": {
            "application/vnd.google.colaboratory.intrinsic+json": {
              "type": "string"
            },
            "text/plain": [
              "'0xa68ac0'"
            ]
          },
          "metadata": {
            "tags": []
          },
          "execution_count": 17
        }
      ]
    },
    {
      "cell_type": "markdown",
      "metadata": {
        "id": "nfu8qeHxMAXu",
        "colab_type": "text"
      },
      "source": [
        "Now the int object addess has changes coz now the value of count is 1, so cell points to a new object which contains 1 in it."
      ]
    },
    {
      "cell_type": "code",
      "metadata": {
        "id": "XKDFz-l9Ha8Q",
        "colab_type": "code",
        "colab": {
          "base_uri": "https://localhost:8080/",
          "height": 34
        },
        "outputId": "64976438-6d10-44c2-d6cb-e4d86e5a4971"
      },
      "source": [
        "c()"
      ],
      "execution_count": null,
      "outputs": [
        {
          "output_type": "execute_result",
          "data": {
            "text/plain": [
              "2"
            ]
          },
          "metadata": {
            "tags": []
          },
          "execution_count": 18
        }
      ]
    },
    {
      "cell_type": "code",
      "metadata": {
        "id": "wWRHwYgtMR4u",
        "colab_type": "code",
        "colab": {
          "base_uri": "https://localhost:8080/",
          "height": 34
        },
        "outputId": "f5407f5f-ca74-4096-ca64-71b2c2c07d81"
      },
      "source": [
        "c.__closure__"
      ],
      "execution_count": null,
      "outputs": [
        {
          "output_type": "execute_result",
          "data": {
            "text/plain": [
              "(<cell at 0x7f1a04547108: int object at 0xa68ae0>,)"
            ]
          },
          "metadata": {
            "tags": []
          },
          "execution_count": 10
        }
      ]
    },
    {
      "cell_type": "code",
      "metadata": {
        "id": "a1WqyfKuMj5Z",
        "colab_type": "code",
        "colab": {
          "base_uri": "https://localhost:8080/",
          "height": 35
        },
        "outputId": "5b62a0a9-8802-4c66-d6ca-312399971825"
      },
      "source": [
        "hex(id(2))"
      ],
      "execution_count": null,
      "outputs": [
        {
          "output_type": "execute_result",
          "data": {
            "application/vnd.google.colaboratory.intrinsic+json": {
              "type": "string"
            },
            "text/plain": [
              "'0xa68ae0'"
            ]
          },
          "metadata": {
            "tags": []
          },
          "execution_count": 19
        }
      ]
    },
    {
      "cell_type": "markdown",
      "metadata": {
        "id": "PIio4NeQHa8Y",
        "colab_type": "text"
      },
      "source": [
        "##### Shared Extended Scopes"
      ]
    },
    {
      "cell_type": "markdown",
      "metadata": {
        "id": "gge7wQLmHa8Y",
        "colab_type": "text"
      },
      "source": [
        "We can set up nonlocal variables in different inner functionsd that reference the same outer scope variable, i.e. we have a free variable that is shared between two closures. This works because both non local variables and the outer local variable all point back to the same cell object."
      ]
    },
    {
      "cell_type": "code",
      "metadata": {
        "id": "JSG-OMzpHa8Z",
        "colab_type": "code",
        "colab": {}
      },
      "source": [
        "def outer():\n",
        "    count = 0\n",
        "    def inc1():\n",
        "        nonlocal count\n",
        "        count += 1\n",
        "        return count\n",
        "    \n",
        "    def inc2():\n",
        "        nonlocal count\n",
        "        count += 1\n",
        "        return count\n",
        "    \n",
        "    return inc1, inc2"
      ],
      "execution_count": null,
      "outputs": []
    },
    {
      "cell_type": "code",
      "metadata": {
        "id": "z96XKBuLHa8c",
        "colab_type": "code",
        "colab": {}
      },
      "source": [
        "fn1, fn2 = outer()"
      ],
      "execution_count": null,
      "outputs": []
    },
    {
      "cell_type": "code",
      "metadata": {
        "id": "dfcAoRsrO8EM",
        "colab_type": "code",
        "colab": {
          "base_uri": "https://localhost:8080/",
          "height": 34
        },
        "outputId": "bb420c19-f4b2-4c64-c101-01130ac7773a"
      },
      "source": [
        "fn1.__code__.co_freevars , fn2.__code__.co_freevars"
      ],
      "execution_count": null,
      "outputs": [
        {
          "output_type": "execute_result",
          "data": {
            "text/plain": [
              "(('count',), ('count',))"
            ]
          },
          "metadata": {
            "tags": []
          },
          "execution_count": 23
        }
      ]
    },
    {
      "cell_type": "code",
      "metadata": {
        "id": "DCCgIQz_Ha8e",
        "colab_type": "code",
        "colab": {
          "base_uri": "https://localhost:8080/",
          "height": 51
        },
        "outputId": "b3657d27-10e2-411a-81ad-a66f9a10133a"
      },
      "source": [
        "fn1.__closure__, fn2.__closure__"
      ],
      "execution_count": null,
      "outputs": [
        {
          "output_type": "execute_result",
          "data": {
            "text/plain": [
              "((<cell at 0x7f1a04547738: int object at 0xa68aa0>,),\n",
              " (<cell at 0x7f1a04547738: int object at 0xa68aa0>,))"
            ]
          },
          "metadata": {
            "tags": []
          },
          "execution_count": 24
        }
      ]
    },
    {
      "cell_type": "markdown",
      "metadata": {
        "id": "XiPxXJZWHa8h",
        "colab_type": "text"
      },
      "source": [
        "As you can see here, the `count` label points to the same cell."
      ]
    },
    {
      "cell_type": "code",
      "metadata": {
        "id": "57W8aXyyHa8h",
        "colab_type": "code",
        "colab": {
          "base_uri": "https://localhost:8080/",
          "height": 34
        },
        "outputId": "ffc91c1f-dacb-44c6-a6a1-7ff937bc7744"
      },
      "source": [
        "fn1()"
      ],
      "execution_count": null,
      "outputs": [
        {
          "output_type": "execute_result",
          "data": {
            "text/plain": [
              "1"
            ]
          },
          "metadata": {
            "tags": []
          },
          "execution_count": 25
        }
      ]
    },
    {
      "cell_type": "code",
      "metadata": {
        "id": "JBy_a5wAPbgC",
        "colab_type": "code",
        "colab": {
          "base_uri": "https://localhost:8080/",
          "height": 51
        },
        "outputId": "e7d01e05-7e21-4bdf-977e-af07d49e3703"
      },
      "source": [
        "fn1.__closure__, fn2.__closure__"
      ],
      "execution_count": null,
      "outputs": [
        {
          "output_type": "execute_result",
          "data": {
            "text/plain": [
              "((<cell at 0x7f1a04547738: int object at 0xa68ac0>,),\n",
              " (<cell at 0x7f1a04547738: int object at 0xa68ac0>,))"
            ]
          },
          "metadata": {
            "tags": []
          },
          "execution_count": 26
        }
      ]
    },
    {
      "cell_type": "code",
      "metadata": {
        "id": "wO5NYnixHa8l",
        "colab_type": "code",
        "colab": {
          "base_uri": "https://localhost:8080/",
          "height": 34
        },
        "outputId": "8925a9d0-99d0-4c3f-a9b9-5cee6eefc312"
      },
      "source": [
        "fn1()"
      ],
      "execution_count": null,
      "outputs": [
        {
          "output_type": "execute_result",
          "data": {
            "text/plain": [
              "2"
            ]
          },
          "metadata": {
            "tags": []
          },
          "execution_count": 27
        }
      ]
    },
    {
      "cell_type": "code",
      "metadata": {
        "id": "5Tmu4ylNPhK-",
        "colab_type": "code",
        "colab": {
          "base_uri": "https://localhost:8080/",
          "height": 35
        },
        "outputId": "2557d9f6-4222-4de1-de92-96e8b1d06f5c"
      },
      "source": [
        "hex(id(2))"
      ],
      "execution_count": null,
      "outputs": [
        {
          "output_type": "execute_result",
          "data": {
            "application/vnd.google.colaboratory.intrinsic+json": {
              "type": "string"
            },
            "text/plain": [
              "'0xa68ae0'"
            ]
          },
          "metadata": {
            "tags": []
          },
          "execution_count": 29
        }
      ]
    },
    {
      "cell_type": "code",
      "metadata": {
        "id": "4IK2xTfrPe4m",
        "colab_type": "code",
        "colab": {
          "base_uri": "https://localhost:8080/",
          "height": 51
        },
        "outputId": "ef9fe159-2bfb-4af8-e988-8a4a6ef27668"
      },
      "source": [
        "fn1.__closure__, fn2.__closure__"
      ],
      "execution_count": null,
      "outputs": [
        {
          "output_type": "execute_result",
          "data": {
            "text/plain": [
              "((<cell at 0x7f1a04547738: int object at 0xa68ae0>,),\n",
              " (<cell at 0x7f1a04547738: int object at 0xa68ae0>,))"
            ]
          },
          "metadata": {
            "tags": []
          },
          "execution_count": 28
        }
      ]
    },
    {
      "cell_type": "code",
      "metadata": {
        "id": "7R8pstMQHa8n",
        "colab_type": "code",
        "colab": {},
        "outputId": "7c3c083c-796e-4917-dda9-6d476e674a55"
      },
      "source": [
        "fn2()"
      ],
      "execution_count": null,
      "outputs": [
        {
          "output_type": "execute_result",
          "data": {
            "text/plain": [
              "3"
            ]
          },
          "metadata": {
            "tags": []
          },
          "execution_count": 18
        }
      ]
    },
    {
      "cell_type": "code",
      "metadata": {
        "id": "Lh7VJEY0Qoyg",
        "colab_type": "code",
        "colab": {}
      },
      "source": [
        "def pow(n):\n",
        "  def inner(x):\n",
        "    return x ** n\n",
        "  return inner"
      ],
      "execution_count": null,
      "outputs": []
    },
    {
      "cell_type": "code",
      "metadata": {
        "id": "xf6gLJbhQoCD",
        "colab_type": "code",
        "colab": {}
      },
      "source": [
        "square = pow(2)"
      ],
      "execution_count": null,
      "outputs": []
    },
    {
      "cell_type": "code",
      "metadata": {
        "id": "CGUO6J56Q91l",
        "colab_type": "code",
        "colab": {
          "base_uri": "https://localhost:8080/",
          "height": 34
        },
        "outputId": "59f6048f-ce55-4eab-ad0a-c50fe1496f9b"
      },
      "source": [
        "square.__closure__"
      ],
      "execution_count": null,
      "outputs": [
        {
          "output_type": "execute_result",
          "data": {
            "text/plain": [
              "(<cell at 0x7f1a03cbe198: int object at 0xa68ae0>,)"
            ]
          },
          "metadata": {
            "tags": []
          },
          "execution_count": 50
        }
      ]
    },
    {
      "cell_type": "code",
      "metadata": {
        "id": "kD7BTm6yQxa0",
        "colab_type": "code",
        "colab": {
          "base_uri": "https://localhost:8080/",
          "height": 35
        },
        "outputId": "4e6091b3-6b04-44e1-d068-7cdc7d99d08d"
      },
      "source": [
        "hex(id(2))"
      ],
      "execution_count": null,
      "outputs": [
        {
          "output_type": "execute_result",
          "data": {
            "application/vnd.google.colaboratory.intrinsic+json": {
              "type": "string"
            },
            "text/plain": [
              "'0xa68ae0'"
            ]
          },
          "metadata": {
            "tags": []
          },
          "execution_count": 48
        }
      ]
    },
    {
      "cell_type": "code",
      "metadata": {
        "id": "6Z55LRZERXnC",
        "colab_type": "code",
        "colab": {}
      },
      "source": [
        "cube = pow(3)"
      ],
      "execution_count": null,
      "outputs": []
    },
    {
      "cell_type": "code",
      "metadata": {
        "id": "VyB1Ksa8RX_j",
        "colab_type": "code",
        "colab": {
          "base_uri": "https://localhost:8080/",
          "height": 34
        },
        "outputId": "6ff8a9b0-da1a-427c-a8d0-c3c85f115044"
      },
      "source": [
        "cube.__closure__"
      ],
      "execution_count": null,
      "outputs": [
        {
          "output_type": "execute_result",
          "data": {
            "text/plain": [
              "(<cell at 0x7f1a04547dc8: int object at 0xa68b00>,)"
            ]
          },
          "metadata": {
            "tags": []
          },
          "execution_count": 54
        }
      ]
    },
    {
      "cell_type": "markdown",
      "metadata": {
        "id": "Gg83qkgCS-nD",
        "colab_type": "text"
      },
      "source": [
        "It has different cell address which pointing to different values<br>\n",
        "Every time you call enclosed function, it points to different cell "
      ]
    },
    {
      "cell_type": "code",
      "metadata": {
        "id": "P3DbkyLBRXPM",
        "colab_type": "code",
        "colab": {
          "base_uri": "https://localhost:8080/",
          "height": 35
        },
        "outputId": "559bb569-3bcd-4e41-e051-204bf7d6d70f"
      },
      "source": [
        "hex(id(3))"
      ],
      "execution_count": null,
      "outputs": [
        {
          "output_type": "execute_result",
          "data": {
            "application/vnd.google.colaboratory.intrinsic+json": {
              "type": "string"
            },
            "text/plain": [
              "'0xa68b00'"
            ]
          },
          "metadata": {
            "tags": []
          },
          "execution_count": 56
        }
      ]
    },
    {
      "cell_type": "code",
      "metadata": {
        "id": "-J4PZwYiTNNI",
        "colab_type": "code",
        "colab": {
          "base_uri": "https://localhost:8080/",
          "height": 34
        },
        "outputId": "ff22a6d2-db4a-4373-da01-a645d91f2e49"
      },
      "source": [
        "cube(2)"
      ],
      "execution_count": null,
      "outputs": [
        {
          "output_type": "execute_result",
          "data": {
            "text/plain": [
              "8"
            ]
          },
          "metadata": {
            "tags": []
          },
          "execution_count": 57
        }
      ]
    },
    {
      "cell_type": "markdown",
      "metadata": {
        "id": "iPYxwtjGHa8p",
        "colab_type": "text"
      },
      "source": [
        "### Multiple Instances of Closures"
      ]
    },
    {
      "cell_type": "markdown",
      "metadata": {
        "id": "ahKq-LrfHa8p",
        "colab_type": "text"
      },
      "source": [
        "Recall that **every** time a function is called, a **new** local scope is created."
      ]
    },
    {
      "cell_type": "code",
      "metadata": {
        "id": "OkoV7FW0Ha8q",
        "colab_type": "code",
        "colab": {}
      },
      "source": [
        "from time import perf_counter\n",
        "\n",
        "def func():\n",
        "    x = perf_counter()\n",
        "    print(x, id(x))"
      ],
      "execution_count": null,
      "outputs": []
    },
    {
      "cell_type": "code",
      "metadata": {
        "id": "jSqXk3e-Ha8s",
        "colab_type": "code",
        "colab": {},
        "outputId": "3cf7fd7b-c57e-49bc-ceb8-62439e49b758"
      },
      "source": [
        "func()"
      ],
      "execution_count": null,
      "outputs": [
        {
          "output_type": "stream",
          "text": [
            "2.7089464582150425e-07 1508916709680\n"
          ],
          "name": "stdout"
        }
      ]
    },
    {
      "cell_type": "code",
      "metadata": {
        "id": "JRhcGzFvHa8u",
        "colab_type": "code",
        "colab": {},
        "outputId": "6f3a4c0e-0e35-4eab-fc38-da363fa3f86f"
      },
      "source": [
        "func()"
      ],
      "execution_count": null,
      "outputs": [
        {
          "output_type": "stream",
          "text": [
            "0.011222623387093279 1508916709680\n"
          ],
          "name": "stdout"
        }
      ]
    },
    {
      "cell_type": "markdown",
      "metadata": {
        "id": "c9muaVhuHa8x",
        "colab_type": "text"
      },
      "source": [
        "The same thing happens with closures, they have their own extended scope every time the closure is created:"
      ]
    },
    {
      "cell_type": "code",
      "metadata": {
        "id": "KUqDvhilHa8y",
        "colab_type": "code",
        "colab": {}
      },
      "source": [
        "def pow(n):\n",
        "    # n is local to pow\n",
        "    def inner(x):\n",
        "        # x is local to inner\n",
        "        return x ** n\n",
        "    return inner"
      ],
      "execution_count": null,
      "outputs": []
    },
    {
      "cell_type": "markdown",
      "metadata": {
        "id": "xg3KALnLHa81",
        "colab_type": "text"
      },
      "source": [
        "In this example, `n`, in the function `inner` is a free variable, so we have a closure that contains `inner` and the free variable `n`"
      ]
    },
    {
      "cell_type": "code",
      "metadata": {
        "id": "HNvbQiGiHa82",
        "colab_type": "code",
        "colab": {}
      },
      "source": [
        "square = pow(2)"
      ],
      "execution_count": null,
      "outputs": []
    },
    {
      "cell_type": "code",
      "metadata": {
        "id": "Ep_ROp85Ha85",
        "colab_type": "code",
        "colab": {},
        "outputId": "f3552ed5-1eda-4258-ad61-f9169492c23e"
      },
      "source": [
        "square(5)"
      ],
      "execution_count": null,
      "outputs": [
        {
          "output_type": "execute_result",
          "data": {
            "text/plain": [
              "25"
            ]
          },
          "metadata": {
            "tags": []
          },
          "execution_count": 24
        }
      ]
    },
    {
      "cell_type": "code",
      "metadata": {
        "id": "0LD3qYvMHa87",
        "colab_type": "code",
        "colab": {}
      },
      "source": [
        "cube = pow(3)"
      ],
      "execution_count": null,
      "outputs": []
    },
    {
      "cell_type": "code",
      "metadata": {
        "id": "jpmf925HHa89",
        "colab_type": "code",
        "colab": {},
        "outputId": "a52b9f38-6a7d-403c-b4a5-0cb15f82cea0"
      },
      "source": [
        "cube(5)"
      ],
      "execution_count": null,
      "outputs": [
        {
          "output_type": "execute_result",
          "data": {
            "text/plain": [
              "125"
            ]
          },
          "metadata": {
            "tags": []
          },
          "execution_count": 26
        }
      ]
    },
    {
      "cell_type": "markdown",
      "metadata": {
        "id": "Z72fOLJsHa9B",
        "colab_type": "text"
      },
      "source": [
        "We can see that the cell used for the free variable in both cases is **different**:"
      ]
    },
    {
      "cell_type": "code",
      "metadata": {
        "id": "_n7YgAtyHa9B",
        "colab_type": "code",
        "colab": {},
        "outputId": "545482cb-acf8-489c-baae-1bab828cd8bf"
      },
      "source": [
        "square.__closure__"
      ],
      "execution_count": null,
      "outputs": [
        {
          "output_type": "execute_result",
          "data": {
            "text/plain": [
              "(<cell at 0x0000015F5299B8B8: int object at 0x00000000506FEC90>,)"
            ]
          },
          "metadata": {
            "tags": []
          },
          "execution_count": 27
        }
      ]
    },
    {
      "cell_type": "code",
      "metadata": {
        "id": "eHfes_VIHa9G",
        "colab_type": "code",
        "colab": {},
        "outputId": "b253c677-c346-4a58-c2d0-32c01c746f97"
      },
      "source": [
        "cube.__closure__"
      ],
      "execution_count": null,
      "outputs": [
        {
          "output_type": "execute_result",
          "data": {
            "text/plain": [
              "(<cell at 0x0000015F5299BAC8: int object at 0x00000000506FECB0>,)"
            ]
          },
          "metadata": {
            "tags": []
          },
          "execution_count": 28
        }
      ]
    },
    {
      "cell_type": "markdown",
      "metadata": {
        "id": "FksK7vUfHa9I",
        "colab_type": "text"
      },
      "source": [
        "In fact, these functions (`square` and `cube`) are **not** the same functions, even though they were \"created\" from the same `power` function:"
      ]
    },
    {
      "cell_type": "code",
      "metadata": {
        "id": "hYDbRe0BHa9I",
        "colab_type": "code",
        "colab": {},
        "outputId": "16c4254c-7f10-444a-cdd7-f0a449263afd"
      },
      "source": [
        "id(square), id(cube)"
      ],
      "execution_count": null,
      "outputs": [
        {
          "output_type": "execute_result",
          "data": {
            "text/plain": [
              "(1508919294560, 1508919295784)"
            ]
          },
          "metadata": {
            "tags": []
          },
          "execution_count": 29
        }
      ]
    },
    {
      "cell_type": "markdown",
      "metadata": {
        "collapsed": true,
        "id": "P12EaFDcHa9K",
        "colab_type": "text"
      },
      "source": [
        "### Beware!"
      ]
    },
    {
      "cell_type": "markdown",
      "metadata": {
        "id": "YOIpAvGPHa9L",
        "colab_type": "text"
      },
      "source": [
        "Remember the captured variable is a reference established when the closure is created, but the value is looked up only once the function is called?"
      ]
    },
    {
      "cell_type": "markdown",
      "metadata": {
        "id": "DmYrUw6bHa9L",
        "colab_type": "text"
      },
      "source": [
        "This can create very subtle bugs in your program."
      ]
    },
    {
      "cell_type": "markdown",
      "metadata": {
        "id": "fcgs7skMHa9L",
        "colab_type": "text"
      },
      "source": [
        "Consider the following example where we want to create some functions that can add 1, 2, 3, 4 and to whatever is passed to them."
      ]
    },
    {
      "cell_type": "markdown",
      "metadata": {
        "id": "vYVYDrDLHa9M",
        "colab_type": "text"
      },
      "source": [
        "We could do the following:"
      ]
    },
    {
      "cell_type": "code",
      "metadata": {
        "id": "dSOr9wh-Ha9M",
        "colab_type": "code",
        "colab": {}
      },
      "source": [
        "def adder(n):\n",
        "    def inner(x):\n",
        "        return x + n\n",
        "    return inner"
      ],
      "execution_count": null,
      "outputs": []
    },
    {
      "cell_type": "code",
      "metadata": {
        "id": "ozhCbT8QHa9P",
        "colab_type": "code",
        "colab": {}
      },
      "source": [
        "add_1 = adder(1)\n",
        "add_2 = adder(2)\n",
        "add_3 = adder(3)\n",
        "add_4 = adder(4)"
      ],
      "execution_count": null,
      "outputs": []
    },
    {
      "cell_type": "code",
      "metadata": {
        "id": "aWrVG9FyV6Fm",
        "colab_type": "code",
        "colab": {
          "base_uri": "https://localhost:8080/",
          "height": 85
        },
        "outputId": "26e40b19-c97e-459e-a815-28c8d35f33b5"
      },
      "source": [
        "add_1.__closure__, add_2.__closure__, add_3.__closure__, add_4.__closure__"
      ],
      "execution_count": null,
      "outputs": [
        {
          "output_type": "execute_result",
          "data": {
            "text/plain": [
              "((<cell at 0x7f1a045478e8: int object at 0xa68ac0>,),\n",
              " (<cell at 0x7f19fbf25e28: int object at 0xa68ae0>,),\n",
              " (<cell at 0x7f19fbf25eb8: int object at 0xa68b00>,),\n",
              " (<cell at 0x7f19fbf25fa8: int object at 0xa68b20>,))"
            ]
          },
          "metadata": {
            "tags": []
          },
          "execution_count": 61
        }
      ]
    },
    {
      "cell_type": "markdown",
      "metadata": {
        "id": "yQqnmtOpWKjP",
        "colab_type": "text"
      },
      "source": [
        "We have 3 different cells with 3 different free variable."
      ]
    },
    {
      "cell_type": "code",
      "metadata": {
        "id": "ZDyXmVXAHa9R",
        "colab_type": "code",
        "colab": {
          "base_uri": "https://localhost:8080/",
          "height": 34
        },
        "outputId": "7d3f79c5-b6ff-4b4f-9d8c-d99db285620a"
      },
      "source": [
        "add_1(10), add_2(10), add_3(10), add_4(10)"
      ],
      "execution_count": null,
      "outputs": [
        {
          "output_type": "execute_result",
          "data": {
            "text/plain": [
              "(11, 12, 13, 14)"
            ]
          },
          "metadata": {
            "tags": []
          },
          "execution_count": 60
        }
      ]
    },
    {
      "cell_type": "markdown",
      "metadata": {
        "id": "H_PISFUWHa9U",
        "colab_type": "text"
      },
      "source": [
        "But suppose we want to get a little fancier and do it as follows:"
      ]
    },
    {
      "cell_type": "code",
      "metadata": {
        "id": "sNJuLmmdHa9U",
        "colab_type": "code",
        "colab": {}
      },
      "source": [
        "def create_adders():\n",
        "    adders = []\n",
        "    for n in range(1, 5):\n",
        "        adders.append(lambda x: x + n)\n",
        "    return adders"
      ],
      "execution_count": null,
      "outputs": []
    },
    {
      "cell_type": "code",
      "metadata": {
        "id": "pQaMz7ltHa9W",
        "colab_type": "code",
        "colab": {}
      },
      "source": [
        "adders = create_adders()"
      ],
      "execution_count": null,
      "outputs": []
    },
    {
      "cell_type": "markdown",
      "metadata": {
        "id": "D44uPcV-Ha9Z",
        "colab_type": "text"
      },
      "source": [
        "Now technically we have 4 functions in the `adders` list:"
      ]
    },
    {
      "cell_type": "code",
      "metadata": {
        "id": "ZG7XtBl-Ha9a",
        "colab_type": "code",
        "colab": {},
        "outputId": "22085204-a066-4a5d-a4f8-8bbfc3cfcd03"
      },
      "source": [
        "adders"
      ],
      "execution_count": null,
      "outputs": [
        {
          "output_type": "execute_result",
          "data": {
            "text/plain": [
              "[<function __main__.create_adders.<locals>.<lambda>>,\n",
              " <function __main__.create_adders.<locals>.<lambda>>,\n",
              " <function __main__.create_adders.<locals>.<lambda>>,\n",
              " <function __main__.create_adders.<locals>.<lambda>>]"
            ]
          },
          "metadata": {
            "tags": []
          },
          "execution_count": 35
        }
      ]
    },
    {
      "cell_type": "markdown",
      "metadata": {
        "id": "_u6t5Y4AHa9d",
        "colab_type": "text"
      },
      "source": [
        "The first one should add 1 to the value we pass it, the second should add 2, and so on."
      ]
    },
    {
      "cell_type": "code",
      "metadata": {
        "id": "11aNw38_Ha9e",
        "colab_type": "code",
        "colab": {},
        "outputId": "01ed0328-68a9-460e-931c-ffb3bbf14c3c"
      },
      "source": [
        "adders[3](10)"
      ],
      "execution_count": null,
      "outputs": [
        {
          "output_type": "execute_result",
          "data": {
            "text/plain": [
              "14"
            ]
          },
          "metadata": {
            "tags": []
          },
          "execution_count": 36
        }
      ]
    },
    {
      "cell_type": "markdown",
      "metadata": {
        "id": "U149r7oiHa9j",
        "colab_type": "text"
      },
      "source": [
        "Yep, that works for the 4th function."
      ]
    },
    {
      "cell_type": "code",
      "metadata": {
        "id": "EoIjiFCxHa9j",
        "colab_type": "code",
        "colab": {},
        "outputId": "1ce20188-352e-4f09-a39e-332be80a84bb"
      },
      "source": [
        "adders[0](10)"
      ],
      "execution_count": null,
      "outputs": [
        {
          "output_type": "execute_result",
          "data": {
            "text/plain": [
              "14"
            ]
          },
          "metadata": {
            "tags": []
          },
          "execution_count": 37
        }
      ]
    },
    {
      "cell_type": "markdown",
      "metadata": {
        "id": "CJNlnqI6Ha9m",
        "colab_type": "text"
      },
      "source": [
        "Uh Oh - what happened? In fact we get the same behavior from every one of those functions:"
      ]
    },
    {
      "cell_type": "code",
      "metadata": {
        "id": "0WhJHZ1IHa9n",
        "colab_type": "code",
        "colab": {},
        "outputId": "f1b48910-892d-427d-95ac-853d71686789"
      },
      "source": [
        "adders[0](10), adders[1](10), adders[2](10), adders[3](10)"
      ],
      "execution_count": null,
      "outputs": [
        {
          "output_type": "execute_result",
          "data": {
            "text/plain": [
              "(14, 14, 14, 14)"
            ]
          },
          "metadata": {
            "tags": []
          },
          "execution_count": 38
        }
      ]
    },
    {
      "cell_type": "markdown",
      "metadata": {
        "id": "mYMOpZ0NHa9p",
        "colab_type": "text"
      },
      "source": [
        "Remember what I said about when the variable is captured and when the value is looked up?"
      ]
    },
    {
      "cell_type": "markdown",
      "metadata": {
        "id": "SPQCWSsvHa9q",
        "colab_type": "text"
      },
      "source": [
        "When the lambdas are **created** their `n` is the `n` used in the loop - the **same** `n`!!"
      ]
    },
    {
      "cell_type": "code",
      "metadata": {
        "id": "l922FW2BHa9q",
        "colab_type": "code",
        "colab": {},
        "outputId": "82f45185-91ae-4ed2-d557-76f55cae6605"
      },
      "source": [
        "adders[0].__code__.co_freevars"
      ],
      "execution_count": null,
      "outputs": [
        {
          "output_type": "execute_result",
          "data": {
            "text/plain": [
              "('n',)"
            ]
          },
          "metadata": {
            "tags": []
          },
          "execution_count": 39
        }
      ]
    },
    {
      "cell_type": "code",
      "metadata": {
        "id": "yz82rSp9Ha9u",
        "colab_type": "code",
        "colab": {},
        "outputId": "c347ec64-c828-44ee-a995-577bc630e98c"
      },
      "source": [
        "adders[0].__closure__"
      ],
      "execution_count": null,
      "outputs": [
        {
          "output_type": "execute_result",
          "data": {
            "text/plain": [
              "(<cell at 0x0000015F5299B3D8: int object at 0x00000000506FECD0>,)"
            ]
          },
          "metadata": {
            "tags": []
          },
          "execution_count": 40
        }
      ]
    },
    {
      "cell_type": "code",
      "metadata": {
        "id": "oJNZn7wgHa9w",
        "colab_type": "code",
        "colab": {},
        "outputId": "7b920e84-4e69-4c4e-82bd-3221762defc1"
      },
      "source": [
        "adders[1].__closure__"
      ],
      "execution_count": null,
      "outputs": [
        {
          "output_type": "execute_result",
          "data": {
            "text/plain": [
              "(<cell at 0x0000015F5299B3D8: int object at 0x00000000506FECD0>,)"
            ]
          },
          "metadata": {
            "tags": []
          },
          "execution_count": 41
        }
      ]
    },
    {
      "cell_type": "code",
      "metadata": {
        "id": "SquCGoWdHa9y",
        "colab_type": "code",
        "colab": {},
        "outputId": "75c5cf70-2234-4389-8b8c-dadea6e3cbae"
      },
      "source": [
        "adders[2].__closure__"
      ],
      "execution_count": null,
      "outputs": [
        {
          "output_type": "execute_result",
          "data": {
            "text/plain": [
              "(<cell at 0x0000015F5299B3D8: int object at 0x00000000506FECD0>,)"
            ]
          },
          "metadata": {
            "tags": []
          },
          "execution_count": 42
        }
      ]
    },
    {
      "cell_type": "code",
      "metadata": {
        "id": "G9sV-ps-Ha90",
        "colab_type": "code",
        "colab": {},
        "outputId": "a0e8d21f-7b9e-4d86-f1da-03a091fac197"
      },
      "source": [
        "adders[3].__closure__"
      ],
      "execution_count": null,
      "outputs": [
        {
          "output_type": "execute_result",
          "data": {
            "text/plain": [
              "(<cell at 0x0000015F5299B3D8: int object at 0x00000000506FECD0>,)"
            ]
          },
          "metadata": {
            "tags": []
          },
          "execution_count": 43
        }
      ]
    },
    {
      "cell_type": "markdown",
      "metadata": {
        "id": "m0h0lpzRHa94",
        "colab_type": "text"
      },
      "source": [
        "So, by the time we call `adder[i]`, the free variable `n` (shared between all adders) is set to 4."
      ]
    },
    {
      "cell_type": "code",
      "metadata": {
        "id": "Si3BEUXjHa94",
        "colab_type": "code",
        "colab": {},
        "outputId": "37c52005-cb7d-4786-b558-dc65ddc624ad"
      },
      "source": [
        "hex(id(4))"
      ],
      "execution_count": null,
      "outputs": [
        {
          "output_type": "execute_result",
          "data": {
            "text/plain": [
              "'0x506fecd0'"
            ]
          },
          "metadata": {
            "tags": []
          },
          "execution_count": 44
        }
      ]
    },
    {
      "cell_type": "markdown",
      "metadata": {
        "id": "Cw508vVCHa96",
        "colab_type": "text"
      },
      "source": [
        "As we can see the memory address of the singleton integer 4, is what that cell is pointint to."
      ]
    },
    {
      "cell_type": "markdown",
      "metadata": {
        "id": "C-QuSuNvHa97",
        "colab_type": "text"
      },
      "source": [
        "If you want to use a loop to do this and not end up using the same cell for each of the free variables, we can use a simple trick that forces the evaluation of `n` at the time the closure is **created**, instead of when the closure function is evaluated.\n",
        "\n",
        "We can do this by creating a parameter for `n` in our lambda whose default value is the current value of `n` - remember from an earlier video that parameter defaults are avaluated when the function is created, not called."
      ]
    },
    {
      "cell_type": "code",
      "metadata": {
        "id": "PcNgL254Ha97",
        "colab_type": "code",
        "colab": {}
      },
      "source": [
        "def create_adders():\n",
        "    adders = []\n",
        "    for n in range(1, 5):\n",
        "        adders.append(lambda x, step=n: x + step)\n",
        "    return adders"
      ],
      "execution_count": null,
      "outputs": []
    },
    {
      "cell_type": "code",
      "metadata": {
        "id": "pum7wZ9rHa9-",
        "colab_type": "code",
        "colab": {}
      },
      "source": [
        "adders = create_adders()"
      ],
      "execution_count": null,
      "outputs": []
    },
    {
      "cell_type": "code",
      "metadata": {
        "id": "FtPSOnx4Ha-B",
        "colab_type": "code",
        "colab": {}
      },
      "source": [
        "adders[0].__closure__"
      ],
      "execution_count": null,
      "outputs": []
    },
    {
      "cell_type": "markdown",
      "metadata": {
        "id": "o9hIkl9jHa-E",
        "colab_type": "text"
      },
      "source": [
        "Why aren't we getting anything in the closure? What about free variables?"
      ]
    },
    {
      "cell_type": "code",
      "metadata": {
        "id": "cgDgkq-gHa-F",
        "colab_type": "code",
        "colab": {},
        "outputId": "7fdec883-1566-45d2-fa2b-b1b5ea91a13b"
      },
      "source": [
        "adders[0].__code__.co_freevars"
      ],
      "execution_count": null,
      "outputs": [
        {
          "output_type": "execute_result",
          "data": {
            "text/plain": [
              "()"
            ]
          },
          "metadata": {
            "tags": []
          },
          "execution_count": 48
        }
      ]
    },
    {
      "cell_type": "markdown",
      "metadata": {
        "id": "8tqY0e9vHa-H",
        "colab_type": "text"
      },
      "source": [
        "Hmm, nothing either... Why?\n",
        "\n",
        "Well, look at the lambda in that loop. Does it reference the variable `n` (other than in the default value)? No. Hence, `n` is **not** a free variable in this case, and our lambda is just a plain lambda, not a closure."
      ]
    },
    {
      "cell_type": "markdown",
      "metadata": {
        "id": "QDcyfcyxHa-I",
        "colab_type": "text"
      },
      "source": [
        "And this code will now work as expected:"
      ]
    },
    {
      "cell_type": "code",
      "metadata": {
        "id": "2xu9qJtOHa-I",
        "colab_type": "code",
        "colab": {},
        "outputId": "6d7aba29-38da-47f9-dc90-fb024492ab40"
      },
      "source": [
        "adders[0](10)"
      ],
      "execution_count": null,
      "outputs": [
        {
          "output_type": "execute_result",
          "data": {
            "text/plain": [
              "11"
            ]
          },
          "metadata": {
            "tags": []
          },
          "execution_count": 49
        }
      ]
    },
    {
      "cell_type": "code",
      "metadata": {
        "id": "O1fQkdeqHa-L",
        "colab_type": "code",
        "colab": {},
        "outputId": "17f71d38-04e0-4369-8b54-7daf3527e11e"
      },
      "source": [
        "adders[1](10)"
      ],
      "execution_count": null,
      "outputs": [
        {
          "output_type": "execute_result",
          "data": {
            "text/plain": [
              "12"
            ]
          },
          "metadata": {
            "tags": []
          },
          "execution_count": 50
        }
      ]
    },
    {
      "cell_type": "code",
      "metadata": {
        "id": "MQTU1HuyHa-O",
        "colab_type": "code",
        "colab": {},
        "outputId": "db727a1e-9c77-4743-c782-63edbf6961f3"
      },
      "source": [
        "adders[2](10)"
      ],
      "execution_count": null,
      "outputs": [
        {
          "output_type": "execute_result",
          "data": {
            "text/plain": [
              "13"
            ]
          },
          "metadata": {
            "tags": []
          },
          "execution_count": 51
        }
      ]
    },
    {
      "cell_type": "code",
      "metadata": {
        "id": "XVqjYfddHa-Q",
        "colab_type": "code",
        "colab": {},
        "outputId": "759f5184-37ba-4e7b-bced-417b2570cfaa"
      },
      "source": [
        "adders[3](10)"
      ],
      "execution_count": null,
      "outputs": [
        {
          "output_type": "execute_result",
          "data": {
            "text/plain": [
              "14"
            ]
          },
          "metadata": {
            "tags": []
          },
          "execution_count": 52
        }
      ]
    },
    {
      "cell_type": "markdown",
      "metadata": {
        "id": "nY5pyGbuHa-S",
        "colab_type": "text"
      },
      "source": [
        "We just need to understand that since the default values are evaluated when the function (lambda in this case) is **created**, the then-current `n` value is assigned to the local variable `step`. So `step` will not change every time the lambda is called, and since n is not referenced inside the function (and therefore evaluated when the lambda is called), `n` is not a free variable."
      ]
    },
    {
      "cell_type": "markdown",
      "metadata": {
        "id": "NHQ9GuvNHa-T",
        "colab_type": "text"
      },
      "source": [
        "#### Nested Closures"
      ]
    },
    {
      "cell_type": "markdown",
      "metadata": {
        "collapsed": true,
        "id": "CgDdMStuHa-T",
        "colab_type": "text"
      },
      "source": [
        "We can also nest closures, as can be seen in this example:"
      ]
    },
    {
      "cell_type": "code",
      "metadata": {
        "id": "pf-Ss1IfHa-U",
        "colab_type": "code",
        "colab": {}
      },
      "source": [
        "def incrementer(n):\n",
        "    def inner(start):\n",
        "        current = start\n",
        "        def inc():\n",
        "            a = 10  # local var\n",
        "            nonlocal current\n",
        "            current += n\n",
        "            return current\n",
        "        return inc\n",
        "    return inner\n",
        "        "
      ],
      "execution_count": null,
      "outputs": []
    },
    {
      "cell_type": "code",
      "metadata": {
        "id": "W_rW6pzFHa-W",
        "colab_type": "code",
        "colab": {}
      },
      "source": [
        "fn = incrementer(2)"
      ],
      "execution_count": null,
      "outputs": []
    },
    {
      "cell_type": "code",
      "metadata": {
        "id": "R0atMmZSHa-c",
        "colab_type": "code",
        "colab": {},
        "outputId": "8edea349-d40e-43f6-f583-56859e3c6492"
      },
      "source": [
        "fn"
      ],
      "execution_count": null,
      "outputs": [
        {
          "output_type": "execute_result",
          "data": {
            "text/plain": [
              "<function __main__.incrementer.<locals>.inner>"
            ]
          },
          "metadata": {
            "tags": []
          },
          "execution_count": 55
        }
      ]
    },
    {
      "cell_type": "code",
      "metadata": {
        "id": "U5oCdQ1mHa-d",
        "colab_type": "code",
        "colab": {},
        "outputId": "375f6f5d-3517-45d9-d018-0ad0e0062f22"
      },
      "source": [
        "fn.__code__.co_freevars"
      ],
      "execution_count": null,
      "outputs": [
        {
          "output_type": "execute_result",
          "data": {
            "text/plain": [
              "('n',)"
            ]
          },
          "metadata": {
            "tags": []
          },
          "execution_count": 56
        }
      ]
    },
    {
      "cell_type": "code",
      "metadata": {
        "id": "pPGzarbGHa-f",
        "colab_type": "code",
        "colab": {},
        "outputId": "f67b4993-e946-4f31-eca4-2f23cbaed803"
      },
      "source": [
        "fn.__closure__"
      ],
      "execution_count": null,
      "outputs": [
        {
          "output_type": "execute_result",
          "data": {
            "text/plain": [
              "(<cell at 0x0000015F5299B798: int object at 0x00000000506FEC90>,)"
            ]
          },
          "metadata": {
            "tags": []
          },
          "execution_count": 57
        }
      ]
    },
    {
      "cell_type": "code",
      "metadata": {
        "id": "zCzp7D_NHa-h",
        "colab_type": "code",
        "colab": {}
      },
      "source": [
        "inc_2 = fn(100)"
      ],
      "execution_count": null,
      "outputs": []
    },
    {
      "cell_type": "code",
      "metadata": {
        "id": "vwCB8IE-Ha-j",
        "colab_type": "code",
        "colab": {},
        "outputId": "fe4de5a6-789c-4746-8464-82cffdeef882"
      },
      "source": [
        "inc_2"
      ],
      "execution_count": null,
      "outputs": [
        {
          "output_type": "execute_result",
          "data": {
            "text/plain": [
              "<function __main__.incrementer.<locals>.inner.<locals>.inc>"
            ]
          },
          "metadata": {
            "tags": []
          },
          "execution_count": 59
        }
      ]
    },
    {
      "cell_type": "code",
      "metadata": {
        "id": "_RzG0ygWHa-k",
        "colab_type": "code",
        "colab": {},
        "outputId": "09aabc84-8773-46a7-a6ed-e69cf2daf1d0"
      },
      "source": [
        "inc_2.__code__.co_freevars"
      ],
      "execution_count": null,
      "outputs": [
        {
          "output_type": "execute_result",
          "data": {
            "text/plain": [
              "('current', 'n')"
            ]
          },
          "metadata": {
            "tags": []
          },
          "execution_count": 60
        }
      ]
    },
    {
      "cell_type": "code",
      "metadata": {
        "id": "Z2JjJ-k4Ha-m",
        "colab_type": "code",
        "colab": {},
        "outputId": "dc6cf6b1-23be-4195-8cd4-1ef1165189bb"
      },
      "source": [
        "inc_2.__closure__"
      ],
      "execution_count": null,
      "outputs": [
        {
          "output_type": "execute_result",
          "data": {
            "text/plain": [
              "(<cell at 0x0000015F5299B318: int object at 0x00000000506FF8D0>,\n",
              " <cell at 0x0000015F5299B798: int object at 0x00000000506FEC90>)"
            ]
          },
          "metadata": {
            "tags": []
          },
          "execution_count": 61
        }
      ]
    },
    {
      "cell_type": "markdown",
      "metadata": {
        "id": "g7AK_O8JHa-n",
        "colab_type": "text"
      },
      "source": [
        "Here you can see that the second free variable `n`, is pointing to the same cell as the free variable in `fn`."
      ]
    },
    {
      "cell_type": "markdown",
      "metadata": {
        "id": "CgSCn-_FHa-o",
        "colab_type": "text"
      },
      "source": [
        "Note that **a** is a local variable, and is not considered a free variable."
      ]
    },
    {
      "cell_type": "markdown",
      "metadata": {
        "id": "g0Sswe9OHa-o",
        "colab_type": "text"
      },
      "source": [
        "And we can call the closures as follows:"
      ]
    },
    {
      "cell_type": "code",
      "metadata": {
        "id": "XYTFhaD8Ha-o",
        "colab_type": "code",
        "colab": {},
        "outputId": "17135e5d-a51f-4c32-f34f-88b94b54c391"
      },
      "source": [
        "inc_2()"
      ],
      "execution_count": null,
      "outputs": [
        {
          "output_type": "execute_result",
          "data": {
            "text/plain": [
              "102"
            ]
          },
          "metadata": {
            "tags": []
          },
          "execution_count": 62
        }
      ]
    },
    {
      "cell_type": "code",
      "metadata": {
        "id": "XMal4bcQHa-s",
        "colab_type": "code",
        "colab": {},
        "outputId": "1ce49368-14b8-425f-8878-788df034c205"
      },
      "source": [
        "inc_2()"
      ],
      "execution_count": null,
      "outputs": [
        {
          "output_type": "execute_result",
          "data": {
            "text/plain": [
              "104"
            ]
          },
          "metadata": {
            "tags": []
          },
          "execution_count": 63
        }
      ]
    },
    {
      "cell_type": "code",
      "metadata": {
        "id": "dNGP1aMKHa-u",
        "colab_type": "code",
        "colab": {}
      },
      "source": [
        "inc_3 = incrementer(3)(200)"
      ],
      "execution_count": null,
      "outputs": []
    },
    {
      "cell_type": "code",
      "metadata": {
        "id": "UmzyKSqjHa-v",
        "colab_type": "code",
        "colab": {},
        "outputId": "49528623-427d-48aa-9c12-ea21c09f0826"
      },
      "source": [
        "inc_3()"
      ],
      "execution_count": null,
      "outputs": [
        {
          "output_type": "execute_result",
          "data": {
            "text/plain": [
              "203"
            ]
          },
          "metadata": {
            "tags": []
          },
          "execution_count": 65
        }
      ]
    },
    {
      "cell_type": "code",
      "metadata": {
        "id": "LMQ5mScZHa-y",
        "colab_type": "code",
        "colab": {},
        "outputId": "fa14ff03-7907-4f35-d55a-507d044741bb"
      },
      "source": [
        "inc_3()"
      ],
      "execution_count": null,
      "outputs": [
        {
          "output_type": "execute_result",
          "data": {
            "text/plain": [
              "206"
            ]
          },
          "metadata": {
            "tags": []
          },
          "execution_count": 66
        }
      ]
    }
  ]
}