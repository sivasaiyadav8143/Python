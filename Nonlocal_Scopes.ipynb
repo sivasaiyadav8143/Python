{
  "nbformat": 4,
  "nbformat_minor": 0,
  "metadata": {
    "kernelspec": {
      "display_name": "Python 3",
      "language": "python",
      "name": "python3"
    },
    "language_info": {
      "codemirror_mode": {
        "name": "ipython",
        "version": 3
      },
      "file_extension": ".py",
      "mimetype": "text/x-python",
      "name": "python",
      "nbconvert_exporter": "python",
      "pygments_lexer": "ipython3",
      "version": "3.6.2"
    },
    "colab": {
      "name": "Nonlocal Scopes.ipynb",
      "provenance": [],
      "include_colab_link": true
    }
  },
  "cells": [
    {
      "cell_type": "markdown",
      "metadata": {
        "id": "view-in-github",
        "colab_type": "text"
      },
      "source": [
        "<a href=\"https://colab.research.google.com/github/sivasaiyadav8143/Python/blob/master/Nonlocal_Scopes.ipynb\" target=\"_parent\"><img src=\"https://colab.research.google.com/assets/colab-badge.svg\" alt=\"Open In Colab\"/></a>"
      ]
    },
    {
      "cell_type": "markdown",
      "metadata": {
        "id": "BPX4KkJOh6nm",
        "colab_type": "text"
      },
      "source": [
        "### Nonlocal Scopes"
      ]
    },
    {
      "cell_type": "markdown",
      "metadata": {
        "id": "6qQKua7zh6nq",
        "colab_type": "text"
      },
      "source": [
        "Functions defined inside another function(nested functions) can reference variables from that enclosing scope, just like functions can reference variables from the global scope."
      ]
    },
    {
      "cell_type": "code",
      "metadata": {
        "id": "ABFdRHduh6nw",
        "colab_type": "code",
        "colab": {}
      },
      "source": [
        "def outer_func():\n",
        "    x = 'hello'\n",
        "    \n",
        "    def inner_func():\n",
        "        print(x)\n",
        "    \n",
        "    inner_func()"
      ],
      "execution_count": null,
      "outputs": []
    },
    {
      "cell_type": "code",
      "metadata": {
        "id": "pOtHnUA-h6oA",
        "colab_type": "code",
        "colab": {},
        "outputId": "1c882214-80af-408a-c344-7d7c4972edce"
      },
      "source": [
        "outer_func()"
      ],
      "execution_count": null,
      "outputs": [
        {
          "output_type": "stream",
          "text": [
            "hello\n"
          ],
          "name": "stdout"
        }
      ]
    },
    {
      "cell_type": "markdown",
      "metadata": {
        "id": "vhQfRw5Ph6oQ",
        "colab_type": "text"
      },
      "source": [
        "In fact, any level of nesting is supported since Python just keeps looking in enclosing scopes until it finds what it needs (or fails to find it by the time it finishes looking in the built-in scope, in which case a runtime error occurrs.)"
      ]
    },
    {
      "cell_type": "code",
      "metadata": {
        "id": "-6qViqmkh6oe",
        "colab_type": "code",
        "colab": {}
      },
      "source": [
        "def outer_func():\n",
        "    x = 'hello'\n",
        "    def inner1():\n",
        "        def inner2():\n",
        "            print(x)\n",
        "        inner2()\n",
        "    inner1()"
      ],
      "execution_count": null,
      "outputs": []
    },
    {
      "cell_type": "code",
      "metadata": {
        "id": "32P3DKDph6ou",
        "colab_type": "code",
        "colab": {},
        "outputId": "2ecafe83-751b-429b-f826-9df5663b491b"
      },
      "source": [
        "outer_func()"
      ],
      "execution_count": null,
      "outputs": [
        {
          "output_type": "stream",
          "text": [
            "hello\n"
          ],
          "name": "stdout"
        }
      ]
    },
    {
      "cell_type": "markdown",
      "metadata": {
        "id": "-zbG8Zg6h6o6",
        "colab_type": "text"
      },
      "source": [
        "But if we **assign** a value to a variable, it is considered part of the local scope, and potentially **masks** enclsogin scope variable names:"
      ]
    },
    {
      "cell_type": "code",
      "metadata": {
        "id": "R5mx4s0Qh6o8",
        "colab_type": "code",
        "colab": {}
      },
      "source": [
        "def outer():\n",
        "    x = 'hello'\n",
        "    def inner():\n",
        "        x = 'python'\n",
        "    inner()\n",
        "    print(x)"
      ],
      "execution_count": null,
      "outputs": []
    },
    {
      "cell_type": "code",
      "metadata": {
        "id": "v36r9d52h6pL",
        "colab_type": "code",
        "colab": {},
        "outputId": "03c3fa91-5349-4180-83a9-7d652a77b31f"
      },
      "source": [
        "outer()"
      ],
      "execution_count": null,
      "outputs": [
        {
          "output_type": "stream",
          "text": [
            "hello\n"
          ],
          "name": "stdout"
        }
      ]
    },
    {
      "cell_type": "markdown",
      "metadata": {
        "id": "0eHYqOejh6pY",
        "colab_type": "text"
      },
      "source": [
        "As you can see, **x** in **outer** was not changed."
      ]
    },
    {
      "cell_type": "markdown",
      "metadata": {
        "id": "H0phr1Qhh6pa",
        "colab_type": "text"
      },
      "source": [
        "To achieve this, we can use the **nonlocal** keyword:"
      ]
    },
    {
      "cell_type": "code",
      "metadata": {
        "id": "W6aA5klJh6pc",
        "colab_type": "code",
        "colab": {}
      },
      "source": [
        "def outer():\n",
        "    x = 'hello'\n",
        "    def inner():\n",
        "        nonlocal x\n",
        "        x = 'python'\n",
        "    inner()\n",
        "    print(x)"
      ],
      "execution_count": null,
      "outputs": []
    },
    {
      "cell_type": "code",
      "metadata": {
        "id": "OF3Lhhe8h6pn",
        "colab_type": "code",
        "colab": {},
        "outputId": "8c4b6fbf-8d87-494d-c500-c770af8e7930"
      },
      "source": [
        "outer()"
      ],
      "execution_count": null,
      "outputs": [
        {
          "output_type": "stream",
          "text": [
            "python\n"
          ],
          "name": "stdout"
        }
      ]
    },
    {
      "cell_type": "markdown",
      "metadata": {
        "id": "Upfcg4mDh6px",
        "colab_type": "text"
      },
      "source": [
        "Of course, this can work at any level as well:"
      ]
    },
    {
      "cell_type": "code",
      "metadata": {
        "id": "VXpIZbFch6pz",
        "colab_type": "code",
        "colab": {}
      },
      "source": [
        "def outer():\n",
        "    x = 'hello'\n",
        "    \n",
        "    def inner1():\n",
        "        def inner2():\n",
        "            nonlocal x\n",
        "            x = 'python'\n",
        "        inner2()\n",
        "    inner1()\n",
        "    print(x)"
      ],
      "execution_count": null,
      "outputs": []
    },
    {
      "cell_type": "code",
      "metadata": {
        "id": "JIJqWU75h6p8",
        "colab_type": "code",
        "colab": {},
        "outputId": "86c8e7b2-5efe-47c7-c800-0b8fc114dfe8"
      },
      "source": [
        "outer()"
      ],
      "execution_count": null,
      "outputs": [
        {
          "output_type": "stream",
          "text": [
            "python\n"
          ],
          "name": "stdout"
        }
      ]
    },
    {
      "cell_type": "markdown",
      "metadata": {
        "id": "ymQI7Beoh6qI",
        "colab_type": "text"
      },
      "source": [
        "How far Python looks up the chain depends on the first occurrence of the variable name in an enclosing scope.\n",
        "\n",
        "Consider the following example:"
      ]
    },
    {
      "cell_type": "code",
      "metadata": {
        "id": "7wi1xyuZh6qK",
        "colab_type": "code",
        "colab": {}
      },
      "source": [
        "def outer():\n",
        "    x = 'hello'\n",
        "    def inner1():\n",
        "        x = 'python'\n",
        "        def inner2():\n",
        "            nonlocal x\n",
        "            x = 'monty'\n",
        "        print('inner1 (before):', x)\n",
        "        inner2()\n",
        "        print('inner1 (after):', x)\n",
        "    inner1()\n",
        "    print('outer:', x)"
      ],
      "execution_count": null,
      "outputs": []
    },
    {
      "cell_type": "code",
      "metadata": {
        "id": "oknFurU5h6qV",
        "colab_type": "code",
        "colab": {},
        "outputId": "7eaba596-36fa-4cf9-927e-ced8dec09260"
      },
      "source": [
        "outer()"
      ],
      "execution_count": null,
      "outputs": [
        {
          "output_type": "stream",
          "text": [
            "inner1 (before): python\n",
            "inner1 (after): monty\n",
            "outer: hello\n"
          ],
          "name": "stdout"
        }
      ]
    },
    {
      "cell_type": "markdown",
      "metadata": {
        "id": "EApuKFSfh6qe",
        "colab_type": "text"
      },
      "source": [
        "What happened here, is that `x` in `inner1` **masked** `x` in `outer`. But `inner2` indicated to Python that `x` was nonlocal, so the first local variable up in the enclosing scope chain Python found was the one in `inner1`, hence `x` in `inner2` is actually referencing `x` that is local to `inner1`"
      ]
    },
    {
      "cell_type": "markdown",
      "metadata": {
        "id": "SKQAhpp8h6qg",
        "colab_type": "text"
      },
      "source": [
        "We can change this behavior by making the variable `x` in `inner` nonlocal as well:"
      ]
    },
    {
      "cell_type": "code",
      "metadata": {
        "id": "IhKdlLQOh6qh",
        "colab_type": "code",
        "colab": {}
      },
      "source": [
        "def outer():\n",
        "    x = 'hello'\n",
        "    def inner1():\n",
        "        nonlocal x\n",
        "        x = 'python'\n",
        "        def inner2():\n",
        "            nonlocal x\n",
        "            x = 'monty'\n",
        "        print('inner1 (before):', x)\n",
        "        inner2()\n",
        "        print('inner1 (after):', x)\n",
        "    inner1()\n",
        "    print('outer:', x)"
      ],
      "execution_count": null,
      "outputs": []
    },
    {
      "cell_type": "code",
      "metadata": {
        "id": "sIuyCxEdh6qt",
        "colab_type": "code",
        "colab": {},
        "outputId": "a9ecfda7-24b0-460f-9d83-6fee2dda04eb"
      },
      "source": [
        "outer()"
      ],
      "execution_count": null,
      "outputs": [
        {
          "output_type": "stream",
          "text": [
            "inner1 (before): python\n",
            "inner1 (after): monty\n",
            "outer: monty\n"
          ],
          "name": "stdout"
        }
      ]
    },
    {
      "cell_type": "code",
      "metadata": {
        "id": "rxyERJj_h6q2",
        "colab_type": "code",
        "colab": {}
      },
      "source": [
        "x = 100\n",
        "def outer():\n",
        "    x = 'python'  # masks global x\n",
        "    def inner1():\n",
        "        nonlocal x  # refers to x in outer\n",
        "        x = 'monty' # changed x in outer scope\n",
        "        def inner2():\n",
        "            global x  # refers to x in global scope\n",
        "            x = 'hello'\n",
        "            print('inner1 (before):', x)\n",
        "            inner2()\n",
        "        print('inner1 (after):', x)\n",
        "    inner1()\n",
        "    print('outer', x)    "
      ],
      "execution_count": 1,
      "outputs": []
    },
    {
      "cell_type": "code",
      "metadata": {
        "id": "iTZPRbF9h6rA",
        "colab_type": "code",
        "colab": {
          "base_uri": "https://localhost:8080/",
          "height": 68
        },
        "outputId": "1c7a0b63-fdba-45d9-ceba-7d7524b1cde6"
      },
      "source": [
        "outer()\n",
        "print(x)"
      ],
      "execution_count": 2,
      "outputs": [
        {
          "output_type": "stream",
          "text": [
            "inner1 (after): monty\n",
            "outer monty\n",
            "100\n"
          ],
          "name": "stdout"
        }
      ]
    },
    {
      "cell_type": "markdown",
      "metadata": {
        "id": "pexEEWfAh6rK",
        "colab_type": "text"
      },
      "source": [
        "But this will not work. In `inner` Python is looking for a local variable called `x`. `outer` has a label called `x`, but it is a global variable, not a local one - hence Python does not find a local variable in the scope chain."
      ]
    },
    {
      "cell_type": "code",
      "metadata": {
        "id": "onKCHGsYh6rL",
        "colab_type": "code",
        "colab": {},
        "outputId": "9bad7f68-1456-45af-8ee9-cc8df7fb88b8"
      },
      "source": [
        "x = 100\n",
        "def outer():\n",
        "    global x\n",
        "    x = 'python'\n",
        "    \n",
        "    def inner():\n",
        "        nonlocal x\n",
        "        x = 'monty'\n",
        "    inner()"
      ],
      "execution_count": null,
      "outputs": [
        {
          "output_type": "error",
          "ename": "SyntaxError",
          "evalue": "no binding for nonlocal 'x' found (<ipython-input-17-3ccaec905318>, line 7)",
          "traceback": [
            "\u001b[1;36m  File \u001b[1;32m\"<ipython-input-17-3ccaec905318>\"\u001b[1;36m, line \u001b[1;32m7\u001b[0m\n\u001b[1;33m    nonlocal x\u001b[0m\n\u001b[1;37m    ^\u001b[0m\n\u001b[1;31mSyntaxError\u001b[0m\u001b[1;31m:\u001b[0m no binding for nonlocal 'x' found\n"
          ]
        }
      ]
    },
    {
      "cell_type": "code",
      "metadata": {
        "id": "8HHhvkmmh6rQ",
        "colab_type": "code",
        "colab": {}
      },
      "source": [
        ""
      ],
      "execution_count": null,
      "outputs": []
    }
  ]
}