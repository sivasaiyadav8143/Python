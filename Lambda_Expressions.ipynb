{
  "nbformat": 4,
  "nbformat_minor": 0,
  "metadata": {
    "kernelspec": {
      "display_name": "Python 3",
      "language": "python",
      "name": "python3"
    },
    "language_info": {
      "codemirror_mode": {
        "name": "ipython",
        "version": 3
      },
      "file_extension": ".py",
      "mimetype": "text/x-python",
      "name": "python",
      "nbconvert_exporter": "python",
      "pygments_lexer": "ipython3",
      "version": "3.6.2"
    },
    "colab": {
      "name": "Lambda Expressions.ipynb",
      "provenance": [],
      "include_colab_link": true
    }
  },
  "cells": [
    {
      "cell_type": "markdown",
      "metadata": {
        "id": "view-in-github",
        "colab_type": "text"
      },
      "source": [
        "<a href=\"https://colab.research.google.com/github/sivasaiyadav8143/Python/blob/master/Lambda_Expressions.ipynb\" target=\"_parent\"><img src=\"https://colab.research.google.com/assets/colab-badge.svg\" alt=\"Open In Colab\"/></a>"
      ]
    },
    {
      "cell_type": "markdown",
      "metadata": {
        "id": "YoZjKNlqSsWR",
        "colab_type": "text"
      },
      "source": [
        "### Lambda Expressions"
      ]
    },
    {
      "cell_type": "code",
      "metadata": {
        "id": "a65EFHZsSsWS",
        "colab_type": "code",
        "colab": {},
        "outputId": "0ac31bd5-f94d-4878-c2ba-1aae32837201"
      },
      "source": [
        "lambda x: x**2"
      ],
      "execution_count": null,
      "outputs": [
        {
          "output_type": "execute_result",
          "data": {
            "text/plain": [
              "<function __main__.<lambda>>"
            ]
          },
          "metadata": {
            "tags": []
          },
          "execution_count": 1
        }
      ]
    },
    {
      "cell_type": "markdown",
      "metadata": {
        "id": "homSV4o6SsWX",
        "colab_type": "text"
      },
      "source": [
        "As you can see, the above expression just created a function."
      ]
    },
    {
      "cell_type": "markdown",
      "metadata": {
        "id": "Q3VHQ_8ySsWY",
        "colab_type": "text"
      },
      "source": [
        "#### Assigning to a Variable"
      ]
    },
    {
      "cell_type": "code",
      "metadata": {
        "id": "1nWjcXz6SsWY",
        "colab_type": "code",
        "colab": {}
      },
      "source": [
        "func = lambda x: x**2"
      ],
      "execution_count": null,
      "outputs": []
    },
    {
      "cell_type": "code",
      "metadata": {
        "id": "ELe-CByLSsWb",
        "colab_type": "code",
        "colab": {},
        "outputId": "e650cbf8-cffe-4d19-e1c1-3e04d83fc0ed"
      },
      "source": [
        "type(func)"
      ],
      "execution_count": null,
      "outputs": [
        {
          "output_type": "execute_result",
          "data": {
            "text/plain": [
              "function"
            ]
          },
          "metadata": {
            "tags": []
          },
          "execution_count": 3
        }
      ]
    },
    {
      "cell_type": "code",
      "metadata": {
        "id": "vjGu71KcSsWe",
        "colab_type": "code",
        "colab": {},
        "outputId": "8d682e35-979a-45c3-e90b-f57ccb6e72c0"
      },
      "source": [
        "func(3)"
      ],
      "execution_count": null,
      "outputs": [
        {
          "output_type": "execute_result",
          "data": {
            "text/plain": [
              "9"
            ]
          },
          "metadata": {
            "tags": []
          },
          "execution_count": 4
        }
      ]
    },
    {
      "cell_type": "markdown",
      "metadata": {
        "id": "Im-jPcCMSsWh",
        "colab_type": "text"
      },
      "source": [
        "We can specify arguments for lambdas just like we would for any function created using **def**, except for annotations:"
      ]
    },
    {
      "cell_type": "code",
      "metadata": {
        "id": "T3b1WZbfSsWh",
        "colab_type": "code",
        "colab": {}
      },
      "source": [
        "func_1 = lambda x, y=10: (x, y)"
      ],
      "execution_count": null,
      "outputs": []
    },
    {
      "cell_type": "code",
      "metadata": {
        "id": "B3r81JXvSsWk",
        "colab_type": "code",
        "colab": {},
        "outputId": "01c760a3-240d-4205-8966-35d096a6b3bc"
      },
      "source": [
        "func_1(1, 2)"
      ],
      "execution_count": null,
      "outputs": [
        {
          "output_type": "execute_result",
          "data": {
            "text/plain": [
              "(1, 2)"
            ]
          },
          "metadata": {
            "tags": []
          },
          "execution_count": 6
        }
      ]
    },
    {
      "cell_type": "code",
      "metadata": {
        "id": "uCeEx41RSsWo",
        "colab_type": "code",
        "colab": {},
        "outputId": "e3e83146-9828-42a9-ada2-d2fa6bcfc01c"
      },
      "source": [
        "func_1(1)"
      ],
      "execution_count": null,
      "outputs": [
        {
          "output_type": "execute_result",
          "data": {
            "text/plain": [
              "(1, 10)"
            ]
          },
          "metadata": {
            "tags": []
          },
          "execution_count": 7
        }
      ]
    },
    {
      "cell_type": "markdown",
      "metadata": {
        "id": "7fPBWO22SsWq",
        "colab_type": "text"
      },
      "source": [
        "We can even use \\* and \\*\\*:"
      ]
    },
    {
      "cell_type": "code",
      "metadata": {
        "id": "98D7uJfQSsWr",
        "colab_type": "code",
        "colab": {}
      },
      "source": [
        "func_2 = lambda x, *args, y, **kwargs: (x, *args, y, {**kwargs})"
      ],
      "execution_count": null,
      "outputs": []
    },
    {
      "cell_type": "code",
      "metadata": {
        "id": "qVlNeVGdSsWt",
        "colab_type": "code",
        "colab": {},
        "outputId": "d637bce1-31da-4807-f61e-1c7eafbc6434"
      },
      "source": [
        "func_2(1, 'a', 'b', y=100, a=10, b=20)"
      ],
      "execution_count": null,
      "outputs": [
        {
          "output_type": "execute_result",
          "data": {
            "text/plain": [
              "(1, 'a', 'b', 100, {'a': 10, 'b': 20})"
            ]
          },
          "metadata": {
            "tags": []
          },
          "execution_count": 9
        }
      ]
    },
    {
      "cell_type": "markdown",
      "metadata": {
        "id": "PCMaWXDCSsWw",
        "colab_type": "text"
      },
      "source": [
        "#### Passing as an Argument"
      ]
    },
    {
      "cell_type": "markdown",
      "metadata": {
        "id": "MSRJ_8-ISsWw",
        "colab_type": "text"
      },
      "source": [
        "Lambdas are functions, and can therefore be passed to any other function as an argument (or returned from another function)"
      ]
    },
    {
      "cell_type": "code",
      "metadata": {
        "id": "2iOobl8PSsWx",
        "colab_type": "code",
        "colab": {}
      },
      "source": [
        "def apply_func(x, fn):\n",
        "    return fn(x)"
      ],
      "execution_count": null,
      "outputs": []
    },
    {
      "cell_type": "code",
      "metadata": {
        "id": "hbGltd86SsW0",
        "colab_type": "code",
        "colab": {},
        "outputId": "8da47496-8f56-4b04-85a0-8681e8d4fcbf"
      },
      "source": [
        "apply_func(3, lambda x: x**2)"
      ],
      "execution_count": null,
      "outputs": [
        {
          "output_type": "execute_result",
          "data": {
            "text/plain": [
              "9"
            ]
          },
          "metadata": {
            "tags": []
          },
          "execution_count": 11
        }
      ]
    },
    {
      "cell_type": "code",
      "metadata": {
        "id": "YfKtmjIgSsW3",
        "colab_type": "code",
        "colab": {},
        "outputId": "2262dc18-f572-44f0-f191-e06bc6903387"
      },
      "source": [
        "apply_func(3, lambda x: x**3)"
      ],
      "execution_count": null,
      "outputs": [
        {
          "output_type": "execute_result",
          "data": {
            "text/plain": [
              "27"
            ]
          },
          "metadata": {
            "tags": []
          },
          "execution_count": 12
        }
      ]
    },
    {
      "cell_type": "markdown",
      "metadata": {
        "id": "hROmeDCASsW6",
        "colab_type": "text"
      },
      "source": [
        "Of course we can make this even more generic:"
      ]
    },
    {
      "cell_type": "code",
      "metadata": {
        "id": "CFzPWP7uSsW6",
        "colab_type": "code",
        "colab": {}
      },
      "source": [
        "def apply_func(fn, *args, **kwargs):\n",
        "    return fn(*args, **kwargs)"
      ],
      "execution_count": null,
      "outputs": []
    },
    {
      "cell_type": "code",
      "metadata": {
        "id": "f5csYr81SsW9",
        "colab_type": "code",
        "colab": {},
        "outputId": "dea92694-1510-43b9-cf09-f12b8e803a08"
      },
      "source": [
        "apply_func(lambda x, y: x+y, 1, 2)"
      ],
      "execution_count": null,
      "outputs": [
        {
          "output_type": "execute_result",
          "data": {
            "text/plain": [
              "3"
            ]
          },
          "metadata": {
            "tags": []
          },
          "execution_count": 14
        }
      ]
    },
    {
      "cell_type": "code",
      "metadata": {
        "id": "6huggr8eSsXB",
        "colab_type": "code",
        "colab": {},
        "outputId": "b9d48bdb-b675-40d6-c608-790a8f0817a7"
      },
      "source": [
        "apply_func(lambda x, *, y: x+y, 1, y=2)"
      ],
      "execution_count": null,
      "outputs": [
        {
          "output_type": "execute_result",
          "data": {
            "text/plain": [
              "3"
            ]
          },
          "metadata": {
            "tags": []
          },
          "execution_count": 15
        }
      ]
    },
    {
      "cell_type": "code",
      "metadata": {
        "id": "vQ05aVN2SsXE",
        "colab_type": "code",
        "colab": {},
        "outputId": "9f1dfb1d-ebc9-4bbf-9c3a-b22333309cc7"
      },
      "source": [
        "apply_func(lambda *args: sum(args), 1, 2, 3, 4, 5)"
      ],
      "execution_count": null,
      "outputs": [
        {
          "output_type": "execute_result",
          "data": {
            "text/plain": [
              "15"
            ]
          },
          "metadata": {
            "tags": []
          },
          "execution_count": 16
        }
      ]
    },
    {
      "cell_type": "markdown",
      "metadata": {
        "id": "ZzgAfAIXSsXI",
        "colab_type": "text"
      },
      "source": [
        "Of course in the example above, we really did not need to create a lambda!"
      ]
    },
    {
      "cell_type": "code",
      "metadata": {
        "id": "smRwfQbhSsXJ",
        "colab_type": "code",
        "colab": {},
        "outputId": "3609e7e3-562a-4397-eac0-8d56ba30d030"
      },
      "source": [
        "apply_func(sum, (1, 2, 3, 4, 5))"
      ],
      "execution_count": null,
      "outputs": [
        {
          "output_type": "execute_result",
          "data": {
            "text/plain": [
              "15"
            ]
          },
          "metadata": {
            "tags": []
          },
          "execution_count": 17
        }
      ]
    },
    {
      "cell_type": "markdown",
      "metadata": {
        "id": "t1uag4C0SsXL",
        "colab_type": "text"
      },
      "source": [
        "Of course, we don't have to use lambdas when calling **apply_func**, we can also pass in a function defined using a **def** statement:"
      ]
    },
    {
      "cell_type": "code",
      "metadata": {
        "id": "dTdEIUk7SsXM",
        "colab_type": "code",
        "colab": {}
      },
      "source": [
        "def multiply(x, y):\n",
        "    return x * y"
      ],
      "execution_count": null,
      "outputs": []
    },
    {
      "cell_type": "code",
      "metadata": {
        "id": "vhjDbzbPSsXO",
        "colab_type": "code",
        "colab": {},
        "outputId": "211657c6-b8e7-41eb-8e58-5b7bac57f8b9"
      },
      "source": [
        "apply_func(multiply, 'a', 5)"
      ],
      "execution_count": null,
      "outputs": [
        {
          "output_type": "execute_result",
          "data": {
            "text/plain": [
              "'aaaaa'"
            ]
          },
          "metadata": {
            "tags": []
          },
          "execution_count": 19
        }
      ]
    },
    {
      "cell_type": "code",
      "metadata": {
        "id": "9L0xaKQ0SsXR",
        "colab_type": "code",
        "colab": {},
        "outputId": "c34798df-57d2-48a1-afe5-208e4d79524c"
      },
      "source": [
        "apply_func(lambda x, y: x*y, 'a', 5)"
      ],
      "execution_count": null,
      "outputs": [
        {
          "output_type": "execute_result",
          "data": {
            "text/plain": [
              "'aaaaa'"
            ]
          },
          "metadata": {
            "tags": []
          },
          "execution_count": 20
        }
      ]
    },
    {
      "cell_type": "code",
      "metadata": {
        "id": "lMhUDPQgS9Lx",
        "colab_type": "code",
        "colab": {}
      },
      "source": [
        "a = lambda x,*args, y, z=50, **kwargs : (x,*args,y,z,{**kwargs})"
      ],
      "execution_count": 1,
      "outputs": []
    },
    {
      "cell_type": "code",
      "metadata": {
        "id": "EFyjt-p0TCrH",
        "colab_type": "code",
        "colab": {
          "base_uri": "https://localhost:8080/",
          "height": 34
        },
        "outputId": "b73c4aed-b04e-4022-99f8-3330526eebb4"
      },
      "source": [
        "a(10,20,50,y='y',z='i am z',q=105)"
      ],
      "execution_count": 2,
      "outputs": [
        {
          "output_type": "execute_result",
          "data": {
            "text/plain": [
              "(10, 20, 50, 'y', 'i am z', {'q': 105})"
            ]
          },
          "metadata": {
            "tags": []
          },
          "execution_count": 2
        }
      ]
    },
    {
      "cell_type": "code",
      "metadata": {
        "id": "OgbaOEyLTEia",
        "colab_type": "code",
        "colab": {}
      },
      "source": [
        "def abc(fun1,*args,**kwargs):\n",
        "  return fun1(*args,**kwargs)"
      ],
      "execution_count": 3,
      "outputs": []
    },
    {
      "cell_type": "code",
      "metadata": {
        "id": "Tey9pE5kTIAC",
        "colab_type": "code",
        "colab": {
          "base_uri": "https://localhost:8080/",
          "height": 34
        },
        "outputId": "0ef1abb9-cd36-4805-b00a-cab1bcb9a2f9"
      },
      "source": [
        "abc(lambda x, y: x ** y,5,3)"
      ],
      "execution_count": 4,
      "outputs": [
        {
          "output_type": "execute_result",
          "data": {
            "text/plain": [
              "125"
            ]
          },
          "metadata": {
            "tags": []
          },
          "execution_count": 4
        }
      ]
    },
    {
      "cell_type": "code",
      "metadata": {
        "id": "90Ke3Ak3TKsP",
        "colab_type": "code",
        "colab": {
          "base_uri": "https://localhost:8080/",
          "height": 34
        },
        "outputId": "c31d63f6-8f77-4f6e-9239-a80f09968fc3"
      },
      "source": [
        "abc(lambda x,*, y: x ** y,5,y=5)"
      ],
      "execution_count": 5,
      "outputs": [
        {
          "output_type": "execute_result",
          "data": {
            "text/plain": [
              "3125"
            ]
          },
          "metadata": {
            "tags": []
          },
          "execution_count": 5
        }
      ]
    },
    {
      "cell_type": "code",
      "metadata": {
        "id": "rqY9TCvkTMaZ",
        "colab_type": "code",
        "colab": {}
      },
      "source": [
        ""
      ],
      "execution_count": null,
      "outputs": []
    }
  ]
}