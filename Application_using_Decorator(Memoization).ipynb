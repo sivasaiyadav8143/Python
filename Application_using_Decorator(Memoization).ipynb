{
  "nbformat": 4,
  "nbformat_minor": 0,
  "metadata": {
    "kernelspec": {
      "display_name": "Python 3",
      "language": "python",
      "name": "python3"
    },
    "language_info": {
      "codemirror_mode": {
        "name": "ipython",
        "version": 3
      },
      "file_extension": ".py",
      "mimetype": "text/x-python",
      "name": "python",
      "nbconvert_exporter": "python",
      "pygments_lexer": "ipython3",
      "version": "3.6.2"
    },
    "colab": {
      "name": "Application_using_Decorator(Memoization).ipynb",
      "provenance": [],
      "include_colab_link": true
    }
  },
  "cells": [
    {
      "cell_type": "markdown",
      "metadata": {
        "id": "view-in-github",
        "colab_type": "text"
      },
      "source": [
        "<a href=\"https://colab.research.google.com/github/sivasaiyadav8143/Python/blob/master/Application_using_Decorator(Memoization).ipynb\" target=\"_parent\"><img src=\"https://colab.research.google.com/assets/colab-badge.svg\" alt=\"Open In Colab\"/></a>"
      ]
    },
    {
      "cell_type": "markdown",
      "metadata": {
        "id": "UrZliFmA3bB5"
      },
      "source": [
        "### Decorators Application (Memoization)"
      ]
    },
    {
      "cell_type": "markdown",
      "metadata": {
        "id": "YGT4BBvd3bB9"
      },
      "source": [
        "Let's use Fibonacci example:"
      ]
    },
    {
      "cell_type": "code",
      "metadata": {
        "id": "x5m3WNO33bCB"
      },
      "source": [
        "def fib(n):\n",
        "    print ('Calculating fib({0})'.format(n))\n",
        "    return 1 if n < 3 else fib(n-1) + fib(n-2)"
      ],
      "execution_count": null,
      "outputs": []
    },
    {
      "cell_type": "markdown",
      "metadata": {
        "id": "W-izcNLP3bCP"
      },
      "source": [
        "When we run this, we see that it is quite inefficient, as the same Fibonacci numbers get calculated multiple times:"
      ]
    },
    {
      "cell_type": "code",
      "metadata": {
        "id": "s0KgEBhR3bCU",
        "outputId": "46604fd0-2a82-428d-816c-82008e234cee"
      },
      "source": [
        "fib(6)"
      ],
      "execution_count": null,
      "outputs": [
        {
          "output_type": "stream",
          "text": [
            "Calculating fib(6)\n",
            "Calculating fib(5)\n",
            "Calculating fib(4)\n",
            "Calculating fib(3)\n",
            "Calculating fib(2)\n",
            "Calculating fib(1)\n",
            "Calculating fib(2)\n",
            "Calculating fib(3)\n",
            "Calculating fib(2)\n",
            "Calculating fib(1)\n",
            "Calculating fib(4)\n",
            "Calculating fib(3)\n",
            "Calculating fib(2)\n",
            "Calculating fib(1)\n",
            "Calculating fib(2)\n"
          ],
          "name": "stdout"
        },
        {
          "output_type": "execute_result",
          "data": {
            "text/plain": [
              "8"
            ]
          },
          "metadata": {
            "tags": []
          },
          "execution_count": 2
        }
      ]
    },
    {
      "cell_type": "markdown",
      "metadata": {
        "id": "pEDa5RmG3bCr"
      },
      "source": [
        "It would be better if we could somehow \"store\" these results, so if we have calculated `fib(4)` and `fib(3)` before, we could simply recall the these values when calculating `fib(5) = fib(4) + fib(3)` instead of recalculating them.\n",
        "\n",
        "This concept of improving the efficiency of our code by caching pre-calculated values so they do not need to be re-calcualted every time, is called \"memoization\""
      ]
    },
    {
      "cell_type": "markdown",
      "metadata": {
        "id": "XrPkhDSE3bCt"
      },
      "source": [
        "We can approach this using a simple class and a dictionary that stores any Fibonacci number that's already been calculated:"
      ]
    },
    {
      "cell_type": "code",
      "metadata": {
        "id": "WjsRpBcv3bCv"
      },
      "source": [
        "class Fib:\n",
        "    def __init__(self):\n",
        "        self.cache = {1: 1, 2: 1}\n",
        "    \n",
        "    def fib(self, n):\n",
        "        if n not in self.cache:\n",
        "            print('Calculating fib({0})'.format(n))\n",
        "            self.cache[n] = self.fib(n-1) + self.fib(n-2)\n",
        "        return self.cache[n]"
      ],
      "execution_count": null,
      "outputs": []
    },
    {
      "cell_type": "code",
      "metadata": {
        "id": "efslJetX3bC7"
      },
      "source": [
        "f = Fib()"
      ],
      "execution_count": null,
      "outputs": []
    },
    {
      "cell_type": "code",
      "metadata": {
        "id": "2kANBewJ3bDM",
        "outputId": "efffc6e2-0a0e-4969-9be4-15eb19d213b1"
      },
      "source": [
        "f.fib(1)"
      ],
      "execution_count": null,
      "outputs": [
        {
          "output_type": "execute_result",
          "data": {
            "text/plain": [
              "1"
            ]
          },
          "metadata": {
            "tags": []
          },
          "execution_count": 5
        }
      ]
    },
    {
      "cell_type": "code",
      "metadata": {
        "id": "A_lfMTUB3bDb",
        "outputId": "e436e626-cfa9-42ab-dbf3-61a550ad81c1"
      },
      "source": [
        "f.fib(6)"
      ],
      "execution_count": null,
      "outputs": [
        {
          "output_type": "stream",
          "text": [
            "Calculating fib(6)\n",
            "Calculating fib(5)\n",
            "Calculating fib(4)\n",
            "Calculating fib(3)\n"
          ],
          "name": "stdout"
        },
        {
          "output_type": "execute_result",
          "data": {
            "text/plain": [
              "8"
            ]
          },
          "metadata": {
            "tags": []
          },
          "execution_count": 6
        }
      ]
    },
    {
      "cell_type": "code",
      "metadata": {
        "scrolled": true,
        "id": "7esKoU0Y3bD4",
        "outputId": "e080189f-0ac5-4c7f-d273-cdc38217aeee"
      },
      "source": [
        "f.fib(7)"
      ],
      "execution_count": null,
      "outputs": [
        {
          "output_type": "stream",
          "text": [
            "Calculating fib(7)\n"
          ],
          "name": "stdout"
        },
        {
          "output_type": "execute_result",
          "data": {
            "text/plain": [
              "13"
            ]
          },
          "metadata": {
            "tags": []
          },
          "execution_count": 7
        }
      ]
    },
    {
      "cell_type": "markdown",
      "metadata": {
        "id": "hP87eJn33bEM"
      },
      "source": [
        "Let's see how we could rewrite this using a closure:"
      ]
    },
    {
      "cell_type": "code",
      "metadata": {
        "id": "FG9SLtU_3bEO"
      },
      "source": [
        "def fib():\n",
        "    cache = {1: 1, 2: 2}\n",
        "    \n",
        "    def calc_fib(n):\n",
        "        if n not in cache:\n",
        "            print('Calculating fib({0})'.format(n))\n",
        "            cache[n] = calc_fib(n-1) + calc_fib(n-2)\n",
        "        return cache[n]\n",
        "    \n",
        "    return calc_fib"
      ],
      "execution_count": null,
      "outputs": []
    },
    {
      "cell_type": "code",
      "metadata": {
        "id": "4967aq5s3bEa"
      },
      "source": [
        "f = fib()"
      ],
      "execution_count": null,
      "outputs": []
    },
    {
      "cell_type": "code",
      "metadata": {
        "id": "g6FLHSGF3bEj",
        "outputId": "d4895ede-56f8-400e-f9d7-fa920d932293"
      },
      "source": [
        "f(10)"
      ],
      "execution_count": null,
      "outputs": [
        {
          "output_type": "stream",
          "text": [
            "Calculating fib(10)\n",
            "Calculating fib(9)\n",
            "Calculating fib(8)\n",
            "Calculating fib(7)\n",
            "Calculating fib(6)\n",
            "Calculating fib(5)\n",
            "Calculating fib(4)\n",
            "Calculating fib(3)\n"
          ],
          "name": "stdout"
        },
        {
          "output_type": "execute_result",
          "data": {
            "text/plain": [
              "89"
            ]
          },
          "metadata": {
            "tags": []
          },
          "execution_count": 10
        }
      ]
    },
    {
      "cell_type": "markdown",
      "metadata": {
        "id": "YY-iMXYA3bEy"
      },
      "source": [
        "Now let's see how we would implement this using a decorator:"
      ]
    },
    {
      "cell_type": "code",
      "metadata": {
        "id": "kbnBUZEj3bE0"
      },
      "source": [
        "from functools import wraps\n",
        "\n",
        "def memoize_fib(fn):\n",
        "    cache = dict()\n",
        "    \n",
        "    @wraps(fn)\n",
        "    def inner(n):\n",
        "        if n not in cache:\n",
        "            cache[n] = fn(n)\n",
        "        return cache[n]\n",
        "    \n",
        "    return inner"
      ],
      "execution_count": null,
      "outputs": []
    },
    {
      "cell_type": "code",
      "metadata": {
        "id": "-wcQ17U03bFP"
      },
      "source": [
        "@memoize_fib\n",
        "def fib(n):\n",
        "    print ('Calculating fib({0})'.format(n))\n",
        "    return 1 if n < 3 else fib(n-1) + fib(n-2)"
      ],
      "execution_count": null,
      "outputs": []
    },
    {
      "cell_type": "code",
      "metadata": {
        "id": "aKpo-JrN3bFg",
        "outputId": "ed87b70e-ea56-434a-e3fa-9613b27bb9a8"
      },
      "source": [
        "fib(3)"
      ],
      "execution_count": null,
      "outputs": [
        {
          "output_type": "stream",
          "text": [
            "Calculating fib(3)\n",
            "Calculating fib(2)\n",
            "Calculating fib(1)\n"
          ],
          "name": "stdout"
        },
        {
          "output_type": "execute_result",
          "data": {
            "text/plain": [
              "2"
            ]
          },
          "metadata": {
            "tags": []
          },
          "execution_count": 13
        }
      ]
    },
    {
      "cell_type": "code",
      "metadata": {
        "id": "d1pXw-M33bFy",
        "outputId": "93768b57-ec21-4d69-d5a0-b96d1e10a764"
      },
      "source": [
        "fib(10)"
      ],
      "execution_count": null,
      "outputs": [
        {
          "output_type": "stream",
          "text": [
            "Calculating fib(10)\n",
            "Calculating fib(9)\n",
            "Calculating fib(8)\n",
            "Calculating fib(7)\n",
            "Calculating fib(6)\n",
            "Calculating fib(5)\n",
            "Calculating fib(4)\n"
          ],
          "name": "stdout"
        },
        {
          "output_type": "execute_result",
          "data": {
            "text/plain": [
              "55"
            ]
          },
          "metadata": {
            "tags": []
          },
          "execution_count": 14
        }
      ]
    },
    {
      "cell_type": "code",
      "metadata": {
        "id": "VH_yxHIX3bGI",
        "outputId": "6fcd8f9e-12df-4e34-a1b3-fa0a02265b0e"
      },
      "source": [
        "fib(6)"
      ],
      "execution_count": null,
      "outputs": [
        {
          "output_type": "execute_result",
          "data": {
            "text/plain": [
              "8"
            ]
          },
          "metadata": {
            "tags": []
          },
          "execution_count": 15
        }
      ]
    },
    {
      "cell_type": "markdown",
      "metadata": {
        "id": "a2-m4utD3bGY"
      },
      "source": [
        "As you can see, we are hitting the cache when the values are available.\n",
        "\n",
        "Now, we made our memoization decorator \"hardcoded\" to single argument functions - we could make it more generic.\n",
        "\n",
        "For example, to handle an arbitrary number of positional arguments and keyword-only arguments we could do the following:"
      ]
    },
    {
      "cell_type": "code",
      "metadata": {
        "id": "acf0ztGB3bGc"
      },
      "source": [
        "def memoize(fn):\n",
        "    cache = dict()\n",
        "    \n",
        "    @wraps(fn)\n",
        "    def inner(*args):\n",
        "        if args not in cache:\n",
        "            cache[args] = fn(*args)\n",
        "        return cache[args]\n",
        "    \n",
        "    return inner"
      ],
      "execution_count": null,
      "outputs": []
    },
    {
      "cell_type": "code",
      "metadata": {
        "id": "YMLxk2QB3bG1"
      },
      "source": [
        "@memoize\n",
        "def fib(n):\n",
        "    print ('Calculating fib({0})'.format(n))\n",
        "    return 1 if n < 3 else fib(n-1) + fib(n-2)"
      ],
      "execution_count": null,
      "outputs": []
    },
    {
      "cell_type": "code",
      "metadata": {
        "id": "ebJCuW683bHK",
        "outputId": "d01c1798-ee12-4544-8a2b-bea167f7dc91"
      },
      "source": [
        "fib(6)"
      ],
      "execution_count": null,
      "outputs": [
        {
          "output_type": "stream",
          "text": [
            "Calculating fib(6)\n",
            "Calculating fib(5)\n",
            "Calculating fib(4)\n",
            "Calculating fib(3)\n",
            "Calculating fib(2)\n",
            "Calculating fib(1)\n"
          ],
          "name": "stdout"
        },
        {
          "output_type": "execute_result",
          "data": {
            "text/plain": [
              "8"
            ]
          },
          "metadata": {
            "tags": []
          },
          "execution_count": 18
        }
      ]
    },
    {
      "cell_type": "code",
      "metadata": {
        "id": "hEmUuK7H3bHV",
        "outputId": "6f859d07-f077-42d5-e9a1-d64289dc3168"
      },
      "source": [
        "fib(7)"
      ],
      "execution_count": null,
      "outputs": [
        {
          "output_type": "stream",
          "text": [
            "Calculating fib(7)\n"
          ],
          "name": "stdout"
        },
        {
          "output_type": "execute_result",
          "data": {
            "text/plain": [
              "13"
            ]
          },
          "metadata": {
            "tags": []
          },
          "execution_count": 19
        }
      ]
    },
    {
      "cell_type": "markdown",
      "metadata": {
        "id": "BuN1mJdz3bHi"
      },
      "source": [
        "Of course, with this rather generic memoization decorator we can memoize other functions too:"
      ]
    },
    {
      "cell_type": "code",
      "metadata": {
        "id": "JS8LlyIQ3bHp"
      },
      "source": [
        "def fact(n):\n",
        "    print('Calculating {0}!'.format(n))\n",
        "    return 1 if n < 2 else n * fact(n-1)"
      ],
      "execution_count": null,
      "outputs": []
    },
    {
      "cell_type": "code",
      "metadata": {
        "id": "WUH7Umtv3bIS",
        "outputId": "a7a459de-dfbd-4f7d-d22b-317278676521"
      },
      "source": [
        "fact(5)"
      ],
      "execution_count": null,
      "outputs": [
        {
          "output_type": "stream",
          "text": [
            "Calculating 5!\n",
            "Calculating 4!\n",
            "Calculating 3!\n",
            "Calculating 2!\n",
            "Calculating 1!\n"
          ],
          "name": "stdout"
        },
        {
          "output_type": "execute_result",
          "data": {
            "text/plain": [
              "120"
            ]
          },
          "metadata": {
            "tags": []
          },
          "execution_count": 21
        }
      ]
    },
    {
      "cell_type": "code",
      "metadata": {
        "id": "OB8enN2H3bIa",
        "outputId": "40f0c6dd-1233-427d-9a27-74c61d0c29ae"
      },
      "source": [
        "fact(5)"
      ],
      "execution_count": null,
      "outputs": [
        {
          "output_type": "stream",
          "text": [
            "Calculating 5!\n",
            "Calculating 4!\n",
            "Calculating 3!\n",
            "Calculating 2!\n",
            "Calculating 1!\n"
          ],
          "name": "stdout"
        },
        {
          "output_type": "execute_result",
          "data": {
            "text/plain": [
              "120"
            ]
          },
          "metadata": {
            "tags": []
          },
          "execution_count": 22
        }
      ]
    },
    {
      "cell_type": "markdown",
      "metadata": {
        "id": "ErlW9fkd3bIm"
      },
      "source": [
        "And memoizing it:"
      ]
    },
    {
      "cell_type": "code",
      "metadata": {
        "id": "q6fR3Evr3bIo"
      },
      "source": [
        "@memoize\n",
        "def fact(n):\n",
        "    print('Calculating {0}!'.format(n))\n",
        "    return 1 if n < 2 else n * fact(n-1)"
      ],
      "execution_count": null,
      "outputs": []
    },
    {
      "cell_type": "code",
      "metadata": {
        "id": "y7RwwwgG3bI4",
        "outputId": "c855ebc3-86ee-4826-b11b-a68f03e1e51f"
      },
      "source": [
        "fact(6)"
      ],
      "execution_count": null,
      "outputs": [
        {
          "output_type": "stream",
          "text": [
            "Calculating 6!\n",
            "Calculating 5!\n",
            "Calculating 4!\n",
            "Calculating 3!\n",
            "Calculating 2!\n",
            "Calculating 1!\n"
          ],
          "name": "stdout"
        },
        {
          "output_type": "execute_result",
          "data": {
            "text/plain": [
              "720"
            ]
          },
          "metadata": {
            "tags": []
          },
          "execution_count": 24
        }
      ]
    },
    {
      "cell_type": "code",
      "metadata": {
        "id": "5FxkyB9x3bJI",
        "outputId": "1c76b6be-9752-433e-9c58-3094db2573a3"
      },
      "source": [
        "fact(6)"
      ],
      "execution_count": null,
      "outputs": [
        {
          "output_type": "execute_result",
          "data": {
            "text/plain": [
              "720"
            ]
          },
          "metadata": {
            "tags": []
          },
          "execution_count": 25
        }
      ]
    },
    {
      "cell_type": "markdown",
      "metadata": {
        "id": "Tlcezb3B3bJO"
      },
      "source": [
        "Our simple memoizer has a drawback however:\n",
        "* the cache size is unbounded - probably not a good thing! In general we want to limit the cache to a certain number of entries, balancing computational efficiency vs memory utilization.\n",
        "* we are not handling **kwargs"
      ]
    },
    {
      "cell_type": "markdown",
      "metadata": {
        "id": "SKyZ5m8j3bJQ"
      },
      "source": [
        "Memoization is such a common thing to do that Python actually has a memoization decorator built for us!\n",
        "\n",
        "It's in the, you guessed it, **functools** module, and is called **lru_cache** and is going to be quite a bit more efficient compared to the rudimentary memoization example we did above.\n",
        "\n",
        "[LRU Cache = Least Recently Used caching: since the cache is not unlimited, at some point cached entries need to be discarded, and the least recently used entries are discarded first]"
      ]
    },
    {
      "cell_type": "code",
      "metadata": {
        "id": "327L6hXc3bJT"
      },
      "source": [
        "from functools import lru_cache"
      ],
      "execution_count": null,
      "outputs": []
    },
    {
      "cell_type": "code",
      "metadata": {
        "id": "Pu1piVd33bJe"
      },
      "source": [
        "@lru_cache()\n",
        "def fact(n):\n",
        "    print(\"Calculating fact({0})\".format(n))\n",
        "    return 1 if n < 2 else n * fact(n-1)"
      ],
      "execution_count": null,
      "outputs": []
    },
    {
      "cell_type": "code",
      "metadata": {
        "id": "ifvDUobG3bJ9",
        "outputId": "976172db-dccd-46fc-d92f-34d391043553"
      },
      "source": [
        "fact(5)"
      ],
      "execution_count": null,
      "outputs": [
        {
          "output_type": "stream",
          "text": [
            "Calculating fact(5)\n",
            "Calculating fact(4)\n",
            "Calculating fact(3)\n",
            "Calculating fact(2)\n",
            "Calculating fact(1)\n"
          ],
          "name": "stdout"
        },
        {
          "output_type": "execute_result",
          "data": {
            "text/plain": [
              "120"
            ]
          },
          "metadata": {
            "tags": []
          },
          "execution_count": 28
        }
      ]
    },
    {
      "cell_type": "code",
      "metadata": {
        "id": "9WCBCaRi3bKh",
        "outputId": "b0b4fed8-bc88-486e-ec9a-1c4560a210f2"
      },
      "source": [
        "fact(4)"
      ],
      "execution_count": null,
      "outputs": [
        {
          "output_type": "execute_result",
          "data": {
            "text/plain": [
              "24"
            ]
          },
          "metadata": {
            "tags": []
          },
          "execution_count": 29
        }
      ]
    },
    {
      "cell_type": "markdown",
      "metadata": {
        "id": "hzKy8fD73bKy"
      },
      "source": [
        "As you can see, `fact(4)` was returned via a cached entry!"
      ]
    },
    {
      "cell_type": "markdown",
      "metadata": {
        "id": "NcjXQfka3bK0"
      },
      "source": [
        "Same thing with our Fibonacci function:"
      ]
    },
    {
      "cell_type": "code",
      "metadata": {
        "id": "v100TM7K3bK5"
      },
      "source": [
        "@lru_cache()\n",
        "def fib(n):\n",
        "    print(\"Calculating fib({0})\".format(n))\n",
        "    return 1 if n < 3 else fib(n-1) + fib(n-2)"
      ],
      "execution_count": null,
      "outputs": []
    },
    {
      "cell_type": "code",
      "metadata": {
        "id": "Bj1Re2Hx3bLC",
        "outputId": "8f07924e-e651-4915-c779-923a488c4336"
      },
      "source": [
        "fib(6)"
      ],
      "execution_count": null,
      "outputs": [
        {
          "output_type": "stream",
          "text": [
            "Calculating fib(6)\n",
            "Calculating fib(5)\n",
            "Calculating fib(4)\n",
            "Calculating fib(3)\n",
            "Calculating fib(2)\n",
            "Calculating fib(1)\n"
          ],
          "name": "stdout"
        },
        {
          "output_type": "execute_result",
          "data": {
            "text/plain": [
              "8"
            ]
          },
          "metadata": {
            "tags": []
          },
          "execution_count": 31
        }
      ]
    },
    {
      "cell_type": "code",
      "metadata": {
        "id": "f1xhh41z3bLP",
        "outputId": "b915b7ca-6513-4a6e-8df0-10bbbaaabf6f"
      },
      "source": [
        "fib(5)"
      ],
      "execution_count": null,
      "outputs": [
        {
          "output_type": "execute_result",
          "data": {
            "text/plain": [
              "5"
            ]
          },
          "metadata": {
            "tags": []
          },
          "execution_count": 32
        }
      ]
    },
    {
      "cell_type": "markdown",
      "metadata": {
        "id": "CNhRwvds3bLV"
      },
      "source": [
        "Recall from a few videos back that we timed the calculation for Fibonacci numbers. Calculating fib(35) took several seconds - every time..."
      ]
    },
    {
      "cell_type": "code",
      "metadata": {
        "id": "TOJorWOR3bLY"
      },
      "source": [
        "from time import perf_counter"
      ],
      "execution_count": null,
      "outputs": []
    },
    {
      "cell_type": "code",
      "metadata": {
        "id": "3kQ4rDyw3bLh"
      },
      "source": [
        "def fib_no_memo(n):\n",
        "    return 1 if n < 3 else fib_no_memo(n-1) + fib_no_memo(n-2)"
      ],
      "execution_count": null,
      "outputs": []
    },
    {
      "cell_type": "code",
      "metadata": {
        "id": "UX2L1Vxa3bLy",
        "outputId": "39301750-03b4-4d32-853b-e33ada76d033"
      },
      "source": [
        "start = perf_counter()\n",
        "result = fib_no_memo(35)\n",
        "print(\"result={0}, elapsed: {1}s\".format(result, perf_counter() - start))"
      ],
      "execution_count": null,
      "outputs": [
        {
          "output_type": "stream",
          "text": [
            "result=9227465, elapsed: 2.939012289158911s\n"
          ],
          "name": "stdout"
        }
      ]
    },
    {
      "cell_type": "code",
      "metadata": {
        "id": "E7wxKV9E3bMH"
      },
      "source": [
        "@lru_cache()\n",
        "def fib_memo(n):\n",
        "    return 1 if n < 3 else fib_memo(n-1) + fib_memo(n-2)"
      ],
      "execution_count": null,
      "outputs": []
    },
    {
      "cell_type": "code",
      "metadata": {
        "id": "PGTheQC83bMV",
        "outputId": "cec58f37-6dbd-403e-9ffa-f1cf64916113"
      },
      "source": [
        "start = perf_counter()\n",
        "result = fib_memo(35)\n",
        "print(\"result={0}, elapsed: {1}s\".format(result, perf_counter() - start))"
      ],
      "execution_count": null,
      "outputs": [
        {
          "output_type": "stream",
          "text": [
            "result=9227465, elapsed: 9.83349429017899e-05s\n"
          ],
          "name": "stdout"
        }
      ]
    },
    {
      "cell_type": "markdown",
      "metadata": {
        "id": "kNY-wMOX3bMj"
      },
      "source": [
        "And if we make the calls again:"
      ]
    },
    {
      "cell_type": "code",
      "metadata": {
        "id": "9GJqWBZz3bMm",
        "outputId": "5ed11a57-1509-4366-c8b2-c06992438ada"
      },
      "source": [
        "start = perf_counter()\n",
        "result = fib_no_memo(35)\n",
        "print(\"result={0}, elapsed: {1}s\".format(result, perf_counter() - start))"
      ],
      "execution_count": null,
      "outputs": [
        {
          "output_type": "stream",
          "text": [
            "result=9227465, elapsed: 2.782454120518548s\n"
          ],
          "name": "stdout"
        }
      ]
    },
    {
      "cell_type": "code",
      "metadata": {
        "id": "79ELk5vW3bM1",
        "outputId": "0ad1d4f8-4b36-4f9e-dc4b-2ef232e9bf1d"
      },
      "source": [
        "start = perf_counter()\n",
        "result = fib_memo(35)\n",
        "print(\"result={0}, elapsed: {1}s\".format(result, perf_counter() - start))"
      ],
      "execution_count": null,
      "outputs": [
        {
          "output_type": "stream",
          "text": [
            "result=9227465, elapsed: 5.6617088337596044e-05s\n"
          ],
          "name": "stdout"
        }
      ]
    },
    {
      "cell_type": "markdown",
      "metadata": {
        "id": "NbnBYmSi3bNC"
      },
      "source": [
        "You may have noticed that the `lru_cache` decorator was implemented using `()` - we'll see more on this later, but that's because decorators can themselves have parameters (beyond the function being decorated)."
      ]
    },
    {
      "cell_type": "markdown",
      "metadata": {
        "id": "9hKERA063bNE"
      },
      "source": [
        "One of the arguments to the `lru_cache` decorator is the size of the cache - it defaults to 128 items, but we can easily change this - for performance reasons use powers of 2 for the cache size (or None for unbounded cache):"
      ]
    },
    {
      "cell_type": "code",
      "metadata": {
        "id": "FFPIYaiL3bNF"
      },
      "source": [
        "@lru_cache(maxsize=8)\n",
        "def fib(n):\n",
        "    print(\"Calculating fib({0})\".format(n))\n",
        "    return 1 if n < 3 else fib(n-1) + fib(n-2)"
      ],
      "execution_count": null,
      "outputs": []
    },
    {
      "cell_type": "code",
      "metadata": {
        "id": "nRQOVrLx3bNV",
        "outputId": "30785158-fd16-4fb8-9b02-90ca67f36941"
      },
      "source": [
        "fib(10)"
      ],
      "execution_count": null,
      "outputs": [
        {
          "output_type": "stream",
          "text": [
            "Calculating fib(10)\n",
            "Calculating fib(9)\n",
            "Calculating fib(8)\n",
            "Calculating fib(7)\n",
            "Calculating fib(6)\n",
            "Calculating fib(5)\n",
            "Calculating fib(4)\n",
            "Calculating fib(3)\n",
            "Calculating fib(2)\n",
            "Calculating fib(1)\n"
          ],
          "name": "stdout"
        },
        {
          "output_type": "execute_result",
          "data": {
            "text/plain": [
              "55"
            ]
          },
          "metadata": {
            "tags": []
          },
          "execution_count": 41
        }
      ]
    },
    {
      "cell_type": "code",
      "metadata": {
        "id": "mx6c9Ju-3bNm",
        "outputId": "1f9f34fc-fdf5-4e02-e748-93bad00f3e25"
      },
      "source": [
        "fib(20)"
      ],
      "execution_count": null,
      "outputs": [
        {
          "output_type": "stream",
          "text": [
            "Calculating fib(20)\n",
            "Calculating fib(19)\n",
            "Calculating fib(18)\n",
            "Calculating fib(17)\n",
            "Calculating fib(16)\n",
            "Calculating fib(15)\n",
            "Calculating fib(14)\n",
            "Calculating fib(13)\n",
            "Calculating fib(12)\n",
            "Calculating fib(11)\n"
          ],
          "name": "stdout"
        },
        {
          "output_type": "execute_result",
          "data": {
            "text/plain": [
              "6765"
            ]
          },
          "metadata": {
            "tags": []
          },
          "execution_count": 42
        }
      ]
    },
    {
      "cell_type": "code",
      "metadata": {
        "scrolled": true,
        "id": "H4BCvDfZ3bNt",
        "outputId": "8ce42807-5d4c-4b78-a8db-811c6de4b3db"
      },
      "source": [
        "fib(10)"
      ],
      "execution_count": null,
      "outputs": [
        {
          "output_type": "stream",
          "text": [
            "Calculating fib(10)\n",
            "Calculating fib(9)\n",
            "Calculating fib(8)\n",
            "Calculating fib(7)\n",
            "Calculating fib(6)\n",
            "Calculating fib(5)\n",
            "Calculating fib(4)\n",
            "Calculating fib(3)\n",
            "Calculating fib(2)\n",
            "Calculating fib(1)\n"
          ],
          "name": "stdout"
        },
        {
          "output_type": "execute_result",
          "data": {
            "text/plain": [
              "55"
            ]
          },
          "metadata": {
            "tags": []
          },
          "execution_count": 43
        }
      ]
    },
    {
      "cell_type": "markdown",
      "metadata": {
        "id": "OJBiSUiD3bN5"
      },
      "source": [
        "You'll not how Python had to recalculate `fib` for `10, 9,` etc. This is because the cache can only contain 10 items, so when we calculated `fib(20)`, it stored fib for `20, 19, ..., 11` (10 items) and therefore the oldest items fib `10, 9, ..., 1` were removed from the cache to make space."
      ]
    },
    {
      "cell_type": "code",
      "metadata": {
        "id": "-jsxFb763bN6"
      },
      "source": [
        ""
      ],
      "execution_count": null,
      "outputs": []
    }
  ]
}