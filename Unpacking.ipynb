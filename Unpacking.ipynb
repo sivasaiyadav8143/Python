{
  "nbformat": 4,
  "nbformat_minor": 0,
  "metadata": {
    "kernelspec": {
      "display_name": "Python 3",
      "language": "python",
      "name": "python3"
    },
    "language_info": {
      "codemirror_mode": {
        "name": "ipython",
        "version": 3
      },
      "file_extension": ".py",
      "mimetype": "text/x-python",
      "name": "python",
      "nbconvert_exporter": "python",
      "pygments_lexer": "ipython3",
      "version": "3.6.1"
    },
    "colab": {
      "name": "Unpacking.ipynb",
      "provenance": [],
      "include_colab_link": true
    }
  },
  "cells": [
    {
      "cell_type": "markdown",
      "metadata": {
        "id": "view-in-github",
        "colab_type": "text"
      },
      "source": [
        "<a href=\"https://colab.research.google.com/github/sivasaiyadav8143/Python/blob/master/Unpacking.ipynb\" target=\"_parent\"><img src=\"https://colab.research.google.com/assets/colab-badge.svg\" alt=\"Open In Colab\"/></a>"
      ]
    },
    {
      "cell_type": "markdown",
      "metadata": {
        "id": "cpUnV2ZKLDdY",
        "colab_type": "text"
      },
      "source": [
        "### Extended Unpacking"
      ]
    },
    {
      "cell_type": "markdown",
      "metadata": {
        "collapsed": true,
        "id": "aHleuT72LDdb",
        "colab_type": "text"
      },
      "source": [
        "Let's see how we might split a list into it's first element, and \"everything else\" using slicing:"
      ]
    },
    {
      "cell_type": "code",
      "metadata": {
        "id": "l1FjeGtXLDdc",
        "colab_type": "code",
        "colab": {}
      },
      "source": [
        "l = [1, 2, 3, 4, 5, 6]"
      ],
      "execution_count": null,
      "outputs": []
    },
    {
      "cell_type": "code",
      "metadata": {
        "id": "xZR84GDkLDdm",
        "colab_type": "code",
        "colab": {},
        "outputId": "81ad3d99-95ce-414b-da77-11b85c917a71"
      },
      "source": [
        "a = l[0]\n",
        "b = l[1:]\n",
        "print(a)\n",
        "print(b)"
      ],
      "execution_count": null,
      "outputs": [
        {
          "output_type": "stream",
          "text": [
            "1\n",
            "[2, 3, 4, 5, 6]\n"
          ],
          "name": "stdout"
        }
      ]
    },
    {
      "cell_type": "markdown",
      "metadata": {
        "id": "qNpHyhDyLDdv",
        "colab_type": "text"
      },
      "source": [
        "We can even use unpacking to simplify this slightly:"
      ]
    },
    {
      "cell_type": "code",
      "metadata": {
        "id": "_WQJ4jbSLDdw",
        "colab_type": "code",
        "colab": {},
        "outputId": "5a56e01a-92d2-444e-ff4e-9998c293c771"
      },
      "source": [
        "a, b = l[0], l[1:]\n",
        "print(a)\n",
        "print(b)"
      ],
      "execution_count": null,
      "outputs": [
        {
          "output_type": "stream",
          "text": [
            "1\n",
            "[2, 3, 4, 5, 6]\n"
          ],
          "name": "stdout"
        }
      ]
    },
    {
      "cell_type": "markdown",
      "metadata": {
        "id": "fiiAKZY6LZxp",
        "colab_type": "text"
      },
      "source": [
        "Slicing only works with iterables that are actually indexable like list,tuple, strings but not non-indexable like set & dictionary."
      ]
    },
    {
      "cell_type": "code",
      "metadata": {
        "id": "dkebNlkgLdR7",
        "colab_type": "code",
        "colab": {
          "base_uri": "https://localhost:8080/",
          "height": 197
        },
        "outputId": "2620d9c1-5afa-4866-84fd-8e9186030791"
      },
      "source": [
        "s = {1,2,3,4,5}\n",
        "a = s[0]\n",
        "b = s[1:]"
      ],
      "execution_count": 1,
      "outputs": [
        {
          "output_type": "error",
          "ename": "TypeError",
          "evalue": "ignored",
          "traceback": [
            "\u001b[0;31m---------------------------------------------------------------------------\u001b[0m",
            "\u001b[0;31mTypeError\u001b[0m                                 Traceback (most recent call last)",
            "\u001b[0;32m<ipython-input-1-1311a7ece5d5>\u001b[0m in \u001b[0;36m<module>\u001b[0;34m()\u001b[0m\n\u001b[1;32m      1\u001b[0m \u001b[0ms\u001b[0m \u001b[0;34m=\u001b[0m \u001b[0;34m{\u001b[0m\u001b[0;36m1\u001b[0m\u001b[0;34m,\u001b[0m\u001b[0;36m2\u001b[0m\u001b[0;34m,\u001b[0m\u001b[0;36m3\u001b[0m\u001b[0;34m,\u001b[0m\u001b[0;36m4\u001b[0m\u001b[0;34m,\u001b[0m\u001b[0;36m5\u001b[0m\u001b[0;34m}\u001b[0m\u001b[0;34m\u001b[0m\u001b[0;34m\u001b[0m\u001b[0m\n\u001b[0;32m----> 2\u001b[0;31m \u001b[0ma\u001b[0m \u001b[0;34m=\u001b[0m \u001b[0ms\u001b[0m\u001b[0;34m[\u001b[0m\u001b[0;36m0\u001b[0m\u001b[0;34m]\u001b[0m\u001b[0;34m\u001b[0m\u001b[0;34m\u001b[0m\u001b[0m\n\u001b[0m\u001b[1;32m      3\u001b[0m \u001b[0mb\u001b[0m \u001b[0;34m=\u001b[0m \u001b[0ms\u001b[0m\u001b[0;34m[\u001b[0m\u001b[0;36m1\u001b[0m\u001b[0;34m:\u001b[0m\u001b[0;34m]\u001b[0m\u001b[0;34m\u001b[0m\u001b[0;34m\u001b[0m\u001b[0m\n",
            "\u001b[0;31mTypeError\u001b[0m: 'set' object does not support indexing"
          ]
        }
      ]
    },
    {
      "cell_type": "markdown",
      "metadata": {
        "id": "LYbfB8LkLDd3",
        "colab_type": "text"
      },
      "source": [
        "But we can use the **\\*** operator to achieve the same result:"
      ]
    },
    {
      "cell_type": "code",
      "metadata": {
        "id": "I9OGc_V6LDd5",
        "colab_type": "code",
        "colab": {},
        "outputId": "b820abbf-63a8-4b2a-d778-7294fc1a2145"
      },
      "source": [
        "a, *b = l\n",
        "print(a)\n",
        "print(b)"
      ],
      "execution_count": null,
      "outputs": [
        {
          "output_type": "stream",
          "text": [
            "1\n",
            "[2, 3, 4, 5, 6]\n"
          ],
          "name": "stdout"
        }
      ]
    },
    {
      "cell_type": "markdown",
      "metadata": {
        "id": "Hb5JlV1TLq0l",
        "colab_type": "text"
      },
      "source": [
        "but this works with all iterables."
      ]
    },
    {
      "cell_type": "code",
      "metadata": {
        "id": "b4OQnKohLsPW",
        "colab_type": "code",
        "colab": {
          "base_uri": "https://localhost:8080/",
          "height": 51
        },
        "outputId": "a4ed3a01-f516-4aad-9698-72c8f67e2e6f"
      },
      "source": [
        "s = {1,2,3,4,5}\n",
        "a, *b = s\n",
        "print(a)\n",
        "print(b)"
      ],
      "execution_count": 2,
      "outputs": [
        {
          "output_type": "stream",
          "text": [
            "1\n",
            "[2, 3, 4, 5]\n"
          ],
          "name": "stdout"
        }
      ]
    },
    {
      "cell_type": "markdown",
      "metadata": {
        "id": "7GRAgZlPLDd_",
        "colab_type": "text"
      },
      "source": [
        "Note that the **\\*** operator can only appear **once**!"
      ]
    },
    {
      "cell_type": "markdown",
      "metadata": {
        "id": "2rpM8H3CLDeB",
        "colab_type": "text"
      },
      "source": [
        "Like standard unpacking, this extended unpacking will work with any iterable."
      ]
    },
    {
      "cell_type": "markdown",
      "metadata": {
        "id": "SQ-ZVpqCLDeC",
        "colab_type": "text"
      },
      "source": [
        "With tuples:"
      ]
    },
    {
      "cell_type": "code",
      "metadata": {
        "id": "WkVuiOndLDeD",
        "colab_type": "code",
        "colab": {},
        "outputId": "bbf0a728-19e3-4fa5-de5a-7bca0c3ae9a4"
      },
      "source": [
        "a, *b = -10, 5, 2, 100\n",
        "print(a)\n",
        "print(b)"
      ],
      "execution_count": null,
      "outputs": [
        {
          "output_type": "stream",
          "text": [
            "-10\n",
            "[5, 2, 100]\n"
          ],
          "name": "stdout"
        }
      ]
    },
    {
      "cell_type": "markdown",
      "metadata": {
        "id": "E8-DKswcLDeI",
        "colab_type": "text"
      },
      "source": [
        "With strings:"
      ]
    },
    {
      "cell_type": "code",
      "metadata": {
        "id": "ghaiWwGTLDeJ",
        "colab_type": "code",
        "colab": {},
        "outputId": "31e54306-0aa2-4ecd-b68a-05d064825b58"
      },
      "source": [
        "a, *b = 'python'\n",
        "print(a)\n",
        "print(b)"
      ],
      "execution_count": null,
      "outputs": [
        {
          "output_type": "stream",
          "text": [
            "p\n",
            "['y', 't', 'h', 'o', 'n']\n"
          ],
          "name": "stdout"
        }
      ]
    },
    {
      "cell_type": "markdown",
      "metadata": {
        "id": "nOV4rZK8LDeN",
        "colab_type": "text"
      },
      "source": [
        "What about extracting the first, second, last elements and *the rest*."
      ]
    },
    {
      "cell_type": "markdown",
      "metadata": {
        "id": "zuZjmzgYLDeO",
        "colab_type": "text"
      },
      "source": [
        "Again we can use slicing:"
      ]
    },
    {
      "cell_type": "code",
      "metadata": {
        "id": "Asix2HBtLDeP",
        "colab_type": "code",
        "colab": {},
        "outputId": "d6fb9cce-d82e-4a1b-d292-d97369347d0f"
      },
      "source": [
        "s = 'python'\n",
        "\n",
        "a, b, c, d = s[0], s[1], s[2:-1], s[-1]\n",
        "print(a)\n",
        "print(b)\n",
        "print(c)\n",
        "print(d)"
      ],
      "execution_count": null,
      "outputs": [
        {
          "output_type": "stream",
          "text": [
            "p\n",
            "y\n",
            "tho\n",
            "n\n"
          ],
          "name": "stdout"
        }
      ]
    },
    {
      "cell_type": "markdown",
      "metadata": {
        "id": "CFtdmDm1LDeS",
        "colab_type": "text"
      },
      "source": [
        "But we can just as easily do it this way using unpacking:"
      ]
    },
    {
      "cell_type": "code",
      "metadata": {
        "id": "kMZOU3EPLDeT",
        "colab_type": "code",
        "colab": {},
        "outputId": "1070cff3-822b-4d3f-8c67-ef04fcf192ee"
      },
      "source": [
        "a, b, *c, d = s\n",
        "print(a)\n",
        "print(b)\n",
        "print(c)\n",
        "print(d)"
      ],
      "execution_count": null,
      "outputs": [
        {
          "output_type": "stream",
          "text": [
            "p\n",
            "y\n",
            "['t', 'h', 'o']\n",
            "n\n"
          ],
          "name": "stdout"
        }
      ]
    },
    {
      "cell_type": "markdown",
      "metadata": {
        "id": "ogIaE0IDLDeX",
        "colab_type": "text"
      },
      "source": [
        "As you can see though, **c** is a list of characters, not a string.\n",
        "\n",
        "It that's a problem we can easily fix it this way:"
      ]
    },
    {
      "cell_type": "code",
      "metadata": {
        "id": "fjAitI-hLDeX",
        "colab_type": "code",
        "colab": {},
        "outputId": "a0757abb-76fc-43fd-df30-45728d507f63"
      },
      "source": [
        "print(c)\n",
        "c = ''.join(c)\n",
        "print(c)"
      ],
      "execution_count": null,
      "outputs": [
        {
          "output_type": "stream",
          "text": [
            "['t', 'h', 'o']\n",
            "tho\n"
          ],
          "name": "stdout"
        }
      ]
    },
    {
      "cell_type": "markdown",
      "metadata": {
        "id": "sXazzdkwLDee",
        "colab_type": "text"
      },
      "source": [
        "We can also use unpacking on the right hand side of an assignment expression:"
      ]
    },
    {
      "cell_type": "code",
      "metadata": {
        "id": "qzQ3kaXvLDee",
        "colab_type": "code",
        "colab": {},
        "outputId": "3bebd14d-9e79-4742-cd94-eaa808b26b94"
      },
      "source": [
        "l1 = [1, 2, 3]\n",
        "l2 = [4, 5, 6]\n",
        "l = [*l1, *l2]\n",
        "print(l)"
      ],
      "execution_count": null,
      "outputs": [
        {
          "output_type": "stream",
          "text": [
            "[1, 2, 3, 4, 5, 6]\n"
          ],
          "name": "stdout"
        }
      ]
    },
    {
      "cell_type": "code",
      "metadata": {
        "id": "39VPuiFFLDeh",
        "colab_type": "code",
        "colab": {},
        "outputId": "067c4a9a-2794-4e24-de21-25adc77175f5"
      },
      "source": [
        "l1 = [1, 2, 3]\n",
        "s = 'ABC'\n",
        "l = [*l1, *s]\n",
        "print(l)"
      ],
      "execution_count": null,
      "outputs": [
        {
          "output_type": "stream",
          "text": [
            "[1, 2, 3, 'A', 'B', 'C']\n"
          ],
          "name": "stdout"
        }
      ]
    },
    {
      "cell_type": "markdown",
      "metadata": {
        "id": "StU1NTULLDel",
        "colab_type": "text"
      },
      "source": [
        "This unpacking works with unordered types such as sets and dictionaries as well.\n",
        "\n",
        "The only thing is that it may not be very useful considering there is no particular ordering, so a first or last element has no real useful meaning."
      ]
    },
    {
      "cell_type": "code",
      "metadata": {
        "id": "HFjcQ_RXLDem",
        "colab_type": "code",
        "colab": {}
      },
      "source": [
        "s = {10, -99, 3, 'd'}"
      ],
      "execution_count": null,
      "outputs": []
    },
    {
      "cell_type": "code",
      "metadata": {
        "id": "2iHiFaMuLDep",
        "colab_type": "code",
        "colab": {},
        "outputId": "1f022a51-663b-421a-ea3b-1b015573a5df"
      },
      "source": [
        "for c in s:\n",
        "    print(c)"
      ],
      "execution_count": null,
      "outputs": [
        {
          "output_type": "stream",
          "text": [
            "10\n",
            "3\n",
            "d\n",
            "-99\n"
          ],
          "name": "stdout"
        }
      ]
    },
    {
      "cell_type": "markdown",
      "metadata": {
        "id": "_gHO6e-gLDet",
        "colab_type": "text"
      },
      "source": [
        "As you can see, the order of the elements when we created the set was not retained!"
      ]
    },
    {
      "cell_type": "code",
      "metadata": {
        "id": "J3aNEqIKLDeu",
        "colab_type": "code",
        "colab": {},
        "outputId": "d901a4c5-462e-436b-bfc8-52c56e75abe0"
      },
      "source": [
        "s = {10, -99, 3, 'd'}\n",
        "a, b, *c = s\n",
        "print(a)\n",
        "print(b)\n",
        "print(c)"
      ],
      "execution_count": null,
      "outputs": [
        {
          "output_type": "stream",
          "text": [
            "10\n",
            "3\n",
            "['d', -99]\n"
          ],
          "name": "stdout"
        }
      ]
    },
    {
      "cell_type": "markdown",
      "metadata": {
        "id": "MQBrDnMOLDex",
        "colab_type": "text"
      },
      "source": [
        "So unpacking this way is of limited use.\n",
        "\n",
        "However consider this:"
      ]
    },
    {
      "cell_type": "code",
      "metadata": {
        "id": "N59QfedxLDey",
        "colab_type": "code",
        "colab": {},
        "outputId": "7e1bb2f8-57cf-4604-f9e0-2008231ee694"
      },
      "source": [
        "s = {10, -99, 3, 'd'}\n",
        "*a, = s\n",
        "print(a)"
      ],
      "execution_count": null,
      "outputs": [
        {
          "output_type": "stream",
          "text": [
            "[10, 3, 'd', -99]\n"
          ],
          "name": "stdout"
        }
      ]
    },
    {
      "cell_type": "markdown",
      "metadata": {
        "id": "o70uIPnGLDe1",
        "colab_type": "text"
      },
      "source": [
        "At first blush, this doesn't look terribly exciting - we simply unpacked the set values into a list.\n",
        "\n",
        "But this is actually quite useful in both sets and dictionaries to combine things (although to be sure, there are alternative ways to do this as well - which we'll cover later in this course)"
      ]
    },
    {
      "cell_type": "code",
      "metadata": {
        "id": "e6p99-yBLDe2",
        "colab_type": "code",
        "colab": {}
      },
      "source": [
        "s1 = {1, 2, 3}\n",
        "s2 = {3, 4, 5}"
      ],
      "execution_count": null,
      "outputs": []
    },
    {
      "cell_type": "markdown",
      "metadata": {
        "id": "CcbQZV4KLDe6",
        "colab_type": "text"
      },
      "source": [
        "How can we combine both these sets into a single merged set?"
      ]
    },
    {
      "cell_type": "code",
      "metadata": {
        "id": "STGenhKDLDe7",
        "colab_type": "code",
        "colab": {},
        "outputId": "fc56642b-fa7d-4408-d933-c7bb106eb56e"
      },
      "source": [
        "s1 + s2"
      ],
      "execution_count": null,
      "outputs": [
        {
          "output_type": "error",
          "ename": "TypeError",
          "evalue": "unsupported operand type(s) for +: 'set' and 'set'",
          "traceback": [
            "\u001b[1;31m---------------------------------------------------------------------------\u001b[0m",
            "\u001b[1;31mTypeError\u001b[0m                                 Traceback (most recent call last)",
            "\u001b[1;32m<ipython-input-22-1659087814e1>\u001b[0m in \u001b[0;36m<module>\u001b[1;34m()\u001b[0m\n\u001b[1;32m----> 1\u001b[1;33m \u001b[0ms1\u001b[0m \u001b[1;33m+\u001b[0m \u001b[0ms2\u001b[0m\u001b[1;33m\u001b[0m\u001b[0m\n\u001b[0m",
            "\u001b[1;31mTypeError\u001b[0m: unsupported operand type(s) for +: 'set' and 'set'"
          ]
        }
      ]
    },
    {
      "cell_type": "markdown",
      "metadata": {
        "id": "7pH-iFSJLDe-",
        "colab_type": "text"
      },
      "source": [
        "Well, **+** doesn't work..."
      ]
    },
    {
      "cell_type": "markdown",
      "metadata": {
        "id": "ksmgZu64LDe-",
        "colab_type": "text"
      },
      "source": [
        "We could use the built-in method for unioning sets:"
      ]
    },
    {
      "cell_type": "code",
      "metadata": {
        "id": "CS8SqVJLLDe_",
        "colab_type": "code",
        "colab": {}
      },
      "source": [
        "help(set)"
      ],
      "execution_count": null,
      "outputs": []
    },
    {
      "cell_type": "code",
      "metadata": {
        "id": "Ait4Es1ILDfD",
        "colab_type": "code",
        "colab": {},
        "outputId": "4c6e65b8-55ec-4b34-d1f9-ab45b826d0dc"
      },
      "source": [
        "print(s1)\n",
        "print(s2)\n",
        "s1.union(s2)"
      ],
      "execution_count": null,
      "outputs": [
        {
          "output_type": "stream",
          "text": [
            "{1, 2, 3}\n",
            "{3, 4, 5}\n"
          ],
          "name": "stdout"
        },
        {
          "output_type": "execute_result",
          "data": {
            "text/plain": [
              "{1, 2, 3, 4, 5}"
            ]
          },
          "metadata": {
            "tags": []
          },
          "execution_count": 25
        }
      ]
    },
    {
      "cell_type": "markdown",
      "metadata": {
        "id": "-2ogE_TDLDfF",
        "colab_type": "text"
      },
      "source": [
        "What about joining 4 different sets?"
      ]
    },
    {
      "cell_type": "code",
      "metadata": {
        "id": "QB_Tk9ZBLDfG",
        "colab_type": "code",
        "colab": {
          "base_uri": "https://localhost:8080/",
          "height": 51
        },
        "outputId": "21f274e7-d6c3-47f5-c957-7e85241da2ef"
      },
      "source": [
        "s1 = {1, 2, 3}\n",
        "s2 = {3, 4, 5}\n",
        "s3 = {5, 6, 7}\n",
        "s4 = {7, 8, 9}\n",
        "print(s1.union(s2).union(s3).union(s4))\n",
        "print(s1.union(s2, s3, s4))"
      ],
      "execution_count": 3,
      "outputs": [
        {
          "output_type": "stream",
          "text": [
            "{1, 2, 3, 4, 5, 6, 7, 8, 9}\n",
            "{1, 2, 3, 4, 5, 6, 7, 8, 9}\n"
          ],
          "name": "stdout"
        }
      ]
    },
    {
      "cell_type": "markdown",
      "metadata": {
        "id": "_dpMLGHKLDfI",
        "colab_type": "text"
      },
      "source": [
        "Or we could use unpacking in this way:"
      ]
    },
    {
      "cell_type": "code",
      "metadata": {
        "id": "CS7bN4emNQrn",
        "colab_type": "code",
        "colab": {
          "base_uri": "https://localhost:8080/",
          "height": 34
        },
        "outputId": "5ecc6dfe-f305-4b43-e0f8-55b8bbf22ed3"
      },
      "source": [
        "[*s1, *s2, *s3, *s4]"
      ],
      "execution_count": 4,
      "outputs": [
        {
          "output_type": "execute_result",
          "data": {
            "text/plain": [
              "[1, 2, 3, 3, 4, 5, 5, 6, 7, 8, 9, 7]"
            ]
          },
          "metadata": {
            "tags": []
          },
          "execution_count": 4
        }
      ]
    },
    {
      "cell_type": "code",
      "metadata": {
        "id": "rfnwfvtsLDfI",
        "colab_type": "code",
        "colab": {},
        "outputId": "fc88a602-622b-4d0b-e24a-d4094baaf928"
      },
      "source": [
        "{*s1, *s2, *s3, *s4}"
      ],
      "execution_count": null,
      "outputs": [
        {
          "output_type": "execute_result",
          "data": {
            "text/plain": [
              "{1, 2, 3, 4, 5, 6, 7, 8, 9}"
            ]
          },
          "metadata": {
            "tags": []
          },
          "execution_count": 27
        }
      ]
    },
    {
      "cell_type": "markdown",
      "metadata": {
        "id": "nTebLcbXLDfN",
        "colab_type": "text"
      },
      "source": [
        "What we did here was to unpack each set directly into another set!"
      ]
    },
    {
      "cell_type": "markdown",
      "metadata": {
        "id": "A60OJK7HLDfN",
        "colab_type": "text"
      },
      "source": [
        "The same works for dictionaries - just remember that **\\*** for dictionaries unpacks the keys only."
      ]
    },
    {
      "cell_type": "code",
      "metadata": {
        "id": "cDVDQD8WLDfO",
        "colab_type": "code",
        "colab": {},
        "outputId": "18d05ac5-9be4-417c-c5ca-db2c9c3c79f6"
      },
      "source": [
        "d1 = {'key1': 1, 'key2': 2}\n",
        "d2 = {'key2': 3, 'key3': 3}\n",
        "[*d1, *d2]"
      ],
      "execution_count": null,
      "outputs": [
        {
          "output_type": "execute_result",
          "data": {
            "text/plain": [
              "['key1', 'key2', 'key2', 'key3']"
            ]
          },
          "metadata": {
            "tags": []
          },
          "execution_count": 29
        }
      ]
    },
    {
      "cell_type": "markdown",
      "metadata": {
        "id": "4cQGc5kbLDfQ",
        "colab_type": "text"
      },
      "source": [
        "So, is there anything to unpack the key-value pairs for dictionaries instead of just the keys?"
      ]
    },
    {
      "cell_type": "markdown",
      "metadata": {
        "id": "JCgZvvwALDfQ",
        "colab_type": "text"
      },
      "source": [
        "Yes - we can use the **\\*\\*** operator:"
      ]
    },
    {
      "cell_type": "code",
      "metadata": {
        "id": "IPS6KMUtLDfR",
        "colab_type": "code",
        "colab": {},
        "outputId": "b7480b78-8e20-4fe4-8968-f842ab96312c"
      },
      "source": [
        "d1 = {'key1': 1, 'key2': 2}\n",
        "d2 = {'key2': 3, 'key3': 3}\n",
        "\n",
        "{**d1, **d2}"
      ],
      "execution_count": null,
      "outputs": [
        {
          "output_type": "execute_result",
          "data": {
            "text/plain": [
              "{'key1': 1, 'key2': 3, 'key3': 3}"
            ]
          },
          "metadata": {
            "tags": []
          },
          "execution_count": 30
        }
      ]
    },
    {
      "cell_type": "markdown",
      "metadata": {
        "id": "c_fAN7chLDfT",
        "colab_type": "text"
      },
      "source": [
        "Notice what happened to the value of **key2**. The value for the second occurrence of **key2** was retained (overwritten)."
      ]
    },
    {
      "cell_type": "markdown",
      "metadata": {
        "id": "sAbkIFKeLDfU",
        "colab_type": "text"
      },
      "source": [
        "In fact, if we write the unpacking reversing the order of d1 and d2:"
      ]
    },
    {
      "cell_type": "code",
      "metadata": {
        "id": "iEFRpSMSLDfU",
        "colab_type": "code",
        "colab": {},
        "outputId": "df85a8c6-248b-4845-8984-fee0a54e4d3e"
      },
      "source": [
        "{**d2, **d1}"
      ],
      "execution_count": null,
      "outputs": [
        {
          "output_type": "execute_result",
          "data": {
            "text/plain": [
              "{'key1': 1, 'key2': 2, 'key3': 3}"
            ]
          },
          "metadata": {
            "tags": []
          },
          "execution_count": 31
        }
      ]
    },
    {
      "cell_type": "markdown",
      "metadata": {
        "id": "8o9cxdBhLDfW",
        "colab_type": "text"
      },
      "source": [
        "we see that the value of **key2** is now **2**, since it was the second occurrence."
      ]
    },
    {
      "cell_type": "markdown",
      "metadata": {
        "id": "s1_L4mv0LDfX",
        "colab_type": "text"
      },
      "source": [
        "Of course, we can unpack a dictionary into a dictionary as seen above, but we can mix in our own key-value pairs as well - it is just a dictionary literal after all."
      ]
    },
    {
      "cell_type": "code",
      "metadata": {
        "id": "eGWob-SQLDfX",
        "colab_type": "code",
        "colab": {},
        "outputId": "60a5363a-0b1a-47ec-f641-481eced83ea0"
      },
      "source": [
        "{'a': 1, 'b': 2, **d1, **d2, 'c':3}"
      ],
      "execution_count": null,
      "outputs": [
        {
          "output_type": "execute_result",
          "data": {
            "text/plain": [
              "{'a': 1, 'b': 2, 'c': 3, 'key1': 1, 'key2': 3, 'key3': 3}"
            ]
          },
          "metadata": {
            "tags": []
          },
          "execution_count": 32
        }
      ]
    },
    {
      "cell_type": "markdown",
      "metadata": {
        "id": "mvXiRkuOLDfd",
        "colab_type": "text"
      },
      "source": [
        "Again, if we have the same keys, only the \"latest\" value of the key is retained:"
      ]
    },
    {
      "cell_type": "code",
      "metadata": {
        "id": "s1aJIKeuLDfd",
        "colab_type": "code",
        "colab": {},
        "outputId": "7895a674-f38c-4098-a489-ad46122f9a6f"
      },
      "source": [
        "{'key1': 100, **d1, **d2, 'key3': 200}"
      ],
      "execution_count": null,
      "outputs": [
        {
          "output_type": "execute_result",
          "data": {
            "text/plain": [
              "{'key1': 1, 'key2': 3, 'key3': 200}"
            ]
          },
          "metadata": {
            "tags": []
          },
          "execution_count": 33
        }
      ]
    },
    {
      "cell_type": "markdown",
      "metadata": {
        "id": "JxyexIdFLDff",
        "colab_type": "text"
      },
      "source": [
        "#### Nested Unpacking"
      ]
    },
    {
      "cell_type": "markdown",
      "metadata": {
        "id": "ck9bhvpOLDff",
        "colab_type": "text"
      },
      "source": [
        "Python even supports nested unpacking:"
      ]
    },
    {
      "cell_type": "code",
      "metadata": {
        "id": "DwXeYRuPLDfg",
        "colab_type": "code",
        "colab": {
          "base_uri": "https://localhost:8080/",
          "height": 85
        },
        "outputId": "ad6eba1d-8f0f-4f25-c81e-cdedd1e16033"
      },
      "source": [
        "a, b, (c, d) = [1, 2, ['X', 'Y']]\n",
        "print(a)\n",
        "print(b)\n",
        "print(c)\n",
        "print(d)"
      ],
      "execution_count": 5,
      "outputs": [
        {
          "output_type": "stream",
          "text": [
            "1\n",
            "2\n",
            "X\n",
            "Y\n"
          ],
          "name": "stdout"
        }
      ]
    },
    {
      "cell_type": "markdown",
      "metadata": {
        "id": "GA1gCQJzLDfi",
        "colab_type": "text"
      },
      "source": [
        "In fact, since a string is an iterable, we can even write:"
      ]
    },
    {
      "cell_type": "code",
      "metadata": {
        "id": "lb-oGiMXLDfj",
        "colab_type": "code",
        "colab": {
          "base_uri": "https://localhost:8080/",
          "height": 85
        },
        "outputId": "862d2c46-8b04-402b-fabb-d14c881cd4ad"
      },
      "source": [
        "a, b, (c, d) = [1, 2, 'XY']\n",
        "print(a)\n",
        "print(b)\n",
        "print(c)\n",
        "print(d)"
      ],
      "execution_count": 6,
      "outputs": [
        {
          "output_type": "stream",
          "text": [
            "1\n",
            "2\n",
            "X\n",
            "Y\n"
          ],
          "name": "stdout"
        }
      ]
    },
    {
      "cell_type": "markdown",
      "metadata": {
        "id": "jmSVZy2MLDfm",
        "colab_type": "text"
      },
      "source": [
        "We can even write something like this:"
      ]
    },
    {
      "cell_type": "code",
      "metadata": {
        "id": "9czDzSgQLDfn",
        "colab_type": "code",
        "colab": {
          "base_uri": "https://localhost:8080/",
          "height": 102
        },
        "outputId": "6b3f7143-2c45-4f7f-d3d9-94bc245f7211"
      },
      "source": [
        "a, b, (c, d, *e) = [1, 2, 'python']\n",
        "print(a)\n",
        "print(b)\n",
        "print(c)\n",
        "print(d)\n",
        "print(e)"
      ],
      "execution_count": 7,
      "outputs": [
        {
          "output_type": "stream",
          "text": [
            "1\n",
            "2\n",
            "p\n",
            "y\n",
            "['t', 'h', 'o', 'n']\n"
          ],
          "name": "stdout"
        }
      ]
    },
    {
      "cell_type": "markdown",
      "metadata": {
        "id": "XQ6OafNDLDfq",
        "colab_type": "text"
      },
      "source": [
        "Remember when we said that we can use a * only **once**..."
      ]
    },
    {
      "cell_type": "markdown",
      "metadata": {
        "id": "nJVb3RkNLDfq",
        "colab_type": "text"
      },
      "source": [
        "How about this then?"
      ]
    },
    {
      "cell_type": "code",
      "metadata": {
        "id": "2pcBTK2qLDfq",
        "colab_type": "code",
        "colab": {
          "base_uri": "https://localhost:8080/",
          "height": 102
        },
        "outputId": "79e64191-504d-46f1-ad17-8cf657704cf9"
      },
      "source": [
        "a, *b, (c, d, *e) = [1, 2, 3, 'python']\n",
        "print(a)\n",
        "print(b)\n",
        "print(c)\n",
        "print(d)\n",
        "print(e)"
      ],
      "execution_count": 8,
      "outputs": [
        {
          "output_type": "stream",
          "text": [
            "1\n",
            "[2, 3]\n",
            "p\n",
            "y\n",
            "['t', 'h', 'o', 'n']\n"
          ],
          "name": "stdout"
        }
      ]
    },
    {
      "cell_type": "markdown",
      "metadata": {
        "id": "ccPeB3eiLDft",
        "colab_type": "text"
      },
      "source": [
        "We can break down what happened here in multiple steps:"
      ]
    },
    {
      "cell_type": "code",
      "metadata": {
        "id": "YhdNh3kPLDfu",
        "colab_type": "code",
        "colab": {
          "base_uri": "https://localhost:8080/",
          "height": 68
        },
        "outputId": "352a4721-ab00-4fed-c166-6aa905b589f8"
      },
      "source": [
        "a, *b, tmp = [1, 2, 3, 'python']\n",
        "print(a)\n",
        "print(b)\n",
        "print(tmp)"
      ],
      "execution_count": 9,
      "outputs": [
        {
          "output_type": "stream",
          "text": [
            "1\n",
            "[2, 3]\n",
            "python\n"
          ],
          "name": "stdout"
        }
      ]
    },
    {
      "cell_type": "code",
      "metadata": {
        "id": "8QmhkyUiLDfw",
        "colab_type": "code",
        "colab": {
          "base_uri": "https://localhost:8080/",
          "height": 68
        },
        "outputId": "8e6e6912-7270-45f5-997c-383a1b139612"
      },
      "source": [
        "c, d, *e = tmp\n",
        "print(c)\n",
        "print(d)\n",
        "print(e)"
      ],
      "execution_count": 10,
      "outputs": [
        {
          "output_type": "stream",
          "text": [
            "p\n",
            "y\n",
            "['t', 'h', 'o', 'n']\n"
          ],
          "name": "stdout"
        }
      ]
    },
    {
      "cell_type": "markdown",
      "metadata": {
        "id": "Dta1QXj9LDfy",
        "colab_type": "text"
      },
      "source": [
        "So putting it together we get our original line of code:"
      ]
    },
    {
      "cell_type": "code",
      "metadata": {
        "id": "LrESjEiqLDfy",
        "colab_type": "code",
        "colab": {
          "base_uri": "https://localhost:8080/",
          "height": 102
        },
        "outputId": "e6b7ea30-8af4-4f72-8ade-81a8703cf83d"
      },
      "source": [
        "a, *b, (c, d, *e) = [1, 2, 3, 'python']\n",
        "print(a)\n",
        "print(b)\n",
        "print(c)\n",
        "print(d)\n",
        "print(e)"
      ],
      "execution_count": 11,
      "outputs": [
        {
          "output_type": "stream",
          "text": [
            "1\n",
            "[2, 3]\n",
            "p\n",
            "y\n",
            "['t', 'h', 'o', 'n']\n"
          ],
          "name": "stdout"
        }
      ]
    },
    {
      "cell_type": "markdown",
      "metadata": {
        "id": "1nuPUPppLDf2",
        "colab_type": "text"
      },
      "source": [
        "If we wanted to do the same thing using slicing:"
      ]
    },
    {
      "cell_type": "code",
      "metadata": {
        "id": "OmWkqe4TLDf3",
        "colab_type": "code",
        "colab": {
          "base_uri": "https://localhost:8080/",
          "height": 34
        },
        "outputId": "49c2b963-1427-4a5e-ecee-94b6ded1428c"
      },
      "source": [
        "l = [1, 2, 3, 'python']\n",
        "l[0], l[1:-1], l[-1][0], l[-1][1], list(l[-1][2:])"
      ],
      "execution_count": 12,
      "outputs": [
        {
          "output_type": "execute_result",
          "data": {
            "text/plain": [
              "(1, [2, 3], 'p', 'y', ['t', 'h', 'o', 'n'])"
            ]
          },
          "metadata": {
            "tags": []
          },
          "execution_count": 12
        }
      ]
    },
    {
      "cell_type": "code",
      "metadata": {
        "id": "vf5DBf7xLDf7",
        "colab_type": "code",
        "colab": {
          "base_uri": "https://localhost:8080/",
          "height": 102
        },
        "outputId": "cc1762c5-f4fc-4ae0-ebe6-8d1314f74215"
      },
      "source": [
        "l = [1, 2, 3, 'python']\n",
        "a, b, c, d, e = l[0], l[1:-1], l[-1][0], l[-1][1], list(l[-1][2:])\n",
        "print(a)\n",
        "print(b)\n",
        "print(c)\n",
        "print(d)\n",
        "print(e)"
      ],
      "execution_count": 13,
      "outputs": [
        {
          "output_type": "stream",
          "text": [
            "1\n",
            "[2, 3]\n",
            "p\n",
            "y\n",
            "['t', 'h', 'o', 'n']\n"
          ],
          "name": "stdout"
        }
      ]
    },
    {
      "cell_type": "markdown",
      "metadata": {
        "id": "fZZGiGZeLDf_",
        "colab_type": "text"
      },
      "source": [
        "Of course, this works for arbitrary lengths and indexable sequence types:"
      ]
    },
    {
      "cell_type": "code",
      "metadata": {
        "id": "vrIuaqlDLDgA",
        "colab_type": "code",
        "colab": {
          "base_uri": "https://localhost:8080/",
          "height": 102
        },
        "outputId": "65aa5a3b-ecee-4dfb-de93-890b7b07f360"
      },
      "source": [
        "l = [1, 2, 3, 4, 'unladen swallow']\n",
        "a, b, c, d, e = l[0], l[1:-1], l[-1][0], l[-1][1], list(l[-1][2:])\n",
        "print(a)\n",
        "print(b)\n",
        "print(c)\n",
        "print(d)\n",
        "print(e)"
      ],
      "execution_count": 14,
      "outputs": [
        {
          "output_type": "stream",
          "text": [
            "1\n",
            "[2, 3, 4]\n",
            "u\n",
            "n\n",
            "['l', 'a', 'd', 'e', 'n', ' ', 's', 'w', 'a', 'l', 'l', 'o', 'w']\n"
          ],
          "name": "stdout"
        }
      ]
    },
    {
      "cell_type": "markdown",
      "metadata": {
        "id": "WUewVKiQLDgC",
        "colab_type": "text"
      },
      "source": [
        "or even:"
      ]
    },
    {
      "cell_type": "code",
      "metadata": {
        "id": "ETVw82P2LDgC",
        "colab_type": "code",
        "colab": {
          "base_uri": "https://localhost:8080/",
          "height": 102
        },
        "outputId": "78f31570-e153-45f1-f9c1-0945f9da2e2f"
      },
      "source": [
        "l = [1, 2, 3, 4, ['a', 'b', 'c', 'd']]\n",
        "a, b, c, d, e = l[0], l[1:-1], l[-1][0], l[-1][1], list(l[-1][2:])\n",
        "print(a)\n",
        "print(b)\n",
        "print(c)\n",
        "print(d)\n",
        "print(e)"
      ],
      "execution_count": 15,
      "outputs": [
        {
          "output_type": "stream",
          "text": [
            "1\n",
            "[2, 3, 4]\n",
            "a\n",
            "b\n",
            "['c', 'd']\n"
          ],
          "name": "stdout"
        }
      ]
    },
    {
      "cell_type": "code",
      "metadata": {
        "id": "0dKdmNWvLDgG",
        "colab_type": "code",
        "colab": {}
      },
      "source": [
        ""
      ],
      "execution_count": 15,
      "outputs": []
    }
  ]
}