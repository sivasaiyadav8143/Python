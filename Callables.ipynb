{
  "nbformat": 4,
  "nbformat_minor": 0,
  "metadata": {
    "kernelspec": {
      "display_name": "Python 3",
      "language": "python",
      "name": "python3"
    },
    "language_info": {
      "codemirror_mode": {
        "name": "ipython",
        "version": 3
      },
      "file_extension": ".py",
      "mimetype": "text/x-python",
      "name": "python",
      "nbconvert_exporter": "python",
      "pygments_lexer": "ipython3",
      "version": "3.6.2"
    },
    "colab": {
      "name": "Callables.ipynb",
      "provenance": [],
      "include_colab_link": true
    }
  },
  "cells": [
    {
      "cell_type": "markdown",
      "metadata": {
        "id": "view-in-github",
        "colab_type": "text"
      },
      "source": [
        "<a href=\"https://colab.research.google.com/github/sivasaiyadav8143/Python/blob/master/Callables.ipynb\" target=\"_parent\"><img src=\"https://colab.research.google.com/assets/colab-badge.svg\" alt=\"Open In Colab\"/></a>"
      ]
    },
    {
      "cell_type": "markdown",
      "metadata": {
        "id": "LcwNepEv6fx1",
        "colab_type": "text"
      },
      "source": [
        "### Callables"
      ]
    },
    {
      "cell_type": "markdown",
      "metadata": {
        "id": "gmzw2gUJ6fx2",
        "colab_type": "text"
      },
      "source": [
        "A callable is an object that can be called (using the **()** operator), and always returns a value.\n",
        "\n",
        "We can check if an object is callable by using the built-in function **callable**"
      ]
    },
    {
      "cell_type": "markdown",
      "metadata": {
        "id": "4lZ1IDzL6fx3",
        "colab_type": "text"
      },
      "source": [
        "##### Functions and Methods are callable"
      ]
    },
    {
      "cell_type": "code",
      "metadata": {
        "id": "Fv18jPyv6fx4",
        "colab_type": "code",
        "colab": {},
        "outputId": "f4dea748-0741-4850-bd7a-353e33d46668"
      },
      "source": [
        "callable(print)"
      ],
      "execution_count": null,
      "outputs": [
        {
          "output_type": "execute_result",
          "data": {
            "text/plain": [
              "True"
            ]
          },
          "metadata": {
            "tags": []
          },
          "execution_count": 1
        }
      ]
    },
    {
      "cell_type": "code",
      "metadata": {
        "id": "4LPtiZAr6fx-",
        "colab_type": "code",
        "colab": {},
        "outputId": "b1cfe746-2991-482f-f7ce-460b30ae1f88"
      },
      "source": [
        "callable(len)"
      ],
      "execution_count": null,
      "outputs": [
        {
          "output_type": "execute_result",
          "data": {
            "text/plain": [
              "True"
            ]
          },
          "metadata": {
            "tags": []
          },
          "execution_count": 2
        }
      ]
    },
    {
      "cell_type": "code",
      "metadata": {
        "id": "EF61ILtb6fyA",
        "colab_type": "code",
        "colab": {},
        "outputId": "d9c341cc-489d-4bfa-a198-f5e04d84afcd"
      },
      "source": [
        "l = [1, 2, 3]\n",
        "callable(l.append)"
      ],
      "execution_count": null,
      "outputs": [
        {
          "output_type": "execute_result",
          "data": {
            "text/plain": [
              "True"
            ]
          },
          "metadata": {
            "tags": []
          },
          "execution_count": 3
        }
      ]
    },
    {
      "cell_type": "code",
      "metadata": {
        "id": "2g2XvsMH6fyD",
        "colab_type": "code",
        "colab": {},
        "outputId": "969d07dc-7449-4a88-f2fb-e0f1461611c1"
      },
      "source": [
        "s = 'abc'\n",
        "callable(s.upper)"
      ],
      "execution_count": null,
      "outputs": [
        {
          "output_type": "execute_result",
          "data": {
            "text/plain": [
              "True"
            ]
          },
          "metadata": {
            "tags": []
          },
          "execution_count": 4
        }
      ]
    },
    {
      "cell_type": "markdown",
      "metadata": {
        "id": "AOi8RJDf6fyG",
        "colab_type": "text"
      },
      "source": [
        "##### Callables **always** return a value:"
      ]
    },
    {
      "cell_type": "code",
      "metadata": {
        "id": "9RoZNa2Q6fyG",
        "colab_type": "code",
        "colab": {},
        "outputId": "90eae748-1e08-428b-9a05-655b5596b537"
      },
      "source": [
        "result = print('hello')\n",
        "print(result)"
      ],
      "execution_count": null,
      "outputs": [
        {
          "output_type": "stream",
          "text": [
            "hello\n",
            "None\n"
          ],
          "name": "stdout"
        }
      ]
    },
    {
      "cell_type": "code",
      "metadata": {
        "id": "1t_mB5Xj6fyJ",
        "colab_type": "code",
        "colab": {},
        "outputId": "c590356a-776a-4319-d212-11126eeb7499"
      },
      "source": [
        "l = [1, 2, 3]\n",
        "result = l.append(4)\n",
        "print(result)\n",
        "print(l)"
      ],
      "execution_count": null,
      "outputs": [
        {
          "output_type": "stream",
          "text": [
            "None\n",
            "[1, 2, 3, 4]\n"
          ],
          "name": "stdout"
        }
      ]
    },
    {
      "cell_type": "code",
      "metadata": {
        "id": "QCilODqc6fyQ",
        "colab_type": "code",
        "colab": {},
        "outputId": "717b66ae-f48b-45df-d82b-a864cc3798e8"
      },
      "source": [
        "s = 'abc'\n",
        "result = s.upper()\n",
        "print(result)"
      ],
      "execution_count": null,
      "outputs": [
        {
          "output_type": "stream",
          "text": [
            "ABC\n"
          ],
          "name": "stdout"
        }
      ]
    },
    {
      "cell_type": "markdown",
      "metadata": {
        "id": "be2ZE0n36fyS",
        "colab_type": "text"
      },
      "source": [
        "##### Classes are callable:"
      ]
    },
    {
      "cell_type": "code",
      "metadata": {
        "id": "XATMmmAG6fyT",
        "colab_type": "code",
        "colab": {}
      },
      "source": [
        "from decimal import Decimal"
      ],
      "execution_count": null,
      "outputs": []
    },
    {
      "cell_type": "code",
      "metadata": {
        "id": "nVbtrHtL6fyV",
        "colab_type": "code",
        "colab": {},
        "outputId": "4498d720-c826-498c-983a-4d080ae454d7"
      },
      "source": [
        "callable(Decimal)"
      ],
      "execution_count": null,
      "outputs": [
        {
          "output_type": "execute_result",
          "data": {
            "text/plain": [
              "True"
            ]
          },
          "metadata": {
            "tags": []
          },
          "execution_count": 9
        }
      ]
    },
    {
      "cell_type": "code",
      "metadata": {
        "id": "7jEWvNtO6fyY",
        "colab_type": "code",
        "colab": {},
        "outputId": "e1eda68d-92b9-4b2a-ab62-ec5cc667c812"
      },
      "source": [
        "result = Decimal('10.5')\n",
        "print(result)"
      ],
      "execution_count": null,
      "outputs": [
        {
          "output_type": "stream",
          "text": [
            "10.5\n"
          ],
          "name": "stdout"
        }
      ]
    },
    {
      "cell_type": "markdown",
      "metadata": {
        "id": "cfLs1qxB6fya",
        "colab_type": "text"
      },
      "source": [
        "##### Class instances may be callable:"
      ]
    },
    {
      "cell_type": "code",
      "metadata": {
        "id": "KQtGQ6tW6fya",
        "colab_type": "code",
        "colab": {}
      },
      "source": [
        "class MyClass:\n",
        "    def __init__(self):\n",
        "        print('initializing...')\n",
        "        self.counter = 0\n",
        "    \n",
        "    def __call__(self, x=1):\n",
        "        self.counter += x\n",
        "        print(self.counter)"
      ],
      "execution_count": null,
      "outputs": []
    },
    {
      "cell_type": "code",
      "metadata": {
        "id": "qqkq8rY56fyd",
        "colab_type": "code",
        "colab": {},
        "outputId": "66db6257-e8b8-4a46-d0ee-6616de252e06"
      },
      "source": [
        "my_obj = MyClass()"
      ],
      "execution_count": null,
      "outputs": [
        {
          "output_type": "stream",
          "text": [
            "initializing...\n"
          ],
          "name": "stdout"
        }
      ]
    },
    {
      "cell_type": "code",
      "metadata": {
        "id": "LDq6FNzo6fyf",
        "colab_type": "code",
        "colab": {},
        "outputId": "dee1cc09-4b3b-4614-9082-713ce0fa2e2a"
      },
      "source": [
        "callable(my_obj.__init__)"
      ],
      "execution_count": null,
      "outputs": [
        {
          "output_type": "execute_result",
          "data": {
            "text/plain": [
              "True"
            ]
          },
          "metadata": {
            "tags": []
          },
          "execution_count": 13
        }
      ]
    },
    {
      "cell_type": "code",
      "metadata": {
        "id": "9UKf7Zi06fyi",
        "colab_type": "code",
        "colab": {},
        "outputId": "8c6b020a-9f5f-40e2-aeb0-66b3530da3b4"
      },
      "source": [
        "callable(my_obj.__call__)"
      ],
      "execution_count": null,
      "outputs": [
        {
          "output_type": "execute_result",
          "data": {
            "text/plain": [
              "True"
            ]
          },
          "metadata": {
            "tags": []
          },
          "execution_count": 14
        }
      ]
    },
    {
      "cell_type": "code",
      "metadata": {
        "id": "WcA57_Wd6fyk",
        "colab_type": "code",
        "colab": {},
        "outputId": "bed2888c-bd20-4db6-af4b-73b56ef6794c"
      },
      "source": [
        "my_obj()"
      ],
      "execution_count": null,
      "outputs": [
        {
          "output_type": "stream",
          "text": [
            "1\n"
          ],
          "name": "stdout"
        }
      ]
    },
    {
      "cell_type": "code",
      "metadata": {
        "id": "t_0tc7DP6fyn",
        "colab_type": "code",
        "colab": {},
        "outputId": "900598ee-da6a-4ab4-8ab9-4231c123ec67"
      },
      "source": [
        "my_obj()"
      ],
      "execution_count": null,
      "outputs": [
        {
          "output_type": "stream",
          "text": [
            "2\n"
          ],
          "name": "stdout"
        }
      ]
    },
    {
      "cell_type": "code",
      "metadata": {
        "id": "QrntJr0Y6fyp",
        "colab_type": "code",
        "colab": {},
        "outputId": "36e57fcd-c5e3-4252-c456-9752463960da"
      },
      "source": [
        "my_obj(10)"
      ],
      "execution_count": null,
      "outputs": [
        {
          "output_type": "stream",
          "text": [
            "12\n"
          ],
          "name": "stdout"
        }
      ]
    }
  ]
}