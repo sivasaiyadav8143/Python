{
  "nbformat": 4,
  "nbformat_minor": 0,
  "metadata": {
    "kernelspec": {
      "display_name": "Python 3",
      "language": "python",
      "name": "python3"
    },
    "language_info": {
      "codemirror_mode": {
        "name": "ipython",
        "version": 3
      },
      "file_extension": ".py",
      "mimetype": "text/x-python",
      "name": "python",
      "nbconvert_exporter": "python",
      "pygments_lexer": "ipython3",
      "version": "3.6.2"
    },
    "colab": {
      "name": "Application using Decorator (Timer).ipynb",
      "provenance": [],
      "include_colab_link": true
    }
  },
  "cells": [
    {
      "cell_type": "markdown",
      "metadata": {
        "id": "view-in-github",
        "colab_type": "text"
      },
      "source": [
        "<a href=\"https://colab.research.google.com/github/sivasaiyadav8143/Python/blob/master/Application_using_Decorator_(Timer).ipynb\" target=\"_parent\"><img src=\"https://colab.research.google.com/assets/colab-badge.svg\" alt=\"Open In Colab\"/></a>"
      ]
    },
    {
      "cell_type": "markdown",
      "metadata": {
        "id": "NaffrTgA7dms"
      },
      "source": [
        "### Decorators Application (Timing)"
      ]
    },
    {
      "cell_type": "markdown",
      "metadata": {
        "id": "0RVJnbxh7dmt"
      },
      "source": [
        "Here we do a application to calculate the timing how long it takes to run a certain function."
      ]
    },
    {
      "cell_type": "code",
      "metadata": {
        "id": "wpEjQavK7dmu"
      },
      "source": [
        "def timed(fn):\n",
        "    from time import perf_counter\n",
        "    from functools import wraps\n",
        "    \n",
        "    @wraps(fn)\n",
        "    def inner(*args, **kwargs):\n",
        "        start = perf_counter()\n",
        "        result = fn(*args, **kwargs)\n",
        "        end = perf_counter()\n",
        "        elapsed = end - start\n",
        "        \n",
        "        args_ = [str(a) for a in args]\n",
        "        kwargs_ = ['{0}={1}'.format(k, v) for (k, v) in kwargs.items()]\n",
        "        all_args = args_ + kwargs_\n",
        "        args_str = ','.join(all_args)\n",
        "        print('{0}({1}) took {2:.6f}s to run.'.format(fn.__name__, \n",
        "                                                         args_str,\n",
        "                                                         elapsed))\n",
        "        return result\n",
        "    \n",
        "    return inner"
      ],
      "execution_count": null,
      "outputs": []
    },
    {
      "cell_type": "markdown",
      "metadata": {
        "id": "g3vAax2c7dmz"
      },
      "source": [
        "Let's write a function that calculates the n-th Fibonacci number:\n",
        "\n",
        "`1, 1, 2, 3, 5, 8, ...`\n",
        "\n",
        "We will implement this using three different methods:\n",
        "1. recursion\n",
        "2. a loop\n",
        "3. functional programming (reduce)\n",
        "\n",
        "We use a 1-based system, e.g. first Fibonnaci number has index 1, etc."
      ]
    },
    {
      "cell_type": "markdown",
      "metadata": {
        "id": "lHG5_cTg7dm0"
      },
      "source": [
        "#### Using Recursion\n"
      ]
    },
    {
      "cell_type": "code",
      "metadata": {
        "id": "taJ8T8lT7dm1"
      },
      "source": [
        "def calc_recursive_fib(n):\n",
        "    if n <=2:\n",
        "        return 1\n",
        "    else:\n",
        "        return calc_recursive_fib(n-1) + calc_recursive_fib(n-2)"
      ],
      "execution_count": null,
      "outputs": []
    },
    {
      "cell_type": "code",
      "metadata": {
        "id": "vc8tvG427dm8",
        "outputId": "67340300-0870-45b9-f519-25dbdb7a22c6"
      },
      "source": [
        "calc_recursive_fib(3)"
      ],
      "execution_count": null,
      "outputs": [
        {
          "output_type": "execute_result",
          "data": {
            "text/plain": [
              "2"
            ]
          },
          "metadata": {
            "tags": []
          },
          "execution_count": 3
        }
      ]
    },
    {
      "cell_type": "code",
      "metadata": {
        "id": "K8J5stZt7dnB",
        "outputId": "63f5351f-8909-41d4-aea1-04f13311f476"
      },
      "source": [
        "calc_recursive_fib(6)"
      ],
      "execution_count": null,
      "outputs": [
        {
          "output_type": "execute_result",
          "data": {
            "text/plain": [
              "8"
            ]
          },
          "metadata": {
            "tags": []
          },
          "execution_count": 4
        }
      ]
    },
    {
      "cell_type": "code",
      "metadata": {
        "id": "qm3IBpoA7dnE"
      },
      "source": [
        "@timed\n",
        "def fib_recursed(n):\n",
        "    return calc_recursive_fib(n)"
      ],
      "execution_count": null,
      "outputs": []
    },
    {
      "cell_type": "code",
      "metadata": {
        "id": "eSq42BBa7dnH",
        "outputId": "b9af2cfb-7bfc-4a44-a19c-a12a05110465"
      },
      "source": [
        "fib_recursed(33)"
      ],
      "execution_count": null,
      "outputs": [
        {
          "output_type": "stream",
          "text": [
            "fib_recursed(33) took 1.058461s to run.\n"
          ],
          "name": "stdout"
        },
        {
          "output_type": "execute_result",
          "data": {
            "text/plain": [
              "3524578"
            ]
          },
          "metadata": {
            "tags": []
          },
          "execution_count": 6
        }
      ]
    },
    {
      "cell_type": "code",
      "metadata": {
        "id": "TuRy-2-R7dnL",
        "outputId": "ff2926e4-daf3-4a5f-abf4-a04556a00e1b"
      },
      "source": [
        "fib_recursed(34)"
      ],
      "execution_count": null,
      "outputs": [
        {
          "output_type": "stream",
          "text": [
            "fib_recursed(34) took 1.722162s to run.\n"
          ],
          "name": "stdout"
        },
        {
          "output_type": "execute_result",
          "data": {
            "text/plain": [
              "5702887"
            ]
          },
          "metadata": {
            "tags": []
          },
          "execution_count": 7
        }
      ]
    },
    {
      "cell_type": "code",
      "metadata": {
        "id": "VpD-dZiw7dnP",
        "outputId": "b9b9ef10-6fe6-4290-aead-216b12510582"
      },
      "source": [
        "fib_recursed(35)"
      ],
      "execution_count": null,
      "outputs": [
        {
          "output_type": "stream",
          "text": [
            "fib_recursed(35) took 2.758714s to run.\n"
          ],
          "name": "stdout"
        },
        {
          "output_type": "execute_result",
          "data": {
            "text/plain": [
              "9227465"
            ]
          },
          "metadata": {
            "tags": []
          },
          "execution_count": 8
        }
      ]
    },
    {
      "cell_type": "markdown",
      "metadata": {
        "id": "tBSZuP297dnS"
      },
      "source": [
        "There's a reason we did not decorate our recursive function directly!"
      ]
    },
    {
      "cell_type": "code",
      "metadata": {
        "id": "EIxERubm7dnT"
      },
      "source": [
        "@timed\n",
        "def fib_recursed_2(n):\n",
        "    if n <=2:\n",
        "        return 1\n",
        "    else:\n",
        "        return fib_recursed_2(n-1) + fib_recursed_2(n-2)"
      ],
      "execution_count": null,
      "outputs": []
    },
    {
      "cell_type": "code",
      "metadata": {
        "id": "30C5biWl7dnV",
        "outputId": "e91ebc49-4270-416a-eec4-24b5be826907"
      },
      "source": [
        "fib_recursed_2(10)"
      ],
      "execution_count": null,
      "outputs": [
        {
          "output_type": "stream",
          "text": [
            "fib_recursed_2(2) took 0.000000s to run.\n",
            "fib_recursed_2(1) took 0.000001s to run.\n",
            "fib_recursed_2(3) took 0.000172s to run.\n",
            "fib_recursed_2(2) took 0.000000s to run.\n",
            "fib_recursed_2(4) took 0.000212s to run.\n",
            "fib_recursed_2(2) took 0.000001s to run.\n",
            "fib_recursed_2(1) took 0.000000s to run.\n",
            "fib_recursed_2(3) took 0.000039s to run.\n",
            "fib_recursed_2(5) took 0.000289s to run.\n",
            "fib_recursed_2(2) took 0.000000s to run.\n",
            "fib_recursed_2(1) took 0.000000s to run.\n",
            "fib_recursed_2(3) took 0.000037s to run.\n",
            "fib_recursed_2(2) took 0.000000s to run.\n",
            "fib_recursed_2(4) took 0.000075s to run.\n",
            "fib_recursed_2(6) took 0.000399s to run.\n",
            "fib_recursed_2(2) took 0.000000s to run.\n",
            "fib_recursed_2(1) took 0.000000s to run.\n",
            "fib_recursed_2(3) took 0.000036s to run.\n",
            "fib_recursed_2(2) took 0.000000s to run.\n",
            "fib_recursed_2(4) took 0.000072s to run.\n",
            "fib_recursed_2(2) took 0.000000s to run.\n",
            "fib_recursed_2(1) took 0.000000s to run.\n",
            "fib_recursed_2(3) took 0.000039s to run.\n",
            "fib_recursed_2(5) took 0.000146s to run.\n",
            "fib_recursed_2(7) took 0.000581s to run.\n",
            "fib_recursed_2(2) took 0.000000s to run.\n",
            "fib_recursed_2(1) took 0.000000s to run.\n",
            "fib_recursed_2(3) took 0.000035s to run.\n",
            "fib_recursed_2(2) took 0.000000s to run.\n",
            "fib_recursed_2(4) took 0.000070s to run.\n",
            "fib_recursed_2(2) took 0.000000s to run.\n",
            "fib_recursed_2(1) took 0.000001s to run.\n",
            "fib_recursed_2(3) took 0.000033s to run.\n",
            "fib_recursed_2(5) took 0.000142s to run.\n",
            "fib_recursed_2(2) took 0.000000s to run.\n",
            "fib_recursed_2(1) took 0.000000s to run.\n",
            "fib_recursed_2(3) took 0.000034s to run.\n",
            "fib_recursed_2(2) took 0.000001s to run.\n",
            "fib_recursed_2(4) took 0.000067s to run.\n",
            "fib_recursed_2(6) took 0.000242s to run.\n",
            "fib_recursed_2(8) took 0.000859s to run.\n",
            "fib_recursed_2(2) took 0.000000s to run.\n",
            "fib_recursed_2(1) took 0.000000s to run.\n",
            "fib_recursed_2(3) took 0.000041s to run.\n",
            "fib_recursed_2(2) took 0.000000s to run.\n",
            "fib_recursed_2(4) took 0.000077s to run.\n",
            "fib_recursed_2(2) took 0.000000s to run.\n",
            "fib_recursed_2(1) took 0.000000s to run.\n",
            "fib_recursed_2(3) took 0.000036s to run.\n",
            "fib_recursed_2(5) took 0.000148s to run.\n",
            "fib_recursed_2(2) took 0.000000s to run.\n",
            "fib_recursed_2(1) took 0.000001s to run.\n",
            "fib_recursed_2(3) took 0.000035s to run.\n",
            "fib_recursed_2(2) took 0.000000s to run.\n",
            "fib_recursed_2(4) took 0.000070s to run.\n",
            "fib_recursed_2(6) took 0.000254s to run.\n",
            "fib_recursed_2(2) took 0.000000s to run.\n",
            "fib_recursed_2(1) took 0.000001s to run.\n",
            "fib_recursed_2(3) took 0.000035s to run.\n",
            "fib_recursed_2(2) took 0.000000s to run.\n",
            "fib_recursed_2(4) took 0.000071s to run.\n",
            "fib_recursed_2(2) took 0.000000s to run.\n",
            "fib_recursed_2(1) took 0.000000s to run.\n",
            "fib_recursed_2(3) took 0.000035s to run.\n",
            "fib_recursed_2(5) took 0.000141s to run.\n",
            "fib_recursed_2(7) took 0.000430s to run.\n",
            "fib_recursed_2(9) took 0.001630s to run.\n",
            "fib_recursed_2(2) took 0.000000s to run.\n",
            "fib_recursed_2(1) took 0.000000s to run.\n",
            "fib_recursed_2(3) took 0.000111s to run.\n",
            "fib_recursed_2(2) took 0.000001s to run.\n",
            "fib_recursed_2(4) took 0.000155s to run.\n",
            "fib_recursed_2(2) took 0.000000s to run.\n",
            "fib_recursed_2(1) took 0.000001s to run.\n",
            "fib_recursed_2(3) took 0.000035s to run.\n",
            "fib_recursed_2(5) took 0.000227s to run.\n",
            "fib_recursed_2(2) took 0.000000s to run.\n",
            "fib_recursed_2(1) took 0.000000s to run.\n",
            "fib_recursed_2(3) took 0.000037s to run.\n",
            "fib_recursed_2(2) took 0.000000s to run.\n",
            "fib_recursed_2(4) took 0.000078s to run.\n",
            "fib_recursed_2(6) took 0.000347s to run.\n",
            "fib_recursed_2(2) took 0.000000s to run.\n",
            "fib_recursed_2(1) took 0.000000s to run.\n",
            "fib_recursed_2(3) took 0.000034s to run.\n",
            "fib_recursed_2(2) took 0.000000s to run.\n",
            "fib_recursed_2(4) took 0.000074s to run.\n",
            "fib_recursed_2(2) took 0.000000s to run.\n",
            "fib_recursed_2(1) took 0.000000s to run.\n",
            "fib_recursed_2(3) took 0.000041s to run.\n",
            "fib_recursed_2(5) took 0.000154s to run.\n",
            "fib_recursed_2(7) took 0.000541s to run.\n",
            "fib_recursed_2(2) took 0.000000s to run.\n",
            "fib_recursed_2(1) took 0.000000s to run.\n",
            "fib_recursed_2(3) took 0.000037s to run.\n",
            "fib_recursed_2(2) took 0.000001s to run.\n",
            "fib_recursed_2(4) took 0.000074s to run.\n",
            "fib_recursed_2(2) took 0.000001s to run.\n",
            "fib_recursed_2(1) took 0.000001s to run.\n",
            "fib_recursed_2(3) took 0.000043s to run.\n",
            "fib_recursed_2(5) took 0.000154s to run.\n",
            "fib_recursed_2(2) took 0.000000s to run.\n",
            "fib_recursed_2(1) took 0.000001s to run.\n",
            "fib_recursed_2(3) took 0.000040s to run.\n",
            "fib_recursed_2(2) took 0.000001s to run.\n",
            "fib_recursed_2(4) took 0.000225s to run.\n",
            "fib_recursed_2(6) took 0.000416s to run.\n",
            "fib_recursed_2(8) took 0.000992s to run.\n",
            "fib_recursed_2(10) took 0.002711s to run.\n"
          ],
          "name": "stdout"
        },
        {
          "output_type": "execute_result",
          "data": {
            "text/plain": [
              "55"
            ]
          },
          "metadata": {
            "tags": []
          },
          "execution_count": 10
        }
      ]
    },
    {
      "cell_type": "markdown",
      "metadata": {
        "id": "czWdYJvD7dnY"
      },
      "source": [
        "Since we are calling the function recursively, we are actually calling the **decorated** function recursively. In this case I wanted the total time to calculate the n-th number, not the time for each recursion.\n",
        "\n",
        "You will notice from the above how inefficient the recursive method is: the same fibonacci numbers are calculated repeatedly! This is why as the value of `n` start increasing beyond 30 we start seeing considerable slow downs."
      ]
    },
    {
      "cell_type": "markdown",
      "metadata": {
        "id": "2Ifst_oe7dnZ"
      },
      "source": [
        "#### Using a Loop"
      ]
    },
    {
      "cell_type": "code",
      "metadata": {
        "id": "AahYsp7E7dna"
      },
      "source": [
        "@timed\n",
        "def fib_loop(n):\n",
        "    fib_1 = 1\n",
        "    fib_2 = 1\n",
        "    for i in range(3, n+1):\n",
        "        fib_1, fib_2 = fib_2, fib_1 + fib_2\n",
        "    return fib_2               "
      ],
      "execution_count": null,
      "outputs": []
    },
    {
      "cell_type": "code",
      "metadata": {
        "id": "0jQkEl8v7dnc",
        "outputId": "a893c883-c8c7-48ad-e522-f7cc563c86e7"
      },
      "source": [
        "fib_loop(3)"
      ],
      "execution_count": null,
      "outputs": [
        {
          "output_type": "stream",
          "text": [
            "fib_loop(3) took 0.000003s to run.\n"
          ],
          "name": "stdout"
        },
        {
          "output_type": "execute_result",
          "data": {
            "text/plain": [
              "2"
            ]
          },
          "metadata": {
            "tags": []
          },
          "execution_count": 12
        }
      ]
    },
    {
      "cell_type": "code",
      "metadata": {
        "id": "IsEUpBI97dnh",
        "outputId": "a6c489b5-e148-4eb2-deb0-dde52f4b6b24"
      },
      "source": [
        "fib_loop(6)"
      ],
      "execution_count": null,
      "outputs": [
        {
          "output_type": "stream",
          "text": [
            "fib_loop(6) took 0.000004s to run.\n"
          ],
          "name": "stdout"
        },
        {
          "output_type": "execute_result",
          "data": {
            "text/plain": [
              "8"
            ]
          },
          "metadata": {
            "tags": []
          },
          "execution_count": 13
        }
      ]
    },
    {
      "cell_type": "code",
      "metadata": {
        "id": "Nj0TjzBn7dnm",
        "outputId": "312887e3-ba60-4457-df1b-11019ef5a2b3"
      },
      "source": [
        "fib_loop(34)"
      ],
      "execution_count": null,
      "outputs": [
        {
          "output_type": "stream",
          "text": [
            "fib_loop(34) took 0.000006s to run.\n"
          ],
          "name": "stdout"
        },
        {
          "output_type": "execute_result",
          "data": {
            "text/plain": [
              "5702887"
            ]
          },
          "metadata": {
            "tags": []
          },
          "execution_count": 14
        }
      ]
    },
    {
      "cell_type": "code",
      "metadata": {
        "id": "CO9a2xl37dny",
        "outputId": "93bff8b2-3396-4fe2-b5c5-147a2cbd99fe"
      },
      "source": [
        "fib_loop(35)"
      ],
      "execution_count": null,
      "outputs": [
        {
          "output_type": "stream",
          "text": [
            "fib_loop(35) took 0.000007s to run.\n"
          ],
          "name": "stdout"
        },
        {
          "output_type": "execute_result",
          "data": {
            "text/plain": [
              "9227465"
            ]
          },
          "metadata": {
            "tags": []
          },
          "execution_count": 15
        }
      ]
    },
    {
      "cell_type": "markdown",
      "metadata": {
        "id": "uejxh2Xa7dn0"
      },
      "source": [
        "As you can see this method is much more efficient!"
      ]
    },
    {
      "cell_type": "markdown",
      "metadata": {
        "id": "s6zAV38J7dn0"
      },
      "source": [
        "#### Using  Reduce"
      ]
    },
    {
      "cell_type": "markdown",
      "metadata": {
        "id": "m77zZn1w7dn1"
      },
      "source": [
        "We first need to understand how we are going to calculate the Fibonnaci sequence using reduce: \n",
        "\n",
        "<pre>\n",
        "n=1:\n",
        "(1, 0) --> (1, 1)\n",
        "\n",
        "n=2:\n",
        "(1, 0) --> (1, 1) --> (1 + 1, 1) = (2, 1)  : result = 2 \n",
        "\n",
        "n=3\n",
        "(1, 0) --> (1, 1) --> (2, 1) --> (2+1, 2) = (3, 2)  : result = 3\n",
        "\n",
        "n=4\n",
        "(1, 0) --> (1, 1) --> (2, 1) --> (3, 2) --> (5, 3)  : result = 5\n",
        "</pre>\n",
        "\n",
        "In general each step in the reduction is as follows:\n",
        "\n",
        "<pre>\n",
        "previous value = (a, b)\n",
        "new value = (a+b, a)\n",
        "</pre>\n",
        "\n",
        "If we start our reduction with an initial value of `(1, 0)`, we need to run our \"loop\" n times.\n",
        "\n",
        "We therefore use a \"dummy\" sequence of length `n` to create `n` steps in our reduce.\n"
      ]
    },
    {
      "cell_type": "code",
      "metadata": {
        "id": "1s0OAA3Y7dn2"
      },
      "source": [
        "from functools import reduce\n",
        "\n",
        "@timed\n",
        "def fib_reduce(n):\n",
        "    initial = (1, 0)\n",
        "    dummy = range(n)\n",
        "    fib_n = reduce(lambda prev, n: (prev[0] + prev[1], prev[0]), \n",
        "                   dummy, \n",
        "                   initial)\n",
        "    return fib_n[0]                  "
      ],
      "execution_count": null,
      "outputs": []
    },
    {
      "cell_type": "code",
      "metadata": {
        "id": "cYtGhb8H7dn6",
        "outputId": "6cdf4cc0-a698-42f4-a122-de85342c0e4b"
      },
      "source": [
        "fib_reduce(3)"
      ],
      "execution_count": null,
      "outputs": [
        {
          "output_type": "stream",
          "text": [
            "fib_reduce(3) took 0.000007s to run.\n"
          ],
          "name": "stdout"
        },
        {
          "output_type": "execute_result",
          "data": {
            "text/plain": [
              "3"
            ]
          },
          "metadata": {
            "tags": []
          },
          "execution_count": 17
        }
      ]
    },
    {
      "cell_type": "code",
      "metadata": {
        "id": "cwaSmH8M7dn8",
        "outputId": "eac232f5-98d8-492f-bac9-8ca3357128c4"
      },
      "source": [
        "fib_reduce(6)"
      ],
      "execution_count": null,
      "outputs": [
        {
          "output_type": "stream",
          "text": [
            "fib_reduce(6) took 0.000007s to run.\n"
          ],
          "name": "stdout"
        },
        {
          "output_type": "execute_result",
          "data": {
            "text/plain": [
              "13"
            ]
          },
          "metadata": {
            "tags": []
          },
          "execution_count": 18
        }
      ]
    },
    {
      "cell_type": "code",
      "metadata": {
        "id": "MQGsJZpO7dn_",
        "outputId": "4594207c-a534-43d8-d2fa-0fc8af635b1e"
      },
      "source": [
        "fib_reduce(34)"
      ],
      "execution_count": null,
      "outputs": [
        {
          "output_type": "stream",
          "text": [
            "fib_reduce(34) took 0.000014s to run.\n"
          ],
          "name": "stdout"
        },
        {
          "output_type": "execute_result",
          "data": {
            "text/plain": [
              "9227465"
            ]
          },
          "metadata": {
            "tags": []
          },
          "execution_count": 19
        }
      ]
    },
    {
      "cell_type": "code",
      "metadata": {
        "id": "eqmQ9fMd7doC",
        "outputId": "86f94b69-bd92-4f01-e0f2-34169673c47f"
      },
      "source": [
        "fib_reduce(35)"
      ],
      "execution_count": null,
      "outputs": [
        {
          "output_type": "stream",
          "text": [
            "fib_reduce(35) took 0.000014s to run.\n"
          ],
          "name": "stdout"
        },
        {
          "output_type": "execute_result",
          "data": {
            "text/plain": [
              "14930352"
            ]
          },
          "metadata": {
            "tags": []
          },
          "execution_count": 20
        }
      ]
    },
    {
      "cell_type": "markdown",
      "metadata": {
        "id": "cMqeT6MY7doF"
      },
      "source": [
        "Now we can run a quick comparison between the various timed implementations:"
      ]
    },
    {
      "cell_type": "code",
      "metadata": {
        "id": "CtxV_ZrQ7doF",
        "outputId": "89d3325e-6789-45ee-b8f6-57a3d5043bb2"
      },
      "source": [
        "fib_recursed(35)\n",
        "fib_loop(35)\n",
        "fib_reduce(35)"
      ],
      "execution_count": null,
      "outputs": [
        {
          "output_type": "stream",
          "text": [
            "fib_recursed(35) took 2.766611s to run.\n",
            "fib_loop(35) took 0.000006s to run.\n",
            "fib_reduce(35) took 0.000012s to run.\n"
          ],
          "name": "stdout"
        },
        {
          "output_type": "execute_result",
          "data": {
            "text/plain": [
              "14930352"
            ]
          },
          "metadata": {
            "tags": []
          },
          "execution_count": 21
        }
      ]
    },
    {
      "cell_type": "markdown",
      "metadata": {
        "id": "Y_1HotgI7doH"
      },
      "source": [
        "Even though the recursive algorithm is by far the easiest to understand, it is also the slowest. We'll see how to fix this in an upcoming video using a technique called **memoization**."
      ]
    },
    {
      "cell_type": "markdown",
      "metadata": {
        "id": "VwE_qwrg7doI"
      },
      "source": [
        "First let's focus on the loop and reduce variants. Our timing is not very effective since we only time a single calculation for each - there could be some variance if we run these tests multiple times:"
      ]
    },
    {
      "cell_type": "code",
      "metadata": {
        "id": "eIG0Mzk77doI",
        "outputId": "2b974300-3339-4ca2-f80c-2e6c766e603f"
      },
      "source": [
        "for i in range(10):\n",
        "    result =  fib_loop(10000)"
      ],
      "execution_count": null,
      "outputs": [
        {
          "output_type": "stream",
          "text": [
            "fib_loop(10000) took 0.002132s to run.\n",
            "fib_loop(10000) took 0.002054s to run.\n",
            "fib_loop(10000) took 0.002025s to run.\n",
            "fib_loop(10000) took 0.002049s to run.\n",
            "fib_loop(10000) took 0.002031s to run.\n",
            "fib_loop(10000) took 0.002022s to run.\n",
            "fib_loop(10000) took 0.002030s to run.\n",
            "fib_loop(10000) took 0.002039s to run.\n",
            "fib_loop(10000) took 0.002075s to run.\n",
            "fib_loop(10000) took 0.002062s to run.\n"
          ],
          "name": "stdout"
        }
      ]
    },
    {
      "cell_type": "code",
      "metadata": {
        "id": "lEswnZlI7doL",
        "outputId": "5e9e9085-cb84-4f42-f7b4-e41fe6c0c0d7"
      },
      "source": [
        "for i in range(10):\n",
        "    result = fib_reduce(10000)"
      ],
      "execution_count": null,
      "outputs": [
        {
          "output_type": "stream",
          "text": [
            "fib_reduce(10000) took 0.004158s to run.\n",
            "fib_reduce(10000) took 0.004004s to run.\n",
            "fib_reduce(10000) took 0.004005s to run.\n",
            "fib_reduce(10000) took 0.004098s to run.\n",
            "fib_reduce(10000) took 0.004070s to run.\n",
            "fib_reduce(10000) took 0.004074s to run.\n",
            "fib_reduce(10000) took 0.004075s to run.\n",
            "fib_reduce(10000) took 0.004083s to run.\n",
            "fib_reduce(10000) took 0.004023s to run.\n",
            "fib_reduce(10000) took 0.003986s to run.\n"
          ],
          "name": "stdout"
        }
      ]
    },
    {
      "cell_type": "markdown",
      "metadata": {
        "id": "xjYSHDPq7doN"
      },
      "source": [
        "In general it is better to time the same function call multiple times and generate and average of the run times.\n",
        "\n",
        "We'll see in an upcoming video how we can do this from within our decorator."
      ]
    },
    {
      "cell_type": "markdown",
      "metadata": {
        "id": "L36C-hAa7doP"
      },
      "source": [
        "In the meantime observe that the simple loop approach seems to perform about twice as fast as the reduce approach!!\n",
        "\n",
        "The moral of this side note is that simply because you **can** do something in  Python using some fancy or cool technique does not mean you **should**!"
      ]
    },
    {
      "cell_type": "markdown",
      "metadata": {
        "id": "EVT2iFBd7doP"
      },
      "source": [
        "We technically could write our reduce-based function as a one liner:"
      ]
    },
    {
      "cell_type": "code",
      "metadata": {
        "id": "e_6cViza7doP"
      },
      "source": [
        "from functools import reduce \n",
        "\n",
        "fib_1 = timed(lambda n: reduce(lambda prev, n: (prev[0] + prev[1], prev[0]),\n",
        "                               range(n), \n",
        "                               (0, 1))[0])"
      ],
      "execution_count": null,
      "outputs": []
    },
    {
      "cell_type": "code",
      "metadata": {
        "id": "6XTyalp97doS",
        "outputId": "0760669c-45b9-4aef-bd3c-14f14a0aee5d"
      },
      "source": [
        "fib_loop(100)"
      ],
      "execution_count": null,
      "outputs": [
        {
          "output_type": "stream",
          "text": [
            "fib_loop(100) took 0.000010s to run.\n"
          ],
          "name": "stdout"
        },
        {
          "output_type": "execute_result",
          "data": {
            "text/plain": [
              "354224848179261915075"
            ]
          },
          "metadata": {
            "tags": []
          },
          "execution_count": 25
        }
      ]
    },
    {
      "cell_type": "code",
      "metadata": {
        "id": "u1N-uRXx7doV",
        "outputId": "e8c760de-4f93-44bc-ab8f-c0e0252d96c0"
      },
      "source": [
        "fib_1(100)"
      ],
      "execution_count": null,
      "outputs": [
        {
          "output_type": "stream",
          "text": [
            "<lambda>(100) took 0.000032s to run.\n"
          ],
          "name": "stdout"
        },
        {
          "output_type": "execute_result",
          "data": {
            "text/plain": [
              "354224848179261915075"
            ]
          },
          "metadata": {
            "tags": []
          },
          "execution_count": 26
        }
      ]
    },
    {
      "cell_type": "markdown",
      "metadata": {
        "id": "4oPOXkxI7doX"
      },
      "source": [
        "So yes, it's cool that you can write this using a single line of code, but consider two things here:\n",
        "1. Is it as efficient as another method?\n",
        "2. Is the code **readable**?\n",
        "\n",
        "Code readability is something I cannot emphasize enough. Given similar efficiencies (cpu / mempory), give preference to code that is more easily understandable!\n",
        "\n",
        "Sometimes, if the efficiency is not greatly impacted (or does not matter in absolute terms), I might even give preference to less efficient, but more readable (i.e. understanbdable), code.\n",
        "\n",
        "But enough of the soapbox already :-)"
      ]
    }
  ]
}