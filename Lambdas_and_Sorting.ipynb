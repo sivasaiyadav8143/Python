{
  "nbformat": 4,
  "nbformat_minor": 0,
  "metadata": {
    "kernelspec": {
      "display_name": "Python 3",
      "language": "python",
      "name": "python3"
    },
    "language_info": {
      "codemirror_mode": {
        "name": "ipython",
        "version": 3
      },
      "file_extension": ".py",
      "mimetype": "text/x-python",
      "name": "python",
      "nbconvert_exporter": "python",
      "pygments_lexer": "ipython3",
      "version": "3.6.2"
    },
    "colab": {
      "name": "Lambdas and Sorting.ipynb",
      "provenance": [],
      "include_colab_link": true
    }
  },
  "cells": [
    {
      "cell_type": "markdown",
      "metadata": {
        "id": "view-in-github",
        "colab_type": "text"
      },
      "source": [
        "<a href=\"https://colab.research.google.com/github/sivasaiyadav8143/Python/blob/master/Lambdas_and_Sorting.ipynb\" target=\"_parent\"><img src=\"https://colab.research.google.com/assets/colab-badge.svg\" alt=\"Open In Colab\"/></a>"
      ]
    },
    {
      "cell_type": "markdown",
      "metadata": {
        "id": "EAwH9poUFHCX",
        "colab_type": "text"
      },
      "source": [
        "### Lambdas and Sorting"
      ]
    },
    {
      "cell_type": "markdown",
      "metadata": {
        "id": "xIb70mpkFHCY",
        "colab_type": "text"
      },
      "source": [
        "Python has a built-in **sorted** method that can be used to sort any iterable. It will use the default ordering of the particular items, but sometimes you may want to (or need to) specify a different criteria for sorting."
      ]
    },
    {
      "cell_type": "markdown",
      "metadata": {
        "id": "NFqD6dVwFHCY",
        "colab_type": "text"
      },
      "source": [
        "Let's start with a simple list:"
      ]
    },
    {
      "cell_type": "code",
      "metadata": {
        "id": "OrahoMizFHCZ",
        "colab_type": "code",
        "colab": {}
      },
      "source": [
        "l = ['a', 'B', 'c', 'D']"
      ],
      "execution_count": null,
      "outputs": []
    },
    {
      "cell_type": "code",
      "metadata": {
        "id": "7neoECPZFHCd",
        "colab_type": "code",
        "colab": {},
        "outputId": "81fe6c7f-8eab-4a77-f2b5-b42c7cb6e946"
      },
      "source": [
        "sorted(l)"
      ],
      "execution_count": null,
      "outputs": [
        {
          "output_type": "execute_result",
          "data": {
            "text/plain": [
              "['B', 'D', 'a', 'c']"
            ]
          },
          "metadata": {
            "tags": []
          },
          "execution_count": 2
        }
      ]
    },
    {
      "cell_type": "markdown",
      "metadata": {
        "id": "68f4zNywFHCg",
        "colab_type": "text"
      },
      "source": [
        "As you can see there is a difference between upper and lower-case characters when sorting strings.\n",
        "\n",
        "What if we wanted to make a case-insensitive sort?\n",
        "\n",
        "Python's **sorted** function kas a keyword-only argument that allows us to modify the values that are used to sort the list."
      ]
    },
    {
      "cell_type": "code",
      "metadata": {
        "id": "RpIPrkKTFHCh",
        "colab_type": "code",
        "colab": {},
        "outputId": "004850ed-f64d-482c-9c68-068048c3c6ad"
      },
      "source": [
        "sorted(l, key=str.upper)"
      ],
      "execution_count": null,
      "outputs": [
        {
          "output_type": "execute_result",
          "data": {
            "text/plain": [
              "['a', 'B', 'c', 'D']"
            ]
          },
          "metadata": {
            "tags": []
          },
          "execution_count": 3
        }
      ]
    },
    {
      "cell_type": "markdown",
      "metadata": {
        "id": "NMPtQ00XFHCl",
        "colab_type": "text"
      },
      "source": [
        "We could have used a lambda here (but you should not, this is just to illustrate using a lambda in this case):"
      ]
    },
    {
      "cell_type": "code",
      "metadata": {
        "id": "c_tl1wMfFHCm",
        "colab_type": "code",
        "colab": {},
        "outputId": "10f3cd65-9d06-4eaf-a379-46adbace4d78"
      },
      "source": [
        "sorted(l, key = lambda s: s.upper())"
      ],
      "execution_count": null,
      "outputs": [
        {
          "output_type": "execute_result",
          "data": {
            "text/plain": [
              "['a', 'B', 'c', 'D']"
            ]
          },
          "metadata": {
            "tags": []
          },
          "execution_count": 4
        }
      ]
    },
    {
      "cell_type": "markdown",
      "metadata": {
        "id": "D0YFj_qtFHCp",
        "colab_type": "text"
      },
      "source": [
        "Let's look at how we might create a sorted list from a dictionary:"
      ]
    },
    {
      "cell_type": "code",
      "metadata": {
        "id": "lQqMPILTFHCp",
        "colab_type": "code",
        "colab": {}
      },
      "source": [
        "d = {'def': 300, 'abc': 200, 'ghi': 100}"
      ],
      "execution_count": null,
      "outputs": []
    },
    {
      "cell_type": "code",
      "metadata": {
        "id": "VvvUd28oFHCs",
        "colab_type": "code",
        "colab": {},
        "outputId": "51856fff-0844-4f7c-eea0-89e3cad02dc7"
      },
      "source": [
        "d"
      ],
      "execution_count": null,
      "outputs": [
        {
          "output_type": "execute_result",
          "data": {
            "text/plain": [
              "{'abc': 200, 'def': 300, 'ghi': 100}"
            ]
          },
          "metadata": {
            "tags": []
          },
          "execution_count": 6
        }
      ]
    },
    {
      "cell_type": "code",
      "metadata": {
        "id": "ClEbr9mqFHCv",
        "colab_type": "code",
        "colab": {},
        "outputId": "431700c3-c62f-4f61-8cc6-d17b0cc30b18"
      },
      "source": [
        "sorted(d)"
      ],
      "execution_count": null,
      "outputs": [
        {
          "output_type": "execute_result",
          "data": {
            "text/plain": [
              "['abc', 'def', 'ghi']"
            ]
          },
          "metadata": {
            "tags": []
          },
          "execution_count": 7
        }
      ]
    },
    {
      "cell_type": "markdown",
      "metadata": {
        "id": "v0dCPfMPFHCy",
        "colab_type": "text"
      },
      "source": [
        "What happened here? \n",
        "\n",
        "Remember that iterating dictionaries actually iterates the keys - so we ended up with tyhe keys sorted alphabetically.\n",
        "\n",
        "What if we want to return the keys sorted by their associated value instead?"
      ]
    },
    {
      "cell_type": "code",
      "metadata": {
        "id": "RF9Wisx_FHCy",
        "colab_type": "code",
        "colab": {},
        "outputId": "4ec8579b-c345-4acc-d46b-c4e02d91a78c"
      },
      "source": [
        "sorted(d, key=lambda k: d[k])"
      ],
      "execution_count": null,
      "outputs": [
        {
          "output_type": "execute_result",
          "data": {
            "text/plain": [
              "['ghi', 'abc', 'def']"
            ]
          },
          "metadata": {
            "tags": []
          },
          "execution_count": 8
        }
      ]
    },
    {
      "cell_type": "markdown",
      "metadata": {
        "id": "8gcTVTmSFHC0",
        "colab_type": "text"
      },
      "source": [
        "Maybe we want to sort complex numbers based on their distance from the origin:"
      ]
    },
    {
      "cell_type": "code",
      "metadata": {
        "id": "c6fo5EFjFHC1",
        "colab_type": "code",
        "colab": {}
      },
      "source": [
        "def dist(x):\n",
        "    return (x.real)**2 + (x.imag)**2"
      ],
      "execution_count": null,
      "outputs": []
    },
    {
      "cell_type": "code",
      "metadata": {
        "id": "Cf_79sTOFHC3",
        "colab_type": "code",
        "colab": {}
      },
      "source": [
        "l = [3+3j, 1+1j, 0]"
      ],
      "execution_count": null,
      "outputs": []
    },
    {
      "cell_type": "markdown",
      "metadata": {
        "id": "b8vKH3OIFHC6",
        "colab_type": "text"
      },
      "source": [
        "Trying to sort this list directly won't work since Python does not have an ordering defined for complex numbers:"
      ]
    },
    {
      "cell_type": "code",
      "metadata": {
        "id": "5Tn2j_OeFHC7",
        "colab_type": "code",
        "colab": {},
        "outputId": "a0861def-619f-4a8b-a4bb-5528288d9e48"
      },
      "source": [
        "sorted(l)"
      ],
      "execution_count": null,
      "outputs": [
        {
          "output_type": "error",
          "ename": "TypeError",
          "evalue": "'<' not supported between instances of 'complex' and 'complex'",
          "traceback": [
            "\u001b[1;31m---------------------------------------------------------------------------\u001b[0m",
            "\u001b[1;31mTypeError\u001b[0m                                 Traceback (most recent call last)",
            "\u001b[1;32m<ipython-input-11-5ed0ddfda5a6>\u001b[0m in \u001b[0;36m<module>\u001b[1;34m()\u001b[0m\n\u001b[1;32m----> 1\u001b[1;33m \u001b[0msorted\u001b[0m\u001b[1;33m(\u001b[0m\u001b[0ml\u001b[0m\u001b[1;33m)\u001b[0m\u001b[1;33m\u001b[0m\u001b[0m\n\u001b[0m",
            "\u001b[1;31mTypeError\u001b[0m: '<' not supported between instances of 'complex' and 'complex'"
          ]
        }
      ]
    },
    {
      "cell_type": "markdown",
      "metadata": {
        "id": "-uyqk4Q2FHC9",
        "colab_type": "text"
      },
      "source": [
        "Instead, let's try to specify the key using the distance:"
      ]
    },
    {
      "cell_type": "code",
      "metadata": {
        "id": "LBxCBXbaFHC-",
        "colab_type": "code",
        "colab": {},
        "outputId": "e3192cee-82b9-4e3d-e7a4-580f55eca63c"
      },
      "source": [
        "sorted(l, key=dist)"
      ],
      "execution_count": null,
      "outputs": [
        {
          "output_type": "execute_result",
          "data": {
            "text/plain": [
              "[0, (1+1j), (3+3j)]"
            ]
          },
          "metadata": {
            "tags": []
          },
          "execution_count": 12
        }
      ]
    },
    {
      "cell_type": "markdown",
      "metadata": {
        "id": "vlnj5bbhFHDA",
        "colab_type": "text"
      },
      "source": [
        "Of course, if we're only going to use the **dist** function once, we can just do the same thing this way:"
      ]
    },
    {
      "cell_type": "code",
      "metadata": {
        "id": "86yllAACFHDB",
        "colab_type": "code",
        "colab": {},
        "outputId": "8f124e61-b67a-40a1-fc71-12440db8a8b3"
      },
      "source": [
        "sorted(l, key=lambda x: (x.real)**2 + (x.imag)**2)"
      ],
      "execution_count": null,
      "outputs": [
        {
          "output_type": "execute_result",
          "data": {
            "text/plain": [
              "[0, (1+1j), (3+3j)]"
            ]
          },
          "metadata": {
            "tags": []
          },
          "execution_count": 13
        }
      ]
    },
    {
      "cell_type": "markdown",
      "metadata": {
        "id": "XguPmPPTFHDD",
        "colab_type": "text"
      },
      "source": [
        "And here's another example where we want to sort a list of strings based on the **last character** of the string:"
      ]
    },
    {
      "cell_type": "code",
      "metadata": {
        "id": "bgYfwSLKFHDE",
        "colab_type": "code",
        "colab": {}
      },
      "source": [
        "l = ['Cleese', 'Idle', 'Palin', 'Chapman', 'Gilliam', 'Jones']"
      ],
      "execution_count": null,
      "outputs": []
    },
    {
      "cell_type": "code",
      "metadata": {
        "id": "bI4fbuFhFHDG",
        "colab_type": "code",
        "colab": {},
        "outputId": "07cec385-b09b-4fa1-a81e-25d8b532161e"
      },
      "source": [
        "sorted(l)"
      ],
      "execution_count": null,
      "outputs": [
        {
          "output_type": "execute_result",
          "data": {
            "text/plain": [
              "['Chapman', 'Cleese', 'Gilliam', 'Idle', 'Jones', 'Palin']"
            ]
          },
          "metadata": {
            "tags": []
          },
          "execution_count": 15
        }
      ]
    },
    {
      "cell_type": "code",
      "metadata": {
        "id": "spV9eR1dFHDJ",
        "colab_type": "code",
        "colab": {},
        "outputId": "8edf3e2a-85a6-4b20-8cdf-3250a5dd0bc1"
      },
      "source": [
        "sorted(l, key=lambda s: s[-1])"
      ],
      "execution_count": null,
      "outputs": [
        {
          "output_type": "execute_result",
          "data": {
            "text/plain": [
              "['Cleese', 'Idle', 'Gilliam', 'Palin', 'Chapman', 'Jones']"
            ]
          },
          "metadata": {
            "tags": []
          },
          "execution_count": 16
        }
      ]
    }
  ]
}